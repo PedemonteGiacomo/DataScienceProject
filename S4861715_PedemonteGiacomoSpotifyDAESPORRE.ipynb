{
  "nbformat": 4,
  "nbformat_minor": 0,
  "metadata": {
    "colab": {
      "name": "S4861715_PedemonteGiacomoSpotify.ipynb",
      "provenance": [],
      "collapsed_sections": [],
      "include_colab_link": true
    },
    "kernelspec": {
      "name": "python3",
      "display_name": "Python 3"
    },
    "language_info": {
      "name": "python"
    }
  },
  "cells": [
    {
      "cell_type": "markdown",
      "metadata": {
        "id": "view-in-github",
        "colab_type": "text"
      },
      "source": [
        "<a href=\"https://colab.research.google.com/github/PedemonteGiacomo/DataScienceProject/blob/main/S4861715_PedemonteGiacomoSpotifyDAESPORRE.ipynb\" target=\"_parent\"><img src=\"https://colab.research.google.com/assets/colab-badge.svg\" alt=\"Open In Colab\"/></a>"
      ]
    },
    {
      "cell_type": "markdown",
      "source": [
        "# ***Progetto Introduzione alla Data Science***\n"
      ],
      "metadata": {
        "id": "juqGtb2-W5q4"
      }
    },
    {
      "cell_type": "markdown",
      "source": [
        "\n",
        "***Pedemonte Giacomo S4861715***\n",
        "\n",
        "Progetto basato sull'analisi del dataset top50 globale di Spotify alla ricerca della \"ricetta\" perfetta per una canzone di successo.\n",
        "\n",
        "Andremo ad analizzare le caratteristiche delle canzoni a nostra disposizione, le quali sono alcune delle più famose proprio del 2019(anno di uscita della playlist in questione).\n",
        "\n",
        "Cosa caratterizza queste canzoni?\n",
        "Come si potrebbe assegnare un genere ad una canzone di cui disponiamo solo delle caratteristiche?\n",
        "Come si potrebbe predire la popolarità di una canzone di cui conosciamo solo determinati attributi?\n",
        "\n",
        "Bisogna comunque dire per avere una maggiore consapevolezza, che non si può estrapolare la \"ricetta perfetta\" per la canzone di successo dato che non sono solo questi attributi che rendono più o meno popolare una canzone o meglio posizionata in classifica (e questo lo vedremo proprio data la non troppa correlazione dei dati in analisi)."
      ],
      "metadata": {
        "id": "8qbecwc3J1ji"
      }
    },
    {
      "cell_type": "markdown",
      "source": [
        "***Importazione librerie per ambiente di lavoro:***"
      ],
      "metadata": {
        "id": "lAJvODgpM1O5"
      }
    },
    {
      "cell_type": "markdown",
      "source": [
        "**Nota:** eseguire con \"Riavvia ed esegui\" 2 volte per installare scipy alla versione più recente (altrimenti la alternative dei t-test riportati non funzionerà)."
      ],
      "metadata": {
        "id": "_ryyomJwG5G-"
      }
    },
    {
      "cell_type": "code",
      "execution_count": null,
      "metadata": {
        "colab": {
          "base_uri": "https://localhost:8080/"
        },
        "id": "NjTQV6iUUPlk",
        "outputId": "a63f3970-1e4a-4afd-a59b-b9bc724bccc8"
      },
      "outputs": [
        {
          "output_type": "stream",
          "name": "stdout",
          "text": [
            "Looking in indexes: https://pypi.org/simple, https://us-python.pkg.dev/colab-wheels/public/simple/\n",
            "Requirement already satisfied: scipy==1.7.0 in /usr/local/lib/python3.7/dist-packages (1.7.0)\n",
            "Requirement already satisfied: numpy<1.23.0,>=1.16.5 in /usr/local/lib/python3.7/dist-packages (from scipy==1.7.0) (1.21.6)\n",
            "1.7.0\n"
          ]
        }
      ],
      "source": [
        "from sklearn import metrics\n",
        "from sklearn.model_selection import train_test_split\n",
        "import plotly.express as px\n",
        "import pandas as pd \n",
        "import matplotlib.pyplot as plt \n",
        "import numpy as np\n",
        "!pip install scipy==1.7.0\n",
        "import scipy.stats as stats\n",
        "import scipy\n",
        "print (scipy.__version__)"
      ]
    },
    {
      "cell_type": "markdown",
      "source": [
        "****Analisi ed estrazione dei Dati****\n",
        "\n"
      ],
      "metadata": {
        "id": "2Ku6StYFXnyx"
      }
    },
    {
      "cell_type": "markdown",
      "source": [
        "Importazione e visualizzazione della \"testa\" del database contenente la playlist spotify: top50 del 2019.\n",
        "\n",
        "\n",
        "\n"
      ],
      "metadata": {
        "id": "B9uW-x6gUgVn"
      }
    },
    {
      "cell_type": "code",
      "source": [
        "top50 = pd.read_csv('top50.csv')\n",
        "top50.head()"
      ],
      "metadata": {
        "colab": {
          "base_uri": "https://localhost:8080/",
          "height": 206
        },
        "id": "dGTNkU33U67r",
        "outputId": "d972f71e-6fe1-4bcb-d78a-44022f597723"
      },
      "execution_count": null,
      "outputs": [
        {
          "output_type": "execute_result",
          "data": {
            "text/plain": [
              "   Position                       Track.Name    Artist.Name           Genre  \\\n",
              "0         1                         Senorita   Shawn Mendes    canadian pop   \n",
              "1         2                            China       Anuel AA  reggaeton flow   \n",
              "2         3    boyfriend (with Social House)  Ariana Grande       dance pop   \n",
              "3         4  Beautiful People (feat. Khalid)     Ed Sheeran             pop   \n",
              "4         5      Goodbyes (Feat. Young Thug)    Post Malone         dfw rap   \n",
              "\n",
              "   Beats.Per.Minute  Energy  Danceability  Loudness..dB..  Liveness  Valence.  \\\n",
              "0               117      55            76              -6         8        75   \n",
              "1               105      81            79              -4         8        61   \n",
              "2               190      80            40              -4        16        70   \n",
              "3                93      65            64              -8         8        55   \n",
              "4               150      65            58              -4        11        18   \n",
              "\n",
              "   Length.  Acousticness..  Speechiness.  Popularity  \n",
              "0      191               4             3          79  \n",
              "1      302               8             9          92  \n",
              "2      186              12            46          85  \n",
              "3      198              12            19          86  \n",
              "4      175              45             7          94  "
            ],
            "text/html": [
              "\n",
              "  <div id=\"df-01358755-d263-4f01-952e-9dbc8590bcf7\">\n",
              "    <div class=\"colab-df-container\">\n",
              "      <div>\n",
              "<style scoped>\n",
              "    .dataframe tbody tr th:only-of-type {\n",
              "        vertical-align: middle;\n",
              "    }\n",
              "\n",
              "    .dataframe tbody tr th {\n",
              "        vertical-align: top;\n",
              "    }\n",
              "\n",
              "    .dataframe thead th {\n",
              "        text-align: right;\n",
              "    }\n",
              "</style>\n",
              "<table border=\"1\" class=\"dataframe\">\n",
              "  <thead>\n",
              "    <tr style=\"text-align: right;\">\n",
              "      <th></th>\n",
              "      <th>Position</th>\n",
              "      <th>Track.Name</th>\n",
              "      <th>Artist.Name</th>\n",
              "      <th>Genre</th>\n",
              "      <th>Beats.Per.Minute</th>\n",
              "      <th>Energy</th>\n",
              "      <th>Danceability</th>\n",
              "      <th>Loudness..dB..</th>\n",
              "      <th>Liveness</th>\n",
              "      <th>Valence.</th>\n",
              "      <th>Length.</th>\n",
              "      <th>Acousticness..</th>\n",
              "      <th>Speechiness.</th>\n",
              "      <th>Popularity</th>\n",
              "    </tr>\n",
              "  </thead>\n",
              "  <tbody>\n",
              "    <tr>\n",
              "      <th>0</th>\n",
              "      <td>1</td>\n",
              "      <td>Senorita</td>\n",
              "      <td>Shawn Mendes</td>\n",
              "      <td>canadian pop</td>\n",
              "      <td>117</td>\n",
              "      <td>55</td>\n",
              "      <td>76</td>\n",
              "      <td>-6</td>\n",
              "      <td>8</td>\n",
              "      <td>75</td>\n",
              "      <td>191</td>\n",
              "      <td>4</td>\n",
              "      <td>3</td>\n",
              "      <td>79</td>\n",
              "    </tr>\n",
              "    <tr>\n",
              "      <th>1</th>\n",
              "      <td>2</td>\n",
              "      <td>China</td>\n",
              "      <td>Anuel AA</td>\n",
              "      <td>reggaeton flow</td>\n",
              "      <td>105</td>\n",
              "      <td>81</td>\n",
              "      <td>79</td>\n",
              "      <td>-4</td>\n",
              "      <td>8</td>\n",
              "      <td>61</td>\n",
              "      <td>302</td>\n",
              "      <td>8</td>\n",
              "      <td>9</td>\n",
              "      <td>92</td>\n",
              "    </tr>\n",
              "    <tr>\n",
              "      <th>2</th>\n",
              "      <td>3</td>\n",
              "      <td>boyfriend (with Social House)</td>\n",
              "      <td>Ariana Grande</td>\n",
              "      <td>dance pop</td>\n",
              "      <td>190</td>\n",
              "      <td>80</td>\n",
              "      <td>40</td>\n",
              "      <td>-4</td>\n",
              "      <td>16</td>\n",
              "      <td>70</td>\n",
              "      <td>186</td>\n",
              "      <td>12</td>\n",
              "      <td>46</td>\n",
              "      <td>85</td>\n",
              "    </tr>\n",
              "    <tr>\n",
              "      <th>3</th>\n",
              "      <td>4</td>\n",
              "      <td>Beautiful People (feat. Khalid)</td>\n",
              "      <td>Ed Sheeran</td>\n",
              "      <td>pop</td>\n",
              "      <td>93</td>\n",
              "      <td>65</td>\n",
              "      <td>64</td>\n",
              "      <td>-8</td>\n",
              "      <td>8</td>\n",
              "      <td>55</td>\n",
              "      <td>198</td>\n",
              "      <td>12</td>\n",
              "      <td>19</td>\n",
              "      <td>86</td>\n",
              "    </tr>\n",
              "    <tr>\n",
              "      <th>4</th>\n",
              "      <td>5</td>\n",
              "      <td>Goodbyes (Feat. Young Thug)</td>\n",
              "      <td>Post Malone</td>\n",
              "      <td>dfw rap</td>\n",
              "      <td>150</td>\n",
              "      <td>65</td>\n",
              "      <td>58</td>\n",
              "      <td>-4</td>\n",
              "      <td>11</td>\n",
              "      <td>18</td>\n",
              "      <td>175</td>\n",
              "      <td>45</td>\n",
              "      <td>7</td>\n",
              "      <td>94</td>\n",
              "    </tr>\n",
              "  </tbody>\n",
              "</table>\n",
              "</div>\n",
              "      <button class=\"colab-df-convert\" onclick=\"convertToInteractive('df-01358755-d263-4f01-952e-9dbc8590bcf7')\"\n",
              "              title=\"Convert this dataframe to an interactive table.\"\n",
              "              style=\"display:none;\">\n",
              "        \n",
              "  <svg xmlns=\"http://www.w3.org/2000/svg\" height=\"24px\"viewBox=\"0 0 24 24\"\n",
              "       width=\"24px\">\n",
              "    <path d=\"M0 0h24v24H0V0z\" fill=\"none\"/>\n",
              "    <path d=\"M18.56 5.44l.94 2.06.94-2.06 2.06-.94-2.06-.94-.94-2.06-.94 2.06-2.06.94zm-11 1L8.5 8.5l.94-2.06 2.06-.94-2.06-.94L8.5 2.5l-.94 2.06-2.06.94zm10 10l.94 2.06.94-2.06 2.06-.94-2.06-.94-.94-2.06-.94 2.06-2.06.94z\"/><path d=\"M17.41 7.96l-1.37-1.37c-.4-.4-.92-.59-1.43-.59-.52 0-1.04.2-1.43.59L10.3 9.45l-7.72 7.72c-.78.78-.78 2.05 0 2.83L4 21.41c.39.39.9.59 1.41.59.51 0 1.02-.2 1.41-.59l7.78-7.78 2.81-2.81c.8-.78.8-2.07 0-2.86zM5.41 20L4 18.59l7.72-7.72 1.47 1.35L5.41 20z\"/>\n",
              "  </svg>\n",
              "      </button>\n",
              "      \n",
              "  <style>\n",
              "    .colab-df-container {\n",
              "      display:flex;\n",
              "      flex-wrap:wrap;\n",
              "      gap: 12px;\n",
              "    }\n",
              "\n",
              "    .colab-df-convert {\n",
              "      background-color: #E8F0FE;\n",
              "      border: none;\n",
              "      border-radius: 50%;\n",
              "      cursor: pointer;\n",
              "      display: none;\n",
              "      fill: #1967D2;\n",
              "      height: 32px;\n",
              "      padding: 0 0 0 0;\n",
              "      width: 32px;\n",
              "    }\n",
              "\n",
              "    .colab-df-convert:hover {\n",
              "      background-color: #E2EBFA;\n",
              "      box-shadow: 0px 1px 2px rgba(60, 64, 67, 0.3), 0px 1px 3px 1px rgba(60, 64, 67, 0.15);\n",
              "      fill: #174EA6;\n",
              "    }\n",
              "\n",
              "    [theme=dark] .colab-df-convert {\n",
              "      background-color: #3B4455;\n",
              "      fill: #D2E3FC;\n",
              "    }\n",
              "\n",
              "    [theme=dark] .colab-df-convert:hover {\n",
              "      background-color: #434B5C;\n",
              "      box-shadow: 0px 1px 3px 1px rgba(0, 0, 0, 0.15);\n",
              "      filter: drop-shadow(0px 1px 2px rgba(0, 0, 0, 0.3));\n",
              "      fill: #FFFFFF;\n",
              "    }\n",
              "  </style>\n",
              "\n",
              "      <script>\n",
              "        const buttonEl =\n",
              "          document.querySelector('#df-01358755-d263-4f01-952e-9dbc8590bcf7 button.colab-df-convert');\n",
              "        buttonEl.style.display =\n",
              "          google.colab.kernel.accessAllowed ? 'block' : 'none';\n",
              "\n",
              "        async function convertToInteractive(key) {\n",
              "          const element = document.querySelector('#df-01358755-d263-4f01-952e-9dbc8590bcf7');\n",
              "          const dataTable =\n",
              "            await google.colab.kernel.invokeFunction('convertToInteractive',\n",
              "                                                     [key], {});\n",
              "          if (!dataTable) return;\n",
              "\n",
              "          const docLinkHtml = 'Like what you see? Visit the ' +\n",
              "            '<a target=\"_blank\" href=https://colab.research.google.com/notebooks/data_table.ipynb>data table notebook</a>'\n",
              "            + ' to learn more about interactive tables.';\n",
              "          element.innerHTML = '';\n",
              "          dataTable['output_type'] = 'display_data';\n",
              "          await google.colab.output.renderOutput(dataTable, element);\n",
              "          const docLink = document.createElement('div');\n",
              "          docLink.innerHTML = docLinkHtml;\n",
              "          element.appendChild(docLink);\n",
              "        }\n",
              "      </script>\n",
              "    </div>\n",
              "  </div>\n",
              "  "
            ]
          },
          "metadata": {},
          "execution_count": 2
        }
      ]
    },
    {
      "cell_type": "code",
      "source": [
        "top50.shape"
      ],
      "metadata": {
        "colab": {
          "base_uri": "https://localhost:8080/"
        },
        "id": "zjXjQdLgZOsl",
        "outputId": "2089eb49-9eb4-445c-a0ab-8e9345034881"
      },
      "execution_count": null,
      "outputs": [
        {
          "output_type": "execute_result",
          "data": {
            "text/plain": [
              "(50, 14)"
            ]
          },
          "metadata": {},
          "execution_count": 3
        }
      ]
    },
    {
      "cell_type": "markdown",
      "source": [
        "**DESCRIZIONE DELLE FEATURES**\n",
        "\n",
        "Abbiamo quindi **50 canzoni e 14 attributi legati ad esse**:\n",
        "\n",
        "- **Position** = identificativo della canzone che rappresenta la posizione nella top50 playlist\n",
        "\n",
        "- **Track.Name** = nome della traccia\n",
        "\n",
        "- **Artist.name** = nome dell'artista\n",
        "\n",
        "- **Genre** = genere della traccia\n",
        "\n",
        "- **Beats.Per.Minute** = il \"tempo\" della canzone. \n",
        "\n",
        "- **Energy** = l'energia di una canzone - maggiore è il valore più la canzone ne ha\n",
        "\n",
        "- **Danceability** = maggiore è il valore, più è facile da ballare la canzone\n",
        "\n",
        "- **Loudness..dB** = maggiore è il valore, maggiore è la \"rumorosità\" della canzone\n",
        "\n",
        "- **Liveness** = più è alto più è come se fosse una registrazione dal vivo..\n",
        "\n",
        "- **Valence** = piu è alto il valore, maggiore è il mood positivo della canzone.\n",
        "\n",
        "- **Length** = lunghezza della canzone/durata.\n",
        "\n",
        "- **Acousticness** = maggiore è il valore, più la canzone è \"acustica\"\n",
        "\n",
        "- **Speechness** = maggiore è il valore, maggiore sarà il numero delle parole utilizzate all'interno della canzone.\n",
        "\n",
        "- **Popularity** = più è alto il valore, più la canzone sarà popolare."
      ],
      "metadata": {
        "id": "gbYAA8KKIwgJ"
      }
    },
    {
      "cell_type": "markdown",
      "source": [
        "**SCOPO DELL'ANALISI**"
      ],
      "metadata": {
        "id": "MtIZ1ARJke4t"
      }
    },
    {
      "cell_type": "markdown",
      "source": [
        "Analizzeremo appunto queste caratteristiche cercando di risponderci alla domanda : \n",
        "- **quali sono le caratteristiche che rendono una canzone di successo?**\n",
        "\n",
        "Questa domanda quindi ci portera ad una successiva domanda:\n",
        "- **Si può predire la popolarità di una canzone avendo solo a disposizione i dati che la caratterizzano?**"
      ],
      "metadata": {
        "id": "TLHgwzbnI2S3"
      }
    },
    {
      "cell_type": "markdown",
      "source": [
        "***INIZIO ANALISI***"
      ],
      "metadata": {
        "id": "jhWOIRjgE7mW"
      }
    },
    {
      "cell_type": "markdown",
      "source": [
        "Partiamo subito da una descrizione tabellare dei dati a nostra disposizione:"
      ],
      "metadata": {
        "id": "g7VodQRqjd-0"
      }
    },
    {
      "cell_type": "code",
      "source": [
        "top50.describe()"
      ],
      "metadata": {
        "colab": {
          "base_uri": "https://localhost:8080/",
          "height": 301
        },
        "id": "XN0Yu60aZPo8",
        "outputId": "48a42b36-8bb8-4b92-a179-6c743097df9c"
      },
      "execution_count": null,
      "outputs": [
        {
          "output_type": "execute_result",
          "data": {
            "text/plain": [
              "       Position  Beats.Per.Minute     Energy  Danceability  Loudness..dB..  \\\n",
              "count  50.00000         50.000000  50.000000      50.00000       50.000000   \n",
              "mean   25.50000        120.060000  64.060000      71.38000       -5.660000   \n",
              "std    14.57738         30.898392  14.231913      11.92988        2.056448   \n",
              "min     1.00000         85.000000  32.000000      29.00000      -11.000000   \n",
              "25%    13.25000         96.000000  55.250000      67.00000       -6.750000   \n",
              "50%    25.50000        104.500000  66.500000      73.50000       -6.000000   \n",
              "75%    37.75000        137.500000  74.750000      79.75000       -4.000000   \n",
              "max    50.00000        190.000000  88.000000      90.00000       -2.000000   \n",
              "\n",
              "        Liveness   Valence.     Length.  Acousticness..  Speechiness.  \\\n",
              "count  50.000000  50.000000   50.000000       50.000000     50.000000   \n",
              "mean   14.660000  54.600000  200.960000       22.160000     12.480000   \n",
              "std    11.118306  22.336024   39.143879       18.995553     11.161596   \n",
              "min     5.000000  10.000000  115.000000        1.000000      3.000000   \n",
              "25%     8.000000  38.250000  176.750000        8.250000      5.000000   \n",
              "50%    11.000000  55.500000  198.000000       15.000000      7.000000   \n",
              "75%    15.750000  69.500000  217.500000       33.750000     15.000000   \n",
              "max    58.000000  95.000000  309.000000       75.000000     46.000000   \n",
              "\n",
              "       Popularity  \n",
              "count   50.000000  \n",
              "mean    87.500000  \n",
              "std      4.491489  \n",
              "min     70.000000  \n",
              "25%     86.000000  \n",
              "50%     88.000000  \n",
              "75%     90.750000  \n",
              "max     95.000000  "
            ],
            "text/html": [
              "\n",
              "  <div id=\"df-f7583cb5-a094-45cb-9a51-96eeb2237969\">\n",
              "    <div class=\"colab-df-container\">\n",
              "      <div>\n",
              "<style scoped>\n",
              "    .dataframe tbody tr th:only-of-type {\n",
              "        vertical-align: middle;\n",
              "    }\n",
              "\n",
              "    .dataframe tbody tr th {\n",
              "        vertical-align: top;\n",
              "    }\n",
              "\n",
              "    .dataframe thead th {\n",
              "        text-align: right;\n",
              "    }\n",
              "</style>\n",
              "<table border=\"1\" class=\"dataframe\">\n",
              "  <thead>\n",
              "    <tr style=\"text-align: right;\">\n",
              "      <th></th>\n",
              "      <th>Position</th>\n",
              "      <th>Beats.Per.Minute</th>\n",
              "      <th>Energy</th>\n",
              "      <th>Danceability</th>\n",
              "      <th>Loudness..dB..</th>\n",
              "      <th>Liveness</th>\n",
              "      <th>Valence.</th>\n",
              "      <th>Length.</th>\n",
              "      <th>Acousticness..</th>\n",
              "      <th>Speechiness.</th>\n",
              "      <th>Popularity</th>\n",
              "    </tr>\n",
              "  </thead>\n",
              "  <tbody>\n",
              "    <tr>\n",
              "      <th>count</th>\n",
              "      <td>50.00000</td>\n",
              "      <td>50.000000</td>\n",
              "      <td>50.000000</td>\n",
              "      <td>50.00000</td>\n",
              "      <td>50.000000</td>\n",
              "      <td>50.000000</td>\n",
              "      <td>50.000000</td>\n",
              "      <td>50.000000</td>\n",
              "      <td>50.000000</td>\n",
              "      <td>50.000000</td>\n",
              "      <td>50.000000</td>\n",
              "    </tr>\n",
              "    <tr>\n",
              "      <th>mean</th>\n",
              "      <td>25.50000</td>\n",
              "      <td>120.060000</td>\n",
              "      <td>64.060000</td>\n",
              "      <td>71.38000</td>\n",
              "      <td>-5.660000</td>\n",
              "      <td>14.660000</td>\n",
              "      <td>54.600000</td>\n",
              "      <td>200.960000</td>\n",
              "      <td>22.160000</td>\n",
              "      <td>12.480000</td>\n",
              "      <td>87.500000</td>\n",
              "    </tr>\n",
              "    <tr>\n",
              "      <th>std</th>\n",
              "      <td>14.57738</td>\n",
              "      <td>30.898392</td>\n",
              "      <td>14.231913</td>\n",
              "      <td>11.92988</td>\n",
              "      <td>2.056448</td>\n",
              "      <td>11.118306</td>\n",
              "      <td>22.336024</td>\n",
              "      <td>39.143879</td>\n",
              "      <td>18.995553</td>\n",
              "      <td>11.161596</td>\n",
              "      <td>4.491489</td>\n",
              "    </tr>\n",
              "    <tr>\n",
              "      <th>min</th>\n",
              "      <td>1.00000</td>\n",
              "      <td>85.000000</td>\n",
              "      <td>32.000000</td>\n",
              "      <td>29.00000</td>\n",
              "      <td>-11.000000</td>\n",
              "      <td>5.000000</td>\n",
              "      <td>10.000000</td>\n",
              "      <td>115.000000</td>\n",
              "      <td>1.000000</td>\n",
              "      <td>3.000000</td>\n",
              "      <td>70.000000</td>\n",
              "    </tr>\n",
              "    <tr>\n",
              "      <th>25%</th>\n",
              "      <td>13.25000</td>\n",
              "      <td>96.000000</td>\n",
              "      <td>55.250000</td>\n",
              "      <td>67.00000</td>\n",
              "      <td>-6.750000</td>\n",
              "      <td>8.000000</td>\n",
              "      <td>38.250000</td>\n",
              "      <td>176.750000</td>\n",
              "      <td>8.250000</td>\n",
              "      <td>5.000000</td>\n",
              "      <td>86.000000</td>\n",
              "    </tr>\n",
              "    <tr>\n",
              "      <th>50%</th>\n",
              "      <td>25.50000</td>\n",
              "      <td>104.500000</td>\n",
              "      <td>66.500000</td>\n",
              "      <td>73.50000</td>\n",
              "      <td>-6.000000</td>\n",
              "      <td>11.000000</td>\n",
              "      <td>55.500000</td>\n",
              "      <td>198.000000</td>\n",
              "      <td>15.000000</td>\n",
              "      <td>7.000000</td>\n",
              "      <td>88.000000</td>\n",
              "    </tr>\n",
              "    <tr>\n",
              "      <th>75%</th>\n",
              "      <td>37.75000</td>\n",
              "      <td>137.500000</td>\n",
              "      <td>74.750000</td>\n",
              "      <td>79.75000</td>\n",
              "      <td>-4.000000</td>\n",
              "      <td>15.750000</td>\n",
              "      <td>69.500000</td>\n",
              "      <td>217.500000</td>\n",
              "      <td>33.750000</td>\n",
              "      <td>15.000000</td>\n",
              "      <td>90.750000</td>\n",
              "    </tr>\n",
              "    <tr>\n",
              "      <th>max</th>\n",
              "      <td>50.00000</td>\n",
              "      <td>190.000000</td>\n",
              "      <td>88.000000</td>\n",
              "      <td>90.00000</td>\n",
              "      <td>-2.000000</td>\n",
              "      <td>58.000000</td>\n",
              "      <td>95.000000</td>\n",
              "      <td>309.000000</td>\n",
              "      <td>75.000000</td>\n",
              "      <td>46.000000</td>\n",
              "      <td>95.000000</td>\n",
              "    </tr>\n",
              "  </tbody>\n",
              "</table>\n",
              "</div>\n",
              "      <button class=\"colab-df-convert\" onclick=\"convertToInteractive('df-f7583cb5-a094-45cb-9a51-96eeb2237969')\"\n",
              "              title=\"Convert this dataframe to an interactive table.\"\n",
              "              style=\"display:none;\">\n",
              "        \n",
              "  <svg xmlns=\"http://www.w3.org/2000/svg\" height=\"24px\"viewBox=\"0 0 24 24\"\n",
              "       width=\"24px\">\n",
              "    <path d=\"M0 0h24v24H0V0z\" fill=\"none\"/>\n",
              "    <path d=\"M18.56 5.44l.94 2.06.94-2.06 2.06-.94-2.06-.94-.94-2.06-.94 2.06-2.06.94zm-11 1L8.5 8.5l.94-2.06 2.06-.94-2.06-.94L8.5 2.5l-.94 2.06-2.06.94zm10 10l.94 2.06.94-2.06 2.06-.94-2.06-.94-.94-2.06-.94 2.06-2.06.94z\"/><path d=\"M17.41 7.96l-1.37-1.37c-.4-.4-.92-.59-1.43-.59-.52 0-1.04.2-1.43.59L10.3 9.45l-7.72 7.72c-.78.78-.78 2.05 0 2.83L4 21.41c.39.39.9.59 1.41.59.51 0 1.02-.2 1.41-.59l7.78-7.78 2.81-2.81c.8-.78.8-2.07 0-2.86zM5.41 20L4 18.59l7.72-7.72 1.47 1.35L5.41 20z\"/>\n",
              "  </svg>\n",
              "      </button>\n",
              "      \n",
              "  <style>\n",
              "    .colab-df-container {\n",
              "      display:flex;\n",
              "      flex-wrap:wrap;\n",
              "      gap: 12px;\n",
              "    }\n",
              "\n",
              "    .colab-df-convert {\n",
              "      background-color: #E8F0FE;\n",
              "      border: none;\n",
              "      border-radius: 50%;\n",
              "      cursor: pointer;\n",
              "      display: none;\n",
              "      fill: #1967D2;\n",
              "      height: 32px;\n",
              "      padding: 0 0 0 0;\n",
              "      width: 32px;\n",
              "    }\n",
              "\n",
              "    .colab-df-convert:hover {\n",
              "      background-color: #E2EBFA;\n",
              "      box-shadow: 0px 1px 2px rgba(60, 64, 67, 0.3), 0px 1px 3px 1px rgba(60, 64, 67, 0.15);\n",
              "      fill: #174EA6;\n",
              "    }\n",
              "\n",
              "    [theme=dark] .colab-df-convert {\n",
              "      background-color: #3B4455;\n",
              "      fill: #D2E3FC;\n",
              "    }\n",
              "\n",
              "    [theme=dark] .colab-df-convert:hover {\n",
              "      background-color: #434B5C;\n",
              "      box-shadow: 0px 1px 3px 1px rgba(0, 0, 0, 0.15);\n",
              "      filter: drop-shadow(0px 1px 2px rgba(0, 0, 0, 0.3));\n",
              "      fill: #FFFFFF;\n",
              "    }\n",
              "  </style>\n",
              "\n",
              "      <script>\n",
              "        const buttonEl =\n",
              "          document.querySelector('#df-f7583cb5-a094-45cb-9a51-96eeb2237969 button.colab-df-convert');\n",
              "        buttonEl.style.display =\n",
              "          google.colab.kernel.accessAllowed ? 'block' : 'none';\n",
              "\n",
              "        async function convertToInteractive(key) {\n",
              "          const element = document.querySelector('#df-f7583cb5-a094-45cb-9a51-96eeb2237969');\n",
              "          const dataTable =\n",
              "            await google.colab.kernel.invokeFunction('convertToInteractive',\n",
              "                                                     [key], {});\n",
              "          if (!dataTable) return;\n",
              "\n",
              "          const docLinkHtml = 'Like what you see? Visit the ' +\n",
              "            '<a target=\"_blank\" href=https://colab.research.google.com/notebooks/data_table.ipynb>data table notebook</a>'\n",
              "            + ' to learn more about interactive tables.';\n",
              "          element.innerHTML = '';\n",
              "          dataTable['output_type'] = 'display_data';\n",
              "          await google.colab.output.renderOutput(dataTable, element);\n",
              "          const docLink = document.createElement('div');\n",
              "          docLink.innerHTML = docLinkHtml;\n",
              "          element.appendChild(docLink);\n",
              "        }\n",
              "      </script>\n",
              "    </div>\n",
              "  </div>\n",
              "  "
            ]
          },
          "metadata": {},
          "execution_count": 4
        }
      ]
    },
    {
      "cell_type": "markdown",
      "source": [
        "Queste sono le **distrubuzioni** in percentuale dei dati che stiamo analizzando, solamente quelli quantitativi come possiamo notare.\n",
        "QUesto ovviamente dato che a quelli qualitativi non è possibile applicare formule matematiche a meno che non si rendano quantitativi(in seguito lo si farà per la predizione del genere, tra l'altro sono dati sui quali poi si formeranno dei box plot riportati nel seguito). \n",
        "\n"
      ],
      "metadata": {
        "id": "rEBrb17WJa8M"
      }
    },
    {
      "cell_type": "markdown",
      "source": [
        "Andiamo a vedere ora **quante canzoni ci sono per genere** in questa top50 andando a visualizzare il tutto con un istogramma:"
      ],
      "metadata": {
        "id": "uIbjGvevaa9b"
      }
    },
    {
      "cell_type": "code",
      "source": [
        "num_genre = top50['Genre'].value_counts()\n",
        "num_genre.plot(kind = 'bar',title = 'Numero Canzoni x Genere', fontsize = 10, figsize = (15,5))"
      ],
      "metadata": {
        "colab": {
          "base_uri": "https://localhost:8080/",
          "height": 429
        },
        "id": "NDYXpEmlah8l",
        "outputId": "1f312c24-fdb2-4ed7-ba3f-7c008b7afba5"
      },
      "execution_count": null,
      "outputs": [
        {
          "output_type": "execute_result",
          "data": {
            "text/plain": [
              "<matplotlib.axes._subplots.AxesSubplot at 0x7f3c17a95e10>"
            ]
          },
          "metadata": {},
          "execution_count": 5
        },
        {
          "output_type": "display_data",
          "data": {
            "text/plain": [
              "<Figure size 1080x360 with 1 Axes>"
            ],
            "image/png": "[encoded data removed]"
          },
          "metadata": {
            "needs_background": "light"
          }
        }
      ]
    },
    {
      "cell_type": "markdown",
      "source": [
        "E' il **dance pop** quindi il** genere contenente più canzoni presenti nella top50 globale del 2019 con 8 canzoni**, seguito subito dal pop che invece ne presenta 7."
      ],
      "metadata": {
        "id": "ohpsfE6uOFv0"
      }
    },
    {
      "cell_type": "markdown",
      "source": [
        "Vediamo quante **canzoni diverse** ci sono **per** ogni **artista** presente nella playlist:"
      ],
      "metadata": {
        "id": "Ht4QPkIZab1-"
      }
    },
    {
      "cell_type": "code",
      "source": [
        "num_artist_name = top50['Artist.Name'].value_counts()\n",
        "num_artist_name.plot(kind = 'bar',title = 'Numero Canzoni x Artista', fontsize = 10, figsize = (15,5))"
      ],
      "metadata": {
        "colab": {
          "base_uri": "https://localhost:8080/",
          "height": 435
        },
        "id": "Go5AwNZ4abZI",
        "outputId": "c6fa06bc-14a6-434f-aa15-7231521e875f"
      },
      "execution_count": null,
      "outputs": [
        {
          "output_type": "execute_result",
          "data": {
            "text/plain": [
              "<matplotlib.axes._subplots.AxesSubplot at 0x7f3c1582dbd0>"
            ]
          },
          "metadata": {},
          "execution_count": 6
        },
        {
          "output_type": "display_data",
          "data": {
            "text/plain": [
              "<Figure size 1080x360 with 1 Axes>"
            ],
            "image/png": "[encoded data removed]"
          },
          "metadata": {
            "needs_background": "light"
          }
        }
      ]
    },
    {
      "cell_type": "markdown",
      "source": [
        "**Ed Sheeran risulta essere l'artista con più canzoni** in questa classifica, ben 4!\n",
        "\n",
        "Ci possiamo anche però porre se fosse il più popolare e quindi dobbiamo vedere un istrogramma della popolarità delle canzoni raggruppandole per genere:"
      ],
      "metadata": {
        "id": "_LSRPZU1bF6d"
      }
    },
    {
      "cell_type": "code",
      "source": [
        "top50.groupby('Genre')['Popularity'].mean().sort_values(ascending = False).plot(kind='bar',title = 'Popolarità Media x Genere', fontsize = 10, figsize = (15,5))"
      ],
      "metadata": {
        "colab": {
          "base_uri": "https://localhost:8080/",
          "height": 443
        },
        "id": "jZPujm0ibYnW",
        "outputId": "4a2de153-a490-46d2-dba5-277b1ce38a85"
      },
      "execution_count": null,
      "outputs": [
        {
          "output_type": "execute_result",
          "data": {
            "text/plain": [
              "<matplotlib.axes._subplots.AxesSubplot at 0x7f3c15203350>"
            ]
          },
          "metadata": {},
          "execution_count": 7
        },
        {
          "output_type": "display_data",
          "data": {
            "text/plain": [
              "<Figure size 1080x360 with 1 Axes>"
            ],
            "image/png": "[encoded data removed]"
          },
          "metadata": {
            "needs_background": "light"
          }
        }
      ]
    },
    {
      "cell_type": "markdown",
      "source": [
        "Da questo grafico si evince che il **dance pop**, il genere che presenta più canzoni nella top50, **non è quello che ha la media di popularità più alta**."
      ],
      "metadata": {
        "id": "URajrPdadtiP"
      }
    },
    {
      "cell_type": "markdown",
      "source": [
        "Questo perchè è la popolarità media e i generi che presentano sono una canzone sono \"avvantaggiati\" nel calcolo di questa media.\n"
      ],
      "metadata": {
        "id": "YqRu2N-bjwzb"
      }
    },
    {
      "cell_type": "markdown",
      "source": [
        "Essendo appunto la top50 globale pressocchè tutte le canzoni sono popolari e quindi riotteniamo appunto il grafico come se stessimo analizzando il numero di valori di canzoni presenti per genere."
      ],
      "metadata": {
        "id": "qVhN6cMqcpvn"
      }
    },
    {
      "cell_type": "markdown",
      "source": [
        "Vediamo quindi **quale genere ha la media più alta di posizionamento** in questa top50:"
      ],
      "metadata": {
        "id": "Z0sqnFJqtsPQ"
      }
    },
    {
      "cell_type": "code",
      "source": [
        "top50.groupby('Genre')['Position'].mean().sort_values(ascending = False).plot(kind='bar',title = 'Media Posizionamento in Classifica x Genere', fontsize = 10, figsize = (15,5))"
      ],
      "metadata": {
        "colab": {
          "base_uri": "https://localhost:8080/",
          "height": 443
        },
        "id": "jf5Pe6STtbIB",
        "outputId": "8565f2f4-ee67-4ed6-e6ba-1282ac24c066"
      },
      "execution_count": null,
      "outputs": [
        {
          "output_type": "execute_result",
          "data": {
            "text/plain": [
              "<matplotlib.axes._subplots.AxesSubplot at 0x7f3c15141110>"
            ]
          },
          "metadata": {},
          "execution_count": 8
        },
        {
          "output_type": "display_data",
          "data": {
            "text/plain": [
              "<Figure size 1080x360 with 1 Axes>"
            ],
            "image/png": "[encoded data removed]"
          },
          "metadata": {
            "needs_background": "light"
          }
        }
      ]
    },
    {
      "cell_type": "markdown",
      "source": [
        "In questo caso si vede come il genere \"messo meglio\" in classifica con una media del posizionamento è il genere: trap music"
      ],
      "metadata": {
        "id": "V9kWUs89t7Ae"
      }
    },
    {
      "cell_type": "markdown",
      "source": [
        "Ora andiamo a vedere le **analogie tra genere e Beats Per Minuto**:"
      ],
      "metadata": {
        "id": "ytJAVqp4uIbm"
      }
    },
    {
      "cell_type": "code",
      "source": [
        "top50.groupby('Genre')['Beats.Per.Minute'].mean().sort_values(ascending = False).plot(kind='bar',title = 'BPM x Genere', fontsize = 10, figsize = (15,5))"
      ],
      "metadata": {
        "colab": {
          "base_uri": "https://localhost:8080/",
          "height": 443
        },
        "id": "7wAVb4VSsPeQ",
        "outputId": "7ad9a988-1854-4356-c917-b062de8f397c"
      },
      "execution_count": null,
      "outputs": [
        {
          "output_type": "execute_result",
          "data": {
            "text/plain": [
              "<matplotlib.axes._subplots.AxesSubplot at 0x7f3c150af510>"
            ]
          },
          "metadata": {},
          "execution_count": 9
        },
        {
          "output_type": "display_data",
          "data": {
            "text/plain": [
              "<Figure size 1080x360 with 1 Axes>"
            ],
            "image/png": "[encoded data removed]"
          },
          "metadata": {
            "needs_background": "light"
          }
        }
      ]
    },
    {
      "cell_type": "markdown",
      "source": [
        ":Si evince dal grafico soprastante che il genere con più battiti è la trap music, il quale è anche il genere posizionato mediamente meglio in classifica(anche dato il fatto che è presente un unica canzone di questo genere).\n",
        "\n",
        "Studiamo quindi se e come infuisce il numero di battiti per minuto con la popolarità della canzone dato che il genere con il più alto numero di bpm è anche il genere piazzato meglio mediamente nella top50 analizzata."
      ],
      "metadata": {
        "id": "OBNsbsSdubjo"
      }
    },
    {
      "cell_type": "markdown",
      "source": [
        "Analizziamo ora qual'è il **genere con il maggior numero di parole diverse utilizzate all'intero della canzone**: "
      ],
      "metadata": {
        "id": "MjYFLa2ruQhz"
      }
    },
    {
      "cell_type": "code",
      "source": [
        "top50.groupby('Genre')['Speechiness.'].mean().sort_values(ascending = False).plot(kind='bar',title = 'Parole Diffrenti nella canzone x Genere', fontsize = 10, figsize = (15,5))"
      ],
      "metadata": {
        "colab": {
          "base_uri": "https://localhost:8080/",
          "height": 443
        },
        "id": "WBoYUZfFZnJD",
        "outputId": "f6f09168-e2b1-43e3-b38e-c5cdc8cb7674"
      },
      "execution_count": null,
      "outputs": [
        {
          "output_type": "execute_result",
          "data": {
            "text/plain": [
              "<matplotlib.axes._subplots.AxesSubplot at 0x7f3c15044e50>"
            ]
          },
          "metadata": {},
          "execution_count": 10
        },
        {
          "output_type": "display_data",
          "data": {
            "text/plain": [
              "<Figure size 1080x360 with 1 Axes>"
            ],
            "image/png": "[encoded data removed]"
          },
          "metadata": {
            "needs_background": "light"
          }
        }
      ]
    },
    {
      "cell_type": "markdown",
      "source": [
        "Si vede bene come sia l'**electropop il genere che presenta più parole differenti** all'interno dei testi delle canzoni, seguito subito da reggaeton e trap music.\n",
        "\n",
        "Quest'ultimo è sempre presente i queste analisi ed è effettivamente un genere che riesce a differenziarsi molto dagli altri in molti aspetti e sta spopolando in questi anni su spotify e su tutte le piattaforme di musica."
      ],
      "metadata": {
        "id": "ZZAvBT8GiFD-"
      }
    },
    {
      "cell_type": "markdown",
      "source": [
        "Non siamo comunque ancora riusciti ad evidenziare caratteristiche fondamentali per il successo di una canzone anche se numero di bpm ed il valore legato allo speechiness della canzone possono darci un indicazione di base.\n",
        "\n"
      ],
      "metadata": {
        "id": "EkGbFAiLlkE6"
      }
    },
    {
      "cell_type": "markdown",
      "source": [
        "***Analizziamo il posizionamento della classifica per levarci il dubbio che la canzone prima in classifica sia la più popolare***:"
      ],
      "metadata": {
        "id": "fKJw9au-lNHY"
      }
    },
    {
      "cell_type": "markdown",
      "source": [
        "***Position to Popularity***"
      ],
      "metadata": {
        "id": "hcuxCtgIhB4q"
      }
    },
    {
      "cell_type": "code",
      "source": [
        "plt.scatter(top50['Position'],top50['Popularity'])"
      ],
      "metadata": {
        "colab": {
          "base_uri": "https://localhost:8080/",
          "height": 282
        },
        "outputId": "33a29e22-8b6f-4b0f-cc34-353ebb89ed16",
        "id": "cOn_-hPWhB4s"
      },
      "execution_count": null,
      "outputs": [
        {
          "output_type": "execute_result",
          "data": {
            "text/plain": [
              "<matplotlib.collections.PathCollection at 0x7f3c14f6ff10>"
            ]
          },
          "metadata": {},
          "execution_count": 11
        },
        {
          "output_type": "display_data",
          "data": {
            "text/plain": [
              "<Figure size 432x288 with 1 Axes>"
            ],
            "image/png": "[encoded data removed]"
          },
          "metadata": {
            "needs_background": "light"
          }
        }
      ]
    },
    {
      "cell_type": "markdown",
      "source": [
        "**Si riesce ad estrapolare il dato che la canzone prima in classifica non è la più popolare!**\n",
        "\n",
        "Quella più popolare si trova circa al decimo posto, un fatto curioso!"
      ],
      "metadata": {
        "id": "1v15oZ_wjgIY"
      }
    },
    {
      "cell_type": "markdown",
      "source": [
        "Ora andiamo a visualizzare altri di questi grafici a dispersione ma cerchiamo di capire maggiormente se c'è un possibile legame tra gli attributi e la popolarità.\n",
        "\n",
        "Andiamo a vedere in sostanza quali caratteristiche hanno prevalentemente le canzoni in questa top50 per poter consigliare cosi valori da usare per provare a creare una canzone di successo con maggiore fiducia.\n",
        "\n",
        "**Confrontiamo quindi qua sotto una caratteristica alla volta della canzone e vediamo quanto influisce sulla popolarità** dato che le nostre previsioni finali dovranno riuscire a trovare una popolarità partendo dagli attributi della canzone."
      ],
      "metadata": {
        "id": "0wdN8fJfgg0I"
      }
    },
    {
      "cell_type": "markdown",
      "source": [
        "***BPM to Popularity***"
      ],
      "metadata": {
        "id": "SdDJWjRWg16I"
      }
    },
    {
      "cell_type": "code",
      "source": [
        "plt.scatter(top50['Beats.Per.Minute'],top50['Popularity'])"
      ],
      "metadata": {
        "colab": {
          "base_uri": "https://localhost:8080/",
          "height": 282
        },
        "id": "4yr8NcbhgYWm",
        "outputId": "a47d3d81-bee2-449f-8086-937a989d7d1c"
      },
      "execution_count": null,
      "outputs": [
        {
          "output_type": "execute_result",
          "data": {
            "text/plain": [
              "<matplotlib.collections.PathCollection at 0x7f3c14e41410>"
            ]
          },
          "metadata": {},
          "execution_count": 12
        },
        {
          "output_type": "display_data",
          "data": {
            "text/plain": [
              "<Figure size 432x288 with 1 Axes>"
            ],
            "image/png": "[encoded data removed]"
          },
          "metadata": {
            "needs_background": "light"
          }
        }
      ]
    },
    {
      "cell_type": "markdown",
      "source": [
        "Si può dire che all'aumentare dei BPM non aumenta la pooplarità, però si riesce ad estrarre l'informazione che la maggior parte delle canzoni presenti nella playlist che hanno un numero di BPM tra **80 e 120** hanno una popolarità abbastanza coesa e comunque abbastanza alta mediamente. \n",
        "\n",
        "Mentre più aumenta il valore di BPM e più questa coesione viene meno anche se è proprio in questo gruppo che vi sono le canzoni più presenti.\n",
        "\n",
        "In sostanza si può evincere che non è in base al numero di bpm che si riesce a trovare una popolarità più o meno alta ma abbiamo analizzato appunto quello sopra riportato."
      ],
      "metadata": {
        "id": "sRNJWoxBjBb7"
      }
    },
    {
      "cell_type": "markdown",
      "source": [
        "***Danceability to Popularity***"
      ],
      "metadata": {
        "id": "6MGo_hMxhGvM"
      }
    },
    {
      "cell_type": "code",
      "source": [
        "plt.scatter(top50['Danceability'],top50['Popularity'])"
      ],
      "metadata": {
        "colab": {
          "base_uri": "https://localhost:8080/",
          "height": 282
        },
        "outputId": "8ce5553e-2149-4623-95f3-d0061792cffe",
        "id": "jyAiryP5hGvN"
      },
      "execution_count": null,
      "outputs": [
        {
          "output_type": "execute_result",
          "data": {
            "text/plain": [
              "<matplotlib.collections.PathCollection at 0x7f3c14dafbd0>"
            ]
          },
          "metadata": {},
          "execution_count": 13
        },
        {
          "output_type": "display_data",
          "data": {
            "text/plain": [
              "<Figure size 432x288 with 1 Axes>"
            ],
            "image/png": "[encoded data removed]"
          },
          "metadata": {
            "needs_background": "light"
          }
        }
      ]
    },
    {
      "cell_type": "markdown",
      "source": [
        "Da questo grafico si può notare come nella playlist sia presente un numero predominante di canzoni con un **livello di ballabilità alto**, però anche la canzone con meno ballabilità ha un valore medio di popolarità, anche se la maggioranza delle canzoni con più ballabilità è più popolare come vediamo dalla densità \"di pallini\" in alto nel grafico. "
      ],
      "metadata": {
        "id": "ZYi1JytMkodD"
      }
    },
    {
      "cell_type": "markdown",
      "source": [
        "***Liveness  to Popularity***"
      ],
      "metadata": {
        "id": "rJg_yPGshHmL"
      }
    },
    {
      "cell_type": "code",
      "source": [
        "plt.scatter(top50['Liveness'],top50['Popularity'])"
      ],
      "metadata": {
        "colab": {
          "base_uri": "https://localhost:8080/",
          "height": 282
        },
        "outputId": "04eb3387-d457-4fbb-d794-feb58e9f3e9c",
        "id": "WB-pzTgJhHmN"
      },
      "execution_count": null,
      "outputs": [
        {
          "output_type": "execute_result",
          "data": {
            "text/plain": [
              "<matplotlib.collections.PathCollection at 0x7f3c14da4a90>"
            ]
          },
          "metadata": {},
          "execution_count": 14
        },
        {
          "output_type": "display_data",
          "data": {
            "text/plain": [
              "<Figure size 432x288 with 1 Axes>"
            ],
            "image/png": "[encoded data removed]"
          },
          "metadata": {
            "needs_background": "light"
          }
        }
      ]
    },
    {
      "cell_type": "markdown",
      "source": [
        "Si evince dal grafico che la maggior parte delle canzoni presenti all'interno della playlist hanno una **liveness minore di 20**, in questo gruppo c'è peraltro la canzone più popolare della playlist."
      ],
      "metadata": {
        "id": "Mm6dbdwknwjE"
      }
    },
    {
      "cell_type": "markdown",
      "source": [
        "***Length to Popularity***"
      ],
      "metadata": {
        "id": "cMHqYUYBhIYI"
      }
    },
    {
      "cell_type": "code",
      "source": [
        "plt.scatter(top50['Length.'],top50['Popularity'])"
      ],
      "metadata": {
        "colab": {
          "base_uri": "https://localhost:8080/",
          "height": 282
        },
        "outputId": "7f596154-8287-469c-e238-9dd05621b299",
        "id": "d_WcPX-shIYJ"
      },
      "execution_count": null,
      "outputs": [
        {
          "output_type": "execute_result",
          "data": {
            "text/plain": [
              "<matplotlib.collections.PathCollection at 0x7f3c14d0edd0>"
            ]
          },
          "metadata": {},
          "execution_count": 15
        },
        {
          "output_type": "display_data",
          "data": {
            "text/plain": [
              "<Figure size 432x288 with 1 Axes>"
            ],
            "image/png": "[encoded data removed]"
          },
          "metadata": {
            "needs_background": "light"
          }
        }
      ]
    },
    {
      "cell_type": "markdown",
      "source": [
        "La maggior parte delle canzoni che sono presenti nella playlist hanno una durata compresa tra i **159 e 225 secondi**, tra di queste c'è anche la più popolare. \n",
        "\n",
        "Anche in questo caso comunque non si può nè arrivare alla conclusione che più aumenta la durata e più aumenta la popolarità della canzone nè viceversa, ma siamo riusciti comunque a trovare un \"carattere\" comune a molte canzoni della playlist(appunto questo valore di lunghezza)."
      ],
      "metadata": {
        "id": "X9gBwqyXpWOl"
      }
    },
    {
      "cell_type": "markdown",
      "source": [
        "***Acousticness to Popularity***"
      ],
      "metadata": {
        "id": "N1Ise_l8hIiX"
      }
    },
    {
      "cell_type": "code",
      "source": [
        "plt.scatter(top50['Acousticness..'],top50['Popularity'])"
      ],
      "metadata": {
        "colab": {
          "base_uri": "https://localhost:8080/",
          "height": 282
        },
        "outputId": "5dff24bd-e618-4a6d-f5e9-233d24e680a4",
        "id": "AfegAo0QhIiY"
      },
      "execution_count": null,
      "outputs": [
        {
          "output_type": "execute_result",
          "data": {
            "text/plain": [
              "<matplotlib.collections.PathCollection at 0x7f3c14c7c050>"
            ]
          },
          "metadata": {},
          "execution_count": 16
        },
        {
          "output_type": "display_data",
          "data": {
            "text/plain": [
              "<Figure size 432x288 with 1 Axes>"
            ],
            "image/png": "[encoded data removed]"
          },
          "metadata": {
            "needs_background": "light"
          }
        }
      ]
    },
    {
      "cell_type": "markdown",
      "source": [
        "C'è più coesione nella distribuzione dei dati sulla popolarità delle canzoni con un livello di acousticness compreso **tra 0 e 20** quindi la maggior parte delle canzoni nella playlist ha questi valori di acousticness, ma la più popolare si trova nel gruppo restante, dove la varianza della popolarità è notevolmente maggiore, così come il range di acousticness che anch'esso risulta essere più grande(20-80)."
      ],
      "metadata": {
        "id": "ioBvs5OvpxGE"
      }
    },
    {
      "cell_type": "markdown",
      "source": [
        "***Speechiness to Popularity***"
      ],
      "metadata": {
        "id": "3Gw4wHGXiV9T"
      }
    },
    {
      "cell_type": "code",
      "source": [
        "plt.scatter(top50['Speechiness.'],top50['Popularity'])"
      ],
      "metadata": {
        "colab": {
          "base_uri": "https://localhost:8080/",
          "height": 282
        },
        "id": "7uXfVEfOiTag",
        "outputId": "d79c750e-2976-4ede-eddf-9b071aeb224a"
      },
      "execution_count": null,
      "outputs": [
        {
          "output_type": "execute_result",
          "data": {
            "text/plain": [
              "<matplotlib.collections.PathCollection at 0x7f3c14bef810>"
            ]
          },
          "metadata": {},
          "execution_count": 17
        },
        {
          "output_type": "display_data",
          "data": {
            "text/plain": [
              "<Figure size 432x288 with 1 Axes>"
            ],
            "image/png": "[encoded data removed]"
          },
          "metadata": {
            "needs_background": "light"
          }
        }
      ]
    },
    {
      "cell_type": "markdown",
      "source": [
        "La maggior parte delle canzoni presenti nella playlist ha un valore di Speechness compreso **tra 0 e 10**, questo gruppo di canzoni però ha anche una notevole varianza di popolarità, mentre il gruppo restante, dove \"risiede\" anche la canzone più popolare della playlist ha una varianza di popolarità decisamente inferiore."
      ],
      "metadata": {
        "id": "J5jfgr-TqaTr"
      }
    },
    {
      "cell_type": "markdown",
      "source": [
        "***Correlazione tra i Dati:***"
      ],
      "metadata": {
        "id": "w6tcwq8nWtSK"
      }
    },
    {
      "cell_type": "markdown",
      "source": [
        "Vediamo l'indice di correlazione di Pearson dei dati presenti nel dataset che stiamo analizzando:"
      ],
      "metadata": {
        "id": "-lfNyq4yuwYP"
      }
    },
    {
      "cell_type": "code",
      "source": [
        "top50.corr()"
      ],
      "metadata": {
        "colab": {
          "base_uri": "https://localhost:8080/",
          "height": 395
        },
        "id": "CZnTHXQNuvsy",
        "outputId": "3ce89df4-c585-4480-fd5c-13423854c857"
      },
      "execution_count": null,
      "outputs": [
        {
          "output_type": "execute_result",
          "data": {
            "text/plain": [
              "                  Position  Beats.Per.Minute    Energy  Danceability  \\\n",
              "Position          1.000000         -0.259193  0.102649      0.122691   \n",
              "Beats.Per.Minute -0.259193          1.000000  0.043756     -0.094183   \n",
              "Energy            0.102649          0.043756  1.000000      0.018254   \n",
              "Danceability      0.122691         -0.094183  0.018254      1.000000   \n",
              "Loudness..dB..    0.011914          0.017016  0.670794      0.016255   \n",
              "Liveness          0.270659         -0.167286  0.162768     -0.149636   \n",
              "Valence.          0.137329         -0.011586  0.438820      0.172829   \n",
              "Length.          -0.065844         -0.139288  0.224677     -0.000185   \n",
              "Acousticness..   -0.015993         -0.031450 -0.339892     -0.098165   \n",
              "Speechiness.     -0.257506          0.557052 -0.089860     -0.103472   \n",
              "Popularity       -0.160680          0.196097 -0.080295     -0.071413   \n",
              "\n",
              "                  Loudness..dB..  Liveness  Valence.   Length.  \\\n",
              "Position                0.011914  0.270659  0.137329 -0.065844   \n",
              "Beats.Per.Minute        0.017016 -0.167286 -0.011586 -0.139288   \n",
              "Energy                  0.670794  0.162768  0.438820  0.224677   \n",
              "Danceability            0.016255 -0.149636  0.172829 -0.000185   \n",
              "Loudness..dB..          1.000000  0.258652  0.237614  0.219219   \n",
              "Liveness                0.258652  1.000000  0.016123  0.131782   \n",
              "Valence.                0.237614  0.016123  1.000000 -0.017782   \n",
              "Length.                 0.219219  0.131782 -0.017782  1.000000   \n",
              "Acousticness..         -0.138300  0.021328 -0.052323 -0.076293   \n",
              "Speechiness.           -0.272213 -0.125286 -0.053242  0.046755   \n",
              "Popularity             -0.043085  0.092564 -0.317752 -0.087639   \n",
              "\n",
              "                  Acousticness..  Speechiness.  Popularity  \n",
              "Position               -0.015993     -0.257506   -0.160680  \n",
              "Beats.Per.Minute       -0.031450      0.557052    0.196097  \n",
              "Energy                 -0.339892     -0.089860   -0.080295  \n",
              "Danceability           -0.098165     -0.103472   -0.071413  \n",
              "Loudness..dB..         -0.138300     -0.272213   -0.043085  \n",
              "Liveness                0.021328     -0.125286    0.092564  \n",
              "Valence.               -0.052323     -0.053242   -0.317752  \n",
              "Length.                -0.076293      0.046755   -0.087639  \n",
              "Acousticness..          1.000000      0.008293   -0.034684  \n",
              "Speechiness.            0.008293      1.000000    0.238553  \n",
              "Popularity             -0.034684      0.238553    1.000000  "
            ],
            "text/html": [
              "\n",
              "  <div id=\"df-cd6fd971-41d5-4d17-84dc-d5d8e0483f77\">\n",
              "    <div class=\"colab-df-container\">\n",
              "      <div>\n",
              "<style scoped>\n",
              "    .dataframe tbody tr th:only-of-type {\n",
              "        vertical-align: middle;\n",
              "    }\n",
              "\n",
              "    .dataframe tbody tr th {\n",
              "        vertical-align: top;\n",
              "    }\n",
              "\n",
              "    .dataframe thead th {\n",
              "        text-align: right;\n",
              "    }\n",
              "</style>\n",
              "<table border=\"1\" class=\"dataframe\">\n",
              "  <thead>\n",
              "    <tr style=\"text-align: right;\">\n",
              "      <th></th>\n",
              "      <th>Position</th>\n",
              "      <th>Beats.Per.Minute</th>\n",
              "      <th>Energy</th>\n",
              "      <th>Danceability</th>\n",
              "      <th>Loudness..dB..</th>\n",
              "      <th>Liveness</th>\n",
              "      <th>Valence.</th>\n",
              "      <th>Length.</th>\n",
              "      <th>Acousticness..</th>\n",
              "      <th>Speechiness.</th>\n",
              "      <th>Popularity</th>\n",
              "    </tr>\n",
              "  </thead>\n",
              "  <tbody>\n",
              "    <tr>\n",
              "      <th>Position</th>\n",
              "      <td>1.000000</td>\n",
              "      <td>-0.259193</td>\n",
              "      <td>0.102649</td>\n",
              "      <td>0.122691</td>\n",
              "      <td>0.011914</td>\n",
              "      <td>0.270659</td>\n",
              "      <td>0.137329</td>\n",
              "      <td>-0.065844</td>\n",
              "      <td>-0.015993</td>\n",
              "      <td>-0.257506</td>\n",
              "      <td>-0.160680</td>\n",
              "    </tr>\n",
              "    <tr>\n",
              "      <th>Beats.Per.Minute</th>\n",
              "      <td>-0.259193</td>\n",
              "      <td>1.000000</td>\n",
              "      <td>0.043756</td>\n",
              "      <td>-0.094183</td>\n",
              "      <td>0.017016</td>\n",
              "      <td>-0.167286</td>\n",
              "      <td>-0.011586</td>\n",
              "      <td>-0.139288</td>\n",
              "      <td>-0.031450</td>\n",
              "      <td>0.557052</td>\n",
              "      <td>0.196097</td>\n",
              "    </tr>\n",
              "    <tr>\n",
              "      <th>Energy</th>\n",
              "      <td>0.102649</td>\n",
              "      <td>0.043756</td>\n",
              "      <td>1.000000</td>\n",
              "      <td>0.018254</td>\n",
              "      <td>0.670794</td>\n",
              "      <td>0.162768</td>\n",
              "      <td>0.438820</td>\n",
              "      <td>0.224677</td>\n",
              "      <td>-0.339892</td>\n",
              "      <td>-0.089860</td>\n",
              "      <td>-0.080295</td>\n",
              "    </tr>\n",
              "    <tr>\n",
              "      <th>Danceability</th>\n",
              "      <td>0.122691</td>\n",
              "      <td>-0.094183</td>\n",
              "      <td>0.018254</td>\n",
              "      <td>1.000000</td>\n",
              "      <td>0.016255</td>\n",
              "      <td>-0.149636</td>\n",
              "      <td>0.172829</td>\n",
              "      <td>-0.000185</td>\n",
              "      <td>-0.098165</td>\n",
              "      <td>-0.103472</td>\n",
              "      <td>-0.071413</td>\n",
              "    </tr>\n",
              "    <tr>\n",
              "      <th>Loudness..dB..</th>\n",
              "      <td>0.011914</td>\n",
              "      <td>0.017016</td>\n",
              "      <td>0.670794</td>\n",
              "      <td>0.016255</td>\n",
              "      <td>1.000000</td>\n",
              "      <td>0.258652</td>\n",
              "      <td>0.237614</td>\n",
              "      <td>0.219219</td>\n",
              "      <td>-0.138300</td>\n",
              "      <td>-0.272213</td>\n",
              "      <td>-0.043085</td>\n",
              "    </tr>\n",
              "    <tr>\n",
              "      <th>Liveness</th>\n",
              "      <td>0.270659</td>\n",
              "      <td>-0.167286</td>\n",
              "      <td>0.162768</td>\n",
              "      <td>-0.149636</td>\n",
              "      <td>0.258652</td>\n",
              "      <td>1.000000</td>\n",
              "      <td>0.016123</td>\n",
              "      <td>0.131782</td>\n",
              "      <td>0.021328</td>\n",
              "      <td>-0.125286</td>\n",
              "      <td>0.092564</td>\n",
              "    </tr>\n",
              "    <tr>\n",
              "      <th>Valence.</th>\n",
              "      <td>0.137329</td>\n",
              "      <td>-0.011586</td>\n",
              "      <td>0.438820</td>\n",
              "      <td>0.172829</td>\n",
              "      <td>0.237614</td>\n",
              "      <td>0.016123</td>\n",
              "      <td>1.000000</td>\n",
              "      <td>-0.017782</td>\n",
              "      <td>-0.052323</td>\n",
              "      <td>-0.053242</td>\n",
              "      <td>-0.317752</td>\n",
              "    </tr>\n",
              "    <tr>\n",
              "      <th>Length.</th>\n",
              "      <td>-0.065844</td>\n",
              "      <td>-0.139288</td>\n",
              "      <td>0.224677</td>\n",
              "      <td>-0.000185</td>\n",
              "      <td>0.219219</td>\n",
              "      <td>0.131782</td>\n",
              "      <td>-0.017782</td>\n",
              "      <td>1.000000</td>\n",
              "      <td>-0.076293</td>\n",
              "      <td>0.046755</td>\n",
              "      <td>-0.087639</td>\n",
              "    </tr>\n",
              "    <tr>\n",
              "      <th>Acousticness..</th>\n",
              "      <td>-0.015993</td>\n",
              "      <td>-0.031450</td>\n",
              "      <td>-0.339892</td>\n",
              "      <td>-0.098165</td>\n",
              "      <td>-0.138300</td>\n",
              "      <td>0.021328</td>\n",
              "      <td>-0.052323</td>\n",
              "      <td>-0.076293</td>\n",
              "      <td>1.000000</td>\n",
              "      <td>0.008293</td>\n",
              "      <td>-0.034684</td>\n",
              "    </tr>\n",
              "    <tr>\n",
              "      <th>Speechiness.</th>\n",
              "      <td>-0.257506</td>\n",
              "      <td>0.557052</td>\n",
              "      <td>-0.089860</td>\n",
              "      <td>-0.103472</td>\n",
              "      <td>-0.272213</td>\n",
              "      <td>-0.125286</td>\n",
              "      <td>-0.053242</td>\n",
              "      <td>0.046755</td>\n",
              "      <td>0.008293</td>\n",
              "      <td>1.000000</td>\n",
              "      <td>0.238553</td>\n",
              "    </tr>\n",
              "    <tr>\n",
              "      <th>Popularity</th>\n",
              "      <td>-0.160680</td>\n",
              "      <td>0.196097</td>\n",
              "      <td>-0.080295</td>\n",
              "      <td>-0.071413</td>\n",
              "      <td>-0.043085</td>\n",
              "      <td>0.092564</td>\n",
              "      <td>-0.317752</td>\n",
              "      <td>-0.087639</td>\n",
              "      <td>-0.034684</td>\n",
              "      <td>0.238553</td>\n",
              "      <td>1.000000</td>\n",
              "    </tr>\n",
              "  </tbody>\n",
              "</table>\n",
              "</div>\n",
              "      <button class=\"colab-df-convert\" onclick=\"convertToInteractive('df-cd6fd971-41d5-4d17-84dc-d5d8e0483f77')\"\n",
              "              title=\"Convert this dataframe to an interactive table.\"\n",
              "              style=\"display:none;\">\n",
              "        \n",
              "  <svg xmlns=\"http://www.w3.org/2000/svg\" height=\"24px\"viewBox=\"0 0 24 24\"\n",
              "       width=\"24px\">\n",
              "    <path d=\"M0 0h24v24H0V0z\" fill=\"none\"/>\n",
              "    <path d=\"M18.56 5.44l.94 2.06.94-2.06 2.06-.94-2.06-.94-.94-2.06-.94 2.06-2.06.94zm-11 1L8.5 8.5l.94-2.06 2.06-.94-2.06-.94L8.5 2.5l-.94 2.06-2.06.94zm10 10l.94 2.06.94-2.06 2.06-.94-2.06-.94-.94-2.06-.94 2.06-2.06.94z\"/><path d=\"M17.41 7.96l-1.37-1.37c-.4-.4-.92-.59-1.43-.59-.52 0-1.04.2-1.43.59L10.3 9.45l-7.72 7.72c-.78.78-.78 2.05 0 2.83L4 21.41c.39.39.9.59 1.41.59.51 0 1.02-.2 1.41-.59l7.78-7.78 2.81-2.81c.8-.78.8-2.07 0-2.86zM5.41 20L4 18.59l7.72-7.72 1.47 1.35L5.41 20z\"/>\n",
              "  </svg>\n",
              "      </button>\n",
              "      \n",
              "  <style>\n",
              "    .colab-df-container {\n",
              "      display:flex;\n",
              "      flex-wrap:wrap;\n",
              "      gap: 12px;\n",
              "    }\n",
              "\n",
              "    .colab-df-convert {\n",
              "      background-color: #E8F0FE;\n",
              "      border: none;\n",
              "      border-radius: 50%;\n",
              "      cursor: pointer;\n",
              "      display: none;\n",
              "      fill: #1967D2;\n",
              "      height: 32px;\n",
              "      padding: 0 0 0 0;\n",
              "      width: 32px;\n",
              "    }\n",
              "\n",
              "    .colab-df-convert:hover {\n",
              "      background-color: #E2EBFA;\n",
              "      box-shadow: 0px 1px 2px rgba(60, 64, 67, 0.3), 0px 1px 3px 1px rgba(60, 64, 67, 0.15);\n",
              "      fill: #174EA6;\n",
              "    }\n",
              "\n",
              "    [theme=dark] .colab-df-convert {\n",
              "      background-color: #3B4455;\n",
              "      fill: #D2E3FC;\n",
              "    }\n",
              "\n",
              "    [theme=dark] .colab-df-convert:hover {\n",
              "      background-color: #434B5C;\n",
              "      box-shadow: 0px 1px 3px 1px rgba(0, 0, 0, 0.15);\n",
              "      filter: drop-shadow(0px 1px 2px rgba(0, 0, 0, 0.3));\n",
              "      fill: #FFFFFF;\n",
              "    }\n",
              "  </style>\n",
              "\n",
              "      <script>\n",
              "        const buttonEl =\n",
              "          document.querySelector('#df-cd6fd971-41d5-4d17-84dc-d5d8e0483f77 button.colab-df-convert');\n",
              "        buttonEl.style.display =\n",
              "          google.colab.kernel.accessAllowed ? 'block' : 'none';\n",
              "\n",
              "        async function convertToInteractive(key) {\n",
              "          const element = document.querySelector('#df-cd6fd971-41d5-4d17-84dc-d5d8e0483f77');\n",
              "          const dataTable =\n",
              "            await google.colab.kernel.invokeFunction('convertToInteractive',\n",
              "                                                     [key], {});\n",
              "          if (!dataTable) return;\n",
              "\n",
              "          const docLinkHtml = 'Like what you see? Visit the ' +\n",
              "            '<a target=\"_blank\" href=https://colab.research.google.com/notebooks/data_table.ipynb>data table notebook</a>'\n",
              "            + ' to learn more about interactive tables.';\n",
              "          element.innerHTML = '';\n",
              "          dataTable['output_type'] = 'display_data';\n",
              "          await google.colab.output.renderOutput(dataTable, element);\n",
              "          const docLink = document.createElement('div');\n",
              "          docLink.innerHTML = docLinkHtml;\n",
              "          element.appendChild(docLink);\n",
              "        }\n",
              "      </script>\n",
              "    </div>\n",
              "  </div>\n",
              "  "
            ]
          },
          "metadata": {},
          "execution_count": 18
        }
      ]
    },
    {
      "cell_type": "markdown",
      "source": [
        "Da questo possiamo trarre alcune deduzioni da analizzare:\n",
        "\n",
        "*   ***La posizione in classifica sembra non essere \"affetta\" da nessun altra caratteristica/attributo. Solo la liveness arriva ad influire ma veramente poco.***\n",
        "*  ***Un dato curioso è tra i Beats per Minute e la Specchness : 0.557052, il quale è un valore abbastanza alto di correlazione tra i due attributi/carattersitiche.***\n",
        "*  ***L'energia di una canzone è correlata abbastanza fortemente con la sua Loudness e un po' di meno con i bpm(in questa playlist).***\n",
        "*   ***Il mood positivo della canzone è parzialmente influenzato dal numero di bpm della canzone.***\n",
        "\n",
        "In sostanza comunque i dati non sembrano essere molto correlati tra di loro, o per lo meno non sembrano esserci dati \"legati\" tra loro in modo rigoroso.\n",
        "\n"
      ],
      "metadata": {
        "id": "TKvYqh8rvFtT"
      }
    },
    {
      "cell_type": "markdown",
      "source": [
        "**OTTENIAMO COSI' I PRIMI DATI DI RIFERIMENTO**"
      ],
      "metadata": {
        "id": "AiV3EOG7FkUU"
      }
    },
    {
      "cell_type": "markdown",
      "source": [
        "**In conclusione di questa analisi *iniziale*** traiamo le condizioni per questa canzone perfetta.\n",
        "\n",
        "Si consigliano le seguenti caratteristiche:\n",
        "- livello di **\"ballabilità\"** alto (> 60 circa)\n",
        "- livello di **\"liveness\"** basso (< 20 circa) [ovvero non è necessario avere un sentore \"live\" della canzone per essere popolare]\n",
        "- livello di **\"Acousticness\"** basso per ottenere una popolarità media mentre se si sceglie alto, la popolarità può variare notevolmente\n",
        "- stesso discorso di sopra per la **speechiness**, ovvero con un numero di parole troppo distinto all'interno della canzone è più difficile \"ottenere\" una canzone di popolarità alta rispetto ad usarne un numero limitato(es. il genere dancepop non usa molte parole all'interno delle canzoni ed è comunque molto popolare e presente all'interno della classifica, è consigliabile seguire questi esempi per arrivare ad avere una canzone competitiva)\n",
        "- il **genere consigliato**:\n",
        "  - *per un piazzamento medio in classifica più alto è il pop*\n",
        "  - *per una popolarità più alta si può puntare sul genere latino o raeggaeton o rap(come si evince dall'ultimo box plot riportato nè il dance pop nè il pop(i generi più presenti all'interno della playlist) sono i più popolari mediamente)*.\n",
        "\n"
      ],
      "metadata": {
        "id": "JpkE_FjYqlCS"
      }
    },
    {
      "cell_type": "markdown",
      "source": [
        "***ANALISI sui MACRO GENERI***"
      ],
      "metadata": {
        "id": "1qSipiE_x8xc"
      }
    },
    {
      "cell_type": "markdown",
      "source": [
        "Andiamo ora a **raggruppare ulteriormente i generi** per confrontarli meglio ottenendo dati più correlati tra loro per poter **affinare** ulteriormente queste caratteristiche che compongono **la nostra canzone perfetta**."
      ],
      "metadata": {
        "id": "n1KGb_e64j6g"
      }
    },
    {
      "cell_type": "markdown",
      "source": [
        "Raggruppo quindi i generi in **macro generi**.\n",
        "\n",
        "*(es. canadian pop, panamanian pop, australian pop, ... vengono raggruppati nel macro genere pop e cosi via)*"
      ],
      "metadata": {
        "id": "_raXJew1QYfF"
      }
    },
    {
      "cell_type": "code",
      "source": [
        "genere_pop = top50[top50['Genre']=='pop']\n",
        "genere_canadian_pop = top50[top50['Genre']=='canadian pop']\n",
        "genere_panamanian = top50[top50['Genre']=='panamanian pop']\n",
        "genere_australian_pop = top50[top50['Genre']=='australian pop']\n",
        "genere_boy_band = top50[top50['Genre']=='boy band']\n",
        "maxi_genere_pop = pd.concat([genere_pop,genere_canadian_pop,genere_panamanian,genere_australian_pop,genere_boy_band],axis=0,keys=['pop', 'pop', 'pop', 'pop','pop'], names=['Genere',None])\n",
        "\n",
        "genere_pop_house = top50[top50['Genre']=='pop house']\n",
        "genere_electropop = top50[top50['Genre']=='electropop']\n",
        "genere_dance_pop = top50[top50['Genre']=='dance pop']\n",
        "genere_edm =  top50[top50['Genre']=='edm']\n",
        "genere_brostep =  top50[top50['Genre']=='brostep']\n",
        "maxi_genere_dance = pd.concat([genere_pop_house,genere_electropop,genere_dance_pop,genere_edm,genere_brostep],axis=0,keys=['dance', 'dance', 'dance', 'dance','dance'], names=['Genere',None])\n",
        "\n",
        "genere_reggaeton = top50[top50['Genre']=='reggaeton']\n",
        "genere_latin = top50[top50['Genre']=='latin']\n",
        "genere_reggaeton_flow = top50[top50['Genre']=='reggaeton flow']\n",
        "genere_r_and_b = top50[top50['Genre']=='r&b en espanol']\n",
        "maxi_genere_reggaeton = pd.concat([genere_reggaeton,genere_reggaeton_flow,genere_latin,genere_r_and_b],axis=0,keys=['reggaeton', 'reggaeton', 'reggaeton', 'reggaeton'], names=['Genere',None])\n",
        "\n",
        "genere_trap = top50[top50['Genre']=='trap music']\n",
        "genere_country_rap = top50[top50['Genre']=='country rap']\n",
        "genere_dfw_rap = top50[top50['Genre']=='dfw rap']\n",
        "maxi_genere_rap = pd.concat([genere_trap,genere_country_rap,genere_dfw_rap],axis=0,keys=['rap', 'rap', 'rap'], names=['Genere',None])\n",
        "\n",
        "genere_atl_hip_hop = top50[top50['Genre']=='atl hip hop']\n",
        "genere_canadian_hip_hop = top50[top50['Genre']=='canadian hip hop']\n",
        "maxi_genere_disco_hip_hop = pd.concat([genere_atl_hip_hop,genere_canadian_hip_hop],axis=0,keys=['hip hop', 'hip hop'], names=['Genere',None])\n",
        "\n",
        "genere_big_room = top50[top50['Genre']=='big room']\n",
        "genere_escape_room = top50[top50['Genre']=='escape room']\n",
        "maxi_genere_room = pd.concat([genere_big_room,genere_escape_room],axis=0,keys=['room', 'room'], names=['Genere',None])\n",
        "\n",
        "maxi_all = pd.concat([maxi_genere_pop,maxi_genere_dance,maxi_genere_reggaeton,maxi_genere_rap,maxi_genere_disco_hip_hop,maxi_genere_room],axis=0)\n",
        "\n",
        "#1 = canadian pop,#2 = reggaeton,#3 = dance pop,#4 = pop,#5 = dfw rap,#6 = trap,#7 = country rap,\n",
        "#8 = electropop,#9 = panamanian pop,#10 = canadian hip hop,#11 = latin,#12 = escape room,#13 = pop house,\n",
        "#14 = reggaeton flow,#15 = australian pop,#16 = edm,#17 = atl hip hop,#18 = big room,#19 = boy band,#20 = r&b espanol,#21 = brostep\n",
        "tutti_generi_numerico = [1,2,3,4,5,4,6,4,7,8,2,3,4,9,10,3,11,5,10,12,13,7,14,11,8,1,15,1,11,11,16,3,2,17,3,18,9,4,19,3,16,3,3,4,20,21,11,21,16,4]\n",
        "maxi_all[\"Num_Genre\"] = tutti_generi_numerico\n",
        "\n",
        "macro_generi_numerico = [1,3,1,1,4,1,4,1,4,2,3,2,1,1,5,2,3,4,5,6,2,4,3,3,2,1,1,5,3,3,2,2,3,5,2,6,1,1,1,2,2,2,2,1,3,2,3,2,2,1]\n",
        "#1 = pop,#2 = dance,#3 = reggaeton,#4 = rap,#5 = hip hop,#6 = room\n",
        "maxi_all['NUM_macro_genre'] = macro_generi_numerico"
      ],
      "metadata": {
        "id": "GcfxeGBUQ_80"
      },
      "execution_count": null,
      "outputs": []
    },
    {
      "cell_type": "markdown",
      "source": [
        "**Ora ho** tutti **i** generi raggruppati in **macro generi**, andiamo ad estrapolarne dei dati:"
      ],
      "metadata": {
        "id": "NZ8k6jQWx6O7"
      }
    },
    {
      "cell_type": "code",
      "source": [
        "maxi_all.boxplot(column= 'Position', by='Genere', vert=False, fontsize = 10, figsize = (12,10))"
      ],
      "metadata": {
        "colab": {
          "base_uri": "https://localhost:8080/",
          "height": 731
        },
        "id": "nJtdRaQ6dOkT",
        "outputId": "5eb5137e-586f-4009-87c4-a121562aa5e8"
      },
      "execution_count": null,
      "outputs": [
        {
          "output_type": "stream",
          "name": "stderr",
          "text": [
            "/usr/local/lib/python3.7/dist-packages/matplotlib/cbook/__init__.py:1376: VisibleDeprecationWarning: Creating an ndarray from ragged nested sequences (which is a list-or-tuple of lists-or-tuples-or ndarrays with different lengths or shapes) is deprecated. If you meant to do this, you must specify 'dtype=object' when creating the ndarray.\n",
            "  X = np.atleast_1d(X.T if isinstance(X, np.ndarray) else np.asarray(X))\n"
          ]
        },
        {
          "output_type": "execute_result",
          "data": {
            "text/plain": [
              "<matplotlib.axes._subplots.AxesSubplot at 0x7f3c192ab210>"
            ]
          },
          "metadata": {},
          "execution_count": 22
        },
        {
          "output_type": "display_data",
          "data": {
            "text/plain": [
              "<Figure size 864x720 with 1 Axes>"
            ],
            "image/png": "[encoded data removed]"
          },
          "metadata": {
            "needs_background": "light"
          }
        }
      ]
    },
    {
      "cell_type": "code",
      "source": [
        "maxi_all.boxplot(column= 'Popularity', by='Genere', vert=False, fontsize = 10, figsize = (12,10))"
      ],
      "metadata": {
        "colab": {
          "base_uri": "https://localhost:8080/",
          "height": 731
        },
        "id": "fqvsprLkcoVQ",
        "outputId": "e03e6e5e-670c-4602-87e2-80e902cb28eb"
      },
      "execution_count": null,
      "outputs": [
        {
          "output_type": "stream",
          "name": "stderr",
          "text": [
            "/usr/local/lib/python3.7/dist-packages/matplotlib/cbook/__init__.py:1376: VisibleDeprecationWarning: Creating an ndarray from ragged nested sequences (which is a list-or-tuple of lists-or-tuples-or ndarrays with different lengths or shapes) is deprecated. If you meant to do this, you must specify 'dtype=object' when creating the ndarray.\n",
            "  X = np.atleast_1d(X.T if isinstance(X, np.ndarray) else np.asarray(X))\n"
          ]
        },
        {
          "output_type": "execute_result",
          "data": {
            "text/plain": [
              "<matplotlib.axes._subplots.AxesSubplot at 0x7f3c145e4e90>"
            ]
          },
          "metadata": {},
          "execution_count": 23
        },
        {
          "output_type": "display_data",
          "data": {
            "text/plain": [
              "<Figure size 864x720 with 1 Axes>"
            ],
            "image/png": "[encoded data removed]"
          },
          "metadata": {
            "needs_background": "light"
          }
        }
      ]
    },
    {
      "cell_type": "markdown",
      "source": [
        "**Esaminando** questi due box plot simili a quelli effettuati su tutto il dataset direttamente,  si evince che il** macro genere pop, dance e reggaeton hanno varianza di posizionamento su tutta la classifica**.\n",
        "\n",
        "Il **genere rap** domina la classifica dal punto di vista della **popolarità mediana** del macro genere rap rispetto a quella degli altri macrogeneri presenti in classifica.\n"
      ],
      "metadata": {
        "id": "6G99IwXtdk8h"
      }
    },
    {
      "cell_type": "markdown",
      "source": [
        "***T-TEST***"
      ],
      "metadata": {
        "id": "qJJdWy3pGawW"
      }
    },
    {
      "cell_type": "markdown",
      "source": [
        "**Proviamo** ora ad effettuare i **t-test** che prima abbiamo usato per confrontare due generi dello stesso macro-genere per confronatre appunto questi macro-generi ed estrapolarne informazioni interessanti."
      ],
      "metadata": {
        "id": "K31LIEcOI_XU"
      }
    },
    {
      "cell_type": "markdown",
      "source": [
        "***NOTA:*** \n",
        "\n",
        "Le **condizioni necessarie** per eseguire il t-test correttamente sono:\n",
        "- **campione di almeno 30 elementi**.\n",
        "- **popolazione di almeno 10 volte il numero di elementi presenti dentro il campione**.\n",
        "\n",
        "Quindi questi risultati sotto ottenuti non possono ritenersi validi anche se appunto corrispondono ai box plot sopra riportati.\n",
        "\n",
        "Continueremo quindi a visualizzare box plot per estrapolare ulteriori dati.\n",
        "\n",
        "Andiamo a prendere un livello di confidenza del 95% e quindi un livello di significatività dello 0.05%."
      ],
      "metadata": {
        "id": "1B_XIR-_BRY4"
      }
    },
    {
      "cell_type": "markdown",
      "source": [
        "**Verifichiamo** quindi quanto abbiamo dedotto da questi grafici sopra riportati eseguendo dei t-test di confronto tra i macro generi sopra nominati\n",
        "\n",
        "Partiamo analizzando i **due macrogeneri piu presenti all'interno della top50: POP e DANCE**\n",
        "\n",
        "Verifichiamo ora se possiamo accettare la seguente **ipotesi nulla**:\n",
        "\n",
        "- La popolarità media del macro genere pop è maggiore a quella del macro genere dance"
      ],
      "metadata": {
        "id": "9ZbQOPUqK4Wh"
      }
    },
    {
      "cell_type": "code",
      "source": [
        "t_statistic, p_value = stats.ttest_1samp(a= maxi_genere_pop['Popularity'], popmean= maxi_genere_dance['Popularity'].mean(), alternative='less')\n",
        "print(t_statistic)\n",
        "print(p_value)"
      ],
      "metadata": {
        "id": "Ljb3jB2DI-mC",
        "outputId": "d0518b63-692b-45a7-92f1-752b2dee1418",
        "colab": {
          "base_uri": "https://localhost:8080/"
        }
      },
      "execution_count": null,
      "outputs": [
        {
          "output_type": "stream",
          "name": "stdout",
          "text": [
            "-2.2160901182261306\n",
            "0.023382981648638865\n"
          ]
        }
      ]
    },
    {
      "cell_type": "markdown",
      "source": [
        "Il t-test effettuato ha riportato un p-value minore del valore di significatività e quindi bisogna **rigettare** l'ipotesi nulla e quindi concludere che \n",
        "- ***la popolarità media del macro genere dance è maggiore rispetto a quella del macro genere pop come si poteva notare direttamente nel box plot sopra riportato***.\n",
        "\n"
      ],
      "metadata": {
        "id": "MVeV_2PbMn-d"
      }
    },
    {
      "cell_type": "code",
      "source": [
        "t_statistic, p_value = stats.ttest_1samp(a= maxi_genere_pop['Popularity'], popmean= maxi_genere_rap['Popularity'].mean(), alternative='less')\n",
        "print(t_statistic)\n",
        "print(p_value)"
      ],
      "metadata": {
        "id": "PFeALAyYgAtj",
        "outputId": "62818f52-dab7-464b-9121-69b10a3355f0",
        "colab": {
          "base_uri": "https://localhost:8080/"
        }
      },
      "execution_count": null,
      "outputs": [
        {
          "output_type": "stream",
          "name": "stdout",
          "text": [
            "-4.627070431246613\n",
            "0.0002915179096207425\n"
          ]
        }
      ]
    },
    {
      "cell_type": "markdown",
      "source": [
        "Con questo **t-test** sopra riportato invece dimostriamo come la ***popolarità del macro genere rap sia maggiore rispetto a quella del macro genere pop che presenta la canzone posizionata al 1°posto in classifica***. \n",
        "\n",
        "Questo perchè ottengo un valore del **p-value ulteriormente piccolo** rispetto a quello del t-test precedente ed analogamente, possiamo dire, con maggiore \"forza\" rispetto a prima, che il macro genere rap presenta canzoni mediamente più popolari in classifica rispetto al macro genere pop."
      ],
      "metadata": {
        "id": "BZHFnrNvgB1V"
      }
    },
    {
      "cell_type": "markdown",
      "source": [
        "*Ci sono caratteristiche/features che rendono **\"vincente\"** il macro genere **rap** rispetto agli altri macro generi?*\n",
        "\n",
        "Dobbiamo **assimilare** il maggior numero di **informazioni** utili per la nostra canzone proprio da questo, prima abbiamo preso informazioni dalle migliori canzoni del genere pop per ottenere una base alla quale ora cercheremo di aggiungere le **informazioni** delle canzoni di maggior **successo** del macro genere **rap**(il quale è quello mediamente più popolare in classifica e riscontra inoltre posizionamenti alti).\n",
        "\n",
        "**Andiamo** proprio **a vedere** il perchè di questa dominanza di questo macro genere rap rispetto agli altri macro generi per capire in cosa riesce***\"ad arrivare di più alla gente\"*** e ad ottenere sia un posizionamento medio più alto sia una popolarità maggiore.\n",
        "\n",
        "Possiamo fare ciò visualizzando ulteriori box plot per confrontare direttamente il rap con tutti gli altri macrogenere dato proprio che i t-test non si possono effettuare dato le ipotesi iniziali non soddisfatte."
      ],
      "metadata": {
        "id": "aRqtjIY2qxWU"
      }
    },
    {
      "cell_type": "markdown",
      "source": [
        "**Ulteriori analisi per assottigliare i dati della nostra canzone effettuata suoi macrogeneri**"
      ],
      "metadata": {
        "id": "rDL8kSDtGoOZ"
      }
    },
    {
      "cell_type": "markdown",
      "source": [
        "***- BPM:***"
      ],
      "metadata": {
        "id": "s2TRQE9B0qR8"
      }
    },
    {
      "cell_type": "code",
      "source": [
        "maxi_all.boxplot(column= 'Beats.Per.Minute', by='Genere', vert=False)"
      ],
      "metadata": {
        "colab": {
          "base_uri": "https://localhost:8080/",
          "height": 373
        },
        "id": "6s4OzQMwrS60",
        "outputId": "1cddad39-ec11-4e96-a1a0-9a57abf7cf85"
      },
      "execution_count": null,
      "outputs": [
        {
          "output_type": "stream",
          "name": "stderr",
          "text": [
            "/usr/local/lib/python3.7/dist-packages/matplotlib/cbook/__init__.py:1376: VisibleDeprecationWarning: Creating an ndarray from ragged nested sequences (which is a list-or-tuple of lists-or-tuples-or ndarrays with different lengths or shapes) is deprecated. If you meant to do this, you must specify 'dtype=object' when creating the ndarray.\n",
            "  X = np.atleast_1d(X.T if isinstance(X, np.ndarray) else np.asarray(X))\n"
          ]
        },
        {
          "output_type": "execute_result",
          "data": {
            "text/plain": [
              "<matplotlib.axes._subplots.AxesSubplot at 0x7f3c144e06d0>"
            ]
          },
          "metadata": {},
          "execution_count": 26
        },
        {
          "output_type": "display_data",
          "data": {
            "text/plain": [
              "<Figure size 432x288 with 1 Axes>"
            ],
            "image/png": "[encoded data removed]"
          },
          "metadata": {
            "needs_background": "light"
          }
        }
      ]
    },
    {
      "cell_type": "markdown",
      "source": [
        "Si riesce a vedere come il **macro genere rap abbia i bpm medi maggiori rispetto a tutti** gli altri macro generi e quindi dobbiamo considerare di aumentarli leggermente rispetto alle considerazioni precedenti."
      ],
      "metadata": {
        "id": "kWLPjGCVz6sT"
      }
    },
    {
      "cell_type": "markdown",
      "source": [
        "***- Energy, Danceability e Valence:***"
      ],
      "metadata": {
        "id": "LF9J0ZRV0rqN"
      }
    },
    {
      "cell_type": "code",
      "source": [
        "maxi_all.boxplot(column= 'Energy', by='Genere', vert=False)\n",
        "maxi_all.boxplot(column= 'Danceability', by='Genere', vert=False)\n",
        "maxi_all.boxplot(column= 'Valence.', by='Genere', vert=False)"
      ],
      "metadata": {
        "colab": {
          "base_uri": "https://localhost:8080/",
          "height": 1000
        },
        "id": "abwTyGRaz5ny",
        "outputId": "c633ae1b-8724-4119-c4fe-be94d0e2c5f2"
      },
      "execution_count": null,
      "outputs": [
        {
          "output_type": "stream",
          "name": "stderr",
          "text": [
            "/usr/local/lib/python3.7/dist-packages/matplotlib/cbook/__init__.py:1376: VisibleDeprecationWarning: Creating an ndarray from ragged nested sequences (which is a list-or-tuple of lists-or-tuples-or ndarrays with different lengths or shapes) is deprecated. If you meant to do this, you must specify 'dtype=object' when creating the ndarray.\n",
            "  X = np.atleast_1d(X.T if isinstance(X, np.ndarray) else np.asarray(X))\n",
            "/usr/local/lib/python3.7/dist-packages/matplotlib/cbook/__init__.py:1376: VisibleDeprecationWarning: Creating an ndarray from ragged nested sequences (which is a list-or-tuple of lists-or-tuples-or ndarrays with different lengths or shapes) is deprecated. If you meant to do this, you must specify 'dtype=object' when creating the ndarray.\n",
            "  X = np.atleast_1d(X.T if isinstance(X, np.ndarray) else np.asarray(X))\n",
            "/usr/local/lib/python3.7/dist-packages/matplotlib/cbook/__init__.py:1376: VisibleDeprecationWarning: Creating an ndarray from ragged nested sequences (which is a list-or-tuple of lists-or-tuples-or ndarrays with different lengths or shapes) is deprecated. If you meant to do this, you must specify 'dtype=object' when creating the ndarray.\n",
            "  X = np.atleast_1d(X.T if isinstance(X, np.ndarray) else np.asarray(X))\n"
          ]
        },
        {
          "output_type": "execute_result",
          "data": {
            "text/plain": [
              "<matplotlib.axes._subplots.AxesSubplot at 0x7f3c142db650>"
            ]
          },
          "metadata": {},
          "execution_count": 27
        },
        {
          "output_type": "display_data",
          "data": {
            "text/plain": [
              "<Figure size 432x288 with 1 Axes>"
            ],
            "image/png": "[encoded data removed]"
          },
          "metadata": {
            "needs_background": "light"
          }
        },
        {
          "output_type": "display_data",
          "data": {
            "text/plain": [
              "<Figure size 432x288 with 1 Axes>"
            ],
            "image/png": "[encoded data removed]"
          },
          "metadata": {
            "needs_background": "light"
          }
        },
        {
          "output_type": "display_data",
          "data": {
            "text/plain": [
              "<Figure size 432x288 with 1 Axes>"
            ],
            "image/png": "[encoded data removed]"
          },
          "metadata": {
            "needs_background": "light"
          }
        }
      ]
    },
    {
      "cell_type": "markdown",
      "source": [
        "Da questi box plot possiamo affinare i seguenti dati:\n",
        "- **il** macro genere **rap** ha un **energia** ed una **valenza** minori mediamente di quello del genere **pop** prima considerato anche se comunque i valori sono molto **simili**.\n",
        "- mentre i valori di **ballabilità** della canzone in media sono pressocchè **uguali** al genere **pop**\n",
        "\n",
        "Quindi possiamo confermare le nostre conclusioni e valori precedenti e magari considerare di avere un energia simile alla media del macro genere rap."
      ],
      "metadata": {
        "id": "jeeyZlHM1gp0"
      }
    },
    {
      "cell_type": "markdown",
      "source": [
        "***- Lenght:***"
      ],
      "metadata": {
        "id": "5z9-k46H1JbC"
      }
    },
    {
      "cell_type": "code",
      "source": [
        "maxi_all.boxplot(column= 'Length.', by='Genere', vert=False)"
      ],
      "metadata": {
        "colab": {
          "base_uri": "https://localhost:8080/",
          "height": 373
        },
        "id": "xpthG49G1stR",
        "outputId": "51070e5d-1dea-4183-9693-27b4c9a6471a"
      },
      "execution_count": null,
      "outputs": [
        {
          "output_type": "stream",
          "name": "stderr",
          "text": [
            "/usr/local/lib/python3.7/dist-packages/matplotlib/cbook/__init__.py:1376: VisibleDeprecationWarning: Creating an ndarray from ragged nested sequences (which is a list-or-tuple of lists-or-tuples-or ndarrays with different lengths or shapes) is deprecated. If you meant to do this, you must specify 'dtype=object' when creating the ndarray.\n",
            "  X = np.atleast_1d(X.T if isinstance(X, np.ndarray) else np.asarray(X))\n"
          ]
        },
        {
          "output_type": "execute_result",
          "data": {
            "text/plain": [
              "<matplotlib.axes._subplots.AxesSubplot at 0x7f3c1421e250>"
            ]
          },
          "metadata": {},
          "execution_count": 28
        },
        {
          "output_type": "display_data",
          "data": {
            "text/plain": [
              "<Figure size 432x288 with 1 Axes>"
            ],
            "image/png": "[encoded data removed]"
          },
          "metadata": {
            "needs_background": "light"
          }
        }
      ]
    },
    {
      "cell_type": "markdown",
      "source": [
        "Si riesce a notare chiaramente dal grafico sopra riportato come il ***rap sia il macro genere con la durate delle canzoni minori***.\n",
        "\n",
        "Quindi potremmo considerare il fatto di **abbreviare** un po' la **durata** della **nostra canzone**."
      ],
      "metadata": {
        "id": "sSnpeBZ52t5r"
      }
    },
    {
      "cell_type": "code",
      "source": [
        "maxi_all.boxplot(column= 'Speechiness.', by='Genere', vert=False)"
      ],
      "metadata": {
        "colab": {
          "base_uri": "https://localhost:8080/",
          "height": 373
        },
        "id": "gvVk4LIBBhRm",
        "outputId": "29ff15fa-c55f-44e6-c46e-46acc17b8695"
      },
      "execution_count": null,
      "outputs": [
        {
          "output_type": "stream",
          "name": "stderr",
          "text": [
            "/usr/local/lib/python3.7/dist-packages/matplotlib/cbook/__init__.py:1376: VisibleDeprecationWarning: Creating an ndarray from ragged nested sequences (which is a list-or-tuple of lists-or-tuples-or ndarrays with different lengths or shapes) is deprecated. If you meant to do this, you must specify 'dtype=object' when creating the ndarray.\n",
            "  X = np.atleast_1d(X.T if isinstance(X, np.ndarray) else np.asarray(X))\n"
          ]
        },
        {
          "output_type": "execute_result",
          "data": {
            "text/plain": [
              "<matplotlib.axes._subplots.AxesSubplot at 0x7f3c13fb2d10>"
            ]
          },
          "metadata": {},
          "execution_count": 29
        },
        {
          "output_type": "display_data",
          "data": {
            "text/plain": [
              "<Figure size 432x288 with 1 Axes>"
            ],
            "image/png": "[encoded data removed]"
          },
          "metadata": {
            "needs_background": "light"
          }
        }
      ]
    },
    {
      "cell_type": "markdown",
      "source": [
        "**Questo** box plot sopra riportato **conferma** il **valore** ***precedentemente scelto*** del numero di **parole differenti** utilizzate all'interno della canzone."
      ],
      "metadata": {
        "id": "iDxEjN7ZBnhh"
      }
    },
    {
      "cell_type": "markdown",
      "source": [
        "Aggiungendo ciò ai nostri valori precedenti delle caratteristiche della nostra canzone riusciamo a definirci molti parametri sui quali poter eseguire una predizione."
      ],
      "metadata": {
        "id": "re1sqOss_Z3e"
      }
    },
    {
      "cell_type": "markdown",
      "source": [
        "**RAFFINATEZZA DATI**"
      ],
      "metadata": {
        "id": "9UetSJkjGxj-"
      }
    },
    {
      "cell_type": "markdown",
      "source": [
        "**QUINDI SIAMO RIUSCITI AD OTTENERE DATI MIGLIORI RISPETTO ALL'ANALISI INIZIALE?**"
      ],
      "metadata": {
        "id": "CrkRME_cA2iJ"
      }
    },
    {
      "cell_type": "markdown",
      "source": [
        "Consideriamo quindi gli **\"aggiustamenti\"** considerati grazie al confronto del macro genere rap con gli altri (soprattutto con il pop sul quale ci basavamo precedentemente e dal quale non abbiamo voluto aggiugere informazioni per cercare di ottenere una canzone il più generale possibile o che comunque si potesse ispirare a più caratteristiche di canzoni anche di genere diverso)\n",
        "\n",
        "In **conclusione**, si consigliano quindi le seguenti caratteristiche:\n",
        "\n",
        "\n",
        "- livello di ***bpm****: prendiamo come riferimento un valore tra la media del genere pop e quello rap: tra 120 e 150 battiti al minuto.\n",
        "- livello di ***ballabilità*** ora possiamo maggiormente affinarlo e prenderlo quindi simile alla media del genere rap ovvero: 70 (tra l'altro si conferma la nostra \"predizione\" precedente di avere un valore superiore di 60)\n",
        "- livello di ***liveness*** basso (< 20 circa) [ovvero non è necessario avere un sentore \"live\" della canzone per essere popolare]\n",
        "- valore di ***acousticness*** consigliato: 21.\n",
        "- valore di ***speechness*** raccomandato più preciso rispetto a prima: tra 8 e 10\n",
        "- valore di ***potenza***: -6.\n",
        "- valore della ***lunghezza media della canzone*** consigliato: tra i 150 e 250 secondi di durata.\n",
        "- valore della ***valenza*** della canzone: tra 45 e 55.\n",
        "- il ***genere*** consigliato analizzando tutto quanto riportato sopra sono due:\n",
        "  - il ***rap***:questo genere ha meno competitors ma quelli che ci sono hanno posizionamenti alti e molta popolarità, è un genere comunque difficile nel quale lanciare la propria canzone ma per il quale comunque vale la pena analizzando appunto la popolarità delle canzoni di questo genere che arrivano ad avere successo.\n",
        "  - il ***pop***:questo invece è un genere nella quale molti artisti si riconoscono e molti \"rivali\" sono di altissimo livello e presenti nella top50 mesilmente/annualmente(vedi Ed Sheeran), a differenza proprio del rap dove è più facile fare la \"canzone bomba\" che rimane al top della classifica per stagioni e poi l'artista finisce nel dimenticatoio. Certo per sfondare nel pop comunque bisognerà appunto avere costanza nelle canzoni e cercare di trovare la giusta alchimia di tutte queste caratteristiche sulle quali ci stiamo basando per ottenere la canzone perfetta.\n",
        "  \n",
        "La **scelta del genere** è **particolare** e **delicata** e non si vuole ancora arrivare a conclusioni affrettate, quindi le **predizioni** future verranno eseguite su questi generi ***per capire quale è più conveniente scegliere e per quale dei due generi sia più facile predire***, o meglio, predire con più precisone ottenendo appunto un risultato più preciso, importante per un lancio di una nuova canzone nel mercato discografico(investimenti importanti).\n",
        "\n",
        "Si cercherà inoltre di **predire** la **popolarità** di una **canzone** a seconda degli attributi che la caratterizzano."
      ],
      "metadata": {
        "id": "85lKiLka_0CB"
      }
    },
    {
      "cell_type": "markdown",
      "source": [
        "**APPRENDIMENTO NON SUPERVISIONATO**"
      ],
      "metadata": {
        "id": "IBG3t0-Luu71"
      }
    },
    {
      "cell_type": "markdown",
      "source": [
        "Questo **machine learning** servirà per risponere alle seguenti domande:\n",
        "\n",
        "- ***è possibile predire la popolarità di una canzone a seconda dei suoi attributi/caratteristiche?***\n",
        "\n",
        "- ***è possibile predire/assegnare un genere e macro-genere di/ad una canzone a seconda degli attributi/caratteristiche della canzone?***\n",
        "\n",
        "Se riusciamo a risponderci a queste domande potremo testare se i dati della nostra canzone che abbiamo raccolto prima possono restituirci una canzone più o meno popolare(questo ovviamente è pianamente una stima).\n",
        "\n",
        "La seconda domanda la proveremo direttamente sul test."
      ],
      "metadata": {
        "id": "knWmWX0rRg7h"
      }
    },
    {
      "cell_type": "markdown",
      "source": [
        "Questo quindi possiamo definirlo come un problema di **clustering** dato che cerchiamo di classificare le canzoni presenti in classifica come più o meno popolari a seconda di alcune caratteristiche che andremo ad estrapolare utilizzando la tecnica del clustering.\n",
        "\n",
        "***L’obiettivo degli algoritmi di clustering è appunto di individuare strutture (gruppi di dati «coerenti» rispetto ad una qualche misura) all’interno dei dati.***\n",
        "\n",
        "Quindi, **come funziona?**\n",
        "\n",
        "Due elementi importanti:\n",
        "- **Cluster**: è un gruppo di dati che si «comporta in modo analogo»\n",
        "- **Centroide**: è il «centro» del cluster \n",
        "\n",
        "Utilizziamo l'algoritmo del Kmeans per effettuare il **fitting** e la **predizione** dei dati.\n",
        "\n",
        "Definiamo la **funzione di silhouette** per **definirci** con esattezza il **numero di cluster** da passare in input al **KMeans** per ottenere un risultato migliore(crea i centroidi in modo randomico, quindi non tutte le esecuzioni porteranno allo stesso risultato).\n",
        "\n",
        "**Questa funzione ci ritorna quindi un Silhouette coefficent** = **sc** il quale viene calcolato effettuando questa operazione:\n",
        "\n",
        "- (**b** - **a**)/max(**a**,**b**) = **sc** \n",
        "\n",
        "dove,\n",
        "- **b** è la **distanza media EXTRA_CLUSTER**(più i cluster sono lontani mediamente più otterremo un buon risultato e quindi un coefficente di silhouette alto),\n",
        "- **a** è la **distanza media INTRA_CLUSTER**(più i dati all'interno dei cluster sono vicini mediamente più otterremo un buon risultato e quindi un coefficente di silhouette alto)\n",
        "\n",
        "\n",
        "\n"
      ],
      "metadata": {
        "id": "W4I3z8Pr6rxz"
      }
    },
    {
      "cell_type": "markdown",
      "source": [
        "***Definizione funzione della silhouette***"
      ],
      "metadata": {
        "id": "eDjvKImFG-kG"
      }
    },
    {
      "cell_type": "code",
      "source": [
        "from sklearn.metrics import silhouette_samples, silhouette_score\n",
        "from sklearn.cluster import KMeans\n",
        "from sklearn import preprocessing\n",
        "import random\n",
        "\n",
        "def silhouette(x):\n",
        "    silhouette_avg = []\n",
        "    for i in range(2, 22):\n",
        "        kmeans = KMeans(n_clusters = i, max_iter = 20, random_state = 0)\n",
        "        cluster_labels = kmeans.fit_predict(x)\n",
        "        silhouette_avg.append(silhouette_score(x, cluster_labels))\n",
        "\n",
        "    plt.plot(range(2, 22), silhouette_avg,'-o')\n",
        "    plt.title('The silhouette method')\n",
        "    plt.xlabel('Number of clusters')\n",
        "    plt.ylabel('silhouette coefficient')\n",
        "    plt.show()"
      ],
      "metadata": {
        "id": "PRv4ho-zYuT9"
      },
      "execution_count": null,
      "outputs": []
    },
    {
      "cell_type": "markdown",
      "source": [
        "**PREDIZIONE sulla POPOLARITA'**"
      ],
      "metadata": {
        "id": "3vXn1IZPH1KB"
      }
    },
    {
      "cell_type": "markdown",
      "source": [
        "***Utilizziamo tutte le features***"
      ],
      "metadata": {
        "id": "pxsJpUdOJBKZ"
      }
    },
    {
      "cell_type": "markdown",
      "source": [
        "Proviamo ora a rispondere alla ***seconda domanda***, ovvero, ***che popolarità avrà una canzone che arriva utilizzando tutte le features a nostra disposizione***, consideriamo ora anche l'informazione aggiunta del genere e del macro genere appartenente alla canzone."
      ],
      "metadata": {
        "id": "0HXJ9wbzxhvb"
      }
    },
    {
      "cell_type": "markdown",
      "source": [
        "Prendiamo quindi **tutte le features** a nostra disposizione per visualizzare ed ottenere un buon risultato di predizione."
      ],
      "metadata": {
        "id": "g5AVqlw1xqaX"
      }
    },
    {
      "cell_type": "code",
      "source": [
        "features = ['Beats.Per.Minute','Energy','Danceability','Loudness..dB..','Liveness','Valence.','Length.','Acousticness..','Speechiness.','Num_Genre','NUM_macro_genre']\n",
        "X=maxi_all[features]\n",
        "X = np.asarray(X)\n",
        "scaler = preprocessing.StandardScaler().fit(X)\n",
        "X = scaler.transform(X)"
      ],
      "metadata": {
        "id": "2YCRmpAO9inz"
      },
      "execution_count": null,
      "outputs": []
    },
    {
      "cell_type": "markdown",
      "source": [
        "**Utilizziamo** la funzione che abbiamo definito in precedenza per ottenere il numero di cluster da usare per ottenere il coefficente di **silhoette** più alto"
      ],
      "metadata": {
        "id": "jlanWQ0xx8vf"
      }
    },
    {
      "cell_type": "code",
      "source": [
        "silhouette(X)"
      ],
      "metadata": {
        "id": "UygPhnNZ9v8c",
        "outputId": "afa5fad2-f5c4-4c8e-e36c-239327902ac9",
        "colab": {
          "base_uri": "https://localhost:8080/",
          "height": 295
        }
      },
      "execution_count": null,
      "outputs": [
        {
          "output_type": "display_data",
          "data": {
            "text/plain": [
              "<Figure size 432x288 with 1 Axes>"
            ],
            "image/png": "[encoded data removed]"
          },
          "metadata": {
            "needs_background": "light"
          }
        }
      ]
    },
    {
      "cell_type": "markdown",
      "source": [
        "**Analizzando** la silhouette la prima cosa che risalta è che è **bassissimo** il **coefficente** di **silhouette** ottenuto anche in caso di utilizzo del numero consigliato di cluster, i risultati che si otterranno saranno quindi approssimativi.\n",
        "\n",
        "Andiamo comunque ad utilizzare il numero di **cluster** consigliato, ovvero **15**."
      ],
      "metadata": {
        "id": "p0mRjbya-yha"
      }
    },
    {
      "cell_type": "code",
      "source": [
        "kmeans=KMeans(n_clusters=15, random_state=0).fit(X)\n",
        "y=kmeans.labels_\n",
        "for i in range(0,15):\n",
        "    plt.scatter(X[np.where(y==i),0],X[np.where(y==i),1])"
      ],
      "metadata": {
        "id": "zn6XhqKp-_Iy",
        "outputId": "1b63dedb-861d-4f03-888d-e105d8b241a9",
        "colab": {
          "base_uri": "https://localhost:8080/",
          "height": 265
        }
      },
      "execution_count": null,
      "outputs": [
        {
          "output_type": "display_data",
          "data": {
            "text/plain": [
              "<Figure size 432x288 with 1 Axes>"
            ],
            "image/png": "[encoded data removed]"
          },
          "metadata": {
            "needs_background": "light"
          }
        }
      ]
    },
    {
      "cell_type": "code",
      "source": [
        "maxi_all[\"Clusters\"]=kmeans.predict(X)\n",
        "maxi_all.boxplot(column='Popularity',by='Clusters')"
      ],
      "metadata": {
        "id": "MbOi_NWOUDbi",
        "colab": {
          "base_uri": "https://localhost:8080/",
          "height": 373
        },
        "outputId": "c320d8c4-5909-4c64-be81-9dd93d5f9f9d"
      },
      "execution_count": null,
      "outputs": [
        {
          "output_type": "stream",
          "name": "stderr",
          "text": [
            "/usr/local/lib/python3.7/dist-packages/matplotlib/cbook/__init__.py:1376: VisibleDeprecationWarning: Creating an ndarray from ragged nested sequences (which is a list-or-tuple of lists-or-tuples-or ndarrays with different lengths or shapes) is deprecated. If you meant to do this, you must specify 'dtype=object' when creating the ndarray.\n",
            "  X = np.atleast_1d(X.T if isinstance(X, np.ndarray) else np.asarray(X))\n"
          ]
        },
        {
          "output_type": "execute_result",
          "data": {
            "text/plain": [
              "<matplotlib.axes._subplots.AxesSubplot at 0x7f3c135f5690>"
            ]
          },
          "metadata": {},
          "execution_count": 34
        },
        {
          "output_type": "display_data",
          "data": {
            "text/plain": [
              "<Figure size 432x288 with 1 Axes>"
            ],
            "image/png": "[encoded data removed]"
          },
          "metadata": {
            "needs_background": "light"
          }
        }
      ]
    },
    {
      "cell_type": "markdown",
      "source": [
        "Come si può vedere un risultato ***si riesce a visualizzare ma non si può comunque considerare un efficente risoluzione di questo problema*** di classificazione dato anche l'elevato numero di cluster e come sono disposti i punti appartenenti ai vari cluster(come si può vedere bene nel grafico a dispersione precedente).\n",
        "\n",
        "Questo comunque ***non*** **ci stupisce proprio** grazie all'analisi dei dati:\n",
        "- ***i dati non risultano essere correlati/scorrelati eccessivamente l'uno dall'altro, quindi la suddivisione in cluster non risulta efficente se effettuata su un gruppo di features cosi elevato***.\n",
        "- ***il grafico della silhouette mostra subito come sia basso il coefficente di silhouette ottenuto nel tentare di risolvere questo problema utilizzando la maggior parte delle feature***.\n",
        "\n",
        "***Non riusciamo quindi ad eseguire predizioni accurate sulla popolarità di una canzone utilizzando tutte le features a nostra disposizione***.\n",
        "\n"
      ],
      "metadata": {
        "id": "cM11yHhq_E4X"
      }
    },
    {
      "cell_type": "markdown",
      "source": [
        "***Usando meno features(le più correllate)***"
      ],
      "metadata": {
        "id": "ZdoP5ZO-JYNI"
      }
    },
    {
      "cell_type": "markdown",
      "source": [
        "Andiamo quindi a provare a **diminuire** le **features** coinvolte cercando di **prendere** quelle che risultano essere più **correlate** con la popolarità e rieffettuiamo quindi l'analisi effettuata sopra."
      ],
      "metadata": {
        "id": "kHCtvifDJVto"
      }
    },
    {
      "cell_type": "code",
      "source": [
        "correlated_features_to_popularity = ['Beats.Per.Minute','Liveness','Speechiness.','Valence.'] \n",
        "X = maxi_all[correlated_features_to_popularity]\n",
        "X = np.asarray(X)\n",
        "scaler = preprocessing.StandardScaler().fit(X)\n",
        "X = scaler.transform(X)"
      ],
      "metadata": {
        "id": "lW11MlEfwDgc"
      },
      "execution_count": null,
      "outputs": []
    },
    {
      "cell_type": "code",
      "source": [
        "silhouette(X)"
      ],
      "metadata": {
        "colab": {
          "base_uri": "https://localhost:8080/",
          "height": 295
        },
        "id": "JJtAuyZQEhCm",
        "outputId": "df380e75-e2a6-45d2-8c5f-8068a703fd55"
      },
      "execution_count": null,
      "outputs": [
        {
          "output_type": "display_data",
          "data": {
            "text/plain": [
              "<Figure size 432x288 with 1 Axes>"
            ],
            "image/png": "[encoded data removed]"
          },
          "metadata": {
            "needs_background": "light"
          }
        }
      ]
    },
    {
      "cell_type": "markdown",
      "source": [
        "Grazie a questa visualizzazione della silhouette si evince che l'**utilizzo di 3 cluster** restituisca un coefficente di silhouette maggiore rispetto alla predizione con l'uso di tutte le features(anche se **40%** non è ancora sufficentemente alto per garantire la corretta risoluzione del problema di classificazione ma è un notevole passo in avanti rispetto al circa **20% del precedente** caso)."
      ],
      "metadata": {
        "id": "8wMlk7XiE9hJ"
      }
    },
    {
      "cell_type": "code",
      "source": [
        "kmeans=KMeans(n_clusters=3, random_state=0).fit(X)\n",
        "y=kmeans.labels_\n",
        "for i in range(0,3):\n",
        "    plt.scatter(X[np.where(y==i),0],X[np.where(y==i),1])"
      ],
      "metadata": {
        "colab": {
          "base_uri": "https://localhost:8080/",
          "height": 265
        },
        "id": "EP-2AbPdGbrT",
        "outputId": "6a0d93a2-1183-4fc2-b6ba-52ed6592d962"
      },
      "execution_count": null,
      "outputs": [
        {
          "output_type": "display_data",
          "data": {
            "text/plain": [
              "<Figure size 432x288 with 1 Axes>"
            ],
            "image/png": "[encoded data removed]"
          },
          "metadata": {
            "needs_background": "light"
          }
        }
      ]
    },
    {
      "cell_type": "markdown",
      "source": [
        "I cluster ora ottenuti sono decisamente migliori rispetto ai precedenti e riusciamo quindi ad ottenere una predizione migliore come già ci aspettavamo dal valore del coefficente di silhouette riscontrato"
      ],
      "metadata": {
        "id": "uOixCyo9IZjR"
      }
    },
    {
      "cell_type": "markdown",
      "source": [
        "Visualizziamo ora i box plot per visualizzare come sia migiorato rispetto all'uso di tutte le features come in precedenza(dato che erano poco correlate con la popolarità) e all'uso delle sole features correlate alla popolarità per ottenere appunto una predizione di questa in base a queste caratteristiche analizzate."
      ],
      "metadata": {
        "id": "MJIcmX9EHfX6"
      }
    },
    {
      "cell_type": "code",
      "source": [
        "maxi_all[\"Clusters\"]=kmeans.predict(X)\n",
        "maxi_all.boxplot(column='Popularity',by='Clusters')"
      ],
      "metadata": {
        "colab": {
          "base_uri": "https://localhost:8080/",
          "height": 373
        },
        "id": "fRCd7G4KHkZA",
        "outputId": "3df8655f-ec61-4d6e-940b-aa5c5510803a"
      },
      "execution_count": null,
      "outputs": [
        {
          "output_type": "stream",
          "name": "stderr",
          "text": [
            "/usr/local/lib/python3.7/dist-packages/matplotlib/cbook/__init__.py:1376: VisibleDeprecationWarning: Creating an ndarray from ragged nested sequences (which is a list-or-tuple of lists-or-tuples-or ndarrays with different lengths or shapes) is deprecated. If you meant to do this, you must specify 'dtype=object' when creating the ndarray.\n",
            "  X = np.atleast_1d(X.T if isinstance(X, np.ndarray) else np.asarray(X))\n"
          ]
        },
        {
          "output_type": "execute_result",
          "data": {
            "text/plain": [
              "<matplotlib.axes._subplots.AxesSubplot at 0x7f3c1035cc10>"
            ]
          },
          "metadata": {},
          "execution_count": 38
        },
        {
          "output_type": "display_data",
          "data": {
            "text/plain": [
              "<Figure size 432x288 with 1 Axes>"
            ],
            "image/png": "[encoded data removed]"
          },
          "metadata": {
            "needs_background": "light"
          }
        }
      ]
    },
    {
      "cell_type": "markdown",
      "source": [
        "Siamo riusciti così a separare i nostri dati rispetto a questa variabile di popolarità per poter essere restituita/assegnata a seconda del cluster al quale la canzone con quelle determinate features viene associata."
      ],
      "metadata": {
        "id": "rYiiVMWhJlSx"
      }
    },
    {
      "cell_type": "markdown",
      "source": [
        "Utilizzando **tutte le features** correlate(sia positivamente che negativamente) si riesce ad ottenere un **buon risultato** di previsione utilizzando due cluster come si può visualizzare nel box plot sopra riportato. "
      ],
      "metadata": {
        "id": "xMWQj7DhE1SH"
      }
    },
    {
      "cell_type": "markdown",
      "source": [
        "Siamo quindi riusciti a rispondere alle seguenti domande:\n",
        "\n",
        "- ***predire la popolarità di una canzone appartenente a qualsiasi genere a seconda dei suoi attributi in particolare usando tutte le features;***\n",
        "- ***predire la popolarità di una canzone appartenente a qualsiasi genere a seconda dei suoi attributi in particolare usando quelle correlate alla popolarità stessa (ottenendo un risultato più preciso);***\n",
        "\n"
      ],
      "metadata": {
        "id": "nU9mhgYeJgC3"
      }
    },
    {
      "cell_type": "markdown",
      "source": [
        "***PREDIZIONE CON ASSEGNAZIONE A CANZONI SENZA POPOLARITA'***"
      ],
      "metadata": {
        "id": "DI9B62_eLIJp"
      }
    },
    {
      "cell_type": "markdown",
      "source": [
        "\n",
        "\n",
        "Dopo aver eseguito l'analisi dei dati a nostra disposizione che ci ha portato a defnire le caratteristiche o gli attributi della canzone vincente(o almeno si spera dato che comunque è) ***abbiamo costruito le basi per la predizione della popolarità** con relativo successo.\n",
        "\n",
        "Possiamo quindi provare a risponderci effettivamente alla domanda iniziale: \n",
        "- ***come creare una canzone di successo basandoci sui suoi attributi?***"
      ],
      "metadata": {
        "id": "E4GQMnA4o--R"
      }
    },
    {
      "cell_type": "markdown",
      "source": [
        "**TEST DELLA PREDIZIONE DELLA POPOLARITA' DI DUE CANZONI SU TUTTA LA CLASSIFICA**"
      ],
      "metadata": {
        "id": "bD42HCZN21fA"
      }
    },
    {
      "cell_type": "markdown",
      "source": [
        "\n",
        "\n",
        "**Inoltre** gli **andremo ad assegnare anche un macro genere di riferimento** per vedere se l'assegnazione iniziale corrisponde con la predizione."
      ],
      "metadata": {
        "id": "JicfPymW2dW4"
      }
    },
    {
      "cell_type": "markdown",
      "source": [
        "Andiamo quindi a definire i parametri della nostra **\"canzone perfetta\"** utilizzando appunto i dati riportati alla fine dell'analisi iniziale."
      ],
      "metadata": {
        "id": "3eu8a3dqiNPS"
      }
    },
    {
      "cell_type": "code",
      "source": [
        "Position = len(top50['Position'])+1;\n",
        "TrackName = 'Canzone di Test'\n",
        "ArtistName = 'pede'\n",
        "Genere = 'pop'\n",
        "BPM = 140\n",
        "Energy = 50\n",
        "Danceability = 70\n",
        "Potenza = -6\n",
        "Liveness = 15\n",
        "Valenza = 50\n",
        "Lunghezza = 200\n",
        "Acousticness = 21\n",
        "Speechiness = 9\n",
        "Popularity = np.nan"
      ],
      "metadata": {
        "id": "TzhJnrGM4ung"
      },
      "execution_count": null,
      "outputs": []
    },
    {
      "cell_type": "markdown",
      "source": [
        "Andiamo **anche** quindi a definire **una canzone** che rispecchia più i dati delle canzoni **rap** analizzate precedentemente:"
      ],
      "metadata": {
        "id": "jt4ZqVjbhyan"
      }
    },
    {
      "cell_type": "code",
      "source": [
        "Position2 = len(top50['Position'])+2;\n",
        "TrackName2 = 'Canzone di Test 2'\n",
        "ArtistName2 = 'pede'\n",
        "Genere2 = 'rap'\n",
        "BPM2 = 170\n",
        "Energy2 = 150\n",
        "Danceability2 = 100\n",
        "Potenza2 = -9\n",
        "Liveness2 = 50\n",
        "Valenza2 = 80\n",
        "Lunghezza2 = 300\n",
        "Acousticness2 = 10\n",
        "Speechiness2 = 30\n",
        "Popularity2 = np.nan"
      ],
      "metadata": {
        "id": "hgn_ikGARnNR"
      },
      "execution_count": null,
      "outputs": []
    },
    {
      "cell_type": "markdown",
      "source": [
        "Ora andiamo quindi a **predirre la popolarità direttamente confrontando la canzone con tutte le canzoni presenti nella playlist per vedere se ed in quale \"fascia\" di popolarità si potrebbe piazzare la canzone**.\n",
        "\n",
        "Prendo quindi le **features più correlate** alla popolarità:"
      ],
      "metadata": {
        "id": "3Ahm87v_OsqK"
      }
    },
    {
      "cell_type": "code",
      "source": [
        "all_correlated_features_to_popularity_for_pop = ['Beats.Per.Minute','Length.','Speechiness.','Loudness..dB..','Acousticness..','Danceability','Valence.','Liveness']"
      ],
      "metadata": {
        "id": "OqCDNaM9O45l"
      },
      "execution_count": null,
      "outputs": []
    },
    {
      "cell_type": "code",
      "source": [
        "top50_test = maxi_all.append({'Position': Position,'Track.Name' : TrackName , 'Artist.Name' : ArtistName, 'Genre' : Genere, 'Beats.Per.Minute' : BPM , 'Energy' : Energy, 'Danceability' : Danceability , 'Loudness..dB..' : Potenza, 'Liveness' : Liveness, 'Valence.' : Valenza, 'Length.' : Lunghezza, 'Acousticness..' : Acousticness, 'Speechiness.' : Speechiness, 'Popularity' : Popularity} , ignore_index=True)\n",
        "top50_test = top50_test.append({'Position': Position2,'Track.Name' : TrackName2, 'Artist.Name' : ArtistName2, 'Genre' : Genere2, 'Beats.Per.Minute' : BPM2, 'Energy' : Energy2, 'Danceability' : Danceability2, 'Loudness..dB..' : Potenza2, 'Liveness' : Liveness2, 'Valence.' : Valenza2, 'Length.' : Lunghezza2, 'Acousticness..' : Acousticness2, 'Speechiness.' : Speechiness2, 'Popularity' : Popularity2} , ignore_index=True)"
      ],
      "metadata": {
        "id": "UAFx6qVarqwk"
      },
      "execution_count": null,
      "outputs": []
    },
    {
      "cell_type": "code",
      "source": [
        "#correlazione sia negativa che postivia\n",
        "A = top50_test[all_correlated_features_to_popularity_for_pop]\n",
        "A = np.asarray(A)\n",
        "scaler = preprocessing.StandardScaler().fit(A)\n",
        "A = scaler.transform(A)"
      ],
      "metadata": {
        "id": "tE306E33rqwn"
      },
      "execution_count": null,
      "outputs": []
    },
    {
      "cell_type": "code",
      "source": [
        "kmeans=KMeans(n_clusters=2, random_state=0).fit(A)\n",
        "y=kmeans.labels_\n",
        "for i in range(0,2):\n",
        "    plt.scatter(A[np.where(y==i),0],A[np.where(y==i),1])"
      ],
      "metadata": {
        "outputId": "2bde885b-e66a-4956-bed3-4b24c376de2f",
        "colab": {
          "base_uri": "https://localhost:8080/",
          "height": 265
        },
        "id": "lEWGYmSJrqwn"
      },
      "execution_count": null,
      "outputs": [
        {
          "output_type": "display_data",
          "data": {
            "text/plain": [
              "<Figure size 432x288 with 1 Axes>"
            ],
            "image/png": "[encoded data removed]"
          },
          "metadata": {
            "needs_background": "light"
          }
        }
      ]
    },
    {
      "cell_type": "code",
      "source": [
        "top50_test[\"Clusters\"]=kmeans.predict(A)\n",
        "top50_test.boxplot(column='Popularity',by='Clusters')"
      ],
      "metadata": {
        "outputId": "f697057d-e913-4c36-81aa-6befba65d97d",
        "colab": {
          "base_uri": "https://localhost:8080/",
          "height": 373
        },
        "id": "dXj1y84orqwp"
      },
      "execution_count": null,
      "outputs": [
        {
          "output_type": "stream",
          "name": "stderr",
          "text": [
            "/usr/local/lib/python3.7/dist-packages/matplotlib/cbook/__init__.py:1376: VisibleDeprecationWarning: Creating an ndarray from ragged nested sequences (which is a list-or-tuple of lists-or-tuples-or ndarrays with different lengths or shapes) is deprecated. If you meant to do this, you must specify 'dtype=object' when creating the ndarray.\n",
            "  X = np.atleast_1d(X.T if isinstance(X, np.ndarray) else np.asarray(X))\n"
          ]
        },
        {
          "output_type": "execute_result",
          "data": {
            "text/plain": [
              "<matplotlib.axes._subplots.AxesSubplot at 0x7f3c10366610>"
            ]
          },
          "metadata": {},
          "execution_count": 45
        },
        {
          "output_type": "display_data",
          "data": {
            "text/plain": [
              "<Figure size 432x288 with 1 Axes>"
            ],
            "image/png": "[encoded data removed]"
          },
          "metadata": {
            "needs_background": "light"
          }
        }
      ]
    },
    {
      "cell_type": "code",
      "source": [
        "popolarità_media_per_cluster = top50_test.groupby('Clusters')['Popularity'].mean().astype(int)\n",
        "popolarità_media_per_cluster = np.asarray(popolarità_media_per_cluster)\n",
        "n_clusters = top50_test['Clusters'].unique()\n",
        "top50_test=top50_test.replace(np.nan, 0)\n",
        "print(popolarità_media_per_cluster)\n",
        "print(n_clusters)"
      ],
      "metadata": {
        "outputId": "c741ca76-1f71-46a8-f512-cfc80046329f",
        "colab": {
          "base_uri": "https://localhost:8080/"
        },
        "id": "cIP6pu2Krqwq"
      },
      "execution_count": null,
      "outputs": [
        {
          "output_type": "stream",
          "name": "stdout",
          "text": [
            "[90 86]\n",
            "[1 0]\n"
          ]
        }
      ]
    },
    {
      "cell_type": "code",
      "source": [
        "for i in range(0,len(n_clusters)):\n",
        "  top50_test.loc[((top50_test['Popularity'] <= 0) & (top50_test['Clusters'] == i)), 'Expected_Popularity'] =  popolarità_media_per_cluster[i]\n",
        "  top50_test.loc[((top50_test['Popularity'] > 0) & (top50_test['Clusters'] == i)), 'Expected_Popularity'] = top50_test['Popularity']\n",
        "\n",
        "top50_test['Popularity'] = top50_test['Expected_Popularity']"
      ],
      "metadata": {
        "id": "SBSFJyygrqwr"
      },
      "execution_count": null,
      "outputs": []
    },
    {
      "cell_type": "markdown",
      "source": [
        "***Andiamo ora ad assegnare un macrogenere di riferimento alle canzoni in questione per avere un informazione ulteriore che ricaviamo appunto dagli attributi delle canzoni stesse.***"
      ],
      "metadata": {
        "id": "EhzHopswgeiE"
      }
    },
    {
      "cell_type": "code",
      "source": [
        "top50_test[\"Clusters\"]=kmeans.predict(A)\n",
        "top50_test.boxplot(column='NUM_macro_genre',by='Clusters')"
      ],
      "metadata": {
        "id": "LMrsiraePSmV",
        "outputId": "6128ebd7-b344-41fd-ead6-332a7dc9e2aa",
        "colab": {
          "base_uri": "https://localhost:8080/",
          "height": 373
        }
      },
      "execution_count": null,
      "outputs": [
        {
          "output_type": "stream",
          "name": "stderr",
          "text": [
            "/usr/local/lib/python3.7/dist-packages/matplotlib/cbook/__init__.py:1376: VisibleDeprecationWarning: Creating an ndarray from ragged nested sequences (which is a list-or-tuple of lists-or-tuples-or ndarrays with different lengths or shapes) is deprecated. If you meant to do this, you must specify 'dtype=object' when creating the ndarray.\n",
            "  X = np.atleast_1d(X.T if isinstance(X, np.ndarray) else np.asarray(X))\n"
          ]
        },
        {
          "output_type": "execute_result",
          "data": {
            "text/plain": [
              "<matplotlib.axes._subplots.AxesSubplot at 0x7f3c0e1cdd10>"
            ]
          },
          "metadata": {},
          "execution_count": 48
        },
        {
          "output_type": "display_data",
          "data": {
            "text/plain": [
              "<Figure size 432x288 with 1 Axes>"
            ],
            "image/png": "[encoded data removed]"
          },
          "metadata": {
            "needs_background": "light"
          }
        }
      ]
    },
    {
      "cell_type": "code",
      "source": [
        "genere_medio_per_cluster = top50_test.groupby('Clusters')['NUM_macro_genre'].mean().astype(int)\n",
        "genere_medio_per_cluster = np.asarray(genere_medio_per_cluster)\n",
        "n_clusters = top50_test['Clusters'].unique()\n",
        "print(genere_medio_per_cluster)\n",
        "print(n_clusters)"
      ],
      "metadata": {
        "colab": {
          "base_uri": "https://localhost:8080/"
        },
        "id": "n3gzoB5Ogzq_",
        "outputId": "d3373c26-0c29-45bb-ae63-978a80aa1ef9"
      },
      "execution_count": null,
      "outputs": [
        {
          "output_type": "stream",
          "name": "stdout",
          "text": [
            "[3 2]\n",
            "[1 0]\n"
          ]
        }
      ]
    },
    {
      "cell_type": "code",
      "source": [
        "for i in range(0,len(n_clusters)):\n",
        "  top50_test.loc[((top50_test['NUM_macro_genre'] <= 0) & (top50_test['Clusters'] == i)), 'Expected_NUM_macro_genere'] =  genere_medio_per_cluster[i]\n",
        "  top50_test.loc[((top50_test['NUM_macro_genre'] > 0) & (top50_test['Clusters'] == i)), 'Expected_NUM_macro_genere'] = top50_test['NUM_macro_genre']\n",
        "\n",
        "top50_test['NUM_macro_genre'] = top50_test['Expected_NUM_macro_genere']\n",
        "\n",
        "top50_test.tail(5)"
      ],
      "metadata": {
        "colab": {
          "base_uri": "https://localhost:8080/",
          "height": 285
        },
        "id": "YNFj95Zgge9E",
        "outputId": "aff36166-069b-4e29-ff52-f075292611e7"
      },
      "execution_count": null,
      "outputs": [
        {
          "output_type": "execute_result",
          "data": {
            "text/plain": [
              "    Position                                         Track.Name  \\\n",
              "47        28                                           It's You   \n",
              "48        36  Summer Days (feat. Macklemore & Patrick Stump ...   \n",
              "49        20                                        Truth Hurts   \n",
              "50        51                                    Canzone di Test   \n",
              "51        52                                  Canzone di Test 2   \n",
              "\n",
              "      Artist.Name             Genre  Beats.Per.Minute  Energy  Danceability  \\\n",
              "47      Ali Gatie  canadian hip hop                96      46            73   \n",
              "48  Martin Garrix          big room               114      72            66   \n",
              "49          Lizzo       escape room               158      62            72   \n",
              "50           pede               pop               140      50            70   \n",
              "51           pede               rap               170     150           100   \n",
              "\n",
              "    Loudness..dB..  Liveness  Valence.  Length.  Acousticness..  Speechiness.  \\\n",
              "47              -7        19        40      213              37             3   \n",
              "48              -7        14        32      164              18             6   \n",
              "49              -3        12        41      173              11            11   \n",
              "50              -6        15        50      200              21             9   \n",
              "51              -9        50        80      300              10            30   \n",
              "\n",
              "    Popularity  Num_Genre  NUM_macro_genre  Clusters  Expected_Popularity  \\\n",
              "47        89.0       21.0              2.0         1                 89.0   \n",
              "48        89.0       16.0              2.0         1                 89.0   \n",
              "49        91.0        4.0              1.0         1                 91.0   \n",
              "50        86.0        0.0              2.0         1                 86.0   \n",
              "51        90.0        0.0              3.0         0                 90.0   \n",
              "\n",
              "    Expected_NUM_macro_genere  \n",
              "47                        2.0  \n",
              "48                        2.0  \n",
              "49                        1.0  \n",
              "50                        2.0  \n",
              "51                        3.0  "
            ],
            "text/html": [
              "\n",
              "  <div id=\"df-d3fd54c5-ffca-4947-b9cc-de79736834c0\">\n",
              "    <div class=\"colab-df-container\">\n",
              "      <div>\n",
              "<style scoped>\n",
              "    .dataframe tbody tr th:only-of-type {\n",
              "        vertical-align: middle;\n",
              "    }\n",
              "\n",
              "    .dataframe tbody tr th {\n",
              "        vertical-align: top;\n",
              "    }\n",
              "\n",
              "    .dataframe thead th {\n",
              "        text-align: right;\n",
              "    }\n",
              "</style>\n",
              "<table border=\"1\" class=\"dataframe\">\n",
              "  <thead>\n",
              "    <tr style=\"text-align: right;\">\n",
              "      <th></th>\n",
              "      <th>Position</th>\n",
              "      <th>Track.Name</th>\n",
              "      <th>Artist.Name</th>\n",
              "      <th>Genre</th>\n",
              "      <th>Beats.Per.Minute</th>\n",
              "      <th>Energy</th>\n",
              "      <th>Danceability</th>\n",
              "      <th>Loudness..dB..</th>\n",
              "      <th>Liveness</th>\n",
              "      <th>Valence.</th>\n",
              "      <th>Length.</th>\n",
              "      <th>Acousticness..</th>\n",
              "      <th>Speechiness.</th>\n",
              "      <th>Popularity</th>\n",
              "      <th>Num_Genre</th>\n",
              "      <th>NUM_macro_genre</th>\n",
              "      <th>Clusters</th>\n",
              "      <th>Expected_Popularity</th>\n",
              "      <th>Expected_NUM_macro_genere</th>\n",
              "    </tr>\n",
              "  </thead>\n",
              "  <tbody>\n",
              "    <tr>\n",
              "      <th>47</th>\n",
              "      <td>28</td>\n",
              "      <td>It's You</td>\n",
              "      <td>Ali Gatie</td>\n",
              "      <td>canadian hip hop</td>\n",
              "      <td>96</td>\n",
              "      <td>46</td>\n",
              "      <td>73</td>\n",
              "      <td>-7</td>\n",
              "      <td>19</td>\n",
              "      <td>40</td>\n",
              "      <td>213</td>\n",
              "      <td>37</td>\n",
              "      <td>3</td>\n",
              "      <td>89.0</td>\n",
              "      <td>21.0</td>\n",
              "      <td>2.0</td>\n",
              "      <td>1</td>\n",
              "      <td>89.0</td>\n",
              "      <td>2.0</td>\n",
              "    </tr>\n",
              "    <tr>\n",
              "      <th>48</th>\n",
              "      <td>36</td>\n",
              "      <td>Summer Days (feat. Macklemore &amp; Patrick Stump ...</td>\n",
              "      <td>Martin Garrix</td>\n",
              "      <td>big room</td>\n",
              "      <td>114</td>\n",
              "      <td>72</td>\n",
              "      <td>66</td>\n",
              "      <td>-7</td>\n",
              "      <td>14</td>\n",
              "      <td>32</td>\n",
              "      <td>164</td>\n",
              "      <td>18</td>\n",
              "      <td>6</td>\n",
              "      <td>89.0</td>\n",
              "      <td>16.0</td>\n",
              "      <td>2.0</td>\n",
              "      <td>1</td>\n",
              "      <td>89.0</td>\n",
              "      <td>2.0</td>\n",
              "    </tr>\n",
              "    <tr>\n",
              "      <th>49</th>\n",
              "      <td>20</td>\n",
              "      <td>Truth Hurts</td>\n",
              "      <td>Lizzo</td>\n",
              "      <td>escape room</td>\n",
              "      <td>158</td>\n",
              "      <td>62</td>\n",
              "      <td>72</td>\n",
              "      <td>-3</td>\n",
              "      <td>12</td>\n",
              "      <td>41</td>\n",
              "      <td>173</td>\n",
              "      <td>11</td>\n",
              "      <td>11</td>\n",
              "      <td>91.0</td>\n",
              "      <td>4.0</td>\n",
              "      <td>1.0</td>\n",
              "      <td>1</td>\n",
              "      <td>91.0</td>\n",
              "      <td>1.0</td>\n",
              "    </tr>\n",
              "    <tr>\n",
              "      <th>50</th>\n",
              "      <td>51</td>\n",
              "      <td>Canzone di Test</td>\n",
              "      <td>pede</td>\n",
              "      <td>pop</td>\n",
              "      <td>140</td>\n",
              "      <td>50</td>\n",
              "      <td>70</td>\n",
              "      <td>-6</td>\n",
              "      <td>15</td>\n",
              "      <td>50</td>\n",
              "      <td>200</td>\n",
              "      <td>21</td>\n",
              "      <td>9</td>\n",
              "      <td>86.0</td>\n",
              "      <td>0.0</td>\n",
              "      <td>2.0</td>\n",
              "      <td>1</td>\n",
              "      <td>86.0</td>\n",
              "      <td>2.0</td>\n",
              "    </tr>\n",
              "    <tr>\n",
              "      <th>51</th>\n",
              "      <td>52</td>\n",
              "      <td>Canzone di Test 2</td>\n",
              "      <td>pede</td>\n",
              "      <td>rap</td>\n",
              "      <td>170</td>\n",
              "      <td>150</td>\n",
              "      <td>100</td>\n",
              "      <td>-9</td>\n",
              "      <td>50</td>\n",
              "      <td>80</td>\n",
              "      <td>300</td>\n",
              "      <td>10</td>\n",
              "      <td>30</td>\n",
              "      <td>90.0</td>\n",
              "      <td>0.0</td>\n",
              "      <td>3.0</td>\n",
              "      <td>0</td>\n",
              "      <td>90.0</td>\n",
              "      <td>3.0</td>\n",
              "    </tr>\n",
              "  </tbody>\n",
              "</table>\n",
              "</div>\n",
              "      <button class=\"colab-df-convert\" onclick=\"convertToInteractive('df-d3fd54c5-ffca-4947-b9cc-de79736834c0')\"\n",
              "              title=\"Convert this dataframe to an interactive table.\"\n",
              "              style=\"display:none;\">\n",
              "        \n",
              "  <svg xmlns=\"http://www.w3.org/2000/svg\" height=\"24px\"viewBox=\"0 0 24 24\"\n",
              "       width=\"24px\">\n",
              "    <path d=\"M0 0h24v24H0V0z\" fill=\"none\"/>\n",
              "    <path d=\"M18.56 5.44l.94 2.06.94-2.06 2.06-.94-2.06-.94-.94-2.06-.94 2.06-2.06.94zm-11 1L8.5 8.5l.94-2.06 2.06-.94-2.06-.94L8.5 2.5l-.94 2.06-2.06.94zm10 10l.94 2.06.94-2.06 2.06-.94-2.06-.94-.94-2.06-.94 2.06-2.06.94z\"/><path d=\"M17.41 7.96l-1.37-1.37c-.4-.4-.92-.59-1.43-.59-.52 0-1.04.2-1.43.59L10.3 9.45l-7.72 7.72c-.78.78-.78 2.05 0 2.83L4 21.41c.39.39.9.59 1.41.59.51 0 1.02-.2 1.41-.59l7.78-7.78 2.81-2.81c.8-.78.8-2.07 0-2.86zM5.41 20L4 18.59l7.72-7.72 1.47 1.35L5.41 20z\"/>\n",
              "  </svg>\n",
              "      </button>\n",
              "      \n",
              "  <style>\n",
              "    .colab-df-container {\n",
              "      display:flex;\n",
              "      flex-wrap:wrap;\n",
              "      gap: 12px;\n",
              "    }\n",
              "\n",
              "    .colab-df-convert {\n",
              "      background-color: #E8F0FE;\n",
              "      border: none;\n",
              "      border-radius: 50%;\n",
              "      cursor: pointer;\n",
              "      display: none;\n",
              "      fill: #1967D2;\n",
              "      height: 32px;\n",
              "      padding: 0 0 0 0;\n",
              "      width: 32px;\n",
              "    }\n",
              "\n",
              "    .colab-df-convert:hover {\n",
              "      background-color: #E2EBFA;\n",
              "      box-shadow: 0px 1px 2px rgba(60, 64, 67, 0.3), 0px 1px 3px 1px rgba(60, 64, 67, 0.15);\n",
              "      fill: #174EA6;\n",
              "    }\n",
              "\n",
              "    [theme=dark] .colab-df-convert {\n",
              "      background-color: #3B4455;\n",
              "      fill: #D2E3FC;\n",
              "    }\n",
              "\n",
              "    [theme=dark] .colab-df-convert:hover {\n",
              "      background-color: #434B5C;\n",
              "      box-shadow: 0px 1px 3px 1px rgba(0, 0, 0, 0.15);\n",
              "      filter: drop-shadow(0px 1px 2px rgba(0, 0, 0, 0.3));\n",
              "      fill: #FFFFFF;\n",
              "    }\n",
              "  </style>\n",
              "\n",
              "      <script>\n",
              "        const buttonEl =\n",
              "          document.querySelector('#df-d3fd54c5-ffca-4947-b9cc-de79736834c0 button.colab-df-convert');\n",
              "        buttonEl.style.display =\n",
              "          google.colab.kernel.accessAllowed ? 'block' : 'none';\n",
              "\n",
              "        async function convertToInteractive(key) {\n",
              "          const element = document.querySelector('#df-d3fd54c5-ffca-4947-b9cc-de79736834c0');\n",
              "          const dataTable =\n",
              "            await google.colab.kernel.invokeFunction('convertToInteractive',\n",
              "                                                     [key], {});\n",
              "          if (!dataTable) return;\n",
              "\n",
              "          const docLinkHtml = 'Like what you see? Visit the ' +\n",
              "            '<a target=\"_blank\" href=https://colab.research.google.com/notebooks/data_table.ipynb>data table notebook</a>'\n",
              "            + ' to learn more about interactive tables.';\n",
              "          element.innerHTML = '';\n",
              "          dataTable['output_type'] = 'display_data';\n",
              "          await google.colab.output.renderOutput(dataTable, element);\n",
              "          const docLink = document.createElement('div');\n",
              "          docLink.innerHTML = docLinkHtml;\n",
              "          element.appendChild(docLink);\n",
              "        }\n",
              "      </script>\n",
              "    </div>\n",
              "  </div>\n",
              "  "
            ]
          },
          "metadata": {},
          "execution_count": 50
        }
      ]
    },
    {
      "cell_type": "markdown",
      "source": [
        "Quindi possiamo **concludere** che con questa metodologia si riesce ad ottenere una predizione più o meno efficace della popolarità di una canzone rispetto agli attributi che la caratterizzano.\n",
        "\n",
        "Inoltre **si riesce a predire** anche il genere di una canzone con una buona approssimazione.\n",
        "\n",
        "Riusciamo così ad ottenere una risposta, anche se approssimata del nostro questito iniziale e quindi a trovare **i dati migliori per una canzone perfetta!**\n",
        "\n"
      ],
      "metadata": {
        "id": "ppbyYPDMxz13"
      }
    }
  ]
}