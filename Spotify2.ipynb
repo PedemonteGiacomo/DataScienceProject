{
  "nbformat": 4,
  "nbformat_minor": 0,
  "metadata": {
    "colab": {
      "name": "project.ipynb",
      "provenance": [],
      "collapsed_sections": [],
      "authorship_tag": "ABX9TyO4SFLP+0JJdhPFleGezueJ",
      "include_colab_link": true
    },
    "kernelspec": {
      "name": "python3",
      "display_name": "Python 3"
    },
    "language_info": {
      "name": "python"
    }
  },
  "cells": [
    {
      "cell_type": "markdown",
      "metadata": {
        "id": "view-in-github",
        "colab_type": "text"
      },
      "source": [
        "<a href=\"https://colab.research.google.com/github/PedemonteGiacomo/DataScienceProject/blob/main/Spotify2.ipynb\" target=\"_parent\"><img src=\"https://colab.research.google.com/assets/colab-badge.svg\" alt=\"Open In Colab\"/></a>"
      ]
    },
    {
      "cell_type": "markdown",
      "source": [
        "# ***Progetto Introduzione alla Data Science***\n"
      ],
      "metadata": {
        "id": "juqGtb2-W5q4"
      }
    },
    {
      "cell_type": "markdown",
      "source": [
        "\n",
        "Pedemonte Giacomo S4861715\n",
        "\n",
        "Progetto basato sull'analisi del dataset top50 globale di Spotify alla ricerca della \"ricetta\" perfetta per una canzone di successo.\n",
        "\n",
        "Andremo ad analizzare le caratteristiche delle canzoni a nostra disposizione, le quali sono alcune delle più famose proprio del 2019(anno di uscita della playlist in questione).\n",
        "\n",
        "Cosa caratterizza queste canzoni?\n",
        "Come si potrebbe assegnare un genere ad una canzone di cui disponiamo solo delle caratteristiche?\n",
        "Come si potrebbe predire la popolarità di una canzone di cui conosciamo solo determinati attributi?\n",
        "\n",
        "Bisogna comunque dire per avere una maggiore consapevolezza, che non si può estrapolare la \"ricetta perfetta\" per la canzone di successo dato che non sono solo questi attributi che rendono più o meno popolare una canzone o meglio posizionata in classifica (e questo lo vedremo proprio data la non troppa correlazione dei dati in analisi)."
      ],
      "metadata": {
        "id": "8qbecwc3J1ji"
      }
    },
    {
      "cell_type": "markdown",
      "source": [
        "***Importazione librerie per ambiente di lavoro:***"
      ],
      "metadata": {
        "id": "lAJvODgpM1O5"
      }
    },
    {
      "cell_type": "code",
      "execution_count": 1,
      "metadata": {
        "colab": {
          "base_uri": "https://localhost:8080/"
        },
        "id": "NjTQV6iUUPlk",
        "outputId": "7be6cecb-0627-4f4b-f481-cd6757ab0dac"
      },
      "outputs": [
        {
          "output_type": "stream",
          "name": "stdout",
          "text": [
            "Looking in indexes: https://pypi.org/simple, https://us-python.pkg.dev/colab-wheels/public/simple/\n",
            "Requirement already satisfied: scipy==1.7.0 in /usr/local/lib/python3.7/dist-packages (1.7.0)\n",
            "Requirement already satisfied: numpy<1.23.0,>=1.16.5 in /usr/local/lib/python3.7/dist-packages (from scipy==1.7.0) (1.21.6)\n",
            "1.7.0\n"
          ]
        }
      ],
      "source": [
        "from sklearn import metrics\n",
        "from sklearn.model_selection import train_test_split\n",
        "import plotly.express as px\n",
        "import pandas as pd \n",
        "import matplotlib.pyplot as plt \n",
        "import numpy as np\n",
        "!pip install scipy==1.7.0\n",
        "import scipy.stats as stats\n",
        "import scipy\n",
        "print (scipy.__version__)"
      ]
    },
    {
      "cell_type": "markdown",
      "source": [
        "***Analisi ed estrazione dei Dati***"
      ],
      "metadata": {
        "id": "2Ku6StYFXnyx"
      }
    },
    {
      "cell_type": "markdown",
      "source": [
        "Importazione e visualizzazione della \"testa\" del database contenente la playlist spotify: top50 del 2019.\n",
        "\n",
        "\n",
        "\n"
      ],
      "metadata": {
        "id": "B9uW-x6gUgVn"
      }
    },
    {
      "cell_type": "code",
      "source": [
        "top50 = pd.read_csv('top50.csv')\n",
        "top50.head()"
      ],
      "metadata": {
        "colab": {
          "base_uri": "https://localhost:8080/",
          "height": 409
        },
        "id": "dGTNkU33U67r",
        "outputId": "6bed7682-0757-45f3-ebab-c97bb445503b"
      },
      "execution_count": 2,
      "outputs": [
        {
          "output_type": "execute_result",
          "data": {
            "text/plain": [
              "   Position                       Track.Name    Artist.Name           Genre  \\\n",
              "0         1                         Senorita   Shawn Mendes    canadian pop   \n",
              "1         2                            China       Anuel AA  reggaeton flow   \n",
              "2         3    boyfriend (with Social House)  Ariana Grande       dance pop   \n",
              "3         4  Beautiful People (feat. Khalid)     Ed Sheeran             pop   \n",
              "4         5      Goodbyes (Feat. Young Thug)    Post Malone         dfw rap   \n",
              "\n",
              "   Beats.Per.Minute  Energy  Danceability  Loudness..dB..  Liveness  Valence.  \\\n",
              "0               117      55            76              -6         8        75   \n",
              "1               105      81            79              -4         8        61   \n",
              "2               190      80            40              -4        16        70   \n",
              "3                93      65            64              -8         8        55   \n",
              "4               150      65            58              -4        11        18   \n",
              "\n",
              "   Length.  Acousticness..  Speechiness.  Popularity  \n",
              "0      191               4             3          79  \n",
              "1      302               8             9          92  \n",
              "2      186              12            46          85  \n",
              "3      198              12            19          86  \n",
              "4      175              45             7          94  "
            ],
            "text/html": [
              "\n",
              "  <div id=\"df-69830376-0aaf-44bf-92ee-401001cf24b8\">\n",
              "    <div class=\"colab-df-container\">\n",
              "      <div>\n",
              "<style scoped>\n",
              "    .dataframe tbody tr th:only-of-type {\n",
              "        vertical-align: middle;\n",
              "    }\n",
              "\n",
              "    .dataframe tbody tr th {\n",
              "        vertical-align: top;\n",
              "    }\n",
              "\n",
              "    .dataframe thead th {\n",
              "        text-align: right;\n",
              "    }\n",
              "</style>\n",
              "<table border=\"1\" class=\"dataframe\">\n",
              "  <thead>\n",
              "    <tr style=\"text-align: right;\">\n",
              "      <th></th>\n",
              "      <th>Position</th>\n",
              "      <th>Track.Name</th>\n",
              "      <th>Artist.Name</th>\n",
              "      <th>Genre</th>\n",
              "      <th>Beats.Per.Minute</th>\n",
              "      <th>Energy</th>\n",
              "      <th>Danceability</th>\n",
              "      <th>Loudness..dB..</th>\n",
              "      <th>Liveness</th>\n",
              "      <th>Valence.</th>\n",
              "      <th>Length.</th>\n",
              "      <th>Acousticness..</th>\n",
              "      <th>Speechiness.</th>\n",
              "      <th>Popularity</th>\n",
              "    </tr>\n",
              "  </thead>\n",
              "  <tbody>\n",
              "    <tr>\n",
              "      <th>0</th>\n",
              "      <td>1</td>\n",
              "      <td>Senorita</td>\n",
              "      <td>Shawn Mendes</td>\n",
              "      <td>canadian pop</td>\n",
              "      <td>117</td>\n",
              "      <td>55</td>\n",
              "      <td>76</td>\n",
              "      <td>-6</td>\n",
              "      <td>8</td>\n",
              "      <td>75</td>\n",
              "      <td>191</td>\n",
              "      <td>4</td>\n",
              "      <td>3</td>\n",
              "      <td>79</td>\n",
              "    </tr>\n",
              "    <tr>\n",
              "      <th>1</th>\n",
              "      <td>2</td>\n",
              "      <td>China</td>\n",
              "      <td>Anuel AA</td>\n",
              "      <td>reggaeton flow</td>\n",
              "      <td>105</td>\n",
              "      <td>81</td>\n",
              "      <td>79</td>\n",
              "      <td>-4</td>\n",
              "      <td>8</td>\n",
              "      <td>61</td>\n",
              "      <td>302</td>\n",
              "      <td>8</td>\n",
              "      <td>9</td>\n",
              "      <td>92</td>\n",
              "    </tr>\n",
              "    <tr>\n",
              "      <th>2</th>\n",
              "      <td>3</td>\n",
              "      <td>boyfriend (with Social House)</td>\n",
              "      <td>Ariana Grande</td>\n",
              "      <td>dance pop</td>\n",
              "      <td>190</td>\n",
              "      <td>80</td>\n",
              "      <td>40</td>\n",
              "      <td>-4</td>\n",
              "      <td>16</td>\n",
              "      <td>70</td>\n",
              "      <td>186</td>\n",
              "      <td>12</td>\n",
              "      <td>46</td>\n",
              "      <td>85</td>\n",
              "    </tr>\n",
              "    <tr>\n",
              "      <th>3</th>\n",
              "      <td>4</td>\n",
              "      <td>Beautiful People (feat. Khalid)</td>\n",
              "      <td>Ed Sheeran</td>\n",
              "      <td>pop</td>\n",
              "      <td>93</td>\n",
              "      <td>65</td>\n",
              "      <td>64</td>\n",
              "      <td>-8</td>\n",
              "      <td>8</td>\n",
              "      <td>55</td>\n",
              "      <td>198</td>\n",
              "      <td>12</td>\n",
              "      <td>19</td>\n",
              "      <td>86</td>\n",
              "    </tr>\n",
              "    <tr>\n",
              "      <th>4</th>\n",
              "      <td>5</td>\n",
              "      <td>Goodbyes (Feat. Young Thug)</td>\n",
              "      <td>Post Malone</td>\n",
              "      <td>dfw rap</td>\n",
              "      <td>150</td>\n",
              "      <td>65</td>\n",
              "      <td>58</td>\n",
              "      <td>-4</td>\n",
              "      <td>11</td>\n",
              "      <td>18</td>\n",
              "      <td>175</td>\n",
              "      <td>45</td>\n",
              "      <td>7</td>\n",
              "      <td>94</td>\n",
              "    </tr>\n",
              "  </tbody>\n",
              "</table>\n",
              "</div>\n",
              "      <button class=\"colab-df-convert\" onclick=\"convertToInteractive('df-69830376-0aaf-44bf-92ee-401001cf24b8')\"\n",
              "              title=\"Convert this dataframe to an interactive table.\"\n",
              "              style=\"display:none;\">\n",
              "        \n",
              "  <svg xmlns=\"http://www.w3.org/2000/svg\" height=\"24px\"viewBox=\"0 0 24 24\"\n",
              "       width=\"24px\">\n",
              "    <path d=\"M0 0h24v24H0V0z\" fill=\"none\"/>\n",
              "    <path d=\"M18.56 5.44l.94 2.06.94-2.06 2.06-.94-2.06-.94-.94-2.06-.94 2.06-2.06.94zm-11 1L8.5 8.5l.94-2.06 2.06-.94-2.06-.94L8.5 2.5l-.94 2.06-2.06.94zm10 10l.94 2.06.94-2.06 2.06-.94-2.06-.94-.94-2.06-.94 2.06-2.06.94z\"/><path d=\"M17.41 7.96l-1.37-1.37c-.4-.4-.92-.59-1.43-.59-.52 0-1.04.2-1.43.59L10.3 9.45l-7.72 7.72c-.78.78-.78 2.05 0 2.83L4 21.41c.39.39.9.59 1.41.59.51 0 1.02-.2 1.41-.59l7.78-7.78 2.81-2.81c.8-.78.8-2.07 0-2.86zM5.41 20L4 18.59l7.72-7.72 1.47 1.35L5.41 20z\"/>\n",
              "  </svg>\n",
              "      </button>\n",
              "      \n",
              "  <style>\n",
              "    .colab-df-container {\n",
              "      display:flex;\n",
              "      flex-wrap:wrap;\n",
              "      gap: 12px;\n",
              "    }\n",
              "\n",
              "    .colab-df-convert {\n",
              "      background-color: #E8F0FE;\n",
              "      border: none;\n",
              "      border-radius: 50%;\n",
              "      cursor: pointer;\n",
              "      display: none;\n",
              "      fill: #1967D2;\n",
              "      height: 32px;\n",
              "      padding: 0 0 0 0;\n",
              "      width: 32px;\n",
              "    }\n",
              "\n",
              "    .colab-df-convert:hover {\n",
              "      background-color: #E2EBFA;\n",
              "      box-shadow: 0px 1px 2px rgba(60, 64, 67, 0.3), 0px 1px 3px 1px rgba(60, 64, 67, 0.15);\n",
              "      fill: #174EA6;\n",
              "    }\n",
              "\n",
              "    [theme=dark] .colab-df-convert {\n",
              "      background-color: #3B4455;\n",
              "      fill: #D2E3FC;\n",
              "    }\n",
              "\n",
              "    [theme=dark] .colab-df-convert:hover {\n",
              "      background-color: #434B5C;\n",
              "      box-shadow: 0px 1px 3px 1px rgba(0, 0, 0, 0.15);\n",
              "      filter: drop-shadow(0px 1px 2px rgba(0, 0, 0, 0.3));\n",
              "      fill: #FFFFFF;\n",
              "    }\n",
              "  </style>\n",
              "\n",
              "      <script>\n",
              "        const buttonEl =\n",
              "          document.querySelector('#df-69830376-0aaf-44bf-92ee-401001cf24b8 button.colab-df-convert');\n",
              "        buttonEl.style.display =\n",
              "          google.colab.kernel.accessAllowed ? 'block' : 'none';\n",
              "\n",
              "        async function convertToInteractive(key) {\n",
              "          const element = document.querySelector('#df-69830376-0aaf-44bf-92ee-401001cf24b8');\n",
              "          const dataTable =\n",
              "            await google.colab.kernel.invokeFunction('convertToInteractive',\n",
              "                                                     [key], {});\n",
              "          if (!dataTable) return;\n",
              "\n",
              "          const docLinkHtml = 'Like what you see? Visit the ' +\n",
              "            '<a target=\"_blank\" href=https://colab.research.google.com/notebooks/data_table.ipynb>data table notebook</a>'\n",
              "            + ' to learn more about interactive tables.';\n",
              "          element.innerHTML = '';\n",
              "          dataTable['output_type'] = 'display_data';\n",
              "          await google.colab.output.renderOutput(dataTable, element);\n",
              "          const docLink = document.createElement('div');\n",
              "          docLink.innerHTML = docLinkHtml;\n",
              "          element.appendChild(docLink);\n",
              "        }\n",
              "      </script>\n",
              "    </div>\n",
              "  </div>\n",
              "  "
            ]
          },
          "metadata": {},
          "execution_count": 2
        }
      ]
    },
    {
      "cell_type": "code",
      "source": [
        "top50.shape"
      ],
      "metadata": {
        "colab": {
          "base_uri": "https://localhost:8080/"
        },
        "id": "zjXjQdLgZOsl",
        "outputId": "f5411f4e-56f3-43e5-b28e-0d6c6873706a"
      },
      "execution_count": 3,
      "outputs": [
        {
          "output_type": "execute_result",
          "data": {
            "text/plain": [
              "(50, 14)"
            ]
          },
          "metadata": {},
          "execution_count": 3
        }
      ]
    },
    {
      "cell_type": "markdown",
      "source": [
        "Abbiamo quindi 50 canzoni e 14 attributi legati ad esse."
      ],
      "metadata": {
        "id": "gbYAA8KKIwgJ"
      }
    },
    {
      "cell_type": "markdown",
      "source": [
        "Analizzeremo appunto queste caratteristiche ccercando di risponderci alla domanda : \n",
        "- quali sono le caratteristiche che rendono una canzone di successo.\n",
        "\n",
        "La risposta a questa domanda la andiamo a cercare dii estrapolare dall'analisi dei dati andando a confontare queste caratteristiche delle canzoni tra di loro, tra i generi.\n",
        "\n",
        "Partiamo subito da una descrizione tabellare dei dati a nostra disposizione:"
      ],
      "metadata": {
        "id": "TLHgwzbnI2S3"
      }
    },
    {
      "cell_type": "code",
      "source": [
        "top50.describe()"
      ],
      "metadata": {
        "colab": {
          "base_uri": "https://localhost:8080/",
          "height": 364
        },
        "id": "XN0Yu60aZPo8",
        "outputId": "2d3cf289-75e7-4d27-d222-c6cb9bae50cb"
      },
      "execution_count": 4,
      "outputs": [
        {
          "output_type": "execute_result",
          "data": {
            "text/plain": [
              "       Position  Beats.Per.Minute     Energy  Danceability  Loudness..dB..  \\\n",
              "count  50.00000         50.000000  50.000000      50.00000       50.000000   \n",
              "mean   25.50000        120.060000  64.060000      71.38000       -5.660000   \n",
              "std    14.57738         30.898392  14.231913      11.92988        2.056448   \n",
              "min     1.00000         85.000000  32.000000      29.00000      -11.000000   \n",
              "25%    13.25000         96.000000  55.250000      67.00000       -6.750000   \n",
              "50%    25.50000        104.500000  66.500000      73.50000       -6.000000   \n",
              "75%    37.75000        137.500000  74.750000      79.75000       -4.000000   \n",
              "max    50.00000        190.000000  88.000000      90.00000       -2.000000   \n",
              "\n",
              "        Liveness   Valence.     Length.  Acousticness..  Speechiness.  \\\n",
              "count  50.000000  50.000000   50.000000       50.000000     50.000000   \n",
              "mean   14.660000  54.600000  200.960000       22.160000     12.480000   \n",
              "std    11.118306  22.336024   39.143879       18.995553     11.161596   \n",
              "min     5.000000  10.000000  115.000000        1.000000      3.000000   \n",
              "25%     8.000000  38.250000  176.750000        8.250000      5.000000   \n",
              "50%    11.000000  55.500000  198.000000       15.000000      7.000000   \n",
              "75%    15.750000  69.500000  217.500000       33.750000     15.000000   \n",
              "max    58.000000  95.000000  309.000000       75.000000     46.000000   \n",
              "\n",
              "       Popularity  \n",
              "count   50.000000  \n",
              "mean    87.500000  \n",
              "std      4.491489  \n",
              "min     70.000000  \n",
              "25%     86.000000  \n",
              "50%     88.000000  \n",
              "75%     90.750000  \n",
              "max     95.000000  "
            ],
            "text/html": [
              "\n",
              "  <div id=\"df-456474a3-8ebe-407a-a9db-82a8c85b01f3\">\n",
              "    <div class=\"colab-df-container\">\n",
              "      <div>\n",
              "<style scoped>\n",
              "    .dataframe tbody tr th:only-of-type {\n",
              "        vertical-align: middle;\n",
              "    }\n",
              "\n",
              "    .dataframe tbody tr th {\n",
              "        vertical-align: top;\n",
              "    }\n",
              "\n",
              "    .dataframe thead th {\n",
              "        text-align: right;\n",
              "    }\n",
              "</style>\n",
              "<table border=\"1\" class=\"dataframe\">\n",
              "  <thead>\n",
              "    <tr style=\"text-align: right;\">\n",
              "      <th></th>\n",
              "      <th>Position</th>\n",
              "      <th>Beats.Per.Minute</th>\n",
              "      <th>Energy</th>\n",
              "      <th>Danceability</th>\n",
              "      <th>Loudness..dB..</th>\n",
              "      <th>Liveness</th>\n",
              "      <th>Valence.</th>\n",
              "      <th>Length.</th>\n",
              "      <th>Acousticness..</th>\n",
              "      <th>Speechiness.</th>\n",
              "      <th>Popularity</th>\n",
              "    </tr>\n",
              "  </thead>\n",
              "  <tbody>\n",
              "    <tr>\n",
              "      <th>count</th>\n",
              "      <td>50.00000</td>\n",
              "      <td>50.000000</td>\n",
              "      <td>50.000000</td>\n",
              "      <td>50.00000</td>\n",
              "      <td>50.000000</td>\n",
              "      <td>50.000000</td>\n",
              "      <td>50.000000</td>\n",
              "      <td>50.000000</td>\n",
              "      <td>50.000000</td>\n",
              "      <td>50.000000</td>\n",
              "      <td>50.000000</td>\n",
              "    </tr>\n",
              "    <tr>\n",
              "      <th>mean</th>\n",
              "      <td>25.50000</td>\n",
              "      <td>120.060000</td>\n",
              "      <td>64.060000</td>\n",
              "      <td>71.38000</td>\n",
              "      <td>-5.660000</td>\n",
              "      <td>14.660000</td>\n",
              "      <td>54.600000</td>\n",
              "      <td>200.960000</td>\n",
              "      <td>22.160000</td>\n",
              "      <td>12.480000</td>\n",
              "      <td>87.500000</td>\n",
              "    </tr>\n",
              "    <tr>\n",
              "      <th>std</th>\n",
              "      <td>14.57738</td>\n",
              "      <td>30.898392</td>\n",
              "      <td>14.231913</td>\n",
              "      <td>11.92988</td>\n",
              "      <td>2.056448</td>\n",
              "      <td>11.118306</td>\n",
              "      <td>22.336024</td>\n",
              "      <td>39.143879</td>\n",
              "      <td>18.995553</td>\n",
              "      <td>11.161596</td>\n",
              "      <td>4.491489</td>\n",
              "    </tr>\n",
              "    <tr>\n",
              "      <th>min</th>\n",
              "      <td>1.00000</td>\n",
              "      <td>85.000000</td>\n",
              "      <td>32.000000</td>\n",
              "      <td>29.00000</td>\n",
              "      <td>-11.000000</td>\n",
              "      <td>5.000000</td>\n",
              "      <td>10.000000</td>\n",
              "      <td>115.000000</td>\n",
              "      <td>1.000000</td>\n",
              "      <td>3.000000</td>\n",
              "      <td>70.000000</td>\n",
              "    </tr>\n",
              "    <tr>\n",
              "      <th>25%</th>\n",
              "      <td>13.25000</td>\n",
              "      <td>96.000000</td>\n",
              "      <td>55.250000</td>\n",
              "      <td>67.00000</td>\n",
              "      <td>-6.750000</td>\n",
              "      <td>8.000000</td>\n",
              "      <td>38.250000</td>\n",
              "      <td>176.750000</td>\n",
              "      <td>8.250000</td>\n",
              "      <td>5.000000</td>\n",
              "      <td>86.000000</td>\n",
              "    </tr>\n",
              "    <tr>\n",
              "      <th>50%</th>\n",
              "      <td>25.50000</td>\n",
              "      <td>104.500000</td>\n",
              "      <td>66.500000</td>\n",
              "      <td>73.50000</td>\n",
              "      <td>-6.000000</td>\n",
              "      <td>11.000000</td>\n",
              "      <td>55.500000</td>\n",
              "      <td>198.000000</td>\n",
              "      <td>15.000000</td>\n",
              "      <td>7.000000</td>\n",
              "      <td>88.000000</td>\n",
              "    </tr>\n",
              "    <tr>\n",
              "      <th>75%</th>\n",
              "      <td>37.75000</td>\n",
              "      <td>137.500000</td>\n",
              "      <td>74.750000</td>\n",
              "      <td>79.75000</td>\n",
              "      <td>-4.000000</td>\n",
              "      <td>15.750000</td>\n",
              "      <td>69.500000</td>\n",
              "      <td>217.500000</td>\n",
              "      <td>33.750000</td>\n",
              "      <td>15.000000</td>\n",
              "      <td>90.750000</td>\n",
              "    </tr>\n",
              "    <tr>\n",
              "      <th>max</th>\n",
              "      <td>50.00000</td>\n",
              "      <td>190.000000</td>\n",
              "      <td>88.000000</td>\n",
              "      <td>90.00000</td>\n",
              "      <td>-2.000000</td>\n",
              "      <td>58.000000</td>\n",
              "      <td>95.000000</td>\n",
              "      <td>309.000000</td>\n",
              "      <td>75.000000</td>\n",
              "      <td>46.000000</td>\n",
              "      <td>95.000000</td>\n",
              "    </tr>\n",
              "  </tbody>\n",
              "</table>\n",
              "</div>\n",
              "      <button class=\"colab-df-convert\" onclick=\"convertToInteractive('df-456474a3-8ebe-407a-a9db-82a8c85b01f3')\"\n",
              "              title=\"Convert this dataframe to an interactive table.\"\n",
              "              style=\"display:none;\">\n",
              "        \n",
              "  <svg xmlns=\"http://www.w3.org/2000/svg\" height=\"24px\"viewBox=\"0 0 24 24\"\n",
              "       width=\"24px\">\n",
              "    <path d=\"M0 0h24v24H0V0z\" fill=\"none\"/>\n",
              "    <path d=\"M18.56 5.44l.94 2.06.94-2.06 2.06-.94-2.06-.94-.94-2.06-.94 2.06-2.06.94zm-11 1L8.5 8.5l.94-2.06 2.06-.94-2.06-.94L8.5 2.5l-.94 2.06-2.06.94zm10 10l.94 2.06.94-2.06 2.06-.94-2.06-.94-.94-2.06-.94 2.06-2.06.94z\"/><path d=\"M17.41 7.96l-1.37-1.37c-.4-.4-.92-.59-1.43-.59-.52 0-1.04.2-1.43.59L10.3 9.45l-7.72 7.72c-.78.78-.78 2.05 0 2.83L4 21.41c.39.39.9.59 1.41.59.51 0 1.02-.2 1.41-.59l7.78-7.78 2.81-2.81c.8-.78.8-2.07 0-2.86zM5.41 20L4 18.59l7.72-7.72 1.47 1.35L5.41 20z\"/>\n",
              "  </svg>\n",
              "      </button>\n",
              "      \n",
              "  <style>\n",
              "    .colab-df-container {\n",
              "      display:flex;\n",
              "      flex-wrap:wrap;\n",
              "      gap: 12px;\n",
              "    }\n",
              "\n",
              "    .colab-df-convert {\n",
              "      background-color: #E8F0FE;\n",
              "      border: none;\n",
              "      border-radius: 50%;\n",
              "      cursor: pointer;\n",
              "      display: none;\n",
              "      fill: #1967D2;\n",
              "      height: 32px;\n",
              "      padding: 0 0 0 0;\n",
              "      width: 32px;\n",
              "    }\n",
              "\n",
              "    .colab-df-convert:hover {\n",
              "      background-color: #E2EBFA;\n",
              "      box-shadow: 0px 1px 2px rgba(60, 64, 67, 0.3), 0px 1px 3px 1px rgba(60, 64, 67, 0.15);\n",
              "      fill: #174EA6;\n",
              "    }\n",
              "\n",
              "    [theme=dark] .colab-df-convert {\n",
              "      background-color: #3B4455;\n",
              "      fill: #D2E3FC;\n",
              "    }\n",
              "\n",
              "    [theme=dark] .colab-df-convert:hover {\n",
              "      background-color: #434B5C;\n",
              "      box-shadow: 0px 1px 3px 1px rgba(0, 0, 0, 0.15);\n",
              "      filter: drop-shadow(0px 1px 2px rgba(0, 0, 0, 0.3));\n",
              "      fill: #FFFFFF;\n",
              "    }\n",
              "  </style>\n",
              "\n",
              "      <script>\n",
              "        const buttonEl =\n",
              "          document.querySelector('#df-456474a3-8ebe-407a-a9db-82a8c85b01f3 button.colab-df-convert');\n",
              "        buttonEl.style.display =\n",
              "          google.colab.kernel.accessAllowed ? 'block' : 'none';\n",
              "\n",
              "        async function convertToInteractive(key) {\n",
              "          const element = document.querySelector('#df-456474a3-8ebe-407a-a9db-82a8c85b01f3');\n",
              "          const dataTable =\n",
              "            await google.colab.kernel.invokeFunction('convertToInteractive',\n",
              "                                                     [key], {});\n",
              "          if (!dataTable) return;\n",
              "\n",
              "          const docLinkHtml = 'Like what you see? Visit the ' +\n",
              "            '<a target=\"_blank\" href=https://colab.research.google.com/notebooks/data_table.ipynb>data table notebook</a>'\n",
              "            + ' to learn more about interactive tables.';\n",
              "          element.innerHTML = '';\n",
              "          dataTable['output_type'] = 'display_data';\n",
              "          await google.colab.output.renderOutput(dataTable, element);\n",
              "          const docLink = document.createElement('div');\n",
              "          docLink.innerHTML = docLinkHtml;\n",
              "          element.appendChild(docLink);\n",
              "        }\n",
              "      </script>\n",
              "    </div>\n",
              "  </div>\n",
              "  "
            ]
          },
          "metadata": {},
          "execution_count": 4
        }
      ]
    },
    {
      "cell_type": "markdown",
      "source": [
        "Queste sono le distrubuzioni in percentuale dei dati che stiamo analizzando, solamente quelli quantitativi come possiamo notare.\n",
        "QUesto ovviamente dato che a quelli qualitativi non è possibile applicare formule matematiche a meno che non si rendano quantitativi(in seguito lo si farà per la predizione del genere, tra l'altro sono dati sui quali poi si formeranno dei box plot riportati nel seguito). \n",
        "\n"
      ],
      "metadata": {
        "id": "rEBrb17WJa8M"
      }
    },
    {
      "cell_type": "markdown",
      "source": [
        "Andiamo a vedere ora quante canzoni ci sono per genere in questa top50 andando a visualizzare il tutto con un istogramma:"
      ],
      "metadata": {
        "id": "uIbjGvevaa9b"
      }
    },
    {
      "cell_type": "code",
      "source": [
        "num_genre = top50['Genre'].value_counts()\n",
        "num_genre.plot(kind = 'bar',title = 'Numero Canzoni x Genere', fontsize = 10, figsize = (15,5))"
      ],
      "metadata": {
        "colab": {
          "base_uri": "https://localhost:8080/",
          "height": 430
        },
        "id": "NDYXpEmlah8l",
        "outputId": "2e8ebdaa-eaef-4aab-9fc6-3551320a9f9b"
      },
      "execution_count": 5,
      "outputs": [
        {
          "output_type": "execute_result",
          "data": {
            "text/plain": [
              "<matplotlib.axes._subplots.AxesSubplot at 0x7f24ab5c5250>"
            ]
          },
          "metadata": {},
          "execution_count": 5
        },
        {
          "output_type": "display_data",
          "data": {
            "text/plain": [
              "<Figure size 1080x360 with 1 Axes>"
            ],
            "image/png": "[encoded data removed]"
          },
          "metadata": {
            "needs_background": "light"
          }
        }
      ]
    },
    {
      "cell_type": "markdown",
      "source": [
        "E' il dance pop quindi il genere contenente più canzoni presenti nella top50 globale del 2019 con 8 canzoni, seguito subito dal pop che invece ne presenta 7."
      ],
      "metadata": {
        "id": "ohpsfE6uOFv0"
      }
    },
    {
      "cell_type": "markdown",
      "source": [
        "Vediamo quante canzoni diverse ci sono per ogni artista presente nella playlist:"
      ],
      "metadata": {
        "id": "Ht4QPkIZab1-"
      }
    },
    {
      "cell_type": "code",
      "source": [
        "num_artist_name = top50['Artist.Name'].value_counts()\n",
        "num_artist_name.plot(kind = 'bar',title = 'Numero Canzoni x Artista', fontsize = 10, figsize = (15,5))"
      ],
      "metadata": {
        "colab": {
          "base_uri": "https://localhost:8080/",
          "height": 436
        },
        "id": "Go5AwNZ4abZI",
        "outputId": "34d8488a-5179-433e-b310-eb4b61bc702d"
      },
      "execution_count": 6,
      "outputs": [
        {
          "output_type": "execute_result",
          "data": {
            "text/plain": [
              "<matplotlib.axes._subplots.AxesSubplot at 0x7f24a54e29d0>"
            ]
          },
          "metadata": {},
          "execution_count": 6
        },
        {
          "output_type": "display_data",
          "data": {
            "text/plain": [
              "<Figure size 1080x360 with 1 Axes>"
            ],
            "image/png": "[encoded data removed]"
          },
          "metadata": {
            "needs_background": "light"
          }
        }
      ]
    },
    {
      "cell_type": "markdown",
      "source": [
        "Ed Sheeran risulta essere l'artista con più canzoni in questa classifica, ben 4!\n",
        "\n",
        "Ci possiamo anche però porre se fosse il più popolare e quindi dobbiamo vedere un istrogramma della popolarità delle canzoni raggruppandole per genere:"
      ],
      "metadata": {
        "id": "_LSRPZU1bF6d"
      }
    },
    {
      "cell_type": "code",
      "source": [
        "top50.groupby('Genre')['Popularity'].mean().sort_values(ascending = False).plot(kind='bar',title = 'Popolarità Media x Genere', fontsize = 10, figsize = (15,5))"
      ],
      "metadata": {
        "colab": {
          "base_uri": "https://localhost:8080/",
          "height": 444
        },
        "id": "jZPujm0ibYnW",
        "outputId": "73dfbf5e-9312-48b0-e889-400e740fe29e"
      },
      "execution_count": 7,
      "outputs": [
        {
          "output_type": "execute_result",
          "data": {
            "text/plain": [
              "<matplotlib.axes._subplots.AxesSubplot at 0x7f24a53abfd0>"
            ]
          },
          "metadata": {},
          "execution_count": 7
        },
        {
          "output_type": "display_data",
          "data": {
            "text/plain": [
              "<Figure size 1080x360 with 1 Axes>"
            ],
            "image/png": "[encoded data removed]"
          },
          "metadata": {
            "needs_background": "light"
          }
        }
      ]
    },
    {
      "cell_type": "markdown",
      "source": [
        "Da questo grafico si evince che il dance pop, il genere che presenta più canzoni nella top50, non è quello che ha la media di popularità più alta."
      ],
      "metadata": {
        "id": "URajrPdadtiP"
      }
    },
    {
      "cell_type": "markdown",
      "source": [
        "Questo perchè è la popolarità media e i generi che presentano sono una canzone sono \"avvantaggiati\" nel calcolo di questa media.\n",
        "\n",
        "Se invece sommiamo la popolarità delle canzoni per genere possiamo valutare che la popolarità rispecchia il grafico del numero di valori di canzoni per genere dato che hanno all'incirca popolarità simili le canzoni in analisi.\n",
        "\n",
        "Quindi otteniamo il seguente grafico:"
      ],
      "metadata": {
        "id": "YqRu2N-bjwzb"
      }
    },
    {
      "cell_type": "code",
      "source": [
        "top50.groupby('Genre')['Popularity'].sum().sort_values(ascending = False).plot(kind='bar',title = 'Popolarità \"Ponderata\" x Genere', fontsize = 10, figsize = (15,5))"
      ],
      "metadata": {
        "colab": {
          "base_uri": "https://localhost:8080/",
          "height": 444
        },
        "id": "CHloP7jRcXkd",
        "outputId": "ea679609-da17-4960-c560-9a9b8700b7a2"
      },
      "execution_count": 8,
      "outputs": [
        {
          "output_type": "execute_result",
          "data": {
            "text/plain": [
              "<matplotlib.axes._subplots.AxesSubplot at 0x7f24a52fa510>"
            ]
          },
          "metadata": {},
          "execution_count": 8
        },
        {
          "output_type": "display_data",
          "data": {
            "text/plain": [
              "<Figure size 1080x360 with 1 Axes>"
            ],
            "image/png": "[encoded data removed]"
          },
          "metadata": {
            "needs_background": "light"
          }
        }
      ]
    },
    {
      "cell_type": "markdown",
      "source": [
        "Quindi in questo caso ottengo complessivamente quello che già ci aspettavamo, la popolarità maggiore è presentata dal genere che presenta più canzoni all'interno della playlist.\n",
        "\n",
        "Essendo appunto la top50 globale pressocchè tutte le canzoni sono popolari e quindi riotteniamo appunto il grafico come se stessimo analizzando il numero di valori di canzoni presenti per genere."
      ],
      "metadata": {
        "id": "qVhN6cMqcpvn"
      }
    },
    {
      "cell_type": "markdown",
      "source": [
        "Vediamo quindi quale genere ha la media più alta di posizionamento in questa top50:"
      ],
      "metadata": {
        "id": "Z0sqnFJqtsPQ"
      }
    },
    {
      "cell_type": "code",
      "source": [
        "top50.groupby('Genre')['Position'].mean().sort_values(ascending = False).plot(kind='bar',title = 'Media Posizionamento in Classifica x Genere', fontsize = 10, figsize = (15,5))"
      ],
      "metadata": {
        "colab": {
          "base_uri": "https://localhost:8080/",
          "height": 444
        },
        "id": "jf5Pe6STtbIB",
        "outputId": "60bc5ed1-a5ab-4caf-9000-1ca8c5700425"
      },
      "execution_count": 9,
      "outputs": [
        {
          "output_type": "execute_result",
          "data": {
            "text/plain": [
              "<matplotlib.axes._subplots.AxesSubplot at 0x7f24a524a590>"
            ]
          },
          "metadata": {},
          "execution_count": 9
        },
        {
          "output_type": "display_data",
          "data": {
            "text/plain": [
              "<Figure size 1080x360 with 1 Axes>"
            ],
            "image/png": "[encoded data removed]"
          },
          "metadata": {
            "needs_background": "light"
          }
        }
      ]
    },
    {
      "cell_type": "markdown",
      "source": [
        "In questo caso si vede come il genere \"messo meglio\" in classifica con una media del posizionamento è il genere: trap music"
      ],
      "metadata": {
        "id": "V9kWUs89t7Ae"
      }
    },
    {
      "cell_type": "markdown",
      "source": [
        "Ora andiamo a vedere le analogie tra genere e Beats Per Minuto:"
      ],
      "metadata": {
        "id": "ytJAVqp4uIbm"
      }
    },
    {
      "cell_type": "code",
      "source": [
        "top50.groupby('Genre')['Beats.Per.Minute'].mean().sort_values(ascending = False).plot(kind='bar',title = 'BPM x Genere', fontsize = 10, figsize = (15,5))"
      ],
      "metadata": {
        "colab": {
          "base_uri": "https://localhost:8080/",
          "height": 444
        },
        "id": "7wAVb4VSsPeQ",
        "outputId": "6f7d8d2a-ffe2-409e-f30b-93ab2cc91029"
      },
      "execution_count": 10,
      "outputs": [
        {
          "output_type": "execute_result",
          "data": {
            "text/plain": [
              "<matplotlib.axes._subplots.AxesSubplot at 0x7f24a51a92d0>"
            ]
          },
          "metadata": {},
          "execution_count": 10
        },
        {
          "output_type": "display_data",
          "data": {
            "text/plain": [
              "<Figure size 1080x360 with 1 Axes>"
            ],
            "image/png": "[encoded data removed]"
          },
          "metadata": {
            "needs_background": "light"
          }
        }
      ]
    },
    {
      "cell_type": "markdown",
      "source": [
        ":Si evince dal grafico soprastante che il genere con più battiti è la trap music, il quale è anche il genere posizionato mediamente meglio in classifica(anche dato il fatto che è presente un unica canzone di questo genere).\n",
        "\n",
        "Studiamo quindi se e come infuisce il numero di battiti per minuto con la popolarità della canzone dato che il genere con il più alto numero di bpm è anche il genere piazzato meglio mediamente nella top50 analizzata."
      ],
      "metadata": {
        "id": "OBNsbsSdubjo"
      }
    },
    {
      "cell_type": "markdown",
      "source": [
        "Analizziamo ora qual'è il genere con il maggior numero di parole diverse utilizzate all'intero della canzone: "
      ],
      "metadata": {
        "id": "MjYFLa2ruQhz"
      }
    },
    {
      "cell_type": "code",
      "source": [
        "top50.groupby('Genre')['Speechiness.'].mean().sort_values(ascending = False).plot(kind='bar',title = 'Parole Diffrenti nella canzone x Genere', fontsize = 10, figsize = (15,5))"
      ],
      "metadata": {
        "colab": {
          "base_uri": "https://localhost:8080/",
          "height": 444
        },
        "id": "WBoYUZfFZnJD",
        "outputId": "11535f92-8c01-4c6c-fdf9-8f77b76f1329"
      },
      "execution_count": 11,
      "outputs": [
        {
          "output_type": "execute_result",
          "data": {
            "text/plain": [
              "<matplotlib.axes._subplots.AxesSubplot at 0x7f24a50fde10>"
            ]
          },
          "metadata": {},
          "execution_count": 11
        },
        {
          "output_type": "display_data",
          "data": {
            "text/plain": [
              "<Figure size 1080x360 with 1 Axes>"
            ],
            "image/png": "[encoded data removed]"
          },
          "metadata": {
            "needs_background": "light"
          }
        }
      ]
    },
    {
      "cell_type": "markdown",
      "source": [
        "Si vede bene come sia l'electropop il genere che presenta più parole differenti all'interno dei testi delle canzoni, seguito subito da reggaeton e trap music.\n",
        "\n",
        "Quest'ultimo è sempre presente i queste analisi ed è effettivamente un genere che riesce a differenziarsi molto dagli altri in molti aspetti e sta spopolando in questi anni su spotify e su tutte le piattaforme di musica."
      ],
      "metadata": {
        "id": "ZZAvBT8GiFD-"
      }
    },
    {
      "cell_type": "markdown",
      "source": [
        "Non siamo comunque ancora riusciti ad evidenziare caratteristiche fondamentali per il successo di una canzone anche se numero di bpm ed il valore legato allo speechiness della canzone possono darci un indicazione di base.\n",
        "\n",
        "Analizziamo il posizionamento della classifica per levarci il dubbio che la canzone prima in classifica sia la più popolare:"
      ],
      "metadata": {
        "id": "EkGbFAiLlkE6"
      }
    },
    {
      "cell_type": "markdown",
      "source": [
        "***Position to Popularity***"
      ],
      "metadata": {
        "id": "hcuxCtgIhB4q"
      }
    },
    {
      "cell_type": "code",
      "source": [
        "plt.scatter(top50['Position'],top50['Popularity'])"
      ],
      "metadata": {
        "colab": {
          "base_uri": "https://localhost:8080/",
          "height": 283
        },
        "outputId": "861f2b27-8441-42e3-89e5-93f8af4d1567",
        "id": "cOn_-hPWhB4s"
      },
      "execution_count": 12,
      "outputs": [
        {
          "output_type": "execute_result",
          "data": {
            "text/plain": [
              "<matplotlib.collections.PathCollection at 0x7f24a4f7a890>"
            ]
          },
          "metadata": {},
          "execution_count": 12
        },
        {
          "output_type": "display_data",
          "data": {
            "text/plain": [
              "<Figure size 432x288 with 1 Axes>"
            ],
            "image/png": "[encoded data removed]"
          },
          "metadata": {
            "needs_background": "light"
          }
        }
      ]
    },
    {
      "cell_type": "markdown",
      "source": [
        "Si riesce ad estrapolare il dato che la canzone prima in classifica non è la più popolare! Quella più popolare si trova circa al decimo posto, un fatto curioso!"
      ],
      "metadata": {
        "id": "1v15oZ_wjgIY"
      }
    },
    {
      "cell_type": "markdown",
      "source": [
        "Ora andiamo a visualizzare altri di questi grafici a dispersione ma cerchiamo di capire maggiormente se c'è un possibile legame tra gli attributi e la popolarità.\n",
        "\n",
        "Andiamo a vedere in sostanza quali caratteristiche hanno prevalentemente le canzoni in questa top50 per poter consigliare cosi valori da usare per provare a creare una canzone di successo con maggiore fiducia.\n",
        "\n",
        "Confrontiamo quindi qua sotto una caratteristica alla volta della canzone e vediamo quanto influisce sulla popolarità dato che le nostre previsioni finali dovranno riuscire a trovare una popolarità partendo dagli attributi della canzone."
      ],
      "metadata": {
        "id": "0wdN8fJfgg0I"
      }
    },
    {
      "cell_type": "markdown",
      "source": [
        "***BPM to Popularity***"
      ],
      "metadata": {
        "id": "SdDJWjRWg16I"
      }
    },
    {
      "cell_type": "code",
      "source": [
        "plt.scatter(top50['Beats.Per.Minute'],top50['Popularity'])"
      ],
      "metadata": {
        "colab": {
          "base_uri": "https://localhost:8080/",
          "height": 283
        },
        "id": "4yr8NcbhgYWm",
        "outputId": "9c8a0909-b4f5-4c12-d9c5-5e4eabb65068"
      },
      "execution_count": 13,
      "outputs": [
        {
          "output_type": "execute_result",
          "data": {
            "text/plain": [
              "<matplotlib.collections.PathCollection at 0x7f24a4f28e50>"
            ]
          },
          "metadata": {},
          "execution_count": 13
        },
        {
          "output_type": "display_data",
          "data": {
            "text/plain": [
              "<Figure size 432x288 with 1 Axes>"
            ],
            "image/png": "[encoded data removed]"
          },
          "metadata": {
            "needs_background": "light"
          }
        }
      ]
    },
    {
      "cell_type": "markdown",
      "source": [
        "Si può dire che all'aumentare dei BPM non aumenta la pooplarità, però si riesce ad estrarre l'informazione che la maggior parte delle canzoni presenti nella playlist che hanno un numero di BPM tra 80 e 120 hanno una popolarità abbastanza coesa e comunque abbastanza alta mediamente. \n",
        "\n",
        "Mentre più aumenta il valore di BPM e più questa coesione viene meno anche se è proprio in questo gruppo che vi sono le canzoni più presenti.\n",
        "\n",
        "In sostanza si può evincere che non è in base al numero di bpm che si riesce a trovare una popolarità più o meno alta ma abbiamo analizzato appunto quello sopra riportato."
      ],
      "metadata": {
        "id": "sRNJWoxBjBb7"
      }
    },
    {
      "cell_type": "markdown",
      "source": [
        "***Danceability to Popularity***"
      ],
      "metadata": {
        "id": "6MGo_hMxhGvM"
      }
    },
    {
      "cell_type": "code",
      "source": [
        "plt.scatter(top50['Danceability'],top50['Popularity'])"
      ],
      "metadata": {
        "colab": {
          "base_uri": "https://localhost:8080/",
          "height": 283
        },
        "outputId": "cd4cd9d6-e202-49bf-8d76-0f286404d065",
        "id": "jyAiryP5hGvN"
      },
      "execution_count": 14,
      "outputs": [
        {
          "output_type": "execute_result",
          "data": {
            "text/plain": [
              "<matplotlib.collections.PathCollection at 0x7f24a4eaf910>"
            ]
          },
          "metadata": {},
          "execution_count": 14
        },
        {
          "output_type": "display_data",
          "data": {
            "text/plain": [
              "<Figure size 432x288 with 1 Axes>"
            ],
            "image/png": "[encoded data removed]"
          },
          "metadata": {
            "needs_background": "light"
          }
        }
      ]
    },
    {
      "cell_type": "markdown",
      "source": [
        "Da questo grafico si può notare come nella playlist sia presente un numero predominante di canzoni con un livello di ballabilità alto, però anche la canzone con meno ballabilità ha un valore medio di popolarità, anche se la maggioranza delle canzoni con più ballabilità è più popolare come vediamo dalla densità \"di pallini\" in alto nel grafico. "
      ],
      "metadata": {
        "id": "ZYi1JytMkodD"
      }
    },
    {
      "cell_type": "markdown",
      "source": [
        "***Liveness  to Popularity***"
      ],
      "metadata": {
        "id": "rJg_yPGshHmL"
      }
    },
    {
      "cell_type": "code",
      "source": [
        "plt.scatter(top50['Liveness'],top50['Popularity'])"
      ],
      "metadata": {
        "colab": {
          "base_uri": "https://localhost:8080/",
          "height": 283
        },
        "outputId": "e9bad9e8-47a0-4a2e-ef03-066f212a1f67",
        "id": "WB-pzTgJhHmN"
      },
      "execution_count": 15,
      "outputs": [
        {
          "output_type": "execute_result",
          "data": {
            "text/plain": [
              "<matplotlib.collections.PathCollection at 0x7f24a4e9ab50>"
            ]
          },
          "metadata": {},
          "execution_count": 15
        },
        {
          "output_type": "display_data",
          "data": {
            "text/plain": [
              "<Figure size 432x288 with 1 Axes>"
            ],
            "image/png": "[encoded data removed]"
          },
          "metadata": {
            "needs_background": "light"
          }
        }
      ]
    },
    {
      "cell_type": "markdown",
      "source": [
        "Si evince dal grafico che la maggior parte delle canzoni presenti all'interno della playlist hanno una liveness minore di 20, in questo gruppo c'è peraltro la canzone più popolare della playlist."
      ],
      "metadata": {
        "id": "Mm6dbdwknwjE"
      }
    },
    {
      "cell_type": "markdown",
      "source": [
        "***Length to Popularity***"
      ],
      "metadata": {
        "id": "cMHqYUYBhIYI"
      }
    },
    {
      "cell_type": "code",
      "source": [
        "plt.scatter(top50['Length.'],top50['Popularity'])"
      ],
      "metadata": {
        "colab": {
          "base_uri": "https://localhost:8080/",
          "height": 283
        },
        "outputId": "8a1977f6-d663-40d1-fb79-6c5082fb5db5",
        "id": "d_WcPX-shIYJ"
      },
      "execution_count": 16,
      "outputs": [
        {
          "output_type": "execute_result",
          "data": {
            "text/plain": [
              "<matplotlib.collections.PathCollection at 0x7f24a4e0fe10>"
            ]
          },
          "metadata": {},
          "execution_count": 16
        },
        {
          "output_type": "display_data",
          "data": {
            "text/plain": [
              "<Figure size 432x288 with 1 Axes>"
            ],
            "image/png": "[encoded data removed]"
          },
          "metadata": {
            "needs_background": "light"
          }
        }
      ]
    },
    {
      "cell_type": "markdown",
      "source": [
        "La maggior parte delle canzoni che sono presenti nella playlist hanno una durata compresa tra i 159 e 225 secondi, tra di queste c'è anche la più popolare. Anche in questo caso comunque non si può nè arrivare alla conclusione che più aumenta la durata e più aumenta la popolarità della canzone nè viceversa, ma siamo riusciti comunque a trovare un \"carattere\" comune a molte canzoni della playlist(appunto questo valore di lunghezza)."
      ],
      "metadata": {
        "id": "X9gBwqyXpWOl"
      }
    },
    {
      "cell_type": "markdown",
      "source": [
        "***Acousticness to Popularity***"
      ],
      "metadata": {
        "id": "N1Ise_l8hIiX"
      }
    },
    {
      "cell_type": "code",
      "source": [
        "plt.scatter(top50['Acousticness..'],top50['Popularity'])"
      ],
      "metadata": {
        "colab": {
          "base_uri": "https://localhost:8080/",
          "height": 283
        },
        "outputId": "d5cb119e-2b33-4bd6-e046-97149dec4742",
        "id": "AfegAo0QhIiY"
      },
      "execution_count": 17,
      "outputs": [
        {
          "output_type": "execute_result",
          "data": {
            "text/plain": [
              "<matplotlib.collections.PathCollection at 0x7f24a4d88cd0>"
            ]
          },
          "metadata": {},
          "execution_count": 17
        },
        {
          "output_type": "display_data",
          "data": {
            "text/plain": [
              "<Figure size 432x288 with 1 Axes>"
            ],
            "image/png": "[encoded data removed]"
          },
          "metadata": {
            "needs_background": "light"
          }
        }
      ]
    },
    {
      "cell_type": "markdown",
      "source": [
        "C'è più coesione nella distribuzione dei dati sulla popolarità delle canzoni con un livello di acousticness compreso tra 0 e 20 quindi la maggior parte delle canzoni nella playlist ha questi valori di acousticness, ma la più popolare si trova nel gruppo restante, dove la varianza della popolarità è notevolmente maggiore, così come il range di acousticness che anch'esso risulta essere più grande(20-80)."
      ],
      "metadata": {
        "id": "ioBvs5OvpxGE"
      }
    },
    {
      "cell_type": "markdown",
      "source": [
        "***Speechiness to Popularity***"
      ],
      "metadata": {
        "id": "3Gw4wHGXiV9T"
      }
    },
    {
      "cell_type": "code",
      "source": [
        "plt.scatter(top50['Speechiness.'],top50['Popularity'])"
      ],
      "metadata": {
        "colab": {
          "base_uri": "https://localhost:8080/",
          "height": 283
        },
        "id": "7uXfVEfOiTag",
        "outputId": "dff87fa8-b7fb-42bf-f0cc-b7fb3fe0205d"
      },
      "execution_count": 18,
      "outputs": [
        {
          "output_type": "execute_result",
          "data": {
            "text/plain": [
              "<matplotlib.collections.PathCollection at 0x7f24a4cf1090>"
            ]
          },
          "metadata": {},
          "execution_count": 18
        },
        {
          "output_type": "display_data",
          "data": {
            "text/plain": [
              "<Figure size 432x288 with 1 Axes>"
            ],
            "image/png": "[encoded data removed]"
          },
          "metadata": {
            "needs_background": "light"
          }
        }
      ]
    },
    {
      "cell_type": "markdown",
      "source": [
        "La maggior parte delle canzoni presenti nella playlist ha un valore di Speechness compreso tra 0 e 10, questo gruppo di canzoni però ha anche una notevole varianza di popolarità, mentre il gruppo restante, dove \"risiede\" anche la canzone più popolare della playlist ha una varianza di popolarità decisamente inferiore."
      ],
      "metadata": {
        "id": "J5jfgr-TqaTr"
      }
    },
    {
      "cell_type": "markdown",
      "source": [
        "***Varianza dei Dati***"
      ],
      "metadata": {
        "id": "DxRaN_8wgTsY"
      }
    },
    {
      "cell_type": "markdown",
      "source": [
        "Dopo aver evidenziato questi aspetti delle canzoni che stiamo esaminando andiamo a visualizzare altri \"ingredienti\" per la nostra canzone \"perfetta\".\n",
        "\n",
        "Andiamo quindi a visualizzare la varianza dei dati e la correlazione di questi per riuscire a capire di che genere è conveniente lanciare questa canzone."
      ],
      "metadata": {
        "id": "msJtxOAUp_Yj"
      }
    },
    {
      "cell_type": "markdown",
      "source": [
        "Sotto riportiamo il box plot per apprezzare la varianza della mediana del posizionamento di ogni genere, da questo grafico inoltre si evince quali generi presentino la maggior quantità di canzoni e quanto siano distaccati i posizionamenti in classifica di queste:"
      ],
      "metadata": {
        "id": "oQFoUGH3zDXH"
      }
    },
    {
      "cell_type": "code",
      "source": [
        "top50.boxplot(column= 'Position', by='Genre', vert=False, fontsize = 10, figsize = (12,10))"
      ],
      "metadata": {
        "colab": {
          "base_uri": "https://localhost:8080/",
          "height": 733
        },
        "id": "7NyNrwwBsQxH",
        "outputId": "abdf836b-d182-419c-f7c0-f026b1afe282"
      },
      "execution_count": 19,
      "outputs": [
        {
          "output_type": "stream",
          "name": "stderr",
          "text": [
            "/usr/local/lib/python3.7/dist-packages/matplotlib/cbook/__init__.py:1376: VisibleDeprecationWarning: Creating an ndarray from ragged nested sequences (which is a list-or-tuple of lists-or-tuples-or ndarrays with different lengths or shapes) is deprecated. If you meant to do this, you must specify 'dtype=object' when creating the ndarray.\n",
            "  X = np.atleast_1d(X.T if isinstance(X, np.ndarray) else np.asarray(X))\n"
          ]
        },
        {
          "output_type": "execute_result",
          "data": {
            "text/plain": [
              "<matplotlib.axes._subplots.AxesSubplot at 0x7f24a4d17d90>"
            ]
          },
          "metadata": {},
          "execution_count": 19
        },
        {
          "output_type": "display_data",
          "data": {
            "text/plain": [
              "<Figure size 864x720 with 1 Axes>"
            ],
            "image/png": "[encoded data removed]"
          },
          "metadata": {
            "needs_background": "light"
          }
        }
      ]
    },
    {
      "cell_type": "markdown",
      "source": [
        "Il genere che presenta più varianza nel posizionamento in classifica è il pop seguito non di molto dal dance pop. \n",
        "Il primo di questi due -a differenza del secondo- ha la mediana più alta e quindi si evince che ha posizionamenti più alti complessivamente."
      ],
      "metadata": {
        "id": "DLrThno9jOwU"
      }
    },
    {
      "cell_type": "markdown",
      "source": [
        "Invece per la popolarità media delle canzoni per genere:"
      ],
      "metadata": {
        "id": "eiT7oh-Kfvjv"
      }
    },
    {
      "cell_type": "code",
      "source": [
        "top50.boxplot(column= 'Popularity', by='Genre', vert=False, fontsize = 10, figsize = (12,10))"
      ],
      "metadata": {
        "colab": {
          "base_uri": "https://localhost:8080/",
          "height": 733
        },
        "id": "tv5DGvX8fypf",
        "outputId": "242d16a6-b740-49be-878a-6d4a098d923a"
      },
      "execution_count": 20,
      "outputs": [
        {
          "output_type": "stream",
          "name": "stderr",
          "text": [
            "/usr/local/lib/python3.7/dist-packages/matplotlib/cbook/__init__.py:1376: VisibleDeprecationWarning: Creating an ndarray from ragged nested sequences (which is a list-or-tuple of lists-or-tuples-or ndarrays with different lengths or shapes) is deprecated. If you meant to do this, you must specify 'dtype=object' when creating the ndarray.\n",
            "  X = np.atleast_1d(X.T if isinstance(X, np.ndarray) else np.asarray(X))\n"
          ]
        },
        {
          "output_type": "execute_result",
          "data": {
            "text/plain": [
              "<matplotlib.axes._subplots.AxesSubplot at 0x7f24a4a55d10>"
            ]
          },
          "metadata": {},
          "execution_count": 20
        },
        {
          "output_type": "display_data",
          "data": {
            "text/plain": [
              "<Figure size 864x720 with 1 Axes>"
            ],
            "image/png": "[encoded data removed]"
          },
          "metadata": {
            "needs_background": "light"
          }
        }
      ]
    },
    {
      "cell_type": "markdown",
      "source": [
        "Il Dance pop è il genere la cui popolarità delle canzoni varia maggiormente, mentre si può notare che il candian pop è il genere dalla popolarità minore.\n",
        "\n"
      ],
      "metadata": {
        "id": "rTu644YNf-Wi"
      }
    },
    {
      "cell_type": "markdown",
      "source": [
        "In conclusione di questa analisi traiamo le condizioni per questa canzone perfetta.\n",
        "\n",
        "Si consigliano le seguenti caratteristiche:\n",
        "- livello di \"ballabilità\" alto (> 60 circa)\n",
        "- livello di \"liveness\" basso (< 20 circa) [ovvero non è necessario avere un sentore \"live\" della canzone per essere popolare]\n",
        "- livello di \"Acousticness\" basso per ottenere una popolarità media mentre se si sceglie alto, la popolarità può variare notevolmente\n",
        "- stesso discorso di sopra per la speechiness, ovvero con un numero di parole troppo distinto all'interno della canzone è più difficile \"ottenere\" una canzone di popolarità alta rispetto ad usarne un numero limitato(es. il genere dancepop non usa molte parole all'interno delle canzoni ed è comunque molto popolare e presente all'interno della classifica, è consigliabile seguire questi esempi per arrivare ad avere una canzone competitiva)\n",
        "- il genere consigliato per un piazzamento medio in classifica più alto è il pop mentre per una popolarità più alta si può puntare sul genere latino o raeggaeton o rap(come si evince dall'ultimo box plot riportato nè il dance pop nè il pop(i generi più presenti all'interno della playlist) sono i più popolari mediamente).\n",
        "\n"
      ],
      "metadata": {
        "id": "JpkE_FjYqlCS"
      }
    },
    {
      "cell_type": "markdown",
      "source": [
        "\n",
        "\n",
        "---\n",
        "\n"
      ],
      "metadata": {
        "id": "JgoZp03iinrv"
      }
    },
    {
      "cell_type": "markdown",
      "source": [
        "***Correlazione tra i Dati:***"
      ],
      "metadata": {
        "id": "w6tcwq8nWtSK"
      }
    },
    {
      "cell_type": "markdown",
      "source": [
        "Per ottenere conferme da quello sopra riportato andiamo ad effettuare dei t-test tra i generi delle canzoni presenti nella playlist in esame per ricavare maggiori certezze per definire la nostra canzone perfetta. "
      ],
      "metadata": {
        "id": "Za9Z7RXbsyP2"
      }
    },
    {
      "cell_type": "markdown",
      "source": [
        "Vediamo innanzitutto l'indice di correlazione di Pearson dei dati presenti nel dataset che stiamo analizzando:"
      ],
      "metadata": {
        "id": "-lfNyq4yuwYP"
      }
    },
    {
      "cell_type": "code",
      "source": [
        "top50.corr()"
      ],
      "metadata": {
        "colab": {
          "base_uri": "https://localhost:8080/",
          "height": 458
        },
        "id": "CZnTHXQNuvsy",
        "outputId": "95feaeda-1768-4f9f-e234-24926fd42198"
      },
      "execution_count": 21,
      "outputs": [
        {
          "output_type": "execute_result",
          "data": {
            "text/plain": [
              "                  Position  Beats.Per.Minute    Energy  Danceability  \\\n",
              "Position          1.000000         -0.259193  0.102649      0.122691   \n",
              "Beats.Per.Minute -0.259193          1.000000  0.043756     -0.094183   \n",
              "Energy            0.102649          0.043756  1.000000      0.018254   \n",
              "Danceability      0.122691         -0.094183  0.018254      1.000000   \n",
              "Loudness..dB..    0.011914          0.017016  0.670794      0.016255   \n",
              "Liveness          0.270659         -0.167286  0.162768     -0.149636   \n",
              "Valence.          0.137329         -0.011586  0.438820      0.172829   \n",
              "Length.          -0.065844         -0.139288  0.224677     -0.000185   \n",
              "Acousticness..   -0.015993         -0.031450 -0.339892     -0.098165   \n",
              "Speechiness.     -0.257506          0.557052 -0.089860     -0.103472   \n",
              "Popularity       -0.160680          0.196097 -0.080295     -0.071413   \n",
              "\n",
              "                  Loudness..dB..  Liveness  Valence.   Length.  \\\n",
              "Position                0.011914  0.270659  0.137329 -0.065844   \n",
              "Beats.Per.Minute        0.017016 -0.167286 -0.011586 -0.139288   \n",
              "Energy                  0.670794  0.162768  0.438820  0.224677   \n",
              "Danceability            0.016255 -0.149636  0.172829 -0.000185   \n",
              "Loudness..dB..          1.000000  0.258652  0.237614  0.219219   \n",
              "Liveness                0.258652  1.000000  0.016123  0.131782   \n",
              "Valence.                0.237614  0.016123  1.000000 -0.017782   \n",
              "Length.                 0.219219  0.131782 -0.017782  1.000000   \n",
              "Acousticness..         -0.138300  0.021328 -0.052323 -0.076293   \n",
              "Speechiness.           -0.272213 -0.125286 -0.053242  0.046755   \n",
              "Popularity             -0.043085  0.092564 -0.317752 -0.087639   \n",
              "\n",
              "                  Acousticness..  Speechiness.  Popularity  \n",
              "Position               -0.015993     -0.257506   -0.160680  \n",
              "Beats.Per.Minute       -0.031450      0.557052    0.196097  \n",
              "Energy                 -0.339892     -0.089860   -0.080295  \n",
              "Danceability           -0.098165     -0.103472   -0.071413  \n",
              "Loudness..dB..         -0.138300     -0.272213   -0.043085  \n",
              "Liveness                0.021328     -0.125286    0.092564  \n",
              "Valence.               -0.052323     -0.053242   -0.317752  \n",
              "Length.                -0.076293      0.046755   -0.087639  \n",
              "Acousticness..          1.000000      0.008293   -0.034684  \n",
              "Speechiness.            0.008293      1.000000    0.238553  \n",
              "Popularity             -0.034684      0.238553    1.000000  "
            ],
            "text/html": [
              "\n",
              "  <div id=\"df-98693921-e9c1-400c-b194-d4159bdd5dfa\">\n",
              "    <div class=\"colab-df-container\">\n",
              "      <div>\n",
              "<style scoped>\n",
              "    .dataframe tbody tr th:only-of-type {\n",
              "        vertical-align: middle;\n",
              "    }\n",
              "\n",
              "    .dataframe tbody tr th {\n",
              "        vertical-align: top;\n",
              "    }\n",
              "\n",
              "    .dataframe thead th {\n",
              "        text-align: right;\n",
              "    }\n",
              "</style>\n",
              "<table border=\"1\" class=\"dataframe\">\n",
              "  <thead>\n",
              "    <tr style=\"text-align: right;\">\n",
              "      <th></th>\n",
              "      <th>Position</th>\n",
              "      <th>Beats.Per.Minute</th>\n",
              "      <th>Energy</th>\n",
              "      <th>Danceability</th>\n",
              "      <th>Loudness..dB..</th>\n",
              "      <th>Liveness</th>\n",
              "      <th>Valence.</th>\n",
              "      <th>Length.</th>\n",
              "      <th>Acousticness..</th>\n",
              "      <th>Speechiness.</th>\n",
              "      <th>Popularity</th>\n",
              "    </tr>\n",
              "  </thead>\n",
              "  <tbody>\n",
              "    <tr>\n",
              "      <th>Position</th>\n",
              "      <td>1.000000</td>\n",
              "      <td>-0.259193</td>\n",
              "      <td>0.102649</td>\n",
              "      <td>0.122691</td>\n",
              "      <td>0.011914</td>\n",
              "      <td>0.270659</td>\n",
              "      <td>0.137329</td>\n",
              "      <td>-0.065844</td>\n",
              "      <td>-0.015993</td>\n",
              "      <td>-0.257506</td>\n",
              "      <td>-0.160680</td>\n",
              "    </tr>\n",
              "    <tr>\n",
              "      <th>Beats.Per.Minute</th>\n",
              "      <td>-0.259193</td>\n",
              "      <td>1.000000</td>\n",
              "      <td>0.043756</td>\n",
              "      <td>-0.094183</td>\n",
              "      <td>0.017016</td>\n",
              "      <td>-0.167286</td>\n",
              "      <td>-0.011586</td>\n",
              "      <td>-0.139288</td>\n",
              "      <td>-0.031450</td>\n",
              "      <td>0.557052</td>\n",
              "      <td>0.196097</td>\n",
              "    </tr>\n",
              "    <tr>\n",
              "      <th>Energy</th>\n",
              "      <td>0.102649</td>\n",
              "      <td>0.043756</td>\n",
              "      <td>1.000000</td>\n",
              "      <td>0.018254</td>\n",
              "      <td>0.670794</td>\n",
              "      <td>0.162768</td>\n",
              "      <td>0.438820</td>\n",
              "      <td>0.224677</td>\n",
              "      <td>-0.339892</td>\n",
              "      <td>-0.089860</td>\n",
              "      <td>-0.080295</td>\n",
              "    </tr>\n",
              "    <tr>\n",
              "      <th>Danceability</th>\n",
              "      <td>0.122691</td>\n",
              "      <td>-0.094183</td>\n",
              "      <td>0.018254</td>\n",
              "      <td>1.000000</td>\n",
              "      <td>0.016255</td>\n",
              "      <td>-0.149636</td>\n",
              "      <td>0.172829</td>\n",
              "      <td>-0.000185</td>\n",
              "      <td>-0.098165</td>\n",
              "      <td>-0.103472</td>\n",
              "      <td>-0.071413</td>\n",
              "    </tr>\n",
              "    <tr>\n",
              "      <th>Loudness..dB..</th>\n",
              "      <td>0.011914</td>\n",
              "      <td>0.017016</td>\n",
              "      <td>0.670794</td>\n",
              "      <td>0.016255</td>\n",
              "      <td>1.000000</td>\n",
              "      <td>0.258652</td>\n",
              "      <td>0.237614</td>\n",
              "      <td>0.219219</td>\n",
              "      <td>-0.138300</td>\n",
              "      <td>-0.272213</td>\n",
              "      <td>-0.043085</td>\n",
              "    </tr>\n",
              "    <tr>\n",
              "      <th>Liveness</th>\n",
              "      <td>0.270659</td>\n",
              "      <td>-0.167286</td>\n",
              "      <td>0.162768</td>\n",
              "      <td>-0.149636</td>\n",
              "      <td>0.258652</td>\n",
              "      <td>1.000000</td>\n",
              "      <td>0.016123</td>\n",
              "      <td>0.131782</td>\n",
              "      <td>0.021328</td>\n",
              "      <td>-0.125286</td>\n",
              "      <td>0.092564</td>\n",
              "    </tr>\n",
              "    <tr>\n",
              "      <th>Valence.</th>\n",
              "      <td>0.137329</td>\n",
              "      <td>-0.011586</td>\n",
              "      <td>0.438820</td>\n",
              "      <td>0.172829</td>\n",
              "      <td>0.237614</td>\n",
              "      <td>0.016123</td>\n",
              "      <td>1.000000</td>\n",
              "      <td>-0.017782</td>\n",
              "      <td>-0.052323</td>\n",
              "      <td>-0.053242</td>\n",
              "      <td>-0.317752</td>\n",
              "    </tr>\n",
              "    <tr>\n",
              "      <th>Length.</th>\n",
              "      <td>-0.065844</td>\n",
              "      <td>-0.139288</td>\n",
              "      <td>0.224677</td>\n",
              "      <td>-0.000185</td>\n",
              "      <td>0.219219</td>\n",
              "      <td>0.131782</td>\n",
              "      <td>-0.017782</td>\n",
              "      <td>1.000000</td>\n",
              "      <td>-0.076293</td>\n",
              "      <td>0.046755</td>\n",
              "      <td>-0.087639</td>\n",
              "    </tr>\n",
              "    <tr>\n",
              "      <th>Acousticness..</th>\n",
              "      <td>-0.015993</td>\n",
              "      <td>-0.031450</td>\n",
              "      <td>-0.339892</td>\n",
              "      <td>-0.098165</td>\n",
              "      <td>-0.138300</td>\n",
              "      <td>0.021328</td>\n",
              "      <td>-0.052323</td>\n",
              "      <td>-0.076293</td>\n",
              "      <td>1.000000</td>\n",
              "      <td>0.008293</td>\n",
              "      <td>-0.034684</td>\n",
              "    </tr>\n",
              "    <tr>\n",
              "      <th>Speechiness.</th>\n",
              "      <td>-0.257506</td>\n",
              "      <td>0.557052</td>\n",
              "      <td>-0.089860</td>\n",
              "      <td>-0.103472</td>\n",
              "      <td>-0.272213</td>\n",
              "      <td>-0.125286</td>\n",
              "      <td>-0.053242</td>\n",
              "      <td>0.046755</td>\n",
              "      <td>0.008293</td>\n",
              "      <td>1.000000</td>\n",
              "      <td>0.238553</td>\n",
              "    </tr>\n",
              "    <tr>\n",
              "      <th>Popularity</th>\n",
              "      <td>-0.160680</td>\n",
              "      <td>0.196097</td>\n",
              "      <td>-0.080295</td>\n",
              "      <td>-0.071413</td>\n",
              "      <td>-0.043085</td>\n",
              "      <td>0.092564</td>\n",
              "      <td>-0.317752</td>\n",
              "      <td>-0.087639</td>\n",
              "      <td>-0.034684</td>\n",
              "      <td>0.238553</td>\n",
              "      <td>1.000000</td>\n",
              "    </tr>\n",
              "  </tbody>\n",
              "</table>\n",
              "</div>\n",
              "      <button class=\"colab-df-convert\" onclick=\"convertToInteractive('df-98693921-e9c1-400c-b194-d4159bdd5dfa')\"\n",
              "              title=\"Convert this dataframe to an interactive table.\"\n",
              "              style=\"display:none;\">\n",
              "        \n",
              "  <svg xmlns=\"http://www.w3.org/2000/svg\" height=\"24px\"viewBox=\"0 0 24 24\"\n",
              "       width=\"24px\">\n",
              "    <path d=\"M0 0h24v24H0V0z\" fill=\"none\"/>\n",
              "    <path d=\"M18.56 5.44l.94 2.06.94-2.06 2.06-.94-2.06-.94-.94-2.06-.94 2.06-2.06.94zm-11 1L8.5 8.5l.94-2.06 2.06-.94-2.06-.94L8.5 2.5l-.94 2.06-2.06.94zm10 10l.94 2.06.94-2.06 2.06-.94-2.06-.94-.94-2.06-.94 2.06-2.06.94z\"/><path d=\"M17.41 7.96l-1.37-1.37c-.4-.4-.92-.59-1.43-.59-.52 0-1.04.2-1.43.59L10.3 9.45l-7.72 7.72c-.78.78-.78 2.05 0 2.83L4 21.41c.39.39.9.59 1.41.59.51 0 1.02-.2 1.41-.59l7.78-7.78 2.81-2.81c.8-.78.8-2.07 0-2.86zM5.41 20L4 18.59l7.72-7.72 1.47 1.35L5.41 20z\"/>\n",
              "  </svg>\n",
              "      </button>\n",
              "      \n",
              "  <style>\n",
              "    .colab-df-container {\n",
              "      display:flex;\n",
              "      flex-wrap:wrap;\n",
              "      gap: 12px;\n",
              "    }\n",
              "\n",
              "    .colab-df-convert {\n",
              "      background-color: #E8F0FE;\n",
              "      border: none;\n",
              "      border-radius: 50%;\n",
              "      cursor: pointer;\n",
              "      display: none;\n",
              "      fill: #1967D2;\n",
              "      height: 32px;\n",
              "      padding: 0 0 0 0;\n",
              "      width: 32px;\n",
              "    }\n",
              "\n",
              "    .colab-df-convert:hover {\n",
              "      background-color: #E2EBFA;\n",
              "      box-shadow: 0px 1px 2px rgba(60, 64, 67, 0.3), 0px 1px 3px 1px rgba(60, 64, 67, 0.15);\n",
              "      fill: #174EA6;\n",
              "    }\n",
              "\n",
              "    [theme=dark] .colab-df-convert {\n",
              "      background-color: #3B4455;\n",
              "      fill: #D2E3FC;\n",
              "    }\n",
              "\n",
              "    [theme=dark] .colab-df-convert:hover {\n",
              "      background-color: #434B5C;\n",
              "      box-shadow: 0px 1px 3px 1px rgba(0, 0, 0, 0.15);\n",
              "      filter: drop-shadow(0px 1px 2px rgba(0, 0, 0, 0.3));\n",
              "      fill: #FFFFFF;\n",
              "    }\n",
              "  </style>\n",
              "\n",
              "      <script>\n",
              "        const buttonEl =\n",
              "          document.querySelector('#df-98693921-e9c1-400c-b194-d4159bdd5dfa button.colab-df-convert');\n",
              "        buttonEl.style.display =\n",
              "          google.colab.kernel.accessAllowed ? 'block' : 'none';\n",
              "\n",
              "        async function convertToInteractive(key) {\n",
              "          const element = document.querySelector('#df-98693921-e9c1-400c-b194-d4159bdd5dfa');\n",
              "          const dataTable =\n",
              "            await google.colab.kernel.invokeFunction('convertToInteractive',\n",
              "                                                     [key], {});\n",
              "          if (!dataTable) return;\n",
              "\n",
              "          const docLinkHtml = 'Like what you see? Visit the ' +\n",
              "            '<a target=\"_blank\" href=https://colab.research.google.com/notebooks/data_table.ipynb>data table notebook</a>'\n",
              "            + ' to learn more about interactive tables.';\n",
              "          element.innerHTML = '';\n",
              "          dataTable['output_type'] = 'display_data';\n",
              "          await google.colab.output.renderOutput(dataTable, element);\n",
              "          const docLink = document.createElement('div');\n",
              "          docLink.innerHTML = docLinkHtml;\n",
              "          element.appendChild(docLink);\n",
              "        }\n",
              "      </script>\n",
              "    </div>\n",
              "  </div>\n",
              "  "
            ]
          },
          "metadata": {},
          "execution_count": 21
        }
      ]
    },
    {
      "cell_type": "markdown",
      "source": [
        "Da questo possiamo trarre alcune deduzioni da analizzare:\n",
        "\n",
        "*   La posizione in classifica sembra non essere \"affetta\" da nessun altra caratteristica/attributo. Solo la liveness arriva ad influire ma veramente poco.\n",
        "*   Un dato curioso è tra i Beats per Minute e la Specchness : 0.557052, il quale è un valore abbastanza alto di correlazione tra i due attributi/carattersitiche.\n",
        "*   L'energia di una canzone è correlata abbastanza fortemente con la sua Loudness e un po' di meno con i bpm(in questa playlist).\n",
        "*   Il mood positivo della canzone è parzialmente influenzato dal numero di bpm della canzone.\n",
        "\n",
        "In sostanza comunque i dati non sembrano essere molto correlati tra di loro, o per lo meno non sembrano esserci dati \"legati\" tra loro in modo rigoroso.\n",
        "\n"
      ],
      "metadata": {
        "id": "TKvYqh8rvFtT"
      }
    },
    {
      "cell_type": "markdown",
      "source": [
        "**T-Test tra genere Pop e Dance Pop:**"
      ],
      "metadata": {
        "id": "OwiGNBPPY6Fg"
      }
    },
    {
      "cell_type": "markdown",
      "source": [
        "Vediamo ora come eseguire il t-test tra due generi pop(quelli più popolari e presenti in classifica) per confrontare:\n",
        "1.   quale dei due ha più o meno popolarità media\n",
        "2.   quale dei due ha più o meno il posizionamento \n",
        "medio alto\n",
        "3.   quale dei due ha più o meno bpm medio\n",
        "\n",
        "ed ottenere intanto l'informazione di: \n",
        "- cosa non ha \"funzionato\" nelle canzoni del genere che risulta essere messo \"peggio\" in classifica come posizionamento medio e popolarità media.\n",
        "\n",
        "Quest'informazione magari ci può essere utile per ottenere maggiori informazioni ed aggiungere ingredienti alla nostra ricetta che piano piano stiamo costruendo.\n",
        "\n",
        "Si nota ancora una volta che questa ricetta non è da prendere come bibbia data la scorrelazione messa proprio in mostra dalla tabella sopra riportata(i dati dell'analisi non saranno certi al 100%)."
      ],
      "metadata": {
        "id": "IqDYygHnWgkN"
      }
    },
    {
      "cell_type": "markdown",
      "source": [
        "Prima di tutto, per eseguire il t-test, dobbiamo partire dal formulare un'ipotesi nulla: \n",
        "- la popolarità media in classifca del genere pop è uguale rispetto al dance pop.\n",
        "\n",
        "Quindi l'ipotesi alternativa corrispondente è\n",
        "- la popolarità media in classifica del genere pop è diversa rispetto al dance pop.\n",
        "\n",
        "Prendiamo come livello di confidenza 95% e quindi andremo a confrontare il p-value che otteniamo dai t-test con il livello di significatività di 0.05.\n",
        "\n",
        "Se il valore del p-value ottenuto è inferiore del livello di significatività e quindi di 0.05, dobbiamo rigettare l'ipotesi nulla a favore di quella alternativa."
      ],
      "metadata": {
        "id": "9jW9AKraWcms"
      }
    },
    {
      "cell_type": "code",
      "source": [
        "t_statistic, p_value = stats.ttest_1samp(a= top50['Popularity'][top50['Genre']=='pop'], popmean= top50['Popularity'][top50['Genre']=='dance pop'].mean())\n",
        "print(t_statistic)\n",
        "print(p_value)"
      ],
      "metadata": {
        "colab": {
          "base_uri": "https://localhost:8080/"
        },
        "id": "h-yWPbaxE-MC",
        "outputId": "10462ee7-bc1b-4051-b97f-08237bdf388e"
      },
      "execution_count": 22,
      "outputs": [
        {
          "output_type": "stream",
          "name": "stdout",
          "text": [
            "0.10367452745642448\n",
            "0.9208061795706651\n"
          ]
        }
      ]
    },
    {
      "cell_type": "markdown",
      "source": [
        "Come ci aspettavamo dalle analisi precedenti otteniamo un p-value dal valore molto maggiore rispetto al livello di significatività (0.05).\n",
        "\n",
        "Accettiamo l'ipotesi nulla e possiamo dire conseguentemente che la popolarità del genere pop è molto uguale(simile) alla popolarità del dancepop."
      ],
      "metadata": {
        "id": "hSq6BoAZFD6A"
      }
    },
    {
      "cell_type": "markdown",
      "source": [
        "Questo possiamo vederlo ancora meglio effettuando il t-test a 2 code e quindi andando ad inserire nell'alternativa prima less e poi greater per verificare:\n",
        "- con less : l'ipotesi nulla sarà : \n",
        "    - la popolarità media del genere pop è maggiore della popolarità del genere dance pop\n",
        "    - la popolarità media del genere pop è minore della popolarità del genere dance pop"
      ],
      "metadata": {
        "id": "Tu7Qql8ZvHFA"
      }
    },
    {
      "cell_type": "code",
      "source": [
        "t_statistic, p_value = stats.ttest_1samp(a= top50['Popularity'][top50['Genre']=='pop'], popmean= top50['Popularity'][top50['Genre']=='dance pop'].mean(), alternative=\"less\")\n",
        "print(t_statistic)\n",
        "print(p_value)"
      ],
      "metadata": {
        "colab": {
          "base_uri": "https://localhost:8080/"
        },
        "id": "3I_9C2zbuokh",
        "outputId": "33e006f3-515c-4365-c0b3-102c704c5d85"
      },
      "execution_count": 23,
      "outputs": [
        {
          "output_type": "stream",
          "name": "stdout",
          "text": [
            "0.10367452745642448\n",
            "0.5395969102146674\n"
          ]
        }
      ]
    },
    {
      "cell_type": "code",
      "source": [
        "t_statistic, p_value = stats.ttest_1samp(a= top50['Popularity'][top50['Genre']=='pop'], popmean= top50['Popularity'][top50['Genre']=='dance pop'].mean(), alternative=\"greater\")\n",
        "print(t_statistic)\n",
        "print(p_value)"
      ],
      "metadata": {
        "colab": {
          "base_uri": "https://localhost:8080/"
        },
        "id": "Ini-lyXW4n_d",
        "outputId": "6f0092c0-4c14-41ac-9e2e-8a44e1fcccb2"
      },
      "execution_count": 24,
      "outputs": [
        {
          "output_type": "stream",
          "name": "stdout",
          "text": [
            "0.10367452745642448\n",
            "0.46040308978533256\n"
          ]
        }
      ]
    },
    {
      "cell_type": "markdown",
      "source": [
        "Dato che abbiamo preso un livello di confidenza di 0.95 dobbiamo accettare entrambe le ipotesi nulle sopra riportate dato che il valore del p-value è notevolmente maggiore di 0.05 che è il nostro livello di significatività.\n",
        "\n",
        "Conseguentemente confermiamo appunto che la popolarità media dei due generi in analisi è molto simile(uguale)"
      ],
      "metadata": {
        "id": "EbiAyBeV3x2r"
      }
    },
    {
      "cell_type": "markdown",
      "source": [
        "Nel caso del **Posizionamento**"
      ],
      "metadata": {
        "id": "LfU1zPz4G7Nw"
      }
    },
    {
      "cell_type": "code",
      "source": [
        "t_statistic, p_value = stats.ttest_1samp(a= top50['Position'][top50['Genre']=='pop'], popmean= top50['Position'][top50['Genre']=='dance pop'].mean())\n",
        "print(t_statistic)\n",
        "print(p_value)"
      ],
      "metadata": {
        "colab": {
          "base_uri": "https://localhost:8080/"
        },
        "id": "2cwTSZwUG5_8",
        "outputId": "e3204e8d-7a24-4cc3-e6c2-ec82f1e6f6dc"
      },
      "execution_count": 25,
      "outputs": [
        {
          "output_type": "stream",
          "name": "stdout",
          "text": [
            "-0.6110094553802669\n",
            "0.5636087300465286\n"
          ]
        }
      ]
    },
    {
      "cell_type": "markdown",
      "source": [
        "In questo caso l'ipotesi nulla è: \n",
        "- il posizionamento medio del genere pop è uguale a quello del genere dance pop.\n",
        "\n",
        "Possiamo notare come questo valore sia notevolmente inferiore rispetto al t-test precedente sulla stessa condizione analizzando la Popolarità, però bisogna accettarla comunque dato che è superiore al livello di soglia 0.05.\n",
        "\n",
        "Andando a rifarlo con l'attributo alternative in entrambi i casi:"
      ],
      "metadata": {
        "id": "-jvFLbRLbVO-"
      }
    },
    {
      "cell_type": "code",
      "source": [
        "t_statistic, p_value = stats.ttest_1samp(a= top50['Position'][top50['Genre']=='pop'], popmean= top50['Position'][top50['Genre']=='dance pop'].mean(), alternative = \"greater\")\n",
        "print(t_statistic)\n",
        "print(p_value)"
      ],
      "metadata": {
        "colab": {
          "base_uri": "https://localhost:8080/"
        },
        "id": "C5LTFg9dcOQ-",
        "outputId": "0bf17add-aa35-429a-b729-f8f4dc709712"
      },
      "execution_count": 26,
      "outputs": [
        {
          "output_type": "stream",
          "name": "stdout",
          "text": [
            "-0.6110094553802669\n",
            "0.7181956349767358\n"
          ]
        }
      ]
    },
    {
      "cell_type": "code",
      "source": [
        "t_statistic, p_value = stats.ttest_1samp(a= top50['Position'][top50['Genre']=='pop'], popmean= top50['Position'][top50['Genre']=='dance pop'].mean(), alternative = \"less\")\n",
        "print(t_statistic)\n",
        "print(p_value)"
      ],
      "metadata": {
        "colab": {
          "base_uri": "https://localhost:8080/"
        },
        "id": "TJFQfA1Wb75g",
        "outputId": "47e5baff-bfcf-4e63-c7fa-dd1555b57a2b"
      },
      "execution_count": 27,
      "outputs": [
        {
          "output_type": "stream",
          "name": "stdout",
          "text": [
            "-0.6110094553802669\n",
            "0.2818043650232643\n"
          ]
        }
      ]
    },
    {
      "cell_type": "markdown",
      "source": [
        "Devo accettare le ipotesi nulle in tutti e due i casi analizzando i p-value ottenuti. \n",
        "\n",
        "Possiamo però notare come il posizionamento medio in classifica del genere pop sia maggiore rispetto a quello del genere dancepop confrontando proprio questi valori dei p-value ottenuti dai due t-test.\n"
      ],
      "metadata": {
        "id": "yyj4IOhocGPl"
      }
    },
    {
      "cell_type": "markdown",
      "source": [
        "Questi t-test sopra riportati ci hanno confermato le analisi effettuate precedentemente.\n",
        "\n",
        "Però comunque questi due generi sono parecchio popolari e risultano dominare per tutta la classifica, quindi ora concentriamoci sul capire cosa invece ha fatto \"rimanere indietro\" il genere Canadian Pop rispetto al Pop"
      ],
      "metadata": {
        "id": "CvPLlKhpwUNH"
      }
    },
    {
      "cell_type": "markdown",
      "source": [
        "**T-Test tra genere Pop e Canadian Pop**"
      ],
      "metadata": {
        "id": "2RW5_j18acaB"
      }
    },
    {
      "cell_type": "markdown",
      "source": [
        "Incuriosisce la differenza di varianza di popolarità e di posizionamento dei generi pop e canadian pop nonostante appunto risultino sotto la sovracategoria pop.. Analizziamo la correlazione tra i due generi e i valori dei loro attributi estraendo informazioni interessanti.\n"
      ],
      "metadata": {
        "id": "OS9_FAkL2-L6"
      }
    },
    {
      "cell_type": "markdown",
      "source": [
        "***- Loudness:***"
      ],
      "metadata": {
        "id": "5NDdispESfho"
      }
    },
    {
      "cell_type": "code",
      "source": [
        "t_statistic, p_value = stats.ttest_1samp(a= top50['Loudness..dB..'][top50['Genre']=='pop'], popmean= top50['Loudness..dB..'][top50['Genre']=='canadian pop'].mean(), alternative = 'greater')\n",
        "print(t_statistic)\n",
        "print(p_value)"
      ],
      "metadata": {
        "colab": {
          "base_uri": "https://localhost:8080/"
        },
        "id": "wEmqC09Y7RhT",
        "outputId": "13ca5f1b-19a0-4015-d366-ef6876d1871a"
      },
      "execution_count": 28,
      "outputs": [
        {
          "output_type": "stream",
          "name": "stdout",
          "text": [
            "-2.1213203435596424\n",
            "0.9609296252943922\n"
          ]
        }
      ]
    },
    {
      "cell_type": "markdown",
      "source": [
        "Il t-test riporta un p-value notevolmente maggiore del livello di sigificatività 0.05 e quindi accettiamo l'ipotesi nulla:\n",
        "- La potenza delle canzoni del genere pop è minore rispetto a quella del genere canadian pop, dato che il valore ottenuto dal p-value è notevolmente maggiore di 0.05.\n",
        "\n",
        "Ciò si può apprezzare meglio dal controesempio utilizzando l'alternativa less:"
      ],
      "metadata": {
        "id": "SzxtGz3qM4HU"
      }
    },
    {
      "cell_type": "code",
      "source": [
        "t_statistic, p_value = stats.ttest_1samp(a= top50['Loudness..dB..'][top50['Genre']=='pop'], popmean= top50['Loudness..dB..'][top50['Genre']=='canadian pop'].mean(), alternative = 'less')\n",
        "print(t_statistic)\n",
        "print(p_value)"
      ],
      "metadata": {
        "colab": {
          "base_uri": "https://localhost:8080/"
        },
        "id": "hfFtI-lydLZ3",
        "outputId": "899e156c-03af-4980-aa88-b5a220d44e0e"
      },
      "execution_count": 29,
      "outputs": [
        {
          "output_type": "stream",
          "name": "stdout",
          "text": [
            "-2.1213203435596424\n",
            "0.03907037470560787\n"
          ]
        }
      ]
    },
    {
      "cell_type": "markdown",
      "source": [
        "In questo caso, come ci aspettavamo, otteniamo un valore del p-value inferiore al livello di significatività e quindi scartiamo l'ipotesi nulla a favore dell'ipotesi alternativa:\n",
        "- La potenza delle canzoni del genere pop è minore rispetto a quella del genere canadian pop, dato che il valore ottenuto dal p-value è minore di 0.05."
      ],
      "metadata": {
        "id": "lAqv1hpLdPp4"
      }
    },
    {
      "cell_type": "markdown",
      "source": [
        "***- Valence:***"
      ],
      "metadata": {
        "id": "mVanG4N2SpMI"
      }
    },
    {
      "cell_type": "code",
      "source": [
        "t_statistic, p_value = stats.ttest_1samp(a= top50['Valence.'][top50['Genre']=='pop'], popmean= top50['Valence.'][top50['Genre']=='canadian pop'].mean(), alternative = 'greater')\n",
        "print(t_statistic)\n",
        "print(p_value)"
      ],
      "metadata": {
        "colab": {
          "base_uri": "https://localhost:8080/"
        },
        "id": "6VdpUUaO8P7b",
        "outputId": "d2b89f7a-8ff4-4b3b-be2d-460195b238bf"
      },
      "execution_count": 30,
      "outputs": [
        {
          "output_type": "stream",
          "name": "stdout",
          "text": [
            "-2.716872346805644\n",
            "0.9826065130631729\n"
          ]
        }
      ]
    },
    {
      "cell_type": "code",
      "source": [
        "t_statistic, p_value = stats.ttest_1samp(a= top50['Valence.'][top50['Genre']=='pop'], popmean= top50['Valence.'][top50['Genre']=='canadian pop'].mean(), alternative = 'less')\n",
        "print(t_statistic)\n",
        "print(p_value)"
      ],
      "metadata": {
        "colab": {
          "base_uri": "https://localhost:8080/"
        },
        "id": "7xvhRPGqNwtt",
        "outputId": "00ec06e7-faed-4a10-f391-cddc61553d51"
      },
      "execution_count": 31,
      "outputs": [
        {
          "output_type": "stream",
          "name": "stdout",
          "text": [
            "-2.716872346805644\n",
            "0.017393486936827105\n"
          ]
        }
      ]
    },
    {
      "cell_type": "markdown",
      "source": [
        "La \"valenza\" della canzone è notevolmente maggiore nel genere canadian pop rispetto al pop.\n",
        "\n",
        "In questo caso possiamo apprezzare maggiormente con le due alternative questa conclusione:\n",
        "- con l'alternativa greater accettiamo l'ipotesi nulla: \n",
        "    - la valenza del genere pop è minore di quella del genere canadian pop dato che il p-value ottenuto con il t-test è notevolmente maggiore di 0.05.\n",
        "- con l'alternativa less dobbiamo scartare l'ipotesi nulla: \n",
        "  - la valenza del genere pop è maggiore di quella del genere canadian pop, dato che il p-value ottenuto con il t-test è inferiore di 0.05."
      ],
      "metadata": {
        "id": "dAkkcXP9NoCy"
      }
    },
    {
      "cell_type": "markdown",
      "source": [
        "***- Lunghezza:***"
      ],
      "metadata": {
        "id": "gouo0cQVStbj"
      }
    },
    {
      "cell_type": "code",
      "source": [
        "t_statistic, p_value = stats.ttest_1samp(a= top50['Length.'][top50['Genre']=='pop'],popmean= top50['Length.'][top50['Genre']=='canadian pop'].mean(), alternative = 'less')\n",
        "print(t_statistic)\n",
        "print(p_value)"
      ],
      "metadata": {
        "colab": {
          "base_uri": "https://localhost:8080/"
        },
        "id": "AQSnBH0B85Kd",
        "outputId": "04d02441-d1ed-48a8-abd0-f67d536a20eb"
      },
      "execution_count": 32,
      "outputs": [
        {
          "output_type": "stream",
          "name": "stdout",
          "text": [
            "0.6308601579817562\n",
            "0.7243050674426822\n"
          ]
        }
      ]
    },
    {
      "cell_type": "markdown",
      "source": [
        "Risulta che le canzoni del genere pop siano più lunghe mediamente di quelle del genere canadian pop, siccome viene confermata l'ipotesi nulla:\n",
        "- La lunghezza media delle canzoni del genere pop è maggiore rispetto a quella del genere canadian pop, dato che il valore ottenuto dal p-value è notevolmente maggiore di 0.05."
      ],
      "metadata": {
        "id": "89tM3eKZxwof"
      }
    },
    {
      "cell_type": "markdown",
      "source": [
        "***- Acousticness:***"
      ],
      "metadata": {
        "id": "uszeYXWjSwnR"
      }
    },
    {
      "cell_type": "code",
      "source": [
        "t_statistic, p_value = stats.ttest_1samp(a= top50['Acousticness..'][top50['Genre']=='pop'], popmean= top50['Acousticness..'][top50['Genre']=='canadian pop'].mean(), alternative = 'greater')\n",
        "print(t_statistic)\n",
        "print(p_value)"
      ],
      "metadata": {
        "colab": {
          "base_uri": "https://localhost:8080/"
        },
        "id": "DTi53K0Dx1kN",
        "outputId": "3abd4d5a-24bb-4994-e3e6-cd87ede7a78a"
      },
      "execution_count": 33,
      "outputs": [
        {
          "output_type": "stream",
          "name": "stdout",
          "text": [
            "-0.5558876090713705\n",
            "0.7008053704370074\n"
          ]
        }
      ]
    },
    {
      "cell_type": "markdown",
      "source": [
        "La \"acusticità\" della canzone è notevolmente maggiore nel genere canadian pop rispetto al pop, siccome viene confermata l'ipotesi nulla:\n",
        "- L'acusticità media delle canzoni del genere pop è minore rispetto a quella del genere canadian pop, dato che il valore ottenuto dal p-value è notevolmente maggiore di 0.05."
      ],
      "metadata": {
        "id": "xgbEhnXgPVAS"
      }
    },
    {
      "cell_type": "markdown",
      "source": [
        "***- Parole differenti usate all'interno della canzone(Speechness):***"
      ],
      "metadata": {
        "id": "5et6M_AYSy7N"
      }
    },
    {
      "cell_type": "code",
      "source": [
        "t_statistic, p_value = stats.ttest_1samp(a= top50['Speechiness.'][top50['Genre']=='pop'], popmean= top50['Speechiness.'][top50['Genre']=='canadian pop'].mean(), alternative = 'greater')\n",
        "print(t_statistic)\n",
        "print(p_value)"
      ],
      "metadata": {
        "colab": {
          "base_uri": "https://localhost:8080/"
        },
        "id": "b8Gal5rwLnus",
        "outputId": "2afd2401-7556-4022-a877-f5209c04c576"
      },
      "execution_count": 34,
      "outputs": [
        {
          "output_type": "stream",
          "name": "stdout",
          "text": [
            "2.1852990447290317\n",
            "0.03576840836614951\n"
          ]
        }
      ]
    },
    {
      "cell_type": "markdown",
      "source": [
        "La media delle parole differenti usate all'interno della canzone è notevolmente minore nel genere canadian pop rispetto al pop, siccome dobbiamo rigettare l'ipotesi nulla:\n",
        "- La media delle parole differenti usate all'interno delle canzoni del genere pop è minore rispetto a quella del genere canadian pop, dato che il valore ottenuto dal p-value è minore di 0.05.\n"
      ],
      "metadata": {
        "id": "aJ2d71jCyLKZ"
      }
    },
    {
      "cell_type": "code",
      "source": [
        "t_statistic, p_value = stats.ttest_1samp(a= top50['Speechiness.'][top50['Genre']=='pop'], popmean= top50['Speechiness.'][top50['Genre']=='canadian pop'].mean(), alternative = 'less')\n",
        "print(t_statistic)\n",
        "print(p_value)"
      ],
      "metadata": {
        "colab": {
          "base_uri": "https://localhost:8080/"
        },
        "id": "dt9PfCRvVARY",
        "outputId": "f2353fe8-dc69-4e6e-8be0-9ebae3b3e362"
      },
      "execution_count": 35,
      "outputs": [
        {
          "output_type": "stream",
          "name": "stdout",
          "text": [
            "2.1852990447290317\n",
            "0.9642315916338505\n"
          ]
        }
      ]
    },
    {
      "cell_type": "markdown",
      "source": [
        "\n",
        "Il contro-esempio sopra riportato(t-test con alternative='less') ci mostra ancora meglio quanto detto prima, confermiamo l'ipotesi nulla che questa volta è:\n",
        "- La media delle parole differenti usate all'interno delle canzoni del genere pop è maggiore rispetto a quella del genere canadian pop, dato che il valore ottenuto dal p-value è notevolmente maggiore di 0.05."
      ],
      "metadata": {
        "id": "PqlmiFcGVUrF"
      }
    },
    {
      "cell_type": "markdown",
      "source": [
        "\n",
        "***Divagazione:*** \n",
        "\n",
        "Che sia proprio questa l'arma vincente del genere pop rispetto al canadian pop?\n",
        "\n",
        "Il \"saper usare\" più termini ma riuscire a fare comunque hit da posti più alti in classifica nella top50?"
      ],
      "metadata": {
        "id": "9-6kjoRiTvmR"
      }
    },
    {
      "cell_type": "code",
      "source": [
        "genere_pop = top50[top50['Genre']=='pop']\n",
        "potenza_media_genere_pop = genere_pop['Loudness..dB..'].mean()\n",
        "print(\"Potenza Media:\",potenza_media_genere_pop)\n",
        "valenza_media_genere_pop = genere_pop['Valence.'].mean()\n",
        "print(\"Valenza Media:\",valenza_media_genere_pop)\n",
        "lunghezza_media_genere_pop = genere_pop['Length.'].mean()\n",
        "print(\"Lunghezza Media:\",lunghezza_media_genere_pop)\n",
        "acousticness_media_genere_pop = genere_pop['Acousticness..'].mean()\n",
        "print(\"Acousticness Media:\",acousticness_media_genere_pop)\n",
        "parole_medie_usate_genere_pop = genere_pop['Speechiness.'].mean()\n",
        "print(\"Speechness Media:\",parole_medie_usate_genere_pop)"
      ],
      "metadata": {
        "colab": {
          "base_uri": "https://localhost:8080/"
        },
        "id": "cZ8RU1wPzjXW",
        "outputId": "ff00d24b-b8b5-4c10-f1d2-a2e1f8a2a205"
      },
      "execution_count": 36,
      "outputs": [
        {
          "output_type": "stream",
          "name": "stdout",
          "text": [
            "Potenza Media: -6.285714285714286\n",
            "Valenza Media: 58.0\n",
            "Lunghezza Media: 195.42857142857142\n",
            "Acousticness Media: 21.428571428571427\n",
            "Speechness Media: 9.285714285714286\n"
          ]
        }
      ]
    },
    {
      "cell_type": "markdown",
      "source": [
        "In conclusione di questa parte di analisi aggiungiamo ulteriori condizioni per questa canzone perfetta.\n",
        "\n",
        "Consideriamo quindi gli \"errori\" del genere canadian pop per cercare di posizionare meglio la nostra canzone e renderla il più popolare possibile.\n",
        "\n",
        "Si consigliano quindi le seguenti caratteristiche:\n",
        "\n",
        "- livello di \"ballabilità\" alto (> 60 circa)\n",
        "- livello di \"liveness\" basso (< 20 circa) [ovvero non è necessario avere un sentore \"live\" della canzone per essere popolare]\n",
        "- riusciamo ora a definire per una canzone del genere pop un valore di acousticness migliore grazie alle analisi sopra effettuate : si consiglia di scegliere un valore inferiore alla media del genere pop ovvero 21.\n",
        "- riusciamo ora a definire per una canzone del genere pop un valore di speechness raccomandato più preciso rispetto a prima: il valore consigliato è non inferiore a 9.\n",
        "- valore della potenza(Loudness[dB]) consigliato analogamente a prima: inferiore a -6.\n",
        "- valore della lunghezza media della canzone consigliato: > 190 secondi (< 300 da ciò analizzato in precedenza nei diagrammi a dispersione)\n",
        "- valore della valenza della canzone consigliato: inferiore di 51."
      ],
      "metadata": {
        "id": "PeSeNSjHyM4c"
      }
    },
    {
      "cell_type": "markdown",
      "source": [
        "***ANALISI MACRO GENERI***"
      ],
      "metadata": {
        "id": "1qSipiE_x8xc"
      }
    },
    {
      "cell_type": "markdown",
      "source": [
        "Andiamo ora a raggruppare ulteriormente i generi per confrontarli meglio ottenendo dati più correlati tra loro per poter affinare ulteriormente queste caratteristiche della nostra canzone perfetta."
      ],
      "metadata": {
        "id": "n1KGb_e64j6g"
      }
    },
    {
      "cell_type": "markdown",
      "source": [
        "Raggruppo ora i generi in maxi_generi: es. canadian pop viene raggruppato nel pop e cosi via.."
      ],
      "metadata": {
        "id": "_raXJew1QYfF"
      }
    },
    {
      "cell_type": "code",
      "source": [
        "genere_pop = top50[top50['Genre']=='pop']\n",
        "genere_canadian_pop = top50[top50['Genre']=='canadian pop']\n",
        "genere_panamanian = top50[top50['Genre']=='panamanian pop']\n",
        "genere_australian_pop = top50[top50['Genre']=='australian pop']\n",
        "genere_boy_band = top50[top50['Genre']=='boy band']\n",
        "maxi_genere_pop = pd.concat([genere_pop,genere_canadian_pop,genere_panamanian,genere_australian_pop,genere_boy_band],axis=0,keys=['pop', 'pop', 'pop', 'pop','pop'], names=['Genere',None]) #, ignore_index=True\n",
        "#print(len(maxi_genere_pop))\n",
        "genere_pop_house = top50[top50['Genre']=='pop house']\n",
        "genere_electropop = top50[top50['Genre']=='electropop']\n",
        "genere_dance_pop = top50[top50['Genre']=='dance pop']\n",
        "genere_edm =  top50[top50['Genre']=='edm']\n",
        "genere_brostep =  top50[top50['Genre']=='brostep']\n",
        "maxi_genere_dance = pd.concat([genere_pop_house,genere_electropop,genere_dance_pop,genere_edm,genere_brostep],axis=0,keys=['dance', 'dance', 'dance', 'dance','dance'], names=['Genere',None])\n",
        "#print(len(maxi_genere_dance))\n",
        "genere_reggaeton = top50[top50['Genre']=='reggaeton']\n",
        "genere_latin = top50[top50['Genre']=='latin']\n",
        "genere_reggaeton_flow = top50[top50['Genre']=='reggaeton flow']\n",
        "genere_r_and_b = top50[top50['Genre']=='r&b en espanol']\n",
        "maxi_genere_reggaeton = pd.concat([genere_reggaeton,genere_reggaeton_flow,genere_latin,genere_r_and_b],axis=0,keys=['reggaeton', 'reggaeton', 'reggaeton', 'reggaeton'], names=['Genere',None])\n",
        "#print(len(maxi_genere_reggaeton))\n",
        "genere_trap = top50[top50['Genre']=='trap music']\n",
        "genere_country_rap = top50[top50['Genre']=='country rap']\n",
        "genere_dfw_rap = top50[top50['Genre']=='dfw rap']\n",
        "maxi_genere_rap = pd.concat([genere_trap,genere_country_rap,genere_dfw_rap],axis=0,keys=['rap', 'rap', 'rap'], names=['Genere',None])\n",
        "#print(len(maxi_genere_rap))\n",
        "genere_atl_hip_hop = top50[top50['Genre']=='atl hip hop']\n",
        "genere_canadian_hip_hop = top50[top50['Genre']=='canadian hip hop']\n",
        "maxi_genere_disco_hip_hop = pd.concat([genere_atl_hip_hop,genere_canadian_hip_hop],axis=0,keys=['hip hop', 'hip hop'], names=['Genere',None])\n",
        "#print(len(maxi_genere_disco_hip_hop))\n",
        "genere_big_room = top50[top50['Genre']=='big room']\n",
        "genere_escape_room = top50[top50['Genre']=='escape room']\n",
        "maxi_genere_room = pd.concat([genere_big_room,genere_escape_room],axis=0,keys=['room', 'room'], names=['Genere',None])\n",
        "#print(len(maxi_genere_room))\n",
        "maxi_all = pd.concat([maxi_genere_pop,maxi_genere_dance,maxi_genere_reggaeton,maxi_genere_rap,maxi_genere_disco_hip_hop,maxi_genere_room],axis=0)\n",
        "#print(len(maxi_all))\n"
      ],
      "metadata": {
        "id": "GcfxeGBUQ_80"
      },
      "execution_count": 37,
      "outputs": []
    },
    {
      "cell_type": "markdown",
      "source": [
        "ora ho tutti i generi raggruppati in macro generi, andiamo ad estrapolarne dei dati:"
      ],
      "metadata": {
        "id": "NZ8k6jQWx6O7"
      }
    },
    {
      "cell_type": "code",
      "source": [
        "maxi_all.boxplot(column= 'Position', by='Genere', vert=False, fontsize = 10, figsize = (12,10))"
      ],
      "metadata": {
        "colab": {
          "base_uri": "https://localhost:8080/",
          "height": 733
        },
        "id": "nJtdRaQ6dOkT",
        "outputId": "65efb8ee-82ce-4d1a-c8a3-0e40537a8e22"
      },
      "execution_count": 38,
      "outputs": [
        {
          "output_type": "stream",
          "name": "stderr",
          "text": [
            "/usr/local/lib/python3.7/dist-packages/matplotlib/cbook/__init__.py:1376: VisibleDeprecationWarning: Creating an ndarray from ragged nested sequences (which is a list-or-tuple of lists-or-tuples-or ndarrays with different lengths or shapes) is deprecated. If you meant to do this, you must specify 'dtype=object' when creating the ndarray.\n",
            "  X = np.atleast_1d(X.T if isinstance(X, np.ndarray) else np.asarray(X))\n"
          ]
        },
        {
          "output_type": "execute_result",
          "data": {
            "text/plain": [
              "<matplotlib.axes._subplots.AxesSubplot at 0x7f24a4782290>"
            ]
          },
          "metadata": {},
          "execution_count": 38
        },
        {
          "output_type": "display_data",
          "data": {
            "text/plain": [
              "<Figure size 864x720 with 1 Axes>"
            ],
            "image/png": "[encoded data removed]"
          },
          "metadata": {
            "needs_background": "light"
          }
        }
      ]
    },
    {
      "cell_type": "code",
      "source": [
        "maxi_all.boxplot(column= 'Popularity', by='Genere', vert=False, fontsize = 10, figsize = (12,10))"
      ],
      "metadata": {
        "colab": {
          "base_uri": "https://localhost:8080/",
          "height": 733
        },
        "id": "fqvsprLkcoVQ",
        "outputId": "09bf990d-34b7-4cbc-9200-0dc24dd1d5e8"
      },
      "execution_count": 39,
      "outputs": [
        {
          "output_type": "stream",
          "name": "stderr",
          "text": [
            "/usr/local/lib/python3.7/dist-packages/matplotlib/cbook/__init__.py:1376: VisibleDeprecationWarning: Creating an ndarray from ragged nested sequences (which is a list-or-tuple of lists-or-tuples-or ndarrays with different lengths or shapes) is deprecated. If you meant to do this, you must specify 'dtype=object' when creating the ndarray.\n",
            "  X = np.atleast_1d(X.T if isinstance(X, np.ndarray) else np.asarray(X))\n"
          ]
        },
        {
          "output_type": "execute_result",
          "data": {
            "text/plain": [
              "<matplotlib.axes._subplots.AxesSubplot at 0x7f24a4669090>"
            ]
          },
          "metadata": {},
          "execution_count": 39
        },
        {
          "output_type": "display_data",
          "data": {
            "text/plain": [
              "<Figure size 864x720 with 1 Axes>"
            ],
            "image/png": "[encoded data removed]"
          },
          "metadata": {
            "needs_background": "light"
          }
        }
      ]
    },
    {
      "cell_type": "markdown",
      "source": [
        "Esaminando questi due box plot simili a quelli effettuati su tutto il dataset direttamente,  si evince che il macro genere pop, dance e reggaeton hanno varianza di posizionamento su tutta la classifica.\n",
        "\n",
        "Il genere rap domina la classifica sia dal punto di vista della popolarità mediana del macro genere rap rispetto a quella degli altri macrogeneri presenti in classifica dato che i posizionamenti sono più altri rispetto ad esempio ai macro generi sopra elencati.\n"
      ],
      "metadata": {
        "id": "6G99IwXtdk8h"
      }
    },
    {
      "cell_type": "markdown",
      "source": [
        "Proviamo ora ad effettuare i t-test che prima abbiamo usato per confrontare due generi dello stesso macro-genere per confronatre appunto questi macro-generi ed estrapolarne informazioni interessanti."
      ],
      "metadata": {
        "id": "K31LIEcOI_XU"
      }
    },
    {
      "cell_type": "markdown",
      "source": [
        "Verifichiamo quindi quanto abbiamo dedotto da questi grafici sopra riportati eseguendo dei t-test di confronto tra i macro generi sopra nominati\n",
        "\n",
        "Partiamo analizzando i **due macrogeneri piu presenti all'interno della top50: POP e DANCE**\n",
        "\n",
        "Verifichiamo ora se possiamo accettare la seguente ipotesi nulla:\n",
        "\n",
        "- La popolarità media del macro genere pop è maggiore a quella del macro genere dance"
      ],
      "metadata": {
        "id": "9ZbQOPUqK4Wh"
      }
    },
    {
      "cell_type": "code",
      "source": [
        "t_statistic, p_value = stats.ttest_1samp(a= maxi_genere_pop['Popularity'], popmean= maxi_genere_dance['Popularity'].mean(), alternative='less')\n",
        "print(t_statistic)\n",
        "print(p_value)"
      ],
      "metadata": {
        "id": "Ljb3jB2DI-mC",
        "outputId": "f395ab6e-eef2-41fb-d79a-140663b05d7e",
        "colab": {
          "base_uri": "https://localhost:8080/"
        }
      },
      "execution_count": 40,
      "outputs": [
        {
          "output_type": "stream",
          "name": "stdout",
          "text": [
            "-2.2160901182261306\n",
            "0.023382981648638865\n"
          ]
        }
      ]
    },
    {
      "cell_type": "markdown",
      "source": [
        "Il t-test effettuato ha riportato un p-value minore del valore di significatività e quindi bisogna rigettare l'ipotesi nulla e quindi concludere che \n",
        "- la popolarità media del macro genere dance è maggiore rispetto a quella del macro genere pop come si poteva notare direttamente nel box plot sopra riportato.\n",
        "\n"
      ],
      "metadata": {
        "id": "MVeV_2PbMn-d"
      }
    },
    {
      "cell_type": "code",
      "source": [
        "t_statistic, p_value = stats.ttest_1samp(a= maxi_genere_pop['Popularity'], popmean= maxi_genere_rap['Popularity'].mean(), alternative='less')\n",
        "print(t_statistic)\n",
        "print(p_value)"
      ],
      "metadata": {
        "id": "PFeALAyYgAtj",
        "outputId": "fa015010-4d41-4919-8286-b9e2de01423a",
        "colab": {
          "base_uri": "https://localhost:8080/"
        }
      },
      "execution_count": 41,
      "outputs": [
        {
          "output_type": "stream",
          "name": "stdout",
          "text": [
            "-4.627070431246613\n",
            "0.0002915179096207425\n"
          ]
        }
      ]
    },
    {
      "cell_type": "markdown",
      "source": [
        "Con questo t-test sopra riportato invece dimostriamo come la popolarità del macro genere rap sia maggiore rispetto a quella del macro genere pop che presenta la canzone posizionata al 1°posto in classifica. Questo dato perchè ottengo un valore del p-value ulteriormente piccolo rispetto a quello del t-test precedente ed analogamente, possiamo dire, con maggiore \"forza\" rispetto a prima, che il macro genere rap presenta canzoni mediamente più popolari in classifica rispetto al macro genere pop."
      ],
      "metadata": {
        "id": "BZHFnrNvgB1V"
      }
    },
    {
      "cell_type": "markdown",
      "source": [
        "*Ci sono caratteristiche/features che rendono \"vincente\" il macro genere rap rispetto agli altri macro generi?*\n",
        "\n",
        "Dobbiamo assimilare il maggior numero di informazioni utili per la nostra canzone proprio da questo, prima abbiamo preso informazioni dalle migliori canzoni del genere pop per ottenere una base alla quale ora cercheremo di aggiungere le informazioni delle canzoni di maggior successo del macro genere rap(il quale è quello mediamente più popolare in classifica e riscontra inoltre posizionamenti alti).\n",
        "\n",
        "Andiamo proprio a vedere il perchè di questa dominanza di questo macro genere rap rispetto agli altri macro generi per capire in cosa riesce \"ad arrivare di più alla gente\" e ad ottenere sia un posizionamento medio più alto sia una popolarità maggiore.\n",
        "\n",
        "Possiamo fare ciò visualizzando ulteriori box plot per confrontare direttamente il rap con tutti gli altri macrogenere, colonna per colonna e verificare con t-test dove non si riuscisse ad evincere direttamente con il grafico."
      ],
      "metadata": {
        "id": "aRqtjIY2qxWU"
      }
    },
    {
      "cell_type": "markdown",
      "source": [
        "***- BPM:***"
      ],
      "metadata": {
        "id": "s2TRQE9B0qR8"
      }
    },
    {
      "cell_type": "code",
      "source": [
        "maxi_all.boxplot(column= 'Beats.Per.Minute', by='Genere', vert=False)"
      ],
      "metadata": {
        "colab": {
          "base_uri": "https://localhost:8080/",
          "height": 375
        },
        "id": "6s4OzQMwrS60",
        "outputId": "1691f1a8-d209-4969-d990-e402b460538c"
      },
      "execution_count": 42,
      "outputs": [
        {
          "output_type": "stream",
          "name": "stderr",
          "text": [
            "/usr/local/lib/python3.7/dist-packages/matplotlib/cbook/__init__.py:1376: VisibleDeprecationWarning: Creating an ndarray from ragged nested sequences (which is a list-or-tuple of lists-or-tuples-or ndarrays with different lengths or shapes) is deprecated. If you meant to do this, you must specify 'dtype=object' when creating the ndarray.\n",
            "  X = np.atleast_1d(X.T if isinstance(X, np.ndarray) else np.asarray(X))\n"
          ]
        },
        {
          "output_type": "execute_result",
          "data": {
            "text/plain": [
              "<matplotlib.axes._subplots.AxesSubplot at 0x7f24a46458d0>"
            ]
          },
          "metadata": {},
          "execution_count": 42
        },
        {
          "output_type": "display_data",
          "data": {
            "text/plain": [
              "<Figure size 432x288 with 1 Axes>"
            ],
            "image/png": "[encoded data removed]"
          },
          "metadata": {
            "needs_background": "light"
          }
        }
      ]
    },
    {
      "cell_type": "markdown",
      "source": [
        "Si riesce a vedere come il macro genere rap abbia i bpm medi maggiori rispetto a tutti gli altri macro generi e quindi dobbiamo considerare di aumentarli leggermente rispetto alle considerazioni precedenti."
      ],
      "metadata": {
        "id": "kWLPjGCVz6sT"
      }
    },
    {
      "cell_type": "markdown",
      "source": [
        "***- Energy, Danceability e Valence:***"
      ],
      "metadata": {
        "id": "LF9J0ZRV0rqN"
      }
    },
    {
      "cell_type": "code",
      "source": [
        "maxi_all.boxplot(column= 'Energy', by='Genere', vert=False)\n",
        "maxi_all.boxplot(column= 'Danceability', by='Genere', vert=False)\n",
        "maxi_all.boxplot(column= 'Valence.', by='Genere', vert=False)"
      ],
      "metadata": {
        "colab": {
          "base_uri": "https://localhost:8080/",
          "height": 1000
        },
        "id": "abwTyGRaz5ny",
        "outputId": "35e97bc1-0646-45ed-ba38-97c40aed2bee"
      },
      "execution_count": 43,
      "outputs": [
        {
          "output_type": "stream",
          "name": "stderr",
          "text": [
            "/usr/local/lib/python3.7/dist-packages/matplotlib/cbook/__init__.py:1376: VisibleDeprecationWarning: Creating an ndarray from ragged nested sequences (which is a list-or-tuple of lists-or-tuples-or ndarrays with different lengths or shapes) is deprecated. If you meant to do this, you must specify 'dtype=object' when creating the ndarray.\n",
            "  X = np.atleast_1d(X.T if isinstance(X, np.ndarray) else np.asarray(X))\n",
            "/usr/local/lib/python3.7/dist-packages/matplotlib/cbook/__init__.py:1376: VisibleDeprecationWarning: Creating an ndarray from ragged nested sequences (which is a list-or-tuple of lists-or-tuples-or ndarrays with different lengths or shapes) is deprecated. If you meant to do this, you must specify 'dtype=object' when creating the ndarray.\n",
            "  X = np.atleast_1d(X.T if isinstance(X, np.ndarray) else np.asarray(X))\n",
            "/usr/local/lib/python3.7/dist-packages/matplotlib/cbook/__init__.py:1376: VisibleDeprecationWarning: Creating an ndarray from ragged nested sequences (which is a list-or-tuple of lists-or-tuples-or ndarrays with different lengths or shapes) is deprecated. If you meant to do this, you must specify 'dtype=object' when creating the ndarray.\n",
            "  X = np.atleast_1d(X.T if isinstance(X, np.ndarray) else np.asarray(X))\n"
          ]
        },
        {
          "output_type": "execute_result",
          "data": {
            "text/plain": [
              "<matplotlib.axes._subplots.AxesSubplot at 0x7f24a4366a50>"
            ]
          },
          "metadata": {},
          "execution_count": 43
        },
        {
          "output_type": "display_data",
          "data": {
            "text/plain": [
              "<Figure size 432x288 with 1 Axes>"
            ],
            "image/png": "[encoded data removed]"
          },
          "metadata": {
            "needs_background": "light"
          }
        },
        {
          "output_type": "display_data",
          "data": {
            "text/plain": [
              "<Figure size 432x288 with 1 Axes>"
            ],
            "image/png": "[encoded data removed]"
          },
          "metadata": {
            "needs_background": "light"
          }
        },
        {
          "output_type": "display_data",
          "data": {
            "text/plain": [
              "<Figure size 432x288 with 1 Axes>"
            ],
            "image/png": "[encoded data removed]"
          },
          "metadata": {
            "needs_background": "light"
          }
        }
      ]
    },
    {
      "cell_type": "markdown",
      "source": [
        "Da questi box plot possiamo affinare i seguenti dati:\n",
        "- il macro genere rap ha un energia ed una valenza minori mediamente di quello del genere pop prima considerato anche se comunque i valori sono molto simili.\n",
        "- mentre i valori di ballabilità della canzone in media sono pressocchè uguali al genere pop\n",
        "\n",
        "Quindi possiamo confermare le nostre conclusioni e valori precedenti e magari considerare di avere un energia simile alla media del macro genere rap."
      ],
      "metadata": {
        "id": "jeeyZlHM1gp0"
      }
    },
    {
      "cell_type": "markdown",
      "source": [
        "***- Lenght:***"
      ],
      "metadata": {
        "id": "5z9-k46H1JbC"
      }
    },
    {
      "cell_type": "code",
      "source": [
        "maxi_all.boxplot(column= 'Length.', by='Genere', vert=False)"
      ],
      "metadata": {
        "colab": {
          "base_uri": "https://localhost:8080/",
          "height": 375
        },
        "id": "xpthG49G1stR",
        "outputId": "e76c49f5-0c86-45f8-80e3-8fa0e6b5f4d9"
      },
      "execution_count": 44,
      "outputs": [
        {
          "output_type": "stream",
          "name": "stderr",
          "text": [
            "/usr/local/lib/python3.7/dist-packages/matplotlib/cbook/__init__.py:1376: VisibleDeprecationWarning: Creating an ndarray from ragged nested sequences (which is a list-or-tuple of lists-or-tuples-or ndarrays with different lengths or shapes) is deprecated. If you meant to do this, you must specify 'dtype=object' when creating the ndarray.\n",
            "  X = np.atleast_1d(X.T if isinstance(X, np.ndarray) else np.asarray(X))\n"
          ]
        },
        {
          "output_type": "execute_result",
          "data": {
            "text/plain": [
              "<matplotlib.axes._subplots.AxesSubplot at 0x7f24a445fcd0>"
            ]
          },
          "metadata": {},
          "execution_count": 44
        },
        {
          "output_type": "display_data",
          "data": {
            "text/plain": [
              "<Figure size 432x288 with 1 Axes>"
            ],
            "image/png": "[encoded data removed]"
          },
          "metadata": {
            "needs_background": "light"
          }
        }
      ]
    },
    {
      "cell_type": "markdown",
      "source": [
        "Si riesce a notare chiaramente dal grafico sopra riportato come il rap sia il macro genere con la durate delle canzoni minori.\n",
        "\n",
        "Quindi potremmo considerare il fatto di abbreviare un po' la durata della nostra canzone."
      ],
      "metadata": {
        "id": "sSnpeBZ52t5r"
      }
    },
    {
      "cell_type": "code",
      "source": [
        "maxi_all.boxplot(column= 'Speechiness.', by='Genere', vert=False)"
      ],
      "metadata": {
        "colab": {
          "base_uri": "https://localhost:8080/",
          "height": 375
        },
        "id": "gvVk4LIBBhRm",
        "outputId": "4ffe9291-b254-43e5-a472-46b70bf53b2b"
      },
      "execution_count": 45,
      "outputs": [
        {
          "output_type": "stream",
          "name": "stderr",
          "text": [
            "/usr/local/lib/python3.7/dist-packages/matplotlib/cbook/__init__.py:1376: VisibleDeprecationWarning: Creating an ndarray from ragged nested sequences (which is a list-or-tuple of lists-or-tuples-or ndarrays with different lengths or shapes) is deprecated. If you meant to do this, you must specify 'dtype=object' when creating the ndarray.\n",
            "  X = np.atleast_1d(X.T if isinstance(X, np.ndarray) else np.asarray(X))\n"
          ]
        },
        {
          "output_type": "execute_result",
          "data": {
            "text/plain": [
              "<matplotlib.axes._subplots.AxesSubplot at 0x7f24a4203e10>"
            ]
          },
          "metadata": {},
          "execution_count": 45
        },
        {
          "output_type": "display_data",
          "data": {
            "text/plain": [
              "<Figure size 432x288 with 1 Axes>"
            ],
            "image/png": "[encoded data removed]"
          },
          "metadata": {
            "needs_background": "light"
          }
        }
      ]
    },
    {
      "cell_type": "markdown",
      "source": [
        "Questo box plot sopra riportato conferma il valore precedentemente scelto del numero di parole differenti utilizzate all'interno della canzone."
      ],
      "metadata": {
        "id": "iDxEjN7ZBnhh"
      }
    },
    {
      "cell_type": "markdown",
      "source": [
        "\n",
        "Aggiungendo ciò detto precedentemente ai nostri valori precedenti delle caratteristiche della nostra canzone riusciamo a definirci molti parametri sui quali poter eseguire una predizione."
      ],
      "metadata": {
        "id": "re1sqOss_Z3e"
      }
    },
    {
      "cell_type": "markdown",
      "source": [
        "**IN CONCLUSIONE**"
      ],
      "metadata": {
        "id": "CrkRME_cA2iJ"
      }
    },
    {
      "cell_type": "markdown",
      "source": [
        "Consideriamo quindi gli \"aggiustamenti\" considerati grazie al confronto del macro genere rap con gli altri (soprattutto con il pop sul quale ci basavamo precedentemente e dal quale non abbiamo voluto aggiugere informazioni per cercare di ottenere una canzone il più generale possibile o che comunque si potesse ispirare a più caratteristiche di canzoni anche di genere diverso)\n",
        "\n",
        "In conclusione, si consigliano quindi le seguenti caratteristiche:\n",
        "\n",
        "\n",
        "- livello di ***bpm****: prendiamo come riferimento un valore tra la media del genere pop e quello rap: tra 120 e 150 battiti al minuto.\n",
        "- livello di ***ballabilità*** ora possiamo maggiormente affinarlo e prenderlo quindi simile alla media del genere rap ovvero: 70 (tra l'altro si conferma la nostra \"predizione\" precedente di avere un valore superiore di 60)\n",
        "- livello di ***liveness*** basso (< 20 circa) [ovvero non è necessario avere un sentore \"live\" della canzone per essere popolare]\n",
        "- valore di ***acousticness*** consigliato: 21.\n",
        "- valore di ***speechness*** raccomandato più preciso rispetto a prima: tra 8 e 10\n",
        "- valore di ***potenza***: -6.\n",
        "- valore della ***lunghezza media della canzone*** consigliato: tra i 150 e 250 secondi di durata.\n",
        "- valore della ***valenza*** della canzone: tra 45 e 55.\n",
        "- il ***genere*** consigliato analizzando tutto quanto riportato sopra sono due:\n",
        "  - il ***rap***:questo genere ha meno competitors ma quelli che ci sono hanno posizionamenti alti e molta popolarità, è un genere comunque difficile nel quale lanciare la propria canzone ma per il quale comunque vale la pena analizzando appunto la popolarità delle canzoni di questo genere che arrivano ad avere successo.\n",
        "  - il ***pop***:questo invece è un genere nella quale molti artisti si riconoscono e molti \"rivali\" sono di altissimo livello e presenti nella top50 mesilmente/annualmente(vedi Ed Sheeran), a differenza proprio del rap dove è più facile fare la \"canzone bomba\" che rimane al top della classifica per stagioni e poi l'artista finisce nel dimenticatoio. Certo per sfondare nel pop comunque bisognerà appunto avere costanza nelle canzoni e cercare di trovare la giusta alchimia di tutte queste caratteristiche sulle quali ci stiamo basando per ottenere la canzone perfetta.\n",
        "  \n",
        "La scelta del genere è particolare e delicata e non si vuole ancora arrivare a conclusioni affrettate, quindi le predizioni future verranno eseguite su questi generi per capire quale è più conveniente scegliere e per quale dei due generi sia più facile predire, o meglio, predire con più precisone ottenendo appunto un risultato più preciso, importante per un lancio di una nuova canzone nel mercato discografico(investimenti importanti).\n",
        "\n",
        "Si cercherà in oltre di predire il genere ad una canzone che non ce l'ha appunto per riuscire poi successivamente  apredirgli la popolarità proprio in base al genere assegnato(in base alle caratteristiche/attributi della canzone stessa)."
      ],
      "metadata": {
        "id": "85lKiLka_0CB"
      }
    },
    {
      "cell_type": "markdown",
      "source": [
        "**APPRENDIMENTO NON SUPERVISIONATO**"
      ],
      "metadata": {
        "id": "IBG3t0-Luu71"
      }
    },
    {
      "cell_type": "markdown",
      "source": [
        "Questo machine learning servirà per risponere alle seguenti domande:\n",
        "\n",
        "- è possibile predire/assegnare un genere e macro-genere di/ad una canzone a seconda degli attributi/caratteristiche della canzone?\n",
        "\n",
        "- è possibile predire la popolarità di una canzone a seconda dei suoi attributi/caratteristiche?\n",
        "\n",
        "Se riusciamo a risponderci a queste domande potremo testare se i dati della nostra canzone che abbiamo raccolto prima possono restituirci una canzone più o meno popolare(questo ovviamente è pianamente una stima)."
      ],
      "metadata": {
        "id": "knWmWX0rRg7h"
      }
    },
    {
      "cell_type": "markdown",
      "source": [
        "Definiamo la funzione della silhouette per definirci con esattezza il numero di cluster da passare in input al KMeans per ottenere un risultato migliore."
      ],
      "metadata": {
        "id": "W4I3z8Pr6rxz"
      }
    },
    {
      "cell_type": "code",
      "source": [
        "from sklearn.metrics import silhouette_samples, silhouette_score\n",
        "from sklearn.cluster import KMeans\n",
        "from sklearn import preprocessing\n",
        "import random\n",
        "\n",
        "def silhouette(x):\n",
        "    silhouette_avg = []\n",
        "    for i in range(2, 22):\n",
        "        kmeans = KMeans(n_clusters = i, max_iter = 20, random_state = 0)\n",
        "        cluster_labels = kmeans.fit_predict(x)\n",
        "        silhouette_avg.append(silhouette_score(x, cluster_labels))\n",
        "\n",
        "    # The silhouette_score gives the average value for all the samples.\n",
        "    # This gives a perspective into the density and separation of the formed\n",
        "    # clusters\n",
        "\n",
        "    plt.plot(range(2, 22), silhouette_avg,'-o')\n",
        "    plt.title('The silhouette method')\n",
        "    plt.xlabel('Number of clusters')\n",
        "    plt.ylabel('silhouette coefficient') #within cluster sum of squares\n",
        "    plt.show()"
      ],
      "metadata": {
        "id": "PRv4ho-zYuT9"
      },
      "execution_count": 46,
      "outputs": []
    },
    {
      "cell_type": "markdown",
      "source": [
        "Andiamo a prenderci tutte le features a nostra disposizione per cercare di rispondere alla ***prima domanda*** e quindi di predirre il genere di una canzone a seconda dei suoi attributi."
      ],
      "metadata": {
        "id": "4qFQZapX7eiL"
      }
    },
    {
      "cell_type": "code",
      "source": [
        "features = ['Beats.Per.Minute','Energy','Danceability','Loudness..dB..','Liveness','Valence.','Length.','Acousticness..','Speechiness.','Popularity']\n",
        "X=maxi_all[features]\n",
        "X = np.asarray(X)\n",
        "scaler = preprocessing.StandardScaler().fit(X)\n",
        "X = scaler.transform(X)"
      ],
      "metadata": {
        "id": "WQGYSoo70BbV"
      },
      "execution_count": 47,
      "outputs": []
    },
    {
      "cell_type": "code",
      "source": [
        "color = ['r','b','y','g','c','m','k','#877666']\n",
        "\n",
        "kmeans=KMeans(n_clusters=6, random_state=0).fit(X)\n",
        "y=kmeans.labels_\n",
        "for i in range(0,6):\n",
        "    plt.scatter(X[np.where(y==i),0],X[np.where(y==i),1], color = color[i])"
      ],
      "metadata": {
        "id": "lLZicE6x0OIk",
        "outputId": "b03158f8-2193-4308-ceff-7b0747893324",
        "colab": {
          "base_uri": "https://localhost:8080/",
          "height": 265
        }
      },
      "execution_count": 48,
      "outputs": [
        {
          "output_type": "display_data",
          "data": {
            "text/plain": [
              "<Figure size 432x288 with 1 Axes>"
            ],
            "image/png": "[encoded data removed]"
          },
          "metadata": {
            "needs_background": "light"
          }
        }
      ]
    },
    {
      "cell_type": "markdown",
      "source": [
        "Provando ad effettuare il problema di classficazione utilizzando 6 cluster, tanti quanti i macro-generi, non viene il risultato sperato e/o comunque i cluster risultano organizzati in modo non correlato."
      ],
      "metadata": {
        "id": "drdtSOGW1gaf"
      }
    },
    {
      "cell_type": "markdown",
      "source": [
        "Andiamo quindi a vedere con la silhuouette se il numero di cluster utilizzato era il più efficente o meno:"
      ],
      "metadata": {
        "id": "TiUjxx258Drg"
      }
    },
    {
      "cell_type": "code",
      "source": [
        "silhouette(X)"
      ],
      "metadata": {
        "id": "pDAH25av1CJw",
        "outputId": "a4613481-1e51-4832-bd3b-6dc214461b30",
        "colab": {
          "base_uri": "https://localhost:8080/",
          "height": 295
        }
      },
      "execution_count": 49,
      "outputs": [
        {
          "output_type": "display_data",
          "data": {
            "text/plain": [
              "<Figure size 432x288 with 1 Axes>"
            ],
            "image/png": "[encoded data removed]"
          },
          "metadata": {
            "needs_background": "light"
          }
        }
      ]
    },
    {
      "cell_type": "markdown",
      "source": [
        "La scelta dei cluster utilizzati è risultata la più efficente.\n",
        "\n",
        "Ora non ci resta altro che rendere quantitativo l'attributo del genere per visualizzare il box plot che ci restituisca visivamente come in base ai cluster a cui una canzone viene assegnata \"ottenga un genere di appartenza\"."
      ],
      "metadata": {
        "id": "YH9_CfDo2Nmy"
      }
    },
    {
      "cell_type": "code",
      "source": [
        "#1 = canadian pop,#2 = reggaeton,#3 = dance pop,#4 = pop,#5 = dfw rap,#6 = trap,#7 = country rap,\n",
        "#8 = electropop,#9 = panamanian pop,#10 = canadian hip hop,#11 = latin,#12 = escape room,#13 = pop house,\n",
        "#14 = reggaeton flow,#15 = australian pop,#16 = edm,#17 = atl hip hop,#18 = big room,#19 = boy band,#20 = r&b espanol,#21 = brostep\n",
        "tutti_generi_numerico = [1,2,3,4,5,4,6,4,7,8,2,3,4,9,10,3,11,5,10,12,13,7,14,11,8,1,15,1,11,11,16,3,2,17,3,18,9,4,19,3,16,3,3,4,20,21,11,21,16,4]\n",
        "maxi_all[\"Num_Genre\"] = tutti_generi_numerico\n",
        "maxi_all[\"Clusters\"]=kmeans.predict(X)\n",
        "maxi_all.boxplot(column='Num_Genre',by='Clusters')"
      ],
      "metadata": {
        "id": "REOUAaciTEUS",
        "outputId": "63c1637c-1dca-48e5-ad15-0d6bf1cbe92c",
        "colab": {
          "base_uri": "https://localhost:8080/",
          "height": 375
        }
      },
      "execution_count": 50,
      "outputs": [
        {
          "output_type": "stream",
          "name": "stderr",
          "text": [
            "/usr/local/lib/python3.7/dist-packages/matplotlib/cbook/__init__.py:1376: VisibleDeprecationWarning: Creating an ndarray from ragged nested sequences (which is a list-or-tuple of lists-or-tuples-or ndarrays with different lengths or shapes) is deprecated. If you meant to do this, you must specify 'dtype=object' when creating the ndarray.\n",
            "  X = np.atleast_1d(X.T if isinstance(X, np.ndarray) else np.asarray(X))\n"
          ]
        },
        {
          "output_type": "execute_result",
          "data": {
            "text/plain": [
              "<matplotlib.axes._subplots.AxesSubplot at 0x7f24a36edd10>"
            ]
          },
          "metadata": {},
          "execution_count": 50
        },
        {
          "output_type": "display_data",
          "data": {
            "text/plain": [
              "<Figure size 432x288 with 1 Axes>"
            ],
            "image/png": "[encoded data removed]"
          },
          "metadata": {
            "needs_background": "light"
          }
        }
      ]
    },
    {
      "cell_type": "markdown",
      "source": [
        "Da questo box-plot quindi riusciamo a visualizzare quello sopra descritto e quindi ad ottenere un genere (con non troppa precisione dato il basso coefficente di silhouette ottenuto) in base agli attributi della canzone."
      ],
      "metadata": {
        "id": "_K300_V39Jyk"
      }
    },
    {
      "cell_type": "markdown",
      "source": [
        "Andiamo ora a rendere quantitativo l'attributo del macro genere dalla canzone per poter assegnare anche quello con una predizione in maniera analoga alla precedente."
      ],
      "metadata": {
        "id": "yeUnxMzX9kLO"
      }
    },
    {
      "cell_type": "code",
      "source": [
        "macro_generi_numerico = [1,3,1,1,4,1,4,1,4,2,3,2,1,1,5,2,3,4,5,6,2,4,3,3,2,1,1,5,3,3,2,2,3,5,2,6,1,1,1,2,2,2,2,1,3,2,3,2,2,1]\n",
        "#1 = pop,#2 = dance,#3 = reggaeton,#4 = rap,#5 = hip hop,#6 = room\n",
        "maxi_all['NUM_macro_genre'] = macro_generi_numerico\n",
        "maxi_all.boxplot(column='NUM_macro_genre',by='Clusters')#il numero di cluster ovviamente è rimasto lo stesso"
      ],
      "metadata": {
        "colab": {
          "base_uri": "https://localhost:8080/",
          "height": 375
        },
        "id": "DMMwgWjuxaAr",
        "outputId": "d2534341-6d14-4f10-e89a-8ab49aadba42"
      },
      "execution_count": 51,
      "outputs": [
        {
          "output_type": "stream",
          "name": "stderr",
          "text": [
            "/usr/local/lib/python3.7/dist-packages/matplotlib/cbook/__init__.py:1376: VisibleDeprecationWarning: Creating an ndarray from ragged nested sequences (which is a list-or-tuple of lists-or-tuples-or ndarrays with different lengths or shapes) is deprecated. If you meant to do this, you must specify 'dtype=object' when creating the ndarray.\n",
            "  X = np.atleast_1d(X.T if isinstance(X, np.ndarray) else np.asarray(X))\n"
          ]
        },
        {
          "output_type": "execute_result",
          "data": {
            "text/plain": [
              "<matplotlib.axes._subplots.AxesSubplot at 0x7f24a05e7390>"
            ]
          },
          "metadata": {},
          "execution_count": 51
        },
        {
          "output_type": "display_data",
          "data": {
            "text/plain": [
              "<Figure size 432x288 with 1 Axes>"
            ],
            "image/png": "[encoded data removed]"
          },
          "metadata": {
            "needs_background": "light"
          }
        }
      ]
    },
    {
      "cell_type": "markdown",
      "source": [
        "Riusciamo anche in questo caso ad assegnare i macro generi di appartenenza di una canzone con determinate caratteristiche(sempre con una precisione relativa dato il basso coefficente di silhouette ottenuto)."
      ],
      "metadata": {
        "id": "8X0yETlW9yx_"
      }
    },
    {
      "cell_type": "markdown",
      "source": [
        "Proviamo ora a rispondere alla ***seconda domanda***, ovvero che popolarità avrà una canzone che arriva utilizzando tutte le features a nostra disposizione."
      ],
      "metadata": {
        "id": "0HXJ9wbzxhvb"
      }
    },
    {
      "cell_type": "code",
      "source": [
        "features = ['Beats.Per.Minute','Energy','Danceability','Loudness..dB..','Liveness','Valence.','Length.','Acousticness..','Speechiness.','Num_Genre','NUM_macro_genre']\n",
        "X=maxi_all[features]\n",
        "X = np.asarray(X)\n",
        "scaler = preprocessing.StandardScaler().fit(X)\n",
        "X = scaler.transform(X)"
      ],
      "metadata": {
        "id": "2YCRmpAO9inz"
      },
      "execution_count": 52,
      "outputs": []
    },
    {
      "cell_type": "markdown",
      "source": [
        "Riproviamo sempre con l'utilizzo di 6 cluster che corrisponde al numero di macro generi delle analisi precedenti."
      ],
      "metadata": {
        "id": "jlanWQ0xx8vf"
      }
    },
    {
      "cell_type": "code",
      "source": [
        "kmeans=KMeans(n_clusters=6, random_state=0).fit(X)\n",
        "y=kmeans.labels_\n",
        "for i in range(0,6):\n",
        "    plt.scatter(X[np.where(y==i),0],X[np.where(y==i),1], color = color[i])"
      ],
      "metadata": {
        "id": "c2f0O1UA9rnM",
        "outputId": "120d32e3-3107-48c7-8ca2-fc28e7c86819",
        "colab": {
          "base_uri": "https://localhost:8080/",
          "height": 265
        }
      },
      "execution_count": 53,
      "outputs": [
        {
          "output_type": "display_data",
          "data": {
            "text/plain": [
              "<Figure size 432x288 with 1 Axes>"
            ],
            "image/png": "[encoded data removed]"
          },
          "metadata": {
            "needs_background": "light"
          }
        }
      ]
    },
    {
      "cell_type": "code",
      "source": [
        "silhouette(X)"
      ],
      "metadata": {
        "id": "UygPhnNZ9v8c",
        "outputId": "bcc90b01-7101-49c1-e583-b94c1855e3be",
        "colab": {
          "base_uri": "https://localhost:8080/",
          "height": 295
        }
      },
      "execution_count": 54,
      "outputs": [
        {
          "output_type": "display_data",
          "data": {
            "text/plain": [
              "<Figure size 432x288 with 1 Axes>"
            ],
            "image/png": "[encoded data removed]"
          },
          "metadata": {
            "needs_background": "light"
          }
        }
      ]
    },
    {
      "cell_type": "markdown",
      "source": [
        "Analizzando la silhouette la prima cosa che risalta è il bassissimo livello di silhouette ottenuto anche in caso di utilizzo del numero consigliato di cluster.\n",
        "\n",
        "I risultati che si otterranno saranno quindi approssimativi.\n",
        "\n",
        "Andiamo comunque ad utilizzare il numero di cluster consigliato, ovvero 14."
      ],
      "metadata": {
        "id": "p0mRjbya-yha"
      }
    },
    {
      "cell_type": "code",
      "source": [
        "kmeans=KMeans(n_clusters=14, random_state=0).fit(X)\n",
        "y=kmeans.labels_\n",
        "for i in range(0,14):\n",
        "    plt.scatter(X[np.where(y==i),0],X[np.where(y==i),1])"
      ],
      "metadata": {
        "id": "zn6XhqKp-_Iy",
        "outputId": "5d2dce0c-2396-4c4c-e7ec-0c6225629d4e",
        "colab": {
          "base_uri": "https://localhost:8080/",
          "height": 265
        }
      },
      "execution_count": 55,
      "outputs": [
        {
          "output_type": "display_data",
          "data": {
            "text/plain": [
              "<Figure size 432x288 with 1 Axes>"
            ],
            "image/png": "[encoded data removed]"
          },
          "metadata": {
            "needs_background": "light"
          }
        }
      ]
    },
    {
      "cell_type": "code",
      "source": [
        "maxi_all[\"Clusters\"]=kmeans.predict(X)\n",
        "maxi_all.boxplot(column='Popularity',by='Clusters')"
      ],
      "metadata": {
        "id": "MbOi_NWOUDbi",
        "colab": {
          "base_uri": "https://localhost:8080/",
          "height": 375
        },
        "outputId": "aa5a6103-ed29-40eb-c75c-45fbe86ba1c2"
      },
      "execution_count": 56,
      "outputs": [
        {
          "output_type": "stream",
          "name": "stderr",
          "text": [
            "/usr/local/lib/python3.7/dist-packages/matplotlib/cbook/__init__.py:1376: VisibleDeprecationWarning: Creating an ndarray from ragged nested sequences (which is a list-or-tuple of lists-or-tuples-or ndarrays with different lengths or shapes) is deprecated. If you meant to do this, you must specify 'dtype=object' when creating the ndarray.\n",
            "  X = np.atleast_1d(X.T if isinstance(X, np.ndarray) else np.asarray(X))\n"
          ]
        },
        {
          "output_type": "execute_result",
          "data": {
            "text/plain": [
              "<matplotlib.axes._subplots.AxesSubplot at 0x7f24a030df10>"
            ]
          },
          "metadata": {},
          "execution_count": 56
        },
        {
          "output_type": "display_data",
          "data": {
            "text/plain": [
              "<Figure size 432x288 with 1 Axes>"
            ],
            "image/png": "[encoded data removed]"
          },
          "metadata": {
            "needs_background": "light"
          }
        }
      ]
    },
    {
      "cell_type": "markdown",
      "source": [
        "Come si può vedere un risultato si riesce a visualizzare ma non si può comunque considerare un efficente risoluzione di questo problema di classificazione dato anche l'elevato numero di cluster(come si può vedere bene nel grafico a dispersione precedente).\n",
        "\n",
        "Questo comunque non ci stupisce proprio grazie all'analisi dei dati:\n",
        "- i dati non risultano essere correlati/scorrelati eccessivamente l'uno dall'altro, quindi la suddivisione in cluster non risulta efficente se effettuata su un gruppo di features cosi elevato.\n",
        "- il grafico della silhouette mostra subito come sia basso il coefficente di silhouette ottenuto nel tentare di risolvere questo problema utilizzando la maggior parte delle feature.\n",
        "\n",
        "Andiamo quindi a provare a dimiuire le features coinvolte cercando di prendere quelle che risultano essere più correlate tra loro, andando quindi ad utilizzare anche i dati che abbiamo ricavato dall'inizio di quest'analisi sul dataset contenente la top50 globale di spotify(proviamo sempre ad effettuare una prova, prima di visualizzare la silhouette, con 6 cluster(sempre il numero di macro_generi delle analisi precedenti))."
      ],
      "metadata": {
        "id": "cM11yHhq_E4X"
      }
    },
    {
      "cell_type": "code",
      "source": [
        "correlated_features_to_popularity = ['Beats.Per.Minute','Liveness','Speechiness.','Valence.'] \n",
        "X = maxi_all[correlated_features_to_popularity]\n",
        "X = np.asarray(X)\n",
        "scaler = preprocessing.StandardScaler().fit(X)\n",
        "X = scaler.transform(X)"
      ],
      "metadata": {
        "id": "lW11MlEfwDgc"
      },
      "execution_count": 57,
      "outputs": []
    },
    {
      "cell_type": "code",
      "source": [
        "kmeans=KMeans(n_clusters=6, random_state=0).fit(X)\n",
        "y=kmeans.labels_\n",
        "for i in range(0,6):\n",
        "    plt.scatter(X[np.where(y==i),0],X[np.where(y==i),1], color = color[i])"
      ],
      "metadata": {
        "colab": {
          "base_uri": "https://localhost:8080/",
          "height": 265
        },
        "id": "GncTEVSIwLAB",
        "outputId": "f35cddb8-c79d-4665-f875-18e400aeacb7"
      },
      "execution_count": 58,
      "outputs": [
        {
          "output_type": "display_data",
          "data": {
            "text/plain": [
              "<Figure size 432x288 with 1 Axes>"
            ],
            "image/png": "[encoded data removed]"
          },
          "metadata": {
            "needs_background": "light"
          }
        }
      ]
    },
    {
      "cell_type": "markdown",
      "source": [
        "Ora verifichiamo se il numero di cluster utilizzato è stato sensato(sembrerebbe di no, analizzando il grafico sopra riportato potrebbe essere pià sensato l'utilizzo di 2/3/4 cluster) con l'utilizzo della silhouette."
      ],
      "metadata": {
        "id": "_5FnCVvhEhie"
      }
    },
    {
      "cell_type": "code",
      "source": [
        "silhouette(X)"
      ],
      "metadata": {
        "colab": {
          "base_uri": "https://localhost:8080/",
          "height": 295
        },
        "id": "JJtAuyZQEhCm",
        "outputId": "743cbd43-1c6e-47d0-b6b0-8f88b6385b6d"
      },
      "execution_count": 59,
      "outputs": [
        {
          "output_type": "display_data",
          "data": {
            "text/plain": [
              "<Figure size 432x288 with 1 Axes>"
            ],
            "image/png": "[encoded data removed]"
          },
          "metadata": {
            "needs_background": "light"
          }
        }
      ]
    },
    {
      "cell_type": "markdown",
      "source": [
        "Grazie a questa visualizzazione della silhouette si evincono le seguenti informazioni: \n",
        "- l'utilizzo di 3 cluster restituisca un coefficente di silhouette maggiore e quindi sia migliore dei 6 precedentemente usati(non è ancora sufficentemente alto per garantire la corretta risoluzione del problema di classificazione).\n",
        "-l'utilizzo di 20 cluster in questo caso avrebbe restituito cluster completamente privi di informazioni e di utilità(simili a quelli venuti fuori precedentemente)."
      ],
      "metadata": {
        "id": "8wMlk7XiE9hJ"
      }
    },
    {
      "cell_type": "markdown",
      "source": [
        "Rieffettuando quindi il KMeans con n° di cluster = 3, otteniamo 3 gruppi ben distinti anche se alcuni punti ancora si intersecano. "
      ],
      "metadata": {
        "id": "44xkEi5LHzGT"
      }
    },
    {
      "cell_type": "code",
      "source": [
        "kmeans=KMeans(n_clusters=3, random_state=0).fit(X)\n",
        "y=kmeans.labels_\n",
        "for i in range(0,3):\n",
        "    plt.scatter(X[np.where(y==i),0],X[np.where(y==i),1], color = color[i])"
      ],
      "metadata": {
        "colab": {
          "base_uri": "https://localhost:8080/",
          "height": 265
        },
        "id": "EP-2AbPdGbrT",
        "outputId": "3a413619-8256-429f-8830-b3afdcadd691"
      },
      "execution_count": 60,
      "outputs": [
        {
          "output_type": "display_data",
          "data": {
            "text/plain": [
              "<Figure size 432x288 with 1 Axes>"
            ],
            "image/png": "[encoded data removed]"
          },
          "metadata": {
            "needs_background": "light"
          }
        }
      ]
    },
    {
      "cell_type": "markdown",
      "source": [
        "I punti risultano comunque intrecciarsi probabilmente dato dal fatto è una scelta casuale ma non troppo quella dei centroidi dei cluster."
      ],
      "metadata": {
        "id": "uOixCyo9IZjR"
      }
    },
    {
      "cell_type": "markdown",
      "source": [
        "Visualizziamo ora i box plot per visualizzare come sia migiorato rispetto all'uso di tutte le features come in precedenza(dato che erano poco correlate con la popolarità) e all'uso delle sole features correlate alla popolarità per ottenere appunto una predizione di questa in base a queste caratteristiche analizzate."
      ],
      "metadata": {
        "id": "MJIcmX9EHfX6"
      }
    },
    {
      "cell_type": "code",
      "source": [
        "maxi_all[\"Clusters\"]=kmeans.predict(X)\n",
        "maxi_all.boxplot(column='Popularity',by='Clusters')"
      ],
      "metadata": {
        "colab": {
          "base_uri": "https://localhost:8080/",
          "height": 375
        },
        "id": "fRCd7G4KHkZA",
        "outputId": "9f1fdae6-969a-4482-a365-49b3138c8945"
      },
      "execution_count": 61,
      "outputs": [
        {
          "output_type": "stream",
          "name": "stderr",
          "text": [
            "/usr/local/lib/python3.7/dist-packages/matplotlib/cbook/__init__.py:1376: VisibleDeprecationWarning: Creating an ndarray from ragged nested sequences (which is a list-or-tuple of lists-or-tuples-or ndarrays with different lengths or shapes) is deprecated. If you meant to do this, you must specify 'dtype=object' when creating the ndarray.\n",
            "  X = np.atleast_1d(X.T if isinstance(X, np.ndarray) else np.asarray(X))\n"
          ]
        },
        {
          "output_type": "execute_result",
          "data": {
            "text/plain": [
              "<matplotlib.axes._subplots.AxesSubplot at 0x7f249e0455d0>"
            ]
          },
          "metadata": {},
          "execution_count": 61
        },
        {
          "output_type": "display_data",
          "data": {
            "text/plain": [
              "<Figure size 432x288 with 1 Axes>"
            ],
            "image/png": "[encoded data removed]"
          },
          "metadata": {
            "needs_background": "light"
          }
        }
      ]
    },
    {
      "cell_type": "markdown",
      "source": [
        "Siamo riusciti così a separare i nostri dati rispetto a questa variabile di popolarità per poter essere restituita/assegnata a seconda del cluster al quale la canzone con quelle determinate features viene associata."
      ],
      "metadata": {
        "id": "rYiiVMWhJlSx"
      }
    },
    {
      "cell_type": "markdown",
      "source": [
        "**Predizione sulla popolarità di una canzone appartenente ad un macro genere**\n",
        "\n",
        "\n",
        "\n"
      ],
      "metadata": {
        "id": "A_vZMdWZCCNq"
      }
    },
    {
      "cell_type": "markdown",
      "source": [
        "Andando ad analizzare i singoli macro generi e la correlazione dei dati al loro interno ci aspettiamo di ottenere correlazioni più accurate(valori più alti(negativi e/o positivi che siano)) come in precedenza quando abbiamo stilato i criteri per la canzone perfetta. \n",
        "\n",
        "Quindi così proviamo a riformulare nel modo analogo al precedente il problema di classificazione cercando di clusterizzare per riuscire a:\n",
        "- prevedere con maggior successo la popolarità di una canzone che vuole essere lanciata e che appartiene ad un certo macro_genere(prima veniva fatto senza questa limitazione). "
      ],
      "metadata": {
        "id": "M-TyAf-kBIky"
      }
    },
    {
      "cell_type": "markdown",
      "source": [
        "Prendiamo in esame i tre macro_generi più presenti in classificca, con il miglior piazzamento medio e con la miglior popolarità media che, grazie agli studi precedentemente effettuati, sono risultati essere:\n",
        "- rap\n",
        "- dance\n",
        "- pop"
      ],
      "metadata": {
        "id": "zgPwN3c8C7Ok"
      }
    },
    {
      "cell_type": "markdown",
      "source": [
        "Partiamo dal macro genere rap."
      ],
      "metadata": {
        "id": "ZOOrETDeBRTg"
      }
    },
    {
      "cell_type": "markdown",
      "source": [
        "Estrapoliamo subito le features che sono più correlate alla Popolarità:\n",
        "- BPM, Loudness, Acousticness \n",
        "\n",
        "Estrapoliamo subito le features che sono più scorrelate alla Popolarità:forte per provare a prevedere comunque:\n",
        "- Danceability, Valence"
      ],
      "metadata": {
        "id": "TcXwv6y9KaN5"
      }
    },
    {
      "cell_type": "code",
      "source": [
        "correlated_features_to_popularity_for_rap = ['Beats.Per.Minute','Loudness..dB..','Acousticness..'] \n",
        "scorrelated_features_to_popularity_for_rap = ['Danceability','Valence.'] \n",
        "all_correlated_features_to_popularity_for_rap = correlated_features_to_popularity_for_rap+scorrelated_features_to_popularity_for_rap"
      ],
      "metadata": {
        "id": "ECXs_N08UYxP"
      },
      "execution_count": 62,
      "outputs": []
    },
    {
      "cell_type": "markdown",
      "source": [
        "Andiamo ad eseguire quindi il fitting dei dati come in precedenza in base alle features che si vogliono utilizzare."
      ],
      "metadata": {
        "id": "lYa7MYtABsR3"
      }
    },
    {
      "cell_type": "code",
      "source": [
        "#correlate positivamente\n",
        "X = maxi_genere_rap[correlated_features_to_popularity_for_rap]\n",
        "X = np.asarray(X)\n",
        "scaler = preprocessing.StandardScaler().fit(X)\n",
        "X = scaler.transform(X)\n",
        "\n",
        "#correlate negativamete\n",
        "Z = maxi_genere_rap[scorrelated_features_to_popularity_for_rap]\n",
        "Z = np.asarray(Z)\n",
        "scaler = preprocessing.StandardScaler().fit(Z)\n",
        "Z = scaler.transform(Z)\n",
        "\n",
        "#correlazione sia negativa che postivia\n",
        "A = maxi_genere_rap[all_correlated_features_to_popularity_for_rap]\n",
        "A = np.asarray(A)\n",
        "scaler = preprocessing.StandardScaler().fit(A)\n",
        "A = scaler.transform(A)"
      ],
      "metadata": {
        "id": "NQI2_Uw1UYxT"
      },
      "execution_count": 63,
      "outputs": []
    },
    {
      "cell_type": "markdown",
      "source": [
        "Utilizziamo due cluster(il minimo) date le poche canzoni presenti nei macro generi in analisi."
      ],
      "metadata": {
        "id": "NPY15GnyB0ja"
      }
    },
    {
      "cell_type": "markdown",
      "source": [
        "Con le features correlate positivamente:"
      ],
      "metadata": {
        "id": "K00QMKgaCrL0"
      }
    },
    {
      "cell_type": "code",
      "source": [
        "kmeans=KMeans(n_clusters=2, random_state=0).fit(X)\n",
        "y=kmeans.labels_\n",
        "for i in range(0,2):\n",
        "    plt.scatter(X[np.where(y==i),0],X[np.where(y==i),1], color = color[i])"
      ],
      "metadata": {
        "colab": {
          "base_uri": "https://localhost:8080/",
          "height": 265
        },
        "outputId": "0fa5b860-98e4-471f-e1d2-8d33b2f9f944",
        "id": "hT09GAieUYxU"
      },
      "execution_count": 64,
      "outputs": [
        {
          "output_type": "display_data",
          "data": {
            "text/plain": [
              "<Figure size 432x288 with 1 Axes>"
            ],
            "image/png": "[encoded data removed]"
          },
          "metadata": {
            "needs_background": "light"
          }
        }
      ]
    },
    {
      "cell_type": "code",
      "source": [
        "maxi_genere_rap[\"Clusters\"]=kmeans.predict(X)\n",
        "maxi_genere_rap.boxplot(column='Popularity',by='Clusters')"
      ],
      "metadata": {
        "outputId": "0ee91f83-72cf-4f7e-fecb-7b325225690b",
        "colab": {
          "base_uri": "https://localhost:8080/",
          "height": 375
        },
        "id": "TH3XRl6GUYxY"
      },
      "execution_count": 65,
      "outputs": [
        {
          "output_type": "stream",
          "name": "stderr",
          "text": [
            "/usr/local/lib/python3.7/dist-packages/matplotlib/cbook/__init__.py:1376: VisibleDeprecationWarning: Creating an ndarray from ragged nested sequences (which is a list-or-tuple of lists-or-tuples-or ndarrays with different lengths or shapes) is deprecated. If you meant to do this, you must specify 'dtype=object' when creating the ndarray.\n",
            "  X = np.atleast_1d(X.T if isinstance(X, np.ndarray) else np.asarray(X))\n"
          ]
        },
        {
          "output_type": "execute_result",
          "data": {
            "text/plain": [
              "<matplotlib.axes._subplots.AxesSubplot at 0x7f249e045b90>"
            ]
          },
          "metadata": {},
          "execution_count": 65
        },
        {
          "output_type": "display_data",
          "data": {
            "text/plain": [
              "<Figure size 432x288 with 1 Axes>"
            ],
            "image/png": "[encoded data removed]"
          },
          "metadata": {
            "needs_background": "light"
          }
        }
      ]
    },
    {
      "cell_type": "markdown",
      "source": [
        "Si riesce quindi a predire con successo la popolarità di una canzone del macro genere rap in base alle sue caratteristiche correlate positivamente."
      ],
      "metadata": {
        "id": "IK_dgsYRC2W2"
      }
    },
    {
      "cell_type": "markdown",
      "source": [
        "Con le features correlate negativamente:"
      ],
      "metadata": {
        "id": "9DwZVu1FVVna"
      }
    },
    {
      "cell_type": "code",
      "source": [
        "kmeans=KMeans(n_clusters=2, random_state=0).fit(Z)\n",
        "y=kmeans.labels_\n",
        "for i in range(0,2):\n",
        "    plt.scatter(Z[np.where(y==i),0],Z[np.where(y==i),1], color = color[i])"
      ],
      "metadata": {
        "id": "g3CntW2dVN8e",
        "outputId": "f096e610-198f-4f7c-8356-23a97e42d28e",
        "colab": {
          "base_uri": "https://localhost:8080/",
          "height": 265
        }
      },
      "execution_count": 66,
      "outputs": [
        {
          "output_type": "display_data",
          "data": {
            "text/plain": [
              "<Figure size 432x288 with 1 Axes>"
            ],
            "image/png": "[encoded data removed]"
          },
          "metadata": {
            "needs_background": "light"
          }
        }
      ]
    },
    {
      "cell_type": "code",
      "source": [
        "maxi_genere_rap[\"Clusters\"]=kmeans.predict(Z)\n",
        "maxi_genere_rap.boxplot(column='Popularity',by='Clusters')"
      ],
      "metadata": {
        "id": "TIZ2N6ZMaSS2",
        "colab": {
          "base_uri": "https://localhost:8080/",
          "height": 375
        },
        "outputId": "a81118fb-a8a2-4fde-88d9-5def063820cd"
      },
      "execution_count": 67,
      "outputs": [
        {
          "output_type": "stream",
          "name": "stderr",
          "text": [
            "/usr/local/lib/python3.7/dist-packages/matplotlib/cbook/__init__.py:1376: VisibleDeprecationWarning: Creating an ndarray from ragged nested sequences (which is a list-or-tuple of lists-or-tuples-or ndarrays with different lengths or shapes) is deprecated. If you meant to do this, you must specify 'dtype=object' when creating the ndarray.\n",
            "  X = np.atleast_1d(X.T if isinstance(X, np.ndarray) else np.asarray(X))\n"
          ]
        },
        {
          "output_type": "execute_result",
          "data": {
            "text/plain": [
              "<matplotlib.axes._subplots.AxesSubplot at 0x7f249e017350>"
            ]
          },
          "metadata": {},
          "execution_count": 67
        },
        {
          "output_type": "display_data",
          "data": {
            "text/plain": [
              "<Figure size 432x288 with 1 Axes>"
            ],
            "image/png": "[encoded data removed]"
          },
          "metadata": {
            "needs_background": "light"
          }
        }
      ]
    },
    {
      "cell_type": "markdown",
      "source": [
        "Riusciamo quindi a dedurre dal confronto di questi due box plot che:\n",
        "- utilizzando le due features che risultano correlate negativamente si arriva a distinguere in due cluster in modo migliore e quindi a predirre con più accuratezza un'ipotetica popolarità media di una nuova canzone rap."
      ],
      "metadata": {
        "id": "v7ZbQYCbabUR"
      }
    },
    {
      "cell_type": "markdown",
      "source": [
        "Con le feature corelate sia positivamente che negativamente:"
      ],
      "metadata": {
        "id": "UW7VNf85PwvR"
      }
    },
    {
      "cell_type": "code",
      "source": [
        "kmeans=KMeans(n_clusters=2, random_state=0).fit(A)\n",
        "y=kmeans.labels_\n",
        "for i in range(0,2):\n",
        "    plt.scatter(A[np.where(y==i),0],A[np.where(y==i),1], color = color[i])"
      ],
      "metadata": {
        "outputId": "85a87e4e-ae99-40cc-a588-87a6e3acec14",
        "colab": {
          "base_uri": "https://localhost:8080/",
          "height": 265
        },
        "id": "in_5LtkIDjjM"
      },
      "execution_count": 68,
      "outputs": [
        {
          "output_type": "display_data",
          "data": {
            "text/plain": [
              "<Figure size 432x288 with 1 Axes>"
            ],
            "image/png": "[encoded data removed]"
          },
          "metadata": {
            "needs_background": "light"
          }
        }
      ]
    },
    {
      "cell_type": "code",
      "source": [
        "maxi_genere_rap[\"Clusters\"]=kmeans.predict(A)\n",
        "maxi_genere_rap.boxplot(column='Popularity',by='Clusters')"
      ],
      "metadata": {
        "outputId": "69a78eac-69d1-47ea-a63e-b18c801fc4aa",
        "colab": {
          "base_uri": "https://localhost:8080/",
          "height": 375
        },
        "id": "9Z38Mt8dDjjP"
      },
      "execution_count": 69,
      "outputs": [
        {
          "output_type": "stream",
          "name": "stderr",
          "text": [
            "/usr/local/lib/python3.7/dist-packages/matplotlib/cbook/__init__.py:1376: VisibleDeprecationWarning: Creating an ndarray from ragged nested sequences (which is a list-or-tuple of lists-or-tuples-or ndarrays with different lengths or shapes) is deprecated. If you meant to do this, you must specify 'dtype=object' when creating the ndarray.\n",
            "  X = np.atleast_1d(X.T if isinstance(X, np.ndarray) else np.asarray(X))\n"
          ]
        },
        {
          "output_type": "execute_result",
          "data": {
            "text/plain": [
              "<matplotlib.axes._subplots.AxesSubplot at 0x7f24a042b090>"
            ]
          },
          "metadata": {},
          "execution_count": 69
        },
        {
          "output_type": "display_data",
          "data": {
            "text/plain": [
              "<Figure size 432x288 with 1 Axes>"
            ],
            "image/png": "[encoded data removed]"
          },
          "metadata": {
            "needs_background": "light"
          }
        }
      ]
    },
    {
      "cell_type": "markdown",
      "source": [
        "Utilizzando tutte le features correlate sia positivamente che negativamente alla popolarità non si riesce ad ottenere un'approssimazione accurata dato il poco numero di canzoni rap presenti, però comunque i cluster si sono formati in modo migliore e quindi con più dati potrebbe rivelarsi una predizione vincente."
      ],
      "metadata": {
        "id": "T3yWYndID5M7"
      }
    },
    {
      "cell_type": "markdown",
      "source": [
        "Abbiamo quindi analizzato il macro genere più popolare e posizionato meglio in media nella classifica che stiamo esaminando.\n",
        "\n",
        "Ora ripetiamo quello sopra effettuato per uno dei due macro generi più popolari e presenti nella classifica(come varianza di posizionamenti e di popolarità) che sono il pop e il dance come già riportato.\n"
      ],
      "metadata": {
        "id": "-5xUeeSabAz4"
      }
    },
    {
      "cell_type": "markdown",
      "source": [
        "\n",
        "Prendiamo in esame il macro genere pop che presenta inoltre la canzone prima in classifica."
      ],
      "metadata": {
        "id": "YXBYdrPjIzM0"
      }
    },
    {
      "cell_type": "markdown",
      "source": [
        "Estrapoliamo subito le features che sono più correlate alla Popolarità e procedendo in maniera del tutto analoga alla precedente:\n",
        "- BPM, Length, Speechiness\n",
        "\n",
        "Estrapoliamo subito le features che sono più scorrelate alla Popolarità e procedendo in maniera del tutto analoga alla precedente:\n",
        "- Danceability, Valence, Energy"
      ],
      "metadata": {
        "id": "Z6DOWbUKE1R1"
      }
    },
    {
      "cell_type": "code",
      "source": [
        "correlated_features_to_popularity_for_pop = ['Beats.Per.Minute','Length.','Speechiness.'] \n",
        "scorrelated_features_to_popularity_for_pop = ['Energy','Danceability','Valence.'] \n",
        "all_correlated_features_to_popularity_for_pop = correlated_features_to_popularity_for_pop+scorrelated_features_to_popularity_for_pop"
      ],
      "metadata": {
        "id": "BBys5sgyE1R3"
      },
      "execution_count": 70,
      "outputs": []
    },
    {
      "cell_type": "markdown",
      "source": [
        "Andiamo ad eseguire quindi il fitting dei dati come in precedenza in base alle features che si vogliono utilizzare."
      ],
      "metadata": {
        "id": "K6UCvxOoE1R4"
      }
    },
    {
      "cell_type": "code",
      "source": [
        "#correlate positivamente\n",
        "X = maxi_genere_pop[correlated_features_to_popularity_for_pop]\n",
        "X = np.asarray(X)\n",
        "scaler = preprocessing.StandardScaler().fit(X)\n",
        "X = scaler.transform(X)\n",
        "\n",
        "#correlate negativamete\n",
        "Z = maxi_genere_pop[scorrelated_features_to_popularity_for_pop]\n",
        "Z = np.asarray(Z)\n",
        "scaler = preprocessing.StandardScaler().fit(Z)\n",
        "Z = scaler.transform(Z)\n",
        "\n",
        "#correlazione sia negativa che postivia\n",
        "A = maxi_genere_pop[all_correlated_features_to_popularity_for_pop]\n",
        "A = np.asarray(A)\n",
        "scaler = preprocessing.StandardScaler().fit(A)\n",
        "A = scaler.transform(A)"
      ],
      "metadata": {
        "id": "8jlwoegiE1R5"
      },
      "execution_count": 71,
      "outputs": []
    },
    {
      "cell_type": "markdown",
      "source": [
        "Con le features correlate positivamente:"
      ],
      "metadata": {
        "id": "NNB_1wSvE1R6"
      }
    },
    {
      "cell_type": "code",
      "source": [
        "kmeans=KMeans(n_clusters=3, random_state=0).fit(X)\n",
        "y=kmeans.labels_\n",
        "for i in range(0,3):\n",
        "    plt.scatter(X[np.where(y==i),0],X[np.where(y==i),1], color = color[i])"
      ],
      "metadata": {
        "colab": {
          "base_uri": "https://localhost:8080/",
          "height": 265
        },
        "outputId": "2f6ae742-a7f5-463a-c9ed-7c2ee59c9e36",
        "id": "FR3XgROJE1R7"
      },
      "execution_count": 72,
      "outputs": [
        {
          "output_type": "display_data",
          "data": {
            "text/plain": [
              "<Figure size 432x288 with 1 Axes>"
            ],
            "image/png": "[encoded data removed]"
          },
          "metadata": {
            "needs_background": "light"
          }
        }
      ]
    },
    {
      "cell_type": "code",
      "source": [
        "maxi_genere_pop[\"Clusters\"]=kmeans.predict(X)\n",
        "maxi_genere_pop.boxplot(column='Popularity',by='Clusters')"
      ],
      "metadata": {
        "outputId": "b8e5bb76-a82c-447d-8905-679cc537fd97",
        "colab": {
          "base_uri": "https://localhost:8080/",
          "height": 375
        },
        "id": "1_pcgnyZE1R8"
      },
      "execution_count": 73,
      "outputs": [
        {
          "output_type": "stream",
          "name": "stderr",
          "text": [
            "/usr/local/lib/python3.7/dist-packages/matplotlib/cbook/__init__.py:1376: VisibleDeprecationWarning: Creating an ndarray from ragged nested sequences (which is a list-or-tuple of lists-or-tuples-or ndarrays with different lengths or shapes) is deprecated. If you meant to do this, you must specify 'dtype=object' when creating the ndarray.\n",
            "  X = np.atleast_1d(X.T if isinstance(X, np.ndarray) else np.asarray(X))\n"
          ]
        },
        {
          "output_type": "execute_result",
          "data": {
            "text/plain": [
              "<matplotlib.axes._subplots.AxesSubplot at 0x7f24a507b450>"
            ]
          },
          "metadata": {},
          "execution_count": 73
        },
        {
          "output_type": "display_data",
          "data": {
            "text/plain": [
              "<Figure size 432x288 with 1 Axes>"
            ],
            "image/png": "[encoded data removed]"
          },
          "metadata": {
            "needs_background": "light"
          }
        }
      ]
    },
    {
      "cell_type": "markdown",
      "source": [
        "Con l'utilizzo di 3 cluster si riesce quindi a predire con successo la popolarità di una canzone del macro genere pop in base alle sue caratteristiche correlate positivamente."
      ],
      "metadata": {
        "id": "RfVV7NFgE1R9"
      }
    },
    {
      "cell_type": "markdown",
      "source": [
        "Con le features correlate negativamente:"
      ],
      "metadata": {
        "id": "86_AUPNpE1R-"
      }
    },
    {
      "cell_type": "code",
      "source": [
        "kmeans=KMeans(n_clusters=3, random_state=0).fit(Z)\n",
        "y=kmeans.labels_\n",
        "for i in range(0,3):\n",
        "    plt.scatter(Z[np.where(y==i),0],Z[np.where(y==i),1], color = color[i])"
      ],
      "metadata": {
        "outputId": "b215435c-f9c1-49da-c487-502da8e5e058",
        "colab": {
          "base_uri": "https://localhost:8080/",
          "height": 265
        },
        "id": "eUhB6w8zE1R_"
      },
      "execution_count": 74,
      "outputs": [
        {
          "output_type": "display_data",
          "data": {
            "text/plain": [
              "<Figure size 432x288 with 1 Axes>"
            ],
            "image/png": "[encoded data removed]"
          },
          "metadata": {
            "needs_background": "light"
          }
        }
      ]
    },
    {
      "cell_type": "code",
      "source": [
        "maxi_genere_pop[\"Clusters\"]=kmeans.predict(Z)\n",
        "maxi_genere_pop.boxplot(column='Popularity',by='Clusters')"
      ],
      "metadata": {
        "colab": {
          "base_uri": "https://localhost:8080/",
          "height": 375
        },
        "outputId": "0d2bb1db-d414-4e4d-fd70-601b9a180ef5",
        "id": "LUDNnNYBE1SA"
      },
      "execution_count": 75,
      "outputs": [
        {
          "output_type": "stream",
          "name": "stderr",
          "text": [
            "/usr/local/lib/python3.7/dist-packages/matplotlib/cbook/__init__.py:1376: VisibleDeprecationWarning: Creating an ndarray from ragged nested sequences (which is a list-or-tuple of lists-or-tuples-or ndarrays with different lengths or shapes) is deprecated. If you meant to do this, you must specify 'dtype=object' when creating the ndarray.\n",
            "  X = np.atleast_1d(X.T if isinstance(X, np.ndarray) else np.asarray(X))\n"
          ]
        },
        {
          "output_type": "execute_result",
          "data": {
            "text/plain": [
              "<matplotlib.axes._subplots.AxesSubplot at 0x7f24a03bd5d0>"
            ]
          },
          "metadata": {},
          "execution_count": 75
        },
        {
          "output_type": "display_data",
          "data": {
            "text/plain": [
              "<Figure size 432x288 with 1 Axes>"
            ],
            "image/png": "[encoded data removed]"
          },
          "metadata": {
            "needs_background": "light"
          }
        }
      ]
    },
    {
      "cell_type": "markdown",
      "source": [
        "Riusciamo quindi a dedurre dal confronto di questi due box plot sopra riportati che si ottengono più o meno le stesse previsioni, riuscendo così a predire in base alle caratteristiche della canzone pop una certa popolarità."
      ],
      "metadata": {
        "id": "MtAbXDLvE1SB"
      }
    },
    {
      "cell_type": "markdown",
      "source": [
        "Con le feature corelate sia positivamente che negativamente risulta più efficace applicare 2 cluster per ottenere una divisione tra questi più netta rispetto all'utilizzo di 3 cluster."
      ],
      "metadata": {
        "id": "ezHyQ-ZmE1SC"
      }
    },
    {
      "cell_type": "code",
      "source": [
        "kmeans=KMeans(n_clusters=2, random_state=7).fit(A)\n",
        "y=kmeans.labels_\n",
        "for i in range(0,2):\n",
        "    plt.scatter(A[np.where(y==i),0],A[np.where(y==i),1], color = color[i])"
      ],
      "metadata": {
        "outputId": "e94cafab-5230-4a12-b138-1a5b0c289b03",
        "colab": {
          "base_uri": "https://localhost:8080/",
          "height": 265
        },
        "id": "5m_JI_8wE1SD"
      },
      "execution_count": 76,
      "outputs": [
        {
          "output_type": "display_data",
          "data": {
            "text/plain": [
              "<Figure size 432x288 with 1 Axes>"
            ],
            "image/png": "[encoded data removed]"
          },
          "metadata": {
            "needs_background": "light"
          }
        }
      ]
    },
    {
      "cell_type": "code",
      "source": [
        "maxi_genere_pop[\"Clusters\"]=kmeans.predict(A)\n",
        "maxi_genere_pop.boxplot(column='Popularity',by='Clusters')"
      ],
      "metadata": {
        "outputId": "5f32aefe-2bc3-44b5-f73a-459aa2306349",
        "colab": {
          "base_uri": "https://localhost:8080/",
          "height": 375
        },
        "id": "rQKaM2hrE1SF"
      },
      "execution_count": 77,
      "outputs": [
        {
          "output_type": "stream",
          "name": "stderr",
          "text": [
            "/usr/local/lib/python3.7/dist-packages/matplotlib/cbook/__init__.py:1376: VisibleDeprecationWarning: Creating an ndarray from ragged nested sequences (which is a list-or-tuple of lists-or-tuples-or ndarrays with different lengths or shapes) is deprecated. If you meant to do this, you must specify 'dtype=object' when creating the ndarray.\n",
            "  X = np.atleast_1d(X.T if isinstance(X, np.ndarray) else np.asarray(X))\n"
          ]
        },
        {
          "output_type": "execute_result",
          "data": {
            "text/plain": [
              "<matplotlib.axes._subplots.AxesSubplot at 0x7f249e176890>"
            ]
          },
          "metadata": {},
          "execution_count": 77
        },
        {
          "output_type": "display_data",
          "data": {
            "text/plain": [
              "<Figure size 432x288 with 1 Axes>"
            ],
            "image/png": "[encoded data removed]"
          },
          "metadata": {
            "needs_background": "light"
          }
        }
      ]
    },
    {
      "cell_type": "markdown",
      "source": [
        "Utilizzando tutte le features correlate si riesce ad ottenere un buon risultato di previsione utilizzando due cluster come si può visualizzare nel box plot sopra riportato. "
      ],
      "metadata": {
        "id": "xMWQj7DhE1SH"
      }
    },
    {
      "cell_type": "markdown",
      "source": [
        "Siamo quindi riusciti a risolvere i seguenti problemi di classificazione con i dati a disposizione:\n",
        "\n",
        "- predire il genere di una canzone con tutti gli attributi di questa;\n",
        "- predire il genere di una canzone con tutte le caratteristiche correlate di questa;\n",
        "- predire il macro genere di una canzone con tutti gli attributi di questa;\n",
        "- predire il macro genere di una canzone con tutte le caratteristiche correlate di questa;\n",
        "- predire la popolarità di una canzone appartenente a qualsiasi genere a seconda dei suoi attributi;\n",
        "- predire la popolarità di una canzone appartenente ad un macro genere in particolare(provato su rap e pop)\n",
        "\n"
      ],
      "metadata": {
        "id": "nU9mhgYeJgC3"
      }
    },
    {
      "cell_type": "markdown",
      "source": [
        "***TEST***\n",
        "\n",
        "Dopo aver eseguito l'analisi dei dati a nostra disposizione che ci ha portato a defnire le caratteristiche o gli attributi della canzone vincente(o almeno si spera dato che comunque è) abbiamo costruito le basi per la predizione della popolarità di una canzone appartenente ad un genere o non.\n",
        "\n",
        "Possiamo quindi provare a risponderci effettivamente alla domanda iniziale: \n",
        "- come creare una canzone di successo basandoci sui suoi attributi: a questo quesito appunto possiamo rispondere dando un genere alla canzone stessa oppure, se già appartenente ai generi più popolari(rap e pop) possiamo predire la popolarità di questa in base proprio alle sue caratteristiche."
      ],
      "metadata": {
        "id": "E4GQMnA4o--R"
      }
    },
    {
      "cell_type": "markdown",
      "source": [
        "*Devo quindi fare in modo di assegnare dla popolarità ad una canzone che mi arriva con tutti gli attributi ma senza appunto quella.*\n",
        "\n",
        "*Non so pero come implementarlo...*"
      ],
      "metadata": {
        "id": "4wKzX3aswy_M"
      }
    },
    {
      "cell_type": "markdown",
      "source": [
        "- inserire valori canzone tranne popolarita\n",
        "\n",
        "- assegnare popolarità in base alla popolarità media del cluster a cui è stata assegnato se possibile."
      ],
      "metadata": {
        "id": "Bk5vF_oSxV9l"
      }
    },
    {
      "cell_type": "code",
      "source": [
        "Position = len(top50['Position'])+1;\n",
        "TrackName = 'Canzone di Test'\n",
        "ArtistName = 'pede'\n",
        "Genere = 'pop'\n",
        "BPM = 140\n",
        "Energy = 50\n",
        "Danceability = 70\n",
        "Potenza = -6\n",
        "Liveness = 15\n",
        "Valenza = 50\n",
        "Lunghezza = 200\n",
        "Acousticness = 21\n",
        "Speechiness = 9\n",
        "Popularity = np.nan"
      ],
      "metadata": {
        "id": "TzhJnrGM4ung"
      },
      "execution_count": 78,
      "outputs": []
    },
    {
      "cell_type": "code",
      "source": [
        "top50_test = maxi_genere_pop.append({'Position': Position,'Track.Name' : TrackName , 'Artist.Name' : ArtistName, 'Genre' : Genere, 'Beats.Per.Minute' : BPM , 'Energy' : Energy, 'Danceability' : Danceability , 'Loudness..dB..' : Potenza, 'Liveness' : Liveness, 'Valence.' : Valenza, 'Length.' : Lunghezza, 'Acousticness..' : Acousticness, 'Speechiness.' : Speechiness, 'Popularity' : Popularity} , ignore_index=True)"
      ],
      "metadata": {
        "id": "KXdt8Mq0bp6o"
      },
      "execution_count": 79,
      "outputs": []
    },
    {
      "cell_type": "code",
      "source": [
        "top50_test.tail()"
      ],
      "metadata": {
        "id": "83Gdnq-Vge7N",
        "outputId": "ea7fe26c-4ff1-42e0-fdf8-828e4b959fc9",
        "colab": {
          "base_uri": "https://localhost:8080/",
          "height": 357
        }
      },
      "execution_count": 80,
      "outputs": [
        {
          "output_type": "execute_result",
          "data": {
            "text/plain": [
              "    Position          Track.Name     Artist.Name           Genre  \\\n",
              "9         14  Otro Trago - Remix            Sech  panamanian pop   \n",
              "10        37          Otro Trago            Sech  panamanian pop   \n",
              "11        27        Dance Monkey     Tones and I  australian pop   \n",
              "12        39              Sucker  Jonas Brothers        boy band   \n",
              "13        51     Canzone di Test            pede             pop   \n",
              "\n",
              "    Beats.Per.Minute  Energy  Danceability  Loudness..dB..  Liveness  \\\n",
              "9                176      79            73              -2         6   \n",
              "10               176      70            75              -5        11   \n",
              "11                98      59            82              -6        18   \n",
              "12               138      73            84              -5        11   \n",
              "13               140      50            70              -6        15   \n",
              "\n",
              "    Valence.  Length.  Acousticness..  Speechiness.  Popularity  Clusters  \n",
              "9         76      288               7            20        87.0       0.0  \n",
              "10        62      226              14            34        91.0       0.0  \n",
              "11        54      210              69            10        83.0       1.0  \n",
              "12        95      181               4             6        80.0       1.0  \n",
              "13        50      200              21             9         NaN       NaN  "
            ],
            "text/html": [
              "\n",
              "  <div id=\"df-7a7bcb3d-dda1-4e32-87b4-406ef8aa539b\">\n",
              "    <div class=\"colab-df-container\">\n",
              "      <div>\n",
              "<style scoped>\n",
              "    .dataframe tbody tr th:only-of-type {\n",
              "        vertical-align: middle;\n",
              "    }\n",
              "\n",
              "    .dataframe tbody tr th {\n",
              "        vertical-align: top;\n",
              "    }\n",
              "\n",
              "    .dataframe thead th {\n",
              "        text-align: right;\n",
              "    }\n",
              "</style>\n",
              "<table border=\"1\" class=\"dataframe\">\n",
              "  <thead>\n",
              "    <tr style=\"text-align: right;\">\n",
              "      <th></th>\n",
              "      <th>Position</th>\n",
              "      <th>Track.Name</th>\n",
              "      <th>Artist.Name</th>\n",
              "      <th>Genre</th>\n",
              "      <th>Beats.Per.Minute</th>\n",
              "      <th>Energy</th>\n",
              "      <th>Danceability</th>\n",
              "      <th>Loudness..dB..</th>\n",
              "      <th>Liveness</th>\n",
              "      <th>Valence.</th>\n",
              "      <th>Length.</th>\n",
              "      <th>Acousticness..</th>\n",
              "      <th>Speechiness.</th>\n",
              "      <th>Popularity</th>\n",
              "      <th>Clusters</th>\n",
              "    </tr>\n",
              "  </thead>\n",
              "  <tbody>\n",
              "    <tr>\n",
              "      <th>9</th>\n",
              "      <td>14</td>\n",
              "      <td>Otro Trago - Remix</td>\n",
              "      <td>Sech</td>\n",
              "      <td>panamanian pop</td>\n",
              "      <td>176</td>\n",
              "      <td>79</td>\n",
              "      <td>73</td>\n",
              "      <td>-2</td>\n",
              "      <td>6</td>\n",
              "      <td>76</td>\n",
              "      <td>288</td>\n",
              "      <td>7</td>\n",
              "      <td>20</td>\n",
              "      <td>87.0</td>\n",
              "      <td>0.0</td>\n",
              "    </tr>\n",
              "    <tr>\n",
              "      <th>10</th>\n",
              "      <td>37</td>\n",
              "      <td>Otro Trago</td>\n",
              "      <td>Sech</td>\n",
              "      <td>panamanian pop</td>\n",
              "      <td>176</td>\n",
              "      <td>70</td>\n",
              "      <td>75</td>\n",
              "      <td>-5</td>\n",
              "      <td>11</td>\n",
              "      <td>62</td>\n",
              "      <td>226</td>\n",
              "      <td>14</td>\n",
              "      <td>34</td>\n",
              "      <td>91.0</td>\n",
              "      <td>0.0</td>\n",
              "    </tr>\n",
              "    <tr>\n",
              "      <th>11</th>\n",
              "      <td>27</td>\n",
              "      <td>Dance Monkey</td>\n",
              "      <td>Tones and I</td>\n",
              "      <td>australian pop</td>\n",
              "      <td>98</td>\n",
              "      <td>59</td>\n",
              "      <td>82</td>\n",
              "      <td>-6</td>\n",
              "      <td>18</td>\n",
              "      <td>54</td>\n",
              "      <td>210</td>\n",
              "      <td>69</td>\n",
              "      <td>10</td>\n",
              "      <td>83.0</td>\n",
              "      <td>1.0</td>\n",
              "    </tr>\n",
              "    <tr>\n",
              "      <th>12</th>\n",
              "      <td>39</td>\n",
              "      <td>Sucker</td>\n",
              "      <td>Jonas Brothers</td>\n",
              "      <td>boy band</td>\n",
              "      <td>138</td>\n",
              "      <td>73</td>\n",
              "      <td>84</td>\n",
              "      <td>-5</td>\n",
              "      <td>11</td>\n",
              "      <td>95</td>\n",
              "      <td>181</td>\n",
              "      <td>4</td>\n",
              "      <td>6</td>\n",
              "      <td>80.0</td>\n",
              "      <td>1.0</td>\n",
              "    </tr>\n",
              "    <tr>\n",
              "      <th>13</th>\n",
              "      <td>51</td>\n",
              "      <td>Canzone di Test</td>\n",
              "      <td>pede</td>\n",
              "      <td>pop</td>\n",
              "      <td>140</td>\n",
              "      <td>50</td>\n",
              "      <td>70</td>\n",
              "      <td>-6</td>\n",
              "      <td>15</td>\n",
              "      <td>50</td>\n",
              "      <td>200</td>\n",
              "      <td>21</td>\n",
              "      <td>9</td>\n",
              "      <td>NaN</td>\n",
              "      <td>NaN</td>\n",
              "    </tr>\n",
              "  </tbody>\n",
              "</table>\n",
              "</div>\n",
              "      <button class=\"colab-df-convert\" onclick=\"convertToInteractive('df-7a7bcb3d-dda1-4e32-87b4-406ef8aa539b')\"\n",
              "              title=\"Convert this dataframe to an interactive table.\"\n",
              "              style=\"display:none;\">\n",
              "        \n",
              "  <svg xmlns=\"http://www.w3.org/2000/svg\" height=\"24px\"viewBox=\"0 0 24 24\"\n",
              "       width=\"24px\">\n",
              "    <path d=\"M0 0h24v24H0V0z\" fill=\"none\"/>\n",
              "    <path d=\"M18.56 5.44l.94 2.06.94-2.06 2.06-.94-2.06-.94-.94-2.06-.94 2.06-2.06.94zm-11 1L8.5 8.5l.94-2.06 2.06-.94-2.06-.94L8.5 2.5l-.94 2.06-2.06.94zm10 10l.94 2.06.94-2.06 2.06-.94-2.06-.94-.94-2.06-.94 2.06-2.06.94z\"/><path d=\"M17.41 7.96l-1.37-1.37c-.4-.4-.92-.59-1.43-.59-.52 0-1.04.2-1.43.59L10.3 9.45l-7.72 7.72c-.78.78-.78 2.05 0 2.83L4 21.41c.39.39.9.59 1.41.59.51 0 1.02-.2 1.41-.59l7.78-7.78 2.81-2.81c.8-.78.8-2.07 0-2.86zM5.41 20L4 18.59l7.72-7.72 1.47 1.35L5.41 20z\"/>\n",
              "  </svg>\n",
              "      </button>\n",
              "      \n",
              "  <style>\n",
              "    .colab-df-container {\n",
              "      display:flex;\n",
              "      flex-wrap:wrap;\n",
              "      gap: 12px;\n",
              "    }\n",
              "\n",
              "    .colab-df-convert {\n",
              "      background-color: #E8F0FE;\n",
              "      border: none;\n",
              "      border-radius: 50%;\n",
              "      cursor: pointer;\n",
              "      display: none;\n",
              "      fill: #1967D2;\n",
              "      height: 32px;\n",
              "      padding: 0 0 0 0;\n",
              "      width: 32px;\n",
              "    }\n",
              "\n",
              "    .colab-df-convert:hover {\n",
              "      background-color: #E2EBFA;\n",
              "      box-shadow: 0px 1px 2px rgba(60, 64, 67, 0.3), 0px 1px 3px 1px rgba(60, 64, 67, 0.15);\n",
              "      fill: #174EA6;\n",
              "    }\n",
              "\n",
              "    [theme=dark] .colab-df-convert {\n",
              "      background-color: #3B4455;\n",
              "      fill: #D2E3FC;\n",
              "    }\n",
              "\n",
              "    [theme=dark] .colab-df-convert:hover {\n",
              "      background-color: #434B5C;\n",
              "      box-shadow: 0px 1px 3px 1px rgba(0, 0, 0, 0.15);\n",
              "      filter: drop-shadow(0px 1px 2px rgba(0, 0, 0, 0.3));\n",
              "      fill: #FFFFFF;\n",
              "    }\n",
              "  </style>\n",
              "\n",
              "      <script>\n",
              "        const buttonEl =\n",
              "          document.querySelector('#df-7a7bcb3d-dda1-4e32-87b4-406ef8aa539b button.colab-df-convert');\n",
              "        buttonEl.style.display =\n",
              "          google.colab.kernel.accessAllowed ? 'block' : 'none';\n",
              "\n",
              "        async function convertToInteractive(key) {\n",
              "          const element = document.querySelector('#df-7a7bcb3d-dda1-4e32-87b4-406ef8aa539b');\n",
              "          const dataTable =\n",
              "            await google.colab.kernel.invokeFunction('convertToInteractive',\n",
              "                                                     [key], {});\n",
              "          if (!dataTable) return;\n",
              "\n",
              "          const docLinkHtml = 'Like what you see? Visit the ' +\n",
              "            '<a target=\"_blank\" href=https://colab.research.google.com/notebooks/data_table.ipynb>data table notebook</a>'\n",
              "            + ' to learn more about interactive tables.';\n",
              "          element.innerHTML = '';\n",
              "          dataTable['output_type'] = 'display_data';\n",
              "          await google.colab.output.renderOutput(dataTable, element);\n",
              "          const docLink = document.createElement('div');\n",
              "          docLink.innerHTML = docLinkHtml;\n",
              "          element.appendChild(docLink);\n",
              "        }\n",
              "      </script>\n",
              "    </div>\n",
              "  </div>\n",
              "  "
            ]
          },
          "metadata": {},
          "execution_count": 80
        }
      ]
    },
    {
      "cell_type": "code",
      "source": [
        "correlated_features_to_popularity_for_pop = ['Beats.Per.Minute','Length.','Speechiness.','Loudness..dB..'] \n",
        "scorrelated_features_to_popularity_for_pop = ['Acousticness..','Danceability','Valence.','Liveness'] \n",
        "all_correlated_features_to_popularity_for_pop = correlated_features_to_popularity_for_pop+scorrelated_features_to_popularity_for_pop"
      ],
      "metadata": {
        "id": "9GUyef5GiiFB"
      },
      "execution_count": 81,
      "outputs": []
    },
    {
      "cell_type": "code",
      "source": [
        "#correlazione sia negativa che postivia\n",
        "A = top50_test[all_correlated_features_to_popularity_for_pop]\n",
        "A = np.asarray(A)\n",
        "scaler = preprocessing.StandardScaler().fit(A)\n",
        "A = scaler.transform(A)"
      ],
      "metadata": {
        "id": "CCC6rBLqjD7B"
      },
      "execution_count": 82,
      "outputs": []
    },
    {
      "cell_type": "code",
      "source": [
        "kmeans=KMeans(n_clusters=2, random_state=0).fit(A)\n",
        "y=kmeans.labels_\n",
        "for i in range(0,2):\n",
        "    plt.scatter(A[np.where(y==i),0],A[np.where(y==i),1], color = color[i])"
      ],
      "metadata": {
        "id": "treMBzDWikNr",
        "outputId": "b38b3cbf-f72f-49f9-c1ae-24e40f09523d",
        "colab": {
          "base_uri": "https://localhost:8080/",
          "height": 265
        }
      },
      "execution_count": 83,
      "outputs": [
        {
          "output_type": "display_data",
          "data": {
            "text/plain": [
              "<Figure size 432x288 with 1 Axes>"
            ],
            "image/png": "[encoded data removed]"
          },
          "metadata": {
            "needs_background": "light"
          }
        }
      ]
    },
    {
      "cell_type": "code",
      "source": [
        "top50_test[\"Clusters\"]=kmeans.predict(A)\n",
        "top50_test.boxplot(column='Popularity',by='Clusters')"
      ],
      "metadata": {
        "id": "jPY68S3nlWIo",
        "outputId": "bb91a36a-d5d5-4b7d-e5e7-caa97b0372a7",
        "colab": {
          "base_uri": "https://localhost:8080/",
          "height": 375
        }
      },
      "execution_count": 84,
      "outputs": [
        {
          "output_type": "stream",
          "name": "stderr",
          "text": [
            "/usr/local/lib/python3.7/dist-packages/matplotlib/cbook/__init__.py:1376: VisibleDeprecationWarning: Creating an ndarray from ragged nested sequences (which is a list-or-tuple of lists-or-tuples-or ndarrays with different lengths or shapes) is deprecated. If you meant to do this, you must specify 'dtype=object' when creating the ndarray.\n",
            "  X = np.atleast_1d(X.T if isinstance(X, np.ndarray) else np.asarray(X))\n"
          ]
        },
        {
          "output_type": "execute_result",
          "data": {
            "text/plain": [
              "<matplotlib.axes._subplots.AxesSubplot at 0x7f249dd15dd0>"
            ]
          },
          "metadata": {},
          "execution_count": 84
        },
        {
          "output_type": "display_data",
          "data": {
            "text/plain": [
              "<Figure size 432x288 with 1 Axes>"
            ],
            "image/png": "[encoded data removed]"
          },
          "metadata": {
            "needs_background": "light"
          }
        }
      ]
    },
    {
      "cell_type": "markdown",
      "source": [
        "Andiamo quindi a vedere di assegnarli una popolarità in base al cluster assegnato alla canzone appena aggiunta."
      ],
      "metadata": {
        "id": "KatnmNwUnaH8"
      }
    },
    {
      "cell_type": "code",
      "source": [
        "popolarità_media_per_cluster = top50_test.groupby('Clusters')['Popularity'].mean().astype(int)\n",
        "popolarità_media_per_cluster = np.asarray(popolarità_media_per_cluster)\n",
        "n_clusters = top50_test['Clusters'].unique()\n",
        "top50_test=top50_test.replace(np.nan, 0)\n",
        "print(popolarità_media_per_cluster)\n",
        "print(n_clusters)"
      ],
      "metadata": {
        "id": "TzgmZyzynq0s",
        "outputId": "c170896c-259d-4b92-8712-067e128ed143",
        "colab": {
          "base_uri": "https://localhost:8080/"
        }
      },
      "execution_count": 85,
      "outputs": [
        {
          "output_type": "stream",
          "name": "stdout",
          "text": [
            "[83 89]\n",
            "[0 1]\n"
          ]
        }
      ]
    },
    {
      "cell_type": "code",
      "source": [
        "for i in range(0,len(n_clusters)):\n",
        "  top50_test.loc[((top50_test['Popularity'] <= 0) & (top50_test['Clusters'] == i)), 'Expected_Popularity'] =  popolarità_media_per_cluster[i]\n",
        "  top50_test.loc[((top50_test['Popularity'] > 0) & (top50_test['Clusters'] == i)), 'Expected_Popularity'] = top50_test['Popularity']\n",
        "\n",
        "top50_test.tail(5)"
      ],
      "metadata": {
        "id": "BCjJwNXnrbVE",
        "outputId": "14c4a944-88d1-4fa3-b770-7a556ece2dcd",
        "colab": {
          "base_uri": "https://localhost:8080/",
          "height": 357
        }
      },
      "execution_count": 87,
      "outputs": [
        {
          "output_type": "execute_result",
          "data": {
            "text/plain": [
              "    Position          Track.Name     Artist.Name           Genre  \\\n",
              "9         14  Otro Trago - Remix            Sech  panamanian pop   \n",
              "10        37          Otro Trago            Sech  panamanian pop   \n",
              "11        27        Dance Monkey     Tones and I  australian pop   \n",
              "12        39              Sucker  Jonas Brothers        boy band   \n",
              "13        51     Canzone di Test            pede             pop   \n",
              "\n",
              "    Beats.Per.Minute  Energy  Danceability  Loudness..dB..  Liveness  \\\n",
              "9                176      79            73              -2         6   \n",
              "10               176      70            75              -5        11   \n",
              "11                98      59            82              -6        18   \n",
              "12               138      73            84              -5        11   \n",
              "13               140      50            70              -6        15   \n",
              "\n",
              "    Valence.  Length.  Acousticness..  Speechiness.  Popularity  Clusters  \\\n",
              "9         76      288               7            20        87.0         1   \n",
              "10        62      226              14            34        91.0         1   \n",
              "11        54      210              69            10        83.0         0   \n",
              "12        95      181               4             6        80.0         0   \n",
              "13        50      200              21             9         0.0         0   \n",
              "\n",
              "    Expected_Popularity  \n",
              "9                  87.0  \n",
              "10                 91.0  \n",
              "11                 83.0  \n",
              "12                 80.0  \n",
              "13                 83.0  "
            ],
            "text/html": [
              "\n",
              "  <div id=\"df-77d7fd09-0ea1-425e-93a7-2c89b1b9c6b2\">\n",
              "    <div class=\"colab-df-container\">\n",
              "      <div>\n",
              "<style scoped>\n",
              "    .dataframe tbody tr th:only-of-type {\n",
              "        vertical-align: middle;\n",
              "    }\n",
              "\n",
              "    .dataframe tbody tr th {\n",
              "        vertical-align: top;\n",
              "    }\n",
              "\n",
              "    .dataframe thead th {\n",
              "        text-align: right;\n",
              "    }\n",
              "</style>\n",
              "<table border=\"1\" class=\"dataframe\">\n",
              "  <thead>\n",
              "    <tr style=\"text-align: right;\">\n",
              "      <th></th>\n",
              "      <th>Position</th>\n",
              "      <th>Track.Name</th>\n",
              "      <th>Artist.Name</th>\n",
              "      <th>Genre</th>\n",
              "      <th>Beats.Per.Minute</th>\n",
              "      <th>Energy</th>\n",
              "      <th>Danceability</th>\n",
              "      <th>Loudness..dB..</th>\n",
              "      <th>Liveness</th>\n",
              "      <th>Valence.</th>\n",
              "      <th>Length.</th>\n",
              "      <th>Acousticness..</th>\n",
              "      <th>Speechiness.</th>\n",
              "      <th>Popularity</th>\n",
              "      <th>Clusters</th>\n",
              "      <th>Expected_Popularity</th>\n",
              "    </tr>\n",
              "  </thead>\n",
              "  <tbody>\n",
              "    <tr>\n",
              "      <th>9</th>\n",
              "      <td>14</td>\n",
              "      <td>Otro Trago - Remix</td>\n",
              "      <td>Sech</td>\n",
              "      <td>panamanian pop</td>\n",
              "      <td>176</td>\n",
              "      <td>79</td>\n",
              "      <td>73</td>\n",
              "      <td>-2</td>\n",
              "      <td>6</td>\n",
              "      <td>76</td>\n",
              "      <td>288</td>\n",
              "      <td>7</td>\n",
              "      <td>20</td>\n",
              "      <td>87.0</td>\n",
              "      <td>1</td>\n",
              "      <td>87.0</td>\n",
              "    </tr>\n",
              "    <tr>\n",
              "      <th>10</th>\n",
              "      <td>37</td>\n",
              "      <td>Otro Trago</td>\n",
              "      <td>Sech</td>\n",
              "      <td>panamanian pop</td>\n",
              "      <td>176</td>\n",
              "      <td>70</td>\n",
              "      <td>75</td>\n",
              "      <td>-5</td>\n",
              "      <td>11</td>\n",
              "      <td>62</td>\n",
              "      <td>226</td>\n",
              "      <td>14</td>\n",
              "      <td>34</td>\n",
              "      <td>91.0</td>\n",
              "      <td>1</td>\n",
              "      <td>91.0</td>\n",
              "    </tr>\n",
              "    <tr>\n",
              "      <th>11</th>\n",
              "      <td>27</td>\n",
              "      <td>Dance Monkey</td>\n",
              "      <td>Tones and I</td>\n",
              "      <td>australian pop</td>\n",
              "      <td>98</td>\n",
              "      <td>59</td>\n",
              "      <td>82</td>\n",
              "      <td>-6</td>\n",
              "      <td>18</td>\n",
              "      <td>54</td>\n",
              "      <td>210</td>\n",
              "      <td>69</td>\n",
              "      <td>10</td>\n",
              "      <td>83.0</td>\n",
              "      <td>0</td>\n",
              "      <td>83.0</td>\n",
              "    </tr>\n",
              "    <tr>\n",
              "      <th>12</th>\n",
              "      <td>39</td>\n",
              "      <td>Sucker</td>\n",
              "      <td>Jonas Brothers</td>\n",
              "      <td>boy band</td>\n",
              "      <td>138</td>\n",
              "      <td>73</td>\n",
              "      <td>84</td>\n",
              "      <td>-5</td>\n",
              "      <td>11</td>\n",
              "      <td>95</td>\n",
              "      <td>181</td>\n",
              "      <td>4</td>\n",
              "      <td>6</td>\n",
              "      <td>80.0</td>\n",
              "      <td>0</td>\n",
              "      <td>80.0</td>\n",
              "    </tr>\n",
              "    <tr>\n",
              "      <th>13</th>\n",
              "      <td>51</td>\n",
              "      <td>Canzone di Test</td>\n",
              "      <td>pede</td>\n",
              "      <td>pop</td>\n",
              "      <td>140</td>\n",
              "      <td>50</td>\n",
              "      <td>70</td>\n",
              "      <td>-6</td>\n",
              "      <td>15</td>\n",
              "      <td>50</td>\n",
              "      <td>200</td>\n",
              "      <td>21</td>\n",
              "      <td>9</td>\n",
              "      <td>0.0</td>\n",
              "      <td>0</td>\n",
              "      <td>83.0</td>\n",
              "    </tr>\n",
              "  </tbody>\n",
              "</table>\n",
              "</div>\n",
              "      <button class=\"colab-df-convert\" onclick=\"convertToInteractive('df-77d7fd09-0ea1-425e-93a7-2c89b1b9c6b2')\"\n",
              "              title=\"Convert this dataframe to an interactive table.\"\n",
              "              style=\"display:none;\">\n",
              "        \n",
              "  <svg xmlns=\"http://www.w3.org/2000/svg\" height=\"24px\"viewBox=\"0 0 24 24\"\n",
              "       width=\"24px\">\n",
              "    <path d=\"M0 0h24v24H0V0z\" fill=\"none\"/>\n",
              "    <path d=\"M18.56 5.44l.94 2.06.94-2.06 2.06-.94-2.06-.94-.94-2.06-.94 2.06-2.06.94zm-11 1L8.5 8.5l.94-2.06 2.06-.94-2.06-.94L8.5 2.5l-.94 2.06-2.06.94zm10 10l.94 2.06.94-2.06 2.06-.94-2.06-.94-.94-2.06-.94 2.06-2.06.94z\"/><path d=\"M17.41 7.96l-1.37-1.37c-.4-.4-.92-.59-1.43-.59-.52 0-1.04.2-1.43.59L10.3 9.45l-7.72 7.72c-.78.78-.78 2.05 0 2.83L4 21.41c.39.39.9.59 1.41.59.51 0 1.02-.2 1.41-.59l7.78-7.78 2.81-2.81c.8-.78.8-2.07 0-2.86zM5.41 20L4 18.59l7.72-7.72 1.47 1.35L5.41 20z\"/>\n",
              "  </svg>\n",
              "      </button>\n",
              "      \n",
              "  <style>\n",
              "    .colab-df-container {\n",
              "      display:flex;\n",
              "      flex-wrap:wrap;\n",
              "      gap: 12px;\n",
              "    }\n",
              "\n",
              "    .colab-df-convert {\n",
              "      background-color: #E8F0FE;\n",
              "      border: none;\n",
              "      border-radius: 50%;\n",
              "      cursor: pointer;\n",
              "      display: none;\n",
              "      fill: #1967D2;\n",
              "      height: 32px;\n",
              "      padding: 0 0 0 0;\n",
              "      width: 32px;\n",
              "    }\n",
              "\n",
              "    .colab-df-convert:hover {\n",
              "      background-color: #E2EBFA;\n",
              "      box-shadow: 0px 1px 2px rgba(60, 64, 67, 0.3), 0px 1px 3px 1px rgba(60, 64, 67, 0.15);\n",
              "      fill: #174EA6;\n",
              "    }\n",
              "\n",
              "    [theme=dark] .colab-df-convert {\n",
              "      background-color: #3B4455;\n",
              "      fill: #D2E3FC;\n",
              "    }\n",
              "\n",
              "    [theme=dark] .colab-df-convert:hover {\n",
              "      background-color: #434B5C;\n",
              "      box-shadow: 0px 1px 3px 1px rgba(0, 0, 0, 0.15);\n",
              "      filter: drop-shadow(0px 1px 2px rgba(0, 0, 0, 0.3));\n",
              "      fill: #FFFFFF;\n",
              "    }\n",
              "  </style>\n",
              "\n",
              "      <script>\n",
              "        const buttonEl =\n",
              "          document.querySelector('#df-77d7fd09-0ea1-425e-93a7-2c89b1b9c6b2 button.colab-df-convert');\n",
              "        buttonEl.style.display =\n",
              "          google.colab.kernel.accessAllowed ? 'block' : 'none';\n",
              "\n",
              "        async function convertToInteractive(key) {\n",
              "          const element = document.querySelector('#df-77d7fd09-0ea1-425e-93a7-2c89b1b9c6b2');\n",
              "          const dataTable =\n",
              "            await google.colab.kernel.invokeFunction('convertToInteractive',\n",
              "                                                     [key], {});\n",
              "          if (!dataTable) return;\n",
              "\n",
              "          const docLinkHtml = 'Like what you see? Visit the ' +\n",
              "            '<a target=\"_blank\" href=https://colab.research.google.com/notebooks/data_table.ipynb>data table notebook</a>'\n",
              "            + ' to learn more about interactive tables.';\n",
              "          element.innerHTML = '';\n",
              "          dataTable['output_type'] = 'display_data';\n",
              "          await google.colab.output.renderOutput(dataTable, element);\n",
              "          const docLink = document.createElement('div');\n",
              "          docLink.innerHTML = docLinkHtml;\n",
              "          element.appendChild(docLink);\n",
              "        }\n",
              "      </script>\n",
              "    </div>\n",
              "  </div>\n",
              "  "
            ]
          },
          "metadata": {},
          "execution_count": 87
        }
      ]
    }
  ]
}