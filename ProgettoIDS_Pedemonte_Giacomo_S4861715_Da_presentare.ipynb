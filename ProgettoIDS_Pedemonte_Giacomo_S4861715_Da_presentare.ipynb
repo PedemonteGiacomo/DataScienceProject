{
  "cells": [
    {
      "cell_type": "markdown",
      "metadata": {
        "id": "view-in-github",
        "colab_type": "text"
      },
      "source": [
        "<a href=\"https://colab.research.google.com/github/PedemonteGiacomo/DataScienceProject/blob/main/ProgettoIDS_Pedemonte_Giacomo_S4861715_Da_presentare.ipynb\" target=\"_parent\"><img src=\"https://colab.research.google.com/assets/colab-badge.svg\" alt=\"Open In Colab\"/></a>"
      ]
    },
    {
      "cell_type": "markdown",
      "id": "6a6aff0a",
      "metadata": {
        "id": "6a6aff0a"
      },
      "source": [
        "# ***Progetto Introduzione alla Data Science***"
      ]
    },
    {
      "cell_type": "markdown",
      "id": "bf9fb287",
      "metadata": {
        "id": "bf9fb287"
      },
      "source": [
        "\n",
        "***Pedemonte Giacomo S4861715***\n",
        "\n",
        "Progetto di Introduzione alla Data Science riguardante l'analisi del dataset contenente le 50 canzoni migliori del 2019."
      ]
    },
    {
      "cell_type": "markdown",
      "id": "9ac179ea",
      "metadata": {
        "id": "9ac179ea"
      },
      "source": [
        "### **SCOPO DELL'ANALISI**"
      ]
    },
    {
      "cell_type": "markdown",
      "id": "a66ca4a0",
      "metadata": {
        "id": "a66ca4a0"
      },
      "source": [
        "In questa analisi quindi avremo in mente uno scopo: risponderci alla seguente domanda:\n",
        "- ***quali sono le caratteristiche che rendono una canzone di successo?***\n",
        "\n",
        "Per poter risponderci a questa domanda il progetto si suddivide in questi 4 passi:\n",
        "- ***Descrizione Dataset***;\n",
        "- ***Esplorazione dei Dati***;\n",
        "- ***Visualizzazione e Analisi dei Dati***;\n",
        "- ***MACHINE LEARNING***;"
      ]
    },
    {
      "cell_type": "markdown",
      "id": "ee330ee9",
      "metadata": {
        "id": "ee330ee9"
      },
      "source": [
        "***Importazione librerie per ambiente di lavoro:***"
      ]
    },
    {
      "cell_type": "code",
      "execution_count": 1,
      "id": "532fec45",
      "metadata": {
        "id": "532fec45"
      },
      "outputs": [],
      "source": [
        "#librerie di visualizzazione\n",
        "import pandas as pd \n",
        "import matplotlib.pyplot as plt \n",
        "import numpy as np\n",
        "import plotly.express as px #importazione libreria comoda per la visualizzazione di box plot\n",
        "import plotly.graph_objects as go #libreria per grafici 3d\n",
        "\n",
        "\n",
        "#librerie per il machine learning\n",
        "from sklearn import preprocessing \n",
        "from sklearn.linear_model import LinearRegression\n",
        "from sklearn import metrics\n",
        "from sklearn.model_selection import train_test_split\n",
        "from sklearn.metrics import silhouette_samples, silhouette_score\n",
        "from sklearn.cluster import KMeans\n",
        "from sklearn import preprocessing\n",
        "import random"
      ]
    },
    {
      "cell_type": "markdown",
      "id": "9d7177c0",
      "metadata": {
        "id": "9d7177c0"
      },
      "source": [
        "## ***DESCRIZIONE DATASET***"
      ]
    },
    {
      "cell_type": "markdown",
      "id": "4e14ccc5",
      "metadata": {
        "id": "4e14ccc5"
      },
      "source": [
        "Importazione e visualizzazione della \"testa\" del database contenente la playlist spotify: top50 del 2019."
      ]
    },
    {
      "cell_type": "code",
      "execution_count": 2,
      "id": "1d9e74aa",
      "metadata": {
        "scrolled": true,
        "colab": {
          "base_uri": "https://localhost:8080/",
          "height": 277
        },
        "id": "1d9e74aa",
        "outputId": "82fcd21d-0431-4382-ff08-50582a6ac02e"
      },
      "outputs": [
        {
          "output_type": "execute_result",
          "data": {
            "text/plain": [
              "   Position                     Track.Name    Artist.Name           Genre  \\\n",
              "0         1                       Senorita   Shawn Mendes    canadian pop   \n",
              "1         2                          China       Anuel AA  reggaeton flow   \n",
              "2         3  boyfriend (with Social House)  Ariana Grande       dance pop   \n",
              "\n",
              "   Beats.Per.Minute  Energy  Danceability  Loudness..dB..  Liveness  Valence.  \\\n",
              "0               117      55            76              -6         8        75   \n",
              "1               105      81            79              -4         8        61   \n",
              "2               190      80            40              -4        16        70   \n",
              "\n",
              "   Length.  Acousticness..  Speechiness.  Popularity  \n",
              "0      191               4             3          79  \n",
              "1      302               8             9          92  \n",
              "2      186              12            46          85  "
            ],
            "text/html": [
              "\n",
              "  <div id=\"df-0df7e69f-d9d1-4b6e-af72-c6a382a77069\">\n",
              "    <div class=\"colab-df-container\">\n",
              "      <div>\n",
              "<style scoped>\n",
              "    .dataframe tbody tr th:only-of-type {\n",
              "        vertical-align: middle;\n",
              "    }\n",
              "\n",
              "    .dataframe tbody tr th {\n",
              "        vertical-align: top;\n",
              "    }\n",
              "\n",
              "    .dataframe thead th {\n",
              "        text-align: right;\n",
              "    }\n",
              "</style>\n",
              "<table border=\"1\" class=\"dataframe\">\n",
              "  <thead>\n",
              "    <tr style=\"text-align: right;\">\n",
              "      <th></th>\n",
              "      <th>Position</th>\n",
              "      <th>Track.Name</th>\n",
              "      <th>Artist.Name</th>\n",
              "      <th>Genre</th>\n",
              "      <th>Beats.Per.Minute</th>\n",
              "      <th>Energy</th>\n",
              "      <th>Danceability</th>\n",
              "      <th>Loudness..dB..</th>\n",
              "      <th>Liveness</th>\n",
              "      <th>Valence.</th>\n",
              "      <th>Length.</th>\n",
              "      <th>Acousticness..</th>\n",
              "      <th>Speechiness.</th>\n",
              "      <th>Popularity</th>\n",
              "    </tr>\n",
              "  </thead>\n",
              "  <tbody>\n",
              "    <tr>\n",
              "      <th>0</th>\n",
              "      <td>1</td>\n",
              "      <td>Senorita</td>\n",
              "      <td>Shawn Mendes</td>\n",
              "      <td>canadian pop</td>\n",
              "      <td>117</td>\n",
              "      <td>55</td>\n",
              "      <td>76</td>\n",
              "      <td>-6</td>\n",
              "      <td>8</td>\n",
              "      <td>75</td>\n",
              "      <td>191</td>\n",
              "      <td>4</td>\n",
              "      <td>3</td>\n",
              "      <td>79</td>\n",
              "    </tr>\n",
              "    <tr>\n",
              "      <th>1</th>\n",
              "      <td>2</td>\n",
              "      <td>China</td>\n",
              "      <td>Anuel AA</td>\n",
              "      <td>reggaeton flow</td>\n",
              "      <td>105</td>\n",
              "      <td>81</td>\n",
              "      <td>79</td>\n",
              "      <td>-4</td>\n",
              "      <td>8</td>\n",
              "      <td>61</td>\n",
              "      <td>302</td>\n",
              "      <td>8</td>\n",
              "      <td>9</td>\n",
              "      <td>92</td>\n",
              "    </tr>\n",
              "    <tr>\n",
              "      <th>2</th>\n",
              "      <td>3</td>\n",
              "      <td>boyfriend (with Social House)</td>\n",
              "      <td>Ariana Grande</td>\n",
              "      <td>dance pop</td>\n",
              "      <td>190</td>\n",
              "      <td>80</td>\n",
              "      <td>40</td>\n",
              "      <td>-4</td>\n",
              "      <td>16</td>\n",
              "      <td>70</td>\n",
              "      <td>186</td>\n",
              "      <td>12</td>\n",
              "      <td>46</td>\n",
              "      <td>85</td>\n",
              "    </tr>\n",
              "  </tbody>\n",
              "</table>\n",
              "</div>\n",
              "      <button class=\"colab-df-convert\" onclick=\"convertToInteractive('df-0df7e69f-d9d1-4b6e-af72-c6a382a77069')\"\n",
              "              title=\"Convert this dataframe to an interactive table.\"\n",
              "              style=\"display:none;\">\n",
              "        \n",
              "  <svg xmlns=\"http://www.w3.org/2000/svg\" height=\"24px\"viewBox=\"0 0 24 24\"\n",
              "       width=\"24px\">\n",
              "    <path d=\"M0 0h24v24H0V0z\" fill=\"none\"/>\n",
              "    <path d=\"M18.56 5.44l.94 2.06.94-2.06 2.06-.94-2.06-.94-.94-2.06-.94 2.06-2.06.94zm-11 1L8.5 8.5l.94-2.06 2.06-.94-2.06-.94L8.5 2.5l-.94 2.06-2.06.94zm10 10l.94 2.06.94-2.06 2.06-.94-2.06-.94-.94-2.06-.94 2.06-2.06.94z\"/><path d=\"M17.41 7.96l-1.37-1.37c-.4-.4-.92-.59-1.43-.59-.52 0-1.04.2-1.43.59L10.3 9.45l-7.72 7.72c-.78.78-.78 2.05 0 2.83L4 21.41c.39.39.9.59 1.41.59.51 0 1.02-.2 1.41-.59l7.78-7.78 2.81-2.81c.8-.78.8-2.07 0-2.86zM5.41 20L4 18.59l7.72-7.72 1.47 1.35L5.41 20z\"/>\n",
              "  </svg>\n",
              "      </button>\n",
              "      \n",
              "  <style>\n",
              "    .colab-df-container {\n",
              "      display:flex;\n",
              "      flex-wrap:wrap;\n",
              "      gap: 12px;\n",
              "    }\n",
              "\n",
              "    .colab-df-convert {\n",
              "      background-color: #E8F0FE;\n",
              "      border: none;\n",
              "      border-radius: 50%;\n",
              "      cursor: pointer;\n",
              "      display: none;\n",
              "      fill: #1967D2;\n",
              "      height: 32px;\n",
              "      padding: 0 0 0 0;\n",
              "      width: 32px;\n",
              "    }\n",
              "\n",
              "    .colab-df-convert:hover {\n",
              "      background-color: #E2EBFA;\n",
              "      box-shadow: 0px 1px 2px rgba(60, 64, 67, 0.3), 0px 1px 3px 1px rgba(60, 64, 67, 0.15);\n",
              "      fill: #174EA6;\n",
              "    }\n",
              "\n",
              "    [theme=dark] .colab-df-convert {\n",
              "      background-color: #3B4455;\n",
              "      fill: #D2E3FC;\n",
              "    }\n",
              "\n",
              "    [theme=dark] .colab-df-convert:hover {\n",
              "      background-color: #434B5C;\n",
              "      box-shadow: 0px 1px 3px 1px rgba(0, 0, 0, 0.15);\n",
              "      filter: drop-shadow(0px 1px 2px rgba(0, 0, 0, 0.3));\n",
              "      fill: #FFFFFF;\n",
              "    }\n",
              "  </style>\n",
              "\n",
              "      <script>\n",
              "        const buttonEl =\n",
              "          document.querySelector('#df-0df7e69f-d9d1-4b6e-af72-c6a382a77069 button.colab-df-convert');\n",
              "        buttonEl.style.display =\n",
              "          google.colab.kernel.accessAllowed ? 'block' : 'none';\n",
              "\n",
              "        async function convertToInteractive(key) {\n",
              "          const element = document.querySelector('#df-0df7e69f-d9d1-4b6e-af72-c6a382a77069');\n",
              "          const dataTable =\n",
              "            await google.colab.kernel.invokeFunction('convertToInteractive',\n",
              "                                                     [key], {});\n",
              "          if (!dataTable) return;\n",
              "\n",
              "          const docLinkHtml = 'Like what you see? Visit the ' +\n",
              "            '<a target=\"_blank\" href=https://colab.research.google.com/notebooks/data_table.ipynb>data table notebook</a>'\n",
              "            + ' to learn more about interactive tables.';\n",
              "          element.innerHTML = '';\n",
              "          dataTable['output_type'] = 'display_data';\n",
              "          await google.colab.output.renderOutput(dataTable, element);\n",
              "          const docLink = document.createElement('div');\n",
              "          docLink.innerHTML = docLinkHtml;\n",
              "          element.appendChild(docLink);\n",
              "        }\n",
              "      </script>\n",
              "    </div>\n",
              "  </div>\n",
              "  "
            ]
          },
          "metadata": {},
          "execution_count": 2
        }
      ],
      "source": [
        "top50 = pd.read_csv('top50.csv')\n",
        "top50.head(3)"
      ]
    },
    {
      "cell_type": "code",
      "execution_count": 3,
      "id": "4d575a07",
      "metadata": {
        "colab": {
          "base_uri": "https://localhost:8080/"
        },
        "id": "4d575a07",
        "outputId": "f8d577a7-0c76-4040-a547-725e4811bf77"
      },
      "outputs": [
        {
          "output_type": "execute_result",
          "data": {
            "text/plain": [
              "(50, 14)"
            ]
          },
          "metadata": {},
          "execution_count": 3
        }
      ],
      "source": [
        "top50.shape"
      ]
    },
    {
      "cell_type": "markdown",
      "id": "e196d851",
      "metadata": {
        "id": "e196d851"
      },
      "source": [
        "### **DESCRIZIONE DELLE FEATURES**\n",
        "\n",
        "Abbiamo quindi ***le migliori 50 canzoni del 2019 su spotify e 14 attributi legati ad esse***:\n",
        "\n",
        "- **Position** = identificativo della canzone che rappresenta la posizione nella top50 playlist\n",
        "\n",
        "- **Track.Name** = nome della traccia\n",
        "\n",
        "- **Artist.name** = nome dell'artista\n",
        "\n",
        "- **Genre** = genere della traccia\n",
        "\n",
        "- **Beats.Per.Minute** = il \"tempo\" della canzone. \n",
        "\n",
        "- **Energy** = l'energia di una canzone - maggiore è il valore più la canzone ne ha\n",
        "\n",
        "- **Danceability** = maggiore è il valore, più è facile da ballare la canzone\n",
        "\n",
        "- **Loudness..dB** = maggiore è il valore, maggiore è la \"rumorosità\" della canzone\n",
        "\n",
        "- **Liveness** = più è alto più è come se fosse una registrazione dal vivo..\n",
        "\n",
        "- **Valence** = piu è alto il valore, maggiore è il mood positivo della canzone.\n",
        "\n",
        "- **Length** = lunghezza della canzone/durata.\n",
        "\n",
        "- **Acousticness** = maggiore è il valore, più la canzone è \"acustica\"\n",
        "\n",
        "- **Speechness** = maggiore è il valore, maggiore sarà il numero delle parole utilizzate all'interno della canzone.\n",
        "\n",
        "- **Popularity** = più è alto il valore, più la canzone sarà popolare."
      ]
    },
    {
      "cell_type": "markdown",
      "source": [
        "***PULIZIA DEI DATI***"
      ],
      "metadata": {
        "id": "NjQenG2wSWQ1"
      },
      "id": "NjQenG2wSWQ1"
    },
    {
      "cell_type": "markdown",
      "id": "32acaea9",
      "metadata": {
        "id": "32acaea9"
      },
      "source": [
        "Prima di tutto, dalla head di prima notiamo che certi attributi vanno \"puliti\" da caratteri di punteggiatura in eccesso:"
      ]
    },
    {
      "cell_type": "code",
      "execution_count": 4,
      "id": "34f936f3",
      "metadata": {
        "id": "34f936f3"
      },
      "outputs": [],
      "source": [
        "top50.rename(columns={\"Track.Name\":\"Track\",\"Artist.Name\":\"Artist\",\"Beats.Per.Minute\":\"BPM\",\"Loudness..dB..\": \"Loudness\", \"Valence.\": \"Valence\", \"Length.\":\"Length\", \"Acousticness..\":\"Acousticness\",\"Speechiness.\":\"Speechiness\"}, inplace = True)"
      ]
    },
    {
      "cell_type": "markdown",
      "id": "8a6ce34d",
      "metadata": {
        "id": "8a6ce34d"
      },
      "source": [
        "## ***ESPLORAZIONE DEI DATI***"
      ]
    },
    {
      "cell_type": "markdown",
      "source": [
        "***SUDDIVISIONE FEATURES QUALITATIVE E QUANTITATIVE***"
      ],
      "metadata": {
        "id": "81Y6fOEpSDmq"
      },
      "id": "81Y6fOEpSDmq"
    },
    {
      "cell_type": "code",
      "execution_count": 5,
      "id": "fad8b7a5",
      "metadata": {
        "id": "fad8b7a5"
      },
      "outputs": [],
      "source": [
        "quantitative_top50 = top50[['Position','BPM','Energy','Danceability','Loudness','Liveness','Valence','Length','Acousticness','Speechiness','Popularity']]\n",
        "qualitative_top50 = top50[['Track','Artist','Genre']]"
      ]
    },
    {
      "cell_type": "markdown",
      "id": "1dcf2eb8",
      "metadata": {
        "id": "1dcf2eb8"
      },
      "source": [
        "Visualizziamo con il metodo describe() di pandas alcuni dati statistici come percentile, media e std dei valori numerici del dataframe."
      ]
    },
    {
      "cell_type": "code",
      "execution_count": 6,
      "id": "7d3e452c",
      "metadata": {
        "colab": {
          "base_uri": "https://localhost:8080/",
          "height": 300
        },
        "id": "7d3e452c",
        "outputId": "857acad7-55f3-4ce9-a39f-69ec65b0bfca"
      },
      "outputs": [
        {
          "output_type": "execute_result",
          "data": {
            "text/plain": [
              "       Position         BPM     Energy  Danceability   Loudness   Liveness  \\\n",
              "count  50.00000   50.000000  50.000000      50.00000  50.000000  50.000000   \n",
              "mean   25.50000  120.060000  64.060000      71.38000  -5.660000  14.660000   \n",
              "std    14.57738   30.898392  14.231913      11.92988   2.056448  11.118306   \n",
              "min     1.00000   85.000000  32.000000      29.00000 -11.000000   5.000000   \n",
              "25%    13.25000   96.000000  55.250000      67.00000  -6.750000   8.000000   \n",
              "50%    25.50000  104.500000  66.500000      73.50000  -6.000000  11.000000   \n",
              "75%    37.75000  137.500000  74.750000      79.75000  -4.000000  15.750000   \n",
              "max    50.00000  190.000000  88.000000      90.00000  -2.000000  58.000000   \n",
              "\n",
              "         Valence      Length  Acousticness  Speechiness  Popularity  \n",
              "count  50.000000   50.000000     50.000000    50.000000   50.000000  \n",
              "mean   54.600000  200.960000     22.160000    12.480000   87.500000  \n",
              "std    22.336024   39.143879     18.995553    11.161596    4.491489  \n",
              "min    10.000000  115.000000      1.000000     3.000000   70.000000  \n",
              "25%    38.250000  176.750000      8.250000     5.000000   86.000000  \n",
              "50%    55.500000  198.000000     15.000000     7.000000   88.000000  \n",
              "75%    69.500000  217.500000     33.750000    15.000000   90.750000  \n",
              "max    95.000000  309.000000     75.000000    46.000000   95.000000  "
            ],
            "text/html": [
              "\n",
              "  <div id=\"df-c5de7105-9818-4a87-80ec-9a4341a3b116\">\n",
              "    <div class=\"colab-df-container\">\n",
              "      <div>\n",
              "<style scoped>\n",
              "    .dataframe tbody tr th:only-of-type {\n",
              "        vertical-align: middle;\n",
              "    }\n",
              "\n",
              "    .dataframe tbody tr th {\n",
              "        vertical-align: top;\n",
              "    }\n",
              "\n",
              "    .dataframe thead th {\n",
              "        text-align: right;\n",
              "    }\n",
              "</style>\n",
              "<table border=\"1\" class=\"dataframe\">\n",
              "  <thead>\n",
              "    <tr style=\"text-align: right;\">\n",
              "      <th></th>\n",
              "      <th>Position</th>\n",
              "      <th>BPM</th>\n",
              "      <th>Energy</th>\n",
              "      <th>Danceability</th>\n",
              "      <th>Loudness</th>\n",
              "      <th>Liveness</th>\n",
              "      <th>Valence</th>\n",
              "      <th>Length</th>\n",
              "      <th>Acousticness</th>\n",
              "      <th>Speechiness</th>\n",
              "      <th>Popularity</th>\n",
              "    </tr>\n",
              "  </thead>\n",
              "  <tbody>\n",
              "    <tr>\n",
              "      <th>count</th>\n",
              "      <td>50.00000</td>\n",
              "      <td>50.000000</td>\n",
              "      <td>50.000000</td>\n",
              "      <td>50.00000</td>\n",
              "      <td>50.000000</td>\n",
              "      <td>50.000000</td>\n",
              "      <td>50.000000</td>\n",
              "      <td>50.000000</td>\n",
              "      <td>50.000000</td>\n",
              "      <td>50.000000</td>\n",
              "      <td>50.000000</td>\n",
              "    </tr>\n",
              "    <tr>\n",
              "      <th>mean</th>\n",
              "      <td>25.50000</td>\n",
              "      <td>120.060000</td>\n",
              "      <td>64.060000</td>\n",
              "      <td>71.38000</td>\n",
              "      <td>-5.660000</td>\n",
              "      <td>14.660000</td>\n",
              "      <td>54.600000</td>\n",
              "      <td>200.960000</td>\n",
              "      <td>22.160000</td>\n",
              "      <td>12.480000</td>\n",
              "      <td>87.500000</td>\n",
              "    </tr>\n",
              "    <tr>\n",
              "      <th>std</th>\n",
              "      <td>14.57738</td>\n",
              "      <td>30.898392</td>\n",
              "      <td>14.231913</td>\n",
              "      <td>11.92988</td>\n",
              "      <td>2.056448</td>\n",
              "      <td>11.118306</td>\n",
              "      <td>22.336024</td>\n",
              "      <td>39.143879</td>\n",
              "      <td>18.995553</td>\n",
              "      <td>11.161596</td>\n",
              "      <td>4.491489</td>\n",
              "    </tr>\n",
              "    <tr>\n",
              "      <th>min</th>\n",
              "      <td>1.00000</td>\n",
              "      <td>85.000000</td>\n",
              "      <td>32.000000</td>\n",
              "      <td>29.00000</td>\n",
              "      <td>-11.000000</td>\n",
              "      <td>5.000000</td>\n",
              "      <td>10.000000</td>\n",
              "      <td>115.000000</td>\n",
              "      <td>1.000000</td>\n",
              "      <td>3.000000</td>\n",
              "      <td>70.000000</td>\n",
              "    </tr>\n",
              "    <tr>\n",
              "      <th>25%</th>\n",
              "      <td>13.25000</td>\n",
              "      <td>96.000000</td>\n",
              "      <td>55.250000</td>\n",
              "      <td>67.00000</td>\n",
              "      <td>-6.750000</td>\n",
              "      <td>8.000000</td>\n",
              "      <td>38.250000</td>\n",
              "      <td>176.750000</td>\n",
              "      <td>8.250000</td>\n",
              "      <td>5.000000</td>\n",
              "      <td>86.000000</td>\n",
              "    </tr>\n",
              "    <tr>\n",
              "      <th>50%</th>\n",
              "      <td>25.50000</td>\n",
              "      <td>104.500000</td>\n",
              "      <td>66.500000</td>\n",
              "      <td>73.50000</td>\n",
              "      <td>-6.000000</td>\n",
              "      <td>11.000000</td>\n",
              "      <td>55.500000</td>\n",
              "      <td>198.000000</td>\n",
              "      <td>15.000000</td>\n",
              "      <td>7.000000</td>\n",
              "      <td>88.000000</td>\n",
              "    </tr>\n",
              "    <tr>\n",
              "      <th>75%</th>\n",
              "      <td>37.75000</td>\n",
              "      <td>137.500000</td>\n",
              "      <td>74.750000</td>\n",
              "      <td>79.75000</td>\n",
              "      <td>-4.000000</td>\n",
              "      <td>15.750000</td>\n",
              "      <td>69.500000</td>\n",
              "      <td>217.500000</td>\n",
              "      <td>33.750000</td>\n",
              "      <td>15.000000</td>\n",
              "      <td>90.750000</td>\n",
              "    </tr>\n",
              "    <tr>\n",
              "      <th>max</th>\n",
              "      <td>50.00000</td>\n",
              "      <td>190.000000</td>\n",
              "      <td>88.000000</td>\n",
              "      <td>90.00000</td>\n",
              "      <td>-2.000000</td>\n",
              "      <td>58.000000</td>\n",
              "      <td>95.000000</td>\n",
              "      <td>309.000000</td>\n",
              "      <td>75.000000</td>\n",
              "      <td>46.000000</td>\n",
              "      <td>95.000000</td>\n",
              "    </tr>\n",
              "  </tbody>\n",
              "</table>\n",
              "</div>\n",
              "      <button class=\"colab-df-convert\" onclick=\"convertToInteractive('df-c5de7105-9818-4a87-80ec-9a4341a3b116')\"\n",
              "              title=\"Convert this dataframe to an interactive table.\"\n",
              "              style=\"display:none;\">\n",
              "        \n",
              "  <svg xmlns=\"http://www.w3.org/2000/svg\" height=\"24px\"viewBox=\"0 0 24 24\"\n",
              "       width=\"24px\">\n",
              "    <path d=\"M0 0h24v24H0V0z\" fill=\"none\"/>\n",
              "    <path d=\"M18.56 5.44l.94 2.06.94-2.06 2.06-.94-2.06-.94-.94-2.06-.94 2.06-2.06.94zm-11 1L8.5 8.5l.94-2.06 2.06-.94-2.06-.94L8.5 2.5l-.94 2.06-2.06.94zm10 10l.94 2.06.94-2.06 2.06-.94-2.06-.94-.94-2.06-.94 2.06-2.06.94z\"/><path d=\"M17.41 7.96l-1.37-1.37c-.4-.4-.92-.59-1.43-.59-.52 0-1.04.2-1.43.59L10.3 9.45l-7.72 7.72c-.78.78-.78 2.05 0 2.83L4 21.41c.39.39.9.59 1.41.59.51 0 1.02-.2 1.41-.59l7.78-7.78 2.81-2.81c.8-.78.8-2.07 0-2.86zM5.41 20L4 18.59l7.72-7.72 1.47 1.35L5.41 20z\"/>\n",
              "  </svg>\n",
              "      </button>\n",
              "      \n",
              "  <style>\n",
              "    .colab-df-container {\n",
              "      display:flex;\n",
              "      flex-wrap:wrap;\n",
              "      gap: 12px;\n",
              "    }\n",
              "\n",
              "    .colab-df-convert {\n",
              "      background-color: #E8F0FE;\n",
              "      border: none;\n",
              "      border-radius: 50%;\n",
              "      cursor: pointer;\n",
              "      display: none;\n",
              "      fill: #1967D2;\n",
              "      height: 32px;\n",
              "      padding: 0 0 0 0;\n",
              "      width: 32px;\n",
              "    }\n",
              "\n",
              "    .colab-df-convert:hover {\n",
              "      background-color: #E2EBFA;\n",
              "      box-shadow: 0px 1px 2px rgba(60, 64, 67, 0.3), 0px 1px 3px 1px rgba(60, 64, 67, 0.15);\n",
              "      fill: #174EA6;\n",
              "    }\n",
              "\n",
              "    [theme=dark] .colab-df-convert {\n",
              "      background-color: #3B4455;\n",
              "      fill: #D2E3FC;\n",
              "    }\n",
              "\n",
              "    [theme=dark] .colab-df-convert:hover {\n",
              "      background-color: #434B5C;\n",
              "      box-shadow: 0px 1px 3px 1px rgba(0, 0, 0, 0.15);\n",
              "      filter: drop-shadow(0px 1px 2px rgba(0, 0, 0, 0.3));\n",
              "      fill: #FFFFFF;\n",
              "    }\n",
              "  </style>\n",
              "\n",
              "      <script>\n",
              "        const buttonEl =\n",
              "          document.querySelector('#df-c5de7105-9818-4a87-80ec-9a4341a3b116 button.colab-df-convert');\n",
              "        buttonEl.style.display =\n",
              "          google.colab.kernel.accessAllowed ? 'block' : 'none';\n",
              "\n",
              "        async function convertToInteractive(key) {\n",
              "          const element = document.querySelector('#df-c5de7105-9818-4a87-80ec-9a4341a3b116');\n",
              "          const dataTable =\n",
              "            await google.colab.kernel.invokeFunction('convertToInteractive',\n",
              "                                                     [key], {});\n",
              "          if (!dataTable) return;\n",
              "\n",
              "          const docLinkHtml = 'Like what you see? Visit the ' +\n",
              "            '<a target=\"_blank\" href=https://colab.research.google.com/notebooks/data_table.ipynb>data table notebook</a>'\n",
              "            + ' to learn more about interactive tables.';\n",
              "          element.innerHTML = '';\n",
              "          dataTable['output_type'] = 'display_data';\n",
              "          await google.colab.output.renderOutput(dataTable, element);\n",
              "          const docLink = document.createElement('div');\n",
              "          docLink.innerHTML = docLinkHtml;\n",
              "          element.appendChild(docLink);\n",
              "        }\n",
              "      </script>\n",
              "    </div>\n",
              "  </div>\n",
              "  "
            ]
          },
          "metadata": {},
          "execution_count": 6
        }
      ],
      "source": [
        "quantitative_top50.describe()"
      ]
    },
    {
      "cell_type": "markdown",
      "id": "c8f36da1",
      "metadata": {
        "id": "c8f36da1"
      },
      "source": [
        "Per le caratteristiche qualitative la describe() ci restituisce una tabella contenente i valori unici, i dati con frequenza più alta."
      ]
    },
    {
      "cell_type": "code",
      "execution_count": 7,
      "id": "c6fe38a3",
      "metadata": {
        "colab": {
          "base_uri": "https://localhost:8080/",
          "height": 175
        },
        "id": "c6fe38a3",
        "outputId": "1a570087-ae2d-4192-9e23-a920c1d96473"
      },
      "outputs": [
        {
          "output_type": "execute_result",
          "data": {
            "text/plain": [
              "           Track      Artist      Genre\n",
              "count         50          50         50\n",
              "unique        50          38         21\n",
              "top     Senorita  Ed Sheeran  dance pop\n",
              "freq           1           4          8"
            ],
            "text/html": [
              "\n",
              "  <div id=\"df-138df98e-1ee5-43da-8995-7c043634d6be\">\n",
              "    <div class=\"colab-df-container\">\n",
              "      <div>\n",
              "<style scoped>\n",
              "    .dataframe tbody tr th:only-of-type {\n",
              "        vertical-align: middle;\n",
              "    }\n",
              "\n",
              "    .dataframe tbody tr th {\n",
              "        vertical-align: top;\n",
              "    }\n",
              "\n",
              "    .dataframe thead th {\n",
              "        text-align: right;\n",
              "    }\n",
              "</style>\n",
              "<table border=\"1\" class=\"dataframe\">\n",
              "  <thead>\n",
              "    <tr style=\"text-align: right;\">\n",
              "      <th></th>\n",
              "      <th>Track</th>\n",
              "      <th>Artist</th>\n",
              "      <th>Genre</th>\n",
              "    </tr>\n",
              "  </thead>\n",
              "  <tbody>\n",
              "    <tr>\n",
              "      <th>count</th>\n",
              "      <td>50</td>\n",
              "      <td>50</td>\n",
              "      <td>50</td>\n",
              "    </tr>\n",
              "    <tr>\n",
              "      <th>unique</th>\n",
              "      <td>50</td>\n",
              "      <td>38</td>\n",
              "      <td>21</td>\n",
              "    </tr>\n",
              "    <tr>\n",
              "      <th>top</th>\n",
              "      <td>Senorita</td>\n",
              "      <td>Ed Sheeran</td>\n",
              "      <td>dance pop</td>\n",
              "    </tr>\n",
              "    <tr>\n",
              "      <th>freq</th>\n",
              "      <td>1</td>\n",
              "      <td>4</td>\n",
              "      <td>8</td>\n",
              "    </tr>\n",
              "  </tbody>\n",
              "</table>\n",
              "</div>\n",
              "      <button class=\"colab-df-convert\" onclick=\"convertToInteractive('df-138df98e-1ee5-43da-8995-7c043634d6be')\"\n",
              "              title=\"Convert this dataframe to an interactive table.\"\n",
              "              style=\"display:none;\">\n",
              "        \n",
              "  <svg xmlns=\"http://www.w3.org/2000/svg\" height=\"24px\"viewBox=\"0 0 24 24\"\n",
              "       width=\"24px\">\n",
              "    <path d=\"M0 0h24v24H0V0z\" fill=\"none\"/>\n",
              "    <path d=\"M18.56 5.44l.94 2.06.94-2.06 2.06-.94-2.06-.94-.94-2.06-.94 2.06-2.06.94zm-11 1L8.5 8.5l.94-2.06 2.06-.94-2.06-.94L8.5 2.5l-.94 2.06-2.06.94zm10 10l.94 2.06.94-2.06 2.06-.94-2.06-.94-.94-2.06-.94 2.06-2.06.94z\"/><path d=\"M17.41 7.96l-1.37-1.37c-.4-.4-.92-.59-1.43-.59-.52 0-1.04.2-1.43.59L10.3 9.45l-7.72 7.72c-.78.78-.78 2.05 0 2.83L4 21.41c.39.39.9.59 1.41.59.51 0 1.02-.2 1.41-.59l7.78-7.78 2.81-2.81c.8-.78.8-2.07 0-2.86zM5.41 20L4 18.59l7.72-7.72 1.47 1.35L5.41 20z\"/>\n",
              "  </svg>\n",
              "      </button>\n",
              "      \n",
              "  <style>\n",
              "    .colab-df-container {\n",
              "      display:flex;\n",
              "      flex-wrap:wrap;\n",
              "      gap: 12px;\n",
              "    }\n",
              "\n",
              "    .colab-df-convert {\n",
              "      background-color: #E8F0FE;\n",
              "      border: none;\n",
              "      border-radius: 50%;\n",
              "      cursor: pointer;\n",
              "      display: none;\n",
              "      fill: #1967D2;\n",
              "      height: 32px;\n",
              "      padding: 0 0 0 0;\n",
              "      width: 32px;\n",
              "    }\n",
              "\n",
              "    .colab-df-convert:hover {\n",
              "      background-color: #E2EBFA;\n",
              "      box-shadow: 0px 1px 2px rgba(60, 64, 67, 0.3), 0px 1px 3px 1px rgba(60, 64, 67, 0.15);\n",
              "      fill: #174EA6;\n",
              "    }\n",
              "\n",
              "    [theme=dark] .colab-df-convert {\n",
              "      background-color: #3B4455;\n",
              "      fill: #D2E3FC;\n",
              "    }\n",
              "\n",
              "    [theme=dark] .colab-df-convert:hover {\n",
              "      background-color: #434B5C;\n",
              "      box-shadow: 0px 1px 3px 1px rgba(0, 0, 0, 0.15);\n",
              "      filter: drop-shadow(0px 1px 2px rgba(0, 0, 0, 0.3));\n",
              "      fill: #FFFFFF;\n",
              "    }\n",
              "  </style>\n",
              "\n",
              "      <script>\n",
              "        const buttonEl =\n",
              "          document.querySelector('#df-138df98e-1ee5-43da-8995-7c043634d6be button.colab-df-convert');\n",
              "        buttonEl.style.display =\n",
              "          google.colab.kernel.accessAllowed ? 'block' : 'none';\n",
              "\n",
              "        async function convertToInteractive(key) {\n",
              "          const element = document.querySelector('#df-138df98e-1ee5-43da-8995-7c043634d6be');\n",
              "          const dataTable =\n",
              "            await google.colab.kernel.invokeFunction('convertToInteractive',\n",
              "                                                     [key], {});\n",
              "          if (!dataTable) return;\n",
              "\n",
              "          const docLinkHtml = 'Like what you see? Visit the ' +\n",
              "            '<a target=\"_blank\" href=https://colab.research.google.com/notebooks/data_table.ipynb>data table notebook</a>'\n",
              "            + ' to learn more about interactive tables.';\n",
              "          element.innerHTML = '';\n",
              "          dataTable['output_type'] = 'display_data';\n",
              "          await google.colab.output.renderOutput(dataTable, element);\n",
              "          const docLink = document.createElement('div');\n",
              "          docLink.innerHTML = docLinkHtml;\n",
              "          element.appendChild(docLink);\n",
              "        }\n",
              "      </script>\n",
              "    </div>\n",
              "  </div>\n",
              "  "
            ]
          },
          "metadata": {},
          "execution_count": 7
        }
      ],
      "source": [
        "qualitative_top50.describe()"
      ]
    },
    {
      "cell_type": "markdown",
      "id": "bc86d5c9",
      "metadata": {
        "id": "bc86d5c9"
      },
      "source": [
        "Notiamo da queste describe che non ci sono dati mancanti nel nostro dataset dato che tutti gli attributi hanno count di 50."
      ]
    },
    {
      "cell_type": "markdown",
      "id": "2177c37e",
      "metadata": {
        "id": "2177c37e"
      },
      "source": [
        "## ***VISUALIZZAZIONE  E ANALISI DEI DATI***"
      ]
    },
    {
      "cell_type": "markdown",
      "id": "cb7b8c5f",
      "metadata": {
        "id": "cb7b8c5f"
      },
      "source": [
        "Visualizziamo alcune delle features, per estrapolare interessanti informazioni. Per esempio:\n",
        "\n",
        "- quale è la distribuzione della popolarità tra le canzoni presenti in classifica?\n",
        "- qual è la popolarità in base al sesso dell'artista?\n",
        "- qual è il genere più popolare?\n",
        "- qual è l'artista più popolare?\n",
        "- Che diversità ci sono tra l'analizzare il genere ed il macrogenere?\n",
        "- Come si può visualizzare la \"distribuzione\" del genere e del macro-genere in classifica? box plot\n",
        "\n",
        "Tutto questo per continuare a provare a risponderci alla domanda iniziale: riusciamo a capire cosa rende una canzone popolare?\n"
      ]
    },
    {
      "cell_type": "code",
      "source": [
        "num_artista = top50['Artist'].value_counts()\n",
        "\n",
        "font1 = {'family':'serif','color':'blue','size':20}\n",
        "font2 = {'family':'serif','color':'darkred','size':15}\n",
        "\n",
        "plt.title(\"Canzoni per Artista\", fontdict = font1)\n",
        "plt.xlabel(\"Artista\", fontdict = font2)\n",
        "plt.ylabel(\"Numero Canzoni\", fontdict = font2)\n",
        "\n",
        "num_artista.plot(kind = 'bar',figsize = (15,5))\n",
        "plt.show()"
      ],
      "metadata": {
        "colab": {
          "base_uri": "https://localhost:8080/",
          "height": 441
        },
        "id": "RN2lklMYfcwr",
        "outputId": "5c5ad521-d4da-4bd8-c821-a62631127bdd"
      },
      "id": "RN2lklMYfcwr",
      "execution_count": 8,
      "outputs": [
        {
          "output_type": "display_data",
          "data": {
            "text/plain": [
              "<Figure size 1080x360 with 1 Axes>"
            ],
            "image/png": "[encoded data removed]"
          },
          "metadata": {
            "needs_background": "light"
          }
        }
      ]
    },
    {
      "cell_type": "markdown",
      "source": [
        "Ed Sheeran domina la classifica e presenta 4 canzoni all'interno di essa: ma sarà anche l'artista più popolare?"
      ],
      "metadata": {
        "id": "dJjNuD0zfh5n"
      },
      "id": "dJjNuD0zfh5n"
    },
    {
      "cell_type": "code",
      "execution_count": 9,
      "id": "99d77c57",
      "metadata": {
        "colab": {
          "base_uri": "https://localhost:8080/",
          "height": 443
        },
        "id": "99d77c57",
        "outputId": "94de28ce-929e-4c77-924d-525452d3acdf"
      },
      "outputs": [
        {
          "output_type": "display_data",
          "data": {
            "text/plain": [
              "<Figure size 1080x360 with 1 Axes>"
            ],
            "image/png": "[encoded data removed]"
          },
          "metadata": {
            "needs_background": "light"
          }
        }
      ],
      "source": [
        "popolarità_artista = top50.groupby('Artist')['Popularity'].mean().sort_values(ascending = True)\n",
        "\n",
        "plt.title(\"Popolarità Media Canzoni dell'Artista\", fontdict = font1)\n",
        "plt.xlabel(\"Artista\", fontdict = font2)\n",
        "plt.ylabel(\"Popolarità Media Canzoni\", fontdict = font2)\n",
        "\n",
        "popolarità_artista.plot(kind = 'bar',figsize = (15,5))\n",
        "plt.show()"
      ]
    },
    {
      "cell_type": "markdown",
      "id": "cad3001a",
      "metadata": {
        "id": "cad3001a"
      },
      "source": [
        "Notiamo come Ed Sheeran anche se è il cantante che compare di più nella playlist non è quello che ha la media della popolarità delle canzoni più alta, questo primato se lo aggiudica bad bunny con una popolarità media molto alta(circa 92).\n",
        "\n",
        "Inoltre Shawn Mendes, che è l'artista che presenta la canzone posizionata al primo posto in classifica è l'artista che ha la popolarità media delle sue canzoni più bassa di tutti."
      ]
    },
    {
      "cell_type": "markdown",
      "source": [
        "***DISTRIBUZIONE DELLA POPOLARITA'***"
      ],
      "metadata": {
        "id": "YPj7qWVtm-Mo"
      },
      "id": "YPj7qWVtm-Mo"
    },
    {
      "cell_type": "markdown",
      "id": "2c95b7ca",
      "metadata": {
        "id": "2c95b7ca"
      },
      "source": [
        "Partiamo visualizzando ed analizzando quindi la distribuzione della popolarità nella nostra classifica:"
      ]
    },
    {
      "cell_type": "code",
      "execution_count": 10,
      "id": "f9e7c306",
      "metadata": {
        "scrolled": false,
        "colab": {
          "base_uri": "https://localhost:8080/",
          "height": 493
        },
        "id": "f9e7c306",
        "outputId": "0b9d7295-5e40-434c-a2d8-f54f8998cc0f"
      },
      "outputs": [
        {
          "output_type": "display_data",
          "data": {
            "text/plain": [
              "<Figure size 1080x360 with 1 Axes>"
            ],
            "image/png": "[encoded data removed]"
          },
          "metadata": {
            "needs_background": "light"
          }
        }
      ],
      "source": [
        "Popularity = top50['Popularity']\n",
        "Popularity = Popularity.value_counts(bins=5, normalize = True, sort = False)\n",
        "\n",
        "plt.title(\"Distribuzione della Popolarità\", fontdict = font1)\n",
        "plt.xlabel(\"Popolarità\", fontdict = font2)\n",
        "plt.ylabel(\"Percentuale di canzoni\", fontdict = font2)\n",
        "\n",
        "Popularity.plot(kind = 'bar',figsize = (15,5))\n",
        "plt.show()"
      ]
    },
    {
      "cell_type": "markdown",
      "id": "34f79821",
      "metadata": {
        "id": "34f79821"
      },
      "source": [
        "Possiamo quindi notare da questo istogramma sopra riportato che il 50% delle canzoni ha una popolarità compresa tra 85 e 90, ma solo il 25% delle canzoni ha una popolarità superiore al 90% . D'altro canto, solo 1 canzone ha come valore di popolarità un valore minore di 75.\n",
        "\n",
        "Quindi la maggioranza delle canzoni presenti nel nostro dataset ha popolarità alta."
      ]
    },
    {
      "cell_type": "markdown",
      "id": "e01a114e",
      "metadata": {
        "id": "e01a114e"
      },
      "source": [
        "Verifichiamo come si distribuisce la **POPOLARITA'** in base al *genere*:"
      ]
    },
    {
      "cell_type": "code",
      "execution_count": 11,
      "id": "0772b895",
      "metadata": {
        "scrolled": true,
        "colab": {
          "base_uri": "https://localhost:8080/",
          "height": 542
        },
        "id": "0772b895",
        "outputId": "2d1976e6-2a45-4460-c16c-2bc6460a9bad"
      },
      "outputs": [
        {
          "output_type": "display_data",
          "data": {
            "text/html": [
              "<html>\n",
              "<head><meta charset=\"utf-8\" /></head>\n",
              "<body>\n",
              "    <div>            <script src=\"https://cdnjs.cloudflare.com/ajax/libs/mathjax/2.7.5/MathJax.js?config=TeX-AMS-MML_SVG\"></script><script type=\"text/javascript\">if (window.MathJax) {MathJax.Hub.Config({SVG: {font: \"STIX-Web\"}});}</script>                <script type=\"text/javascript\">window.PlotlyConfig = {MathJaxConfig: 'local'};</script>\n",
              "        <script src=\"https://cdn.plot.ly/plotly-2.8.3.min.js\"></script>                <div id=\"71c39b75-7482-4cc0-b457-2b1d69737a36\" class=\"plotly-graph-div\" style=\"height:525px; width:100%;\"></div>            <script type=\"text/javascript\">                                    window.PLOTLYENV=window.PLOTLYENV || {};                                    if (document.getElementById(\"71c39b75-7482-4cc0-b457-2b1d69737a36\")) {                    Plotly.newPlot(                        \"71c39b75-7482-4cc0-b457-2b1d69737a36\",                        [{\"alignmentgroup\":\"True\",\"hovertemplate\":\"Genre=%{x}<br>Popularity=%{y}<extra></extra>\",\"legendgroup\":\"canadian pop\",\"marker\":{\"color\":\"#636efa\"},\"name\":\"canadian pop\",\"notched\":false,\"offsetgroup\":\"canadian pop\",\"orientation\":\"v\",\"showlegend\":true,\"x\":[\"canadian pop\",\"canadian pop\"],\"x0\":\" \",\"xaxis\":\"x\",\"y\":[79,70],\"y0\":\" \",\"yaxis\":\"y\",\"type\":\"box\"},{\"alignmentgroup\":\"True\",\"hovertemplate\":\"Genre=%{x}<br>Popularity=%{y}<extra></extra>\",\"legendgroup\":\"reggaeton flow\",\"marker\":{\"color\":\"#EF553B\"},\"name\":\"reggaeton flow\",\"notched\":false,\"offsetgroup\":\"reggaeton flow\",\"orientation\":\"v\",\"showlegend\":true,\"x\":[\"reggaeton flow\",\"reggaeton flow\"],\"x0\":\" \",\"xaxis\":\"x\",\"y\":[92,83],\"y0\":\" \",\"yaxis\":\"y\",\"type\":\"box\"},{\"alignmentgroup\":\"True\",\"hovertemplate\":\"Genre=%{x}<br>Popularity=%{y}<extra></extra>\",\"legendgroup\":\"dance pop\",\"marker\":{\"color\":\"#00cc96\"},\"name\":\"dance pop\",\"notched\":false,\"offsetgroup\":\"dance pop\",\"orientation\":\"v\",\"showlegend\":true,\"x\":[\"dance pop\",\"dance pop\",\"dance pop\",\"dance pop\",\"dance pop\",\"dance pop\",\"dance pop\",\"dance pop\"],\"x0\":\" \",\"xaxis\":\"x\",\"y\":[85,86,82,89,89,78,90,87],\"y0\":\" \",\"yaxis\":\"y\",\"type\":\"box\"},{\"alignmentgroup\":\"True\",\"hovertemplate\":\"Genre=%{x}<br>Popularity=%{y}<extra></extra>\",\"legendgroup\":\"pop\",\"marker\":{\"color\":\"#ab63fa\"},\"name\":\"pop\",\"notched\":false,\"offsetgroup\":\"pop\",\"orientation\":\"v\",\"showlegend\":true,\"x\":[\"pop\",\"pop\",\"pop\",\"pop\",\"pop\",\"pop\",\"pop\"],\"x0\":\" \",\"xaxis\":\"x\",\"y\":[86,84,90,88,87,84,82],\"y0\":\" \",\"yaxis\":\"y\",\"type\":\"box\"},{\"alignmentgroup\":\"True\",\"hovertemplate\":\"Genre=%{x}<br>Popularity=%{y}<extra></extra>\",\"legendgroup\":\"dfw rap\",\"marker\":{\"color\":\"#FFA15A\"},\"name\":\"dfw rap\",\"notched\":false,\"offsetgroup\":\"dfw rap\",\"orientation\":\"v\",\"showlegend\":true,\"x\":[\"dfw rap\",\"dfw rap\"],\"x0\":\" \",\"xaxis\":\"x\",\"y\":[94,91],\"y0\":\" \",\"yaxis\":\"y\",\"type\":\"box\"},{\"alignmentgroup\":\"True\",\"hovertemplate\":\"Genre=%{x}<br>Popularity=%{y}<extra></extra>\",\"legendgroup\":\"trap music\",\"marker\":{\"color\":\"#19d3f3\"},\"name\":\"trap music\",\"notched\":false,\"offsetgroup\":\"trap music\",\"orientation\":\"v\",\"showlegend\":true,\"x\":[\"trap music\"],\"x0\":\" \",\"xaxis\":\"x\",\"y\":[92],\"y0\":\" \",\"yaxis\":\"y\",\"type\":\"box\"},{\"alignmentgroup\":\"True\",\"hovertemplate\":\"Genre=%{x}<br>Popularity=%{y}<extra></extra>\",\"legendgroup\":\"country rap\",\"marker\":{\"color\":\"#FF6692\"},\"name\":\"country rap\",\"notched\":false,\"offsetgroup\":\"country rap\",\"orientation\":\"v\",\"showlegend\":true,\"x\":[\"country rap\",\"country rap\"],\"x0\":\" \",\"xaxis\":\"x\",\"y\":[87,91],\"y0\":\" \",\"yaxis\":\"y\",\"type\":\"box\"},{\"alignmentgroup\":\"True\",\"hovertemplate\":\"Genre=%{x}<br>Popularity=%{y}<extra></extra>\",\"legendgroup\":\"electropop\",\"marker\":{\"color\":\"#B6E880\"},\"name\":\"electropop\",\"notched\":false,\"offsetgroup\":\"electropop\",\"orientation\":\"v\",\"showlegend\":true,\"x\":[\"electropop\",\"electropop\"],\"x0\":\" \",\"xaxis\":\"x\",\"y\":[95,89],\"y0\":\" \",\"yaxis\":\"y\",\"type\":\"box\"},{\"alignmentgroup\":\"True\",\"hovertemplate\":\"Genre=%{x}<br>Popularity=%{y}<extra></extra>\",\"legendgroup\":\"reggaeton\",\"marker\":{\"color\":\"#FF97FF\"},\"name\":\"reggaeton\",\"notched\":false,\"offsetgroup\":\"reggaeton\",\"orientation\":\"v\",\"showlegend\":true,\"x\":[\"reggaeton\",\"reggaeton\"],\"x0\":\" \",\"xaxis\":\"x\",\"y\":[93,89],\"y0\":\" \",\"yaxis\":\"y\",\"type\":\"box\"},{\"alignmentgroup\":\"True\",\"hovertemplate\":\"Genre=%{x}<br>Popularity=%{y}<extra></extra>\",\"legendgroup\":\"panamanian pop\",\"marker\":{\"color\":\"#FECB52\"},\"name\":\"panamanian pop\",\"notched\":false,\"offsetgroup\":\"panamanian pop\",\"orientation\":\"v\",\"showlegend\":true,\"x\":[\"panamanian pop\",\"panamanian pop\"],\"x0\":\" \",\"xaxis\":\"x\",\"y\":[87,91],\"y0\":\" \",\"yaxis\":\"y\",\"type\":\"box\"},{\"alignmentgroup\":\"True\",\"hovertemplate\":\"Genre=%{x}<br>Popularity=%{y}<extra></extra>\",\"legendgroup\":\"canadian hip hop\",\"marker\":{\"color\":\"#636efa\"},\"name\":\"canadian hip hop\",\"notched\":false,\"offsetgroup\":\"canadian hip hop\",\"orientation\":\"v\",\"showlegend\":true,\"x\":[\"canadian hip hop\",\"canadian hip hop\",\"canadian hip hop\"],\"x0\":\" \",\"xaxis\":\"x\",\"y\":[92,88,89],\"y0\":\" \",\"yaxis\":\"y\",\"type\":\"box\"},{\"alignmentgroup\":\"True\",\"hovertemplate\":\"Genre=%{x}<br>Popularity=%{y}<extra></extra>\",\"legendgroup\":\"latin\",\"marker\":{\"color\":\"#EF553B\"},\"name\":\"latin\",\"notched\":false,\"offsetgroup\":\"latin\",\"orientation\":\"v\",\"showlegend\":true,\"x\":[\"latin\",\"latin\",\"latin\",\"latin\",\"latin\"],\"x0\":\" \",\"xaxis\":\"x\",\"y\":[90,91,91,89,88],\"y0\":\" \",\"yaxis\":\"y\",\"type\":\"box\"},{\"alignmentgroup\":\"True\",\"hovertemplate\":\"Genre=%{x}<br>Popularity=%{y}<extra></extra>\",\"legendgroup\":\"escape room\",\"marker\":{\"color\":\"#00cc96\"},\"name\":\"escape room\",\"notched\":false,\"offsetgroup\":\"escape room\",\"orientation\":\"v\",\"showlegend\":true,\"x\":[\"escape room\"],\"x0\":\" \",\"xaxis\":\"x\",\"y\":[91],\"y0\":\" \",\"yaxis\":\"y\",\"type\":\"box\"},{\"alignmentgroup\":\"True\",\"hovertemplate\":\"Genre=%{x}<br>Popularity=%{y}<extra></extra>\",\"legendgroup\":\"pop house\",\"marker\":{\"color\":\"#ab63fa\"},\"name\":\"pop house\",\"notched\":false,\"offsetgroup\":\"pop house\",\"orientation\":\"v\",\"showlegend\":true,\"x\":[\"pop house\"],\"x0\":\" \",\"xaxis\":\"x\",\"y\":[91],\"y0\":\" \",\"yaxis\":\"y\",\"type\":\"box\"},{\"alignmentgroup\":\"True\",\"hovertemplate\":\"Genre=%{x}<br>Popularity=%{y}<extra></extra>\",\"legendgroup\":\"australian pop\",\"marker\":{\"color\":\"#FFA15A\"},\"name\":\"australian pop\",\"notched\":false,\"offsetgroup\":\"australian pop\",\"orientation\":\"v\",\"showlegend\":true,\"x\":[\"australian pop\"],\"x0\":\" \",\"xaxis\":\"x\",\"y\":[83],\"y0\":\" \",\"yaxis\":\"y\",\"type\":\"box\"},{\"alignmentgroup\":\"True\",\"hovertemplate\":\"Genre=%{x}<br>Popularity=%{y}<extra></extra>\",\"legendgroup\":\"edm\",\"marker\":{\"color\":\"#19d3f3\"},\"name\":\"edm\",\"notched\":false,\"offsetgroup\":\"edm\",\"orientation\":\"v\",\"showlegend\":true,\"x\":[\"edm\",\"edm\",\"edm\"],\"x0\":\" \",\"xaxis\":\"x\",\"y\":[84,88,88],\"y0\":\" \",\"yaxis\":\"y\",\"type\":\"box\"},{\"alignmentgroup\":\"True\",\"hovertemplate\":\"Genre=%{x}<br>Popularity=%{y}<extra></extra>\",\"legendgroup\":\"atl hip hop\",\"marker\":{\"color\":\"#FF6692\"},\"name\":\"atl hip hop\",\"notched\":false,\"offsetgroup\":\"atl hip hop\",\"orientation\":\"v\",\"showlegend\":true,\"x\":[\"atl hip hop\"],\"x0\":\" \",\"xaxis\":\"x\",\"y\":[89],\"y0\":\" \",\"yaxis\":\"y\",\"type\":\"box\"},{\"alignmentgroup\":\"True\",\"hovertemplate\":\"Genre=%{x}<br>Popularity=%{y}<extra></extra>\",\"legendgroup\":\"big room\",\"marker\":{\"color\":\"#B6E880\"},\"name\":\"big room\",\"notched\":false,\"offsetgroup\":\"big room\",\"orientation\":\"v\",\"showlegend\":true,\"x\":[\"big room\"],\"x0\":\" \",\"xaxis\":\"x\",\"y\":[89],\"y0\":\" \",\"yaxis\":\"y\",\"type\":\"box\"},{\"alignmentgroup\":\"True\",\"hovertemplate\":\"Genre=%{x}<br>Popularity=%{y}<extra></extra>\",\"legendgroup\":\"boy band\",\"marker\":{\"color\":\"#FF97FF\"},\"name\":\"boy band\",\"notched\":false,\"offsetgroup\":\"boy band\",\"orientation\":\"v\",\"showlegend\":true,\"x\":[\"boy band\"],\"x0\":\" \",\"xaxis\":\"x\",\"y\":[80],\"y0\":\" \",\"yaxis\":\"y\",\"type\":\"box\"},{\"alignmentgroup\":\"True\",\"hovertemplate\":\"Genre=%{x}<br>Popularity=%{y}<extra></extra>\",\"legendgroup\":\"r&b en espanol\",\"marker\":{\"color\":\"#FECB52\"},\"name\":\"r&b en espanol\",\"notched\":false,\"offsetgroup\":\"r&b en espanol\",\"orientation\":\"v\",\"showlegend\":true,\"x\":[\"r&b en espanol\"],\"x0\":\" \",\"xaxis\":\"x\",\"y\":[88],\"y0\":\" \",\"yaxis\":\"y\",\"type\":\"box\"},{\"alignmentgroup\":\"True\",\"hovertemplate\":\"Genre=%{x}<br>Popularity=%{y}<extra></extra>\",\"legendgroup\":\"brostep\",\"marker\":{\"color\":\"#636efa\"},\"name\":\"brostep\",\"notched\":false,\"offsetgroup\":\"brostep\",\"orientation\":\"v\",\"showlegend\":true,\"x\":[\"brostep\",\"brostep\"],\"x0\":\" \",\"xaxis\":\"x\",\"y\":[88,88],\"y0\":\" \",\"yaxis\":\"y\",\"type\":\"box\"}],                        {\"template\":{\"data\":{\"bar\":[{\"error_x\":{\"color\":\"#2a3f5f\"},\"error_y\":{\"color\":\"#2a3f5f\"},\"marker\":{\"line\":{\"color\":\"#E5ECF6\",\"width\":0.5},\"pattern\":{\"fillmode\":\"overlay\",\"size\":10,\"solidity\":0.2}},\"type\":\"bar\"}],\"barpolar\":[{\"marker\":{\"line\":{\"color\":\"#E5ECF6\",\"width\":0.5},\"pattern\":{\"fillmode\":\"overlay\",\"size\":10,\"solidity\":0.2}},\"type\":\"barpolar\"}],\"carpet\":[{\"aaxis\":{\"endlinecolor\":\"#2a3f5f\",\"gridcolor\":\"white\",\"linecolor\":\"white\",\"minorgridcolor\":\"white\",\"startlinecolor\":\"#2a3f5f\"},\"baxis\":{\"endlinecolor\":\"#2a3f5f\",\"gridcolor\":\"white\",\"linecolor\":\"white\",\"minorgridcolor\":\"white\",\"startlinecolor\":\"#2a3f5f\"},\"type\":\"carpet\"}],\"choropleth\":[{\"colorbar\":{\"outlinewidth\":0,\"ticks\":\"\"},\"type\":\"choropleth\"}],\"contour\":[{\"colorbar\":{\"outlinewidth\":0,\"ticks\":\"\"},\"colorscale\":[[0.0,\"#0d0887\"],[0.1111111111111111,\"#46039f\"],[0.2222222222222222,\"#7201a8\"],[0.3333333333333333,\"#9c179e\"],[0.4444444444444444,\"#bd3786\"],[0.5555555555555556,\"#d8576b\"],[0.6666666666666666,\"#ed7953\"],[0.7777777777777778,\"#fb9f3a\"],[0.8888888888888888,\"#fdca26\"],[1.0,\"#f0f921\"]],\"type\":\"contour\"}],\"contourcarpet\":[{\"colorbar\":{\"outlinewidth\":0,\"ticks\":\"\"},\"type\":\"contourcarpet\"}],\"heatmap\":[{\"colorbar\":{\"outlinewidth\":0,\"ticks\":\"\"},\"colorscale\":[[0.0,\"#0d0887\"],[0.1111111111111111,\"#46039f\"],[0.2222222222222222,\"#7201a8\"],[0.3333333333333333,\"#9c179e\"],[0.4444444444444444,\"#bd3786\"],[0.5555555555555556,\"#d8576b\"],[0.6666666666666666,\"#ed7953\"],[0.7777777777777778,\"#fb9f3a\"],[0.8888888888888888,\"#fdca26\"],[1.0,\"#f0f921\"]],\"type\":\"heatmap\"}],\"heatmapgl\":[{\"colorbar\":{\"outlinewidth\":0,\"ticks\":\"\"},\"colorscale\":[[0.0,\"#0d0887\"],[0.1111111111111111,\"#46039f\"],[0.2222222222222222,\"#7201a8\"],[0.3333333333333333,\"#9c179e\"],[0.4444444444444444,\"#bd3786\"],[0.5555555555555556,\"#d8576b\"],[0.6666666666666666,\"#ed7953\"],[0.7777777777777778,\"#fb9f3a\"],[0.8888888888888888,\"#fdca26\"],[1.0,\"#f0f921\"]],\"type\":\"heatmapgl\"}],\"histogram\":[{\"marker\":{\"pattern\":{\"fillmode\":\"overlay\",\"size\":10,\"solidity\":0.2}},\"type\":\"histogram\"}],\"histogram2d\":[{\"colorbar\":{\"outlinewidth\":0,\"ticks\":\"\"},\"colorscale\":[[0.0,\"#0d0887\"],[0.1111111111111111,\"#46039f\"],[0.2222222222222222,\"#7201a8\"],[0.3333333333333333,\"#9c179e\"],[0.4444444444444444,\"#bd3786\"],[0.5555555555555556,\"#d8576b\"],[0.6666666666666666,\"#ed7953\"],[0.7777777777777778,\"#fb9f3a\"],[0.8888888888888888,\"#fdca26\"],[1.0,\"#f0f921\"]],\"type\":\"histogram2d\"}],\"histogram2dcontour\":[{\"colorbar\":{\"outlinewidth\":0,\"ticks\":\"\"},\"colorscale\":[[0.0,\"#0d0887\"],[0.1111111111111111,\"#46039f\"],[0.2222222222222222,\"#7201a8\"],[0.3333333333333333,\"#9c179e\"],[0.4444444444444444,\"#bd3786\"],[0.5555555555555556,\"#d8576b\"],[0.6666666666666666,\"#ed7953\"],[0.7777777777777778,\"#fb9f3a\"],[0.8888888888888888,\"#fdca26\"],[1.0,\"#f0f921\"]],\"type\":\"histogram2dcontour\"}],\"mesh3d\":[{\"colorbar\":{\"outlinewidth\":0,\"ticks\":\"\"},\"type\":\"mesh3d\"}],\"parcoords\":[{\"line\":{\"colorbar\":{\"outlinewidth\":0,\"ticks\":\"\"}},\"type\":\"parcoords\"}],\"pie\":[{\"automargin\":true,\"type\":\"pie\"}],\"scatter\":[{\"marker\":{\"colorbar\":{\"outlinewidth\":0,\"ticks\":\"\"}},\"type\":\"scatter\"}],\"scatter3d\":[{\"line\":{\"colorbar\":{\"outlinewidth\":0,\"ticks\":\"\"}},\"marker\":{\"colorbar\":{\"outlinewidth\":0,\"ticks\":\"\"}},\"type\":\"scatter3d\"}],\"scattercarpet\":[{\"marker\":{\"colorbar\":{\"outlinewidth\":0,\"ticks\":\"\"}},\"type\":\"scattercarpet\"}],\"scattergeo\":[{\"marker\":{\"colorbar\":{\"outlinewidth\":0,\"ticks\":\"\"}},\"type\":\"scattergeo\"}],\"scattergl\":[{\"marker\":{\"colorbar\":{\"outlinewidth\":0,\"ticks\":\"\"}},\"type\":\"scattergl\"}],\"scattermapbox\":[{\"marker\":{\"colorbar\":{\"outlinewidth\":0,\"ticks\":\"\"}},\"type\":\"scattermapbox\"}],\"scatterpolar\":[{\"marker\":{\"colorbar\":{\"outlinewidth\":0,\"ticks\":\"\"}},\"type\":\"scatterpolar\"}],\"scatterpolargl\":[{\"marker\":{\"colorbar\":{\"outlinewidth\":0,\"ticks\":\"\"}},\"type\":\"scatterpolargl\"}],\"scatterternary\":[{\"marker\":{\"colorbar\":{\"outlinewidth\":0,\"ticks\":\"\"}},\"type\":\"scatterternary\"}],\"surface\":[{\"colorbar\":{\"outlinewidth\":0,\"ticks\":\"\"},\"colorscale\":[[0.0,\"#0d0887\"],[0.1111111111111111,\"#46039f\"],[0.2222222222222222,\"#7201a8\"],[0.3333333333333333,\"#9c179e\"],[0.4444444444444444,\"#bd3786\"],[0.5555555555555556,\"#d8576b\"],[0.6666666666666666,\"#ed7953\"],[0.7777777777777778,\"#fb9f3a\"],[0.8888888888888888,\"#fdca26\"],[1.0,\"#f0f921\"]],\"type\":\"surface\"}],\"table\":[{\"cells\":{\"fill\":{\"color\":\"#EBF0F8\"},\"line\":{\"color\":\"white\"}},\"header\":{\"fill\":{\"color\":\"#C8D4E3\"},\"line\":{\"color\":\"white\"}},\"type\":\"table\"}]},\"layout\":{\"annotationdefaults\":{\"arrowcolor\":\"#2a3f5f\",\"arrowhead\":0,\"arrowwidth\":1},\"autotypenumbers\":\"strict\",\"coloraxis\":{\"colorbar\":{\"outlinewidth\":0,\"ticks\":\"\"}},\"colorscale\":{\"diverging\":[[0,\"#8e0152\"],[0.1,\"#c51b7d\"],[0.2,\"#de77ae\"],[0.3,\"#f1b6da\"],[0.4,\"#fde0ef\"],[0.5,\"#f7f7f7\"],[0.6,\"#e6f5d0\"],[0.7,\"#b8e186\"],[0.8,\"#7fbc41\"],[0.9,\"#4d9221\"],[1,\"#276419\"]],\"sequential\":[[0.0,\"#0d0887\"],[0.1111111111111111,\"#46039f\"],[0.2222222222222222,\"#7201a8\"],[0.3333333333333333,\"#9c179e\"],[0.4444444444444444,\"#bd3786\"],[0.5555555555555556,\"#d8576b\"],[0.6666666666666666,\"#ed7953\"],[0.7777777777777778,\"#fb9f3a\"],[0.8888888888888888,\"#fdca26\"],[1.0,\"#f0f921\"]],\"sequentialminus\":[[0.0,\"#0d0887\"],[0.1111111111111111,\"#46039f\"],[0.2222222222222222,\"#7201a8\"],[0.3333333333333333,\"#9c179e\"],[0.4444444444444444,\"#bd3786\"],[0.5555555555555556,\"#d8576b\"],[0.6666666666666666,\"#ed7953\"],[0.7777777777777778,\"#fb9f3a\"],[0.8888888888888888,\"#fdca26\"],[1.0,\"#f0f921\"]]},\"colorway\":[\"#636efa\",\"#EF553B\",\"#00cc96\",\"#ab63fa\",\"#FFA15A\",\"#19d3f3\",\"#FF6692\",\"#B6E880\",\"#FF97FF\",\"#FECB52\"],\"font\":{\"color\":\"#2a3f5f\"},\"geo\":{\"bgcolor\":\"white\",\"lakecolor\":\"white\",\"landcolor\":\"#E5ECF6\",\"showlakes\":true,\"showland\":true,\"subunitcolor\":\"white\"},\"hoverlabel\":{\"align\":\"left\"},\"hovermode\":\"closest\",\"mapbox\":{\"style\":\"light\"},\"paper_bgcolor\":\"white\",\"plot_bgcolor\":\"#E5ECF6\",\"polar\":{\"angularaxis\":{\"gridcolor\":\"white\",\"linecolor\":\"white\",\"ticks\":\"\"},\"bgcolor\":\"#E5ECF6\",\"radialaxis\":{\"gridcolor\":\"white\",\"linecolor\":\"white\",\"ticks\":\"\"}},\"scene\":{\"xaxis\":{\"backgroundcolor\":\"#E5ECF6\",\"gridcolor\":\"white\",\"gridwidth\":2,\"linecolor\":\"white\",\"showbackground\":true,\"ticks\":\"\",\"zerolinecolor\":\"white\"},\"yaxis\":{\"backgroundcolor\":\"#E5ECF6\",\"gridcolor\":\"white\",\"gridwidth\":2,\"linecolor\":\"white\",\"showbackground\":true,\"ticks\":\"\",\"zerolinecolor\":\"white\"},\"zaxis\":{\"backgroundcolor\":\"#E5ECF6\",\"gridcolor\":\"white\",\"gridwidth\":2,\"linecolor\":\"white\",\"showbackground\":true,\"ticks\":\"\",\"zerolinecolor\":\"white\"}},\"shapedefaults\":{\"line\":{\"color\":\"#2a3f5f\"}},\"ternary\":{\"aaxis\":{\"gridcolor\":\"white\",\"linecolor\":\"white\",\"ticks\":\"\"},\"baxis\":{\"gridcolor\":\"white\",\"linecolor\":\"white\",\"ticks\":\"\"},\"bgcolor\":\"#E5ECF6\",\"caxis\":{\"gridcolor\":\"white\",\"linecolor\":\"white\",\"ticks\":\"\"}},\"title\":{\"x\":0.05},\"xaxis\":{\"automargin\":true,\"gridcolor\":\"white\",\"linecolor\":\"white\",\"ticks\":\"\",\"title\":{\"standoff\":15},\"zerolinecolor\":\"white\",\"zerolinewidth\":2},\"yaxis\":{\"automargin\":true,\"gridcolor\":\"white\",\"linecolor\":\"white\",\"ticks\":\"\",\"title\":{\"standoff\":15},\"zerolinecolor\":\"white\",\"zerolinewidth\":2}}},\"xaxis\":{\"anchor\":\"y\",\"domain\":[0.0,1.0],\"title\":{\"text\":\"Genre\"},\"categoryorder\":\"array\",\"categoryarray\":[\"canadian pop\",\"reggaeton flow\",\"dance pop\",\"pop\",\"dfw rap\",\"trap music\",\"country rap\",\"electropop\",\"reggaeton\",\"panamanian pop\",\"canadian hip hop\",\"latin\",\"escape room\",\"pop house\",\"australian pop\",\"edm\",\"atl hip hop\",\"big room\",\"boy band\",\"r&b en espanol\",\"brostep\"]},\"yaxis\":{\"anchor\":\"x\",\"domain\":[0.0,1.0],\"title\":{\"text\":\"Popularity\"}},\"legend\":{\"title\":{\"text\":\"Genre\"},\"tracegroupgap\":0},\"title\":{\"text\":\"DISTRIBUZIONE POPOLARITA' in base al GENERE\"},\"boxmode\":\"overlay\"},                        {\"responsive\": true}                    ).then(function(){\n",
              "                            \n",
              "var gd = document.getElementById('71c39b75-7482-4cc0-b457-2b1d69737a36');\n",
              "var x = new MutationObserver(function (mutations, observer) {{\n",
              "        var display = window.getComputedStyle(gd).display;\n",
              "        if (!display || display === 'none') {{\n",
              "            console.log([gd, 'removed!']);\n",
              "            Plotly.purge(gd);\n",
              "            observer.disconnect();\n",
              "        }}\n",
              "}});\n",
              "\n",
              "// Listen for the removal of the full notebook cells\n",
              "var notebookContainer = gd.closest('#notebook-container');\n",
              "if (notebookContainer) {{\n",
              "    x.observe(notebookContainer, {childList: true});\n",
              "}}\n",
              "\n",
              "// Listen for the clearing of the current output cell\n",
              "var outputEl = gd.closest('.output');\n",
              "if (outputEl) {{\n",
              "    x.observe(outputEl, {childList: true});\n",
              "}}\n",
              "\n",
              "                        })                };                            </script>        </div>\n",
              "</body>\n",
              "</html>"
            ]
          },
          "metadata": {}
        }
      ],
      "source": [
        "fig = px.box(top50, x=\"Genre\", y=\"Popularity\", color=\"Genre\", title=\"DISTRIBUZIONE POPOLARITA' in base al GENERE\")\n",
        "fig.show()"
      ]
    },
    {
      "cell_type": "markdown",
      "id": "f2bef687",
      "metadata": {
        "id": "f2bef687"
      },
      "source": [
        "Vediamo come sia il canadian pop il genere ad avere una la distribuzione di popolarità minore mentre prevalentemente tutti gli altri generi hanno una distribuzione nettamente superiore.\n",
        "\n",
        "Rap, electropop, e raggaeton risultano avere la mediana di popolarità più alta rispetto agli altri generi."
      ]
    },
    {
      "cell_type": "markdown",
      "id": "7959c3ac",
      "metadata": {
        "id": "7959c3ac"
      },
      "source": [
        "Possiamo rieffettuare questo tipo di visualizzazione per vedere la distribuzione del **POSIZIONAMENTO** in base al genere:"
      ]
    },
    {
      "cell_type": "code",
      "execution_count": 12,
      "id": "f91ed8d3",
      "metadata": {
        "colab": {
          "base_uri": "https://localhost:8080/",
          "height": 542
        },
        "id": "f91ed8d3",
        "outputId": "4855ce42-a325-414c-88ef-78473c9d5333"
      },
      "outputs": [
        {
          "output_type": "display_data",
          "data": {
            "text/html": [
              "<html>\n",
              "<head><meta charset=\"utf-8\" /></head>\n",
              "<body>\n",
              "    <div>            <script src=\"https://cdnjs.cloudflare.com/ajax/libs/mathjax/2.7.5/MathJax.js?config=TeX-AMS-MML_SVG\"></script><script type=\"text/javascript\">if (window.MathJax) {MathJax.Hub.Config({SVG: {font: \"STIX-Web\"}});}</script>                <script type=\"text/javascript\">window.PlotlyConfig = {MathJaxConfig: 'local'};</script>\n",
              "        <script src=\"https://cdn.plot.ly/plotly-2.8.3.min.js\"></script>                <div id=\"5cf1474e-b6f2-4738-88ea-f8247ea19b31\" class=\"plotly-graph-div\" style=\"height:525px; width:100%;\"></div>            <script type=\"text/javascript\">                                    window.PLOTLYENV=window.PLOTLYENV || {};                                    if (document.getElementById(\"5cf1474e-b6f2-4738-88ea-f8247ea19b31\")) {                    Plotly.newPlot(                        \"5cf1474e-b6f2-4738-88ea-f8247ea19b31\",                        [{\"alignmentgroup\":\"True\",\"hovertemplate\":\"Genre=%{x}<br>Position=%{y}<extra></extra>\",\"legendgroup\":\"canadian pop\",\"marker\":{\"color\":\"#636efa\"},\"name\":\"canadian pop\",\"notched\":false,\"offsetgroup\":\"canadian pop\",\"orientation\":\"v\",\"showlegend\":true,\"x\":[\"canadian pop\",\"canadian pop\"],\"x0\":\" \",\"xaxis\":\"x\",\"y\":[1,26],\"y0\":\" \",\"yaxis\":\"y\",\"type\":\"box\"},{\"alignmentgroup\":\"True\",\"hovertemplate\":\"Genre=%{x}<br>Position=%{y}<extra></extra>\",\"legendgroup\":\"reggaeton flow\",\"marker\":{\"color\":\"#EF553B\"},\"name\":\"reggaeton flow\",\"notched\":false,\"offsetgroup\":\"reggaeton flow\",\"orientation\":\"v\",\"showlegend\":true,\"x\":[\"reggaeton flow\",\"reggaeton flow\"],\"x0\":\" \",\"xaxis\":\"x\",\"y\":[2,23],\"y0\":\" \",\"yaxis\":\"y\",\"type\":\"box\"},{\"alignmentgroup\":\"True\",\"hovertemplate\":\"Genre=%{x}<br>Position=%{y}<extra></extra>\",\"legendgroup\":\"dance pop\",\"marker\":{\"color\":\"#00cc96\"},\"name\":\"dance pop\",\"notched\":false,\"offsetgroup\":\"dance pop\",\"orientation\":\"v\",\"showlegend\":true,\"x\":[\"dance pop\",\"dance pop\",\"dance pop\",\"dance pop\",\"dance pop\",\"dance pop\",\"dance pop\",\"dance pop\"],\"x0\":\" \",\"xaxis\":\"x\",\"y\":[3,12,16,32,35,40,42,43],\"y0\":\" \",\"yaxis\":\"y\",\"type\":\"box\"},{\"alignmentgroup\":\"True\",\"hovertemplate\":\"Genre=%{x}<br>Position=%{y}<extra></extra>\",\"legendgroup\":\"pop\",\"marker\":{\"color\":\"#ab63fa\"},\"name\":\"pop\",\"notched\":false,\"offsetgroup\":\"pop\",\"orientation\":\"v\",\"showlegend\":true,\"x\":[\"pop\",\"pop\",\"pop\",\"pop\",\"pop\",\"pop\",\"pop\"],\"x0\":\" \",\"xaxis\":\"x\",\"y\":[4,6,8,13,38,44,50],\"y0\":\" \",\"yaxis\":\"y\",\"type\":\"box\"},{\"alignmentgroup\":\"True\",\"hovertemplate\":\"Genre=%{x}<br>Position=%{y}<extra></extra>\",\"legendgroup\":\"dfw rap\",\"marker\":{\"color\":\"#FFA15A\"},\"name\":\"dfw rap\",\"notched\":false,\"offsetgroup\":\"dfw rap\",\"orientation\":\"v\",\"showlegend\":true,\"x\":[\"dfw rap\",\"dfw rap\"],\"x0\":\" \",\"xaxis\":\"x\",\"y\":[5,18],\"y0\":\" \",\"yaxis\":\"y\",\"type\":\"box\"},{\"alignmentgroup\":\"True\",\"hovertemplate\":\"Genre=%{x}<br>Position=%{y}<extra></extra>\",\"legendgroup\":\"trap music\",\"marker\":{\"color\":\"#19d3f3\"},\"name\":\"trap music\",\"notched\":false,\"offsetgroup\":\"trap music\",\"orientation\":\"v\",\"showlegend\":true,\"x\":[\"trap music\"],\"x0\":\" \",\"xaxis\":\"x\",\"y\":[7],\"y0\":\" \",\"yaxis\":\"y\",\"type\":\"box\"},{\"alignmentgroup\":\"True\",\"hovertemplate\":\"Genre=%{x}<br>Position=%{y}<extra></extra>\",\"legendgroup\":\"country rap\",\"marker\":{\"color\":\"#FF6692\"},\"name\":\"country rap\",\"notched\":false,\"offsetgroup\":\"country rap\",\"orientation\":\"v\",\"showlegend\":true,\"x\":[\"country rap\",\"country rap\"],\"x0\":\" \",\"xaxis\":\"x\",\"y\":[9,22],\"y0\":\" \",\"yaxis\":\"y\",\"type\":\"box\"},{\"alignmentgroup\":\"True\",\"hovertemplate\":\"Genre=%{x}<br>Position=%{y}<extra></extra>\",\"legendgroup\":\"electropop\",\"marker\":{\"color\":\"#B6E880\"},\"name\":\"electropop\",\"notched\":false,\"offsetgroup\":\"electropop\",\"orientation\":\"v\",\"showlegend\":true,\"x\":[\"electropop\",\"electropop\"],\"x0\":\" \",\"xaxis\":\"x\",\"y\":[10,25],\"y0\":\" \",\"yaxis\":\"y\",\"type\":\"box\"},{\"alignmentgroup\":\"True\",\"hovertemplate\":\"Genre=%{x}<br>Position=%{y}<extra></extra>\",\"legendgroup\":\"reggaeton\",\"marker\":{\"color\":\"#FF97FF\"},\"name\":\"reggaeton\",\"notched\":false,\"offsetgroup\":\"reggaeton\",\"orientation\":\"v\",\"showlegend\":true,\"x\":[\"reggaeton\",\"reggaeton\"],\"x0\":\" \",\"xaxis\":\"x\",\"y\":[11,33],\"y0\":\" \",\"yaxis\":\"y\",\"type\":\"box\"},{\"alignmentgroup\":\"True\",\"hovertemplate\":\"Genre=%{x}<br>Position=%{y}<extra></extra>\",\"legendgroup\":\"panamanian pop\",\"marker\":{\"color\":\"#FECB52\"},\"name\":\"panamanian pop\",\"notched\":false,\"offsetgroup\":\"panamanian pop\",\"orientation\":\"v\",\"showlegend\":true,\"x\":[\"panamanian pop\",\"panamanian pop\"],\"x0\":\" \",\"xaxis\":\"x\",\"y\":[14,37],\"y0\":\" \",\"yaxis\":\"y\",\"type\":\"box\"},{\"alignmentgroup\":\"True\",\"hovertemplate\":\"Genre=%{x}<br>Position=%{y}<extra></extra>\",\"legendgroup\":\"canadian hip hop\",\"marker\":{\"color\":\"#636efa\"},\"name\":\"canadian hip hop\",\"notched\":false,\"offsetgroup\":\"canadian hip hop\",\"orientation\":\"v\",\"showlegend\":true,\"x\":[\"canadian hip hop\",\"canadian hip hop\",\"canadian hip hop\"],\"x0\":\" \",\"xaxis\":\"x\",\"y\":[15,19,28],\"y0\":\" \",\"yaxis\":\"y\",\"type\":\"box\"},{\"alignmentgroup\":\"True\",\"hovertemplate\":\"Genre=%{x}<br>Position=%{y}<extra></extra>\",\"legendgroup\":\"latin\",\"marker\":{\"color\":\"#EF553B\"},\"name\":\"latin\",\"notched\":false,\"offsetgroup\":\"latin\",\"orientation\":\"v\",\"showlegend\":true,\"x\":[\"latin\",\"latin\",\"latin\",\"latin\",\"latin\"],\"x0\":\" \",\"xaxis\":\"x\",\"y\":[17,24,29,30,47],\"y0\":\" \",\"yaxis\":\"y\",\"type\":\"box\"},{\"alignmentgroup\":\"True\",\"hovertemplate\":\"Genre=%{x}<br>Position=%{y}<extra></extra>\",\"legendgroup\":\"escape room\",\"marker\":{\"color\":\"#00cc96\"},\"name\":\"escape room\",\"notched\":false,\"offsetgroup\":\"escape room\",\"orientation\":\"v\",\"showlegend\":true,\"x\":[\"escape room\"],\"x0\":\" \",\"xaxis\":\"x\",\"y\":[20],\"y0\":\" \",\"yaxis\":\"y\",\"type\":\"box\"},{\"alignmentgroup\":\"True\",\"hovertemplate\":\"Genre=%{x}<br>Position=%{y}<extra></extra>\",\"legendgroup\":\"pop house\",\"marker\":{\"color\":\"#ab63fa\"},\"name\":\"pop house\",\"notched\":false,\"offsetgroup\":\"pop house\",\"orientation\":\"v\",\"showlegend\":true,\"x\":[\"pop house\"],\"x0\":\" \",\"xaxis\":\"x\",\"y\":[21],\"y0\":\" \",\"yaxis\":\"y\",\"type\":\"box\"},{\"alignmentgroup\":\"True\",\"hovertemplate\":\"Genre=%{x}<br>Position=%{y}<extra></extra>\",\"legendgroup\":\"australian pop\",\"marker\":{\"color\":\"#FFA15A\"},\"name\":\"australian pop\",\"notched\":false,\"offsetgroup\":\"australian pop\",\"orientation\":\"v\",\"showlegend\":true,\"x\":[\"australian pop\"],\"x0\":\" \",\"xaxis\":\"x\",\"y\":[27],\"y0\":\" \",\"yaxis\":\"y\",\"type\":\"box\"},{\"alignmentgroup\":\"True\",\"hovertemplate\":\"Genre=%{x}<br>Position=%{y}<extra></extra>\",\"legendgroup\":\"edm\",\"marker\":{\"color\":\"#19d3f3\"},\"name\":\"edm\",\"notched\":false,\"offsetgroup\":\"edm\",\"orientation\":\"v\",\"showlegend\":true,\"x\":[\"edm\",\"edm\",\"edm\"],\"x0\":\" \",\"xaxis\":\"x\",\"y\":[31,41,49],\"y0\":\" \",\"yaxis\":\"y\",\"type\":\"box\"},{\"alignmentgroup\":\"True\",\"hovertemplate\":\"Genre=%{x}<br>Position=%{y}<extra></extra>\",\"legendgroup\":\"atl hip hop\",\"marker\":{\"color\":\"#FF6692\"},\"name\":\"atl hip hop\",\"notched\":false,\"offsetgroup\":\"atl hip hop\",\"orientation\":\"v\",\"showlegend\":true,\"x\":[\"atl hip hop\"],\"x0\":\" \",\"xaxis\":\"x\",\"y\":[34],\"y0\":\" \",\"yaxis\":\"y\",\"type\":\"box\"},{\"alignmentgroup\":\"True\",\"hovertemplate\":\"Genre=%{x}<br>Position=%{y}<extra></extra>\",\"legendgroup\":\"big room\",\"marker\":{\"color\":\"#B6E880\"},\"name\":\"big room\",\"notched\":false,\"offsetgroup\":\"big room\",\"orientation\":\"v\",\"showlegend\":true,\"x\":[\"big room\"],\"x0\":\" \",\"xaxis\":\"x\",\"y\":[36],\"y0\":\" \",\"yaxis\":\"y\",\"type\":\"box\"},{\"alignmentgroup\":\"True\",\"hovertemplate\":\"Genre=%{x}<br>Position=%{y}<extra></extra>\",\"legendgroup\":\"boy band\",\"marker\":{\"color\":\"#FF97FF\"},\"name\":\"boy band\",\"notched\":false,\"offsetgroup\":\"boy band\",\"orientation\":\"v\",\"showlegend\":true,\"x\":[\"boy band\"],\"x0\":\" \",\"xaxis\":\"x\",\"y\":[39],\"y0\":\" \",\"yaxis\":\"y\",\"type\":\"box\"},{\"alignmentgroup\":\"True\",\"hovertemplate\":\"Genre=%{x}<br>Position=%{y}<extra></extra>\",\"legendgroup\":\"r&b en espanol\",\"marker\":{\"color\":\"#FECB52\"},\"name\":\"r&b en espanol\",\"notched\":false,\"offsetgroup\":\"r&b en espanol\",\"orientation\":\"v\",\"showlegend\":true,\"x\":[\"r&b en espanol\"],\"x0\":\" \",\"xaxis\":\"x\",\"y\":[45],\"y0\":\" \",\"yaxis\":\"y\",\"type\":\"box\"},{\"alignmentgroup\":\"True\",\"hovertemplate\":\"Genre=%{x}<br>Position=%{y}<extra></extra>\",\"legendgroup\":\"brostep\",\"marker\":{\"color\":\"#636efa\"},\"name\":\"brostep\",\"notched\":false,\"offsetgroup\":\"brostep\",\"orientation\":\"v\",\"showlegend\":true,\"x\":[\"brostep\",\"brostep\"],\"x0\":\" \",\"xaxis\":\"x\",\"y\":[46,48],\"y0\":\" \",\"yaxis\":\"y\",\"type\":\"box\"}],                        {\"template\":{\"data\":{\"bar\":[{\"error_x\":{\"color\":\"#2a3f5f\"},\"error_y\":{\"color\":\"#2a3f5f\"},\"marker\":{\"line\":{\"color\":\"#E5ECF6\",\"width\":0.5},\"pattern\":{\"fillmode\":\"overlay\",\"size\":10,\"solidity\":0.2}},\"type\":\"bar\"}],\"barpolar\":[{\"marker\":{\"line\":{\"color\":\"#E5ECF6\",\"width\":0.5},\"pattern\":{\"fillmode\":\"overlay\",\"size\":10,\"solidity\":0.2}},\"type\":\"barpolar\"}],\"carpet\":[{\"aaxis\":{\"endlinecolor\":\"#2a3f5f\",\"gridcolor\":\"white\",\"linecolor\":\"white\",\"minorgridcolor\":\"white\",\"startlinecolor\":\"#2a3f5f\"},\"baxis\":{\"endlinecolor\":\"#2a3f5f\",\"gridcolor\":\"white\",\"linecolor\":\"white\",\"minorgridcolor\":\"white\",\"startlinecolor\":\"#2a3f5f\"},\"type\":\"carpet\"}],\"choropleth\":[{\"colorbar\":{\"outlinewidth\":0,\"ticks\":\"\"},\"type\":\"choropleth\"}],\"contour\":[{\"colorbar\":{\"outlinewidth\":0,\"ticks\":\"\"},\"colorscale\":[[0.0,\"#0d0887\"],[0.1111111111111111,\"#46039f\"],[0.2222222222222222,\"#7201a8\"],[0.3333333333333333,\"#9c179e\"],[0.4444444444444444,\"#bd3786\"],[0.5555555555555556,\"#d8576b\"],[0.6666666666666666,\"#ed7953\"],[0.7777777777777778,\"#fb9f3a\"],[0.8888888888888888,\"#fdca26\"],[1.0,\"#f0f921\"]],\"type\":\"contour\"}],\"contourcarpet\":[{\"colorbar\":{\"outlinewidth\":0,\"ticks\":\"\"},\"type\":\"contourcarpet\"}],\"heatmap\":[{\"colorbar\":{\"outlinewidth\":0,\"ticks\":\"\"},\"colorscale\":[[0.0,\"#0d0887\"],[0.1111111111111111,\"#46039f\"],[0.2222222222222222,\"#7201a8\"],[0.3333333333333333,\"#9c179e\"],[0.4444444444444444,\"#bd3786\"],[0.5555555555555556,\"#d8576b\"],[0.6666666666666666,\"#ed7953\"],[0.7777777777777778,\"#fb9f3a\"],[0.8888888888888888,\"#fdca26\"],[1.0,\"#f0f921\"]],\"type\":\"heatmap\"}],\"heatmapgl\":[{\"colorbar\":{\"outlinewidth\":0,\"ticks\":\"\"},\"colorscale\":[[0.0,\"#0d0887\"],[0.1111111111111111,\"#46039f\"],[0.2222222222222222,\"#7201a8\"],[0.3333333333333333,\"#9c179e\"],[0.4444444444444444,\"#bd3786\"],[0.5555555555555556,\"#d8576b\"],[0.6666666666666666,\"#ed7953\"],[0.7777777777777778,\"#fb9f3a\"],[0.8888888888888888,\"#fdca26\"],[1.0,\"#f0f921\"]],\"type\":\"heatmapgl\"}],\"histogram\":[{\"marker\":{\"pattern\":{\"fillmode\":\"overlay\",\"size\":10,\"solidity\":0.2}},\"type\":\"histogram\"}],\"histogram2d\":[{\"colorbar\":{\"outlinewidth\":0,\"ticks\":\"\"},\"colorscale\":[[0.0,\"#0d0887\"],[0.1111111111111111,\"#46039f\"],[0.2222222222222222,\"#7201a8\"],[0.3333333333333333,\"#9c179e\"],[0.4444444444444444,\"#bd3786\"],[0.5555555555555556,\"#d8576b\"],[0.6666666666666666,\"#ed7953\"],[0.7777777777777778,\"#fb9f3a\"],[0.8888888888888888,\"#fdca26\"],[1.0,\"#f0f921\"]],\"type\":\"histogram2d\"}],\"histogram2dcontour\":[{\"colorbar\":{\"outlinewidth\":0,\"ticks\":\"\"},\"colorscale\":[[0.0,\"#0d0887\"],[0.1111111111111111,\"#46039f\"],[0.2222222222222222,\"#7201a8\"],[0.3333333333333333,\"#9c179e\"],[0.4444444444444444,\"#bd3786\"],[0.5555555555555556,\"#d8576b\"],[0.6666666666666666,\"#ed7953\"],[0.7777777777777778,\"#fb9f3a\"],[0.8888888888888888,\"#fdca26\"],[1.0,\"#f0f921\"]],\"type\":\"histogram2dcontour\"}],\"mesh3d\":[{\"colorbar\":{\"outlinewidth\":0,\"ticks\":\"\"},\"type\":\"mesh3d\"}],\"parcoords\":[{\"line\":{\"colorbar\":{\"outlinewidth\":0,\"ticks\":\"\"}},\"type\":\"parcoords\"}],\"pie\":[{\"automargin\":true,\"type\":\"pie\"}],\"scatter\":[{\"marker\":{\"colorbar\":{\"outlinewidth\":0,\"ticks\":\"\"}},\"type\":\"scatter\"}],\"scatter3d\":[{\"line\":{\"colorbar\":{\"outlinewidth\":0,\"ticks\":\"\"}},\"marker\":{\"colorbar\":{\"outlinewidth\":0,\"ticks\":\"\"}},\"type\":\"scatter3d\"}],\"scattercarpet\":[{\"marker\":{\"colorbar\":{\"outlinewidth\":0,\"ticks\":\"\"}},\"type\":\"scattercarpet\"}],\"scattergeo\":[{\"marker\":{\"colorbar\":{\"outlinewidth\":0,\"ticks\":\"\"}},\"type\":\"scattergeo\"}],\"scattergl\":[{\"marker\":{\"colorbar\":{\"outlinewidth\":0,\"ticks\":\"\"}},\"type\":\"scattergl\"}],\"scattermapbox\":[{\"marker\":{\"colorbar\":{\"outlinewidth\":0,\"ticks\":\"\"}},\"type\":\"scattermapbox\"}],\"scatterpolar\":[{\"marker\":{\"colorbar\":{\"outlinewidth\":0,\"ticks\":\"\"}},\"type\":\"scatterpolar\"}],\"scatterpolargl\":[{\"marker\":{\"colorbar\":{\"outlinewidth\":0,\"ticks\":\"\"}},\"type\":\"scatterpolargl\"}],\"scatterternary\":[{\"marker\":{\"colorbar\":{\"outlinewidth\":0,\"ticks\":\"\"}},\"type\":\"scatterternary\"}],\"surface\":[{\"colorbar\":{\"outlinewidth\":0,\"ticks\":\"\"},\"colorscale\":[[0.0,\"#0d0887\"],[0.1111111111111111,\"#46039f\"],[0.2222222222222222,\"#7201a8\"],[0.3333333333333333,\"#9c179e\"],[0.4444444444444444,\"#bd3786\"],[0.5555555555555556,\"#d8576b\"],[0.6666666666666666,\"#ed7953\"],[0.7777777777777778,\"#fb9f3a\"],[0.8888888888888888,\"#fdca26\"],[1.0,\"#f0f921\"]],\"type\":\"surface\"}],\"table\":[{\"cells\":{\"fill\":{\"color\":\"#EBF0F8\"},\"line\":{\"color\":\"white\"}},\"header\":{\"fill\":{\"color\":\"#C8D4E3\"},\"line\":{\"color\":\"white\"}},\"type\":\"table\"}]},\"layout\":{\"annotationdefaults\":{\"arrowcolor\":\"#2a3f5f\",\"arrowhead\":0,\"arrowwidth\":1},\"autotypenumbers\":\"strict\",\"coloraxis\":{\"colorbar\":{\"outlinewidth\":0,\"ticks\":\"\"}},\"colorscale\":{\"diverging\":[[0,\"#8e0152\"],[0.1,\"#c51b7d\"],[0.2,\"#de77ae\"],[0.3,\"#f1b6da\"],[0.4,\"#fde0ef\"],[0.5,\"#f7f7f7\"],[0.6,\"#e6f5d0\"],[0.7,\"#b8e186\"],[0.8,\"#7fbc41\"],[0.9,\"#4d9221\"],[1,\"#276419\"]],\"sequential\":[[0.0,\"#0d0887\"],[0.1111111111111111,\"#46039f\"],[0.2222222222222222,\"#7201a8\"],[0.3333333333333333,\"#9c179e\"],[0.4444444444444444,\"#bd3786\"],[0.5555555555555556,\"#d8576b\"],[0.6666666666666666,\"#ed7953\"],[0.7777777777777778,\"#fb9f3a\"],[0.8888888888888888,\"#fdca26\"],[1.0,\"#f0f921\"]],\"sequentialminus\":[[0.0,\"#0d0887\"],[0.1111111111111111,\"#46039f\"],[0.2222222222222222,\"#7201a8\"],[0.3333333333333333,\"#9c179e\"],[0.4444444444444444,\"#bd3786\"],[0.5555555555555556,\"#d8576b\"],[0.6666666666666666,\"#ed7953\"],[0.7777777777777778,\"#fb9f3a\"],[0.8888888888888888,\"#fdca26\"],[1.0,\"#f0f921\"]]},\"colorway\":[\"#636efa\",\"#EF553B\",\"#00cc96\",\"#ab63fa\",\"#FFA15A\",\"#19d3f3\",\"#FF6692\",\"#B6E880\",\"#FF97FF\",\"#FECB52\"],\"font\":{\"color\":\"#2a3f5f\"},\"geo\":{\"bgcolor\":\"white\",\"lakecolor\":\"white\",\"landcolor\":\"#E5ECF6\",\"showlakes\":true,\"showland\":true,\"subunitcolor\":\"white\"},\"hoverlabel\":{\"align\":\"left\"},\"hovermode\":\"closest\",\"mapbox\":{\"style\":\"light\"},\"paper_bgcolor\":\"white\",\"plot_bgcolor\":\"#E5ECF6\",\"polar\":{\"angularaxis\":{\"gridcolor\":\"white\",\"linecolor\":\"white\",\"ticks\":\"\"},\"bgcolor\":\"#E5ECF6\",\"radialaxis\":{\"gridcolor\":\"white\",\"linecolor\":\"white\",\"ticks\":\"\"}},\"scene\":{\"xaxis\":{\"backgroundcolor\":\"#E5ECF6\",\"gridcolor\":\"white\",\"gridwidth\":2,\"linecolor\":\"white\",\"showbackground\":true,\"ticks\":\"\",\"zerolinecolor\":\"white\"},\"yaxis\":{\"backgroundcolor\":\"#E5ECF6\",\"gridcolor\":\"white\",\"gridwidth\":2,\"linecolor\":\"white\",\"showbackground\":true,\"ticks\":\"\",\"zerolinecolor\":\"white\"},\"zaxis\":{\"backgroundcolor\":\"#E5ECF6\",\"gridcolor\":\"white\",\"gridwidth\":2,\"linecolor\":\"white\",\"showbackground\":true,\"ticks\":\"\",\"zerolinecolor\":\"white\"}},\"shapedefaults\":{\"line\":{\"color\":\"#2a3f5f\"}},\"ternary\":{\"aaxis\":{\"gridcolor\":\"white\",\"linecolor\":\"white\",\"ticks\":\"\"},\"baxis\":{\"gridcolor\":\"white\",\"linecolor\":\"white\",\"ticks\":\"\"},\"bgcolor\":\"#E5ECF6\",\"caxis\":{\"gridcolor\":\"white\",\"linecolor\":\"white\",\"ticks\":\"\"}},\"title\":{\"x\":0.05},\"xaxis\":{\"automargin\":true,\"gridcolor\":\"white\",\"linecolor\":\"white\",\"ticks\":\"\",\"title\":{\"standoff\":15},\"zerolinecolor\":\"white\",\"zerolinewidth\":2},\"yaxis\":{\"automargin\":true,\"gridcolor\":\"white\",\"linecolor\":\"white\",\"ticks\":\"\",\"title\":{\"standoff\":15},\"zerolinecolor\":\"white\",\"zerolinewidth\":2}}},\"xaxis\":{\"anchor\":\"y\",\"domain\":[0.0,1.0],\"title\":{\"text\":\"Genre\"},\"categoryorder\":\"array\",\"categoryarray\":[\"canadian pop\",\"reggaeton flow\",\"dance pop\",\"pop\",\"dfw rap\",\"trap music\",\"country rap\",\"electropop\",\"reggaeton\",\"panamanian pop\",\"canadian hip hop\",\"latin\",\"escape room\",\"pop house\",\"australian pop\",\"edm\",\"atl hip hop\",\"big room\",\"boy band\",\"r&b en espanol\",\"brostep\"]},\"yaxis\":{\"anchor\":\"x\",\"domain\":[0.0,1.0],\"title\":{\"text\":\"Position\"}},\"legend\":{\"title\":{\"text\":\"Genre\"},\"tracegroupgap\":0},\"title\":{\"text\":\"DISTRIBUZIONE POSIZIONE in base al GENERE\"},\"boxmode\":\"overlay\"},                        {\"responsive\": true}                    ).then(function(){\n",
              "                            \n",
              "var gd = document.getElementById('5cf1474e-b6f2-4738-88ea-f8247ea19b31');\n",
              "var x = new MutationObserver(function (mutations, observer) {{\n",
              "        var display = window.getComputedStyle(gd).display;\n",
              "        if (!display || display === 'none') {{\n",
              "            console.log([gd, 'removed!']);\n",
              "            Plotly.purge(gd);\n",
              "            observer.disconnect();\n",
              "        }}\n",
              "}});\n",
              "\n",
              "// Listen for the removal of the full notebook cells\n",
              "var notebookContainer = gd.closest('#notebook-container');\n",
              "if (notebookContainer) {{\n",
              "    x.observe(notebookContainer, {childList: true});\n",
              "}}\n",
              "\n",
              "// Listen for the clearing of the current output cell\n",
              "var outputEl = gd.closest('.output');\n",
              "if (outputEl) {{\n",
              "    x.observe(outputEl, {childList: true});\n",
              "}}\n",
              "\n",
              "                        })                };                            </script>        </div>\n",
              "</body>\n",
              "</html>"
            ]
          },
          "metadata": {}
        }
      ],
      "source": [
        "fig = px.box(top50, x=\"Genre\", y=\"Position\", color=\"Genre\",title=\"DISTRIBUZIONE POSIZIONE in base al GENERE\")\n",
        "fig.show()"
      ]
    },
    {
      "cell_type": "markdown",
      "id": "da82e94e",
      "metadata": {
        "id": "da82e94e"
      },
      "source": [
        "Notiamo subito come, nonostante la poca popolarità del genere riscontrata nel box plot precedente, il canadian pop contenga la canzone prima in classifica e ha un valore di mediana di posizionamento molto alto.\n",
        "\n",
        "Possiamo inoltre vedere che il pop è il genere con la varianza maggiore di posizionamenti delle canzoni che si distribuiscono pressochè su tutta la classificia. \n",
        "\n",
        "Questo in un modo simile alle canzoni appartenenti al genere dance pop anche se la mediana del pop risulta essere più bassa e quindi significa posizionamenti generalmente più bassi del pop rispetto al dance pop."
      ]
    },
    {
      "cell_type": "markdown",
      "source": [
        "***AGGIUNTA MACRO GENERE***"
      ],
      "metadata": {
        "id": "ugOEmaxWTZ8r"
      },
      "id": "ugOEmaxWTZ8r"
    },
    {
      "cell_type": "code",
      "execution_count": 13,
      "metadata": {
        "colab": {
          "base_uri": "https://localhost:8080/"
        },
        "id": "dae6d082",
        "outputId": "b609582a-343c-49c6-dc7e-fe7166cad21a"
      },
      "outputs": [
        {
          "output_type": "execute_result",
          "data": {
            "text/plain": [
              "array(['canadian pop', 'reggaeton flow', 'dance pop', 'pop', 'dfw rap',\n",
              "       'trap music', 'country rap', 'electropop', 'reggaeton',\n",
              "       'panamanian pop', 'canadian hip hop', 'latin', 'escape room',\n",
              "       'pop house', 'australian pop', 'edm', 'atl hip hop', 'big room',\n",
              "       'boy band', 'r&b en espanol', 'brostep'], dtype=object)"
            ]
          },
          "metadata": {},
          "execution_count": 13
        }
      ],
      "source": [
        "top50.Genre.unique()"
      ],
      "id": "dae6d082"
    },
    {
      "cell_type": "code",
      "execution_count": 14,
      "metadata": {
        "id": "79a92295"
      },
      "outputs": [],
      "source": [
        "top50['MacroGenere'] = 'Other'\n",
        "top50.loc[(top50['Genre'] == 'pop') | (top50['Genre'] == 'canadian pop') | (top50['Genre'] == 'panamanian pop') | (top50['Genre'] == 'australian pop') | (top50['Genre'] == 'pop house') | (top50['Genre'] == 'dance pop') | (top50['Genre'] == 'electropop'), 'MacroGenere'] = 'Pop'\n",
        "top50.loc[(top50['Genre'] == 'dfw rap') | (top50['Genre'] == 'trap music') |(top50['Genre'] == 'country rap'), 'MacroGenere'] = 'Rap'\n",
        "top50.loc[(top50['Genre'] == 'reggaeton flow') | (top50['Genre'] == 'reggaeton') | (top50['Genre'] == 'latin') | (top50['Genre'] == 'r&b en espanol'), 'MacroGenere'] = 'Reggaeton'"
      ],
      "id": "79a92295"
    },
    {
      "cell_type": "code",
      "execution_count": 15,
      "metadata": {
        "colab": {
          "base_uri": "https://localhost:8080/",
          "height": 402
        },
        "id": "4ecb7e5e",
        "outputId": "e7a77d3e-414d-4226-d375-ae4dfec60a36"
      },
      "outputs": [
        {
          "output_type": "display_data",
          "data": {
            "text/plain": [
              "<Figure size 1080x360 with 1 Axes>"
            ],
            "image/png": "[encoded data removed]"
          },
          "metadata": {
            "needs_background": "light"
          }
        }
      ],
      "source": [
        "num_macro_genere = top50['MacroGenere'].value_counts()\n",
        "\n",
        "font1 = {'family':'serif','color':'blue','size':20}\n",
        "font2 = {'family':'serif','color':'darkred','size':15}\n",
        "\n",
        "plt.title(\"Canzoni per Macrogenere\", fontdict = font1)\n",
        "plt.xlabel(\"MacroGenere\", fontdict = font2)\n",
        "plt.ylabel(\"Numero Canzoni\", fontdict = font2)\n",
        "\n",
        "num_macro_genere.plot(kind = 'bar',figsize = (15,5))\n",
        "plt.show()"
      ],
      "id": "4ecb7e5e"
    },
    {
      "cell_type": "markdown",
      "metadata": {
        "id": "1197a59f"
      },
      "source": [
        "Con una semplice describe come precedentemente utilizzata per gli altri metodi qualitativi, questa volta, dopo il raggruppamento effettuato, si nota subito come il macro genere più frequente(che quindi contiene più canzoni) è quello pop con ben 23 canzoni presenti in classifica."
      ],
      "id": "1197a59f"
    },
    {
      "cell_type": "markdown",
      "id": "9cda5338",
      "metadata": {
        "id": "9cda5338"
      },
      "source": [
        "Ed ora visualizziamo le **distribuzioni** precedentemente discusse per il genere in base al **MACRO genere**:"
      ]
    },
    {
      "cell_type": "code",
      "execution_count": 16,
      "id": "dceb94c5",
      "metadata": {
        "colab": {
          "base_uri": "https://localhost:8080/",
          "height": 542
        },
        "id": "dceb94c5",
        "outputId": "608a2d8b-600a-42b7-e490-69ecf67d426d"
      },
      "outputs": [
        {
          "output_type": "display_data",
          "data": {
            "text/html": [
              "<html>\n",
              "<head><meta charset=\"utf-8\" /></head>\n",
              "<body>\n",
              "    <div>            <script src=\"https://cdnjs.cloudflare.com/ajax/libs/mathjax/2.7.5/MathJax.js?config=TeX-AMS-MML_SVG\"></script><script type=\"text/javascript\">if (window.MathJax) {MathJax.Hub.Config({SVG: {font: \"STIX-Web\"}});}</script>                <script type=\"text/javascript\">window.PlotlyConfig = {MathJaxConfig: 'local'};</script>\n",
              "        <script src=\"https://cdn.plot.ly/plotly-2.8.3.min.js\"></script>                <div id=\"58a6d1a4-fe79-4fc8-a745-1b307747dfbc\" class=\"plotly-graph-div\" style=\"height:525px; width:100%;\"></div>            <script type=\"text/javascript\">                                    window.PLOTLYENV=window.PLOTLYENV || {};                                    if (document.getElementById(\"58a6d1a4-fe79-4fc8-a745-1b307747dfbc\")) {                    Plotly.newPlot(                        \"58a6d1a4-fe79-4fc8-a745-1b307747dfbc\",                        [{\"alignmentgroup\":\"True\",\"hovertemplate\":\"MacroGenere=%{x}<br>Popularity=%{y}<extra></extra>\",\"legendgroup\":\"Pop\",\"marker\":{\"color\":\"#636efa\"},\"name\":\"Pop\",\"notched\":false,\"offsetgroup\":\"Pop\",\"orientation\":\"v\",\"showlegend\":true,\"x\":[\"Pop\",\"Pop\",\"Pop\",\"Pop\",\"Pop\",\"Pop\",\"Pop\",\"Pop\",\"Pop\",\"Pop\",\"Pop\",\"Pop\",\"Pop\",\"Pop\",\"Pop\",\"Pop\",\"Pop\",\"Pop\",\"Pop\",\"Pop\",\"Pop\",\"Pop\",\"Pop\"],\"x0\":\" \",\"xaxis\":\"x\",\"y\":[79,85,86,84,90,95,86,88,87,82,91,89,70,83,89,89,91,87,78,90,87,84,82],\"y0\":\" \",\"yaxis\":\"y\",\"type\":\"box\"},{\"alignmentgroup\":\"True\",\"hovertemplate\":\"MacroGenere=%{x}<br>Popularity=%{y}<extra></extra>\",\"legendgroup\":\"Reggaeton\",\"marker\":{\"color\":\"#EF553B\"},\"name\":\"Reggaeton\",\"notched\":false,\"offsetgroup\":\"Reggaeton\",\"orientation\":\"v\",\"showlegend\":true,\"x\":[\"Reggaeton\",\"Reggaeton\",\"Reggaeton\",\"Reggaeton\",\"Reggaeton\",\"Reggaeton\",\"Reggaeton\",\"Reggaeton\",\"Reggaeton\",\"Reggaeton\"],\"x0\":\" \",\"xaxis\":\"x\",\"y\":[92,93,90,83,91,91,89,89,88,88],\"y0\":\" \",\"yaxis\":\"y\",\"type\":\"box\"},{\"alignmentgroup\":\"True\",\"hovertemplate\":\"MacroGenere=%{x}<br>Popularity=%{y}<extra></extra>\",\"legendgroup\":\"Rap\",\"marker\":{\"color\":\"#00cc96\"},\"name\":\"Rap\",\"notched\":false,\"offsetgroup\":\"Rap\",\"orientation\":\"v\",\"showlegend\":true,\"x\":[\"Rap\",\"Rap\",\"Rap\",\"Rap\",\"Rap\"],\"x0\":\" \",\"xaxis\":\"x\",\"y\":[94,92,87,91,91],\"y0\":\" \",\"yaxis\":\"y\",\"type\":\"box\"},{\"alignmentgroup\":\"True\",\"hovertemplate\":\"MacroGenere=%{x}<br>Popularity=%{y}<extra></extra>\",\"legendgroup\":\"Other\",\"marker\":{\"color\":\"#ab63fa\"},\"name\":\"Other\",\"notched\":false,\"offsetgroup\":\"Other\",\"orientation\":\"v\",\"showlegend\":true,\"x\":[\"Other\",\"Other\",\"Other\",\"Other\",\"Other\",\"Other\",\"Other\",\"Other\",\"Other\",\"Other\",\"Other\",\"Other\"],\"x0\":\" \",\"xaxis\":\"x\",\"y\":[92,88,91,89,84,89,89,80,88,88,88,88],\"y0\":\" \",\"yaxis\":\"y\",\"type\":\"box\"}],                        {\"template\":{\"data\":{\"bar\":[{\"error_x\":{\"color\":\"#2a3f5f\"},\"error_y\":{\"color\":\"#2a3f5f\"},\"marker\":{\"line\":{\"color\":\"#E5ECF6\",\"width\":0.5},\"pattern\":{\"fillmode\":\"overlay\",\"size\":10,\"solidity\":0.2}},\"type\":\"bar\"}],\"barpolar\":[{\"marker\":{\"line\":{\"color\":\"#E5ECF6\",\"width\":0.5},\"pattern\":{\"fillmode\":\"overlay\",\"size\":10,\"solidity\":0.2}},\"type\":\"barpolar\"}],\"carpet\":[{\"aaxis\":{\"endlinecolor\":\"#2a3f5f\",\"gridcolor\":\"white\",\"linecolor\":\"white\",\"minorgridcolor\":\"white\",\"startlinecolor\":\"#2a3f5f\"},\"baxis\":{\"endlinecolor\":\"#2a3f5f\",\"gridcolor\":\"white\",\"linecolor\":\"white\",\"minorgridcolor\":\"white\",\"startlinecolor\":\"#2a3f5f\"},\"type\":\"carpet\"}],\"choropleth\":[{\"colorbar\":{\"outlinewidth\":0,\"ticks\":\"\"},\"type\":\"choropleth\"}],\"contour\":[{\"colorbar\":{\"outlinewidth\":0,\"ticks\":\"\"},\"colorscale\":[[0.0,\"#0d0887\"],[0.1111111111111111,\"#46039f\"],[0.2222222222222222,\"#7201a8\"],[0.3333333333333333,\"#9c179e\"],[0.4444444444444444,\"#bd3786\"],[0.5555555555555556,\"#d8576b\"],[0.6666666666666666,\"#ed7953\"],[0.7777777777777778,\"#fb9f3a\"],[0.8888888888888888,\"#fdca26\"],[1.0,\"#f0f921\"]],\"type\":\"contour\"}],\"contourcarpet\":[{\"colorbar\":{\"outlinewidth\":0,\"ticks\":\"\"},\"type\":\"contourcarpet\"}],\"heatmap\":[{\"colorbar\":{\"outlinewidth\":0,\"ticks\":\"\"},\"colorscale\":[[0.0,\"#0d0887\"],[0.1111111111111111,\"#46039f\"],[0.2222222222222222,\"#7201a8\"],[0.3333333333333333,\"#9c179e\"],[0.4444444444444444,\"#bd3786\"],[0.5555555555555556,\"#d8576b\"],[0.6666666666666666,\"#ed7953\"],[0.7777777777777778,\"#fb9f3a\"],[0.8888888888888888,\"#fdca26\"],[1.0,\"#f0f921\"]],\"type\":\"heatmap\"}],\"heatmapgl\":[{\"colorbar\":{\"outlinewidth\":0,\"ticks\":\"\"},\"colorscale\":[[0.0,\"#0d0887\"],[0.1111111111111111,\"#46039f\"],[0.2222222222222222,\"#7201a8\"],[0.3333333333333333,\"#9c179e\"],[0.4444444444444444,\"#bd3786\"],[0.5555555555555556,\"#d8576b\"],[0.6666666666666666,\"#ed7953\"],[0.7777777777777778,\"#fb9f3a\"],[0.8888888888888888,\"#fdca26\"],[1.0,\"#f0f921\"]],\"type\":\"heatmapgl\"}],\"histogram\":[{\"marker\":{\"pattern\":{\"fillmode\":\"overlay\",\"size\":10,\"solidity\":0.2}},\"type\":\"histogram\"}],\"histogram2d\":[{\"colorbar\":{\"outlinewidth\":0,\"ticks\":\"\"},\"colorscale\":[[0.0,\"#0d0887\"],[0.1111111111111111,\"#46039f\"],[0.2222222222222222,\"#7201a8\"],[0.3333333333333333,\"#9c179e\"],[0.4444444444444444,\"#bd3786\"],[0.5555555555555556,\"#d8576b\"],[0.6666666666666666,\"#ed7953\"],[0.7777777777777778,\"#fb9f3a\"],[0.8888888888888888,\"#fdca26\"],[1.0,\"#f0f921\"]],\"type\":\"histogram2d\"}],\"histogram2dcontour\":[{\"colorbar\":{\"outlinewidth\":0,\"ticks\":\"\"},\"colorscale\":[[0.0,\"#0d0887\"],[0.1111111111111111,\"#46039f\"],[0.2222222222222222,\"#7201a8\"],[0.3333333333333333,\"#9c179e\"],[0.4444444444444444,\"#bd3786\"],[0.5555555555555556,\"#d8576b\"],[0.6666666666666666,\"#ed7953\"],[0.7777777777777778,\"#fb9f3a\"],[0.8888888888888888,\"#fdca26\"],[1.0,\"#f0f921\"]],\"type\":\"histogram2dcontour\"}],\"mesh3d\":[{\"colorbar\":{\"outlinewidth\":0,\"ticks\":\"\"},\"type\":\"mesh3d\"}],\"parcoords\":[{\"line\":{\"colorbar\":{\"outlinewidth\":0,\"ticks\":\"\"}},\"type\":\"parcoords\"}],\"pie\":[{\"automargin\":true,\"type\":\"pie\"}],\"scatter\":[{\"marker\":{\"colorbar\":{\"outlinewidth\":0,\"ticks\":\"\"}},\"type\":\"scatter\"}],\"scatter3d\":[{\"line\":{\"colorbar\":{\"outlinewidth\":0,\"ticks\":\"\"}},\"marker\":{\"colorbar\":{\"outlinewidth\":0,\"ticks\":\"\"}},\"type\":\"scatter3d\"}],\"scattercarpet\":[{\"marker\":{\"colorbar\":{\"outlinewidth\":0,\"ticks\":\"\"}},\"type\":\"scattercarpet\"}],\"scattergeo\":[{\"marker\":{\"colorbar\":{\"outlinewidth\":0,\"ticks\":\"\"}},\"type\":\"scattergeo\"}],\"scattergl\":[{\"marker\":{\"colorbar\":{\"outlinewidth\":0,\"ticks\":\"\"}},\"type\":\"scattergl\"}],\"scattermapbox\":[{\"marker\":{\"colorbar\":{\"outlinewidth\":0,\"ticks\":\"\"}},\"type\":\"scattermapbox\"}],\"scatterpolar\":[{\"marker\":{\"colorbar\":{\"outlinewidth\":0,\"ticks\":\"\"}},\"type\":\"scatterpolar\"}],\"scatterpolargl\":[{\"marker\":{\"colorbar\":{\"outlinewidth\":0,\"ticks\":\"\"}},\"type\":\"scatterpolargl\"}],\"scatterternary\":[{\"marker\":{\"colorbar\":{\"outlinewidth\":0,\"ticks\":\"\"}},\"type\":\"scatterternary\"}],\"surface\":[{\"colorbar\":{\"outlinewidth\":0,\"ticks\":\"\"},\"colorscale\":[[0.0,\"#0d0887\"],[0.1111111111111111,\"#46039f\"],[0.2222222222222222,\"#7201a8\"],[0.3333333333333333,\"#9c179e\"],[0.4444444444444444,\"#bd3786\"],[0.5555555555555556,\"#d8576b\"],[0.6666666666666666,\"#ed7953\"],[0.7777777777777778,\"#fb9f3a\"],[0.8888888888888888,\"#fdca26\"],[1.0,\"#f0f921\"]],\"type\":\"surface\"}],\"table\":[{\"cells\":{\"fill\":{\"color\":\"#EBF0F8\"},\"line\":{\"color\":\"white\"}},\"header\":{\"fill\":{\"color\":\"#C8D4E3\"},\"line\":{\"color\":\"white\"}},\"type\":\"table\"}]},\"layout\":{\"annotationdefaults\":{\"arrowcolor\":\"#2a3f5f\",\"arrowhead\":0,\"arrowwidth\":1},\"autotypenumbers\":\"strict\",\"coloraxis\":{\"colorbar\":{\"outlinewidth\":0,\"ticks\":\"\"}},\"colorscale\":{\"diverging\":[[0,\"#8e0152\"],[0.1,\"#c51b7d\"],[0.2,\"#de77ae\"],[0.3,\"#f1b6da\"],[0.4,\"#fde0ef\"],[0.5,\"#f7f7f7\"],[0.6,\"#e6f5d0\"],[0.7,\"#b8e186\"],[0.8,\"#7fbc41\"],[0.9,\"#4d9221\"],[1,\"#276419\"]],\"sequential\":[[0.0,\"#0d0887\"],[0.1111111111111111,\"#46039f\"],[0.2222222222222222,\"#7201a8\"],[0.3333333333333333,\"#9c179e\"],[0.4444444444444444,\"#bd3786\"],[0.5555555555555556,\"#d8576b\"],[0.6666666666666666,\"#ed7953\"],[0.7777777777777778,\"#fb9f3a\"],[0.8888888888888888,\"#fdca26\"],[1.0,\"#f0f921\"]],\"sequentialminus\":[[0.0,\"#0d0887\"],[0.1111111111111111,\"#46039f\"],[0.2222222222222222,\"#7201a8\"],[0.3333333333333333,\"#9c179e\"],[0.4444444444444444,\"#bd3786\"],[0.5555555555555556,\"#d8576b\"],[0.6666666666666666,\"#ed7953\"],[0.7777777777777778,\"#fb9f3a\"],[0.8888888888888888,\"#fdca26\"],[1.0,\"#f0f921\"]]},\"colorway\":[\"#636efa\",\"#EF553B\",\"#00cc96\",\"#ab63fa\",\"#FFA15A\",\"#19d3f3\",\"#FF6692\",\"#B6E880\",\"#FF97FF\",\"#FECB52\"],\"font\":{\"color\":\"#2a3f5f\"},\"geo\":{\"bgcolor\":\"white\",\"lakecolor\":\"white\",\"landcolor\":\"#E5ECF6\",\"showlakes\":true,\"showland\":true,\"subunitcolor\":\"white\"},\"hoverlabel\":{\"align\":\"left\"},\"hovermode\":\"closest\",\"mapbox\":{\"style\":\"light\"},\"paper_bgcolor\":\"white\",\"plot_bgcolor\":\"#E5ECF6\",\"polar\":{\"angularaxis\":{\"gridcolor\":\"white\",\"linecolor\":\"white\",\"ticks\":\"\"},\"bgcolor\":\"#E5ECF6\",\"radialaxis\":{\"gridcolor\":\"white\",\"linecolor\":\"white\",\"ticks\":\"\"}},\"scene\":{\"xaxis\":{\"backgroundcolor\":\"#E5ECF6\",\"gridcolor\":\"white\",\"gridwidth\":2,\"linecolor\":\"white\",\"showbackground\":true,\"ticks\":\"\",\"zerolinecolor\":\"white\"},\"yaxis\":{\"backgroundcolor\":\"#E5ECF6\",\"gridcolor\":\"white\",\"gridwidth\":2,\"linecolor\":\"white\",\"showbackground\":true,\"ticks\":\"\",\"zerolinecolor\":\"white\"},\"zaxis\":{\"backgroundcolor\":\"#E5ECF6\",\"gridcolor\":\"white\",\"gridwidth\":2,\"linecolor\":\"white\",\"showbackground\":true,\"ticks\":\"\",\"zerolinecolor\":\"white\"}},\"shapedefaults\":{\"line\":{\"color\":\"#2a3f5f\"}},\"ternary\":{\"aaxis\":{\"gridcolor\":\"white\",\"linecolor\":\"white\",\"ticks\":\"\"},\"baxis\":{\"gridcolor\":\"white\",\"linecolor\":\"white\",\"ticks\":\"\"},\"bgcolor\":\"#E5ECF6\",\"caxis\":{\"gridcolor\":\"white\",\"linecolor\":\"white\",\"ticks\":\"\"}},\"title\":{\"x\":0.05},\"xaxis\":{\"automargin\":true,\"gridcolor\":\"white\",\"linecolor\":\"white\",\"ticks\":\"\",\"title\":{\"standoff\":15},\"zerolinecolor\":\"white\",\"zerolinewidth\":2},\"yaxis\":{\"automargin\":true,\"gridcolor\":\"white\",\"linecolor\":\"white\",\"ticks\":\"\",\"title\":{\"standoff\":15},\"zerolinecolor\":\"white\",\"zerolinewidth\":2}}},\"xaxis\":{\"anchor\":\"y\",\"domain\":[0.0,1.0],\"title\":{\"text\":\"MacroGenere\"},\"categoryorder\":\"array\",\"categoryarray\":[\"Pop\",\"Reggaeton\",\"Rap\",\"Other\"]},\"yaxis\":{\"anchor\":\"x\",\"domain\":[0.0,1.0],\"title\":{\"text\":\"Popularity\"}},\"legend\":{\"title\":{\"text\":\"MacroGenere\"},\"tracegroupgap\":0},\"title\":{\"text\":\"DISTRIBUZIONE POPOLARITA' in base al MACROGENERE\"},\"boxmode\":\"overlay\"},                        {\"responsive\": true}                    ).then(function(){\n",
              "                            \n",
              "var gd = document.getElementById('58a6d1a4-fe79-4fc8-a745-1b307747dfbc');\n",
              "var x = new MutationObserver(function (mutations, observer) {{\n",
              "        var display = window.getComputedStyle(gd).display;\n",
              "        if (!display || display === 'none') {{\n",
              "            console.log([gd, 'removed!']);\n",
              "            Plotly.purge(gd);\n",
              "            observer.disconnect();\n",
              "        }}\n",
              "}});\n",
              "\n",
              "// Listen for the removal of the full notebook cells\n",
              "var notebookContainer = gd.closest('#notebook-container');\n",
              "if (notebookContainer) {{\n",
              "    x.observe(notebookContainer, {childList: true});\n",
              "}}\n",
              "\n",
              "// Listen for the clearing of the current output cell\n",
              "var outputEl = gd.closest('.output');\n",
              "if (outputEl) {{\n",
              "    x.observe(outputEl, {childList: true});\n",
              "}}\n",
              "\n",
              "                        })                };                            </script>        </div>\n",
              "</body>\n",
              "</html>"
            ]
          },
          "metadata": {}
        }
      ],
      "source": [
        "fig = px.box(top50, x=\"MacroGenere\", y=\"Popularity\", color=\"MacroGenere\", title=\"DISTRIBUZIONE POPOLARITA' in base al MACROGENERE\")\n",
        "fig.show()"
      ]
    },
    {
      "cell_type": "markdown",
      "id": "f559eb0c",
      "metadata": {
        "id": "f559eb0c"
      },
      "source": [
        "Vediamo come sia il pop il macro genere ad avere la distribuzione più \"corposa\": da notare come contenga sia il valore più basso di popolarità(70) che la canzone con il valore più alto(95).\n",
        "\n",
        "Mentre il rap è il macrogenere che ha la distribuzione della popolarità delle canzoni più alta."
      ]
    },
    {
      "cell_type": "code",
      "execution_count": 17,
      "id": "76690be4",
      "metadata": {
        "colab": {
          "base_uri": "https://localhost:8080/",
          "height": 542
        },
        "id": "76690be4",
        "outputId": "4ef0f51a-27e8-4efa-fd6d-a19e082f4fa4"
      },
      "outputs": [
        {
          "output_type": "display_data",
          "data": {
            "text/html": [
              "<html>\n",
              "<head><meta charset=\"utf-8\" /></head>\n",
              "<body>\n",
              "    <div>            <script src=\"https://cdnjs.cloudflare.com/ajax/libs/mathjax/2.7.5/MathJax.js?config=TeX-AMS-MML_SVG\"></script><script type=\"text/javascript\">if (window.MathJax) {MathJax.Hub.Config({SVG: {font: \"STIX-Web\"}});}</script>                <script type=\"text/javascript\">window.PlotlyConfig = {MathJaxConfig: 'local'};</script>\n",
              "        <script src=\"https://cdn.plot.ly/plotly-2.8.3.min.js\"></script>                <div id=\"dec2162c-d4d1-4c0b-9851-5eea983dd0e0\" class=\"plotly-graph-div\" style=\"height:525px; width:100%;\"></div>            <script type=\"text/javascript\">                                    window.PLOTLYENV=window.PLOTLYENV || {};                                    if (document.getElementById(\"dec2162c-d4d1-4c0b-9851-5eea983dd0e0\")) {                    Plotly.newPlot(                        \"dec2162c-d4d1-4c0b-9851-5eea983dd0e0\",                        [{\"alignmentgroup\":\"True\",\"hovertemplate\":\"MacroGenere=%{x}<br>Position=%{y}<extra></extra>\",\"legendgroup\":\"Pop\",\"marker\":{\"color\":\"#636efa\"},\"name\":\"Pop\",\"notched\":false,\"offsetgroup\":\"Pop\",\"orientation\":\"v\",\"showlegend\":true,\"x\":[\"Pop\",\"Pop\",\"Pop\",\"Pop\",\"Pop\",\"Pop\",\"Pop\",\"Pop\",\"Pop\",\"Pop\",\"Pop\",\"Pop\",\"Pop\",\"Pop\",\"Pop\",\"Pop\",\"Pop\",\"Pop\",\"Pop\",\"Pop\",\"Pop\",\"Pop\",\"Pop\"],\"x0\":\" \",\"xaxis\":\"x\",\"y\":[1,3,4,6,8,10,12,13,14,16,21,25,26,27,32,35,37,38,40,42,43,44,50],\"y0\":\" \",\"yaxis\":\"y\",\"type\":\"box\"},{\"alignmentgroup\":\"True\",\"hovertemplate\":\"MacroGenere=%{x}<br>Position=%{y}<extra></extra>\",\"legendgroup\":\"Reggaeton\",\"marker\":{\"color\":\"#EF553B\"},\"name\":\"Reggaeton\",\"notched\":false,\"offsetgroup\":\"Reggaeton\",\"orientation\":\"v\",\"showlegend\":true,\"x\":[\"Reggaeton\",\"Reggaeton\",\"Reggaeton\",\"Reggaeton\",\"Reggaeton\",\"Reggaeton\",\"Reggaeton\",\"Reggaeton\",\"Reggaeton\",\"Reggaeton\"],\"x0\":\" \",\"xaxis\":\"x\",\"y\":[2,11,17,23,24,29,30,33,45,47],\"y0\":\" \",\"yaxis\":\"y\",\"type\":\"box\"},{\"alignmentgroup\":\"True\",\"hovertemplate\":\"MacroGenere=%{x}<br>Position=%{y}<extra></extra>\",\"legendgroup\":\"Rap\",\"marker\":{\"color\":\"#00cc96\"},\"name\":\"Rap\",\"notched\":false,\"offsetgroup\":\"Rap\",\"orientation\":\"v\",\"showlegend\":true,\"x\":[\"Rap\",\"Rap\",\"Rap\",\"Rap\",\"Rap\"],\"x0\":\" \",\"xaxis\":\"x\",\"y\":[5,7,9,18,22],\"y0\":\" \",\"yaxis\":\"y\",\"type\":\"box\"},{\"alignmentgroup\":\"True\",\"hovertemplate\":\"MacroGenere=%{x}<br>Position=%{y}<extra></extra>\",\"legendgroup\":\"Other\",\"marker\":{\"color\":\"#ab63fa\"},\"name\":\"Other\",\"notched\":false,\"offsetgroup\":\"Other\",\"orientation\":\"v\",\"showlegend\":true,\"x\":[\"Other\",\"Other\",\"Other\",\"Other\",\"Other\",\"Other\",\"Other\",\"Other\",\"Other\",\"Other\",\"Other\",\"Other\"],\"x0\":\" \",\"xaxis\":\"x\",\"y\":[15,19,20,28,31,34,36,39,41,46,48,49],\"y0\":\" \",\"yaxis\":\"y\",\"type\":\"box\"}],                        {\"template\":{\"data\":{\"bar\":[{\"error_x\":{\"color\":\"#2a3f5f\"},\"error_y\":{\"color\":\"#2a3f5f\"},\"marker\":{\"line\":{\"color\":\"#E5ECF6\",\"width\":0.5},\"pattern\":{\"fillmode\":\"overlay\",\"size\":10,\"solidity\":0.2}},\"type\":\"bar\"}],\"barpolar\":[{\"marker\":{\"line\":{\"color\":\"#E5ECF6\",\"width\":0.5},\"pattern\":{\"fillmode\":\"overlay\",\"size\":10,\"solidity\":0.2}},\"type\":\"barpolar\"}],\"carpet\":[{\"aaxis\":{\"endlinecolor\":\"#2a3f5f\",\"gridcolor\":\"white\",\"linecolor\":\"white\",\"minorgridcolor\":\"white\",\"startlinecolor\":\"#2a3f5f\"},\"baxis\":{\"endlinecolor\":\"#2a3f5f\",\"gridcolor\":\"white\",\"linecolor\":\"white\",\"minorgridcolor\":\"white\",\"startlinecolor\":\"#2a3f5f\"},\"type\":\"carpet\"}],\"choropleth\":[{\"colorbar\":{\"outlinewidth\":0,\"ticks\":\"\"},\"type\":\"choropleth\"}],\"contour\":[{\"colorbar\":{\"outlinewidth\":0,\"ticks\":\"\"},\"colorscale\":[[0.0,\"#0d0887\"],[0.1111111111111111,\"#46039f\"],[0.2222222222222222,\"#7201a8\"],[0.3333333333333333,\"#9c179e\"],[0.4444444444444444,\"#bd3786\"],[0.5555555555555556,\"#d8576b\"],[0.6666666666666666,\"#ed7953\"],[0.7777777777777778,\"#fb9f3a\"],[0.8888888888888888,\"#fdca26\"],[1.0,\"#f0f921\"]],\"type\":\"contour\"}],\"contourcarpet\":[{\"colorbar\":{\"outlinewidth\":0,\"ticks\":\"\"},\"type\":\"contourcarpet\"}],\"heatmap\":[{\"colorbar\":{\"outlinewidth\":0,\"ticks\":\"\"},\"colorscale\":[[0.0,\"#0d0887\"],[0.1111111111111111,\"#46039f\"],[0.2222222222222222,\"#7201a8\"],[0.3333333333333333,\"#9c179e\"],[0.4444444444444444,\"#bd3786\"],[0.5555555555555556,\"#d8576b\"],[0.6666666666666666,\"#ed7953\"],[0.7777777777777778,\"#fb9f3a\"],[0.8888888888888888,\"#fdca26\"],[1.0,\"#f0f921\"]],\"type\":\"heatmap\"}],\"heatmapgl\":[{\"colorbar\":{\"outlinewidth\":0,\"ticks\":\"\"},\"colorscale\":[[0.0,\"#0d0887\"],[0.1111111111111111,\"#46039f\"],[0.2222222222222222,\"#7201a8\"],[0.3333333333333333,\"#9c179e\"],[0.4444444444444444,\"#bd3786\"],[0.5555555555555556,\"#d8576b\"],[0.6666666666666666,\"#ed7953\"],[0.7777777777777778,\"#fb9f3a\"],[0.8888888888888888,\"#fdca26\"],[1.0,\"#f0f921\"]],\"type\":\"heatmapgl\"}],\"histogram\":[{\"marker\":{\"pattern\":{\"fillmode\":\"overlay\",\"size\":10,\"solidity\":0.2}},\"type\":\"histogram\"}],\"histogram2d\":[{\"colorbar\":{\"outlinewidth\":0,\"ticks\":\"\"},\"colorscale\":[[0.0,\"#0d0887\"],[0.1111111111111111,\"#46039f\"],[0.2222222222222222,\"#7201a8\"],[0.3333333333333333,\"#9c179e\"],[0.4444444444444444,\"#bd3786\"],[0.5555555555555556,\"#d8576b\"],[0.6666666666666666,\"#ed7953\"],[0.7777777777777778,\"#fb9f3a\"],[0.8888888888888888,\"#fdca26\"],[1.0,\"#f0f921\"]],\"type\":\"histogram2d\"}],\"histogram2dcontour\":[{\"colorbar\":{\"outlinewidth\":0,\"ticks\":\"\"},\"colorscale\":[[0.0,\"#0d0887\"],[0.1111111111111111,\"#46039f\"],[0.2222222222222222,\"#7201a8\"],[0.3333333333333333,\"#9c179e\"],[0.4444444444444444,\"#bd3786\"],[0.5555555555555556,\"#d8576b\"],[0.6666666666666666,\"#ed7953\"],[0.7777777777777778,\"#fb9f3a\"],[0.8888888888888888,\"#fdca26\"],[1.0,\"#f0f921\"]],\"type\":\"histogram2dcontour\"}],\"mesh3d\":[{\"colorbar\":{\"outlinewidth\":0,\"ticks\":\"\"},\"type\":\"mesh3d\"}],\"parcoords\":[{\"line\":{\"colorbar\":{\"outlinewidth\":0,\"ticks\":\"\"}},\"type\":\"parcoords\"}],\"pie\":[{\"automargin\":true,\"type\":\"pie\"}],\"scatter\":[{\"marker\":{\"colorbar\":{\"outlinewidth\":0,\"ticks\":\"\"}},\"type\":\"scatter\"}],\"scatter3d\":[{\"line\":{\"colorbar\":{\"outlinewidth\":0,\"ticks\":\"\"}},\"marker\":{\"colorbar\":{\"outlinewidth\":0,\"ticks\":\"\"}},\"type\":\"scatter3d\"}],\"scattercarpet\":[{\"marker\":{\"colorbar\":{\"outlinewidth\":0,\"ticks\":\"\"}},\"type\":\"scattercarpet\"}],\"scattergeo\":[{\"marker\":{\"colorbar\":{\"outlinewidth\":0,\"ticks\":\"\"}},\"type\":\"scattergeo\"}],\"scattergl\":[{\"marker\":{\"colorbar\":{\"outlinewidth\":0,\"ticks\":\"\"}},\"type\":\"scattergl\"}],\"scattermapbox\":[{\"marker\":{\"colorbar\":{\"outlinewidth\":0,\"ticks\":\"\"}},\"type\":\"scattermapbox\"}],\"scatterpolar\":[{\"marker\":{\"colorbar\":{\"outlinewidth\":0,\"ticks\":\"\"}},\"type\":\"scatterpolar\"}],\"scatterpolargl\":[{\"marker\":{\"colorbar\":{\"outlinewidth\":0,\"ticks\":\"\"}},\"type\":\"scatterpolargl\"}],\"scatterternary\":[{\"marker\":{\"colorbar\":{\"outlinewidth\":0,\"ticks\":\"\"}},\"type\":\"scatterternary\"}],\"surface\":[{\"colorbar\":{\"outlinewidth\":0,\"ticks\":\"\"},\"colorscale\":[[0.0,\"#0d0887\"],[0.1111111111111111,\"#46039f\"],[0.2222222222222222,\"#7201a8\"],[0.3333333333333333,\"#9c179e\"],[0.4444444444444444,\"#bd3786\"],[0.5555555555555556,\"#d8576b\"],[0.6666666666666666,\"#ed7953\"],[0.7777777777777778,\"#fb9f3a\"],[0.8888888888888888,\"#fdca26\"],[1.0,\"#f0f921\"]],\"type\":\"surface\"}],\"table\":[{\"cells\":{\"fill\":{\"color\":\"#EBF0F8\"},\"line\":{\"color\":\"white\"}},\"header\":{\"fill\":{\"color\":\"#C8D4E3\"},\"line\":{\"color\":\"white\"}},\"type\":\"table\"}]},\"layout\":{\"annotationdefaults\":{\"arrowcolor\":\"#2a3f5f\",\"arrowhead\":0,\"arrowwidth\":1},\"autotypenumbers\":\"strict\",\"coloraxis\":{\"colorbar\":{\"outlinewidth\":0,\"ticks\":\"\"}},\"colorscale\":{\"diverging\":[[0,\"#8e0152\"],[0.1,\"#c51b7d\"],[0.2,\"#de77ae\"],[0.3,\"#f1b6da\"],[0.4,\"#fde0ef\"],[0.5,\"#f7f7f7\"],[0.6,\"#e6f5d0\"],[0.7,\"#b8e186\"],[0.8,\"#7fbc41\"],[0.9,\"#4d9221\"],[1,\"#276419\"]],\"sequential\":[[0.0,\"#0d0887\"],[0.1111111111111111,\"#46039f\"],[0.2222222222222222,\"#7201a8\"],[0.3333333333333333,\"#9c179e\"],[0.4444444444444444,\"#bd3786\"],[0.5555555555555556,\"#d8576b\"],[0.6666666666666666,\"#ed7953\"],[0.7777777777777778,\"#fb9f3a\"],[0.8888888888888888,\"#fdca26\"],[1.0,\"#f0f921\"]],\"sequentialminus\":[[0.0,\"#0d0887\"],[0.1111111111111111,\"#46039f\"],[0.2222222222222222,\"#7201a8\"],[0.3333333333333333,\"#9c179e\"],[0.4444444444444444,\"#bd3786\"],[0.5555555555555556,\"#d8576b\"],[0.6666666666666666,\"#ed7953\"],[0.7777777777777778,\"#fb9f3a\"],[0.8888888888888888,\"#fdca26\"],[1.0,\"#f0f921\"]]},\"colorway\":[\"#636efa\",\"#EF553B\",\"#00cc96\",\"#ab63fa\",\"#FFA15A\",\"#19d3f3\",\"#FF6692\",\"#B6E880\",\"#FF97FF\",\"#FECB52\"],\"font\":{\"color\":\"#2a3f5f\"},\"geo\":{\"bgcolor\":\"white\",\"lakecolor\":\"white\",\"landcolor\":\"#E5ECF6\",\"showlakes\":true,\"showland\":true,\"subunitcolor\":\"white\"},\"hoverlabel\":{\"align\":\"left\"},\"hovermode\":\"closest\",\"mapbox\":{\"style\":\"light\"},\"paper_bgcolor\":\"white\",\"plot_bgcolor\":\"#E5ECF6\",\"polar\":{\"angularaxis\":{\"gridcolor\":\"white\",\"linecolor\":\"white\",\"ticks\":\"\"},\"bgcolor\":\"#E5ECF6\",\"radialaxis\":{\"gridcolor\":\"white\",\"linecolor\":\"white\",\"ticks\":\"\"}},\"scene\":{\"xaxis\":{\"backgroundcolor\":\"#E5ECF6\",\"gridcolor\":\"white\",\"gridwidth\":2,\"linecolor\":\"white\",\"showbackground\":true,\"ticks\":\"\",\"zerolinecolor\":\"white\"},\"yaxis\":{\"backgroundcolor\":\"#E5ECF6\",\"gridcolor\":\"white\",\"gridwidth\":2,\"linecolor\":\"white\",\"showbackground\":true,\"ticks\":\"\",\"zerolinecolor\":\"white\"},\"zaxis\":{\"backgroundcolor\":\"#E5ECF6\",\"gridcolor\":\"white\",\"gridwidth\":2,\"linecolor\":\"white\",\"showbackground\":true,\"ticks\":\"\",\"zerolinecolor\":\"white\"}},\"shapedefaults\":{\"line\":{\"color\":\"#2a3f5f\"}},\"ternary\":{\"aaxis\":{\"gridcolor\":\"white\",\"linecolor\":\"white\",\"ticks\":\"\"},\"baxis\":{\"gridcolor\":\"white\",\"linecolor\":\"white\",\"ticks\":\"\"},\"bgcolor\":\"#E5ECF6\",\"caxis\":{\"gridcolor\":\"white\",\"linecolor\":\"white\",\"ticks\":\"\"}},\"title\":{\"x\":0.05},\"xaxis\":{\"automargin\":true,\"gridcolor\":\"white\",\"linecolor\":\"white\",\"ticks\":\"\",\"title\":{\"standoff\":15},\"zerolinecolor\":\"white\",\"zerolinewidth\":2},\"yaxis\":{\"automargin\":true,\"gridcolor\":\"white\",\"linecolor\":\"white\",\"ticks\":\"\",\"title\":{\"standoff\":15},\"zerolinecolor\":\"white\",\"zerolinewidth\":2}}},\"xaxis\":{\"anchor\":\"y\",\"domain\":[0.0,1.0],\"title\":{\"text\":\"MacroGenere\"},\"categoryorder\":\"array\",\"categoryarray\":[\"Pop\",\"Reggaeton\",\"Rap\",\"Other\"]},\"yaxis\":{\"anchor\":\"x\",\"domain\":[0.0,1.0],\"title\":{\"text\":\"Position\"}},\"legend\":{\"title\":{\"text\":\"MacroGenere\"},\"tracegroupgap\":0},\"title\":{\"text\":\"DISTRIBUZIONE POSIZIONAMENTO in base al MACROGENERE\"},\"boxmode\":\"overlay\"},                        {\"responsive\": true}                    ).then(function(){\n",
              "                            \n",
              "var gd = document.getElementById('dec2162c-d4d1-4c0b-9851-5eea983dd0e0');\n",
              "var x = new MutationObserver(function (mutations, observer) {{\n",
              "        var display = window.getComputedStyle(gd).display;\n",
              "        if (!display || display === 'none') {{\n",
              "            console.log([gd, 'removed!']);\n",
              "            Plotly.purge(gd);\n",
              "            observer.disconnect();\n",
              "        }}\n",
              "}});\n",
              "\n",
              "// Listen for the removal of the full notebook cells\n",
              "var notebookContainer = gd.closest('#notebook-container');\n",
              "if (notebookContainer) {{\n",
              "    x.observe(notebookContainer, {childList: true});\n",
              "}}\n",
              "\n",
              "// Listen for the clearing of the current output cell\n",
              "var outputEl = gd.closest('.output');\n",
              "if (outputEl) {{\n",
              "    x.observe(outputEl, {childList: true});\n",
              "}}\n",
              "\n",
              "                        })                };                            </script>        </div>\n",
              "</body>\n",
              "</html>"
            ]
          },
          "metadata": {}
        }
      ],
      "source": [
        "fig = px.box(top50, x=\"MacroGenere\", y=\"Position\", color=\"MacroGenere\", title=\"DISTRIBUZIONE POSIZIONAMENTO in base al MACROGENERE\")\n",
        "fig.show()"
      ]
    },
    {
      "cell_type": "markdown",
      "id": "d7af907f",
      "metadata": {
        "id": "d7af907f"
      },
      "source": [
        "Il Macro genere rap spicca anche in questo box plot distinguendosi come il macro genere con varianza minore(anche dovuto dal numero minore di canzoni presenti rispetto agli altri macro generi) e posizionamento mediano maggiore.\n",
        "\n",
        "Quindi il macro genere rap è risultato essere il più popolare e il posizionato meglio."
      ]
    },
    {
      "cell_type": "markdown",
      "id": "ae237f63",
      "metadata": {
        "id": "ae237f63"
      },
      "source": [
        "### ***CORRELAZIONE ALLA POPOLARITA***"
      ]
    },
    {
      "cell_type": "markdown",
      "id": "c9921c3d",
      "metadata": {
        "id": "c9921c3d"
      },
      "source": [
        "Ora ci chiediamo, c'e' qualche correlazione tra popolazione e qualcuna delle altre features riportate dal dataset? \n",
        "Ad esempio, la lunghezza della canzone, influenza la popolarità delle canzoni? \n",
        "\n",
        "Verifichiamolo, calcolando l'**indice di correlazione di Pearson** tra le varie features a disposizione e la popolarità."
      ]
    },
    {
      "cell_type": "markdown",
      "id": "cbdfa854",
      "metadata": {
        "id": "cbdfa854"
      },
      "source": [
        "Per provare a vedere quindi se c'è una correlazione tra alcune della nostra features e la popolarità visualizziamo la correlazione tra le features con una heatmap e quindi un grafico che segna con colori più caldi le correlazioni più forti tra loro."
      ]
    },
    {
      "cell_type": "code",
      "execution_count": 18,
      "id": "d8bcdac8",
      "metadata": {
        "colab": {
          "base_uri": "https://localhost:8080/",
          "height": 329
        },
        "id": "d8bcdac8",
        "outputId": "2b4a56ab-9cd2-4628-9e06-8cd12fea6070"
      },
      "outputs": [
        {
          "output_type": "execute_result",
          "data": {
            "text/plain": [
              "<matplotlib.axes._subplots.AxesSubplot at 0x7f6b68d48c90>"
            ]
          },
          "metadata": {},
          "execution_count": 18
        },
        {
          "output_type": "display_data",
          "data": {
            "text/plain": [
              "<Figure size 432x288 with 2 Axes>"
            ],
            "image/png": "[encoded data removed]"
          },
          "metadata": {
            "needs_background": "light"
          }
        }
      ],
      "source": [
        "import seaborn as sns #importazione libreria per la heatmap sopra descritta e sotto visualizzata\n",
        "plt.title(\"Correlazione alla Popolarità\\n\", fontdict = font1)\n",
        "sns.heatmap(top50.corr(method='pearson')[['Popularity']], vmin = -1, vmax = +1, annot = True, cmap = 'coolwarm')"
      ]
    },
    {
      "cell_type": "markdown",
      "id": "5d5d4afe",
      "metadata": {
        "id": "5d5d4afe"
      },
      "source": [
        "Non si è riportata la correlazione di tutta la tabella per risaltare appunto solo la correlazione tra la popolarità e le altre features, in modo appunto da capire direttamente quali sono le più correlate ad essa.\n",
        "\n",
        "Consideriamo quindi BPM e Speechiness come features correlate positivamente anche se con un bassissimo indice di correlazione.\n",
        "\n",
        "Mentre prendiamo la Valenza della canzone come unica features correlata negativamente.\n",
        "\n",
        "Quindi le features più correlate alla popolarità sono: *BPM, SPEECHINESS E VALENCE*."
      ]
    },
    {
      "cell_type": "code",
      "execution_count": 19,
      "id": "d4f7297a",
      "metadata": {
        "id": "d4f7297a"
      },
      "outputs": [],
      "source": [
        "features_correlate_alla_popolarità = ['BPM','Speechiness','Valence']; #unite per comodità"
      ]
    },
    {
      "cell_type": "markdown",
      "id": "dd8bdf9f",
      "metadata": {
        "id": "dd8bdf9f"
      },
      "source": [
        "### ***PRECISAZIONE TEST STATISTICI***"
      ]
    },
    {
      "cell_type": "markdown",
      "id": "86c5b632",
      "metadata": {
        "id": "86c5b632"
      },
      "source": [
        "Non è possibile eseguire i test statistici visti a lezione date le seguenti motivazioni:\n",
        "\n",
        "   - ***T-TEST***:\n",
        "        - non è possibile rispettare entrambe le condizioni necessarie per eseguire il t-test ovvero:\n",
        "            - campione di almeno 30 elementi;\n",
        "            - popolazione di almeno 10 volte superiore il numero di elementi presenti dentro il campione;\n",
        "   - ***CHI-QUADRATO***:\n",
        "        - non è possibile rispettare entrambe le condizioni necessarie per eseguire il test del chi-quadrato ovvero:\n",
        "            - almeno 5 conteggi;\n",
        "            - popolazione di almeno 10 volte superiore il numero di elementi presenti dentro il campione;\n",
        "    "
      ]
    },
    {
      "cell_type": "markdown",
      "id": "646b205c",
      "metadata": {
        "id": "646b205c"
      },
      "source": [
        "# **MACHINE LEARNING**"
      ]
    },
    {
      "cell_type": "markdown",
      "id": "70153453",
      "metadata": {
        "id": "70153453"
      },
      "source": [
        "Il machine learning fornisce predizioni: dobbiamo solo vedere quale usare in base a cosa vogliamo ottenere:\n",
        "- Apprendimento Non supervisionato\n",
        "    - Dato un insieme di dati (solo dati/input, niente output), lo scopo del Machine Learning non supervisionato è identificare la presenza di stutture all’interno dei dati stessi.\n",
        "    - Idea di implementazione : \n",
        "        - predirre le canzoni più e meno popolari della classifica.\n",
        "- Apprendimento Supervisionato :\n",
        "    - Dato un insieme di coppe input-output, lo scopo del Machine Learning supervisionato è stimare una funzione capace di fittare i dati a disposizione e generalizzare a dati futuri.\n",
        "    - Idea di implementazione : \n",
        "        - predirre la popolarità della canzone a seconda delle features che la caratterizzano. \n"
      ]
    },
    {
      "cell_type": "markdown",
      "id": "8c224964",
      "metadata": {
        "id": "8c224964"
      },
      "source": [
        "### ***APPRENDIMENTO NON SUPERVISIONATO***"
      ]
    },
    {
      "cell_type": "markdown",
      "id": "245739d5",
      "metadata": {
        "id": "245739d5"
      },
      "source": [
        "In questo caso invece andiamo a rendere il problema della predizione della popolarità un problema di classificazione andando ad individuare e distinguere dalle canzoni con una popolarità alta da quelle con una popolarità bassa:"
      ]
    },
    {
      "cell_type": "markdown",
      "id": "5d0de3c1",
      "metadata": {
        "id": "5d0de3c1"
      },
      "source": [
        "Questo problema quindi possiamo \"risolverlo\" utilizzando la tecinca del clustering: ovvero una tecnica per individuare strutture (gruppi di dati \"coerenti\" rispetto ad una qualche misura) all’interno dei dati:\n",
        "\n",
        "Due elementi importanti:\n",
        "- Cluster: è un gruppo di dati che si «comporta in modo analogo»\n",
        "- Centroide: è il «centro» del cluster (ad esempio il punto medio, o centroide)\n",
        "\n",
        "Utilizziamo l'algoritmo del Kmeans per effettuare il fitting e la predizione dei dati.\n",
        "\n",
        "Definiamo la funzione della silhouette per definirci con esattezza il numero di cluster da passare in input al KMeans per ottenere un risultato migliore(crea i centroidi in modo randomico, quindi non tutte le esecuzioni porteranno allo stesso risultato).\n",
        "\n",
        "Questa funzione ci ritorna quindi un *Silhouette coefficent* = sc il quale viene calcolato effettuando questa operazione:\n",
        "\n",
        "- (b - a)/max(a,b) = sc \n",
        "\n",
        "dove,\n",
        "- b è la distanza media EXTRA_CLUSTER(più i cluster sono lontani mediamente più otterremo un buon risultato e quindi un coefficente di silhouette alto),\n",
        "- a è la distanza media INTRA_CLUSTER(più i dati all'interno dei cluster sono vicini mediamente più otterremo un buon risultato e quindi un coefficente di silhouette alto)\n",
        "\n"
      ]
    },
    {
      "cell_type": "code",
      "execution_count": 20,
      "id": "a5af42ef",
      "metadata": {
        "id": "a5af42ef"
      },
      "outputs": [],
      "source": [
        "def silhouette(x):\n",
        "    silhouette_avg = []\n",
        "    for i in range(2, 10):\n",
        "        kmeans = KMeans(n_clusters = i, max_iter = 10, random_state = 0)\n",
        "        cluster_labels = kmeans.fit_predict(x)\n",
        "        silhouette_avg.append(silhouette_score(x, cluster_labels))\n",
        "\n",
        "    plt.plot(range(2, 10), silhouette_avg,'-o')\n",
        "    plt.title('The silhouette method\\n',  fontdict = font1)\n",
        "    plt.xlabel('Number of clusters', fontdict = font2)\n",
        "    plt.ylabel('silhouette coefficient',  fontdict = font2)\n",
        "    plt.show()"
      ]
    },
    {
      "cell_type": "markdown",
      "id": "a57b56f4",
      "metadata": {
        "id": "a57b56f4"
      },
      "source": [
        "Prendiamo quindi il dataset considerando solo le features che dall'analisi precedente sono risultate le più correlate alla popolarità e standardizziamo il set ottenuto:"
      ]
    },
    {
      "cell_type": "code",
      "execution_count": 21,
      "id": "acaa4b13",
      "metadata": {
        "id": "acaa4b13"
      },
      "outputs": [],
      "source": [
        "X = top50[features_correlate_alla_popolarità]\n",
        "X = np.asarray(X)\n",
        "#standardizzo il dataset ristretto alle sole features correlare alla popolarità\n",
        "scaler = preprocessing.StandardScaler().fit(X)\n",
        "X = scaler.transform(X)"
      ]
    },
    {
      "cell_type": "markdown",
      "id": "c43a8872",
      "metadata": {
        "id": "c43a8872"
      },
      "source": [
        "Ora andiamo ad eseguire la funzione di Silhouette sopra descritta per visualizzare qual'è il miglior numero di cluster da passare come argomento all'algoritmo di k-means(il numeor di cluster associato al silhouette coefficent più alto):"
      ]
    },
    {
      "cell_type": "code",
      "execution_count": 22,
      "id": "4a471688",
      "metadata": {
        "colab": {
          "base_uri": "https://localhost:8080/",
          "height": 0
        },
        "id": "4a471688",
        "outputId": "687d938c-6ebf-4853-e150-f6d32dab6efb"
      },
      "outputs": [
        {
          "output_type": "display_data",
          "data": {
            "text/plain": [
              "<Figure size 432x288 with 1 Axes>"
            ],
            "image/png": "[encoded data removed]"
          },
          "metadata": {
            "needs_background": "light"
          }
        }
      ],
      "source": [
        "silhouette(X)"
      ]
    },
    {
      "cell_type": "markdown",
      "id": "b585c1f9",
      "metadata": {
        "id": "b585c1f9"
      },
      "source": [
        "Quindi il numero di cluster da usare è 2 con un coefficente di silhouette corrispondente di 0.46.\n",
        "\n",
        "Andiamo quindi ad eseguire l'algoritmo:"
      ]
    },
    {
      "cell_type": "code",
      "execution_count": 23,
      "id": "d1b0d092",
      "metadata": {
        "id": "d1b0d092"
      },
      "outputs": [],
      "source": [
        "kmeans=KMeans(n_clusters=2, random_state=0).fit(X)\n",
        "y=kmeans.labels_"
      ]
    },
    {
      "cell_type": "markdown",
      "id": "da1a249f",
      "metadata": {
        "id": "da1a249f"
      },
      "source": [
        "Come andiamo quindi a visualizzare il risultato? Prima di tutto assegnamo questa y ottenuta, ovvero le etichette dei cluster ottenuti ed associamole al nostro dataset aggiungendo appunto la colonna cluster:"
      ]
    },
    {
      "cell_type": "code",
      "execution_count": 24,
      "id": "704e6359",
      "metadata": {
        "id": "704e6359"
      },
      "outputs": [],
      "source": [
        "top50['cluster'] = y"
      ]
    },
    {
      "cell_type": "markdown",
      "id": "a20b2484",
      "metadata": {
        "id": "a20b2484"
      },
      "source": [
        "Ora con un diagramma a dispersione su 3 dimensioni, ovvero le 3 features usate per ottenere questi 2 gruppi di dati distinti, visualizziamo appunto l'effetto di questa clusterizzazione e cerchiamo di capire appunto se siamo riusciti ad ottenere due \"gruppi di dati\" distinti:"
      ]
    },
    {
      "cell_type": "code",
      "execution_count": 25,
      "id": "0fce7963",
      "metadata": {
        "colab": {
          "base_uri": "https://localhost:8080/",
          "height": 0
        },
        "id": "0fce7963",
        "outputId": "00ab0d1a-8ea6-485f-8150-024d96696e97"
      },
      "outputs": [
        {
          "output_type": "display_data",
          "data": {
            "text/html": [
              "<html>\n",
              "<head><meta charset=\"utf-8\" /></head>\n",
              "<body>\n",
              "    <div>            <script src=\"https://cdnjs.cloudflare.com/ajax/libs/mathjax/2.7.5/MathJax.js?config=TeX-AMS-MML_SVG\"></script><script type=\"text/javascript\">if (window.MathJax) {MathJax.Hub.Config({SVG: {font: \"STIX-Web\"}});}</script>                <script type=\"text/javascript\">window.PlotlyConfig = {MathJaxConfig: 'local'};</script>\n",
              "        <script src=\"https://cdn.plot.ly/plotly-2.8.3.min.js\"></script>                <div id=\"e4a398f3-4d23-4833-9907-52fa27cda94b\" class=\"plotly-graph-div\" style=\"height:500px; width:900px;\"></div>            <script type=\"text/javascript\">                                    window.PLOTLYENV=window.PLOTLYENV || {};                                    if (document.getElementById(\"e4a398f3-4d23-4833-9907-52fa27cda94b\")) {                    Plotly.newPlot(                        \"e4a398f3-4d23-4833-9907-52fa27cda94b\",                        [{\"marker\":{\"line\":{\"width\":1},\"size\":8},\"mode\":\"markers\",\"name\":\"Cluster 0\",\"x\":[117,105,93,150,102,111,136,96,110,101,93,90,130,158,124,154,92,92,124,98,96,94,93,85,96,98,100,114,152,138,95,104,85,96,136,98,88,176,100,104,95],\"y\":[3,9,19,7,4,9,10,7,3,5,15,5,8,11,3,8,7,4,6,10,3,6,25,4,28,15,6,6,5,6,7,3,5,3,13,12,5,6,5,3,12],\"z\":[75,61,55,18,84,35,64,38,45,10,14,91,50,41,63,48,58,80,87,54,40,66,94,36,68,18,39,32,91,95,68,40,73,32,35,75,44,80,67,50,61],\"type\":\"scatter3d\"},{\"marker\":{\"line\":{\"width\":1},\"size\":8},\"mode\":\"markers\",\"name\":\"Cluster 1\",\"x\":[190,180,135,176,176,176,135,140,176],\"y\":[46,29,38,31,20,32,30,33,34],\"z\":[70,23,56,24,76,43,68,33,62],\"type\":\"scatter3d\"}],                        {\"template\":{\"data\":{\"bar\":[{\"error_x\":{\"color\":\"#2a3f5f\"},\"error_y\":{\"color\":\"#2a3f5f\"},\"marker\":{\"line\":{\"color\":\"#E5ECF6\",\"width\":0.5},\"pattern\":{\"fillmode\":\"overlay\",\"size\":10,\"solidity\":0.2}},\"type\":\"bar\"}],\"barpolar\":[{\"marker\":{\"line\":{\"color\":\"#E5ECF6\",\"width\":0.5},\"pattern\":{\"fillmode\":\"overlay\",\"size\":10,\"solidity\":0.2}},\"type\":\"barpolar\"}],\"carpet\":[{\"aaxis\":{\"endlinecolor\":\"#2a3f5f\",\"gridcolor\":\"white\",\"linecolor\":\"white\",\"minorgridcolor\":\"white\",\"startlinecolor\":\"#2a3f5f\"},\"baxis\":{\"endlinecolor\":\"#2a3f5f\",\"gridcolor\":\"white\",\"linecolor\":\"white\",\"minorgridcolor\":\"white\",\"startlinecolor\":\"#2a3f5f\"},\"type\":\"carpet\"}],\"choropleth\":[{\"colorbar\":{\"outlinewidth\":0,\"ticks\":\"\"},\"type\":\"choropleth\"}],\"contour\":[{\"colorbar\":{\"outlinewidth\":0,\"ticks\":\"\"},\"colorscale\":[[0.0,\"#0d0887\"],[0.1111111111111111,\"#46039f\"],[0.2222222222222222,\"#7201a8\"],[0.3333333333333333,\"#9c179e\"],[0.4444444444444444,\"#bd3786\"],[0.5555555555555556,\"#d8576b\"],[0.6666666666666666,\"#ed7953\"],[0.7777777777777778,\"#fb9f3a\"],[0.8888888888888888,\"#fdca26\"],[1.0,\"#f0f921\"]],\"type\":\"contour\"}],\"contourcarpet\":[{\"colorbar\":{\"outlinewidth\":0,\"ticks\":\"\"},\"type\":\"contourcarpet\"}],\"heatmap\":[{\"colorbar\":{\"outlinewidth\":0,\"ticks\":\"\"},\"colorscale\":[[0.0,\"#0d0887\"],[0.1111111111111111,\"#46039f\"],[0.2222222222222222,\"#7201a8\"],[0.3333333333333333,\"#9c179e\"],[0.4444444444444444,\"#bd3786\"],[0.5555555555555556,\"#d8576b\"],[0.6666666666666666,\"#ed7953\"],[0.7777777777777778,\"#fb9f3a\"],[0.8888888888888888,\"#fdca26\"],[1.0,\"#f0f921\"]],\"type\":\"heatmap\"}],\"heatmapgl\":[{\"colorbar\":{\"outlinewidth\":0,\"ticks\":\"\"},\"colorscale\":[[0.0,\"#0d0887\"],[0.1111111111111111,\"#46039f\"],[0.2222222222222222,\"#7201a8\"],[0.3333333333333333,\"#9c179e\"],[0.4444444444444444,\"#bd3786\"],[0.5555555555555556,\"#d8576b\"],[0.6666666666666666,\"#ed7953\"],[0.7777777777777778,\"#fb9f3a\"],[0.8888888888888888,\"#fdca26\"],[1.0,\"#f0f921\"]],\"type\":\"heatmapgl\"}],\"histogram\":[{\"marker\":{\"pattern\":{\"fillmode\":\"overlay\",\"size\":10,\"solidity\":0.2}},\"type\":\"histogram\"}],\"histogram2d\":[{\"colorbar\":{\"outlinewidth\":0,\"ticks\":\"\"},\"colorscale\":[[0.0,\"#0d0887\"],[0.1111111111111111,\"#46039f\"],[0.2222222222222222,\"#7201a8\"],[0.3333333333333333,\"#9c179e\"],[0.4444444444444444,\"#bd3786\"],[0.5555555555555556,\"#d8576b\"],[0.6666666666666666,\"#ed7953\"],[0.7777777777777778,\"#fb9f3a\"],[0.8888888888888888,\"#fdca26\"],[1.0,\"#f0f921\"]],\"type\":\"histogram2d\"}],\"histogram2dcontour\":[{\"colorbar\":{\"outlinewidth\":0,\"ticks\":\"\"},\"colorscale\":[[0.0,\"#0d0887\"],[0.1111111111111111,\"#46039f\"],[0.2222222222222222,\"#7201a8\"],[0.3333333333333333,\"#9c179e\"],[0.4444444444444444,\"#bd3786\"],[0.5555555555555556,\"#d8576b\"],[0.6666666666666666,\"#ed7953\"],[0.7777777777777778,\"#fb9f3a\"],[0.8888888888888888,\"#fdca26\"],[1.0,\"#f0f921\"]],\"type\":\"histogram2dcontour\"}],\"mesh3d\":[{\"colorbar\":{\"outlinewidth\":0,\"ticks\":\"\"},\"type\":\"mesh3d\"}],\"parcoords\":[{\"line\":{\"colorbar\":{\"outlinewidth\":0,\"ticks\":\"\"}},\"type\":\"parcoords\"}],\"pie\":[{\"automargin\":true,\"type\":\"pie\"}],\"scatter\":[{\"marker\":{\"colorbar\":{\"outlinewidth\":0,\"ticks\":\"\"}},\"type\":\"scatter\"}],\"scatter3d\":[{\"line\":{\"colorbar\":{\"outlinewidth\":0,\"ticks\":\"\"}},\"marker\":{\"colorbar\":{\"outlinewidth\":0,\"ticks\":\"\"}},\"type\":\"scatter3d\"}],\"scattercarpet\":[{\"marker\":{\"colorbar\":{\"outlinewidth\":0,\"ticks\":\"\"}},\"type\":\"scattercarpet\"}],\"scattergeo\":[{\"marker\":{\"colorbar\":{\"outlinewidth\":0,\"ticks\":\"\"}},\"type\":\"scattergeo\"}],\"scattergl\":[{\"marker\":{\"colorbar\":{\"outlinewidth\":0,\"ticks\":\"\"}},\"type\":\"scattergl\"}],\"scattermapbox\":[{\"marker\":{\"colorbar\":{\"outlinewidth\":0,\"ticks\":\"\"}},\"type\":\"scattermapbox\"}],\"scatterpolar\":[{\"marker\":{\"colorbar\":{\"outlinewidth\":0,\"ticks\":\"\"}},\"type\":\"scatterpolar\"}],\"scatterpolargl\":[{\"marker\":{\"colorbar\":{\"outlinewidth\":0,\"ticks\":\"\"}},\"type\":\"scatterpolargl\"}],\"scatterternary\":[{\"marker\":{\"colorbar\":{\"outlinewidth\":0,\"ticks\":\"\"}},\"type\":\"scatterternary\"}],\"surface\":[{\"colorbar\":{\"outlinewidth\":0,\"ticks\":\"\"},\"colorscale\":[[0.0,\"#0d0887\"],[0.1111111111111111,\"#46039f\"],[0.2222222222222222,\"#7201a8\"],[0.3333333333333333,\"#9c179e\"],[0.4444444444444444,\"#bd3786\"],[0.5555555555555556,\"#d8576b\"],[0.6666666666666666,\"#ed7953\"],[0.7777777777777778,\"#fb9f3a\"],[0.8888888888888888,\"#fdca26\"],[1.0,\"#f0f921\"]],\"type\":\"surface\"}],\"table\":[{\"cells\":{\"fill\":{\"color\":\"#EBF0F8\"},\"line\":{\"color\":\"white\"}},\"header\":{\"fill\":{\"color\":\"#C8D4E3\"},\"line\":{\"color\":\"white\"}},\"type\":\"table\"}]},\"layout\":{\"annotationdefaults\":{\"arrowcolor\":\"#2a3f5f\",\"arrowhead\":0,\"arrowwidth\":1},\"autotypenumbers\":\"strict\",\"coloraxis\":{\"colorbar\":{\"outlinewidth\":0,\"ticks\":\"\"}},\"colorscale\":{\"diverging\":[[0,\"#8e0152\"],[0.1,\"#c51b7d\"],[0.2,\"#de77ae\"],[0.3,\"#f1b6da\"],[0.4,\"#fde0ef\"],[0.5,\"#f7f7f7\"],[0.6,\"#e6f5d0\"],[0.7,\"#b8e186\"],[0.8,\"#7fbc41\"],[0.9,\"#4d9221\"],[1,\"#276419\"]],\"sequential\":[[0.0,\"#0d0887\"],[0.1111111111111111,\"#46039f\"],[0.2222222222222222,\"#7201a8\"],[0.3333333333333333,\"#9c179e\"],[0.4444444444444444,\"#bd3786\"],[0.5555555555555556,\"#d8576b\"],[0.6666666666666666,\"#ed7953\"],[0.7777777777777778,\"#fb9f3a\"],[0.8888888888888888,\"#fdca26\"],[1.0,\"#f0f921\"]],\"sequentialminus\":[[0.0,\"#0d0887\"],[0.1111111111111111,\"#46039f\"],[0.2222222222222222,\"#7201a8\"],[0.3333333333333333,\"#9c179e\"],[0.4444444444444444,\"#bd3786\"],[0.5555555555555556,\"#d8576b\"],[0.6666666666666666,\"#ed7953\"],[0.7777777777777778,\"#fb9f3a\"],[0.8888888888888888,\"#fdca26\"],[1.0,\"#f0f921\"]]},\"colorway\":[\"#636efa\",\"#EF553B\",\"#00cc96\",\"#ab63fa\",\"#FFA15A\",\"#19d3f3\",\"#FF6692\",\"#B6E880\",\"#FF97FF\",\"#FECB52\"],\"font\":{\"color\":\"#2a3f5f\"},\"geo\":{\"bgcolor\":\"white\",\"lakecolor\":\"white\",\"landcolor\":\"#E5ECF6\",\"showlakes\":true,\"showland\":true,\"subunitcolor\":\"white\"},\"hoverlabel\":{\"align\":\"left\"},\"hovermode\":\"closest\",\"mapbox\":{\"style\":\"light\"},\"paper_bgcolor\":\"white\",\"plot_bgcolor\":\"#E5ECF6\",\"polar\":{\"angularaxis\":{\"gridcolor\":\"white\",\"linecolor\":\"white\",\"ticks\":\"\"},\"bgcolor\":\"#E5ECF6\",\"radialaxis\":{\"gridcolor\":\"white\",\"linecolor\":\"white\",\"ticks\":\"\"}},\"scene\":{\"xaxis\":{\"backgroundcolor\":\"#E5ECF6\",\"gridcolor\":\"white\",\"gridwidth\":2,\"linecolor\":\"white\",\"showbackground\":true,\"ticks\":\"\",\"zerolinecolor\":\"white\"},\"yaxis\":{\"backgroundcolor\":\"#E5ECF6\",\"gridcolor\":\"white\",\"gridwidth\":2,\"linecolor\":\"white\",\"showbackground\":true,\"ticks\":\"\",\"zerolinecolor\":\"white\"},\"zaxis\":{\"backgroundcolor\":\"#E5ECF6\",\"gridcolor\":\"white\",\"gridwidth\":2,\"linecolor\":\"white\",\"showbackground\":true,\"ticks\":\"\",\"zerolinecolor\":\"white\"}},\"shapedefaults\":{\"line\":{\"color\":\"#2a3f5f\"}},\"ternary\":{\"aaxis\":{\"gridcolor\":\"white\",\"linecolor\":\"white\",\"ticks\":\"\"},\"baxis\":{\"gridcolor\":\"white\",\"linecolor\":\"white\",\"ticks\":\"\"},\"bgcolor\":\"#E5ECF6\",\"caxis\":{\"gridcolor\":\"white\",\"linecolor\":\"white\",\"ticks\":\"\"}},\"title\":{\"x\":0.05},\"xaxis\":{\"automargin\":true,\"gridcolor\":\"white\",\"linecolor\":\"white\",\"ticks\":\"\",\"title\":{\"standoff\":15},\"zerolinecolor\":\"white\",\"zerolinewidth\":2},\"yaxis\":{\"automargin\":true,\"gridcolor\":\"white\",\"linecolor\":\"white\",\"ticks\":\"\",\"title\":{\"standoff\":15},\"zerolinecolor\":\"white\",\"zerolinewidth\":2}}},\"scene\":{\"xaxis\":{\"title\":{\"text\":\"BPM\",\"font\":{\"color\":\"black\"}}},\"yaxis\":{\"title\":{\"text\":\"Speechiness\",\"font\":{\"color\":\"black\"}}},\"zaxis\":{\"title\":{\"text\":\"Valence\",\"font\":{\"color\":\"black\"}}}},\"font\":{\"family\":\"Gilroy\",\"color\":\"black\",\"size\":12},\"width\":900,\"height\":500,\"autosize\":true,\"showlegend\":true,\"title\":{\"text\":\"Visualizzazione Cluster sulle 3 features usate: BPM(asse x), Valence(asse y), Speechinees(asse z)\"}},                        {\"responsive\": true}                    ).then(function(){\n",
              "                            \n",
              "var gd = document.getElementById('e4a398f3-4d23-4833-9907-52fa27cda94b');\n",
              "var x = new MutationObserver(function (mutations, observer) {{\n",
              "        var display = window.getComputedStyle(gd).display;\n",
              "        if (!display || display === 'none') {{\n",
              "            console.log([gd, 'removed!']);\n",
              "            Plotly.purge(gd);\n",
              "            observer.disconnect();\n",
              "        }}\n",
              "}});\n",
              "\n",
              "// Listen for the removal of the full notebook cells\n",
              "var notebookContainer = gd.closest('#notebook-container');\n",
              "if (notebookContainer) {{\n",
              "    x.observe(notebookContainer, {childList: true});\n",
              "}}\n",
              "\n",
              "// Listen for the clearing of the current output cell\n",
              "var outputEl = gd.closest('.output');\n",
              "if (outputEl) {{\n",
              "    x.observe(outputEl, {childList: true});\n",
              "}}\n",
              "\n",
              "                        })                };                            </script>        </div>\n",
              "</body>\n",
              "</html>"
            ]
          },
          "metadata": {}
        }
      ],
      "source": [
        "PLOT = go.Figure()\n",
        "\n",
        "for C in list(top50.cluster.unique()):\n",
        "    \n",
        "    PLOT.add_trace(go.Scatter3d(x = top50[top50.cluster == C]['BPM'],\n",
        "                                y = top50[top50.cluster == C]['Speechiness'],\n",
        "                                z = top50[top50.cluster == C]['Valence'],\n",
        "                                mode = 'markers', marker_size = 8, marker_line_width = 1,\n",
        "                                name = 'Cluster ' + str(C)))\n",
        "\n",
        "PLOT.update_layout(width = 900, height = 500, autosize = True, showlegend = True,\n",
        "                   scene = dict(xaxis=dict(title = 'BPM', titlefont_color = 'black'),\n",
        "                                yaxis=dict(title = 'Speechiness', titlefont_color = 'black'),\n",
        "                                zaxis=dict(title = 'Valence', titlefont_color = 'black')),\n",
        "                   font = dict(family = \"Gilroy\", color  = 'black', size = 12),\n",
        "                   title = \"Visualizzazione Cluster sulle 3 features usate: BPM(asse x), Valence(asse y), Speechinees(asse z)\")"
      ]
    },
    {
      "cell_type": "markdown",
      "id": "eb66eed1",
      "metadata": {
        "id": "eb66eed1"
      },
      "source": [
        "Effettivamente si riescono proprio a distinguere due gruppi di dati distinti e quindi possiamo ritenerci soddisfatti della clusterizzazione ottenuta.\n",
        "\n",
        "Per avere un ulteriore riscontro di ciò visualizzato sopra andiamo a vedere se siamo riusciti a \"staccare\" la features di popolarità dalle sue correlate e quindi se siamo effettivamente riusciti ad ottenere due gruppi di dati distinti per quanto riguarda la popolarità.\n",
        "\n",
        "Saremo quindi contenti se otteniamo due cluster ben distinti in cui in uno sono contenute le canzoni meno popolari in classifica e nell'altro le canzoni più popolari:"
      ]
    },
    {
      "cell_type": "code",
      "execution_count": 26,
      "id": "3e598dbb",
      "metadata": {
        "colab": {
          "base_uri": "https://localhost:8080/",
          "height": 0
        },
        "id": "3e598dbb",
        "outputId": "f8902755-daee-493c-e733-575d9a7ba6e8"
      },
      "outputs": [
        {
          "output_type": "display_data",
          "data": {
            "text/html": [
              "<html>\n",
              "<head><meta charset=\"utf-8\" /></head>\n",
              "<body>\n",
              "    <div>            <script src=\"https://cdnjs.cloudflare.com/ajax/libs/mathjax/2.7.5/MathJax.js?config=TeX-AMS-MML_SVG\"></script><script type=\"text/javascript\">if (window.MathJax) {MathJax.Hub.Config({SVG: {font: \"STIX-Web\"}});}</script>                <script type=\"text/javascript\">window.PlotlyConfig = {MathJaxConfig: 'local'};</script>\n",
              "        <script src=\"https://cdn.plot.ly/plotly-2.8.3.min.js\"></script>                <div id=\"d714802c-d56c-48d1-983e-678f068d82cf\" class=\"plotly-graph-div\" style=\"height:525px; width:100%;\"></div>            <script type=\"text/javascript\">                                    window.PLOTLYENV=window.PLOTLYENV || {};                                    if (document.getElementById(\"d714802c-d56c-48d1-983e-678f068d82cf\")) {                    Plotly.newPlot(                        \"d714802c-d56c-48d1-983e-678f068d82cf\",                        [{\"alignmentgroup\":\"True\",\"hovertemplate\":\"cluster=%{x}<br>Popularity=%{y}<extra></extra>\",\"legendgroup\":\"0\",\"marker\":{\"color\":\"#636efa\"},\"name\":\"0\",\"notched\":false,\"offsetgroup\":\"0\",\"orientation\":\"v\",\"showlegend\":true,\"x\":[0,0,0,0,0,0,0,0,0,0,0,0,0,0,0,0,0,0,0,0,0,0,0,0,0,0,0,0,0,0,0,0,0,0,0,0,0,0,0,0,0],\"x0\":\" \",\"xaxis\":\"x\",\"y\":[79,92,86,94,84,90,87,86,88,92,82,91,88,91,91,91,83,91,70,83,89,91,89,84,89,89,89,89,87,80,78,88,90,87,84,88,88,88,88,88,82],\"y0\":\" \",\"yaxis\":\"y\",\"type\":\"box\"},{\"alignmentgroup\":\"True\",\"hovertemplate\":\"cluster=%{x}<br>Popularity=%{y}<extra></extra>\",\"legendgroup\":\"1\",\"marker\":{\"color\":\"#EF553B\"},\"name\":\"1\",\"notched\":false,\"offsetgroup\":\"1\",\"orientation\":\"v\",\"showlegend\":true,\"x\":[1,1,1,1,1,1,1,1,1],\"x0\":\" \",\"xaxis\":\"x\",\"y\":[85,92,95,93,87,90,89,89,91],\"y0\":\" \",\"yaxis\":\"y\",\"type\":\"box\"}],                        {\"template\":{\"data\":{\"bar\":[{\"error_x\":{\"color\":\"#2a3f5f\"},\"error_y\":{\"color\":\"#2a3f5f\"},\"marker\":{\"line\":{\"color\":\"#E5ECF6\",\"width\":0.5},\"pattern\":{\"fillmode\":\"overlay\",\"size\":10,\"solidity\":0.2}},\"type\":\"bar\"}],\"barpolar\":[{\"marker\":{\"line\":{\"color\":\"#E5ECF6\",\"width\":0.5},\"pattern\":{\"fillmode\":\"overlay\",\"size\":10,\"solidity\":0.2}},\"type\":\"barpolar\"}],\"carpet\":[{\"aaxis\":{\"endlinecolor\":\"#2a3f5f\",\"gridcolor\":\"white\",\"linecolor\":\"white\",\"minorgridcolor\":\"white\",\"startlinecolor\":\"#2a3f5f\"},\"baxis\":{\"endlinecolor\":\"#2a3f5f\",\"gridcolor\":\"white\",\"linecolor\":\"white\",\"minorgridcolor\":\"white\",\"startlinecolor\":\"#2a3f5f\"},\"type\":\"carpet\"}],\"choropleth\":[{\"colorbar\":{\"outlinewidth\":0,\"ticks\":\"\"},\"type\":\"choropleth\"}],\"contour\":[{\"colorbar\":{\"outlinewidth\":0,\"ticks\":\"\"},\"colorscale\":[[0.0,\"#0d0887\"],[0.1111111111111111,\"#46039f\"],[0.2222222222222222,\"#7201a8\"],[0.3333333333333333,\"#9c179e\"],[0.4444444444444444,\"#bd3786\"],[0.5555555555555556,\"#d8576b\"],[0.6666666666666666,\"#ed7953\"],[0.7777777777777778,\"#fb9f3a\"],[0.8888888888888888,\"#fdca26\"],[1.0,\"#f0f921\"]],\"type\":\"contour\"}],\"contourcarpet\":[{\"colorbar\":{\"outlinewidth\":0,\"ticks\":\"\"},\"type\":\"contourcarpet\"}],\"heatmap\":[{\"colorbar\":{\"outlinewidth\":0,\"ticks\":\"\"},\"colorscale\":[[0.0,\"#0d0887\"],[0.1111111111111111,\"#46039f\"],[0.2222222222222222,\"#7201a8\"],[0.3333333333333333,\"#9c179e\"],[0.4444444444444444,\"#bd3786\"],[0.5555555555555556,\"#d8576b\"],[0.6666666666666666,\"#ed7953\"],[0.7777777777777778,\"#fb9f3a\"],[0.8888888888888888,\"#fdca26\"],[1.0,\"#f0f921\"]],\"type\":\"heatmap\"}],\"heatmapgl\":[{\"colorbar\":{\"outlinewidth\":0,\"ticks\":\"\"},\"colorscale\":[[0.0,\"#0d0887\"],[0.1111111111111111,\"#46039f\"],[0.2222222222222222,\"#7201a8\"],[0.3333333333333333,\"#9c179e\"],[0.4444444444444444,\"#bd3786\"],[0.5555555555555556,\"#d8576b\"],[0.6666666666666666,\"#ed7953\"],[0.7777777777777778,\"#fb9f3a\"],[0.8888888888888888,\"#fdca26\"],[1.0,\"#f0f921\"]],\"type\":\"heatmapgl\"}],\"histogram\":[{\"marker\":{\"pattern\":{\"fillmode\":\"overlay\",\"size\":10,\"solidity\":0.2}},\"type\":\"histogram\"}],\"histogram2d\":[{\"colorbar\":{\"outlinewidth\":0,\"ticks\":\"\"},\"colorscale\":[[0.0,\"#0d0887\"],[0.1111111111111111,\"#46039f\"],[0.2222222222222222,\"#7201a8\"],[0.3333333333333333,\"#9c179e\"],[0.4444444444444444,\"#bd3786\"],[0.5555555555555556,\"#d8576b\"],[0.6666666666666666,\"#ed7953\"],[0.7777777777777778,\"#fb9f3a\"],[0.8888888888888888,\"#fdca26\"],[1.0,\"#f0f921\"]],\"type\":\"histogram2d\"}],\"histogram2dcontour\":[{\"colorbar\":{\"outlinewidth\":0,\"ticks\":\"\"},\"colorscale\":[[0.0,\"#0d0887\"],[0.1111111111111111,\"#46039f\"],[0.2222222222222222,\"#7201a8\"],[0.3333333333333333,\"#9c179e\"],[0.4444444444444444,\"#bd3786\"],[0.5555555555555556,\"#d8576b\"],[0.6666666666666666,\"#ed7953\"],[0.7777777777777778,\"#fb9f3a\"],[0.8888888888888888,\"#fdca26\"],[1.0,\"#f0f921\"]],\"type\":\"histogram2dcontour\"}],\"mesh3d\":[{\"colorbar\":{\"outlinewidth\":0,\"ticks\":\"\"},\"type\":\"mesh3d\"}],\"parcoords\":[{\"line\":{\"colorbar\":{\"outlinewidth\":0,\"ticks\":\"\"}},\"type\":\"parcoords\"}],\"pie\":[{\"automargin\":true,\"type\":\"pie\"}],\"scatter\":[{\"marker\":{\"colorbar\":{\"outlinewidth\":0,\"ticks\":\"\"}},\"type\":\"scatter\"}],\"scatter3d\":[{\"line\":{\"colorbar\":{\"outlinewidth\":0,\"ticks\":\"\"}},\"marker\":{\"colorbar\":{\"outlinewidth\":0,\"ticks\":\"\"}},\"type\":\"scatter3d\"}],\"scattercarpet\":[{\"marker\":{\"colorbar\":{\"outlinewidth\":0,\"ticks\":\"\"}},\"type\":\"scattercarpet\"}],\"scattergeo\":[{\"marker\":{\"colorbar\":{\"outlinewidth\":0,\"ticks\":\"\"}},\"type\":\"scattergeo\"}],\"scattergl\":[{\"marker\":{\"colorbar\":{\"outlinewidth\":0,\"ticks\":\"\"}},\"type\":\"scattergl\"}],\"scattermapbox\":[{\"marker\":{\"colorbar\":{\"outlinewidth\":0,\"ticks\":\"\"}},\"type\":\"scattermapbox\"}],\"scatterpolar\":[{\"marker\":{\"colorbar\":{\"outlinewidth\":0,\"ticks\":\"\"}},\"type\":\"scatterpolar\"}],\"scatterpolargl\":[{\"marker\":{\"colorbar\":{\"outlinewidth\":0,\"ticks\":\"\"}},\"type\":\"scatterpolargl\"}],\"scatterternary\":[{\"marker\":{\"colorbar\":{\"outlinewidth\":0,\"ticks\":\"\"}},\"type\":\"scatterternary\"}],\"surface\":[{\"colorbar\":{\"outlinewidth\":0,\"ticks\":\"\"},\"colorscale\":[[0.0,\"#0d0887\"],[0.1111111111111111,\"#46039f\"],[0.2222222222222222,\"#7201a8\"],[0.3333333333333333,\"#9c179e\"],[0.4444444444444444,\"#bd3786\"],[0.5555555555555556,\"#d8576b\"],[0.6666666666666666,\"#ed7953\"],[0.7777777777777778,\"#fb9f3a\"],[0.8888888888888888,\"#fdca26\"],[1.0,\"#f0f921\"]],\"type\":\"surface\"}],\"table\":[{\"cells\":{\"fill\":{\"color\":\"#EBF0F8\"},\"line\":{\"color\":\"white\"}},\"header\":{\"fill\":{\"color\":\"#C8D4E3\"},\"line\":{\"color\":\"white\"}},\"type\":\"table\"}]},\"layout\":{\"annotationdefaults\":{\"arrowcolor\":\"#2a3f5f\",\"arrowhead\":0,\"arrowwidth\":1},\"autotypenumbers\":\"strict\",\"coloraxis\":{\"colorbar\":{\"outlinewidth\":0,\"ticks\":\"\"}},\"colorscale\":{\"diverging\":[[0,\"#8e0152\"],[0.1,\"#c51b7d\"],[0.2,\"#de77ae\"],[0.3,\"#f1b6da\"],[0.4,\"#fde0ef\"],[0.5,\"#f7f7f7\"],[0.6,\"#e6f5d0\"],[0.7,\"#b8e186\"],[0.8,\"#7fbc41\"],[0.9,\"#4d9221\"],[1,\"#276419\"]],\"sequential\":[[0.0,\"#0d0887\"],[0.1111111111111111,\"#46039f\"],[0.2222222222222222,\"#7201a8\"],[0.3333333333333333,\"#9c179e\"],[0.4444444444444444,\"#bd3786\"],[0.5555555555555556,\"#d8576b\"],[0.6666666666666666,\"#ed7953\"],[0.7777777777777778,\"#fb9f3a\"],[0.8888888888888888,\"#fdca26\"],[1.0,\"#f0f921\"]],\"sequentialminus\":[[0.0,\"#0d0887\"],[0.1111111111111111,\"#46039f\"],[0.2222222222222222,\"#7201a8\"],[0.3333333333333333,\"#9c179e\"],[0.4444444444444444,\"#bd3786\"],[0.5555555555555556,\"#d8576b\"],[0.6666666666666666,\"#ed7953\"],[0.7777777777777778,\"#fb9f3a\"],[0.8888888888888888,\"#fdca26\"],[1.0,\"#f0f921\"]]},\"colorway\":[\"#636efa\",\"#EF553B\",\"#00cc96\",\"#ab63fa\",\"#FFA15A\",\"#19d3f3\",\"#FF6692\",\"#B6E880\",\"#FF97FF\",\"#FECB52\"],\"font\":{\"color\":\"#2a3f5f\"},\"geo\":{\"bgcolor\":\"white\",\"lakecolor\":\"white\",\"landcolor\":\"#E5ECF6\",\"showlakes\":true,\"showland\":true,\"subunitcolor\":\"white\"},\"hoverlabel\":{\"align\":\"left\"},\"hovermode\":\"closest\",\"mapbox\":{\"style\":\"light\"},\"paper_bgcolor\":\"white\",\"plot_bgcolor\":\"#E5ECF6\",\"polar\":{\"angularaxis\":{\"gridcolor\":\"white\",\"linecolor\":\"white\",\"ticks\":\"\"},\"bgcolor\":\"#E5ECF6\",\"radialaxis\":{\"gridcolor\":\"white\",\"linecolor\":\"white\",\"ticks\":\"\"}},\"scene\":{\"xaxis\":{\"backgroundcolor\":\"#E5ECF6\",\"gridcolor\":\"white\",\"gridwidth\":2,\"linecolor\":\"white\",\"showbackground\":true,\"ticks\":\"\",\"zerolinecolor\":\"white\"},\"yaxis\":{\"backgroundcolor\":\"#E5ECF6\",\"gridcolor\":\"white\",\"gridwidth\":2,\"linecolor\":\"white\",\"showbackground\":true,\"ticks\":\"\",\"zerolinecolor\":\"white\"},\"zaxis\":{\"backgroundcolor\":\"#E5ECF6\",\"gridcolor\":\"white\",\"gridwidth\":2,\"linecolor\":\"white\",\"showbackground\":true,\"ticks\":\"\",\"zerolinecolor\":\"white\"}},\"shapedefaults\":{\"line\":{\"color\":\"#2a3f5f\"}},\"ternary\":{\"aaxis\":{\"gridcolor\":\"white\",\"linecolor\":\"white\",\"ticks\":\"\"},\"baxis\":{\"gridcolor\":\"white\",\"linecolor\":\"white\",\"ticks\":\"\"},\"bgcolor\":\"#E5ECF6\",\"caxis\":{\"gridcolor\":\"white\",\"linecolor\":\"white\",\"ticks\":\"\"}},\"title\":{\"x\":0.05},\"xaxis\":{\"automargin\":true,\"gridcolor\":\"white\",\"linecolor\":\"white\",\"ticks\":\"\",\"title\":{\"standoff\":15},\"zerolinecolor\":\"white\",\"zerolinewidth\":2},\"yaxis\":{\"automargin\":true,\"gridcolor\":\"white\",\"linecolor\":\"white\",\"ticks\":\"\",\"title\":{\"standoff\":15},\"zerolinecolor\":\"white\",\"zerolinewidth\":2}}},\"xaxis\":{\"anchor\":\"y\",\"domain\":[0.0,1.0],\"title\":{\"text\":\"cluster\"},\"categoryorder\":\"array\",\"categoryarray\":[0,1]},\"yaxis\":{\"anchor\":\"x\",\"domain\":[0.0,1.0],\"title\":{\"text\":\"Popularity\"}},\"legend\":{\"title\":{\"text\":\"cluster\"},\"tracegroupgap\":0},\"title\":{\"text\":\"Popolarit\\u00e0 in base ai Cluster generati\"},\"boxmode\":\"overlay\"},                        {\"responsive\": true}                    ).then(function(){\n",
              "                            \n",
              "var gd = document.getElementById('d714802c-d56c-48d1-983e-678f068d82cf');\n",
              "var x = new MutationObserver(function (mutations, observer) {{\n",
              "        var display = window.getComputedStyle(gd).display;\n",
              "        if (!display || display === 'none') {{\n",
              "            console.log([gd, 'removed!']);\n",
              "            Plotly.purge(gd);\n",
              "            observer.disconnect();\n",
              "        }}\n",
              "}});\n",
              "\n",
              "// Listen for the removal of the full notebook cells\n",
              "var notebookContainer = gd.closest('#notebook-container');\n",
              "if (notebookContainer) {{\n",
              "    x.observe(notebookContainer, {childList: true});\n",
              "}}\n",
              "\n",
              "// Listen for the clearing of the current output cell\n",
              "var outputEl = gd.closest('.output');\n",
              "if (outputEl) {{\n",
              "    x.observe(outputEl, {childList: true});\n",
              "}}\n",
              "\n",
              "                        })                };                            </script>        </div>\n",
              "</body>\n",
              "</html>"
            ]
          },
          "metadata": {}
        }
      ],
      "source": [
        "fig = px.box(top50, x=\"cluster\", y=\"Popularity\", color=\"cluster\", title=\"Popolarità in base ai Cluster generati\")\n",
        "fig.show()"
      ]
    },
    {
      "cell_type": "markdown",
      "id": "98a9a0f6",
      "metadata": {
        "id": "98a9a0f6"
      },
      "source": [
        "Vediamo anche da questo box plot quindi che siamo riusciti a separare la popolarità dalle features che abbiamo usato per ottenere questa predizione su insiemi di dati comuni: ciò ci da quindi la possibilità di ottenere due cluster:\n",
        "- cluster 0 dove vi sono canzoni meno popolari rispetto all'altro cluster;\n",
        "- cluster 1 che invece contien canzoni prevalentemente più popolari rispetto appunto all'altro cluster."
      ]
    },
    {
      "cell_type": "markdown",
      "id": "46a12185",
      "metadata": {
        "id": "46a12185"
      },
      "source": [
        "### ***APPRENDIMENTO SUPERVISIONATO***"
      ]
    },
    {
      "cell_type": "markdown",
      "id": "f0a74132",
      "metadata": {
        "id": "f0a74132"
      },
      "source": [
        "Utilizziamo quindi l'apprendimento supervisionato per vedere se riusciamo a predirre la popolarità della canzone a seconda delle features che la caratterizzano.\n",
        "\n",
        "Utilizziamo il calcolo degli errori sulle predizioni confrontandole con un modello nullo per vedere quante caratteristiche dobbiamo utilizzare per riuscire a predirre con maggiore successo appunto questa proprietà"
      ]
    },
    {
      "cell_type": "markdown",
      "id": "6a0af27f",
      "metadata": {
        "id": "6a0af27f"
      },
      "source": [
        "Alleniamo quindi un modello di regressione lineare. \n",
        "\n",
        "Ricordate che dobbiamo dividere il dataset a disposizione in due diversi gruppi:\n",
        "\n",
        "- Training Set\n",
        "- Validation Set\n",
        "\n",
        "Eseguiamo 70/30 per training/test.\n",
        "\n",
        "Andiamo quindi a calcolarci questi errori che ci permetteranno di valutare i modelli a regressione di machine learning:\n",
        "\n",
        "- lo scarto medio assoluto (MAE - Mean Absolute Error);\n",
        "- l’errore quadratico medio (MSE - Mean Squared Error);\n",
        "- la radice dell’errore quadratico medio (RMSE - Root of Mean Squared Error)."
      ]
    },
    {
      "cell_type": "code",
      "execution_count": 27,
      "id": "d0f72c54",
      "metadata": {
        "id": "d0f72c54"
      },
      "outputs": [],
      "source": [
        "def MSE (y_pred,y_true):\n",
        "    return 1/y_pred.shape[0]*np.sum((y_pred-y_true)**2)\n",
        "def MAE (y_pred,y_true):\n",
        "    return 1/y_pred.shape[0]*np.sum(np.abs(y_pred-y_true))\n",
        "def RMSE (y_pred,y_true):\n",
        "    return np.sqrt(1/y_pred.shape[0]*np.sum((y_pred-y_true)**2))"
      ]
    },
    {
      "cell_type": "markdown",
      "id": "d201c73c",
      "metadata": {
        "id": "d201c73c"
      },
      "source": [
        "Adesso possiamo usare il modello imparato, per effettuare predizioni sul validation set. E' sufficiente usare la funzione predict sull'oggetto restituito da fit, passando come argomento x_valid"
      ]
    },
    {
      "cell_type": "markdown",
      "id": "3377551f",
      "metadata": {
        "id": "3377551f"
      },
      "source": [
        "Verifichiamo se si può effettuare questa predizione con più features, successivamente con le features correlate prese insieme."
      ]
    },
    {
      "cell_type": "code",
      "execution_count": 28,
      "id": "a0eb1396",
      "metadata": {
        "scrolled": true,
        "colab": {
          "base_uri": "https://localhost:8080/"
        },
        "id": "a0eb1396",
        "outputId": "425c6562-e847-498e-9956-580da3344792"
      },
      "outputs": [
        {
          "output_type": "stream",
          "name": "stdout",
          "text": [
            "['BPM' 'Energy' 'Danceability' 'Loudness' 'Liveness' 'Valence' 'Length'\n",
            " 'Acousticness' 'Speechiness']\n",
            "\n",
            "Con tutte le features a nostra disposizione:\n",
            "\n",
            "MAE: 4.589901697647539\n",
            "MSE: 34.88193531379405\n",
            "RMSE: 5.906093066807706\n",
            "\n",
            "Solo con le features correlate trovate nella analisi precedente:\n",
            "\n",
            "['BPM', 'Speechiness', 'Valence']\n",
            "MAE: 2.877948501776448\n",
            "MSE: 13.61125201396483\n",
            "RMSE: 3.6893430328399703\n"
          ]
        }
      ],
      "source": [
        "#utilizzare tutte le features insieme\n",
        "features = np.asarray(list(quantitative_top50.columns))[1:quantitative_top50.shape[1]-1]\n",
        "print(features)\n",
        "x = top50[features]\n",
        "y = top50['Popularity']\n",
        "regressor = LinearRegression()\n",
        "x_train, x_valid, y_train, y_valid = train_test_split(x, y, test_size = 0.3,  random_state = 10)\n",
        "lin_reg = regressor.fit(x_train, y_train)\n",
        "y_pred = lin_reg.predict(x_valid)\n",
        "print('\\nCon tutte le features a nostra disposizione:\\n')\n",
        "print('MAE:', MAE(y_pred,y_valid))\n",
        "print('MSE:', MSE(y_pred,y_valid))\n",
        "print('RMSE:', RMSE(y_pred, y_valid))\n",
        "\n",
        "\n",
        "#features correlate alla popolarità, insieme\n",
        "print('\\nSolo con le features correlate trovate nella analisi precedente:\\n')\n",
        "print(features_correlate_alla_popolarità)\n",
        "x = top50[features_correlate_alla_popolarità]\n",
        "y = top50['Popularity']\n",
        "regressor = LinearRegression()\n",
        "x_train, x_valid, y_train, y_valid = train_test_split(x, y, test_size = 0.3,  random_state = 10)\n",
        "lin_reg = regressor.fit(x_train, y_train)\n",
        "y_pred = lin_reg.predict(x_valid)\n",
        "print('MAE:', MAE(y_pred,y_valid))\n",
        "print('MSE:', MSE(y_pred,y_valid))\n",
        "print('RMSE:', RMSE(y_pred, y_valid))"
      ]
    },
    {
      "cell_type": "markdown",
      "id": "43ac6a0c",
      "metadata": {
        "id": "43ac6a0c"
      },
      "source": [
        "Possiamo notare subito come l'errore diminuisce con l'uso delle features che prima sono risultate essere le più correlate alla popolarità.\n",
        "\n",
        "Bisogna comunque precisare che data la scarsità di dati a nostra disposizione questi valori sopra raccolti \"sballano\" molto di esecuzione in esecuzione proprio perchè i dati vengono splittati al 70% nel training test e il 30% nel validation test in modo completamente casuale."
      ]
    },
    {
      "cell_type": "markdown",
      "source": [
        "E ora con le features correlate una alla volta"
      ],
      "metadata": {
        "id": "2KoCAlt7_AV3"
      },
      "id": "2KoCAlt7_AV3"
    },
    {
      "cell_type": "code",
      "execution_count": 29,
      "id": "b4a579d5",
      "metadata": {
        "colab": {
          "base_uri": "https://localhost:8080/",
          "height": 1000
        },
        "id": "b4a579d5",
        "outputId": "260cbed6-56b5-4bd2-e94c-2de6d134cf96"
      },
      "outputs": [
        {
          "output_type": "stream",
          "name": "stdout",
          "text": [
            "BPM :\n",
            "intercept: 84.37300588037397\n",
            "coefficient: [0.02492158]\n",
            "MAE: 2.741935990749343\n",
            "MSE: 11.829668657730775\n",
            "RMSE: 3.4394285365058503 \n",
            "\n",
            "Speechiness :\n",
            "intercept: 85.78458475447557\n",
            "coefficient: [0.13350849]\n",
            "MAE: 2.938471748508142\n",
            "MSE: 14.080034646060911\n",
            "RMSE: 3.752337224459032 \n",
            "\n",
            "Valence :\n",
            "intercept: 91.15749512555108\n",
            "coefficient: [-0.06963338]\n",
            "MAE: 2.8796683987368565\n",
            "MSE: 12.327602460926675\n",
            "RMSE: 3.5110685639740327 \n",
            "\n"
          ]
        },
        {
          "output_type": "display_data",
          "data": {
            "text/plain": [
              "<Figure size 1080x360 with 2 Axes>"
            ],
            "image/png": "[encoded data removed]"
          },
          "metadata": {
            "needs_background": "light"
          }
        },
        {
          "output_type": "display_data",
          "data": {
            "text/plain": [
              "<Figure size 1080x360 with 2 Axes>"
            ],
            "image/png": "[encoded data removed]"
          },
          "metadata": {
            "needs_background": "light"
          }
        },
        {
          "output_type": "display_data",
          "data": {
            "text/plain": [
              "<Figure size 1080x360 with 2 Axes>"
            ],
            "image/png": "[encoded data removed]"
          },
          "metadata": {
            "needs_background": "light"
          }
        }
      ],
      "source": [
        "for i in range(0, len(features_correlate_alla_popolarità)):\n",
        "    features = features_correlate_alla_popolarità[i]\n",
        "    x = top50[[features]]\n",
        "    y = top50['Popularity']\n",
        "    X_train, X_valid, y_train, y_valid = train_test_split(x, y, test_size = 0.3, random_state = 10)\n",
        "\n",
        "    regressor = LinearRegression()\n",
        "    lin_reg = regressor.fit(X_train, y_train)\n",
        "    \n",
        "    print(features,':')\n",
        "    print('intercept:', lin_reg.intercept_)\n",
        "    print('coefficient:', lin_reg.coef_)\n",
        "    \n",
        "    f = plt.figure(figsize=(15,5))\n",
        "    ax = f.add_subplot(121)\n",
        "    ax2 = f.add_subplot(122)\n",
        "\n",
        "    ax.scatter(X_train, y_train, alpha = 0.2)\n",
        "    y_hat = X_train*lin_reg.coef_ + lin_reg.intercept_\n",
        "    ax.plot(X_train, y_hat, color='r')\n",
        "    ax.set_ylabel(\"Popolarità\", fontdict = font2)\n",
        "    ax.set_xlabel(features, fontdict = font2)\n",
        "    ax.set_title(\"\\n Training Set \" + features, fontdict = font2)\n",
        "    \n",
        "    \n",
        "    y_hat = regressor.predict(X_valid)\n",
        "    ax2.scatter(X_valid, y_hat)\n",
        "    ax2.scatter(X_valid, y_valid, c = 'r', alpha = 0.2)\n",
        "    ax2.set_ylabel(\"Popolarità\", fontdict = font2)\n",
        "    ax2.set_xlabel(features, fontdict = font2)\n",
        "    ax2.set_title(\"\\n Validation Set \" + features, fontdict = font2)\n",
        "    \n",
        "    f.suptitle('Regressione Lineare ' + features, fontdict = font1, fontsize = 20)\n",
        "    \n",
        "    #calcoliamo le predizioni sul validation set (y_pred)\n",
        "    y_pred = regressor.predict(X_valid)\n",
        "    print('MAE:', MAE(y_pred,y_valid))\n",
        "    print('MSE:', MSE(y_pred,y_valid))\n",
        "    print('RMSE:', RMSE(y_pred,y_valid),'\\n')"
      ]
    },
    {
      "cell_type": "markdown",
      "id": "0aa6a01a",
      "metadata": {
        "id": "0aa6a01a"
      },
      "source": [
        "Gli errori quindi trovati in precedenza ora devono essere confrontati con il modello nullo per vedere quali predizioni poter \"accettare\":"
      ]
    },
    {
      "cell_type": "code",
      "execution_count": 30,
      "id": "3835aaac",
      "metadata": {
        "colab": {
          "base_uri": "https://localhost:8080/"
        },
        "id": "3835aaac",
        "outputId": "652a31af-0830-423d-a29e-42fd2d06d298"
      },
      "outputs": [
        {
          "output_type": "stream",
          "name": "stdout",
          "text": [
            "MAE: 3.24\n",
            "MSE: 19.77\n",
            "RMSE: 4.446346815083142\n"
          ]
        }
      ],
      "source": [
        "#calcoliamo la popolarità media\n",
        "popolarità_media = top50['Popularity'].mean()\n",
        "\n",
        "# create la nuova x con lo stesso numero di campioni del dataset originale, e con tutti i valori uguali al valore medio del diametro appena calcolato\n",
        "null_model_y = [popolarità_media] * top50.shape[0]\n",
        "\n",
        "# valutiamo il modello nullo usando le funzioni implementate \n",
        "print ('MAE:', metrics.mean_absolute_error(y, null_model_y))\n",
        "print ('MSE:', metrics.mean_squared_error(y, null_model_y))\n",
        "print ('RMSE:', np.sqrt(metrics.mean_squared_error(y, null_model_y)))"
      ]
    },
    {
      "cell_type": "markdown",
      "id": "f93c3abd",
      "metadata": {
        "id": "f93c3abd"
      },
      "source": [
        "Traiamo quindi le nostre ***conclusioni***:\n",
        "- ***tra le features correlate prendendole una ad una*** : BPM, Speechiness e Valenza, andandole ad esaminare e plottare confrontandole una ad una, restituiscono un errore minore all'errore prodotto nel modello nullo quindi possiamo accettare la predizione della popolarità effettuata su queste features prese una alla volta.\n",
        "- ***con l'utilizzo di tutte le features quantitative a nostra disposizione nel dataset tranne la popolarità*** : si ottiene un errore più alto rispetto all'errore riscontrato nel modello nullo e quindi è da scartare l'utilizzo di queste features per ottenere la predizione della popolarità;\n",
        "- ***usando le sole features correlate alla popolarità insieme*** : Anche in questo caso l'errore ottenuto è minore a quello ottenuto nel modello nullo."
      ]
    },
    {
      "cell_type": "markdown",
      "id": "dececf90",
      "metadata": {
        "id": "dececf90"
      },
      "source": [
        "### *CONCLUSIONE*"
      ]
    },
    {
      "cell_type": "markdown",
      "id": "fcdba92b",
      "metadata": {
        "id": "fcdba92b"
      },
      "source": [
        "Ricapitolando: nell'elaborazione e visualizzazione iniziale del dataset a nostra disposizione sono emersi dati interessanti come:\n",
        "- l'artista più presente in classifica: Ed Sheeran che però non risulta essere l'artista con le canzoni più popolari mediamente.\n",
        "- l'artista con le canzoni mediamente meno popolari: Shawn Mendes, il quale però e l'artista che presenta la canzone prima in classifica.\n",
        "- il genere ed il macrogenere più presenti all'interno della classifica, ovvero il dance pop e il pop rispettivamente.\n",
        "- la distribuzione della popolarità delle canzoni in generale(divisone in bins), in base al genere, in base al macrogenere, in base al sesso dell'artista dalle quali abbiamo estrapolato le informazioni descritte precedentemente.\n",
        "- quali features effettivamente fossero collegate alla popolarità per andare cosi ad effettuare il machine learning sopra riportato portandoci dietro appunto queste informazioni estratte dall'analisi effettuata"
      ]
    },
    {
      "cell_type": "markdown",
      "id": "5c38faca",
      "metadata": {
        "id": "5c38faca"
      },
      "source": [
        "Per concludere la nostra analisi dobbiamo ancora vedere se siamo riusciti a rispondere alla domanda dalla quale è iniziato tutto: *quali sono le caratteristiche che rendono una canzone di successo?*\n",
        "\n",
        "Possiamo dire che non siamo riusciti direttamente a capire quali sono gli attributi e quindi le caratteristiche appunto che rendono una canzone più o meno popolare ma siamo riusciti ad ottenere informazioni sulle features più correlate alla popolarità riuscendo cosi ad allenare due modelli di machine learning:\n",
        "- Supervisionato, implementato attraverso l'utilizzo della regressione lineare ottenendo con successo una predizione della popolarità utilizzando le features che dall'elaborazione dei dati sono risultate essere appunto le più correlate come detto in precedenza.\n",
        "- Non supervisionato, realizzato con la clusterizzazione per risolvere il problema di classificazione per ottenere una divisione del nostro dataset in canzoni più popolari e canzoni meno popolari. Anche in questo caso si sono utilizzate solo le features più correlate alla popolarità per ottenere appunto \"gruppi di dati coesi\" visualizzati attraverso un plot in tre dimensioni, corrispondenti alle features utilizzate proprio per la divisione in cluster. Con il box plot si può apprezzare come effettivamente siamo riusciti ad ottenere due gruppi di dati che si differenziano proprio per la popolarità.\n",
        "\n"
      ]
    }
  ],
  "metadata": {
    "kernelspec": {
      "display_name": "Python 3 (ipykernel)",
      "language": "python",
      "name": "python3"
    },
    "language_info": {
      "codemirror_mode": {
        "name": "ipython",
        "version": 3
      },
      "file_extension": ".py",
      "mimetype": "text/x-python",
      "name": "python",
      "nbconvert_exporter": "python",
      "pygments_lexer": "ipython3",
      "version": "3.9.7"
    },
    "colab": {
      "name": "ProgettoIDS_Pedemonte_Giacomo_S4861715.ipynb",
      "provenance": [],
      "include_colab_link": true
    }
  },
  "nbformat": 4,
  "nbformat_minor": 5
}