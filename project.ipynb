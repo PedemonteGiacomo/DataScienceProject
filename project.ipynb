{
  "nbformat": 4,
  "nbformat_minor": 0,
  "metadata": {
    "colab": {
      "name": "project.ipynb",
      "provenance": [],
      "collapsed_sections": [],
      "authorship_tag": "ABX9TyONGVtTS0wOJ3FsKupXmPn8",
      "include_colab_link": true
    },
    "kernelspec": {
      "name": "python3",
      "display_name": "Python 3"
    },
    "language_info": {
      "name": "python"
    }
  },
  "cells": [
    {
      "cell_type": "markdown",
      "metadata": {
        "id": "view-in-github",
        "colab_type": "text"
      },
      "source": [
        "<a href=\"https://colab.research.google.com/github/PedemonteGiacomo/DataScienceProject/blob/main/project.ipynb\" target=\"_parent\"><img src=\"https://colab.research.google.com/assets/colab-badge.svg\" alt=\"Open In Colab\"/></a>"
      ]
    },
    {
      "cell_type": "markdown",
      "source": [
        "# ***Progetto Introduzione alla Data Science***\n",
        "\n",
        "Pedemonte Giacomo S4861715\n",
        "\n",
        "***Importazione librerie per ambiente di lavoro:***"
      ],
      "metadata": {
        "id": "juqGtb2-W5q4"
      }
    },
    {
      "cell_type": "code",
      "execution_count": 1,
      "metadata": {
        "colab": {
          "base_uri": "https://localhost:8080/"
        },
        "id": "NjTQV6iUUPlk",
        "outputId": "37013f4c-17c3-49a9-dc45-e1e139f4ba28"
      },
      "outputs": [
        {
          "output_type": "stream",
          "name": "stdout",
          "text": [
            "Requirement already satisfied: scipy==1.7.0 in /usr/local/lib/python3.7/dist-packages (1.7.0)\n",
            "Requirement already satisfied: numpy<1.23.0,>=1.16.5 in /usr/local/lib/python3.7/dist-packages (from scipy==1.7.0) (1.21.6)\n",
            "1.7.0\n"
          ]
        }
      ],
      "source": [
        "#import seaborn as sb\n",
        "from sklearn import metrics\n",
        "from sklearn.model_selection import train_test_split\n",
        "import plotly.express as px\n",
        "import pandas as pd \n",
        "import matplotlib.pyplot as plt \n",
        "import numpy as np\n",
        "!pip install scipy==1.7.0\n",
        "import scipy.stats as stats\n",
        "import scipy\n",
        "print (scipy.__version__)"
      ]
    },
    {
      "cell_type": "markdown",
      "source": [
        "***Analisi ed estrazione dei Dati***"
      ],
      "metadata": {
        "id": "2Ku6StYFXnyx"
      }
    },
    {
      "cell_type": "markdown",
      "source": [
        "Importazione e visualizzazione della \"testa\" del database contenente la playlist spotify: top50 del 2019\n",
        "\n",
        "\n",
        "\n"
      ],
      "metadata": {
        "id": "B9uW-x6gUgVn"
      }
    },
    {
      "cell_type": "code",
      "source": [
        "top50 = pd.read_csv('top50.csv')\n",
        "top50.head()"
      ],
      "metadata": {
        "colab": {
          "base_uri": "https://localhost:8080/",
          "height": 409
        },
        "id": "dGTNkU33U67r",
        "outputId": "1c0b8817-38e3-44d3-c2a6-7aa6f884292e"
      },
      "execution_count": 2,
      "outputs": [
        {
          "output_type": "execute_result",
          "data": {
            "text/plain": [
              "   Position                       Track.Name    Artist.Name           Genre  \\\n",
              "0         1                         Senorita   Shawn Mendes    canadian pop   \n",
              "1         2                            China       Anuel AA  reggaeton flow   \n",
              "2         3    boyfriend (with Social House)  Ariana Grande       dance pop   \n",
              "3         4  Beautiful People (feat. Khalid)     Ed Sheeran             pop   \n",
              "4         5      Goodbyes (Feat. Young Thug)    Post Malone         dfw rap   \n",
              "\n",
              "   Beats.Per.Minute  Energy  Danceability  Loudness..dB..  Liveness  Valence.  \\\n",
              "0               117      55            76              -6         8        75   \n",
              "1               105      81            79              -4         8        61   \n",
              "2               190      80            40              -4        16        70   \n",
              "3                93      65            64              -8         8        55   \n",
              "4               150      65            58              -4        11        18   \n",
              "\n",
              "   Length.  Acousticness..  Speechiness.  Popularity  \n",
              "0      191               4             3          79  \n",
              "1      302               8             9          92  \n",
              "2      186              12            46          85  \n",
              "3      198              12            19          86  \n",
              "4      175              45             7          94  "
            ],
            "text/html": [
              "\n",
              "  <div id=\"df-15fdcf3e-c044-4775-bd13-8643ff2526d5\">\n",
              "    <div class=\"colab-df-container\">\n",
              "      <div>\n",
              "<style scoped>\n",
              "    .dataframe tbody tr th:only-of-type {\n",
              "        vertical-align: middle;\n",
              "    }\n",
              "\n",
              "    .dataframe tbody tr th {\n",
              "        vertical-align: top;\n",
              "    }\n",
              "\n",
              "    .dataframe thead th {\n",
              "        text-align: right;\n",
              "    }\n",
              "</style>\n",
              "<table border=\"1\" class=\"dataframe\">\n",
              "  <thead>\n",
              "    <tr style=\"text-align: right;\">\n",
              "      <th></th>\n",
              "      <th>Position</th>\n",
              "      <th>Track.Name</th>\n",
              "      <th>Artist.Name</th>\n",
              "      <th>Genre</th>\n",
              "      <th>Beats.Per.Minute</th>\n",
              "      <th>Energy</th>\n",
              "      <th>Danceability</th>\n",
              "      <th>Loudness..dB..</th>\n",
              "      <th>Liveness</th>\n",
              "      <th>Valence.</th>\n",
              "      <th>Length.</th>\n",
              "      <th>Acousticness..</th>\n",
              "      <th>Speechiness.</th>\n",
              "      <th>Popularity</th>\n",
              "    </tr>\n",
              "  </thead>\n",
              "  <tbody>\n",
              "    <tr>\n",
              "      <th>0</th>\n",
              "      <td>1</td>\n",
              "      <td>Senorita</td>\n",
              "      <td>Shawn Mendes</td>\n",
              "      <td>canadian pop</td>\n",
              "      <td>117</td>\n",
              "      <td>55</td>\n",
              "      <td>76</td>\n",
              "      <td>-6</td>\n",
              "      <td>8</td>\n",
              "      <td>75</td>\n",
              "      <td>191</td>\n",
              "      <td>4</td>\n",
              "      <td>3</td>\n",
              "      <td>79</td>\n",
              "    </tr>\n",
              "    <tr>\n",
              "      <th>1</th>\n",
              "      <td>2</td>\n",
              "      <td>China</td>\n",
              "      <td>Anuel AA</td>\n",
              "      <td>reggaeton flow</td>\n",
              "      <td>105</td>\n",
              "      <td>81</td>\n",
              "      <td>79</td>\n",
              "      <td>-4</td>\n",
              "      <td>8</td>\n",
              "      <td>61</td>\n",
              "      <td>302</td>\n",
              "      <td>8</td>\n",
              "      <td>9</td>\n",
              "      <td>92</td>\n",
              "    </tr>\n",
              "    <tr>\n",
              "      <th>2</th>\n",
              "      <td>3</td>\n",
              "      <td>boyfriend (with Social House)</td>\n",
              "      <td>Ariana Grande</td>\n",
              "      <td>dance pop</td>\n",
              "      <td>190</td>\n",
              "      <td>80</td>\n",
              "      <td>40</td>\n",
              "      <td>-4</td>\n",
              "      <td>16</td>\n",
              "      <td>70</td>\n",
              "      <td>186</td>\n",
              "      <td>12</td>\n",
              "      <td>46</td>\n",
              "      <td>85</td>\n",
              "    </tr>\n",
              "    <tr>\n",
              "      <th>3</th>\n",
              "      <td>4</td>\n",
              "      <td>Beautiful People (feat. Khalid)</td>\n",
              "      <td>Ed Sheeran</td>\n",
              "      <td>pop</td>\n",
              "      <td>93</td>\n",
              "      <td>65</td>\n",
              "      <td>64</td>\n",
              "      <td>-8</td>\n",
              "      <td>8</td>\n",
              "      <td>55</td>\n",
              "      <td>198</td>\n",
              "      <td>12</td>\n",
              "      <td>19</td>\n",
              "      <td>86</td>\n",
              "    </tr>\n",
              "    <tr>\n",
              "      <th>4</th>\n",
              "      <td>5</td>\n",
              "      <td>Goodbyes (Feat. Young Thug)</td>\n",
              "      <td>Post Malone</td>\n",
              "      <td>dfw rap</td>\n",
              "      <td>150</td>\n",
              "      <td>65</td>\n",
              "      <td>58</td>\n",
              "      <td>-4</td>\n",
              "      <td>11</td>\n",
              "      <td>18</td>\n",
              "      <td>175</td>\n",
              "      <td>45</td>\n",
              "      <td>7</td>\n",
              "      <td>94</td>\n",
              "    </tr>\n",
              "  </tbody>\n",
              "</table>\n",
              "</div>\n",
              "      <button class=\"colab-df-convert\" onclick=\"convertToInteractive('df-15fdcf3e-c044-4775-bd13-8643ff2526d5')\"\n",
              "              title=\"Convert this dataframe to an interactive table.\"\n",
              "              style=\"display:none;\">\n",
              "        \n",
              "  <svg xmlns=\"http://www.w3.org/2000/svg\" height=\"24px\"viewBox=\"0 0 24 24\"\n",
              "       width=\"24px\">\n",
              "    <path d=\"M0 0h24v24H0V0z\" fill=\"none\"/>\n",
              "    <path d=\"M18.56 5.44l.94 2.06.94-2.06 2.06-.94-2.06-.94-.94-2.06-.94 2.06-2.06.94zm-11 1L8.5 8.5l.94-2.06 2.06-.94-2.06-.94L8.5 2.5l-.94 2.06-2.06.94zm10 10l.94 2.06.94-2.06 2.06-.94-2.06-.94-.94-2.06-.94 2.06-2.06.94z\"/><path d=\"M17.41 7.96l-1.37-1.37c-.4-.4-.92-.59-1.43-.59-.52 0-1.04.2-1.43.59L10.3 9.45l-7.72 7.72c-.78.78-.78 2.05 0 2.83L4 21.41c.39.39.9.59 1.41.59.51 0 1.02-.2 1.41-.59l7.78-7.78 2.81-2.81c.8-.78.8-2.07 0-2.86zM5.41 20L4 18.59l7.72-7.72 1.47 1.35L5.41 20z\"/>\n",
              "  </svg>\n",
              "      </button>\n",
              "      \n",
              "  <style>\n",
              "    .colab-df-container {\n",
              "      display:flex;\n",
              "      flex-wrap:wrap;\n",
              "      gap: 12px;\n",
              "    }\n",
              "\n",
              "    .colab-df-convert {\n",
              "      background-color: #E8F0FE;\n",
              "      border: none;\n",
              "      border-radius: 50%;\n",
              "      cursor: pointer;\n",
              "      display: none;\n",
              "      fill: #1967D2;\n",
              "      height: 32px;\n",
              "      padding: 0 0 0 0;\n",
              "      width: 32px;\n",
              "    }\n",
              "\n",
              "    .colab-df-convert:hover {\n",
              "      background-color: #E2EBFA;\n",
              "      box-shadow: 0px 1px 2px rgba(60, 64, 67, 0.3), 0px 1px 3px 1px rgba(60, 64, 67, 0.15);\n",
              "      fill: #174EA6;\n",
              "    }\n",
              "\n",
              "    [theme=dark] .colab-df-convert {\n",
              "      background-color: #3B4455;\n",
              "      fill: #D2E3FC;\n",
              "    }\n",
              "\n",
              "    [theme=dark] .colab-df-convert:hover {\n",
              "      background-color: #434B5C;\n",
              "      box-shadow: 0px 1px 3px 1px rgba(0, 0, 0, 0.15);\n",
              "      filter: drop-shadow(0px 1px 2px rgba(0, 0, 0, 0.3));\n",
              "      fill: #FFFFFF;\n",
              "    }\n",
              "  </style>\n",
              "\n",
              "      <script>\n",
              "        const buttonEl =\n",
              "          document.querySelector('#df-15fdcf3e-c044-4775-bd13-8643ff2526d5 button.colab-df-convert');\n",
              "        buttonEl.style.display =\n",
              "          google.colab.kernel.accessAllowed ? 'block' : 'none';\n",
              "\n",
              "        async function convertToInteractive(key) {\n",
              "          const element = document.querySelector('#df-15fdcf3e-c044-4775-bd13-8643ff2526d5');\n",
              "          const dataTable =\n",
              "            await google.colab.kernel.invokeFunction('convertToInteractive',\n",
              "                                                     [key], {});\n",
              "          if (!dataTable) return;\n",
              "\n",
              "          const docLinkHtml = 'Like what you see? Visit the ' +\n",
              "            '<a target=\"_blank\" href=https://colab.research.google.com/notebooks/data_table.ipynb>data table notebook</a>'\n",
              "            + ' to learn more about interactive tables.';\n",
              "          element.innerHTML = '';\n",
              "          dataTable['output_type'] = 'display_data';\n",
              "          await google.colab.output.renderOutput(dataTable, element);\n",
              "          const docLink = document.createElement('div');\n",
              "          docLink.innerHTML = docLinkHtml;\n",
              "          element.appendChild(docLink);\n",
              "        }\n",
              "      </script>\n",
              "    </div>\n",
              "  </div>\n",
              "  "
            ]
          },
          "metadata": {},
          "execution_count": 2
        }
      ]
    },
    {
      "cell_type": "code",
      "source": [
        "top50.shape"
      ],
      "metadata": {
        "colab": {
          "base_uri": "https://localhost:8080/"
        },
        "id": "zjXjQdLgZOsl",
        "outputId": "838d4f4b-5c6a-48c8-b229-bca336aea0b6"
      },
      "execution_count": 3,
      "outputs": [
        {
          "output_type": "execute_result",
          "data": {
            "text/plain": [
              "(50, 14)"
            ]
          },
          "metadata": {},
          "execution_count": 3
        }
      ]
    },
    {
      "cell_type": "code",
      "source": [
        "top50.describe()"
      ],
      "metadata": {
        "colab": {
          "base_uri": "https://localhost:8080/",
          "height": 300
        },
        "id": "XN0Yu60aZPo8",
        "outputId": "81cfea19-6c4e-4e5d-d53f-4368865c02d8"
      },
      "execution_count": 4,
      "outputs": [
        {
          "output_type": "execute_result",
          "data": {
            "text/plain": [
              "       Position  Beats.Per.Minute     Energy  Danceability  Loudness..dB..  \\\n",
              "count  50.00000         50.000000  50.000000      50.00000       50.000000   \n",
              "mean   25.50000        120.060000  64.060000      71.38000       -5.660000   \n",
              "std    14.57738         30.898392  14.231913      11.92988        2.056448   \n",
              "min     1.00000         85.000000  32.000000      29.00000      -11.000000   \n",
              "25%    13.25000         96.000000  55.250000      67.00000       -6.750000   \n",
              "50%    25.50000        104.500000  66.500000      73.50000       -6.000000   \n",
              "75%    37.75000        137.500000  74.750000      79.75000       -4.000000   \n",
              "max    50.00000        190.000000  88.000000      90.00000       -2.000000   \n",
              "\n",
              "        Liveness   Valence.     Length.  Acousticness..  Speechiness.  \\\n",
              "count  50.000000  50.000000   50.000000       50.000000     50.000000   \n",
              "mean   14.660000  54.600000  200.960000       22.160000     12.480000   \n",
              "std    11.118306  22.336024   39.143879       18.995553     11.161596   \n",
              "min     5.000000  10.000000  115.000000        1.000000      3.000000   \n",
              "25%     8.000000  38.250000  176.750000        8.250000      5.000000   \n",
              "50%    11.000000  55.500000  198.000000       15.000000      7.000000   \n",
              "75%    15.750000  69.500000  217.500000       33.750000     15.000000   \n",
              "max    58.000000  95.000000  309.000000       75.000000     46.000000   \n",
              "\n",
              "       Popularity  \n",
              "count   50.000000  \n",
              "mean    87.500000  \n",
              "std      4.491489  \n",
              "min     70.000000  \n",
              "25%     86.000000  \n",
              "50%     88.000000  \n",
              "75%     90.750000  \n",
              "max     95.000000  "
            ],
            "text/html": [
              "\n",
              "  <div id=\"df-a7c67cb8-b0c1-476f-a7c1-3acfda0e6240\">\n",
              "    <div class=\"colab-df-container\">\n",
              "      <div>\n",
              "<style scoped>\n",
              "    .dataframe tbody tr th:only-of-type {\n",
              "        vertical-align: middle;\n",
              "    }\n",
              "\n",
              "    .dataframe tbody tr th {\n",
              "        vertical-align: top;\n",
              "    }\n",
              "\n",
              "    .dataframe thead th {\n",
              "        text-align: right;\n",
              "    }\n",
              "</style>\n",
              "<table border=\"1\" class=\"dataframe\">\n",
              "  <thead>\n",
              "    <tr style=\"text-align: right;\">\n",
              "      <th></th>\n",
              "      <th>Position</th>\n",
              "      <th>Beats.Per.Minute</th>\n",
              "      <th>Energy</th>\n",
              "      <th>Danceability</th>\n",
              "      <th>Loudness..dB..</th>\n",
              "      <th>Liveness</th>\n",
              "      <th>Valence.</th>\n",
              "      <th>Length.</th>\n",
              "      <th>Acousticness..</th>\n",
              "      <th>Speechiness.</th>\n",
              "      <th>Popularity</th>\n",
              "    </tr>\n",
              "  </thead>\n",
              "  <tbody>\n",
              "    <tr>\n",
              "      <th>count</th>\n",
              "      <td>50.00000</td>\n",
              "      <td>50.000000</td>\n",
              "      <td>50.000000</td>\n",
              "      <td>50.00000</td>\n",
              "      <td>50.000000</td>\n",
              "      <td>50.000000</td>\n",
              "      <td>50.000000</td>\n",
              "      <td>50.000000</td>\n",
              "      <td>50.000000</td>\n",
              "      <td>50.000000</td>\n",
              "      <td>50.000000</td>\n",
              "    </tr>\n",
              "    <tr>\n",
              "      <th>mean</th>\n",
              "      <td>25.50000</td>\n",
              "      <td>120.060000</td>\n",
              "      <td>64.060000</td>\n",
              "      <td>71.38000</td>\n",
              "      <td>-5.660000</td>\n",
              "      <td>14.660000</td>\n",
              "      <td>54.600000</td>\n",
              "      <td>200.960000</td>\n",
              "      <td>22.160000</td>\n",
              "      <td>12.480000</td>\n",
              "      <td>87.500000</td>\n",
              "    </tr>\n",
              "    <tr>\n",
              "      <th>std</th>\n",
              "      <td>14.57738</td>\n",
              "      <td>30.898392</td>\n",
              "      <td>14.231913</td>\n",
              "      <td>11.92988</td>\n",
              "      <td>2.056448</td>\n",
              "      <td>11.118306</td>\n",
              "      <td>22.336024</td>\n",
              "      <td>39.143879</td>\n",
              "      <td>18.995553</td>\n",
              "      <td>11.161596</td>\n",
              "      <td>4.491489</td>\n",
              "    </tr>\n",
              "    <tr>\n",
              "      <th>min</th>\n",
              "      <td>1.00000</td>\n",
              "      <td>85.000000</td>\n",
              "      <td>32.000000</td>\n",
              "      <td>29.00000</td>\n",
              "      <td>-11.000000</td>\n",
              "      <td>5.000000</td>\n",
              "      <td>10.000000</td>\n",
              "      <td>115.000000</td>\n",
              "      <td>1.000000</td>\n",
              "      <td>3.000000</td>\n",
              "      <td>70.000000</td>\n",
              "    </tr>\n",
              "    <tr>\n",
              "      <th>25%</th>\n",
              "      <td>13.25000</td>\n",
              "      <td>96.000000</td>\n",
              "      <td>55.250000</td>\n",
              "      <td>67.00000</td>\n",
              "      <td>-6.750000</td>\n",
              "      <td>8.000000</td>\n",
              "      <td>38.250000</td>\n",
              "      <td>176.750000</td>\n",
              "      <td>8.250000</td>\n",
              "      <td>5.000000</td>\n",
              "      <td>86.000000</td>\n",
              "    </tr>\n",
              "    <tr>\n",
              "      <th>50%</th>\n",
              "      <td>25.50000</td>\n",
              "      <td>104.500000</td>\n",
              "      <td>66.500000</td>\n",
              "      <td>73.50000</td>\n",
              "      <td>-6.000000</td>\n",
              "      <td>11.000000</td>\n",
              "      <td>55.500000</td>\n",
              "      <td>198.000000</td>\n",
              "      <td>15.000000</td>\n",
              "      <td>7.000000</td>\n",
              "      <td>88.000000</td>\n",
              "    </tr>\n",
              "    <tr>\n",
              "      <th>75%</th>\n",
              "      <td>37.75000</td>\n",
              "      <td>137.500000</td>\n",
              "      <td>74.750000</td>\n",
              "      <td>79.75000</td>\n",
              "      <td>-4.000000</td>\n",
              "      <td>15.750000</td>\n",
              "      <td>69.500000</td>\n",
              "      <td>217.500000</td>\n",
              "      <td>33.750000</td>\n",
              "      <td>15.000000</td>\n",
              "      <td>90.750000</td>\n",
              "    </tr>\n",
              "    <tr>\n",
              "      <th>max</th>\n",
              "      <td>50.00000</td>\n",
              "      <td>190.000000</td>\n",
              "      <td>88.000000</td>\n",
              "      <td>90.00000</td>\n",
              "      <td>-2.000000</td>\n",
              "      <td>58.000000</td>\n",
              "      <td>95.000000</td>\n",
              "      <td>309.000000</td>\n",
              "      <td>75.000000</td>\n",
              "      <td>46.000000</td>\n",
              "      <td>95.000000</td>\n",
              "    </tr>\n",
              "  </tbody>\n",
              "</table>\n",
              "</div>\n",
              "      <button class=\"colab-df-convert\" onclick=\"convertToInteractive('df-a7c67cb8-b0c1-476f-a7c1-3acfda0e6240')\"\n",
              "              title=\"Convert this dataframe to an interactive table.\"\n",
              "              style=\"display:none;\">\n",
              "        \n",
              "  <svg xmlns=\"http://www.w3.org/2000/svg\" height=\"24px\"viewBox=\"0 0 24 24\"\n",
              "       width=\"24px\">\n",
              "    <path d=\"M0 0h24v24H0V0z\" fill=\"none\"/>\n",
              "    <path d=\"M18.56 5.44l.94 2.06.94-2.06 2.06-.94-2.06-.94-.94-2.06-.94 2.06-2.06.94zm-11 1L8.5 8.5l.94-2.06 2.06-.94-2.06-.94L8.5 2.5l-.94 2.06-2.06.94zm10 10l.94 2.06.94-2.06 2.06-.94-2.06-.94-.94-2.06-.94 2.06-2.06.94z\"/><path d=\"M17.41 7.96l-1.37-1.37c-.4-.4-.92-.59-1.43-.59-.52 0-1.04.2-1.43.59L10.3 9.45l-7.72 7.72c-.78.78-.78 2.05 0 2.83L4 21.41c.39.39.9.59 1.41.59.51 0 1.02-.2 1.41-.59l7.78-7.78 2.81-2.81c.8-.78.8-2.07 0-2.86zM5.41 20L4 18.59l7.72-7.72 1.47 1.35L5.41 20z\"/>\n",
              "  </svg>\n",
              "      </button>\n",
              "      \n",
              "  <style>\n",
              "    .colab-df-container {\n",
              "      display:flex;\n",
              "      flex-wrap:wrap;\n",
              "      gap: 12px;\n",
              "    }\n",
              "\n",
              "    .colab-df-convert {\n",
              "      background-color: #E8F0FE;\n",
              "      border: none;\n",
              "      border-radius: 50%;\n",
              "      cursor: pointer;\n",
              "      display: none;\n",
              "      fill: #1967D2;\n",
              "      height: 32px;\n",
              "      padding: 0 0 0 0;\n",
              "      width: 32px;\n",
              "    }\n",
              "\n",
              "    .colab-df-convert:hover {\n",
              "      background-color: #E2EBFA;\n",
              "      box-shadow: 0px 1px 2px rgba(60, 64, 67, 0.3), 0px 1px 3px 1px rgba(60, 64, 67, 0.15);\n",
              "      fill: #174EA6;\n",
              "    }\n",
              "\n",
              "    [theme=dark] .colab-df-convert {\n",
              "      background-color: #3B4455;\n",
              "      fill: #D2E3FC;\n",
              "    }\n",
              "\n",
              "    [theme=dark] .colab-df-convert:hover {\n",
              "      background-color: #434B5C;\n",
              "      box-shadow: 0px 1px 3px 1px rgba(0, 0, 0, 0.15);\n",
              "      filter: drop-shadow(0px 1px 2px rgba(0, 0, 0, 0.3));\n",
              "      fill: #FFFFFF;\n",
              "    }\n",
              "  </style>\n",
              "\n",
              "      <script>\n",
              "        const buttonEl =\n",
              "          document.querySelector('#df-a7c67cb8-b0c1-476f-a7c1-3acfda0e6240 button.colab-df-convert');\n",
              "        buttonEl.style.display =\n",
              "          google.colab.kernel.accessAllowed ? 'block' : 'none';\n",
              "\n",
              "        async function convertToInteractive(key) {\n",
              "          const element = document.querySelector('#df-a7c67cb8-b0c1-476f-a7c1-3acfda0e6240');\n",
              "          const dataTable =\n",
              "            await google.colab.kernel.invokeFunction('convertToInteractive',\n",
              "                                                     [key], {});\n",
              "          if (!dataTable) return;\n",
              "\n",
              "          const docLinkHtml = 'Like what you see? Visit the ' +\n",
              "            '<a target=\"_blank\" href=https://colab.research.google.com/notebooks/data_table.ipynb>data table notebook</a>'\n",
              "            + ' to learn more about interactive tables.';\n",
              "          element.innerHTML = '';\n",
              "          dataTable['output_type'] = 'display_data';\n",
              "          await google.colab.output.renderOutput(dataTable, element);\n",
              "          const docLink = document.createElement('div');\n",
              "          docLink.innerHTML = docLinkHtml;\n",
              "          element.appendChild(docLink);\n",
              "        }\n",
              "      </script>\n",
              "    </div>\n",
              "  </div>\n",
              "  "
            ]
          },
          "metadata": {},
          "execution_count": 4
        }
      ]
    },
    {
      "cell_type": "markdown",
      "source": [
        "Andiamo a vedere ora quante canzoni ci sono per genere in questa top50 andando a visualizzare il tutto con un istogramma:"
      ],
      "metadata": {
        "id": "uIbjGvevaa9b"
      }
    },
    {
      "cell_type": "code",
      "source": [
        "num_genre = top50['Genre'].value_counts()\n",
        "num_genre.plot(kind = 'bar',title = 'Numero Canzoni x Genere', fontsize = 10, figsize = (15,5))"
      ],
      "metadata": {
        "colab": {
          "base_uri": "https://localhost:8080/",
          "height": 430
        },
        "id": "NDYXpEmlah8l",
        "outputId": "1d5b21dc-6205-4ae7-dd60-60fe02be1d5f"
      },
      "execution_count": 5,
      "outputs": [
        {
          "output_type": "execute_result",
          "data": {
            "text/plain": [
              "<matplotlib.axes._subplots.AxesSubplot at 0x7fa5de87f950>"
            ]
          },
          "metadata": {},
          "execution_count": 5
        },
        {
          "output_type": "display_data",
          "data": {
            "text/plain": [
              "<Figure size 1080x360 with 1 Axes>"
            ],
            "image/png": "[encoded data removed]"
          },
          "metadata": {
            "needs_background": "light"
          }
        }
      ]
    },
    {
      "cell_type": "markdown",
      "source": [
        "Vediamo quante canzoni diverse ci sono per ogni artista presente nella playlist:"
      ],
      "metadata": {
        "id": "Ht4QPkIZab1-"
      }
    },
    {
      "cell_type": "code",
      "source": [
        "num_artist_name = top50['Artist.Name'].value_counts()\n",
        "num_artist_name.plot(kind = 'bar',title = 'Numero Canzoni x Artista', fontsize = 10, figsize = (15,5))"
      ],
      "metadata": {
        "colab": {
          "base_uri": "https://localhost:8080/",
          "height": 436
        },
        "id": "Go5AwNZ4abZI",
        "outputId": "4ecf6799-b37e-4a4f-b605-7baf1237a5f7"
      },
      "execution_count": 6,
      "outputs": [
        {
          "output_type": "execute_result",
          "data": {
            "text/plain": [
              "<matplotlib.axes._subplots.AxesSubplot at 0x7fa5e0741b50>"
            ]
          },
          "metadata": {},
          "execution_count": 6
        },
        {
          "output_type": "display_data",
          "data": {
            "text/plain": [
              "<Figure size 1080x360 with 1 Axes>"
            ],
            "image/png": "[encoded data removed]"
          },
          "metadata": {
            "needs_background": "light"
          }
        }
      ]
    },
    {
      "cell_type": "markdown",
      "source": [
        "Vediamo subito in questo modo che il genere più presente nella top50 del 2019 era il dance pop.\n",
        "Ci possiamo anche però porre se fosse il più popolare e quindi dobbiamo vedere un istrogramma della popolarità delle canzoni raggruppandole per genere:"
      ],
      "metadata": {
        "id": "_LSRPZU1bF6d"
      }
    },
    {
      "cell_type": "code",
      "source": [
        "top50.groupby('Genre')['Popularity'].mean().sort_values(ascending = False).plot(kind='bar',title = 'Popolarità Media x Genere', fontsize = 10, figsize = (15,5))"
      ],
      "metadata": {
        "colab": {
          "base_uri": "https://localhost:8080/",
          "height": 444
        },
        "id": "jZPujm0ibYnW",
        "outputId": "918e7294-b6a8-4f48-b894-ae9424bacc94"
      },
      "execution_count": 7,
      "outputs": [
        {
          "output_type": "execute_result",
          "data": {
            "text/plain": [
              "<matplotlib.axes._subplots.AxesSubplot at 0x7fa5de1c4910>"
            ]
          },
          "metadata": {},
          "execution_count": 7
        },
        {
          "output_type": "display_data",
          "data": {
            "text/plain": [
              "<Figure size 1080x360 with 1 Axes>"
            ],
            "image/png": "[encoded data removed]"
          },
          "metadata": {
            "needs_background": "light"
          }
        }
      ]
    },
    {
      "cell_type": "markdown",
      "source": [
        "Da questo grafico si evince che il dance pop, il genere che presenta più canzoni nella top50, non è quello che ha la media di popularità più alta."
      ],
      "metadata": {
        "id": "URajrPdadtiP"
      }
    },
    {
      "cell_type": "markdown",
      "source": [
        "Vediamo quindi quale genere ha la media più alta di posizionamento in questa top50:"
      ],
      "metadata": {
        "id": "Z0sqnFJqtsPQ"
      }
    },
    {
      "cell_type": "code",
      "source": [
        "top50.groupby('Genre')['Position'].mean().sort_values(ascending = False).plot(kind='bar',title = 'Media Posizionamento in Classifica x Genere', fontsize = 10, figsize = (15,5))"
      ],
      "metadata": {
        "colab": {
          "base_uri": "https://localhost:8080/",
          "height": 444
        },
        "id": "jf5Pe6STtbIB",
        "outputId": "7eee949b-4cf5-4613-9175-62ab1e18b347"
      },
      "execution_count": 8,
      "outputs": [
        {
          "output_type": "execute_result",
          "data": {
            "text/plain": [
              "<matplotlib.axes._subplots.AxesSubplot at 0x7fa5de0932d0>"
            ]
          },
          "metadata": {},
          "execution_count": 8
        },
        {
          "output_type": "display_data",
          "data": {
            "text/plain": [
              "<Figure size 1080x360 with 1 Axes>"
            ],
            "image/png": "[encoded data removed]"
          },
          "metadata": {
            "needs_background": "light"
          }
        }
      ]
    },
    {
      "cell_type": "markdown",
      "source": [
        "In questo caso si vede come il genere \"messo meglio\" in classifica con una media del posizionamento è il genere: trap music"
      ],
      "metadata": {
        "id": "V9kWUs89t7Ae"
      }
    },
    {
      "cell_type": "markdown",
      "source": [
        "Ora andiamo a vedere le analogie tra genere e Beats Per Minuto:"
      ],
      "metadata": {
        "id": "ytJAVqp4uIbm"
      }
    },
    {
      "cell_type": "code",
      "source": [
        "top50.groupby('Genre')['Beats.Per.Minute'].mean().sort_values(ascending = False).plot(kind='bar',title = 'BPM x Genere', fontsize = 10, figsize = (15,5))"
      ],
      "metadata": {
        "colab": {
          "base_uri": "https://localhost:8080/",
          "height": 444
        },
        "id": "7wAVb4VSsPeQ",
        "outputId": "8704a497-3cc7-481f-eb69-db4b6d3f4992"
      },
      "execution_count": 9,
      "outputs": [
        {
          "output_type": "execute_result",
          "data": {
            "text/plain": [
              "<matplotlib.axes._subplots.AxesSubplot at 0x7fa5de081d10>"
            ]
          },
          "metadata": {},
          "execution_count": 9
        },
        {
          "output_type": "display_data",
          "data": {
            "text/plain": [
              "<Figure size 1080x360 with 1 Axes>"
            ],
            "image/png": "[encoded data removed]"
          },
          "metadata": {
            "needs_background": "light"
          }
        }
      ]
    },
    {
      "cell_type": "markdown",
      "source": [
        "Si evince dal grafico soprastante che il genere con più battiti è la trap music.\n",
        "\n",
        "Andremo poi a studiare se e come infuisce il numero di battiti per minuto con la popolarità della canzone dato che il genere con il più alto numero di bpm è anche il genere piazzato meglio mediamente nella top50 analizzata."
      ],
      "metadata": {
        "id": "OBNsbsSdubjo"
      }
    },
    {
      "cell_type": "markdown",
      "source": [
        "Analizziamo ora qual'è il genere con il maggior numero di parole diverse utilizzate all'intero della canzone: "
      ],
      "metadata": {
        "id": "MjYFLa2ruQhz"
      }
    },
    {
      "cell_type": "code",
      "source": [
        "top50.groupby('Genre')['Speechiness.'].mean().sort_values(ascending = False).plot(kind='bar',title = 'Parole Diffrenti nella canzone x Genere', fontsize = 10, figsize = (15,5))"
      ],
      "metadata": {
        "colab": {
          "base_uri": "https://localhost:8080/",
          "height": 444
        },
        "id": "WBoYUZfFZnJD",
        "outputId": "2efb6b51-5a28-4ba0-fe74-5034b4f7ace0"
      },
      "execution_count": 10,
      "outputs": [
        {
          "output_type": "execute_result",
          "data": {
            "text/plain": [
              "<matplotlib.axes._subplots.AxesSubplot at 0x7fa5ddfa7710>"
            ]
          },
          "metadata": {},
          "execution_count": 10
        },
        {
          "output_type": "display_data",
          "data": {
            "text/plain": [
              "<Figure size 1080x360 with 1 Axes>"
            ],
            "image/png": "[encoded data removed]"
          },
          "metadata": {
            "needs_background": "light"
          }
        }
      ]
    },
    {
      "cell_type": "markdown",
      "source": [
        "Si vede bene come sia l'electropop il genere che presenta più parole differenti all'interno dei testi delle canzoni."
      ],
      "metadata": {
        "id": "ZZAvBT8GiFD-"
      }
    },
    {
      "cell_type": "markdown",
      "source": [
        "In questi grafici a dispersione cerchiamo di capire maggiormente se c'è un possibile legame tra gli attributi e la popolarità:"
      ],
      "metadata": {
        "id": "0wdN8fJfgg0I"
      }
    },
    {
      "cell_type": "markdown",
      "source": [
        "***BPM to Popularity***"
      ],
      "metadata": {
        "id": "SdDJWjRWg16I"
      }
    },
    {
      "cell_type": "code",
      "source": [
        "plt.scatter(top50['Beats.Per.Minute'],top50['Popularity'])"
      ],
      "metadata": {
        "colab": {
          "base_uri": "https://localhost:8080/",
          "height": 283
        },
        "id": "4yr8NcbhgYWm",
        "outputId": "9482588c-88d2-41cf-ea65-56649edfd5f4"
      },
      "execution_count": 11,
      "outputs": [
        {
          "output_type": "execute_result",
          "data": {
            "text/plain": [
              "<matplotlib.collections.PathCollection at 0x7fa5e05e9290>"
            ]
          },
          "metadata": {},
          "execution_count": 11
        },
        {
          "output_type": "display_data",
          "data": {
            "text/plain": [
              "<Figure size 432x288 with 1 Axes>"
            ],
            "image/png": "[encoded data removed]"
          },
          "metadata": {
            "needs_background": "light"
          }
        }
      ]
    },
    {
      "cell_type": "markdown",
      "source": [
        "Si può dire che all'aumentare dei BPM non aumenta la pooplarità, però si riesce ad estrarre l'informazione che la maggior parte delle canzoni presenti nella playlist che hanno un numero di BPM tra 80 e 120 hano una popolarità abbastanza coesa, mentre più aumenta il valore di BPM e più questa coesione viene meno."
      ],
      "metadata": {
        "id": "sRNJWoxBjBb7"
      }
    },
    {
      "cell_type": "markdown",
      "source": [
        "***Position to Popularity***"
      ],
      "metadata": {
        "id": "hcuxCtgIhB4q"
      }
    },
    {
      "cell_type": "code",
      "source": [
        "plt.scatter(top50['Position'],top50['Popularity'])"
      ],
      "metadata": {
        "colab": {
          "base_uri": "https://localhost:8080/",
          "height": 283
        },
        "outputId": "069af7c4-4ff6-46e9-eb24-e1c5d3b4a5fe",
        "id": "cOn_-hPWhB4s"
      },
      "execution_count": 12,
      "outputs": [
        {
          "output_type": "execute_result",
          "data": {
            "text/plain": [
              "<matplotlib.collections.PathCollection at 0x7fa5ddda4e50>"
            ]
          },
          "metadata": {},
          "execution_count": 12
        },
        {
          "output_type": "display_data",
          "data": {
            "text/plain": [
              "<Figure size 432x288 with 1 Axes>"
            ],
            "image/png": "[encoded data removed]"
          },
          "metadata": {
            "needs_background": "light"
          }
        }
      ]
    },
    {
      "cell_type": "markdown",
      "source": [
        "Si riesce ad estrapolare il dato che la canzone prima in classifica non è la più popolare! Quella più popolare si trova circa al decimo posto, un fatto curioso!"
      ],
      "metadata": {
        "id": "1v15oZ_wjgIY"
      }
    },
    {
      "cell_type": "markdown",
      "source": [
        "***Energy to Popularity***"
      ],
      "metadata": {
        "id": "S_mnIGgUhEmf"
      }
    },
    {
      "cell_type": "code",
      "source": [
        "plt.scatter(top50['Energy'],top50['Popularity'])"
      ],
      "metadata": {
        "colab": {
          "base_uri": "https://localhost:8080/",
          "height": 283
        },
        "outputId": "c7ed95f5-df9b-4c48-a84d-8e25aa01c622",
        "id": "6if-RKRRhEmh"
      },
      "execution_count": 13,
      "outputs": [
        {
          "output_type": "execute_result",
          "data": {
            "text/plain": [
              "<matplotlib.collections.PathCollection at 0x7fa5ddd83dd0>"
            ]
          },
          "metadata": {},
          "execution_count": 13
        },
        {
          "output_type": "display_data",
          "data": {
            "text/plain": [
              "<Figure size 432x288 with 1 Axes>"
            ],
            "image/png": "[encoded data removed]"
          },
          "metadata": {
            "needs_background": "light"
          }
        }
      ]
    },
    {
      "cell_type": "markdown",
      "source": [
        "L'energia della popolarità non sembra essere molto legato alla popolarità, a praticamente qualsiasi livello di energia troviamo un valori di energia coesi."
      ],
      "metadata": {
        "id": "a2SbJBiKkOgf"
      }
    },
    {
      "cell_type": "markdown",
      "source": [
        "***Danceability to Popularity***"
      ],
      "metadata": {
        "id": "6MGo_hMxhGvM"
      }
    },
    {
      "cell_type": "code",
      "source": [
        "plt.scatter(top50['Danceability'],top50['Popularity'])"
      ],
      "metadata": {
        "colab": {
          "base_uri": "https://localhost:8080/",
          "height": 283
        },
        "outputId": "deeb5d60-ad8b-4b6a-b840-8f5361bfce17",
        "id": "jyAiryP5hGvN"
      },
      "execution_count": 14,
      "outputs": [
        {
          "output_type": "execute_result",
          "data": {
            "text/plain": [
              "<matplotlib.collections.PathCollection at 0x7fa5ddd25e90>"
            ]
          },
          "metadata": {},
          "execution_count": 14
        },
        {
          "output_type": "display_data",
          "data": {
            "text/plain": [
              "<Figure size 432x288 with 1 Axes>"
            ],
            "image/png": "[encoded data removed]"
          },
          "metadata": {
            "needs_background": "light"
          }
        }
      ]
    },
    {
      "cell_type": "markdown",
      "source": [
        "Da questo grafico si può notare come nella playlist sia presente un numero predominante di canzoni con un livello di ballabilità alto, però anche la canzone con meno ballabilità ha un valore medio di popolarità, anche se la maggioranza delle canzoni con più ballabilità è più popolare come vediamo dalla densità \"di pallini\" in alto nel grafico. "
      ],
      "metadata": {
        "id": "ZYi1JytMkodD"
      }
    },
    {
      "cell_type": "markdown",
      "source": [
        "Possiamo anche vedere questo in un unico grafico e trarre le stesse conclusioni:"
      ],
      "metadata": {
        "id": "ZsXPXG11mP5E"
      }
    },
    {
      "cell_type": "code",
      "source": [
        "plt.scatter(top50['Danceability'],top50['Popularity'],color='b')\n",
        "plt.scatter(top50['Energy'],top50['Popularity'],color=\"y\")"
      ],
      "metadata": {
        "colab": {
          "base_uri": "https://localhost:8080/",
          "height": 283
        },
        "id": "ZVSMvDITmO8c",
        "outputId": "72d16a4b-a519-407e-c1ec-5fca3624fedc"
      },
      "execution_count": 15,
      "outputs": [
        {
          "output_type": "execute_result",
          "data": {
            "text/plain": [
              "<matplotlib.collections.PathCollection at 0x7fa5ddc51910>"
            ]
          },
          "metadata": {},
          "execution_count": 15
        },
        {
          "output_type": "display_data",
          "data": {
            "text/plain": [
              "<Figure size 432x288 with 1 Axes>"
            ],
            "image/png": "[encoded data removed]"
          },
          "metadata": {
            "needs_background": "light"
          }
        }
      ]
    },
    {
      "cell_type": "markdown",
      "source": [
        "***Loudness..dB.. to Popularity***"
      ],
      "metadata": {
        "id": "wi7IdVdwhHGx"
      }
    },
    {
      "cell_type": "code",
      "source": [
        "plt.scatter(top50['Loudness..dB..'],top50['Popularity'])"
      ],
      "metadata": {
        "colab": {
          "base_uri": "https://localhost:8080/",
          "height": 283
        },
        "outputId": "455f6625-f1c4-464e-d614-ddbf2cfc3e39",
        "id": "S-Y4hAAihHGy"
      },
      "execution_count": 16,
      "outputs": [
        {
          "output_type": "execute_result",
          "data": {
            "text/plain": [
              "<matplotlib.collections.PathCollection at 0x7fa5ddc34f90>"
            ]
          },
          "metadata": {},
          "execution_count": 16
        },
        {
          "output_type": "display_data",
          "data": {
            "text/plain": [
              "<Figure size 432x288 with 1 Axes>"
            ],
            "image/png": "[encoded data removed]"
          },
          "metadata": {
            "needs_background": "light"
          }
        }
      ]
    },
    {
      "cell_type": "markdown",
      "source": [
        "Definition of loudness\n",
        ": the attribute of a sound that determines the magnitude of the auditory sensation produced and that primarily depends on the amplitude of the sound wave involved.\n",
        "\n",
        "Detto questo, la canzone con il valore assoluto di loudness maggiore è anche la canzone più popolare, però generalmente non si può dire che all'aumentare di questo valore assoluto aumenti anche la popolarità.\n"
      ],
      "metadata": {
        "id": "lztm97MgnBPL"
      }
    },
    {
      "cell_type": "markdown",
      "source": [
        "***Liveness  to Popularity***"
      ],
      "metadata": {
        "id": "rJg_yPGshHmL"
      }
    },
    {
      "cell_type": "code",
      "source": [
        "plt.scatter(top50['Liveness'],top50['Popularity'])"
      ],
      "metadata": {
        "colab": {
          "base_uri": "https://localhost:8080/",
          "height": 283
        },
        "outputId": "80607b58-a933-4364-bd89-a12a9c60824f",
        "id": "WB-pzTgJhHmN"
      },
      "execution_count": 17,
      "outputs": [
        {
          "output_type": "execute_result",
          "data": {
            "text/plain": [
              "<matplotlib.collections.PathCollection at 0x7fa5ddbbcb50>"
            ]
          },
          "metadata": {},
          "execution_count": 17
        },
        {
          "output_type": "display_data",
          "data": {
            "text/plain": [
              "<Figure size 432x288 with 1 Axes>"
            ],
            "image/png": "[encoded data removed]"
          },
          "metadata": {
            "needs_background": "light"
          }
        }
      ]
    },
    {
      "cell_type": "markdown",
      "source": [
        "Si evince dal grafico che la maggior parte delle canzoni presenti all'interno della playlist hanno una liveness minore di 20, in questo gruppo c'è peraltro la canzone più popolare della playlist."
      ],
      "metadata": {
        "id": "Mm6dbdwknwjE"
      }
    },
    {
      "cell_type": "markdown",
      "source": [
        "***Valence to Popularity***"
      ],
      "metadata": {
        "id": "-vPLdlDihHzL"
      }
    },
    {
      "cell_type": "code",
      "source": [
        "plt.scatter(top50['Valence.'],top50['Popularity'])"
      ],
      "metadata": {
        "colab": {
          "base_uri": "https://localhost:8080/",
          "height": 283
        },
        "outputId": "ad255543-733b-4107-a09c-94598baa9a3a",
        "id": "m_c7oFcjhHzN"
      },
      "execution_count": 18,
      "outputs": [
        {
          "output_type": "execute_result",
          "data": {
            "text/plain": [
              "<matplotlib.collections.PathCollection at 0x7fa5ddb3aed0>"
            ]
          },
          "metadata": {},
          "execution_count": 18
        },
        {
          "output_type": "display_data",
          "data": {
            "text/plain": [
              "<Figure size 432x288 with 1 Axes>"
            ],
            "image/png": "[encoded data removed]"
          },
          "metadata": {
            "needs_background": "light"
          }
        }
      ]
    },
    {
      "cell_type": "markdown",
      "source": [
        "La distribuzione dei dati nel grafico sovrastante non ci permette di arrivare a conclusioni che a priori sapevamo ovvero che la popolarità non è legata alla valenza della canzone (sotto si riporta nell'apposita sezione la tabella di correlazione dei dati)."
      ],
      "metadata": {
        "id": "dGFjX58jo5Uh"
      }
    },
    {
      "cell_type": "markdown",
      "source": [
        "***Length to Popularity***"
      ],
      "metadata": {
        "id": "cMHqYUYBhIYI"
      }
    },
    {
      "cell_type": "code",
      "source": [
        "plt.scatter(top50['Length.'],top50['Popularity'])"
      ],
      "metadata": {
        "colab": {
          "base_uri": "https://localhost:8080/",
          "height": 283
        },
        "outputId": "62ae5508-afc0-4c97-9e2d-21521994b63b",
        "id": "d_WcPX-shIYJ"
      },
      "execution_count": 19,
      "outputs": [
        {
          "output_type": "execute_result",
          "data": {
            "text/plain": [
              "<matplotlib.collections.PathCollection at 0x7fa5dda9b610>"
            ]
          },
          "metadata": {},
          "execution_count": 19
        },
        {
          "output_type": "display_data",
          "data": {
            "text/plain": [
              "<Figure size 432x288 with 1 Axes>"
            ],
            "image/png": "[encoded data removed]"
          },
          "metadata": {
            "needs_background": "light"
          }
        }
      ]
    },
    {
      "cell_type": "markdown",
      "source": [
        "La maggior parte delle canzoni che sono presenti nella playlist hanno una durata compresa tra i 159 e 225 secondi, tra di queste c'è anche la più popolare. Anche in questo caso comunque non si può nè arrivare alla conclusione che più aumenta la durata e più aumenta la lunghezza della canzone nè viceversa."
      ],
      "metadata": {
        "id": "X9gBwqyXpWOl"
      }
    },
    {
      "cell_type": "markdown",
      "source": [
        "***Acousticness to Popularity***"
      ],
      "metadata": {
        "id": "N1Ise_l8hIiX"
      }
    },
    {
      "cell_type": "code",
      "source": [
        "plt.scatter(top50['Acousticness..'],top50['Popularity'])"
      ],
      "metadata": {
        "colab": {
          "base_uri": "https://localhost:8080/",
          "height": 283
        },
        "outputId": "b1dbb4b8-4496-4032-d656-8a719109a7d8",
        "id": "AfegAo0QhIiY"
      },
      "execution_count": 20,
      "outputs": [
        {
          "output_type": "execute_result",
          "data": {
            "text/plain": [
              "<matplotlib.collections.PathCollection at 0x7fa5dda7d050>"
            ]
          },
          "metadata": {},
          "execution_count": 20
        },
        {
          "output_type": "display_data",
          "data": {
            "text/plain": [
              "<Figure size 432x288 with 1 Axes>"
            ],
            "image/png": "[encoded data removed]"
          },
          "metadata": {
            "needs_background": "light"
          }
        }
      ]
    },
    {
      "cell_type": "markdown",
      "source": [
        "C'è più coesione nella distribuzione dei dati sulla popolarità delle canzoni con un livello di acousticness compreso tra 0 e 20 quindi la maggior parte delle canzoni nella playlist ha questi valori di acousticness, ma la più popolare si trova nel gruppo restante, dove la varianza della popolarità è notevolmente maggiore, così come il range di acousticness che anch'esso risulta essere più grande(20-80)."
      ],
      "metadata": {
        "id": "ioBvs5OvpxGE"
      }
    },
    {
      "cell_type": "markdown",
      "source": [
        "***Speechiness to Popularity***"
      ],
      "metadata": {
        "id": "3Gw4wHGXiV9T"
      }
    },
    {
      "cell_type": "code",
      "source": [
        "plt.scatter(top50['Speechiness.'],top50['Popularity'])"
      ],
      "metadata": {
        "colab": {
          "base_uri": "https://localhost:8080/",
          "height": 283
        },
        "id": "7uXfVEfOiTag",
        "outputId": "7f6e7fc3-3a2a-4499-a8e6-c041c6b72ab7"
      },
      "execution_count": 21,
      "outputs": [
        {
          "output_type": "execute_result",
          "data": {
            "text/plain": [
              "<matplotlib.collections.PathCollection at 0x7fa5de8027d0>"
            ]
          },
          "metadata": {},
          "execution_count": 21
        },
        {
          "output_type": "display_data",
          "data": {
            "text/plain": [
              "<Figure size 432x288 with 1 Axes>"
            ],
            "image/png": "[encoded data removed]"
          },
          "metadata": {
            "needs_background": "light"
          }
        }
      ]
    },
    {
      "cell_type": "markdown",
      "source": [
        "La maggior parte delle canzoni presenti nella playlist ha un valore di Speechness compreso tra 0 e 10, questo gruppo di canzoni però ha anche una notevole varianza di popolarità, mentre il gruppo restante, dove \"risiede\" anche la canzone più popolare della playlist ha una varianza di popolarità decisamente inferiore."
      ],
      "metadata": {
        "id": "J5jfgr-TqaTr"
      }
    },
    {
      "cell_type": "markdown",
      "source": [
        "***Varianza dei Dati***"
      ],
      "metadata": {
        "id": "DxRaN_8wgTsY"
      }
    },
    {
      "cell_type": "markdown",
      "source": [
        "Sotto riportiamo il box plot per apprezzare la varianza della mediana del posizionamento di ogni genere, da questo grafico inoltre si evince quali generi presentino la maggior quantità di canzoni e quanto siano distaccati i posizionamenti in classifica di queste:"
      ],
      "metadata": {
        "id": "oQFoUGH3zDXH"
      }
    },
    {
      "cell_type": "code",
      "source": [
        "top50.boxplot(column= 'Position', by='Genre', vert=False, fontsize = 10, figsize = (12,10))"
      ],
      "metadata": {
        "colab": {
          "base_uri": "https://localhost:8080/",
          "height": 733
        },
        "id": "7NyNrwwBsQxH",
        "outputId": "747b4862-e17e-435a-bea1-1f9795c2cb20"
      },
      "execution_count": 22,
      "outputs": [
        {
          "output_type": "stream",
          "name": "stderr",
          "text": [
            "/usr/local/lib/python3.7/dist-packages/matplotlib/cbook/__init__.py:1376: VisibleDeprecationWarning: Creating an ndarray from ragged nested sequences (which is a list-or-tuple of lists-or-tuples-or ndarrays with different lengths or shapes) is deprecated. If you meant to do this, you must specify 'dtype=object' when creating the ndarray.\n",
            "  X = np.atleast_1d(X.T if isinstance(X, np.ndarray) else np.asarray(X))\n"
          ]
        },
        {
          "output_type": "execute_result",
          "data": {
            "text/plain": [
              "<matplotlib.axes._subplots.AxesSubplot at 0x7fa5ddfe6f10>"
            ]
          },
          "metadata": {},
          "execution_count": 22
        },
        {
          "output_type": "display_data",
          "data": {
            "text/plain": [
              "<Figure size 864x720 with 1 Axes>"
            ],
            "image/png": "[encoded data removed]"
          },
          "metadata": {
            "needs_background": "light"
          }
        }
      ]
    },
    {
      "cell_type": "markdown",
      "source": [
        "Il genere che presenta più varianza nel posizionamento in classifica è il pop seguito non di molto dal dance pop. \n",
        "Il primo di questi due -a differenza del secondo- ha la mediana più alta e quindi si evince che ha posizionamenti più alti complessivamente."
      ],
      "metadata": {
        "id": "DLrThno9jOwU"
      }
    },
    {
      "cell_type": "markdown",
      "source": [
        "Invece per la popolarità media delle canzoni per genere:"
      ],
      "metadata": {
        "id": "eiT7oh-Kfvjv"
      }
    },
    {
      "cell_type": "code",
      "source": [
        "top50.boxplot(column= 'Popularity', by='Genre', vert=False, fontsize = 10, figsize = (12,10))"
      ],
      "metadata": {
        "colab": {
          "base_uri": "https://localhost:8080/",
          "height": 733
        },
        "id": "tv5DGvX8fypf",
        "outputId": "ba5aa367-3ec7-4f8a-b09a-4887fb62e3b3"
      },
      "execution_count": 23,
      "outputs": [
        {
          "output_type": "stream",
          "name": "stderr",
          "text": [
            "/usr/local/lib/python3.7/dist-packages/matplotlib/cbook/__init__.py:1376: VisibleDeprecationWarning: Creating an ndarray from ragged nested sequences (which is a list-or-tuple of lists-or-tuples-or ndarrays with different lengths or shapes) is deprecated. If you meant to do this, you must specify 'dtype=object' when creating the ndarray.\n",
            "  X = np.atleast_1d(X.T if isinstance(X, np.ndarray) else np.asarray(X))\n"
          ]
        },
        {
          "output_type": "execute_result",
          "data": {
            "text/plain": [
              "<matplotlib.axes._subplots.AxesSubplot at 0x7fa5dd72ad10>"
            ]
          },
          "metadata": {},
          "execution_count": 23
        },
        {
          "output_type": "display_data",
          "data": {
            "text/plain": [
              "<Figure size 864x720 with 1 Axes>"
            ],
            "image/png": "[encoded data removed]"
          },
          "metadata": {
            "needs_background": "light"
          }
        }
      ]
    },
    {
      "cell_type": "markdown",
      "source": [
        "Il Dance pop è il genere la cui popolarità delle canzoni varia maggiormente, mentre si può notare che il candian pop è il genere dalla popolarità minore.\n",
        "\n"
      ],
      "metadata": {
        "id": "rTu644YNf-Wi"
      }
    },
    {
      "cell_type": "markdown",
      "source": [
        "\n",
        "\n",
        "---\n",
        "\n"
      ],
      "metadata": {
        "id": "JgoZp03iinrv"
      }
    },
    {
      "cell_type": "markdown",
      "source": [
        "***Correlazione tra i Dati:***"
      ],
      "metadata": {
        "id": "w6tcwq8nWtSK"
      }
    },
    {
      "cell_type": "markdown",
      "source": [
        "Vediamo innanzitutto l'indice di correlazione di Pearson dei dati presenti nel dataset che stiamo analizzando:"
      ],
      "metadata": {
        "id": "-lfNyq4yuwYP"
      }
    },
    {
      "cell_type": "code",
      "source": [
        "top50.corr()"
      ],
      "metadata": {
        "colab": {
          "base_uri": "https://localhost:8080/",
          "height": 394
        },
        "id": "CZnTHXQNuvsy",
        "outputId": "e0963a01-5773-4741-ddc2-8a9411c33bc4"
      },
      "execution_count": 24,
      "outputs": [
        {
          "output_type": "execute_result",
          "data": {
            "text/plain": [
              "                  Position  Beats.Per.Minute    Energy  Danceability  \\\n",
              "Position          1.000000         -0.259193  0.102649      0.122691   \n",
              "Beats.Per.Minute -0.259193          1.000000  0.043756     -0.094183   \n",
              "Energy            0.102649          0.043756  1.000000      0.018254   \n",
              "Danceability      0.122691         -0.094183  0.018254      1.000000   \n",
              "Loudness..dB..    0.011914          0.017016  0.670794      0.016255   \n",
              "Liveness          0.270659         -0.167286  0.162768     -0.149636   \n",
              "Valence.          0.137329         -0.011586  0.438820      0.172829   \n",
              "Length.          -0.065844         -0.139288  0.224677     -0.000185   \n",
              "Acousticness..   -0.015993         -0.031450 -0.339892     -0.098165   \n",
              "Speechiness.     -0.257506          0.557052 -0.089860     -0.103472   \n",
              "Popularity       -0.160680          0.196097 -0.080295     -0.071413   \n",
              "\n",
              "                  Loudness..dB..  Liveness  Valence.   Length.  \\\n",
              "Position                0.011914  0.270659  0.137329 -0.065844   \n",
              "Beats.Per.Minute        0.017016 -0.167286 -0.011586 -0.139288   \n",
              "Energy                  0.670794  0.162768  0.438820  0.224677   \n",
              "Danceability            0.016255 -0.149636  0.172829 -0.000185   \n",
              "Loudness..dB..          1.000000  0.258652  0.237614  0.219219   \n",
              "Liveness                0.258652  1.000000  0.016123  0.131782   \n",
              "Valence.                0.237614  0.016123  1.000000 -0.017782   \n",
              "Length.                 0.219219  0.131782 -0.017782  1.000000   \n",
              "Acousticness..         -0.138300  0.021328 -0.052323 -0.076293   \n",
              "Speechiness.           -0.272213 -0.125286 -0.053242  0.046755   \n",
              "Popularity             -0.043085  0.092564 -0.317752 -0.087639   \n",
              "\n",
              "                  Acousticness..  Speechiness.  Popularity  \n",
              "Position               -0.015993     -0.257506   -0.160680  \n",
              "Beats.Per.Minute       -0.031450      0.557052    0.196097  \n",
              "Energy                 -0.339892     -0.089860   -0.080295  \n",
              "Danceability           -0.098165     -0.103472   -0.071413  \n",
              "Loudness..dB..         -0.138300     -0.272213   -0.043085  \n",
              "Liveness                0.021328     -0.125286    0.092564  \n",
              "Valence.               -0.052323     -0.053242   -0.317752  \n",
              "Length.                -0.076293      0.046755   -0.087639  \n",
              "Acousticness..          1.000000      0.008293   -0.034684  \n",
              "Speechiness.            0.008293      1.000000    0.238553  \n",
              "Popularity             -0.034684      0.238553    1.000000  "
            ],
            "text/html": [
              "\n",
              "  <div id=\"df-bbd5b56c-9e43-4f71-aab2-44663d4be5bb\">\n",
              "    <div class=\"colab-df-container\">\n",
              "      <div>\n",
              "<style scoped>\n",
              "    .dataframe tbody tr th:only-of-type {\n",
              "        vertical-align: middle;\n",
              "    }\n",
              "\n",
              "    .dataframe tbody tr th {\n",
              "        vertical-align: top;\n",
              "    }\n",
              "\n",
              "    .dataframe thead th {\n",
              "        text-align: right;\n",
              "    }\n",
              "</style>\n",
              "<table border=\"1\" class=\"dataframe\">\n",
              "  <thead>\n",
              "    <tr style=\"text-align: right;\">\n",
              "      <th></th>\n",
              "      <th>Position</th>\n",
              "      <th>Beats.Per.Minute</th>\n",
              "      <th>Energy</th>\n",
              "      <th>Danceability</th>\n",
              "      <th>Loudness..dB..</th>\n",
              "      <th>Liveness</th>\n",
              "      <th>Valence.</th>\n",
              "      <th>Length.</th>\n",
              "      <th>Acousticness..</th>\n",
              "      <th>Speechiness.</th>\n",
              "      <th>Popularity</th>\n",
              "    </tr>\n",
              "  </thead>\n",
              "  <tbody>\n",
              "    <tr>\n",
              "      <th>Position</th>\n",
              "      <td>1.000000</td>\n",
              "      <td>-0.259193</td>\n",
              "      <td>0.102649</td>\n",
              "      <td>0.122691</td>\n",
              "      <td>0.011914</td>\n",
              "      <td>0.270659</td>\n",
              "      <td>0.137329</td>\n",
              "      <td>-0.065844</td>\n",
              "      <td>-0.015993</td>\n",
              "      <td>-0.257506</td>\n",
              "      <td>-0.160680</td>\n",
              "    </tr>\n",
              "    <tr>\n",
              "      <th>Beats.Per.Minute</th>\n",
              "      <td>-0.259193</td>\n",
              "      <td>1.000000</td>\n",
              "      <td>0.043756</td>\n",
              "      <td>-0.094183</td>\n",
              "      <td>0.017016</td>\n",
              "      <td>-0.167286</td>\n",
              "      <td>-0.011586</td>\n",
              "      <td>-0.139288</td>\n",
              "      <td>-0.031450</td>\n",
              "      <td>0.557052</td>\n",
              "      <td>0.196097</td>\n",
              "    </tr>\n",
              "    <tr>\n",
              "      <th>Energy</th>\n",
              "      <td>0.102649</td>\n",
              "      <td>0.043756</td>\n",
              "      <td>1.000000</td>\n",
              "      <td>0.018254</td>\n",
              "      <td>0.670794</td>\n",
              "      <td>0.162768</td>\n",
              "      <td>0.438820</td>\n",
              "      <td>0.224677</td>\n",
              "      <td>-0.339892</td>\n",
              "      <td>-0.089860</td>\n",
              "      <td>-0.080295</td>\n",
              "    </tr>\n",
              "    <tr>\n",
              "      <th>Danceability</th>\n",
              "      <td>0.122691</td>\n",
              "      <td>-0.094183</td>\n",
              "      <td>0.018254</td>\n",
              "      <td>1.000000</td>\n",
              "      <td>0.016255</td>\n",
              "      <td>-0.149636</td>\n",
              "      <td>0.172829</td>\n",
              "      <td>-0.000185</td>\n",
              "      <td>-0.098165</td>\n",
              "      <td>-0.103472</td>\n",
              "      <td>-0.071413</td>\n",
              "    </tr>\n",
              "    <tr>\n",
              "      <th>Loudness..dB..</th>\n",
              "      <td>0.011914</td>\n",
              "      <td>0.017016</td>\n",
              "      <td>0.670794</td>\n",
              "      <td>0.016255</td>\n",
              "      <td>1.000000</td>\n",
              "      <td>0.258652</td>\n",
              "      <td>0.237614</td>\n",
              "      <td>0.219219</td>\n",
              "      <td>-0.138300</td>\n",
              "      <td>-0.272213</td>\n",
              "      <td>-0.043085</td>\n",
              "    </tr>\n",
              "    <tr>\n",
              "      <th>Liveness</th>\n",
              "      <td>0.270659</td>\n",
              "      <td>-0.167286</td>\n",
              "      <td>0.162768</td>\n",
              "      <td>-0.149636</td>\n",
              "      <td>0.258652</td>\n",
              "      <td>1.000000</td>\n",
              "      <td>0.016123</td>\n",
              "      <td>0.131782</td>\n",
              "      <td>0.021328</td>\n",
              "      <td>-0.125286</td>\n",
              "      <td>0.092564</td>\n",
              "    </tr>\n",
              "    <tr>\n",
              "      <th>Valence.</th>\n",
              "      <td>0.137329</td>\n",
              "      <td>-0.011586</td>\n",
              "      <td>0.438820</td>\n",
              "      <td>0.172829</td>\n",
              "      <td>0.237614</td>\n",
              "      <td>0.016123</td>\n",
              "      <td>1.000000</td>\n",
              "      <td>-0.017782</td>\n",
              "      <td>-0.052323</td>\n",
              "      <td>-0.053242</td>\n",
              "      <td>-0.317752</td>\n",
              "    </tr>\n",
              "    <tr>\n",
              "      <th>Length.</th>\n",
              "      <td>-0.065844</td>\n",
              "      <td>-0.139288</td>\n",
              "      <td>0.224677</td>\n",
              "      <td>-0.000185</td>\n",
              "      <td>0.219219</td>\n",
              "      <td>0.131782</td>\n",
              "      <td>-0.017782</td>\n",
              "      <td>1.000000</td>\n",
              "      <td>-0.076293</td>\n",
              "      <td>0.046755</td>\n",
              "      <td>-0.087639</td>\n",
              "    </tr>\n",
              "    <tr>\n",
              "      <th>Acousticness..</th>\n",
              "      <td>-0.015993</td>\n",
              "      <td>-0.031450</td>\n",
              "      <td>-0.339892</td>\n",
              "      <td>-0.098165</td>\n",
              "      <td>-0.138300</td>\n",
              "      <td>0.021328</td>\n",
              "      <td>-0.052323</td>\n",
              "      <td>-0.076293</td>\n",
              "      <td>1.000000</td>\n",
              "      <td>0.008293</td>\n",
              "      <td>-0.034684</td>\n",
              "    </tr>\n",
              "    <tr>\n",
              "      <th>Speechiness.</th>\n",
              "      <td>-0.257506</td>\n",
              "      <td>0.557052</td>\n",
              "      <td>-0.089860</td>\n",
              "      <td>-0.103472</td>\n",
              "      <td>-0.272213</td>\n",
              "      <td>-0.125286</td>\n",
              "      <td>-0.053242</td>\n",
              "      <td>0.046755</td>\n",
              "      <td>0.008293</td>\n",
              "      <td>1.000000</td>\n",
              "      <td>0.238553</td>\n",
              "    </tr>\n",
              "    <tr>\n",
              "      <th>Popularity</th>\n",
              "      <td>-0.160680</td>\n",
              "      <td>0.196097</td>\n",
              "      <td>-0.080295</td>\n",
              "      <td>-0.071413</td>\n",
              "      <td>-0.043085</td>\n",
              "      <td>0.092564</td>\n",
              "      <td>-0.317752</td>\n",
              "      <td>-0.087639</td>\n",
              "      <td>-0.034684</td>\n",
              "      <td>0.238553</td>\n",
              "      <td>1.000000</td>\n",
              "    </tr>\n",
              "  </tbody>\n",
              "</table>\n",
              "</div>\n",
              "      <button class=\"colab-df-convert\" onclick=\"convertToInteractive('df-bbd5b56c-9e43-4f71-aab2-44663d4be5bb')\"\n",
              "              title=\"Convert this dataframe to an interactive table.\"\n",
              "              style=\"display:none;\">\n",
              "        \n",
              "  <svg xmlns=\"http://www.w3.org/2000/svg\" height=\"24px\"viewBox=\"0 0 24 24\"\n",
              "       width=\"24px\">\n",
              "    <path d=\"M0 0h24v24H0V0z\" fill=\"none\"/>\n",
              "    <path d=\"M18.56 5.44l.94 2.06.94-2.06 2.06-.94-2.06-.94-.94-2.06-.94 2.06-2.06.94zm-11 1L8.5 8.5l.94-2.06 2.06-.94-2.06-.94L8.5 2.5l-.94 2.06-2.06.94zm10 10l.94 2.06.94-2.06 2.06-.94-2.06-.94-.94-2.06-.94 2.06-2.06.94z\"/><path d=\"M17.41 7.96l-1.37-1.37c-.4-.4-.92-.59-1.43-.59-.52 0-1.04.2-1.43.59L10.3 9.45l-7.72 7.72c-.78.78-.78 2.05 0 2.83L4 21.41c.39.39.9.59 1.41.59.51 0 1.02-.2 1.41-.59l7.78-7.78 2.81-2.81c.8-.78.8-2.07 0-2.86zM5.41 20L4 18.59l7.72-7.72 1.47 1.35L5.41 20z\"/>\n",
              "  </svg>\n",
              "      </button>\n",
              "      \n",
              "  <style>\n",
              "    .colab-df-container {\n",
              "      display:flex;\n",
              "      flex-wrap:wrap;\n",
              "      gap: 12px;\n",
              "    }\n",
              "\n",
              "    .colab-df-convert {\n",
              "      background-color: #E8F0FE;\n",
              "      border: none;\n",
              "      border-radius: 50%;\n",
              "      cursor: pointer;\n",
              "      display: none;\n",
              "      fill: #1967D2;\n",
              "      height: 32px;\n",
              "      padding: 0 0 0 0;\n",
              "      width: 32px;\n",
              "    }\n",
              "\n",
              "    .colab-df-convert:hover {\n",
              "      background-color: #E2EBFA;\n",
              "      box-shadow: 0px 1px 2px rgba(60, 64, 67, 0.3), 0px 1px 3px 1px rgba(60, 64, 67, 0.15);\n",
              "      fill: #174EA6;\n",
              "    }\n",
              "\n",
              "    [theme=dark] .colab-df-convert {\n",
              "      background-color: #3B4455;\n",
              "      fill: #D2E3FC;\n",
              "    }\n",
              "\n",
              "    [theme=dark] .colab-df-convert:hover {\n",
              "      background-color: #434B5C;\n",
              "      box-shadow: 0px 1px 3px 1px rgba(0, 0, 0, 0.15);\n",
              "      filter: drop-shadow(0px 1px 2px rgba(0, 0, 0, 0.3));\n",
              "      fill: #FFFFFF;\n",
              "    }\n",
              "  </style>\n",
              "\n",
              "      <script>\n",
              "        const buttonEl =\n",
              "          document.querySelector('#df-bbd5b56c-9e43-4f71-aab2-44663d4be5bb button.colab-df-convert');\n",
              "        buttonEl.style.display =\n",
              "          google.colab.kernel.accessAllowed ? 'block' : 'none';\n",
              "\n",
              "        async function convertToInteractive(key) {\n",
              "          const element = document.querySelector('#df-bbd5b56c-9e43-4f71-aab2-44663d4be5bb');\n",
              "          const dataTable =\n",
              "            await google.colab.kernel.invokeFunction('convertToInteractive',\n",
              "                                                     [key], {});\n",
              "          if (!dataTable) return;\n",
              "\n",
              "          const docLinkHtml = 'Like what you see? Visit the ' +\n",
              "            '<a target=\"_blank\" href=https://colab.research.google.com/notebooks/data_table.ipynb>data table notebook</a>'\n",
              "            + ' to learn more about interactive tables.';\n",
              "          element.innerHTML = '';\n",
              "          dataTable['output_type'] = 'display_data';\n",
              "          await google.colab.output.renderOutput(dataTable, element);\n",
              "          const docLink = document.createElement('div');\n",
              "          docLink.innerHTML = docLinkHtml;\n",
              "          element.appendChild(docLink);\n",
              "        }\n",
              "      </script>\n",
              "    </div>\n",
              "  </div>\n",
              "  "
            ]
          },
          "metadata": {},
          "execution_count": 24
        }
      ]
    },
    {
      "cell_type": "markdown",
      "source": [
        "Features correlate tra loro(considero solo valori maggiori di 0.20):\n",
        "- Position -> Liveness\n",
        "- BPM -> Speechiness, Popularity\n",
        "- Energy -> Loudness, Valence, Length\n",
        "- Danceability -> non risulta essere correlato a niente con questi criteri\n",
        "- Loudness -> Energy, Liveness, Valence, Length\n",
        "- Liveness -> Position, Loudness, Acousticness\n",
        "- Valence -> Energy, Loudness, Popularity \n",
        "\n",
        "- (...ripetizione dato che sono correlate)\n",
        "\n",
        "\n",
        "Features scorrelate tra loro(considero solo valori inferiori di -0.20):\n",
        "- Position -> Speechiness\n",
        "- BPM -> Position, Acousticness\n",
        "- Energy -> Acousticness\n",
        "- Danceability -> non risulta essere scorrelato a niente con questi criteri\n",
        "- Loudness -> Speechiness\n",
        "- Liveness -> non risulta essere scorrelato a niente con questi criteri\n",
        "- Valence -> Popularity\n",
        "\n",
        "- (...ripetizione dato che sono correlate)"
      ],
      "metadata": {
        "id": "HEFO5LeqxIqJ"
      }
    },
    {
      "cell_type": "markdown",
      "source": [
        "Da questo possiamo trarre alcune deduzioni da analizzare:\n",
        "\n",
        "*   La posizione in classifica sembra non essere \"affetta\" da nessun altra caratteristica/attributo. Solo la liveness arriva ad influire ma veramente poco.\n",
        "*   Un dato curioso è tra i Beats per Minute e la Specchness : 0.557052, il quale è un valore abbastanza alto di correlazione tra i due attributi/carattersitiche.\n",
        "*   L'energia di una canzone è correlata abbastanza fortemente con la sua Loudness e un po' di meno con i bpm(in questa playlist).\n",
        "*   Il mood positivo della canzone è parzialmente influenzato dal numero di bpm della canzone.\n",
        "\n",
        "In sostanza comunque i dati non sembrano essere molto correlati tra di loro, o per lo meno non sembrano esserci dati \"legati\" tra loro in modo rigoroso.\n",
        "\n"
      ],
      "metadata": {
        "id": "TKvYqh8rvFtT"
      }
    },
    {
      "cell_type": "markdown",
      "source": [
        "**T-Test tra genere Pop e Dance Pop:**"
      ],
      "metadata": {
        "id": "OwiGNBPPY6Fg"
      }
    },
    {
      "cell_type": "markdown",
      "source": [
        "Vediamo ora come eseguire il t-test tra due generi pop(quelli più popolari e presenti in classifica) per confrontare:\n",
        "1.   quale dei due ha più o meno popolarità media\n",
        "2.   quale dei due ha più o meno il posizionamento \n",
        "medio alto\n",
        "3.   quale dei due ha più o meno bpm medio"
      ],
      "metadata": {
        "id": "IqDYygHnWgkN"
      }
    },
    {
      "cell_type": "markdown",
      "source": [
        "\n",
        "\n",
        "\n",
        "\n",
        "---\n",
        "\n",
        "\n",
        "\n",
        "**PRECISAZIONE T-TEST**\n",
        "\n",
        "Quando si calcola il p-value si deve confrontare con il valore di significativita' statistica. \n",
        "Quindi, se scegliete una confidenza di 0.95, dovete confrontare il p-value con 0.05. \n",
        "In modo analogo per altri valori. \n",
        "Questo vale sia per il t-test a una coda, che per il t-test a due code. \n",
        "Se il p-value e' maggiore della significativita', accetto l'ipotesi nulla.\n",
        "Se il p-value e' minore, rigetto l'ipotesi nulla.\n",
        "\n",
        "---\n",
        "\n",
        "\n"
      ],
      "metadata": {
        "id": "aEKIiEo2xxKJ"
      }
    },
    {
      "cell_type": "markdown",
      "source": [
        "Dobbiamo partire dal formulare un'ipotesi nulla: \n",
        "- la popolarità media in classifca del genere pop è maggiore rispetto al dance pop, quindi l'H alternativa è che il posizionamento medio in classifica del genere pop è minore rispetto al dance pop."
      ],
      "metadata": {
        "id": "9jW9AKraWcms"
      }
    },
    {
      "cell_type": "code",
      "source": [
        "t_statistic, p_value = stats.ttest_1samp(a= top50['Popularity'][top50['Genre']=='pop'], popmean= top50['Popularity'][top50['Genre']=='dance pop'].mean(), alternative=\"less\")\n",
        "print(t_statistic)\n",
        "print(p_value)"
      ],
      "metadata": {
        "colab": {
          "base_uri": "https://localhost:8080/"
        },
        "id": "3I_9C2zbuokh",
        "outputId": "c77f9ce0-2399-4f19-ae40-40a4abeedf85"
      },
      "execution_count": 25,
      "outputs": [
        {
          "output_type": "stream",
          "name": "stdout",
          "text": [
            "0.10367452745642448\n",
            "0.5395969102146674\n"
          ]
        }
      ]
    },
    {
      "cell_type": "markdown",
      "source": [
        "Dato che abbiamo preso un livello di confidenza di 0.95 dobbiamo accettare l'ipotesi nulla dato che il valore del p-value è notevolmente maggiore di 0.05 che è il nostro livello di significatività.\n",
        "\n",
        "Ciò detto, comunque, possiamo vedere che dobbiamo accettare l'ipotesi nulla anche se fosse : \n",
        "- il posizionamento medio in classifica del genere pop è minore rispetto a quello del genere dance pop \n",
        "\n",
        "dato che otteniamo il corrispettivo valore probabilistico e quindi circa 0.46 (l'alternativa sarà dunque \"greater\")"
      ],
      "metadata": {
        "id": "EbiAyBeV3x2r"
      }
    },
    {
      "cell_type": "code",
      "source": [
        "t_statistic, p_value = stats.ttest_1samp(a= top50['Popularity'][top50['Genre']=='pop'], popmean= top50['Popularity'][top50['Genre']=='dance pop'].mean(), alternative=\"greater\")\n",
        "print(t_statistic)\n",
        "print(p_value)"
      ],
      "metadata": {
        "colab": {
          "base_uri": "https://localhost:8080/"
        },
        "id": "Ini-lyXW4n_d",
        "outputId": "05b40024-b745-4b7e-db74-039863d635e2"
      },
      "execution_count": 26,
      "outputs": [
        {
          "output_type": "stream",
          "name": "stdout",
          "text": [
            "0.10367452745642448\n",
            "0.46040308978533256\n"
          ]
        }
      ]
    },
    {
      "cell_type": "markdown",
      "source": [
        "Il caso in cui il test viene fatto con ipotesi nulla:\n",
        "- il posizionamento medio in classifca del genere pop è uguale rispetto al dance pop\n",
        "\n",
        "non specificando l'alternative nella funzione del prenderà l'alternativa di default ovvero che siano diversi."
      ],
      "metadata": {
        "id": "kPrebeseDp2c"
      }
    },
    {
      "cell_type": "code",
      "source": [
        "t_statistic, p_value = stats.ttest_1samp(a= top50['Popularity'][top50['Genre']=='pop'], popmean= top50['Popularity'][top50['Genre']=='dance pop'].mean())\n",
        "print(t_statistic)\n",
        "print(p_value)"
      ],
      "metadata": {
        "colab": {
          "base_uri": "https://localhost:8080/"
        },
        "id": "h-yWPbaxE-MC",
        "outputId": "496c93aa-f3e8-47c7-bb6a-e532fa4c17bb"
      },
      "execution_count": 27,
      "outputs": [
        {
          "output_type": "stream",
          "name": "stdout",
          "text": [
            "0.10367452745642448\n",
            "0.9208061795706651\n"
          ]
        }
      ]
    },
    {
      "cell_type": "markdown",
      "source": [
        "Come ci aspettavamo viene un valore molto alto quindi accettiamo l'ipotesi nulla e quindi la popolarità del genere pop è molto uguale(simile) alla popolarità del dancepop."
      ],
      "metadata": {
        "id": "hSq6BoAZFD6A"
      }
    },
    {
      "cell_type": "markdown",
      "source": [
        "Possiamo però notare che questo non avviene nel caso del posizionamento:"
      ],
      "metadata": {
        "id": "LfU1zPz4G7Nw"
      }
    },
    {
      "cell_type": "code",
      "source": [
        "t_statistic, p_value = stats.ttest_1samp(a= top50['Position'][top50['Genre']=='pop'], popmean= top50['Position'][top50['Genre']=='dance pop'].mean())\n",
        "print(t_statistic)\n",
        "print(p_value)"
      ],
      "metadata": {
        "colab": {
          "base_uri": "https://localhost:8080/"
        },
        "id": "2cwTSZwUG5_8",
        "outputId": "75948ca7-6922-4c9c-8af2-919ae523cf2c"
      },
      "execution_count": 28,
      "outputs": [
        {
          "output_type": "stream",
          "name": "stdout",
          "text": [
            "-0.6110094553802669\n",
            "0.5636087300465286\n"
          ]
        }
      ]
    },
    {
      "cell_type": "markdown",
      "source": [
        "In questo caso l'ipotesi nulla è: \n",
        "- il posizionamento medio del genere pop è uguale a quello del genere dance pop.\n",
        "\n",
        "Possiamo notare come questo valore sia notevolmente inferiore rispetto al t-test precedente sulla stessa condizione analizzando la Popolarità, però bisogna accettarla comunque dato che è superiore al livello di soglia 0.05.\n",
        "\n",
        "Andando a rifarlo con l'attributo alternative in entrambi i casi:"
      ],
      "metadata": {
        "id": "-jvFLbRLbVO-"
      }
    },
    {
      "cell_type": "code",
      "source": [
        "t_statistic, p_value = stats.ttest_1samp(a= top50['Position'][top50['Genre']=='pop'], popmean= top50['Position'][top50['Genre']=='dance pop'].mean(), alternative = \"greater\")\n",
        "print(t_statistic)\n",
        "print(p_value)"
      ],
      "metadata": {
        "colab": {
          "base_uri": "https://localhost:8080/"
        },
        "id": "C5LTFg9dcOQ-",
        "outputId": "ba0e3f91-e4d7-4666-bcd3-9b659ed6bb2e"
      },
      "execution_count": 29,
      "outputs": [
        {
          "output_type": "stream",
          "name": "stdout",
          "text": [
            "-0.6110094553802669\n",
            "0.7181956349767358\n"
          ]
        }
      ]
    },
    {
      "cell_type": "code",
      "source": [
        "t_statistic, p_value = stats.ttest_1samp(a= top50['Position'][top50['Genre']=='pop'], popmean= top50['Position'][top50['Genre']=='dance pop'].mean(), alternative = \"less\")\n",
        "print(t_statistic)\n",
        "print(p_value)"
      ],
      "metadata": {
        "colab": {
          "base_uri": "https://localhost:8080/"
        },
        "id": "TJFQfA1Wb75g",
        "outputId": "fce0d2c5-1615-412a-9622-ea6980f0dd26"
      },
      "execution_count": 30,
      "outputs": [
        {
          "output_type": "stream",
          "name": "stdout",
          "text": [
            "-0.6110094553802669\n",
            "0.2818043650232643\n"
          ]
        }
      ]
    },
    {
      "cell_type": "markdown",
      "source": [
        "Devo accettare le ipotesi nulle in tutti e due i casi analizzando i p-value ottenuti. \n",
        "\n",
        "Possiamo però notare come il posizionamento medio in classifica del genere pop sia maggiore rispetto a quello del genere dancepop confrontando proprio questi valori dei p-value ottenuti dai due t-test.\n"
      ],
      "metadata": {
        "id": "yyj4IOhocGPl"
      }
    },
    {
      "cell_type": "markdown",
      "source": [
        "**T-Test tra genere Pop e Canadian Pop**"
      ],
      "metadata": {
        "id": "2RW5_j18acaB"
      }
    },
    {
      "cell_type": "markdown",
      "source": [
        "Incuriosisce la differenza di varianza di popolarità e di posizionamento dei generi pop e canadian pop nonostante appunto risultino sotto la sovracategoria pop.. Analizziamo la correlazione tra i due generi e i valori dei loro attributi estraendo informazioni interessanti.\n"
      ],
      "metadata": {
        "id": "OS9_FAkL2-L6"
      }
    },
    {
      "cell_type": "markdown",
      "source": [
        "***- Loudness:***"
      ],
      "metadata": {
        "id": "5NDdispESfho"
      }
    },
    {
      "cell_type": "code",
      "source": [
        "t_statistic, p_value = stats.ttest_1samp(a= top50['Loudness..dB..'][top50['Genre']=='pop'], popmean= top50['Loudness..dB..'][top50['Genre']=='canadian pop'].mean(), alternative = 'greater')\n",
        "print(t_statistic)\n",
        "print(p_value)"
      ],
      "metadata": {
        "colab": {
          "base_uri": "https://localhost:8080/"
        },
        "id": "wEmqC09Y7RhT",
        "outputId": "dcf4ee5d-700e-405d-afa6-6d6e379f76d9"
      },
      "execution_count": 31,
      "outputs": [
        {
          "output_type": "stream",
          "name": "stdout",
          "text": [
            "-2.1213203435596424\n",
            "0.9609296252943922\n"
          ]
        }
      ]
    },
    {
      "cell_type": "markdown",
      "source": [
        "Il t-test riporta un p-value notevolmente maggiore del livello di sigificatività 0.05 e quindi accettiamo l'ipotesi nulla:\n",
        "- La potenza delle canzoni del genere pop è minore rispetto a quella del genere canadian pop, dato che il valore ottenuto dal p-value è notevolmente maggiore di 0.05.\n",
        "\n",
        "Ciò si può apprezzare meglio dal controesempio utilizzando l'alternativa less:"
      ],
      "metadata": {
        "id": "SzxtGz3qM4HU"
      }
    },
    {
      "cell_type": "code",
      "source": [
        "t_statistic, p_value = stats.ttest_1samp(a= top50['Loudness..dB..'][top50['Genre']=='pop'], popmean= top50['Loudness..dB..'][top50['Genre']=='canadian pop'].mean(), alternative = 'less')\n",
        "print(t_statistic)\n",
        "print(p_value)"
      ],
      "metadata": {
        "colab": {
          "base_uri": "https://localhost:8080/"
        },
        "id": "hfFtI-lydLZ3",
        "outputId": "3d57e5c3-fe9e-422a-e5c4-b0e3462a6ade"
      },
      "execution_count": 32,
      "outputs": [
        {
          "output_type": "stream",
          "name": "stdout",
          "text": [
            "-2.1213203435596424\n",
            "0.03907037470560787\n"
          ]
        }
      ]
    },
    {
      "cell_type": "markdown",
      "source": [
        "In questo caso, come ci aspettavamo, otteniamo un valore del p-value inferiore al livello di significatività e quindi scartiamo l'ipotesi nulla sopra riportata a favore dell'ipotesi alternativa:\n",
        "- La potenza delle canzoni del genere pop è maggiore rispetto a quella del genere canadian pop, dato che il valore ottenuto dal p-value è minore di 0.05."
      ],
      "metadata": {
        "id": "lAqv1hpLdPp4"
      }
    },
    {
      "cell_type": "markdown",
      "source": [
        "***- Liveness:***"
      ],
      "metadata": {
        "id": "ehmbmiMjSjr2"
      }
    },
    {
      "cell_type": "code",
      "source": [
        "t_statistic, p_value = stats.ttest_1samp(a= top50['Liveness'][top50['Genre']=='pop'], popmean= top50['Liveness'][top50['Genre']=='canadian pop'].mean(), alternative = 'greater')\n",
        "print(t_statistic)\n",
        "print(p_value)"
      ],
      "metadata": {
        "colab": {
          "base_uri": "https://localhost:8080/"
        },
        "id": "o3HMtUHr7eyn",
        "outputId": "beb5ec22-2faa-47cd-e2e4-6be5c7c92291"
      },
      "execution_count": 33,
      "outputs": [
        {
          "output_type": "stream",
          "name": "stdout",
          "text": [
            "0.4086347063482532\n",
            "0.3484960847425449\n"
          ]
        }
      ]
    },
    {
      "cell_type": "markdown",
      "source": [
        "Confermiamo l'ipotesi nulla:\n",
        "- La liveness delle canzoni del genere pop è minore rispetto a quella del genere canadian pop, dato che il valore ottenuto dal p-value è notevolmente maggiore di 0.05.\n",
        "\n",
        "Anche se eseguendo il t-test complementare:"
      ],
      "metadata": {
        "id": "P__pQNKONPLZ"
      }
    },
    {
      "cell_type": "code",
      "source": [
        "t_statistic, p_value = stats.ttest_1samp(a= top50['Liveness'][top50['Genre']=='pop'], popmean= top50['Liveness'][top50['Genre']=='canadian pop'].mean(), alternative = 'less')\n",
        "print(t_statistic)\n",
        "print(p_value)"
      ],
      "metadata": {
        "colab": {
          "base_uri": "https://localhost:8080/"
        },
        "id": "-9RiomxnRHH3",
        "outputId": "31581aea-54d1-4da0-b454-8b2baa9319f2"
      },
      "execution_count": 34,
      "outputs": [
        {
          "output_type": "stream",
          "name": "stdout",
          "text": [
            "0.4086347063482532\n",
            "0.6515039152574551\n"
          ]
        }
      ]
    },
    {
      "cell_type": "markdown",
      "source": [
        "Si nota che si ottiene un valore del p-vlaue di 0.65 con l'alternativa greater e che quindi dobbiamo confermare l'ipotesi nulla:\n",
        "- La liveness delle canzoni del genere pop è maggiore rispetto a quella del genere canadian pop, dato che il valore ottenuto dal p-value è notevolmente maggiore di 0.05.\n",
        "\n",
        "Possiamo quindi concludere che questa affermazione è confermata maggiormente rispetto alla precedente proprio confrontando i valori dei p-value ottenuti con i t-test eseguiti.\n",
        "\n",
        "Quindi si può dire complessivamente che la Liveness delle canzoni del genere pop è maggiore rispetto a quella del genere canadian pop. \n",
        "\n",
        "Ragioneremo così di conseguenza per tutti gli altri t-test con valori simili."
      ],
      "metadata": {
        "id": "TnQSvquoRHws"
      }
    },
    {
      "cell_type": "markdown",
      "source": [
        "***- BPM:***"
      ],
      "metadata": {
        "id": "Z21y87RESIM8"
      }
    },
    {
      "cell_type": "code",
      "source": [
        "t_statistic, p_value = stats.ttest_1samp(a= top50['Beats.Per.Minute'][top50['Genre']=='pop'], popmean= top50['Beats.Per.Minute'][top50['Genre']=='canadian pop'].mean(), alternative = 'greater')\n",
        "print(t_statistic)\n",
        "print(p_value)"
      ],
      "metadata": {
        "colab": {
          "base_uri": "https://localhost:8080/"
        },
        "id": "VYEuDgzk5zSw",
        "outputId": "1d5e2c8c-ceab-4721-a338-42d239a2267a"
      },
      "execution_count": 35,
      "outputs": [
        {
          "output_type": "stream",
          "name": "stdout",
          "text": [
            "-0.7651969130815115\n",
            "0.7634156949583331\n"
          ]
        }
      ]
    },
    {
      "cell_type": "markdown",
      "source": [
        "I BPM è sono notevolmente maggiori nel genere canadian pop rispetto al pop, siccome viene confermata l'ipotesi nulla:\n",
        "- i BPM del genere pop sono minori rispetto a quelli del genere canadian pop, dato che il valore ottenuto dal p-value è notevolmente maggiore di 0.05."
      ],
      "metadata": {
        "id": "cicJPhYIMnUV"
      }
    },
    {
      "cell_type": "markdown",
      "source": [
        "***- Energy:***"
      ],
      "metadata": {
        "id": "OYFezOqkRV3Q"
      }
    },
    {
      "cell_type": "code",
      "source": [
        "t_statistic, p_value = stats.ttest_1samp(a= top50['Energy'][top50['Genre']=='pop'], popmean= top50['Energy'][top50['Genre']=='canadian pop'].mean(), alternative = 'greater')\n",
        "print(t_statistic)\n",
        "print(p_value)"
      ],
      "metadata": {
        "colab": {
          "base_uri": "https://localhost:8080/"
        },
        "id": "BicUQj-e6Ur0",
        "outputId": "24f7319e-dab3-4e08-8a7a-27d5525bbe0b"
      },
      "execution_count": 36,
      "outputs": [
        {
          "output_type": "stream",
          "name": "stdout",
          "text": [
            "-0.8236109703919069\n",
            "0.779169615459225\n"
          ]
        }
      ]
    },
    {
      "cell_type": "markdown",
      "source": [
        "L'Energia è notevolmente maggiore nel genere canadian pop rispetto al pop, siccome viene confermata l'ipotesi nulla:\n",
        "- L' energia delle canzoni del genere pop è minore rispetto a quella del genere canadian pop, dato che il valore ottenuto dal p-value è notevolmente maggiore di 0.05."
      ],
      "metadata": {
        "id": "56lE5TA8MyL_"
      }
    },
    {
      "cell_type": "markdown",
      "source": [
        "***- Valence:***"
      ],
      "metadata": {
        "id": "mVanG4N2SpMI"
      }
    },
    {
      "cell_type": "code",
      "source": [
        "t_statistic, p_value = stats.ttest_1samp(a= top50['Valence.'][top50['Genre']=='pop'], popmean= top50['Valence.'][top50['Genre']=='canadian pop'].mean(), alternative = 'greater')\n",
        "print(t_statistic)\n",
        "print(p_value)"
      ],
      "metadata": {
        "colab": {
          "base_uri": "https://localhost:8080/"
        },
        "id": "6VdpUUaO8P7b",
        "outputId": "ee698ca4-739e-4c5b-fd8a-508a81342c1d"
      },
      "execution_count": 37,
      "outputs": [
        {
          "output_type": "stream",
          "name": "stdout",
          "text": [
            "-2.716872346805644\n",
            "0.9826065130631729\n"
          ]
        }
      ]
    },
    {
      "cell_type": "code",
      "source": [
        "t_statistic, p_value = stats.ttest_1samp(a= top50['Valence.'][top50['Genre']=='pop'], popmean= top50['Valence.'][top50['Genre']=='canadian pop'].mean(), alternative = 'less')\n",
        "print(t_statistic)\n",
        "print(p_value)"
      ],
      "metadata": {
        "colab": {
          "base_uri": "https://localhost:8080/"
        },
        "id": "7xvhRPGqNwtt",
        "outputId": "46e44034-e0df-44e2-aaf1-ef8dc4a1e162"
      },
      "execution_count": 38,
      "outputs": [
        {
          "output_type": "stream",
          "name": "stdout",
          "text": [
            "-2.716872346805644\n",
            "0.017393486936827105\n"
          ]
        }
      ]
    },
    {
      "cell_type": "markdown",
      "source": [
        "La \"valenza\" della canzone è notevolmente maggiore nel genere canadian pop rispetto al pop.\n",
        "\n",
        "In questo caso possiamo apprezzare maggiormente con le due alternative questa conclusione:\n",
        "- con l'alternativa greater accettiamo l'ipotesi nulla: \n",
        "    - la valenza del genere pop è minore di quella del genere canadian pop dato che il p-value ottenuto con il t-test è notevolmente maggiore di 0.05.\n",
        "- con l'alternativa less dobbiamo scartare l'ipotesi nulla: \n",
        "  - la valenza del genere pop è maggiore di quella del genere canadian pop, dato che il p-value ottenuto con il t-test è inferiore di 0.05."
      ],
      "metadata": {
        "id": "dAkkcXP9NoCy"
      }
    },
    {
      "cell_type": "markdown",
      "source": [
        "***- Lunghezza:***"
      ],
      "metadata": {
        "id": "gouo0cQVStbj"
      }
    },
    {
      "cell_type": "code",
      "source": [
        "t_statistic, p_value = stats.ttest_1samp(a= top50['Length.'][top50['Genre']=='pop'],popmean= top50['Length.'][top50['Genre']=='canadian pop'].mean(), alternative = 'less')\n",
        "print(t_statistic)\n",
        "print(p_value)"
      ],
      "metadata": {
        "colab": {
          "base_uri": "https://localhost:8080/"
        },
        "id": "AQSnBH0B85Kd",
        "outputId": "c7c6ea7e-955a-4c82-f6e2-9d56be77357b"
      },
      "execution_count": 39,
      "outputs": [
        {
          "output_type": "stream",
          "name": "stdout",
          "text": [
            "0.6308601579817562\n",
            "0.7243050674426822\n"
          ]
        }
      ]
    },
    {
      "cell_type": "markdown",
      "source": [
        "Risulta che le canzoni del genere pop siano più lunghe mediamente di quelle del genere canadian pop, siccome viene confermata l'ipotesi nulla:\n",
        "- La lunghezza media delle canzoni del genere pop è maggiore rispetto a quella del genere canadian pop, dato che il valore ottenuto dal p-value è notevolmente maggiore di 0.05."
      ],
      "metadata": {
        "id": "A2VkG4zAOtNp"
      }
    },
    {
      "cell_type": "markdown",
      "source": [
        "***- Acousticness:***"
      ],
      "metadata": {
        "id": "uszeYXWjSwnR"
      }
    },
    {
      "cell_type": "code",
      "source": [
        "t_statistic, p_value = stats.ttest_1samp(a= top50['Acousticness..'][top50['Genre']=='pop'], popmean= top50['Acousticness..'][top50['Genre']=='canadian pop'].mean(), alternative = 'greater')\n",
        "print(t_statistic)\n",
        "print(p_value)"
      ],
      "metadata": {
        "colab": {
          "base_uri": "https://localhost:8080/"
        },
        "id": "WMgKWH6y9CVG",
        "outputId": "81611cbf-5a6c-4f2e-872d-62e993d87d4b"
      },
      "execution_count": 40,
      "outputs": [
        {
          "output_type": "stream",
          "name": "stdout",
          "text": [
            "-0.5558876090713705\n",
            "0.7008053704370074\n"
          ]
        }
      ]
    },
    {
      "cell_type": "markdown",
      "source": [
        "La \"acusticità\" della canzone è notevolmente maggiore nel genere canadian pop rispetto al pop, siccome viene confermata l'ipotesi nulla:\n",
        "- L'acusticità media delle canzoni del genere pop è minore rispetto a quella del genere canadian pop, dato che il valore ottenuto dal p-value è notevolmente maggiore di 0.05."
      ],
      "metadata": {
        "id": "xgbEhnXgPVAS"
      }
    },
    {
      "cell_type": "markdown",
      "source": [
        "***- Parole differenti usate all'interno della canzone(Speechness):***"
      ],
      "metadata": {
        "id": "5et6M_AYSy7N"
      }
    },
    {
      "cell_type": "code",
      "source": [
        "t_statistic, p_value = stats.ttest_1samp(a= top50['Speechiness.'][top50['Genre']=='pop'], popmean= top50['Speechiness.'][top50['Genre']=='canadian pop'].mean(), alternative = 'greater')\n",
        "print(t_statistic)\n",
        "print(p_value)"
      ],
      "metadata": {
        "colab": {
          "base_uri": "https://localhost:8080/"
        },
        "id": "b8Gal5rwLnus",
        "outputId": "183e348c-e375-4cba-f37b-d55366462e06"
      },
      "execution_count": 41,
      "outputs": [
        {
          "output_type": "stream",
          "name": "stdout",
          "text": [
            "2.1852990447290317\n",
            "0.03576840836614951\n"
          ]
        }
      ]
    },
    {
      "cell_type": "markdown",
      "source": [
        "La media delle parole differenti usate all'interno della canzone è notevolmente minore nel genere canadian pop rispetto al pop, siccome dobbiamo rigettare l'ipotesi nulla:\n",
        "- La media delle parole differenti usate all'interno delle canzoni del genere pop è minore rispetto a quella del genere canadian pop, dato che il valore ottenuto dal p-value è minore di 0.05.\n",
        "\n",
        "***Divagazione:*** \n",
        "\n",
        "Che sia proprio questa l'arma vincente del genere pop rispetto al canadian pop?\n",
        "\n",
        "Il \"saper usare\" più termini ma riuscire a fare comunque hit da posti più alti in classifica nella top50?"
      ],
      "metadata": {
        "id": "9-6kjoRiTvmR"
      }
    },
    {
      "cell_type": "code",
      "source": [
        "t_statistic, p_value = stats.ttest_1samp(a= top50['Speechiness.'][top50['Genre']=='pop'], popmean= top50['Speechiness.'][top50['Genre']=='canadian pop'].mean(), alternative = 'less')\n",
        "print(t_statistic)\n",
        "print(p_value)"
      ],
      "metadata": {
        "colab": {
          "base_uri": "https://localhost:8080/"
        },
        "id": "dt9PfCRvVARY",
        "outputId": "e0c3fa05-d3bd-49f2-dd58-de17fe974e85"
      },
      "execution_count": 42,
      "outputs": [
        {
          "output_type": "stream",
          "name": "stdout",
          "text": [
            "2.1852990447290317\n",
            "0.9642315916338505\n"
          ]
        }
      ]
    },
    {
      "cell_type": "markdown",
      "source": [
        "\n",
        "Il contro-esempio sopra riportato(t-test con alternative='less') ci mostra ancora meglio quanto detto prima, confermiamo l'ipotesi nulla:\n",
        "- La media delle parole differenti usate all'interno delle canzoni del genere pop è maggiore rispetto a quella del genere canadian pop, dato che il valore ottenuto dal p-value è notevolmente maggiore di 0.05."
      ],
      "metadata": {
        "id": "PqlmiFcGVUrF"
      }
    },
    {
      "cell_type": "markdown",
      "source": [
        "***ANALISI MACRO GENERI***"
      ],
      "metadata": {
        "id": "1qSipiE_x8xc"
      }
    },
    {
      "cell_type": "markdown",
      "source": [
        "Raggruppo ora i generi in maxi_generi: es. canadian pop viene raggruppato nel pop e cosi via.."
      ],
      "metadata": {
        "id": "_raXJew1QYfF"
      }
    },
    {
      "cell_type": "code",
      "source": [
        "genere_pop = top50[top50['Genre']=='pop']\n",
        "genere_canadian_pop = top50[top50['Genre']=='canadian pop']\n",
        "genere_panamanian = top50[top50['Genre']=='panamanian pop']\n",
        "genere_australian_pop = top50[top50['Genre']=='australian pop']\n",
        "genere_boy_band = top50[top50['Genre']=='boy band']\n",
        "maxi_genere_pop = pd.concat([genere_pop,genere_canadian_pop,genere_panamanian,genere_australian_pop,genere_boy_band],axis=0,keys=['pop', 'pop', 'pop', 'pop','pop'], names=['Genere',None]) #, ignore_index=True\n",
        "#print(len(maxi_genere_pop))\n",
        "genere_pop_house = top50[top50['Genre']=='pop house']\n",
        "genere_electropop = top50[top50['Genre']=='electropop']\n",
        "genere_dance_pop = top50[top50['Genre']=='dance pop']\n",
        "genere_edm =  top50[top50['Genre']=='edm']\n",
        "genere_brostep =  top50[top50['Genre']=='brostep']\n",
        "maxi_genere_dance = pd.concat([genere_pop_house,genere_electropop,genere_dance_pop,genere_edm,genere_brostep],axis=0,keys=['dance', 'dance', 'dance', 'dance','dance'], names=['Genere',None])\n",
        "#print(len(maxi_genere_dance))\n",
        "genere_reggaeton = top50[top50['Genre']=='reggaeton']\n",
        "genere_latin = top50[top50['Genre']=='latin']\n",
        "genere_reggaeton_flow = top50[top50['Genre']=='reggaeton flow']\n",
        "genere_r_and_b = top50[top50['Genre']=='r&b en espanol']\n",
        "maxi_genere_reggaeton = pd.concat([genere_reggaeton,genere_reggaeton_flow,genere_latin,genere_r_and_b],axis=0,keys=['reggaeton', 'reggaeton', 'reggaeton', 'reggaeton'], names=['Genere',None])\n",
        "#print(len(maxi_genere_reggaeton))\n",
        "genere_trap = top50[top50['Genre']=='trap music']\n",
        "genere_country_rap = top50[top50['Genre']=='country rap']\n",
        "genere_dfw_rap = top50[top50['Genre']=='dfw rap']\n",
        "maxi_genere_rap = pd.concat([genere_trap,genere_country_rap,genere_dfw_rap],axis=0,keys=['rap', 'rap', 'rap'], names=['Genere',None])\n",
        "#print(len(maxi_genere_rap))\n",
        "genere_atl_hip_hop = top50[top50['Genre']=='atl hip hop']\n",
        "genere_canadian_hip_hop = top50[top50['Genre']=='canadian hip hop']\n",
        "maxi_genere_disco_hip_hop = pd.concat([genere_atl_hip_hop,genere_canadian_hip_hop],axis=0,keys=['hip hop', 'hip hop'], names=['Genere',None])\n",
        "#print(len(maxi_genere_disco_hip_hop))\n",
        "genere_big_room = top50[top50['Genre']=='big room']\n",
        "genere_escape_room = top50[top50['Genre']=='escape room']\n",
        "maxi_genere_room = pd.concat([genere_big_room,genere_escape_room],axis=0,keys=['room', 'room'], names=['Genere',None])\n",
        "#print(len(maxi_genere_room))\n",
        "maxi_all = pd.concat([maxi_genere_pop,maxi_genere_dance,maxi_genere_reggaeton,maxi_genere_rap,maxi_genere_disco_hip_hop,maxi_genere_room],axis=0)\n",
        "#print(len(maxi_all))\n"
      ],
      "metadata": {
        "id": "GcfxeGBUQ_80"
      },
      "execution_count": 43,
      "outputs": []
    },
    {
      "cell_type": "markdown",
      "source": [
        "ora ho tutti i generi raggruppati in macro generi, andiamo ad estrapolarne dei dati:"
      ],
      "metadata": {
        "id": "NZ8k6jQWx6O7"
      }
    },
    {
      "cell_type": "code",
      "source": [
        "#maxi_genere_pop.plot(kind = 'bar',title = 'Numero Canzoni x Genere', fontsize = 10, figsize = (15,5))\n",
        "#maxi_all.head(50)\n",
        "plt.scatter(maxi_genere_pop['Position'],maxi_genere_pop['Popularity'])\n",
        "plt.scatter(maxi_genere_dance['Position'],maxi_genere_dance['Popularity'])\n",
        "plt.scatter(maxi_genere_reggaeton['Position'],maxi_genere_reggaeton['Popularity'])\n",
        "plt.scatter(maxi_genere_rap['Position'],maxi_genere_rap['Popularity'])\n",
        "plt.scatter(maxi_genere_disco_hip_hop['Position'],maxi_genere_disco_hip_hop['Popularity'])\n",
        "plt.scatter(maxi_genere_room['Position'],maxi_genere_room['Popularity'])"
      ],
      "metadata": {
        "colab": {
          "base_uri": "https://localhost:8080/",
          "height": 283
        },
        "id": "pXECy8KsyKYs",
        "outputId": "3e3eb7de-3197-4511-d0f0-a0897b5fc85a"
      },
      "execution_count": 44,
      "outputs": [
        {
          "output_type": "execute_result",
          "data": {
            "text/plain": [
              "<matplotlib.collections.PathCollection at 0x7fa5dd3d2710>"
            ]
          },
          "metadata": {},
          "execution_count": 44
        },
        {
          "output_type": "display_data",
          "data": {
            "text/plain": [
              "<Figure size 432x288 with 1 Axes>"
            ],
            "image/png": "[encoded data removed]"
          },
          "metadata": {
            "needs_background": "light"
          }
        }
      ]
    },
    {
      "cell_type": "markdown",
      "source": [
        "Proviamo ora ad effettuare i t-test che prima abbiamo usato per confrontare due generi dello stesso macro-genere per confronatre appunto questi macro-generi ed estrapolarne informazioni interessanti."
      ],
      "metadata": {
        "id": "K31LIEcOI_XU"
      }
    },
    {
      "cell_type": "code",
      "source": [
        "maxi_all.boxplot(column= 'Position', by='Genere', vert=False, fontsize = 10, figsize = (12,10))"
      ],
      "metadata": {
        "colab": {
          "base_uri": "https://localhost:8080/",
          "height": 733
        },
        "id": "nJtdRaQ6dOkT",
        "outputId": "9a73ddc1-c964-4e8a-fcb6-1006adbfcd89"
      },
      "execution_count": 45,
      "outputs": [
        {
          "output_type": "stream",
          "name": "stderr",
          "text": [
            "/usr/local/lib/python3.7/dist-packages/matplotlib/cbook/__init__.py:1376: VisibleDeprecationWarning: Creating an ndarray from ragged nested sequences (which is a list-or-tuple of lists-or-tuples-or ndarrays with different lengths or shapes) is deprecated. If you meant to do this, you must specify 'dtype=object' when creating the ndarray.\n",
            "  X = np.atleast_1d(X.T if isinstance(X, np.ndarray) else np.asarray(X))\n"
          ]
        },
        {
          "output_type": "execute_result",
          "data": {
            "text/plain": [
              "<matplotlib.axes._subplots.AxesSubplot at 0x7fa5dd4767d0>"
            ]
          },
          "metadata": {},
          "execution_count": 45
        },
        {
          "output_type": "display_data",
          "data": {
            "text/plain": [
              "<Figure size 864x720 with 1 Axes>"
            ],
            "image/png": "[encoded data removed]"
          },
          "metadata": {
            "needs_background": "light"
          }
        }
      ]
    },
    {
      "cell_type": "code",
      "source": [
        "maxi_all.boxplot(column= 'Popularity', by='Genere', vert=False, fontsize = 10, figsize = (12,10))"
      ],
      "metadata": {
        "colab": {
          "base_uri": "https://localhost:8080/",
          "height": 733
        },
        "id": "fqvsprLkcoVQ",
        "outputId": "eead1ccf-bc87-411a-e5bb-ed4526355736"
      },
      "execution_count": 46,
      "outputs": [
        {
          "output_type": "stream",
          "name": "stderr",
          "text": [
            "/usr/local/lib/python3.7/dist-packages/matplotlib/cbook/__init__.py:1376: VisibleDeprecationWarning: Creating an ndarray from ragged nested sequences (which is a list-or-tuple of lists-or-tuples-or ndarrays with different lengths or shapes) is deprecated. If you meant to do this, you must specify 'dtype=object' when creating the ndarray.\n",
            "  X = np.atleast_1d(X.T if isinstance(X, np.ndarray) else np.asarray(X))\n"
          ]
        },
        {
          "output_type": "execute_result",
          "data": {
            "text/plain": [
              "<matplotlib.axes._subplots.AxesSubplot at 0x7fa5dd353490>"
            ]
          },
          "metadata": {},
          "execution_count": 46
        },
        {
          "output_type": "display_data",
          "data": {
            "text/plain": [
              "<Figure size 864x720 with 1 Axes>"
            ],
            "image/png": "[encoded data removed]"
          },
          "metadata": {
            "needs_background": "light"
          }
        }
      ]
    },
    {
      "cell_type": "markdown",
      "source": [
        "Esaminando questi due box plot simili a quelli effettuati su tutto il dataset direttamente,  si evince che il macro genere pop, dance e reggaeton hanno varianza di posizionamento su tutta la classifica.\n",
        "\n",
        "Il genere rap domina la classifica sia dal punto di vista della popolarità mediana del macro genere rap rispetto a quella degli altri macrogeneri presenti in classifica dato che i posizionamenti sono più altri rispetto ad esempio ai macro generi sopra elencati.\n"
      ],
      "metadata": {
        "id": "6G99IwXtdk8h"
      }
    },
    {
      "cell_type": "markdown",
      "source": [
        "Verifichiamo quanto abbiamo dedotto da questi grafici sopra riportati eseguendo dei t-test di confronto tra i macro generi sopra nominati\n",
        "\n",
        "Partiamo analizzando i due macrogeneri piu presenti all'interno della top50 che stiamo analizzando:\n",
        "\n",
        "Verifichiamo ora se possiamo accettare la seguente ipotesi nulla:\n",
        "\n",
        "- La popolarità media del macro genere pop è maggiore a quella del macro genere dance"
      ],
      "metadata": {
        "id": "9ZbQOPUqK4Wh"
      }
    },
    {
      "cell_type": "code",
      "source": [
        "t_statistic, p_value = stats.ttest_1samp(a= maxi_genere_pop['Popularity'], popmean= maxi_genere_dance['Popularity'].mean(), alternative='less')\n",
        "print(t_statistic)\n",
        "print(p_value)"
      ],
      "metadata": {
        "id": "Ljb3jB2DI-mC",
        "outputId": "57870133-f23a-4c18-ad31-74760737988f",
        "colab": {
          "base_uri": "https://localhost:8080/"
        }
      },
      "execution_count": 47,
      "outputs": [
        {
          "output_type": "stream",
          "name": "stdout",
          "text": [
            "-2.2160901182261306\n",
            "0.023382981648638865\n"
          ]
        }
      ]
    },
    {
      "cell_type": "markdown",
      "source": [
        "Il t-test effettuato ha riportato un p-value minore del valore di significatività e quindi bisogna rigettare l'ipotesi nulla e quindi concludere che la popolarità media del macro genere dance è maggiore rispetto a quella del macro genere pop come si poteva notare direttamente nel box plot sopra riportato.\n",
        "\n"
      ],
      "metadata": {
        "id": "MVeV_2PbMn-d"
      }
    },
    {
      "cell_type": "code",
      "source": [
        "t_statistic, p_value = stats.ttest_1samp(a= maxi_genere_pop['Popularity'], popmean= maxi_genere_rap['Popularity'].mean(), alternative='less')\n",
        "print(t_statistic)\n",
        "print(p_value)"
      ],
      "metadata": {
        "id": "PFeALAyYgAtj",
        "outputId": "393365eb-8a1c-40df-9ac8-74bc1df08f88",
        "colab": {
          "base_uri": "https://localhost:8080/"
        }
      },
      "execution_count": 48,
      "outputs": [
        {
          "output_type": "stream",
          "name": "stdout",
          "text": [
            "-4.627070431246613\n",
            "0.0002915179096207425\n"
          ]
        }
      ]
    },
    {
      "cell_type": "markdown",
      "source": [
        "Con questo t-test sopra riportato invece dimostriamo come la popolarità del macro genere rap sia maggiore rispetto a quella del macro genere pop che presenta la canzone posizionata al 1°posto in classifica. Questo dato perchè ottengo un valore del p-value ulteriormente piccolo rispetto a quello del t-test precedente ed analogamente, possiamo dire, con maggiore \"forza\" rispetto a prima, che il macro genere rap presenta canzoni mediamente più popolari in classifica rispetto al macro genere pop."
      ],
      "metadata": {
        "id": "BZHFnrNvgB1V"
      }
    },
    {
      "cell_type": "markdown",
      "source": [
        "*Ci sono caratteristiche/features che rendono \"vincente\" il macro genere rap rispetto agli altri macro generi?*\n",
        "\n",
        "Andiamo proprio a vedere il perchè di questa dominanza di questo macro genere rap rispetto a quello pop per capire in cosa riesce \"ad arrivare di più alla gente\" e ad ottenere sia un posizionamento medio più alto sia una popolarità maggiore: potremmo anche fare ciò visualizzando ulteriori box plot per confrontare direttamente il rap con tutti gli altri macrogenere, colonna per colonna e verificare con t-test le conclusioni che estrapoleramo:"
      ],
      "metadata": {
        "id": "aRqtjIY2qxWU"
      }
    },
    {
      "cell_type": "markdown",
      "source": [
        "***- BPM:***"
      ],
      "metadata": {
        "id": "s2TRQE9B0qR8"
      }
    },
    {
      "cell_type": "code",
      "source": [
        "maxi_all.boxplot(column= 'Beats.Per.Minute', by='Genere', vert=False, fontsize = 10, figsize = (12,10))"
      ],
      "metadata": {
        "colab": {
          "base_uri": "https://localhost:8080/",
          "height": 733
        },
        "id": "6s4OzQMwrS60",
        "outputId": "fa66f1f9-4e5c-4497-8465-edfc9497af1e"
      },
      "execution_count": 49,
      "outputs": [
        {
          "output_type": "stream",
          "name": "stderr",
          "text": [
            "/usr/local/lib/python3.7/dist-packages/matplotlib/cbook/__init__.py:1376: VisibleDeprecationWarning: Creating an ndarray from ragged nested sequences (which is a list-or-tuple of lists-or-tuples-or ndarrays with different lengths or shapes) is deprecated. If you meant to do this, you must specify 'dtype=object' when creating the ndarray.\n",
            "  X = np.atleast_1d(X.T if isinstance(X, np.ndarray) else np.asarray(X))\n"
          ]
        },
        {
          "output_type": "execute_result",
          "data": {
            "text/plain": [
              "<matplotlib.axes._subplots.AxesSubplot at 0x7fa5dd2003d0>"
            ]
          },
          "metadata": {},
          "execution_count": 49
        },
        {
          "output_type": "display_data",
          "data": {
            "text/plain": [
              "<Figure size 864x720 with 1 Axes>"
            ],
            "image/png": "[encoded data removed]"
          },
          "metadata": {
            "needs_background": "light"
          }
        }
      ]
    },
    {
      "cell_type": "markdown",
      "source": [
        "Si riesce a vedere come il macro genere rap abbia i bpm medi maggiori rispetto a tutti gli altri macro generi."
      ],
      "metadata": {
        "id": "kWLPjGCVz6sT"
      }
    },
    {
      "cell_type": "markdown",
      "source": [
        "***- Energy, Danceability e Valence:***"
      ],
      "metadata": {
        "id": "LF9J0ZRV0rqN"
      }
    },
    {
      "cell_type": "code",
      "source": [
        "maxi_all.boxplot(column= 'Energy', by='Genere', vert=False, fontsize = 10, figsize = (12,10))"
      ],
      "metadata": {
        "colab": {
          "base_uri": "https://localhost:8080/",
          "height": 733
        },
        "id": "abwTyGRaz5ny",
        "outputId": "6a23458c-4436-410c-f1f0-82a41e6cdd33"
      },
      "execution_count": 50,
      "outputs": [
        {
          "output_type": "stream",
          "name": "stderr",
          "text": [
            "/usr/local/lib/python3.7/dist-packages/matplotlib/cbook/__init__.py:1376: VisibleDeprecationWarning: Creating an ndarray from ragged nested sequences (which is a list-or-tuple of lists-or-tuples-or ndarrays with different lengths or shapes) is deprecated. If you meant to do this, you must specify 'dtype=object' when creating the ndarray.\n",
            "  X = np.atleast_1d(X.T if isinstance(X, np.ndarray) else np.asarray(X))\n"
          ]
        },
        {
          "output_type": "execute_result",
          "data": {
            "text/plain": [
              "<matplotlib.axes._subplots.AxesSubplot at 0x7fa5dd0e7710>"
            ]
          },
          "metadata": {},
          "execution_count": 50
        },
        {
          "output_type": "display_data",
          "data": {
            "text/plain": [
              "<Figure size 864x720 with 1 Axes>"
            ],
            "image/png": "[encoded data removed]"
          },
          "metadata": {
            "needs_background": "light"
          }
        }
      ]
    },
    {
      "cell_type": "code",
      "source": [
        "maxi_all.boxplot(column= 'Danceability', by='Genere', vert=False, fontsize = 10, figsize = (12,10))"
      ],
      "metadata": {
        "colab": {
          "base_uri": "https://localhost:8080/",
          "height": 733
        },
        "id": "PlsLzMeF1YEN",
        "outputId": "a70d955a-a813-43f4-9d0d-8e8ea5d34039"
      },
      "execution_count": 51,
      "outputs": [
        {
          "output_type": "stream",
          "name": "stderr",
          "text": [
            "/usr/local/lib/python3.7/dist-packages/matplotlib/cbook/__init__.py:1376: VisibleDeprecationWarning: Creating an ndarray from ragged nested sequences (which is a list-or-tuple of lists-or-tuples-or ndarrays with different lengths or shapes) is deprecated. If you meant to do this, you must specify 'dtype=object' when creating the ndarray.\n",
            "  X = np.atleast_1d(X.T if isinstance(X, np.ndarray) else np.asarray(X))\n"
          ]
        },
        {
          "output_type": "execute_result",
          "data": {
            "text/plain": [
              "<matplotlib.axes._subplots.AxesSubplot at 0x7fa5dd039c10>"
            ]
          },
          "metadata": {},
          "execution_count": 51
        },
        {
          "output_type": "display_data",
          "data": {
            "text/plain": [
              "<Figure size 864x720 with 1 Axes>"
            ],
            "image/png": "[encoded data removed]"
          },
          "metadata": {
            "needs_background": "light"
          }
        }
      ]
    },
    {
      "cell_type": "code",
      "source": [
        "maxi_all.boxplot(column= 'Valence.', by='Genere', vert=False, fontsize = 10, figsize = (12,10))"
      ],
      "metadata": {
        "colab": {
          "base_uri": "https://localhost:8080/",
          "height": 733
        },
        "id": "i9BpDzJk2Lw0",
        "outputId": "d692b07e-6e3e-48e5-c65a-254f2217396a"
      },
      "execution_count": 52,
      "outputs": [
        {
          "output_type": "stream",
          "name": "stderr",
          "text": [
            "/usr/local/lib/python3.7/dist-packages/matplotlib/cbook/__init__.py:1376: VisibleDeprecationWarning: Creating an ndarray from ragged nested sequences (which is a list-or-tuple of lists-or-tuples-or ndarrays with different lengths or shapes) is deprecated. If you meant to do this, you must specify 'dtype=object' when creating the ndarray.\n",
            "  X = np.atleast_1d(X.T if isinstance(X, np.ndarray) else np.asarray(X))\n"
          ]
        },
        {
          "output_type": "execute_result",
          "data": {
            "text/plain": [
              "<matplotlib.axes._subplots.AxesSubplot at 0x7fa5dd6e1590>"
            ]
          },
          "metadata": {},
          "execution_count": 52
        },
        {
          "output_type": "display_data",
          "data": {
            "text/plain": [
              "<Figure size 864x720 with 1 Axes>"
            ],
            "image/png": "[encoded data removed]"
          },
          "metadata": {
            "needs_background": "light"
          }
        }
      ]
    },
    {
      "cell_type": "markdown",
      "source": [
        "Come si evince da questi grafici il macro genere rap non si evidenzia dagli altri rispetto all'energia, alla \"danzabilità\" della canzone e alla \"valenza\" media delle canzoni.\n",
        "\n",
        "Si nota come il macro genere rap abbia una valenza mediana media rispetto ai valori di tutti i macro generi(si piazza nel mezzo)."
      ],
      "metadata": {
        "id": "jeeyZlHM1gp0"
      }
    },
    {
      "cell_type": "markdown",
      "source": [
        "***- Lenght:***"
      ],
      "metadata": {
        "id": "5z9-k46H1JbC"
      }
    },
    {
      "cell_type": "code",
      "source": [
        "maxi_all.boxplot(column= 'Length.', by='Genere', vert=False, fontsize = 10, figsize = (12,10))"
      ],
      "metadata": {
        "colab": {
          "base_uri": "https://localhost:8080/",
          "height": 733
        },
        "id": "xpthG49G1stR",
        "outputId": "e9347241-0633-49d6-9d82-c242e98a9d4c"
      },
      "execution_count": 53,
      "outputs": [
        {
          "output_type": "stream",
          "name": "stderr",
          "text": [
            "/usr/local/lib/python3.7/dist-packages/matplotlib/cbook/__init__.py:1376: VisibleDeprecationWarning: Creating an ndarray from ragged nested sequences (which is a list-or-tuple of lists-or-tuples-or ndarrays with different lengths or shapes) is deprecated. If you meant to do this, you must specify 'dtype=object' when creating the ndarray.\n",
            "  X = np.atleast_1d(X.T if isinstance(X, np.ndarray) else np.asarray(X))\n"
          ]
        },
        {
          "output_type": "execute_result",
          "data": {
            "text/plain": [
              "<matplotlib.axes._subplots.AxesSubplot at 0x7fa5dd4a8350>"
            ]
          },
          "metadata": {},
          "execution_count": 53
        },
        {
          "output_type": "display_data",
          "data": {
            "text/plain": [
              "<Figure size 864x720 with 1 Axes>"
            ],
            "image/png": "[encoded data removed]"
          },
          "metadata": {
            "needs_background": "light"
          }
        }
      ]
    },
    {
      "cell_type": "markdown",
      "source": [
        "Si riesce a notare chiaramente dal grafico sopra riportato come il rap sia il macro genere con la durate delle canzoni minori."
      ],
      "metadata": {
        "id": "sSnpeBZ52t5r"
      }
    },
    {
      "cell_type": "markdown",
      "source": [
        "Concludendo, il macro genere rap si distingue dagli altri per:\n",
        "\n",
        "- canzoni più brevi\n",
        "- bpm\n",
        "\n",
        "Saranno mica questi i fattori che rendono le canzoni appartenenti al macro genere esaminato più popolari rispetto agli altri generi?"
      ],
      "metadata": {
        "id": "6x3x77vv3U86"
      }
    },
    {
      "cell_type": "markdown",
      "source": [
        "***APPRENDIMENTO SUPERVISIONATO***"
      ],
      "metadata": {
        "id": "gLeI5baGUPKI"
      }
    },
    {
      "cell_type": "markdown",
      "metadata": {
        "id": "biPCqZkL9g1F"
      },
      "source": [
        "Quale modello di machine learning possiamo utilizzare per stimare una funzione che preveda la popolarità (quale caratteristica la indica?) in funzione di uno o piu' degli altri descrittori a disposizione?\n",
        "\n",
        "Dobbiamo determinare una relazione tra predittori e una variabile di risposta (che possiamo considerare continua). \n",
        "\n",
        "Proviamo ad utilizzare un modello di **Regressione lineare**. \n",
        "\n",
        "Cominciamo considerando soltanto la caratteristica *Beats.Per.Minute*. \n",
        " * Usiamo una tecnica di visualizzazione opportuna per verificare se esiste una qualche relazione tra Speechiness e Popolarità(Speechiness è la feature che risulta essere più correlata alla popolarità).\n",
        "\n"
      ]
    },
    {
      "cell_type": "code",
      "source": [
        "maxi_all[['Popularity', 'Speechiness.']].corr()"
      ],
      "metadata": {
        "id": "3rK3C4rYefdf",
        "outputId": "74509576-ba02-45da-ff2c-1f023d874b63",
        "colab": {
          "base_uri": "https://localhost:8080/",
          "height": 112
        }
      },
      "execution_count": 54,
      "outputs": [
        {
          "output_type": "execute_result",
          "data": {
            "text/plain": [
              "              Popularity  Speechiness.\n",
              "Popularity      1.000000      0.238553\n",
              "Speechiness.    0.238553      1.000000"
            ],
            "text/html": [
              "\n",
              "  <div id=\"df-70054a1a-8965-4053-ac27-fa1beac4e162\">\n",
              "    <div class=\"colab-df-container\">\n",
              "      <div>\n",
              "<style scoped>\n",
              "    .dataframe tbody tr th:only-of-type {\n",
              "        vertical-align: middle;\n",
              "    }\n",
              "\n",
              "    .dataframe tbody tr th {\n",
              "        vertical-align: top;\n",
              "    }\n",
              "\n",
              "    .dataframe thead th {\n",
              "        text-align: right;\n",
              "    }\n",
              "</style>\n",
              "<table border=\"1\" class=\"dataframe\">\n",
              "  <thead>\n",
              "    <tr style=\"text-align: right;\">\n",
              "      <th></th>\n",
              "      <th>Popularity</th>\n",
              "      <th>Speechiness.</th>\n",
              "    </tr>\n",
              "  </thead>\n",
              "  <tbody>\n",
              "    <tr>\n",
              "      <th>Popularity</th>\n",
              "      <td>1.000000</td>\n",
              "      <td>0.238553</td>\n",
              "    </tr>\n",
              "    <tr>\n",
              "      <th>Speechiness.</th>\n",
              "      <td>0.238553</td>\n",
              "      <td>1.000000</td>\n",
              "    </tr>\n",
              "  </tbody>\n",
              "</table>\n",
              "</div>\n",
              "      <button class=\"colab-df-convert\" onclick=\"convertToInteractive('df-70054a1a-8965-4053-ac27-fa1beac4e162')\"\n",
              "              title=\"Convert this dataframe to an interactive table.\"\n",
              "              style=\"display:none;\">\n",
              "        \n",
              "  <svg xmlns=\"http://www.w3.org/2000/svg\" height=\"24px\"viewBox=\"0 0 24 24\"\n",
              "       width=\"24px\">\n",
              "    <path d=\"M0 0h24v24H0V0z\" fill=\"none\"/>\n",
              "    <path d=\"M18.56 5.44l.94 2.06.94-2.06 2.06-.94-2.06-.94-.94-2.06-.94 2.06-2.06.94zm-11 1L8.5 8.5l.94-2.06 2.06-.94-2.06-.94L8.5 2.5l-.94 2.06-2.06.94zm10 10l.94 2.06.94-2.06 2.06-.94-2.06-.94-.94-2.06-.94 2.06-2.06.94z\"/><path d=\"M17.41 7.96l-1.37-1.37c-.4-.4-.92-.59-1.43-.59-.52 0-1.04.2-1.43.59L10.3 9.45l-7.72 7.72c-.78.78-.78 2.05 0 2.83L4 21.41c.39.39.9.59 1.41.59.51 0 1.02-.2 1.41-.59l7.78-7.78 2.81-2.81c.8-.78.8-2.07 0-2.86zM5.41 20L4 18.59l7.72-7.72 1.47 1.35L5.41 20z\"/>\n",
              "  </svg>\n",
              "      </button>\n",
              "      \n",
              "  <style>\n",
              "    .colab-df-container {\n",
              "      display:flex;\n",
              "      flex-wrap:wrap;\n",
              "      gap: 12px;\n",
              "    }\n",
              "\n",
              "    .colab-df-convert {\n",
              "      background-color: #E8F0FE;\n",
              "      border: none;\n",
              "      border-radius: 50%;\n",
              "      cursor: pointer;\n",
              "      display: none;\n",
              "      fill: #1967D2;\n",
              "      height: 32px;\n",
              "      padding: 0 0 0 0;\n",
              "      width: 32px;\n",
              "    }\n",
              "\n",
              "    .colab-df-convert:hover {\n",
              "      background-color: #E2EBFA;\n",
              "      box-shadow: 0px 1px 2px rgba(60, 64, 67, 0.3), 0px 1px 3px 1px rgba(60, 64, 67, 0.15);\n",
              "      fill: #174EA6;\n",
              "    }\n",
              "\n",
              "    [theme=dark] .colab-df-convert {\n",
              "      background-color: #3B4455;\n",
              "      fill: #D2E3FC;\n",
              "    }\n",
              "\n",
              "    [theme=dark] .colab-df-convert:hover {\n",
              "      background-color: #434B5C;\n",
              "      box-shadow: 0px 1px 3px 1px rgba(0, 0, 0, 0.15);\n",
              "      filter: drop-shadow(0px 1px 2px rgba(0, 0, 0, 0.3));\n",
              "      fill: #FFFFFF;\n",
              "    }\n",
              "  </style>\n",
              "\n",
              "      <script>\n",
              "        const buttonEl =\n",
              "          document.querySelector('#df-70054a1a-8965-4053-ac27-fa1beac4e162 button.colab-df-convert');\n",
              "        buttonEl.style.display =\n",
              "          google.colab.kernel.accessAllowed ? 'block' : 'none';\n",
              "\n",
              "        async function convertToInteractive(key) {\n",
              "          const element = document.querySelector('#df-70054a1a-8965-4053-ac27-fa1beac4e162');\n",
              "          const dataTable =\n",
              "            await google.colab.kernel.invokeFunction('convertToInteractive',\n",
              "                                                     [key], {});\n",
              "          if (!dataTable) return;\n",
              "\n",
              "          const docLinkHtml = 'Like what you see? Visit the ' +\n",
              "            '<a target=\"_blank\" href=https://colab.research.google.com/notebooks/data_table.ipynb>data table notebook</a>'\n",
              "            + ' to learn more about interactive tables.';\n",
              "          element.innerHTML = '';\n",
              "          dataTable['output_type'] = 'display_data';\n",
              "          await google.colab.output.renderOutput(dataTable, element);\n",
              "          const docLink = document.createElement('div');\n",
              "          docLink.innerHTML = docLinkHtml;\n",
              "          element.appendChild(docLink);\n",
              "        }\n",
              "      </script>\n",
              "    </div>\n",
              "  </div>\n",
              "  "
            ]
          },
          "metadata": {},
          "execution_count": 54
        }
      ]
    },
    {
      "cell_type": "markdown",
      "source": [
        "I dati non sono correlati fortemente quindi il machine lerning risente di questo ed otterremo predizioni meno precise in questo caso."
      ],
      "metadata": {
        "id": "W007etebe0p1"
      }
    },
    {
      "cell_type": "markdown",
      "source": [
        "Proviamo comunque ad implementare e visualizzare un modello di regressione lineare tra queste due features."
      ],
      "metadata": {
        "id": "7TRwc9k8addx"
      }
    },
    {
      "cell_type": "code",
      "source": [
        "features_x = ['Speechiness.']\n",
        "features_y = ['Popularity']\n",
        " \n",
        "x = maxi_all[features_x]\n",
        "y = maxi_all[features_y]\n",
        "X_train, X_valid, y_train, y_valid = train_test_split(x, y, test_size = 0.3)\n",
        "\n",
        "from sklearn.linear_model import LinearRegression\n",
        "\n",
        "regressor = LinearRegression()\n",
        "lin_reg = regressor.fit(X_train, y_train)\n",
        "\n",
        "print('intercept:', lin_reg.intercept_)\n",
        "print('coefficient:', lin_reg.coef_)\n",
        "\n",
        "plt.scatter(X_train, y_train, alpha = 0.2)\n",
        "\n",
        "y_hat = X_train*lin_reg.coef_ + lin_reg.intercept_\n",
        "plt.plot(X_train, y_hat, color='r')"
      ],
      "metadata": {
        "id": "hkBRhfyibEo2",
        "outputId": "5822cdc3-4a17-407d-cba6-a7e8705df97d",
        "colab": {
          "base_uri": "https://localhost:8080/",
          "height": 319
        }
      },
      "execution_count": 55,
      "outputs": [
        {
          "output_type": "stream",
          "name": "stdout",
          "text": [
            "intercept: [84.22779436]\n",
            "coefficient: [[0.19869223]]\n"
          ]
        },
        {
          "output_type": "execute_result",
          "data": {
            "text/plain": [
              "[<matplotlib.lines.Line2D at 0x7fa5dc9863d0>]"
            ]
          },
          "metadata": {},
          "execution_count": 55
        },
        {
          "output_type": "display_data",
          "data": {
            "text/plain": [
              "<Figure size 432x288 with 1 Axes>"
            ],
            "image/png": "[encoded data removed]"
          },
          "metadata": {
            "needs_background": "light"
          }
        }
      ]
    },
    {
      "cell_type": "markdown",
      "source": [
        "Questo problema di regressione lineare risulta essere inefficace, proviamo con un problema di classificazione e proviamo quindi a predirre la popolarità media di una data canzone."
      ],
      "metadata": {
        "id": "7eVKIaH5Qudq"
      }
    },
    {
      "cell_type": "markdown",
      "source": [
        "**APPRENDIMENTO NON SUPERVISIONATO**"
      ],
      "metadata": {
        "id": "IBG3t0-Luu71"
      }
    },
    {
      "cell_type": "markdown",
      "source": [
        "Questo machine learning servirà per risponere alle seguenti domande:\n",
        "\n",
        "- è possibile predire/assegnare un genere e macro-genere di/ad una canzone a seconda degli attributi/caratteristiche della canzone?\n",
        "\n",
        "- è possibile predire la popolarità di una canzone a seconda dei suoi attributi/caratteristiche?\n"
      ],
      "metadata": {
        "id": "knWmWX0rRg7h"
      }
    },
    {
      "cell_type": "markdown",
      "source": [
        "Definiamo la funzione della silhouette per definirci con esattezza il numero di cluster da passare in input al KMeans per ottenere un risultato migliore."
      ],
      "metadata": {
        "id": "W4I3z8Pr6rxz"
      }
    },
    {
      "cell_type": "code",
      "source": [
        "from sklearn.metrics import silhouette_samples, silhouette_score\n",
        "from sklearn.cluster import KMeans\n",
        "from sklearn import preprocessing\n",
        "import random\n",
        "\n",
        "def silhouette(x):\n",
        "    silhouette_avg = []\n",
        "    for i in range(2, 22):\n",
        "        kmeans = KMeans(n_clusters = i, max_iter = 20, random_state = 0)\n",
        "        cluster_labels = kmeans.fit_predict(x)\n",
        "        silhouette_avg.append(silhouette_score(x, cluster_labels))\n",
        "\n",
        "    # The silhouette_score gives the average value for all the samples.\n",
        "    # This gives a perspective into the density and separation of the formed\n",
        "    # clusters\n",
        "\n",
        "    plt.plot(range(2, 22), silhouette_avg,'-o')\n",
        "    plt.title('The silhouette method')\n",
        "    plt.xlabel('Number of clusters')\n",
        "    plt.ylabel('silhouette coefficient') #within cluster sum of squares\n",
        "    plt.show()"
      ],
      "metadata": {
        "id": "PRv4ho-zYuT9"
      },
      "execution_count": 56,
      "outputs": []
    },
    {
      "cell_type": "markdown",
      "source": [
        "Andiamo a prenderci tutte le features a nostra disposizione per cercare di rispondere alla prima domanda e quindi di predirre il genere di una canzone a seconda dei suoi attributi."
      ],
      "metadata": {
        "id": "4qFQZapX7eiL"
      }
    },
    {
      "cell_type": "code",
      "source": [
        "features = ['Beats.Per.Minute','Energy','Danceability','Loudness..dB..','Liveness','Valence.','Length.','Acousticness..','Speechiness.','Popularity']\n",
        "X=maxi_all[features]\n",
        "X = np.asarray(X)"
      ],
      "metadata": {
        "id": "WQGYSoo70BbV"
      },
      "execution_count": 57,
      "outputs": []
    },
    {
      "cell_type": "code",
      "source": [
        "scaler = preprocessing.StandardScaler().fit(X)\n",
        "X = scaler.transform(X)"
      ],
      "metadata": {
        "id": "QDeljADm0Knx"
      },
      "execution_count": 58,
      "outputs": []
    },
    {
      "cell_type": "code",
      "source": [
        "color = ['r','b','y','g','c','m','k','#877666']\n",
        "\n",
        "kmeans=KMeans(n_clusters=6, random_state=0).fit(X)\n",
        "y=kmeans.labels_\n",
        "for i in range(0,6):\n",
        "    plt.scatter(X[np.where(y==i),0],X[np.where(y==i),1], color = color[i])"
      ],
      "metadata": {
        "id": "lLZicE6x0OIk",
        "outputId": "77635674-3b46-4008-a715-8e264752268b",
        "colab": {
          "base_uri": "https://localhost:8080/",
          "height": 265
        }
      },
      "execution_count": 59,
      "outputs": [
        {
          "output_type": "display_data",
          "data": {
            "text/plain": [
              "<Figure size 432x288 with 1 Axes>"
            ],
            "image/png": "[encoded data removed]"
          },
          "metadata": {
            "needs_background": "light"
          }
        }
      ]
    },
    {
      "cell_type": "markdown",
      "source": [
        "Provando ad effettuare il problema di classficazione utilizzando 6 cluster, tanti quanti i macro-generi, non viene il risultato sperato e/o comunque i cluster risultano organizzati in modo non correlato."
      ],
      "metadata": {
        "id": "drdtSOGW1gaf"
      }
    },
    {
      "cell_type": "markdown",
      "source": [
        "Andiamo quindi a vedere con la silhuouette se il numero di cluster utilizzato era il più efficente o meno:"
      ],
      "metadata": {
        "id": "TiUjxx258Drg"
      }
    },
    {
      "cell_type": "code",
      "source": [
        "silhouette(X)"
      ],
      "metadata": {
        "id": "pDAH25av1CJw",
        "outputId": "c8304d9c-b408-4529-d8a0-37178e913400",
        "colab": {
          "base_uri": "https://localhost:8080/",
          "height": 295
        }
      },
      "execution_count": 60,
      "outputs": [
        {
          "output_type": "display_data",
          "data": {
            "text/plain": [
              "<Figure size 432x288 with 1 Axes>"
            ],
            "image/png": "[encoded data removed]"
          },
          "metadata": {
            "needs_background": "light"
          }
        }
      ]
    },
    {
      "cell_type": "markdown",
      "source": [
        "La scelta dei cluster utilizzati è risultata la più efficente.\n",
        "\n",
        "Ora non ci resta altro che rendere quantitativo l'attributo del genere per visualizzare il box plot che ci restituisca visivamente come in base ai cluster a cui una canzone viene assegnata \"ottenga un genere di appartenza\"."
      ],
      "metadata": {
        "id": "YH9_CfDo2Nmy"
      }
    },
    {
      "cell_type": "code",
      "source": [
        "tutti_generi_numerico = [1,2,3,4,5,4,6,4,7,8,2,3,4,9,10,3,11,5,10,12,13,7,14,11,8,1,15,1,11,11,16,3,2,17,3,18,9,4,19,3,16,3,3,4,20,21,11,21,16,4]\n",
        "#1 = canadian pop\n",
        "#2 = reggaeton\n",
        "#3 = dance pop\n",
        "#4 = pop\n",
        "#5 = dfw rap\n",
        "#6 = trap\n",
        "#7 = country rap\n",
        "#8 = electropop\n",
        "#9 = panamanian pop\n",
        "#10 = canadian hip hop\n",
        "#11 = latin\n",
        "#12 = escape room\n",
        "#13 = pop house\n",
        "#14 = reggaeton flow\n",
        "#15 = australian pop\n",
        "#16 = edm\n",
        "#17 = atl hip hop\n",
        "#18 = big room\n",
        "#19 = boy band\n",
        "#20 = r&b espanol\n",
        "#21 = brostep\n",
        "maxi_all[\"Num_Genre\"] = tutti_generi_numerico\n",
        "maxi_all[\"Clusters\"]=kmeans.predict(X)\n",
        "maxi_all.boxplot(column='Num_Genre',by='Clusters')"
      ],
      "metadata": {
        "id": "REOUAaciTEUS",
        "outputId": "25c46e99-b39e-458e-e1b5-fbf93623699d",
        "colab": {
          "base_uri": "https://localhost:8080/",
          "height": 375
        }
      },
      "execution_count": 61,
      "outputs": [
        {
          "output_type": "stream",
          "name": "stderr",
          "text": [
            "/usr/local/lib/python3.7/dist-packages/matplotlib/cbook/__init__.py:1376: VisibleDeprecationWarning: Creating an ndarray from ragged nested sequences (which is a list-or-tuple of lists-or-tuples-or ndarrays with different lengths or shapes) is deprecated. If you meant to do this, you must specify 'dtype=object' when creating the ndarray.\n",
            "  X = np.atleast_1d(X.T if isinstance(X, np.ndarray) else np.asarray(X))\n"
          ]
        },
        {
          "output_type": "execute_result",
          "data": {
            "text/plain": [
              "<matplotlib.axes._subplots.AxesSubplot at 0x7fa5dc1d0b10>"
            ]
          },
          "metadata": {},
          "execution_count": 61
        },
        {
          "output_type": "display_data",
          "data": {
            "text/plain": [
              "<Figure size 432x288 with 1 Axes>"
            ],
            "image/png": "[encoded data removed]"
          },
          "metadata": {
            "needs_background": "light"
          }
        }
      ]
    },
    {
      "cell_type": "markdown",
      "source": [
        "Da questo box-plot quindi riusciamo a visualizzare quello sopra descritto e quindi ad ottenere un genere (con non troppa precisione dato il basso coefficente di silhouette ottenuto) in base agli attributi della canzone."
      ],
      "metadata": {
        "id": "_K300_V39Jyk"
      }
    },
    {
      "cell_type": "markdown",
      "source": [
        "Andiamo ora a rendere quantitativo l'attributo del macro genere dalla canzone per poter assegnare anche quello con una predizione in maniera analoga alla precedente."
      ],
      "metadata": {
        "id": "yeUnxMzX9kLO"
      }
    },
    {
      "cell_type": "code",
      "source": [
        "macro_generi_numerico = [1,3,1,1,4,1,4,1,4,2,3,2,1,1,5,2,3,4,5,6,2,4,3,3,2,1,1,5,3,3,2,2,3,5,2,6,1,1,1,2,2,2,2,1,3,2,3,2,2,1]\n",
        "#1 = pop\n",
        "#2 = dance\n",
        "#3 = reggaeton\n",
        "#4 = rap\n",
        "#5 = hip hop\n",
        "#6 = room\n",
        "maxi_all['NUM_macro_genre'] = macro_generi_numerico\n",
        "maxi_all[\"Clusters\"]=kmeans.predict(X)\n",
        "maxi_all.boxplot(column='NUM_macro_genre',by='Clusters')"
      ],
      "metadata": {
        "id": "DMMwgWjuxaAr",
        "outputId": "4090e57f-89dc-45c9-8522-83ae43fa0601",
        "colab": {
          "base_uri": "https://localhost:8080/",
          "height": 375
        }
      },
      "execution_count": 62,
      "outputs": [
        {
          "output_type": "stream",
          "name": "stderr",
          "text": [
            "/usr/local/lib/python3.7/dist-packages/matplotlib/cbook/__init__.py:1376: VisibleDeprecationWarning: Creating an ndarray from ragged nested sequences (which is a list-or-tuple of lists-or-tuples-or ndarrays with different lengths or shapes) is deprecated. If you meant to do this, you must specify 'dtype=object' when creating the ndarray.\n",
            "  X = np.atleast_1d(X.T if isinstance(X, np.ndarray) else np.asarray(X))\n"
          ]
        },
        {
          "output_type": "execute_result",
          "data": {
            "text/plain": [
              "<matplotlib.axes._subplots.AxesSubplot at 0x7fa5d90d1b50>"
            ]
          },
          "metadata": {},
          "execution_count": 62
        },
        {
          "output_type": "display_data",
          "data": {
            "text/plain": [
              "<Figure size 432x288 with 1 Axes>"
            ],
            "image/png": "[encoded data removed]"
          },
          "metadata": {
            "needs_background": "light"
          }
        }
      ]
    },
    {
      "cell_type": "markdown",
      "source": [
        "Riusciamo anche in questo caso ad assegnare i macro generi di appartenenza di una canzone con determinate caratteristiche."
      ],
      "metadata": {
        "id": "8X0yETlW9yx_"
      }
    },
    {
      "cell_type": "markdown",
      "source": [
        "Proviamo ora a rispondere alla seconda domanda, ovvero che popolarità avrà una canzone che arriva utilizzando tutte le features a nostra disposizione."
      ],
      "metadata": {
        "id": "0HXJ9wbzxhvb"
      }
    },
    {
      "cell_type": "code",
      "source": [
        "features = ['Beats.Per.Minute','Energy','Danceability','Loudness..dB..','Liveness','Valence.','Length.','Acousticness..','Speechiness.','Num_Genre','NUM_macro_genre']\n",
        "X=maxi_all[features]\n",
        "X = np.asarray(X)\n",
        "scaler = preprocessing.StandardScaler().fit(X)\n",
        "X = scaler.transform(X)"
      ],
      "metadata": {
        "id": "2YCRmpAO9inz"
      },
      "execution_count": 63,
      "outputs": []
    },
    {
      "cell_type": "markdown",
      "source": [
        "Riproviamo sempre con l'utilizzo di 6 cluster che corrisponde al numero di macro generi delle analisi precedenti."
      ],
      "metadata": {
        "id": "jlanWQ0xx8vf"
      }
    },
    {
      "cell_type": "code",
      "source": [
        "kmeans=KMeans(n_clusters=6, random_state=0).fit(X)\n",
        "y=kmeans.labels_\n",
        "for i in range(0,6):\n",
        "    plt.scatter(X[np.where(y==i),0],X[np.where(y==i),1], color = color[i])"
      ],
      "metadata": {
        "id": "c2f0O1UA9rnM",
        "outputId": "68b3f853-309f-41fd-859d-5a8469cdef33",
        "colab": {
          "base_uri": "https://localhost:8080/",
          "height": 265
        }
      },
      "execution_count": 64,
      "outputs": [
        {
          "output_type": "display_data",
          "data": {
            "text/plain": [
              "<Figure size 432x288 with 1 Axes>"
            ],
            "image/png": "[encoded data removed]"
          },
          "metadata": {
            "needs_background": "light"
          }
        }
      ]
    },
    {
      "cell_type": "code",
      "source": [
        "silhouette(X)"
      ],
      "metadata": {
        "id": "UygPhnNZ9v8c",
        "outputId": "18de4a4e-980f-4b9c-9af5-37ffe08e8809",
        "colab": {
          "base_uri": "https://localhost:8080/",
          "height": 295
        }
      },
      "execution_count": 65,
      "outputs": [
        {
          "output_type": "display_data",
          "data": {
            "text/plain": [
              "<Figure size 432x288 with 1 Axes>"
            ],
            "image/png": "[encoded data removed]"
          },
          "metadata": {
            "needs_background": "light"
          }
        }
      ]
    },
    {
      "cell_type": "markdown",
      "source": [
        "Analizzando la silhouette la prima cosa che risalta è il bassissimo livello di silhouette ottenuto anche in caso di utilizzo del numero consigliato di cluster.\n",
        "\n",
        "I risultati che si otterranno saranno quindi approssimativi.\n",
        "\n",
        "Andiamo comunque ad utilizzare il numero di cluster consigliato, ovvero 14."
      ],
      "metadata": {
        "id": "p0mRjbya-yha"
      }
    },
    {
      "cell_type": "code",
      "source": [
        "kmeans=KMeans(n_clusters=14, random_state=0).fit(X)\n",
        "y=kmeans.labels_\n",
        "for i in range(0,14):\n",
        "    plt.scatter(X[np.where(y==i),6],X[np.where(y==i),8])"
      ],
      "metadata": {
        "id": "zn6XhqKp-_Iy",
        "outputId": "f154c116-c1f9-47cd-cd2a-cd3f9fa58f86",
        "colab": {
          "base_uri": "https://localhost:8080/",
          "height": 265
        }
      },
      "execution_count": 66,
      "outputs": [
        {
          "output_type": "display_data",
          "data": {
            "text/plain": [
              "<Figure size 432x288 with 1 Axes>"
            ],
            "image/png": "[encoded data removed]"
          },
          "metadata": {
            "needs_background": "light"
          }
        }
      ]
    },
    {
      "cell_type": "code",
      "source": [
        "maxi_all[\"Clusters\"]=kmeans.predict(X)\n",
        "maxi_all.boxplot(column='Popularity',by='Clusters')"
      ],
      "metadata": {
        "id": "MbOi_NWOUDbi",
        "outputId": "3796c3f1-0e9e-4d79-c27d-a46d4fa3dddc",
        "colab": {
          "base_uri": "https://localhost:8080/",
          "height": 375
        }
      },
      "execution_count": 67,
      "outputs": [
        {
          "output_type": "stream",
          "name": "stderr",
          "text": [
            "/usr/local/lib/python3.7/dist-packages/matplotlib/cbook/__init__.py:1376: VisibleDeprecationWarning: Creating an ndarray from ragged nested sequences (which is a list-or-tuple of lists-or-tuples-or ndarrays with different lengths or shapes) is deprecated. If you meant to do this, you must specify 'dtype=object' when creating the ndarray.\n",
            "  X = np.atleast_1d(X.T if isinstance(X, np.ndarray) else np.asarray(X))\n"
          ]
        },
        {
          "output_type": "execute_result",
          "data": {
            "text/plain": [
              "<matplotlib.axes._subplots.AxesSubplot at 0x7fa5d6df4190>"
            ]
          },
          "metadata": {},
          "execution_count": 67
        },
        {
          "output_type": "display_data",
          "data": {
            "text/plain": [
              "<Figure size 432x288 with 1 Axes>"
            ],
            "image/png": "[encoded data removed]"
          },
          "metadata": {
            "needs_background": "light"
          }
        }
      ]
    },
    {
      "cell_type": "markdown",
      "source": [
        "Come si può vedere un risultato si riesce a visualizzare ma non si può comuqneu considerare un efficente risoluzione di questo problema di classificazione dato anche l'elevato numero di cluster.\n",
        "\n",
        "Questo comunque non ci stupisce proprio grazie all'analisi dei dati:\n",
        "- i dati non risultano essere correlati/scorrelati eccessivamente l'uno dall'altro, quindi la suddivisione in cluster non risulta efficente se effettuata su un gruppo di features cosi elevato.\n",
        "- il grafico della silhouette mostra subito come sia basso il coefficente di silhouette ottenuto nel tentare di risolvere questo problema utilizzando la maggior parte delle feature.\n",
        "\n",
        "Andiamo quindi a provare a dimiuire le features coinvolte cercando di prendere quelle che risultano essere più correlate tra loro, andando quindi ad utilizzare anche i dati che abbiamo ricavato dall'inizio di quest'analisi sul dataset contenente la top50 globale di spotify(proviamo sempre ad effettuare una prova, prima di visualizzare la silhouette, con 6 cluster(sempre il numero di macro_generi delle analisi precedenti))."
      ],
      "metadata": {
        "id": "cM11yHhq_E4X"
      }
    },
    {
      "cell_type": "code",
      "source": [
        "correlated_features_to_popularity = ['Beats.Per.Minute','Liveness','Speechiness.','Valence.'] \n",
        "X = maxi_all[correlated_features_to_popularity]\n",
        "X = np.asarray(X)\n",
        "scaler = preprocessing.StandardScaler().fit(X)\n",
        "X = scaler.transform(X)"
      ],
      "metadata": {
        "id": "lW11MlEfwDgc"
      },
      "execution_count": 68,
      "outputs": []
    },
    {
      "cell_type": "code",
      "source": [
        "kmeans=KMeans(n_clusters=6, random_state=0).fit(X)\n",
        "y=kmeans.labels_\n",
        "for i in range(0,6):\n",
        "    plt.scatter(X[np.where(y==i),0],X[np.where(y==i),1], color = color[i])"
      ],
      "metadata": {
        "colab": {
          "base_uri": "https://localhost:8080/",
          "height": 265
        },
        "id": "GncTEVSIwLAB",
        "outputId": "17bd023f-4001-4c98-f4b3-4af3b719c8de"
      },
      "execution_count": 69,
      "outputs": [
        {
          "output_type": "display_data",
          "data": {
            "text/plain": [
              "<Figure size 432x288 with 1 Axes>"
            ],
            "image/png": "[encoded data removed]"
          },
          "metadata": {
            "needs_background": "light"
          }
        }
      ]
    },
    {
      "cell_type": "markdown",
      "source": [
        "Ora verifichiamo se il numero di cluster utilizzato è stato sensato(sembrerebbe di no, analizzando il grafico sopra riportato potrebbe essere pià sensato l'utilizzo di 2/3/4 cluster) con l'utilizzo della silhouette."
      ],
      "metadata": {
        "id": "_5FnCVvhEhie"
      }
    },
    {
      "cell_type": "code",
      "source": [
        "silhouette(X)"
      ],
      "metadata": {
        "colab": {
          "base_uri": "https://localhost:8080/",
          "height": 295
        },
        "id": "JJtAuyZQEhCm",
        "outputId": "0f1dc80e-e548-40f7-8c73-4c6df41c63d7"
      },
      "execution_count": 70,
      "outputs": [
        {
          "output_type": "display_data",
          "data": {
            "text/plain": [
              "<Figure size 432x288 with 1 Axes>"
            ],
            "image/png": "[encoded data removed]"
          },
          "metadata": {
            "needs_background": "light"
          }
        }
      ]
    },
    {
      "cell_type": "markdown",
      "source": [
        "Grazie a questa visualizzazione della silhouette si evincono le seguenti informazioni: \n",
        "- l'utilizzo di 3 cluster restituisca un coefficente di silhouette maggiore e quindi sia migliore dei 6 precedentemente usati(non è ancora sufficentemente alto per garantire la corretta risoluzione del problema di classificazione).\n",
        "-l'utilizzo di 20 cluster in questo caso avrebbe restituito cluster completamente privi di informazioni e di utilità(simili a quelli venuti fuori precedentemente)."
      ],
      "metadata": {
        "id": "8wMlk7XiE9hJ"
      }
    },
    {
      "cell_type": "markdown",
      "source": [
        "Rieffettuando quindi il KMeans con n° di cluster = 3, otteniamo 3 gruppi ben distinti anche se alcuni punti ancora si intersecano. "
      ],
      "metadata": {
        "id": "44xkEi5LHzGT"
      }
    },
    {
      "cell_type": "code",
      "source": [
        "kmeans=KMeans(n_clusters=3, random_state=0).fit(X)\n",
        "y=kmeans.labels_\n",
        "for i in range(0,3):\n",
        "    plt.scatter(X[np.where(y==i),0],X[np.where(y==i),1], color = color[i])"
      ],
      "metadata": {
        "colab": {
          "base_uri": "https://localhost:8080/",
          "height": 265
        },
        "id": "EP-2AbPdGbrT",
        "outputId": "0deca9f0-f6c7-40bc-b0ca-1bda8cc45ad4"
      },
      "execution_count": 71,
      "outputs": [
        {
          "output_type": "display_data",
          "data": {
            "text/plain": [
              "<Figure size 432x288 with 1 Axes>"
            ],
            "image/png": "[encoded data removed]"
          },
          "metadata": {
            "needs_background": "light"
          }
        }
      ]
    },
    {
      "cell_type": "markdown",
      "source": [
        "I punti risultano comunque intrecciarsi probabilmente dato dal fatto è una scelta casuale ma non troppo quella dei centroidi dei cluster."
      ],
      "metadata": {
        "id": "uOixCyo9IZjR"
      }
    },
    {
      "cell_type": "markdown",
      "source": [
        "Visualizziamo ora i box plot per visualizzare come sia migiorato rispetto all'uso di tutte le features come in precedenza(dato che erano poco correlate con la popolarità) e all'uso delle sole features correlate alla popolarità per ottenere appunto una predizione di questa in base a queste caratteristiche analizzate."
      ],
      "metadata": {
        "id": "MJIcmX9EHfX6"
      }
    },
    {
      "cell_type": "code",
      "source": [
        "maxi_all[\"Clusters\"]=kmeans.predict(X)\n",
        "maxi_all.boxplot(column='Popularity',by='Clusters')"
      ],
      "metadata": {
        "colab": {
          "base_uri": "https://localhost:8080/",
          "height": 375
        },
        "id": "fRCd7G4KHkZA",
        "outputId": "66e840f9-39b7-4dce-8207-04eeea3de3e7"
      },
      "execution_count": 72,
      "outputs": [
        {
          "output_type": "stream",
          "name": "stderr",
          "text": [
            "/usr/local/lib/python3.7/dist-packages/matplotlib/cbook/__init__.py:1376: VisibleDeprecationWarning: Creating an ndarray from ragged nested sequences (which is a list-or-tuple of lists-or-tuples-or ndarrays with different lengths or shapes) is deprecated. If you meant to do this, you must specify 'dtype=object' when creating the ndarray.\n",
            "  X = np.atleast_1d(X.T if isinstance(X, np.ndarray) else np.asarray(X))\n"
          ]
        },
        {
          "output_type": "execute_result",
          "data": {
            "text/plain": [
              "<matplotlib.axes._subplots.AxesSubplot at 0x7fa5d6b13e10>"
            ]
          },
          "metadata": {},
          "execution_count": 72
        },
        {
          "output_type": "display_data",
          "data": {
            "text/plain": [
              "<Figure size 432x288 with 1 Axes>"
            ],
            "image/png": "[encoded data removed]"
          },
          "metadata": {
            "needs_background": "light"
          }
        }
      ]
    },
    {
      "cell_type": "markdown",
      "source": [
        "Siamo riusciti così a separare i nostri dati rispetto a questa variabile di popolarità per poter essere restituita/assegnata a seconda del cluster al quale la canzone con quelle determinate features viene associata."
      ],
      "metadata": {
        "id": "rYiiVMWhJlSx"
      }
    },
    {
      "cell_type": "markdown",
      "source": [
        "**Studio della correlazione per predizione macro genere**\n",
        "\n"
      ],
      "metadata": {
        "id": "A_vZMdWZCCNq"
      }
    },
    {
      "cell_type": "markdown",
      "source": [
        "Andando ad analizzare i singoli macro generi e la correlazione dei dati al loro interno ci aspettiamo di ottenere correlazioni più accurate(valori più alti(negativi e/o positivi che siano)) e quindi così provare a riformulare nel modo analogo al precedente il problema di classificazione cercando di clusterizzare per riuscire a:\n",
        "- prevedere con maggior successo la popolarità di una canzone che vuole essere lanciata e che appartiene ad un certo macro_genere(prima veniva fatto senza questa limitazione). "
      ],
      "metadata": {
        "id": "M-TyAf-kBIky"
      }
    },
    {
      "cell_type": "markdown",
      "source": [
        "Prendiamo in esame i tre macro_generi più presenti in classificca, con il miglior piazzamento medio e con la miglior popolarità media che, grazie agli studi precedentemente effettuati, sono risultati essere:\n",
        "- rap\n",
        "- dance\n",
        "- pop"
      ],
      "metadata": {
        "id": "zgPwN3c8C7Ok"
      }
    },
    {
      "cell_type": "markdown",
      "source": [
        "Partendo con il macro genere rap andiamo a visualizzare la correlazione delle caratteristiche delle canzoni appartenenti a questo macro genere."
      ],
      "metadata": {
        "id": "ZOOrETDeBRTg"
      }
    },
    {
      "cell_type": "code",
      "source": [
        "maxi_genere_rap.corr()"
      ],
      "metadata": {
        "id": "rlS7BZNH_dHl",
        "outputId": "1c64af39-07da-48d9-8a86-d54d23ed53ca",
        "colab": {
          "base_uri": "https://localhost:8080/",
          "height": 394
        }
      },
      "execution_count": 73,
      "outputs": [
        {
          "output_type": "execute_result",
          "data": {
            "text/plain": [
              "                  Position  Beats.Per.Minute    Energy  Danceability  \\\n",
              "Position          1.000000         -0.428444 -0.700866      0.117101   \n",
              "Beats.Per.Minute -0.428444          1.000000  0.868827     -0.226612   \n",
              "Energy           -0.700866          0.868827  1.000000     -0.231762   \n",
              "Danceability      0.117101         -0.226612 -0.231762      1.000000   \n",
              "Loudness..dB..   -0.544207          0.134963  0.438923     -0.793182   \n",
              "Liveness          0.103864          0.213027  0.425642     -0.193199   \n",
              "Valence.          0.610904         -0.882463 -0.884150      0.587026   \n",
              "Length.          -0.566017         -0.441950 -0.005475     -0.167118   \n",
              "Acousticness..    0.432371         -0.658215 -0.614006     -0.562058   \n",
              "Speechiness.     -0.434681          0.720327  0.470422      0.165762   \n",
              "Popularity       -0.185617          0.254496  0.156836     -0.930568   \n",
              "\n",
              "                  Loudness..dB..  Liveness  Valence.   Length.  \\\n",
              "Position               -0.544207  0.103864  0.610904 -0.566017   \n",
              "Beats.Per.Minute        0.134963  0.213027 -0.882463 -0.441950   \n",
              "Energy                  0.438923  0.425642 -0.884150 -0.005475   \n",
              "Danceability           -0.793182 -0.193199  0.587026 -0.167118   \n",
              "Loudness..dB..          1.000000  0.324967 -0.571800  0.650243   \n",
              "Liveness                0.324967  1.000000 -0.228909 -0.046040   \n",
              "Valence.               -0.571800 -0.228909  1.000000  0.066768   \n",
              "Length.                 0.650243 -0.046040  0.066768  1.000000   \n",
              "Acousticness..          0.385884  0.003453  0.336410  0.338240   \n",
              "Speechiness.           -0.274290 -0.481755 -0.515328 -0.407180   \n",
              "Popularity              0.657794 -0.162866 -0.582914  0.114881   \n",
              "\n",
              "                  Acousticness..  Speechiness.  Popularity  \n",
              "Position                0.432371     -0.434681   -0.185617  \n",
              "Beats.Per.Minute       -0.658215      0.720327    0.254496  \n",
              "Energy                 -0.614006      0.470422    0.156836  \n",
              "Danceability           -0.562058      0.165762   -0.930568  \n",
              "Loudness..dB..          0.385884     -0.274290    0.657794  \n",
              "Liveness                0.003453     -0.481755   -0.162866  \n",
              "Valence.                0.336410     -0.515328   -0.582914  \n",
              "Length.                 0.338240     -0.407180    0.114881  \n",
              "Acousticness..          1.000000     -0.744522    0.477082  \n",
              "Speechiness.           -0.744522      1.000000    0.100237  \n",
              "Popularity              0.477082      0.100237    1.000000  "
            ],
            "text/html": [
              "\n",
              "  <div id=\"df-497926f1-75e2-47f1-9ea1-40b8b81e3876\">\n",
              "    <div class=\"colab-df-container\">\n",
              "      <div>\n",
              "<style scoped>\n",
              "    .dataframe tbody tr th:only-of-type {\n",
              "        vertical-align: middle;\n",
              "    }\n",
              "\n",
              "    .dataframe tbody tr th {\n",
              "        vertical-align: top;\n",
              "    }\n",
              "\n",
              "    .dataframe thead th {\n",
              "        text-align: right;\n",
              "    }\n",
              "</style>\n",
              "<table border=\"1\" class=\"dataframe\">\n",
              "  <thead>\n",
              "    <tr style=\"text-align: right;\">\n",
              "      <th></th>\n",
              "      <th>Position</th>\n",
              "      <th>Beats.Per.Minute</th>\n",
              "      <th>Energy</th>\n",
              "      <th>Danceability</th>\n",
              "      <th>Loudness..dB..</th>\n",
              "      <th>Liveness</th>\n",
              "      <th>Valence.</th>\n",
              "      <th>Length.</th>\n",
              "      <th>Acousticness..</th>\n",
              "      <th>Speechiness.</th>\n",
              "      <th>Popularity</th>\n",
              "    </tr>\n",
              "  </thead>\n",
              "  <tbody>\n",
              "    <tr>\n",
              "      <th>Position</th>\n",
              "      <td>1.000000</td>\n",
              "      <td>-0.428444</td>\n",
              "      <td>-0.700866</td>\n",
              "      <td>0.117101</td>\n",
              "      <td>-0.544207</td>\n",
              "      <td>0.103864</td>\n",
              "      <td>0.610904</td>\n",
              "      <td>-0.566017</td>\n",
              "      <td>0.432371</td>\n",
              "      <td>-0.434681</td>\n",
              "      <td>-0.185617</td>\n",
              "    </tr>\n",
              "    <tr>\n",
              "      <th>Beats.Per.Minute</th>\n",
              "      <td>-0.428444</td>\n",
              "      <td>1.000000</td>\n",
              "      <td>0.868827</td>\n",
              "      <td>-0.226612</td>\n",
              "      <td>0.134963</td>\n",
              "      <td>0.213027</td>\n",
              "      <td>-0.882463</td>\n",
              "      <td>-0.441950</td>\n",
              "      <td>-0.658215</td>\n",
              "      <td>0.720327</td>\n",
              "      <td>0.254496</td>\n",
              "    </tr>\n",
              "    <tr>\n",
              "      <th>Energy</th>\n",
              "      <td>-0.700866</td>\n",
              "      <td>0.868827</td>\n",
              "      <td>1.000000</td>\n",
              "      <td>-0.231762</td>\n",
              "      <td>0.438923</td>\n",
              "      <td>0.425642</td>\n",
              "      <td>-0.884150</td>\n",
              "      <td>-0.005475</td>\n",
              "      <td>-0.614006</td>\n",
              "      <td>0.470422</td>\n",
              "      <td>0.156836</td>\n",
              "    </tr>\n",
              "    <tr>\n",
              "      <th>Danceability</th>\n",
              "      <td>0.117101</td>\n",
              "      <td>-0.226612</td>\n",
              "      <td>-0.231762</td>\n",
              "      <td>1.000000</td>\n",
              "      <td>-0.793182</td>\n",
              "      <td>-0.193199</td>\n",
              "      <td>0.587026</td>\n",
              "      <td>-0.167118</td>\n",
              "      <td>-0.562058</td>\n",
              "      <td>0.165762</td>\n",
              "      <td>-0.930568</td>\n",
              "    </tr>\n",
              "    <tr>\n",
              "      <th>Loudness..dB..</th>\n",
              "      <td>-0.544207</td>\n",
              "      <td>0.134963</td>\n",
              "      <td>0.438923</td>\n",
              "      <td>-0.793182</td>\n",
              "      <td>1.000000</td>\n",
              "      <td>0.324967</td>\n",
              "      <td>-0.571800</td>\n",
              "      <td>0.650243</td>\n",
              "      <td>0.385884</td>\n",
              "      <td>-0.274290</td>\n",
              "      <td>0.657794</td>\n",
              "    </tr>\n",
              "    <tr>\n",
              "      <th>Liveness</th>\n",
              "      <td>0.103864</td>\n",
              "      <td>0.213027</td>\n",
              "      <td>0.425642</td>\n",
              "      <td>-0.193199</td>\n",
              "      <td>0.324967</td>\n",
              "      <td>1.000000</td>\n",
              "      <td>-0.228909</td>\n",
              "      <td>-0.046040</td>\n",
              "      <td>0.003453</td>\n",
              "      <td>-0.481755</td>\n",
              "      <td>-0.162866</td>\n",
              "    </tr>\n",
              "    <tr>\n",
              "      <th>Valence.</th>\n",
              "      <td>0.610904</td>\n",
              "      <td>-0.882463</td>\n",
              "      <td>-0.884150</td>\n",
              "      <td>0.587026</td>\n",
              "      <td>-0.571800</td>\n",
              "      <td>-0.228909</td>\n",
              "      <td>1.000000</td>\n",
              "      <td>0.066768</td>\n",
              "      <td>0.336410</td>\n",
              "      <td>-0.515328</td>\n",
              "      <td>-0.582914</td>\n",
              "    </tr>\n",
              "    <tr>\n",
              "      <th>Length.</th>\n",
              "      <td>-0.566017</td>\n",
              "      <td>-0.441950</td>\n",
              "      <td>-0.005475</td>\n",
              "      <td>-0.167118</td>\n",
              "      <td>0.650243</td>\n",
              "      <td>-0.046040</td>\n",
              "      <td>0.066768</td>\n",
              "      <td>1.000000</td>\n",
              "      <td>0.338240</td>\n",
              "      <td>-0.407180</td>\n",
              "      <td>0.114881</td>\n",
              "    </tr>\n",
              "    <tr>\n",
              "      <th>Acousticness..</th>\n",
              "      <td>0.432371</td>\n",
              "      <td>-0.658215</td>\n",
              "      <td>-0.614006</td>\n",
              "      <td>-0.562058</td>\n",
              "      <td>0.385884</td>\n",
              "      <td>0.003453</td>\n",
              "      <td>0.336410</td>\n",
              "      <td>0.338240</td>\n",
              "      <td>1.000000</td>\n",
              "      <td>-0.744522</td>\n",
              "      <td>0.477082</td>\n",
              "    </tr>\n",
              "    <tr>\n",
              "      <th>Speechiness.</th>\n",
              "      <td>-0.434681</td>\n",
              "      <td>0.720327</td>\n",
              "      <td>0.470422</td>\n",
              "      <td>0.165762</td>\n",
              "      <td>-0.274290</td>\n",
              "      <td>-0.481755</td>\n",
              "      <td>-0.515328</td>\n",
              "      <td>-0.407180</td>\n",
              "      <td>-0.744522</td>\n",
              "      <td>1.000000</td>\n",
              "      <td>0.100237</td>\n",
              "    </tr>\n",
              "    <tr>\n",
              "      <th>Popularity</th>\n",
              "      <td>-0.185617</td>\n",
              "      <td>0.254496</td>\n",
              "      <td>0.156836</td>\n",
              "      <td>-0.930568</td>\n",
              "      <td>0.657794</td>\n",
              "      <td>-0.162866</td>\n",
              "      <td>-0.582914</td>\n",
              "      <td>0.114881</td>\n",
              "      <td>0.477082</td>\n",
              "      <td>0.100237</td>\n",
              "      <td>1.000000</td>\n",
              "    </tr>\n",
              "  </tbody>\n",
              "</table>\n",
              "</div>\n",
              "      <button class=\"colab-df-convert\" onclick=\"convertToInteractive('df-497926f1-75e2-47f1-9ea1-40b8b81e3876')\"\n",
              "              title=\"Convert this dataframe to an interactive table.\"\n",
              "              style=\"display:none;\">\n",
              "        \n",
              "  <svg xmlns=\"http://www.w3.org/2000/svg\" height=\"24px\"viewBox=\"0 0 24 24\"\n",
              "       width=\"24px\">\n",
              "    <path d=\"M0 0h24v24H0V0z\" fill=\"none\"/>\n",
              "    <path d=\"M18.56 5.44l.94 2.06.94-2.06 2.06-.94-2.06-.94-.94-2.06-.94 2.06-2.06.94zm-11 1L8.5 8.5l.94-2.06 2.06-.94-2.06-.94L8.5 2.5l-.94 2.06-2.06.94zm10 10l.94 2.06.94-2.06 2.06-.94-2.06-.94-.94-2.06-.94 2.06-2.06.94z\"/><path d=\"M17.41 7.96l-1.37-1.37c-.4-.4-.92-.59-1.43-.59-.52 0-1.04.2-1.43.59L10.3 9.45l-7.72 7.72c-.78.78-.78 2.05 0 2.83L4 21.41c.39.39.9.59 1.41.59.51 0 1.02-.2 1.41-.59l7.78-7.78 2.81-2.81c.8-.78.8-2.07 0-2.86zM5.41 20L4 18.59l7.72-7.72 1.47 1.35L5.41 20z\"/>\n",
              "  </svg>\n",
              "      </button>\n",
              "      \n",
              "  <style>\n",
              "    .colab-df-container {\n",
              "      display:flex;\n",
              "      flex-wrap:wrap;\n",
              "      gap: 12px;\n",
              "    }\n",
              "\n",
              "    .colab-df-convert {\n",
              "      background-color: #E8F0FE;\n",
              "      border: none;\n",
              "      border-radius: 50%;\n",
              "      cursor: pointer;\n",
              "      display: none;\n",
              "      fill: #1967D2;\n",
              "      height: 32px;\n",
              "      padding: 0 0 0 0;\n",
              "      width: 32px;\n",
              "    }\n",
              "\n",
              "    .colab-df-convert:hover {\n",
              "      background-color: #E2EBFA;\n",
              "      box-shadow: 0px 1px 2px rgba(60, 64, 67, 0.3), 0px 1px 3px 1px rgba(60, 64, 67, 0.15);\n",
              "      fill: #174EA6;\n",
              "    }\n",
              "\n",
              "    [theme=dark] .colab-df-convert {\n",
              "      background-color: #3B4455;\n",
              "      fill: #D2E3FC;\n",
              "    }\n",
              "\n",
              "    [theme=dark] .colab-df-convert:hover {\n",
              "      background-color: #434B5C;\n",
              "      box-shadow: 0px 1px 3px 1px rgba(0, 0, 0, 0.15);\n",
              "      filter: drop-shadow(0px 1px 2px rgba(0, 0, 0, 0.3));\n",
              "      fill: #FFFFFF;\n",
              "    }\n",
              "  </style>\n",
              "\n",
              "      <script>\n",
              "        const buttonEl =\n",
              "          document.querySelector('#df-497926f1-75e2-47f1-9ea1-40b8b81e3876 button.colab-df-convert');\n",
              "        buttonEl.style.display =\n",
              "          google.colab.kernel.accessAllowed ? 'block' : 'none';\n",
              "\n",
              "        async function convertToInteractive(key) {\n",
              "          const element = document.querySelector('#df-497926f1-75e2-47f1-9ea1-40b8b81e3876');\n",
              "          const dataTable =\n",
              "            await google.colab.kernel.invokeFunction('convertToInteractive',\n",
              "                                                     [key], {});\n",
              "          if (!dataTable) return;\n",
              "\n",
              "          const docLinkHtml = 'Like what you see? Visit the ' +\n",
              "            '<a target=\"_blank\" href=https://colab.research.google.com/notebooks/data_table.ipynb>data table notebook</a>'\n",
              "            + ' to learn more about interactive tables.';\n",
              "          element.innerHTML = '';\n",
              "          dataTable['output_type'] = 'display_data';\n",
              "          await google.colab.output.renderOutput(dataTable, element);\n",
              "          const docLink = document.createElement('div');\n",
              "          docLink.innerHTML = docLinkHtml;\n",
              "          element.appendChild(docLink);\n",
              "        }\n",
              "      </script>\n",
              "    </div>\n",
              "  </div>\n",
              "  "
            ]
          },
          "metadata": {},
          "execution_count": 73
        }
      ]
    },
    {
      "cell_type": "markdown",
      "source": [
        "Estrapoliamo subito le features che sono più correlate alla Popolarità:\n",
        "- BPM, Loudness, Acousticness \n",
        "\n",
        "Estrapoliamo subito le features che sono più scorrelate alla Popolarità:forte per provare a prevedere comunque:\n",
        "- Danceability, Valence"
      ],
      "metadata": {
        "id": "TcXwv6y9KaN5"
      }
    },
    {
      "cell_type": "code",
      "source": [
        "correlated_features_to_popularity_for_rap = ['Beats.Per.Minute','Loudness..dB..','Acousticness..'] \n",
        "scorrelated_features_to_popularity_for_rap = ['Danceability','Valence.'] \n",
        "all_correlated_features_to_popularity = ['Beats.Per.Minute','Loudness..dB..','Acousticness..','Danceability','Valence.']"
      ],
      "metadata": {
        "id": "ECXs_N08UYxP"
      },
      "execution_count": 74,
      "outputs": []
    },
    {
      "cell_type": "markdown",
      "source": [
        "Andiamo ad eseguire quindi il fitting dei dati come in precedenza in base alle features che si vogliono utilizzare."
      ],
      "metadata": {
        "id": "lYa7MYtABsR3"
      }
    },
    {
      "cell_type": "code",
      "source": [
        "#correlate positivamente\n",
        "X = maxi_genere_rap[correlated_features_to_popularity_for_rap]\n",
        "X = np.asarray(X)\n",
        "scaler = preprocessing.StandardScaler().fit(X)\n",
        "X = scaler.transform(X)\n",
        "\n",
        "#correlate negativamete\n",
        "Z = maxi_genere_rap[scorrelated_features_to_popularity_for_rap]\n",
        "Z = np.asarray(Z)\n",
        "scaler = preprocessing.StandardScaler().fit(Z)\n",
        "Z = scaler.transform(Z)\n",
        "\n",
        "#correlazione sia negativa che postivia\n",
        "A = maxi_genere_rap[all_correlated_features_to_popularity]\n",
        "A = np.asarray(A)\n",
        "scaler = preprocessing.StandardScaler().fit(A)\n",
        "A = scaler.transform(A)"
      ],
      "metadata": {
        "id": "NQI2_Uw1UYxT"
      },
      "execution_count": 75,
      "outputs": []
    },
    {
      "cell_type": "markdown",
      "source": [
        "Utilizziamo due cluster(il minimo) date le poche canzoni presenti nei macro generi in analisi."
      ],
      "metadata": {
        "id": "NPY15GnyB0ja"
      }
    },
    {
      "cell_type": "markdown",
      "source": [
        "Con le features correlate positivamente:"
      ],
      "metadata": {
        "id": "K00QMKgaCrL0"
      }
    },
    {
      "cell_type": "code",
      "source": [
        "kmeans=KMeans(n_clusters=2, random_state=0).fit(X)\n",
        "y=kmeans.labels_\n",
        "for i in range(0,2):\n",
        "    plt.scatter(X[np.where(y==i),0],X[np.where(y==i),1], color = color[i])"
      ],
      "metadata": {
        "colab": {
          "base_uri": "https://localhost:8080/",
          "height": 265
        },
        "outputId": "10284927-6d80-48d1-c885-d8b006445757",
        "id": "hT09GAieUYxU"
      },
      "execution_count": 76,
      "outputs": [
        {
          "output_type": "display_data",
          "data": {
            "text/plain": [
              "<Figure size 432x288 with 1 Axes>"
            ],
            "image/png": "[encoded data removed]"
          },
          "metadata": {
            "needs_background": "light"
          }
        }
      ]
    },
    {
      "cell_type": "code",
      "source": [
        "maxi_genere_rap[\"Clusters\"]=kmeans.predict(X)\n",
        "maxi_genere_rap.boxplot(column='Popularity',by='Clusters')"
      ],
      "metadata": {
        "outputId": "2e90337b-622c-42c8-b53d-e9abd8940ad9",
        "colab": {
          "base_uri": "https://localhost:8080/",
          "height": 375
        },
        "id": "TH3XRl6GUYxY"
      },
      "execution_count": 77,
      "outputs": [
        {
          "output_type": "stream",
          "name": "stderr",
          "text": [
            "/usr/local/lib/python3.7/dist-packages/matplotlib/cbook/__init__.py:1376: VisibleDeprecationWarning: Creating an ndarray from ragged nested sequences (which is a list-or-tuple of lists-or-tuples-or ndarrays with different lengths or shapes) is deprecated. If you meant to do this, you must specify 'dtype=object' when creating the ndarray.\n",
            "  X = np.atleast_1d(X.T if isinstance(X, np.ndarray) else np.asarray(X))\n"
          ]
        },
        {
          "output_type": "execute_result",
          "data": {
            "text/plain": [
              "<matplotlib.axes._subplots.AxesSubplot at 0x7fa5d6e40e10>"
            ]
          },
          "metadata": {},
          "execution_count": 77
        },
        {
          "output_type": "display_data",
          "data": {
            "text/plain": [
              "<Figure size 432x288 with 1 Axes>"
            ],
            "image/png": "[encoded data removed]"
          },
          "metadata": {
            "needs_background": "light"
          }
        }
      ]
    },
    {
      "cell_type": "markdown",
      "source": [
        "Si riesce quindi a predire con successo la popolarità di una canzone del macro genere rap in base alle sue caratteristiche correlate positivamente."
      ],
      "metadata": {
        "id": "IK_dgsYRC2W2"
      }
    },
    {
      "cell_type": "markdown",
      "source": [
        "Con le features correlate negativamente:"
      ],
      "metadata": {
        "id": "9DwZVu1FVVna"
      }
    },
    {
      "cell_type": "code",
      "source": [
        "kmeans=KMeans(n_clusters=2, random_state=0).fit(Z)\n",
        "y=kmeans.labels_\n",
        "for i in range(0,2):\n",
        "    plt.scatter(Z[np.where(y==i),0],Z[np.where(y==i),1], color = color[i])"
      ],
      "metadata": {
        "id": "g3CntW2dVN8e",
        "outputId": "ce52d3cf-cba5-4e74-8c7d-02e08117a277",
        "colab": {
          "base_uri": "https://localhost:8080/",
          "height": 265
        }
      },
      "execution_count": 78,
      "outputs": [
        {
          "output_type": "display_data",
          "data": {
            "text/plain": [
              "<Figure size 432x288 with 1 Axes>"
            ],
            "image/png": "[encoded data removed]"
          },
          "metadata": {
            "needs_background": "light"
          }
        }
      ]
    },
    {
      "cell_type": "code",
      "source": [
        "maxi_genere_rap[\"Clusters\"]=kmeans.predict(Z)\n",
        "maxi_genere_rap.boxplot(column='Popularity',by='Clusters')"
      ],
      "metadata": {
        "id": "TIZ2N6ZMaSS2",
        "colab": {
          "base_uri": "https://localhost:8080/",
          "height": 375
        },
        "outputId": "b1277b6e-c8a2-4457-f02d-23344f93a4f1"
      },
      "execution_count": 79,
      "outputs": [
        {
          "output_type": "stream",
          "name": "stderr",
          "text": [
            "/usr/local/lib/python3.7/dist-packages/matplotlib/cbook/__init__.py:1376: VisibleDeprecationWarning: Creating an ndarray from ragged nested sequences (which is a list-or-tuple of lists-or-tuples-or ndarrays with different lengths or shapes) is deprecated. If you meant to do this, you must specify 'dtype=object' when creating the ndarray.\n",
            "  X = np.atleast_1d(X.T if isinstance(X, np.ndarray) else np.asarray(X))\n"
          ]
        },
        {
          "output_type": "execute_result",
          "data": {
            "text/plain": [
              "<matplotlib.axes._subplots.AxesSubplot at 0x7fa5d90cc410>"
            ]
          },
          "metadata": {},
          "execution_count": 79
        },
        {
          "output_type": "display_data",
          "data": {
            "text/plain": [
              "<Figure size 432x288 with 1 Axes>"
            ],
            "image/png": "[encoded data removed]"
          },
          "metadata": {
            "needs_background": "light"
          }
        }
      ]
    },
    {
      "cell_type": "markdown",
      "source": [
        "Riusciamo quindi a dedurre dal confronto di questi due box plot che:\n",
        "- utilizzando le due features che risultano correlate negativamente si arriva a distinguere in due cluster in modo migliore e quindi a predirre con più accuratezza un'ipotetica popolarità media di una nuova canzone rap."
      ],
      "metadata": {
        "id": "v7ZbQYCbabUR"
      }
    },
    {
      "cell_type": "markdown",
      "source": [
        "Con le feature corelate sia positivamente che negativamente:"
      ],
      "metadata": {
        "id": "UW7VNf85PwvR"
      }
    },
    {
      "cell_type": "code",
      "source": [
        "kmeans=KMeans(n_clusters=2, random_state=0).fit(A)\n",
        "y=kmeans.labels_\n",
        "for i in range(0,2):\n",
        "    plt.scatter(A[np.where(y==i),0],A[np.where(y==i),1], color = color[i])"
      ],
      "metadata": {
        "outputId": "0ef007ac-0e44-42f4-c71d-bc01ba7fe369",
        "colab": {
          "base_uri": "https://localhost:8080/",
          "height": 265
        },
        "id": "in_5LtkIDjjM"
      },
      "execution_count": 80,
      "outputs": [
        {
          "output_type": "display_data",
          "data": {
            "text/plain": [
              "<Figure size 432x288 with 1 Axes>"
            ],
            "image/png": "[encoded data removed]"
          },
          "metadata": {
            "needs_background": "light"
          }
        }
      ]
    },
    {
      "cell_type": "code",
      "source": [
        "maxi_genere_rap[\"Clusters\"]=kmeans.predict(A)\n",
        "maxi_genere_rap.boxplot(column='Popularity',by='Clusters')"
      ],
      "metadata": {
        "outputId": "b95604cc-0653-4013-d3e4-d9282996ea04",
        "colab": {
          "base_uri": "https://localhost:8080/",
          "height": 375
        },
        "id": "9Z38Mt8dDjjP"
      },
      "execution_count": 81,
      "outputs": [
        {
          "output_type": "stream",
          "name": "stderr",
          "text": [
            "/usr/local/lib/python3.7/dist-packages/matplotlib/cbook/__init__.py:1376: VisibleDeprecationWarning: Creating an ndarray from ragged nested sequences (which is a list-or-tuple of lists-or-tuples-or ndarrays with different lengths or shapes) is deprecated. If you meant to do this, you must specify 'dtype=object' when creating the ndarray.\n",
            "  X = np.atleast_1d(X.T if isinstance(X, np.ndarray) else np.asarray(X))\n"
          ]
        },
        {
          "output_type": "execute_result",
          "data": {
            "text/plain": [
              "<matplotlib.axes._subplots.AxesSubplot at 0x7fa5d6ee3b10>"
            ]
          },
          "metadata": {},
          "execution_count": 81
        },
        {
          "output_type": "display_data",
          "data": {
            "text/plain": [
              "<Figure size 432x288 with 1 Axes>"
            ],
            "image/png": "[encoded data removed]"
          },
          "metadata": {
            "needs_background": "light"
          }
        }
      ]
    },
    {
      "cell_type": "markdown",
      "source": [
        "Utilizzando tutte le features correlate sia positivamente che negativamente alla popolarità non si riesce ad ottenere un'approssimazione accurata dato il poco numero di canzoni rap presenti."
      ],
      "metadata": {
        "id": "T3yWYndID5M7"
      }
    },
    {
      "cell_type": "markdown",
      "source": [
        "Abbiamo quindi analizzato il macro genere più popolare e posizionato meglio in media nella classifica che stiamo esaminando.\n",
        "\n",
        "Ora ripetiamo quello sopra effettuato per uno dei due macro generi più popolari e presenti nella classifica(come varianza di posizionamenti e di popolarità) che sono il pop e il dance come già riportato.\n"
      ],
      "metadata": {
        "id": "-5xUeeSabAz4"
      }
    },
    {
      "cell_type": "markdown",
      "source": [
        "\n",
        "Prendiamo in esame il pop che presenta inoltre la posizione prima in classifica."
      ],
      "metadata": {
        "id": "YXBYdrPjIzM0"
      }
    },
    {
      "cell_type": "code",
      "source": [
        "maxi_genere_pop.corr()"
      ],
      "metadata": {
        "outputId": "c3c00129-3ff8-4496-e0ec-3d82b05a4d38",
        "colab": {
          "base_uri": "https://localhost:8080/",
          "height": 394
        },
        "id": "kD0QvhfnE1Rx"
      },
      "execution_count": 82,
      "outputs": [
        {
          "output_type": "execute_result",
          "data": {
            "text/plain": [
              "                  Position  Beats.Per.Minute    Energy  Danceability  \\\n",
              "Position          1.000000          0.294807  0.196472      0.493400   \n",
              "Beats.Per.Minute  0.294807          1.000000  0.268675      0.214895   \n",
              "Energy            0.196472          0.268675  1.000000      0.020974   \n",
              "Danceability      0.493400          0.214895  0.020974      1.000000   \n",
              "Loudness..dB..   -0.131884          0.483904  0.666636     -0.166492   \n",
              "Liveness          0.270303          0.181319  0.309515      0.020077   \n",
              "Valence.          0.073033          0.294269  0.656511      0.352035   \n",
              "Length.          -0.188742          0.381477  0.195656      0.118200   \n",
              "Acousticness..   -0.027904         -0.356204 -0.267816     -0.349055   \n",
              "Speechiness.      0.207878          0.505157  0.151268      0.102530   \n",
              "Popularity       -0.094512          0.248595 -0.204088     -0.328043   \n",
              "\n",
              "                  Loudness..dB..  Liveness  Valence.   Length.  \\\n",
              "Position               -0.131884  0.270303  0.073033 -0.188742   \n",
              "Beats.Per.Minute        0.483904  0.181319  0.294269  0.381477   \n",
              "Energy                  0.666636  0.309515  0.656511  0.195656   \n",
              "Danceability           -0.166492  0.020077  0.352035  0.118200   \n",
              "Loudness..dB..          1.000000  0.126668  0.556381  0.496760   \n",
              "Liveness                0.126668  1.000000  0.391183 -0.481913   \n",
              "Valence.                0.556381  0.391183  1.000000 -0.049744   \n",
              "Length.                 0.496760 -0.481913 -0.049744  1.000000   \n",
              "Acousticness..          0.009666  0.187193 -0.246791 -0.186614   \n",
              "Speechiness.            0.035798 -0.242253 -0.233787  0.557605   \n",
              "Popularity             -0.066485  0.046619 -0.476084  0.247880   \n",
              "\n",
              "                  Acousticness..  Speechiness.  Popularity  \n",
              "Position               -0.027904      0.207878   -0.094512  \n",
              "Beats.Per.Minute       -0.356204      0.505157    0.248595  \n",
              "Energy                 -0.267816      0.151268   -0.204088  \n",
              "Danceability           -0.349055      0.102530   -0.328043  \n",
              "Loudness..dB..          0.009666      0.035798   -0.066485  \n",
              "Liveness                0.187193     -0.242253    0.046619  \n",
              "Valence.               -0.246791     -0.233787   -0.476084  \n",
              "Length.                -0.186614      0.557605    0.247880  \n",
              "Acousticness..          1.000000     -0.245339   -0.145281  \n",
              "Speechiness.           -0.245339      1.000000    0.461142  \n",
              "Popularity             -0.145281      0.461142    1.000000  "
            ],
            "text/html": [
              "\n",
              "  <div id=\"df-7ebfbcfb-a488-4e32-ad79-23ad9d35ac03\">\n",
              "    <div class=\"colab-df-container\">\n",
              "      <div>\n",
              "<style scoped>\n",
              "    .dataframe tbody tr th:only-of-type {\n",
              "        vertical-align: middle;\n",
              "    }\n",
              "\n",
              "    .dataframe tbody tr th {\n",
              "        vertical-align: top;\n",
              "    }\n",
              "\n",
              "    .dataframe thead th {\n",
              "        text-align: right;\n",
              "    }\n",
              "</style>\n",
              "<table border=\"1\" class=\"dataframe\">\n",
              "  <thead>\n",
              "    <tr style=\"text-align: right;\">\n",
              "      <th></th>\n",
              "      <th>Position</th>\n",
              "      <th>Beats.Per.Minute</th>\n",
              "      <th>Energy</th>\n",
              "      <th>Danceability</th>\n",
              "      <th>Loudness..dB..</th>\n",
              "      <th>Liveness</th>\n",
              "      <th>Valence.</th>\n",
              "      <th>Length.</th>\n",
              "      <th>Acousticness..</th>\n",
              "      <th>Speechiness.</th>\n",
              "      <th>Popularity</th>\n",
              "    </tr>\n",
              "  </thead>\n",
              "  <tbody>\n",
              "    <tr>\n",
              "      <th>Position</th>\n",
              "      <td>1.000000</td>\n",
              "      <td>0.294807</td>\n",
              "      <td>0.196472</td>\n",
              "      <td>0.493400</td>\n",
              "      <td>-0.131884</td>\n",
              "      <td>0.270303</td>\n",
              "      <td>0.073033</td>\n",
              "      <td>-0.188742</td>\n",
              "      <td>-0.027904</td>\n",
              "      <td>0.207878</td>\n",
              "      <td>-0.094512</td>\n",
              "    </tr>\n",
              "    <tr>\n",
              "      <th>Beats.Per.Minute</th>\n",
              "      <td>0.294807</td>\n",
              "      <td>1.000000</td>\n",
              "      <td>0.268675</td>\n",
              "      <td>0.214895</td>\n",
              "      <td>0.483904</td>\n",
              "      <td>0.181319</td>\n",
              "      <td>0.294269</td>\n",
              "      <td>0.381477</td>\n",
              "      <td>-0.356204</td>\n",
              "      <td>0.505157</td>\n",
              "      <td>0.248595</td>\n",
              "    </tr>\n",
              "    <tr>\n",
              "      <th>Energy</th>\n",
              "      <td>0.196472</td>\n",
              "      <td>0.268675</td>\n",
              "      <td>1.000000</td>\n",
              "      <td>0.020974</td>\n",
              "      <td>0.666636</td>\n",
              "      <td>0.309515</td>\n",
              "      <td>0.656511</td>\n",
              "      <td>0.195656</td>\n",
              "      <td>-0.267816</td>\n",
              "      <td>0.151268</td>\n",
              "      <td>-0.204088</td>\n",
              "    </tr>\n",
              "    <tr>\n",
              "      <th>Danceability</th>\n",
              "      <td>0.493400</td>\n",
              "      <td>0.214895</td>\n",
              "      <td>0.020974</td>\n",
              "      <td>1.000000</td>\n",
              "      <td>-0.166492</td>\n",
              "      <td>0.020077</td>\n",
              "      <td>0.352035</td>\n",
              "      <td>0.118200</td>\n",
              "      <td>-0.349055</td>\n",
              "      <td>0.102530</td>\n",
              "      <td>-0.328043</td>\n",
              "    </tr>\n",
              "    <tr>\n",
              "      <th>Loudness..dB..</th>\n",
              "      <td>-0.131884</td>\n",
              "      <td>0.483904</td>\n",
              "      <td>0.666636</td>\n",
              "      <td>-0.166492</td>\n",
              "      <td>1.000000</td>\n",
              "      <td>0.126668</td>\n",
              "      <td>0.556381</td>\n",
              "      <td>0.496760</td>\n",
              "      <td>0.009666</td>\n",
              "      <td>0.035798</td>\n",
              "      <td>-0.066485</td>\n",
              "    </tr>\n",
              "    <tr>\n",
              "      <th>Liveness</th>\n",
              "      <td>0.270303</td>\n",
              "      <td>0.181319</td>\n",
              "      <td>0.309515</td>\n",
              "      <td>0.020077</td>\n",
              "      <td>0.126668</td>\n",
              "      <td>1.000000</td>\n",
              "      <td>0.391183</td>\n",
              "      <td>-0.481913</td>\n",
              "      <td>0.187193</td>\n",
              "      <td>-0.242253</td>\n",
              "      <td>0.046619</td>\n",
              "    </tr>\n",
              "    <tr>\n",
              "      <th>Valence.</th>\n",
              "      <td>0.073033</td>\n",
              "      <td>0.294269</td>\n",
              "      <td>0.656511</td>\n",
              "      <td>0.352035</td>\n",
              "      <td>0.556381</td>\n",
              "      <td>0.391183</td>\n",
              "      <td>1.000000</td>\n",
              "      <td>-0.049744</td>\n",
              "      <td>-0.246791</td>\n",
              "      <td>-0.233787</td>\n",
              "      <td>-0.476084</td>\n",
              "    </tr>\n",
              "    <tr>\n",
              "      <th>Length.</th>\n",
              "      <td>-0.188742</td>\n",
              "      <td>0.381477</td>\n",
              "      <td>0.195656</td>\n",
              "      <td>0.118200</td>\n",
              "      <td>0.496760</td>\n",
              "      <td>-0.481913</td>\n",
              "      <td>-0.049744</td>\n",
              "      <td>1.000000</td>\n",
              "      <td>-0.186614</td>\n",
              "      <td>0.557605</td>\n",
              "      <td>0.247880</td>\n",
              "    </tr>\n",
              "    <tr>\n",
              "      <th>Acousticness..</th>\n",
              "      <td>-0.027904</td>\n",
              "      <td>-0.356204</td>\n",
              "      <td>-0.267816</td>\n",
              "      <td>-0.349055</td>\n",
              "      <td>0.009666</td>\n",
              "      <td>0.187193</td>\n",
              "      <td>-0.246791</td>\n",
              "      <td>-0.186614</td>\n",
              "      <td>1.000000</td>\n",
              "      <td>-0.245339</td>\n",
              "      <td>-0.145281</td>\n",
              "    </tr>\n",
              "    <tr>\n",
              "      <th>Speechiness.</th>\n",
              "      <td>0.207878</td>\n",
              "      <td>0.505157</td>\n",
              "      <td>0.151268</td>\n",
              "      <td>0.102530</td>\n",
              "      <td>0.035798</td>\n",
              "      <td>-0.242253</td>\n",
              "      <td>-0.233787</td>\n",
              "      <td>0.557605</td>\n",
              "      <td>-0.245339</td>\n",
              "      <td>1.000000</td>\n",
              "      <td>0.461142</td>\n",
              "    </tr>\n",
              "    <tr>\n",
              "      <th>Popularity</th>\n",
              "      <td>-0.094512</td>\n",
              "      <td>0.248595</td>\n",
              "      <td>-0.204088</td>\n",
              "      <td>-0.328043</td>\n",
              "      <td>-0.066485</td>\n",
              "      <td>0.046619</td>\n",
              "      <td>-0.476084</td>\n",
              "      <td>0.247880</td>\n",
              "      <td>-0.145281</td>\n",
              "      <td>0.461142</td>\n",
              "      <td>1.000000</td>\n",
              "    </tr>\n",
              "  </tbody>\n",
              "</table>\n",
              "</div>\n",
              "      <button class=\"colab-df-convert\" onclick=\"convertToInteractive('df-7ebfbcfb-a488-4e32-ad79-23ad9d35ac03')\"\n",
              "              title=\"Convert this dataframe to an interactive table.\"\n",
              "              style=\"display:none;\">\n",
              "        \n",
              "  <svg xmlns=\"http://www.w3.org/2000/svg\" height=\"24px\"viewBox=\"0 0 24 24\"\n",
              "       width=\"24px\">\n",
              "    <path d=\"M0 0h24v24H0V0z\" fill=\"none\"/>\n",
              "    <path d=\"M18.56 5.44l.94 2.06.94-2.06 2.06-.94-2.06-.94-.94-2.06-.94 2.06-2.06.94zm-11 1L8.5 8.5l.94-2.06 2.06-.94-2.06-.94L8.5 2.5l-.94 2.06-2.06.94zm10 10l.94 2.06.94-2.06 2.06-.94-2.06-.94-.94-2.06-.94 2.06-2.06.94z\"/><path d=\"M17.41 7.96l-1.37-1.37c-.4-.4-.92-.59-1.43-.59-.52 0-1.04.2-1.43.59L10.3 9.45l-7.72 7.72c-.78.78-.78 2.05 0 2.83L4 21.41c.39.39.9.59 1.41.59.51 0 1.02-.2 1.41-.59l7.78-7.78 2.81-2.81c.8-.78.8-2.07 0-2.86zM5.41 20L4 18.59l7.72-7.72 1.47 1.35L5.41 20z\"/>\n",
              "  </svg>\n",
              "      </button>\n",
              "      \n",
              "  <style>\n",
              "    .colab-df-container {\n",
              "      display:flex;\n",
              "      flex-wrap:wrap;\n",
              "      gap: 12px;\n",
              "    }\n",
              "\n",
              "    .colab-df-convert {\n",
              "      background-color: #E8F0FE;\n",
              "      border: none;\n",
              "      border-radius: 50%;\n",
              "      cursor: pointer;\n",
              "      display: none;\n",
              "      fill: #1967D2;\n",
              "      height: 32px;\n",
              "      padding: 0 0 0 0;\n",
              "      width: 32px;\n",
              "    }\n",
              "\n",
              "    .colab-df-convert:hover {\n",
              "      background-color: #E2EBFA;\n",
              "      box-shadow: 0px 1px 2px rgba(60, 64, 67, 0.3), 0px 1px 3px 1px rgba(60, 64, 67, 0.15);\n",
              "      fill: #174EA6;\n",
              "    }\n",
              "\n",
              "    [theme=dark] .colab-df-convert {\n",
              "      background-color: #3B4455;\n",
              "      fill: #D2E3FC;\n",
              "    }\n",
              "\n",
              "    [theme=dark] .colab-df-convert:hover {\n",
              "      background-color: #434B5C;\n",
              "      box-shadow: 0px 1px 3px 1px rgba(0, 0, 0, 0.15);\n",
              "      filter: drop-shadow(0px 1px 2px rgba(0, 0, 0, 0.3));\n",
              "      fill: #FFFFFF;\n",
              "    }\n",
              "  </style>\n",
              "\n",
              "      <script>\n",
              "        const buttonEl =\n",
              "          document.querySelector('#df-7ebfbcfb-a488-4e32-ad79-23ad9d35ac03 button.colab-df-convert');\n",
              "        buttonEl.style.display =\n",
              "          google.colab.kernel.accessAllowed ? 'block' : 'none';\n",
              "\n",
              "        async function convertToInteractive(key) {\n",
              "          const element = document.querySelector('#df-7ebfbcfb-a488-4e32-ad79-23ad9d35ac03');\n",
              "          const dataTable =\n",
              "            await google.colab.kernel.invokeFunction('convertToInteractive',\n",
              "                                                     [key], {});\n",
              "          if (!dataTable) return;\n",
              "\n",
              "          const docLinkHtml = 'Like what you see? Visit the ' +\n",
              "            '<a target=\"_blank\" href=https://colab.research.google.com/notebooks/data_table.ipynb>data table notebook</a>'\n",
              "            + ' to learn more about interactive tables.';\n",
              "          element.innerHTML = '';\n",
              "          dataTable['output_type'] = 'display_data';\n",
              "          await google.colab.output.renderOutput(dataTable, element);\n",
              "          const docLink = document.createElement('div');\n",
              "          docLink.innerHTML = docLinkHtml;\n",
              "          element.appendChild(docLink);\n",
              "        }\n",
              "      </script>\n",
              "    </div>\n",
              "  </div>\n",
              "  "
            ]
          },
          "metadata": {},
          "execution_count": 82
        }
      ]
    },
    {
      "cell_type": "markdown",
      "source": [
        "Estrapoliamo subito le features che sono più correlate alla Popolarità e procedendo in maniera del tutto analoga alla precedente:\n",
        "- BPM, Length, Speechiness\n",
        "\n",
        "Estrapoliamo subito le features che sono più scorrelate alla Popolarità e procedendo in maniera del tutto analoga alla precedente:\n",
        "- Danceability, Valence, Energy"
      ],
      "metadata": {
        "id": "Z6DOWbUKE1R1"
      }
    },
    {
      "cell_type": "code",
      "source": [
        "correlated_features_to_popularity_for_pop = ['Beats.Per.Minute','Length.','Speechiness.'] \n",
        "scorrelated_features_to_popularity_for_pop = ['Energy','Danceability','Valence.'] \n",
        "all_correlated_features_to_popularity_for_pop = ['Beats.Per.Minute','Length.','Speechiness.','Energy','Danceability','Valence.']"
      ],
      "metadata": {
        "id": "BBys5sgyE1R3"
      },
      "execution_count": 83,
      "outputs": []
    },
    {
      "cell_type": "markdown",
      "source": [
        "Andiamo ad eseguire quindi il fitting dei dati come in precedenza in base alle features che si vogliono utilizzare."
      ],
      "metadata": {
        "id": "K6UCvxOoE1R4"
      }
    },
    {
      "cell_type": "code",
      "source": [
        "#correlate positivamente\n",
        "X = maxi_genere_pop[correlated_features_to_popularity_for_pop]\n",
        "X = np.asarray(X)\n",
        "scaler = preprocessing.StandardScaler().fit(X)\n",
        "X = scaler.transform(X)\n",
        "\n",
        "#correlate negativamete\n",
        "Z = maxi_genere_pop[scorrelated_features_to_popularity_for_pop]\n",
        "Z = np.asarray(Z)\n",
        "scaler = preprocessing.StandardScaler().fit(Z)\n",
        "Z = scaler.transform(Z)\n",
        "\n",
        "#correlazione sia negativa che postivia\n",
        "A = maxi_genere_pop[all_correlated_features_to_popularity_for_pop]\n",
        "A = np.asarray(A)\n",
        "scaler = preprocessing.StandardScaler().fit(A)\n",
        "A = scaler.transform(A)"
      ],
      "metadata": {
        "id": "8jlwoegiE1R5"
      },
      "execution_count": 84,
      "outputs": []
    },
    {
      "cell_type": "markdown",
      "source": [
        "Con le features correlate positivamente:"
      ],
      "metadata": {
        "id": "NNB_1wSvE1R6"
      }
    },
    {
      "cell_type": "code",
      "source": [
        "kmeans=KMeans(n_clusters=3, random_state=0).fit(X)\n",
        "y=kmeans.labels_\n",
        "for i in range(0,3):\n",
        "    plt.scatter(X[np.where(y==i),0],X[np.where(y==i),1], color = color[i])"
      ],
      "metadata": {
        "colab": {
          "base_uri": "https://localhost:8080/",
          "height": 265
        },
        "outputId": "23800ce5-d6a0-4f31-b4d1-7cc087f865fc",
        "id": "FR3XgROJE1R7"
      },
      "execution_count": 85,
      "outputs": [
        {
          "output_type": "display_data",
          "data": {
            "text/plain": [
              "<Figure size 432x288 with 1 Axes>"
            ],
            "image/png": "[encoded data removed]"
          },
          "metadata": {
            "needs_background": "light"
          }
        }
      ]
    },
    {
      "cell_type": "code",
      "source": [
        "maxi_genere_pop[\"Clusters\"]=kmeans.predict(X)\n",
        "maxi_genere_pop.boxplot(column='Popularity',by='Clusters')"
      ],
      "metadata": {
        "outputId": "a281f51b-0204-4f25-f177-10a35a111cc3",
        "colab": {
          "base_uri": "https://localhost:8080/",
          "height": 375
        },
        "id": "1_pcgnyZE1R8"
      },
      "execution_count": 86,
      "outputs": [
        {
          "output_type": "stream",
          "name": "stderr",
          "text": [
            "/usr/local/lib/python3.7/dist-packages/matplotlib/cbook/__init__.py:1376: VisibleDeprecationWarning: Creating an ndarray from ragged nested sequences (which is a list-or-tuple of lists-or-tuples-or ndarrays with different lengths or shapes) is deprecated. If you meant to do this, you must specify 'dtype=object' when creating the ndarray.\n",
            "  X = np.atleast_1d(X.T if isinstance(X, np.ndarray) else np.asarray(X))\n"
          ]
        },
        {
          "output_type": "execute_result",
          "data": {
            "text/plain": [
              "<matplotlib.axes._subplots.AxesSubplot at 0x7fa5d6ab6210>"
            ]
          },
          "metadata": {},
          "execution_count": 86
        },
        {
          "output_type": "display_data",
          "data": {
            "text/plain": [
              "<Figure size 432x288 with 1 Axes>"
            ],
            "image/png": "[encoded data removed]"
          },
          "metadata": {
            "needs_background": "light"
          }
        }
      ]
    },
    {
      "cell_type": "markdown",
      "source": [
        "Con l'utilizzo di 3 cluster si riesce quindi a predire con successo la popolarità di una canzone del macro genere pop in base alle sue caratteristiche correlate positivamente."
      ],
      "metadata": {
        "id": "RfVV7NFgE1R9"
      }
    },
    {
      "cell_type": "markdown",
      "source": [
        "Con le features correlate negativamente:"
      ],
      "metadata": {
        "id": "86_AUPNpE1R-"
      }
    },
    {
      "cell_type": "code",
      "source": [
        "kmeans=KMeans(n_clusters=3, random_state=0).fit(Z)\n",
        "y=kmeans.labels_\n",
        "for i in range(0,3):\n",
        "    plt.scatter(Z[np.where(y==i),0],Z[np.where(y==i),1], color = color[i])"
      ],
      "metadata": {
        "outputId": "82dbe645-8142-4a28-e3e3-75829463be60",
        "colab": {
          "base_uri": "https://localhost:8080/",
          "height": 265
        },
        "id": "eUhB6w8zE1R_"
      },
      "execution_count": 87,
      "outputs": [
        {
          "output_type": "display_data",
          "data": {
            "text/plain": [
              "<Figure size 432x288 with 1 Axes>"
            ],
            "image/png": "[encoded data removed]"
          },
          "metadata": {
            "needs_background": "light"
          }
        }
      ]
    },
    {
      "cell_type": "code",
      "source": [
        "maxi_genere_pop[\"Clusters\"]=kmeans.predict(Z)\n",
        "maxi_genere_pop.boxplot(column='Popularity',by='Clusters')"
      ],
      "metadata": {
        "colab": {
          "base_uri": "https://localhost:8080/",
          "height": 375
        },
        "outputId": "4ba9b397-8f80-4359-d1ba-071f2efdf17e",
        "id": "LUDNnNYBE1SA"
      },
      "execution_count": 88,
      "outputs": [
        {
          "output_type": "stream",
          "name": "stderr",
          "text": [
            "/usr/local/lib/python3.7/dist-packages/matplotlib/cbook/__init__.py:1376: VisibleDeprecationWarning: Creating an ndarray from ragged nested sequences (which is a list-or-tuple of lists-or-tuples-or ndarrays with different lengths or shapes) is deprecated. If you meant to do this, you must specify 'dtype=object' when creating the ndarray.\n",
            "  X = np.atleast_1d(X.T if isinstance(X, np.ndarray) else np.asarray(X))\n"
          ]
        },
        {
          "output_type": "execute_result",
          "data": {
            "text/plain": [
              "<matplotlib.axes._subplots.AxesSubplot at 0x7fa5d6a6b690>"
            ]
          },
          "metadata": {},
          "execution_count": 88
        },
        {
          "output_type": "display_data",
          "data": {
            "text/plain": [
              "<Figure size 432x288 with 1 Axes>"
            ],
            "image/png": "[encoded data removed]"
          },
          "metadata": {
            "needs_background": "light"
          }
        }
      ]
    },
    {
      "cell_type": "markdown",
      "source": [
        "Riusciamo quindi a dedurre dal confronto di questi due box plot sopra riportati che si ottengono più o meno le stesse previsioni, riuscendo così a predire in base alle caratteristiche della canzone pop una certa popolarità."
      ],
      "metadata": {
        "id": "MtAbXDLvE1SB"
      }
    },
    {
      "cell_type": "markdown",
      "source": [
        "Con le feature corelate sia positivamente che negativamente:"
      ],
      "metadata": {
        "id": "ezHyQ-ZmE1SC"
      }
    },
    {
      "cell_type": "code",
      "source": [
        "kmeans=KMeans(n_clusters=2, random_state=0).fit(A)\n",
        "y=kmeans.labels_\n",
        "for i in range(0,2):\n",
        "    plt.scatter(A[np.where(y==i),0],A[np.where(y==i),1], color = color[i])"
      ],
      "metadata": {
        "outputId": "f07c3bf7-deb9-4f92-b4f7-640ecd8d6a1f",
        "colab": {
          "base_uri": "https://localhost:8080/",
          "height": 265
        },
        "id": "5m_JI_8wE1SD"
      },
      "execution_count": 89,
      "outputs": [
        {
          "output_type": "display_data",
          "data": {
            "text/plain": [
              "<Figure size 432x288 with 1 Axes>"
            ],
            "image/png": "[encoded data removed]"
          },
          "metadata": {
            "needs_background": "light"
          }
        }
      ]
    },
    {
      "cell_type": "code",
      "source": [
        "maxi_genere_pop[\"Clusters\"]=kmeans.predict(A)\n",
        "maxi_genere_pop.boxplot(column='Popularity',by='Clusters')"
      ],
      "metadata": {
        "outputId": "b7344b0c-3983-4d3c-fabc-7c80cb7f17ab",
        "colab": {
          "base_uri": "https://localhost:8080/",
          "height": 375
        },
        "id": "rQKaM2hrE1SF"
      },
      "execution_count": 90,
      "outputs": [
        {
          "output_type": "stream",
          "name": "stderr",
          "text": [
            "/usr/local/lib/python3.7/dist-packages/matplotlib/cbook/__init__.py:1376: VisibleDeprecationWarning: Creating an ndarray from ragged nested sequences (which is a list-or-tuple of lists-or-tuples-or ndarrays with different lengths or shapes) is deprecated. If you meant to do this, you must specify 'dtype=object' when creating the ndarray.\n",
            "  X = np.atleast_1d(X.T if isinstance(X, np.ndarray) else np.asarray(X))\n"
          ]
        },
        {
          "output_type": "execute_result",
          "data": {
            "text/plain": [
              "<matplotlib.axes._subplots.AxesSubplot at 0x7fa5d68d5e90>"
            ]
          },
          "metadata": {},
          "execution_count": 90
        },
        {
          "output_type": "display_data",
          "data": {
            "text/plain": [
              "<Figure size 432x288 with 1 Axes>"
            ],
            "image/png": "[encoded data removed]"
          },
          "metadata": {
            "needs_background": "light"
          }
        }
      ]
    },
    {
      "cell_type": "markdown",
      "source": [
        "Utilizzando tutte le features correlate si riesce ad ottenere un buon risultato di previsione utilizzando due cluster come si può visualizzare nel box plot sopra riportato. "
      ],
      "metadata": {
        "id": "xMWQj7DhE1SH"
      }
    },
    {
      "cell_type": "markdown",
      "source": [
        "Siamo quindi riusciti a risolvere i seguenti problemi di classificazione con i dati a disposizione:\n",
        "\n",
        "- predire il genere di una canzone con tutti gli attributi di questa;\n",
        "- predire il genere di una canzone con tutte le caratteristiche correlate di questa;\n",
        "- predire il macro genere di una canzone con tutti gli attributi di questa;\n",
        "- predire il macro genere di una canzone con tutte le caratteristiche correlate di questa;\n",
        "- predire la popolarità di una canzone appartenente a qualsiasi genere a seconda dei suoi attributi;\n",
        "- predire la popolarità di una canzone appartenente ad un macro genere in particolare(provato su rap e pop)\n",
        "\n"
      ],
      "metadata": {
        "id": "nU9mhgYeJgC3"
      }
    }
  ]
}