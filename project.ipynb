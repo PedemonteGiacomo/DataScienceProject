{
  "nbformat": 4,
  "nbformat_minor": 0,
  "metadata": {
    "colab": {
      "name": "project.ipynb",
      "provenance": [],
      "collapsed_sections": [],
      "authorship_tag": "ABX9TyPHoQZVkr7H4q7gOZAhMbxR",
      "include_colab_link": true
    },
    "kernelspec": {
      "name": "python3",
      "display_name": "Python 3"
    },
    "language_info": {
      "name": "python"
    }
  },
  "cells": [
    {
      "cell_type": "markdown",
      "metadata": {
        "id": "view-in-github",
        "colab_type": "text"
      },
      "source": [
        "<a href=\"https://colab.research.google.com/github/PedemonteGiacomo/DataScienceProject/blob/main/project.ipynb\" target=\"_parent\"><img src=\"https://colab.research.google.com/assets/colab-badge.svg\" alt=\"Open In Colab\"/></a>"
      ]
    },
    {
      "cell_type": "code",
      "execution_count": 1,
      "metadata": {
        "colab": {
          "base_uri": "https://localhost:8080/"
        },
        "id": "NjTQV6iUUPlk",
        "outputId": "35bc6eb1-e5c9-4d63-b30a-20d3cfacb373"
      },
      "outputs": [
        {
          "output_type": "stream",
          "name": "stdout",
          "text": [
            "1.4.1\n"
          ]
        }
      ],
      "source": [
        "import pandas as pd \n",
        "import matplotlib.pyplot as plt #libreria grafica da usare dopo il calcolo dell'istogramma, grazie anche a numpy(np) \n",
        "import numpy as np\n",
        "#!pip install scipy==1.7.0\n",
        "import scipy.stats as stats\n",
        "import scipy\n",
        "print (scipy.__version__)"
      ]
    },
    {
      "cell_type": "markdown",
      "source": [
        "Importazione del database contenente la playlist spotify: top50 del 2019\n",
        "\n",
        "\n",
        "\n"
      ],
      "metadata": {
        "id": "B9uW-x6gUgVn"
      }
    },
    {
      "cell_type": "code",
      "source": [
        "top50 = pd.read_csv('top50.csv')\n",
        "top50.head()"
      ],
      "metadata": {
        "colab": {
          "base_uri": "https://localhost:8080/",
          "height": 408
        },
        "id": "dGTNkU33U67r",
        "outputId": "e55a0bdb-230e-4989-8534-686d8769a323"
      },
      "execution_count": 2,
      "outputs": [
        {
          "output_type": "execute_result",
          "data": {
            "text/plain": [
              "   Position                       Track.Name    Artist.Name           Genre  \\\n",
              "0         1                         Senorita   Shawn Mendes    canadian pop   \n",
              "1         2                            China       Anuel AA  reggaeton flow   \n",
              "2         3    boyfriend (with Social House)  Ariana Grande       dance pop   \n",
              "3         4  Beautiful People (feat. Khalid)     Ed Sheeran             pop   \n",
              "4         5      Goodbyes (Feat. Young Thug)    Post Malone         dfw rap   \n",
              "\n",
              "   Beats.Per.Minute  Energy  Danceability  Loudness..dB..  Liveness  Valence.  \\\n",
              "0               117      55            76              -6         8        75   \n",
              "1               105      81            79              -4         8        61   \n",
              "2               190      80            40              -4        16        70   \n",
              "3                93      65            64              -8         8        55   \n",
              "4               150      65            58              -4        11        18   \n",
              "\n",
              "   Length.  Acousticness..  Speechiness.  Popularity  \n",
              "0      191               4             3          79  \n",
              "1      302               8             9          92  \n",
              "2      186              12            46          85  \n",
              "3      198              12            19          86  \n",
              "4      175              45             7          94  "
            ],
            "text/html": [
              "\n",
              "  <div id=\"df-1168838d-a482-4bba-88ce-17cb35db4c1b\">\n",
              "    <div class=\"colab-df-container\">\n",
              "      <div>\n",
              "<style scoped>\n",
              "    .dataframe tbody tr th:only-of-type {\n",
              "        vertical-align: middle;\n",
              "    }\n",
              "\n",
              "    .dataframe tbody tr th {\n",
              "        vertical-align: top;\n",
              "    }\n",
              "\n",
              "    .dataframe thead th {\n",
              "        text-align: right;\n",
              "    }\n",
              "</style>\n",
              "<table border=\"1\" class=\"dataframe\">\n",
              "  <thead>\n",
              "    <tr style=\"text-align: right;\">\n",
              "      <th></th>\n",
              "      <th>Position</th>\n",
              "      <th>Track.Name</th>\n",
              "      <th>Artist.Name</th>\n",
              "      <th>Genre</th>\n",
              "      <th>Beats.Per.Minute</th>\n",
              "      <th>Energy</th>\n",
              "      <th>Danceability</th>\n",
              "      <th>Loudness..dB..</th>\n",
              "      <th>Liveness</th>\n",
              "      <th>Valence.</th>\n",
              "      <th>Length.</th>\n",
              "      <th>Acousticness..</th>\n",
              "      <th>Speechiness.</th>\n",
              "      <th>Popularity</th>\n",
              "    </tr>\n",
              "  </thead>\n",
              "  <tbody>\n",
              "    <tr>\n",
              "      <th>0</th>\n",
              "      <td>1</td>\n",
              "      <td>Senorita</td>\n",
              "      <td>Shawn Mendes</td>\n",
              "      <td>canadian pop</td>\n",
              "      <td>117</td>\n",
              "      <td>55</td>\n",
              "      <td>76</td>\n",
              "      <td>-6</td>\n",
              "      <td>8</td>\n",
              "      <td>75</td>\n",
              "      <td>191</td>\n",
              "      <td>4</td>\n",
              "      <td>3</td>\n",
              "      <td>79</td>\n",
              "    </tr>\n",
              "    <tr>\n",
              "      <th>1</th>\n",
              "      <td>2</td>\n",
              "      <td>China</td>\n",
              "      <td>Anuel AA</td>\n",
              "      <td>reggaeton flow</td>\n",
              "      <td>105</td>\n",
              "      <td>81</td>\n",
              "      <td>79</td>\n",
              "      <td>-4</td>\n",
              "      <td>8</td>\n",
              "      <td>61</td>\n",
              "      <td>302</td>\n",
              "      <td>8</td>\n",
              "      <td>9</td>\n",
              "      <td>92</td>\n",
              "    </tr>\n",
              "    <tr>\n",
              "      <th>2</th>\n",
              "      <td>3</td>\n",
              "      <td>boyfriend (with Social House)</td>\n",
              "      <td>Ariana Grande</td>\n",
              "      <td>dance pop</td>\n",
              "      <td>190</td>\n",
              "      <td>80</td>\n",
              "      <td>40</td>\n",
              "      <td>-4</td>\n",
              "      <td>16</td>\n",
              "      <td>70</td>\n",
              "      <td>186</td>\n",
              "      <td>12</td>\n",
              "      <td>46</td>\n",
              "      <td>85</td>\n",
              "    </tr>\n",
              "    <tr>\n",
              "      <th>3</th>\n",
              "      <td>4</td>\n",
              "      <td>Beautiful People (feat. Khalid)</td>\n",
              "      <td>Ed Sheeran</td>\n",
              "      <td>pop</td>\n",
              "      <td>93</td>\n",
              "      <td>65</td>\n",
              "      <td>64</td>\n",
              "      <td>-8</td>\n",
              "      <td>8</td>\n",
              "      <td>55</td>\n",
              "      <td>198</td>\n",
              "      <td>12</td>\n",
              "      <td>19</td>\n",
              "      <td>86</td>\n",
              "    </tr>\n",
              "    <tr>\n",
              "      <th>4</th>\n",
              "      <td>5</td>\n",
              "      <td>Goodbyes (Feat. Young Thug)</td>\n",
              "      <td>Post Malone</td>\n",
              "      <td>dfw rap</td>\n",
              "      <td>150</td>\n",
              "      <td>65</td>\n",
              "      <td>58</td>\n",
              "      <td>-4</td>\n",
              "      <td>11</td>\n",
              "      <td>18</td>\n",
              "      <td>175</td>\n",
              "      <td>45</td>\n",
              "      <td>7</td>\n",
              "      <td>94</td>\n",
              "    </tr>\n",
              "  </tbody>\n",
              "</table>\n",
              "</div>\n",
              "      <button class=\"colab-df-convert\" onclick=\"convertToInteractive('df-1168838d-a482-4bba-88ce-17cb35db4c1b')\"\n",
              "              title=\"Convert this dataframe to an interactive table.\"\n",
              "              style=\"display:none;\">\n",
              "        \n",
              "  <svg xmlns=\"http://www.w3.org/2000/svg\" height=\"24px\"viewBox=\"0 0 24 24\"\n",
              "       width=\"24px\">\n",
              "    <path d=\"M0 0h24v24H0V0z\" fill=\"none\"/>\n",
              "    <path d=\"M18.56 5.44l.94 2.06.94-2.06 2.06-.94-2.06-.94-.94-2.06-.94 2.06-2.06.94zm-11 1L8.5 8.5l.94-2.06 2.06-.94-2.06-.94L8.5 2.5l-.94 2.06-2.06.94zm10 10l.94 2.06.94-2.06 2.06-.94-2.06-.94-.94-2.06-.94 2.06-2.06.94z\"/><path d=\"M17.41 7.96l-1.37-1.37c-.4-.4-.92-.59-1.43-.59-.52 0-1.04.2-1.43.59L10.3 9.45l-7.72 7.72c-.78.78-.78 2.05 0 2.83L4 21.41c.39.39.9.59 1.41.59.51 0 1.02-.2 1.41-.59l7.78-7.78 2.81-2.81c.8-.78.8-2.07 0-2.86zM5.41 20L4 18.59l7.72-7.72 1.47 1.35L5.41 20z\"/>\n",
              "  </svg>\n",
              "      </button>\n",
              "      \n",
              "  <style>\n",
              "    .colab-df-container {\n",
              "      display:flex;\n",
              "      flex-wrap:wrap;\n",
              "      gap: 12px;\n",
              "    }\n",
              "\n",
              "    .colab-df-convert {\n",
              "      background-color: #E8F0FE;\n",
              "      border: none;\n",
              "      border-radius: 50%;\n",
              "      cursor: pointer;\n",
              "      display: none;\n",
              "      fill: #1967D2;\n",
              "      height: 32px;\n",
              "      padding: 0 0 0 0;\n",
              "      width: 32px;\n",
              "    }\n",
              "\n",
              "    .colab-df-convert:hover {\n",
              "      background-color: #E2EBFA;\n",
              "      box-shadow: 0px 1px 2px rgba(60, 64, 67, 0.3), 0px 1px 3px 1px rgba(60, 64, 67, 0.15);\n",
              "      fill: #174EA6;\n",
              "    }\n",
              "\n",
              "    [theme=dark] .colab-df-convert {\n",
              "      background-color: #3B4455;\n",
              "      fill: #D2E3FC;\n",
              "    }\n",
              "\n",
              "    [theme=dark] .colab-df-convert:hover {\n",
              "      background-color: #434B5C;\n",
              "      box-shadow: 0px 1px 3px 1px rgba(0, 0, 0, 0.15);\n",
              "      filter: drop-shadow(0px 1px 2px rgba(0, 0, 0, 0.3));\n",
              "      fill: #FFFFFF;\n",
              "    }\n",
              "  </style>\n",
              "\n",
              "      <script>\n",
              "        const buttonEl =\n",
              "          document.querySelector('#df-1168838d-a482-4bba-88ce-17cb35db4c1b button.colab-df-convert');\n",
              "        buttonEl.style.display =\n",
              "          google.colab.kernel.accessAllowed ? 'block' : 'none';\n",
              "\n",
              "        async function convertToInteractive(key) {\n",
              "          const element = document.querySelector('#df-1168838d-a482-4bba-88ce-17cb35db4c1b');\n",
              "          const dataTable =\n",
              "            await google.colab.kernel.invokeFunction('convertToInteractive',\n",
              "                                                     [key], {});\n",
              "          if (!dataTable) return;\n",
              "\n",
              "          const docLinkHtml = 'Like what you see? Visit the ' +\n",
              "            '<a target=\"_blank\" href=https://colab.research.google.com/notebooks/data_table.ipynb>data table notebook</a>'\n",
              "            + ' to learn more about interactive tables.';\n",
              "          element.innerHTML = '';\n",
              "          dataTable['output_type'] = 'display_data';\n",
              "          await google.colab.output.renderOutput(dataTable, element);\n",
              "          const docLink = document.createElement('div');\n",
              "          docLink.innerHTML = docLinkHtml;\n",
              "          element.appendChild(docLink);\n",
              "        }\n",
              "      </script>\n",
              "    </div>\n",
              "  </div>\n",
              "  "
            ]
          },
          "metadata": {},
          "execution_count": 2
        }
      ]
    },
    {
      "cell_type": "code",
      "source": [
        "top50.shape"
      ],
      "metadata": {
        "colab": {
          "base_uri": "https://localhost:8080/"
        },
        "id": "zjXjQdLgZOsl",
        "outputId": "810b603c-cd11-43c0-cee9-ac4412ff6a0b"
      },
      "execution_count": 3,
      "outputs": [
        {
          "output_type": "execute_result",
          "data": {
            "text/plain": [
              "(50, 14)"
            ]
          },
          "metadata": {},
          "execution_count": 3
        }
      ]
    },
    {
      "cell_type": "code",
      "source": [
        "top50.describe()"
      ],
      "metadata": {
        "colab": {
          "base_uri": "https://localhost:8080/",
          "height": 364
        },
        "id": "XN0Yu60aZPo8",
        "outputId": "269861e8-ef55-42d6-8b70-b00324a4e739"
      },
      "execution_count": 4,
      "outputs": [
        {
          "output_type": "execute_result",
          "data": {
            "text/plain": [
              "       Position  Beats.Per.Minute     Energy  Danceability  Loudness..dB..  \\\n",
              "count  50.00000         50.000000  50.000000      50.00000       50.000000   \n",
              "mean   25.50000        120.060000  64.060000      71.38000       -5.660000   \n",
              "std    14.57738         30.898392  14.231913      11.92988        2.056448   \n",
              "min     1.00000         85.000000  32.000000      29.00000      -11.000000   \n",
              "25%    13.25000         96.000000  55.250000      67.00000       -6.750000   \n",
              "50%    25.50000        104.500000  66.500000      73.50000       -6.000000   \n",
              "75%    37.75000        137.500000  74.750000      79.75000       -4.000000   \n",
              "max    50.00000        190.000000  88.000000      90.00000       -2.000000   \n",
              "\n",
              "        Liveness   Valence.     Length.  Acousticness..  Speechiness.  \\\n",
              "count  50.000000  50.000000   50.000000       50.000000     50.000000   \n",
              "mean   14.660000  54.600000  200.960000       22.160000     12.480000   \n",
              "std    11.118306  22.336024   39.143879       18.995553     11.161596   \n",
              "min     5.000000  10.000000  115.000000        1.000000      3.000000   \n",
              "25%     8.000000  38.250000  176.750000        8.250000      5.000000   \n",
              "50%    11.000000  55.500000  198.000000       15.000000      7.000000   \n",
              "75%    15.750000  69.500000  217.500000       33.750000     15.000000   \n",
              "max    58.000000  95.000000  309.000000       75.000000     46.000000   \n",
              "\n",
              "       Popularity  \n",
              "count   50.000000  \n",
              "mean    87.500000  \n",
              "std      4.491489  \n",
              "min     70.000000  \n",
              "25%     86.000000  \n",
              "50%     88.000000  \n",
              "75%     90.750000  \n",
              "max     95.000000  "
            ],
            "text/html": [
              "\n",
              "  <div id=\"df-d34d9f69-b525-4aa5-9c06-254e3802347e\">\n",
              "    <div class=\"colab-df-container\">\n",
              "      <div>\n",
              "<style scoped>\n",
              "    .dataframe tbody tr th:only-of-type {\n",
              "        vertical-align: middle;\n",
              "    }\n",
              "\n",
              "    .dataframe tbody tr th {\n",
              "        vertical-align: top;\n",
              "    }\n",
              "\n",
              "    .dataframe thead th {\n",
              "        text-align: right;\n",
              "    }\n",
              "</style>\n",
              "<table border=\"1\" class=\"dataframe\">\n",
              "  <thead>\n",
              "    <tr style=\"text-align: right;\">\n",
              "      <th></th>\n",
              "      <th>Position</th>\n",
              "      <th>Beats.Per.Minute</th>\n",
              "      <th>Energy</th>\n",
              "      <th>Danceability</th>\n",
              "      <th>Loudness..dB..</th>\n",
              "      <th>Liveness</th>\n",
              "      <th>Valence.</th>\n",
              "      <th>Length.</th>\n",
              "      <th>Acousticness..</th>\n",
              "      <th>Speechiness.</th>\n",
              "      <th>Popularity</th>\n",
              "    </tr>\n",
              "  </thead>\n",
              "  <tbody>\n",
              "    <tr>\n",
              "      <th>count</th>\n",
              "      <td>50.00000</td>\n",
              "      <td>50.000000</td>\n",
              "      <td>50.000000</td>\n",
              "      <td>50.00000</td>\n",
              "      <td>50.000000</td>\n",
              "      <td>50.000000</td>\n",
              "      <td>50.000000</td>\n",
              "      <td>50.000000</td>\n",
              "      <td>50.000000</td>\n",
              "      <td>50.000000</td>\n",
              "      <td>50.000000</td>\n",
              "    </tr>\n",
              "    <tr>\n",
              "      <th>mean</th>\n",
              "      <td>25.50000</td>\n",
              "      <td>120.060000</td>\n",
              "      <td>64.060000</td>\n",
              "      <td>71.38000</td>\n",
              "      <td>-5.660000</td>\n",
              "      <td>14.660000</td>\n",
              "      <td>54.600000</td>\n",
              "      <td>200.960000</td>\n",
              "      <td>22.160000</td>\n",
              "      <td>12.480000</td>\n",
              "      <td>87.500000</td>\n",
              "    </tr>\n",
              "    <tr>\n",
              "      <th>std</th>\n",
              "      <td>14.57738</td>\n",
              "      <td>30.898392</td>\n",
              "      <td>14.231913</td>\n",
              "      <td>11.92988</td>\n",
              "      <td>2.056448</td>\n",
              "      <td>11.118306</td>\n",
              "      <td>22.336024</td>\n",
              "      <td>39.143879</td>\n",
              "      <td>18.995553</td>\n",
              "      <td>11.161596</td>\n",
              "      <td>4.491489</td>\n",
              "    </tr>\n",
              "    <tr>\n",
              "      <th>min</th>\n",
              "      <td>1.00000</td>\n",
              "      <td>85.000000</td>\n",
              "      <td>32.000000</td>\n",
              "      <td>29.00000</td>\n",
              "      <td>-11.000000</td>\n",
              "      <td>5.000000</td>\n",
              "      <td>10.000000</td>\n",
              "      <td>115.000000</td>\n",
              "      <td>1.000000</td>\n",
              "      <td>3.000000</td>\n",
              "      <td>70.000000</td>\n",
              "    </tr>\n",
              "    <tr>\n",
              "      <th>25%</th>\n",
              "      <td>13.25000</td>\n",
              "      <td>96.000000</td>\n",
              "      <td>55.250000</td>\n",
              "      <td>67.00000</td>\n",
              "      <td>-6.750000</td>\n",
              "      <td>8.000000</td>\n",
              "      <td>38.250000</td>\n",
              "      <td>176.750000</td>\n",
              "      <td>8.250000</td>\n",
              "      <td>5.000000</td>\n",
              "      <td>86.000000</td>\n",
              "    </tr>\n",
              "    <tr>\n",
              "      <th>50%</th>\n",
              "      <td>25.50000</td>\n",
              "      <td>104.500000</td>\n",
              "      <td>66.500000</td>\n",
              "      <td>73.50000</td>\n",
              "      <td>-6.000000</td>\n",
              "      <td>11.000000</td>\n",
              "      <td>55.500000</td>\n",
              "      <td>198.000000</td>\n",
              "      <td>15.000000</td>\n",
              "      <td>7.000000</td>\n",
              "      <td>88.000000</td>\n",
              "    </tr>\n",
              "    <tr>\n",
              "      <th>75%</th>\n",
              "      <td>37.75000</td>\n",
              "      <td>137.500000</td>\n",
              "      <td>74.750000</td>\n",
              "      <td>79.75000</td>\n",
              "      <td>-4.000000</td>\n",
              "      <td>15.750000</td>\n",
              "      <td>69.500000</td>\n",
              "      <td>217.500000</td>\n",
              "      <td>33.750000</td>\n",
              "      <td>15.000000</td>\n",
              "      <td>90.750000</td>\n",
              "    </tr>\n",
              "    <tr>\n",
              "      <th>max</th>\n",
              "      <td>50.00000</td>\n",
              "      <td>190.000000</td>\n",
              "      <td>88.000000</td>\n",
              "      <td>90.00000</td>\n",
              "      <td>-2.000000</td>\n",
              "      <td>58.000000</td>\n",
              "      <td>95.000000</td>\n",
              "      <td>309.000000</td>\n",
              "      <td>75.000000</td>\n",
              "      <td>46.000000</td>\n",
              "      <td>95.000000</td>\n",
              "    </tr>\n",
              "  </tbody>\n",
              "</table>\n",
              "</div>\n",
              "      <button class=\"colab-df-convert\" onclick=\"convertToInteractive('df-d34d9f69-b525-4aa5-9c06-254e3802347e')\"\n",
              "              title=\"Convert this dataframe to an interactive table.\"\n",
              "              style=\"display:none;\">\n",
              "        \n",
              "  <svg xmlns=\"http://www.w3.org/2000/svg\" height=\"24px\"viewBox=\"0 0 24 24\"\n",
              "       width=\"24px\">\n",
              "    <path d=\"M0 0h24v24H0V0z\" fill=\"none\"/>\n",
              "    <path d=\"M18.56 5.44l.94 2.06.94-2.06 2.06-.94-2.06-.94-.94-2.06-.94 2.06-2.06.94zm-11 1L8.5 8.5l.94-2.06 2.06-.94-2.06-.94L8.5 2.5l-.94 2.06-2.06.94zm10 10l.94 2.06.94-2.06 2.06-.94-2.06-.94-.94-2.06-.94 2.06-2.06.94z\"/><path d=\"M17.41 7.96l-1.37-1.37c-.4-.4-.92-.59-1.43-.59-.52 0-1.04.2-1.43.59L10.3 9.45l-7.72 7.72c-.78.78-.78 2.05 0 2.83L4 21.41c.39.39.9.59 1.41.59.51 0 1.02-.2 1.41-.59l7.78-7.78 2.81-2.81c.8-.78.8-2.07 0-2.86zM5.41 20L4 18.59l7.72-7.72 1.47 1.35L5.41 20z\"/>\n",
              "  </svg>\n",
              "      </button>\n",
              "      \n",
              "  <style>\n",
              "    .colab-df-container {\n",
              "      display:flex;\n",
              "      flex-wrap:wrap;\n",
              "      gap: 12px;\n",
              "    }\n",
              "\n",
              "    .colab-df-convert {\n",
              "      background-color: #E8F0FE;\n",
              "      border: none;\n",
              "      border-radius: 50%;\n",
              "      cursor: pointer;\n",
              "      display: none;\n",
              "      fill: #1967D2;\n",
              "      height: 32px;\n",
              "      padding: 0 0 0 0;\n",
              "      width: 32px;\n",
              "    }\n",
              "\n",
              "    .colab-df-convert:hover {\n",
              "      background-color: #E2EBFA;\n",
              "      box-shadow: 0px 1px 2px rgba(60, 64, 67, 0.3), 0px 1px 3px 1px rgba(60, 64, 67, 0.15);\n",
              "      fill: #174EA6;\n",
              "    }\n",
              "\n",
              "    [theme=dark] .colab-df-convert {\n",
              "      background-color: #3B4455;\n",
              "      fill: #D2E3FC;\n",
              "    }\n",
              "\n",
              "    [theme=dark] .colab-df-convert:hover {\n",
              "      background-color: #434B5C;\n",
              "      box-shadow: 0px 1px 3px 1px rgba(0, 0, 0, 0.15);\n",
              "      filter: drop-shadow(0px 1px 2px rgba(0, 0, 0, 0.3));\n",
              "      fill: #FFFFFF;\n",
              "    }\n",
              "  </style>\n",
              "\n",
              "      <script>\n",
              "        const buttonEl =\n",
              "          document.querySelector('#df-d34d9f69-b525-4aa5-9c06-254e3802347e button.colab-df-convert');\n",
              "        buttonEl.style.display =\n",
              "          google.colab.kernel.accessAllowed ? 'block' : 'none';\n",
              "\n",
              "        async function convertToInteractive(key) {\n",
              "          const element = document.querySelector('#df-d34d9f69-b525-4aa5-9c06-254e3802347e');\n",
              "          const dataTable =\n",
              "            await google.colab.kernel.invokeFunction('convertToInteractive',\n",
              "                                                     [key], {});\n",
              "          if (!dataTable) return;\n",
              "\n",
              "          const docLinkHtml = 'Like what you see? Visit the ' +\n",
              "            '<a target=\"_blank\" href=https://colab.research.google.com/notebooks/data_table.ipynb>data table notebook</a>'\n",
              "            + ' to learn more about interactive tables.';\n",
              "          element.innerHTML = '';\n",
              "          dataTable['output_type'] = 'display_data';\n",
              "          await google.colab.output.renderOutput(dataTable, element);\n",
              "          const docLink = document.createElement('div');\n",
              "          docLink.innerHTML = docLinkHtml;\n",
              "          element.appendChild(docLink);\n",
              "        }\n",
              "      </script>\n",
              "    </div>\n",
              "  </div>\n",
              "  "
            ]
          },
          "metadata": {},
          "execution_count": 4
        }
      ]
    },
    {
      "cell_type": "markdown",
      "source": [
        "Andiamo a vedere ora quante canzoni ci sono per genere in questa top50 andando a visualizzare il tutto con un istogramma:"
      ],
      "metadata": {
        "id": "uIbjGvevaa9b"
      }
    },
    {
      "cell_type": "code",
      "source": [
        "num_genre = top50['Genre'].value_counts()\n",
        "#print(num_genre)\n",
        "num_genre.plot(kind = 'bar')"
      ],
      "metadata": {
        "colab": {
          "base_uri": "https://localhost:8080/",
          "height": 360
        },
        "id": "NDYXpEmlah8l",
        "outputId": "820d14a4-1742-4c8b-b252-0e7f24c484e4"
      },
      "execution_count": 5,
      "outputs": [
        {
          "output_type": "execute_result",
          "data": {
            "text/plain": [
              "<matplotlib.axes._subplots.AxesSubplot at 0x7fa307203190>"
            ]
          },
          "metadata": {},
          "execution_count": 5
        },
        {
          "output_type": "display_data",
          "data": {
            "text/plain": [
              "<Figure size 432x288 with 1 Axes>"
            ],
            "image/png": "[encoded data removed]"
          },
          "metadata": {
            "needs_background": "light"
          }
        }
      ]
    },
    {
      "cell_type": "markdown",
      "source": [
        "Vediamo subito in questo modo che il genere più presente nella top50 del 2019 era il dance pop.\n",
        "Ci possiamo anche però porre se fosse il più popolare e quindi dobbiamo vedere un istrogramma della popolarità delle canzoni raggruppandole per genere:"
      ],
      "metadata": {
        "id": "_LSRPZU1bF6d"
      }
    },
    {
      "cell_type": "code",
      "source": [
        "top50.groupby('Genre')['Popularity'].mean().plot(kind='bar')"
      ],
      "metadata": {
        "colab": {
          "base_uri": "https://localhost:8080/",
          "height": 374
        },
        "id": "jZPujm0ibYnW",
        "outputId": "3b94ce34-ddbe-43ed-cf1c-ac655036b073"
      },
      "execution_count": 6,
      "outputs": [
        {
          "output_type": "execute_result",
          "data": {
            "text/plain": [
              "<matplotlib.axes._subplots.AxesSubplot at 0x7fa3070b4690>"
            ]
          },
          "metadata": {},
          "execution_count": 6
        },
        {
          "output_type": "display_data",
          "data": {
            "text/plain": [
              "<Figure size 432x288 with 1 Axes>"
            ],
            "image/png": "[encoded data removed]"
          },
          "metadata": {
            "needs_background": "light"
          }
        }
      ]
    },
    {
      "cell_type": "markdown",
      "source": [
        "Da questo grafico si evince che il dance pop, il genere che presenta più canzoni nella top50, non è ha la media di popularità più alta.\n",
        "\n",
        "Ora andiamo a vedere la relazione tra genere e posizione ottenuta in classifica:"
      ],
      "metadata": {
        "id": "URajrPdadtiP"
      }
    },
    {
      "cell_type": "code",
      "source": [
        "plt.scatter(top50['Position'],top50['Genre'],color='r')"
      ],
      "metadata": {
        "colab": {
          "base_uri": "https://localhost:8080/",
          "height": 283
        },
        "id": "IwqXiciNd8lI",
        "outputId": "7cbb4e73-a79c-4135-d4e0-6b962961375a"
      },
      "execution_count": 7,
      "outputs": [
        {
          "output_type": "execute_result",
          "data": {
            "text/plain": [
              "<matplotlib.collections.PathCollection at 0x7fa3070c5690>"
            ]
          },
          "metadata": {},
          "execution_count": 7
        },
        {
          "output_type": "display_data",
          "data": {
            "text/plain": [
              "<Figure size 432x288 with 1 Axes>"
            ],
            "image/png": "[encoded data removed]"
          },
          "metadata": {
            "needs_background": "light"
          }
        }
      ]
    },
    {
      "cell_type": "code",
      "source": [
        "plt.bar(top50['Position'],top50['Genre'],color='r')"
      ],
      "metadata": {
        "colab": {
          "base_uri": "https://localhost:8080/",
          "height": 283
        },
        "id": "ZYWedyiviZnW",
        "outputId": "35dae3de-4d10-43c7-8890-673f50ae4d4f"
      },
      "execution_count": 8,
      "outputs": [
        {
          "output_type": "execute_result",
          "data": {
            "text/plain": [
              "<BarContainer object of 50 artists>"
            ]
          },
          "metadata": {},
          "execution_count": 8
        },
        {
          "output_type": "display_data",
          "data": {
            "text/plain": [
              "<Figure size 432x288 with 1 Axes>"
            ],
            "image/png": "[encoded data removed]"
          },
          "metadata": {
            "needs_background": "light"
          }
        }
      ]
    },
    {
      "cell_type": "markdown",
      "source": [
        "Vediamo quindi quale genere ha la media più alta di posizionamento in questa top50:"
      ],
      "metadata": {
        "id": "Z0sqnFJqtsPQ"
      }
    },
    {
      "cell_type": "code",
      "source": [
        "top50.groupby('Genre')['Position'].mean().plot(kind='bar')"
      ],
      "metadata": {
        "colab": {
          "base_uri": "https://localhost:8080/",
          "height": 374
        },
        "id": "jf5Pe6STtbIB",
        "outputId": "7747f77c-6abf-4ee7-99aa-a0364fe78263"
      },
      "execution_count": 9,
      "outputs": [
        {
          "output_type": "execute_result",
          "data": {
            "text/plain": [
              "<matplotlib.axes._subplots.AxesSubplot at 0x7fa306aee250>"
            ]
          },
          "metadata": {},
          "execution_count": 9
        },
        {
          "output_type": "display_data",
          "data": {
            "text/plain": [
              "<Figure size 432x288 with 1 Axes>"
            ],
            "image/png": "[encoded data removed]"
          },
          "metadata": {
            "needs_background": "light"
          }
        }
      ]
    },
    {
      "cell_type": "markdown",
      "source": [
        "In questo caso si vede come il genere \"messo meglio\" in classifica con una media del posizionamento è il genere: trap music"
      ],
      "metadata": {
        "id": "V9kWUs89t7Ae"
      }
    },
    {
      "cell_type": "markdown",
      "source": [
        "Sotto riportiamo il box plot per apprezzare la varianza della mediana del posizionamento di ogni genere, da questo grafico inoltre si evince quali generi presentino la maggior quantità di canzoni e quanto siano distaccati i posizionamenti in classifica di queste."
      ],
      "metadata": {
        "id": "oQFoUGH3zDXH"
      }
    },
    {
      "cell_type": "code",
      "source": [
        "top50.boxplot(column= 'Position', by='Genre',vert=False)"
      ],
      "metadata": {
        "colab": {
          "base_uri": "https://localhost:8080/",
          "height": 375
        },
        "id": "7NyNrwwBsQxH",
        "outputId": "7cfdaa5d-d338-4b27-c18b-7a7427ef5ba7"
      },
      "execution_count": 10,
      "outputs": [
        {
          "output_type": "stream",
          "name": "stderr",
          "text": [
            "/usr/local/lib/python3.7/dist-packages/matplotlib/cbook/__init__.py:1376: VisibleDeprecationWarning: Creating an ndarray from ragged nested sequences (which is a list-or-tuple of lists-or-tuples-or ndarrays with different lengths or shapes) is deprecated. If you meant to do this, you must specify 'dtype=object' when creating the ndarray.\n",
            "  X = np.atleast_1d(X.T if isinstance(X, np.ndarray) else np.asarray(X))\n"
          ]
        },
        {
          "output_type": "execute_result",
          "data": {
            "text/plain": [
              "<matplotlib.axes._subplots.AxesSubplot at 0x7fa3068e2890>"
            ]
          },
          "metadata": {},
          "execution_count": 10
        },
        {
          "output_type": "display_data",
          "data": {
            "text/plain": [
              "<Figure size 432x288 with 1 Axes>"
            ],
            "image/png": "[encoded data removed]"
          },
          "metadata": {
            "needs_background": "light"
          }
        }
      ]
    },
    {
      "cell_type": "markdown",
      "source": [
        "Ora andiamo a vedere le analogie tra genere e Beats Per Minuto:"
      ],
      "metadata": {
        "id": "ytJAVqp4uIbm"
      }
    },
    {
      "cell_type": "code",
      "source": [
        "top50.groupby('Genre')['Beats.Per.Minute'].mean().plot(kind='bar')"
      ],
      "metadata": {
        "colab": {
          "base_uri": "https://localhost:8080/",
          "height": 374
        },
        "id": "7wAVb4VSsPeQ",
        "outputId": "0d437259-4990-4308-ac42-7fb4c3dad373"
      },
      "execution_count": 11,
      "outputs": [
        {
          "output_type": "execute_result",
          "data": {
            "text/plain": [
              "<matplotlib.axes._subplots.AxesSubplot at 0x7fa3068bb4d0>"
            ]
          },
          "metadata": {},
          "execution_count": 11
        },
        {
          "output_type": "display_data",
          "data": {
            "text/plain": [
              "<Figure size 432x288 with 1 Axes>"
            ],
            "image/png": "[encoded data removed]"
          },
          "metadata": {
            "needs_background": "light"
          }
        }
      ]
    },
    {
      "cell_type": "markdown",
      "source": [
        "Si evince dal grafico soprastante che il genere con più battiti è la trap music."
      ],
      "metadata": {
        "id": "MjYFLa2ruQhz"
      }
    },
    {
      "cell_type": "markdown",
      "source": [
        "Andremo poi a studiare se e come infuisce il numero di battiti per minuto con la popolarità della canzone dato che il genere con il più alto numero di bpm è anche il genere piazzato meglio mediamente nella top50 analizzata."
      ],
      "metadata": {
        "id": "OBNsbsSdubjo"
      }
    },
    {
      "cell_type": "markdown",
      "source": [
        "Vediamo innanzitutto l'indice di correlazione di Perason del dataset che stiamo analizzando:"
      ],
      "metadata": {
        "id": "-lfNyq4yuwYP"
      }
    },
    {
      "cell_type": "code",
      "source": [
        "top50.corr()"
      ],
      "metadata": {
        "colab": {
          "base_uri": "https://localhost:8080/",
          "height": 458
        },
        "id": "CZnTHXQNuvsy",
        "outputId": "e73d0948-773c-4b63-908f-e7fbed594b67"
      },
      "execution_count": 12,
      "outputs": [
        {
          "output_type": "execute_result",
          "data": {
            "text/plain": [
              "                  Position  Beats.Per.Minute    Energy  Danceability  \\\n",
              "Position          1.000000         -0.259193  0.102649      0.122691   \n",
              "Beats.Per.Minute -0.259193          1.000000  0.043756     -0.094183   \n",
              "Energy            0.102649          0.043756  1.000000      0.018254   \n",
              "Danceability      0.122691         -0.094183  0.018254      1.000000   \n",
              "Loudness..dB..    0.011914          0.017016  0.670794      0.016255   \n",
              "Liveness          0.270659         -0.167286  0.162768     -0.149636   \n",
              "Valence.          0.137329         -0.011586  0.438820      0.172829   \n",
              "Length.          -0.065844         -0.139288  0.224677     -0.000185   \n",
              "Acousticness..   -0.015993         -0.031450 -0.339892     -0.098165   \n",
              "Speechiness.     -0.257506          0.557052 -0.089860     -0.103472   \n",
              "Popularity       -0.160680          0.196097 -0.080295     -0.071413   \n",
              "\n",
              "                  Loudness..dB..  Liveness  Valence.   Length.  \\\n",
              "Position                0.011914  0.270659  0.137329 -0.065844   \n",
              "Beats.Per.Minute        0.017016 -0.167286 -0.011586 -0.139288   \n",
              "Energy                  0.670794  0.162768  0.438820  0.224677   \n",
              "Danceability            0.016255 -0.149636  0.172829 -0.000185   \n",
              "Loudness..dB..          1.000000  0.258652  0.237614  0.219219   \n",
              "Liveness                0.258652  1.000000  0.016123  0.131782   \n",
              "Valence.                0.237614  0.016123  1.000000 -0.017782   \n",
              "Length.                 0.219219  0.131782 -0.017782  1.000000   \n",
              "Acousticness..         -0.138300  0.021328 -0.052323 -0.076293   \n",
              "Speechiness.           -0.272213 -0.125286 -0.053242  0.046755   \n",
              "Popularity             -0.043085  0.092564 -0.317752 -0.087639   \n",
              "\n",
              "                  Acousticness..  Speechiness.  Popularity  \n",
              "Position               -0.015993     -0.257506   -0.160680  \n",
              "Beats.Per.Minute       -0.031450      0.557052    0.196097  \n",
              "Energy                 -0.339892     -0.089860   -0.080295  \n",
              "Danceability           -0.098165     -0.103472   -0.071413  \n",
              "Loudness..dB..         -0.138300     -0.272213   -0.043085  \n",
              "Liveness                0.021328     -0.125286    0.092564  \n",
              "Valence.               -0.052323     -0.053242   -0.317752  \n",
              "Length.                -0.076293      0.046755   -0.087639  \n",
              "Acousticness..          1.000000      0.008293   -0.034684  \n",
              "Speechiness.            0.008293      1.000000    0.238553  \n",
              "Popularity             -0.034684      0.238553    1.000000  "
            ],
            "text/html": [
              "\n",
              "  <div id=\"df-b20f5165-c346-4f5f-b0cf-8371c7d00d7d\">\n",
              "    <div class=\"colab-df-container\">\n",
              "      <div>\n",
              "<style scoped>\n",
              "    .dataframe tbody tr th:only-of-type {\n",
              "        vertical-align: middle;\n",
              "    }\n",
              "\n",
              "    .dataframe tbody tr th {\n",
              "        vertical-align: top;\n",
              "    }\n",
              "\n",
              "    .dataframe thead th {\n",
              "        text-align: right;\n",
              "    }\n",
              "</style>\n",
              "<table border=\"1\" class=\"dataframe\">\n",
              "  <thead>\n",
              "    <tr style=\"text-align: right;\">\n",
              "      <th></th>\n",
              "      <th>Position</th>\n",
              "      <th>Beats.Per.Minute</th>\n",
              "      <th>Energy</th>\n",
              "      <th>Danceability</th>\n",
              "      <th>Loudness..dB..</th>\n",
              "      <th>Liveness</th>\n",
              "      <th>Valence.</th>\n",
              "      <th>Length.</th>\n",
              "      <th>Acousticness..</th>\n",
              "      <th>Speechiness.</th>\n",
              "      <th>Popularity</th>\n",
              "    </tr>\n",
              "  </thead>\n",
              "  <tbody>\n",
              "    <tr>\n",
              "      <th>Position</th>\n",
              "      <td>1.000000</td>\n",
              "      <td>-0.259193</td>\n",
              "      <td>0.102649</td>\n",
              "      <td>0.122691</td>\n",
              "      <td>0.011914</td>\n",
              "      <td>0.270659</td>\n",
              "      <td>0.137329</td>\n",
              "      <td>-0.065844</td>\n",
              "      <td>-0.015993</td>\n",
              "      <td>-0.257506</td>\n",
              "      <td>-0.160680</td>\n",
              "    </tr>\n",
              "    <tr>\n",
              "      <th>Beats.Per.Minute</th>\n",
              "      <td>-0.259193</td>\n",
              "      <td>1.000000</td>\n",
              "      <td>0.043756</td>\n",
              "      <td>-0.094183</td>\n",
              "      <td>0.017016</td>\n",
              "      <td>-0.167286</td>\n",
              "      <td>-0.011586</td>\n",
              "      <td>-0.139288</td>\n",
              "      <td>-0.031450</td>\n",
              "      <td>0.557052</td>\n",
              "      <td>0.196097</td>\n",
              "    </tr>\n",
              "    <tr>\n",
              "      <th>Energy</th>\n",
              "      <td>0.102649</td>\n",
              "      <td>0.043756</td>\n",
              "      <td>1.000000</td>\n",
              "      <td>0.018254</td>\n",
              "      <td>0.670794</td>\n",
              "      <td>0.162768</td>\n",
              "      <td>0.438820</td>\n",
              "      <td>0.224677</td>\n",
              "      <td>-0.339892</td>\n",
              "      <td>-0.089860</td>\n",
              "      <td>-0.080295</td>\n",
              "    </tr>\n",
              "    <tr>\n",
              "      <th>Danceability</th>\n",
              "      <td>0.122691</td>\n",
              "      <td>-0.094183</td>\n",
              "      <td>0.018254</td>\n",
              "      <td>1.000000</td>\n",
              "      <td>0.016255</td>\n",
              "      <td>-0.149636</td>\n",
              "      <td>0.172829</td>\n",
              "      <td>-0.000185</td>\n",
              "      <td>-0.098165</td>\n",
              "      <td>-0.103472</td>\n",
              "      <td>-0.071413</td>\n",
              "    </tr>\n",
              "    <tr>\n",
              "      <th>Loudness..dB..</th>\n",
              "      <td>0.011914</td>\n",
              "      <td>0.017016</td>\n",
              "      <td>0.670794</td>\n",
              "      <td>0.016255</td>\n",
              "      <td>1.000000</td>\n",
              "      <td>0.258652</td>\n",
              "      <td>0.237614</td>\n",
              "      <td>0.219219</td>\n",
              "      <td>-0.138300</td>\n",
              "      <td>-0.272213</td>\n",
              "      <td>-0.043085</td>\n",
              "    </tr>\n",
              "    <tr>\n",
              "      <th>Liveness</th>\n",
              "      <td>0.270659</td>\n",
              "      <td>-0.167286</td>\n",
              "      <td>0.162768</td>\n",
              "      <td>-0.149636</td>\n",
              "      <td>0.258652</td>\n",
              "      <td>1.000000</td>\n",
              "      <td>0.016123</td>\n",
              "      <td>0.131782</td>\n",
              "      <td>0.021328</td>\n",
              "      <td>-0.125286</td>\n",
              "      <td>0.092564</td>\n",
              "    </tr>\n",
              "    <tr>\n",
              "      <th>Valence.</th>\n",
              "      <td>0.137329</td>\n",
              "      <td>-0.011586</td>\n",
              "      <td>0.438820</td>\n",
              "      <td>0.172829</td>\n",
              "      <td>0.237614</td>\n",
              "      <td>0.016123</td>\n",
              "      <td>1.000000</td>\n",
              "      <td>-0.017782</td>\n",
              "      <td>-0.052323</td>\n",
              "      <td>-0.053242</td>\n",
              "      <td>-0.317752</td>\n",
              "    </tr>\n",
              "    <tr>\n",
              "      <th>Length.</th>\n",
              "      <td>-0.065844</td>\n",
              "      <td>-0.139288</td>\n",
              "      <td>0.224677</td>\n",
              "      <td>-0.000185</td>\n",
              "      <td>0.219219</td>\n",
              "      <td>0.131782</td>\n",
              "      <td>-0.017782</td>\n",
              "      <td>1.000000</td>\n",
              "      <td>-0.076293</td>\n",
              "      <td>0.046755</td>\n",
              "      <td>-0.087639</td>\n",
              "    </tr>\n",
              "    <tr>\n",
              "      <th>Acousticness..</th>\n",
              "      <td>-0.015993</td>\n",
              "      <td>-0.031450</td>\n",
              "      <td>-0.339892</td>\n",
              "      <td>-0.098165</td>\n",
              "      <td>-0.138300</td>\n",
              "      <td>0.021328</td>\n",
              "      <td>-0.052323</td>\n",
              "      <td>-0.076293</td>\n",
              "      <td>1.000000</td>\n",
              "      <td>0.008293</td>\n",
              "      <td>-0.034684</td>\n",
              "    </tr>\n",
              "    <tr>\n",
              "      <th>Speechiness.</th>\n",
              "      <td>-0.257506</td>\n",
              "      <td>0.557052</td>\n",
              "      <td>-0.089860</td>\n",
              "      <td>-0.103472</td>\n",
              "      <td>-0.272213</td>\n",
              "      <td>-0.125286</td>\n",
              "      <td>-0.053242</td>\n",
              "      <td>0.046755</td>\n",
              "      <td>0.008293</td>\n",
              "      <td>1.000000</td>\n",
              "      <td>0.238553</td>\n",
              "    </tr>\n",
              "    <tr>\n",
              "      <th>Popularity</th>\n",
              "      <td>-0.160680</td>\n",
              "      <td>0.196097</td>\n",
              "      <td>-0.080295</td>\n",
              "      <td>-0.071413</td>\n",
              "      <td>-0.043085</td>\n",
              "      <td>0.092564</td>\n",
              "      <td>-0.317752</td>\n",
              "      <td>-0.087639</td>\n",
              "      <td>-0.034684</td>\n",
              "      <td>0.238553</td>\n",
              "      <td>1.000000</td>\n",
              "    </tr>\n",
              "  </tbody>\n",
              "</table>\n",
              "</div>\n",
              "      <button class=\"colab-df-convert\" onclick=\"convertToInteractive('df-b20f5165-c346-4f5f-b0cf-8371c7d00d7d')\"\n",
              "              title=\"Convert this dataframe to an interactive table.\"\n",
              "              style=\"display:none;\">\n",
              "        \n",
              "  <svg xmlns=\"http://www.w3.org/2000/svg\" height=\"24px\"viewBox=\"0 0 24 24\"\n",
              "       width=\"24px\">\n",
              "    <path d=\"M0 0h24v24H0V0z\" fill=\"none\"/>\n",
              "    <path d=\"M18.56 5.44l.94 2.06.94-2.06 2.06-.94-2.06-.94-.94-2.06-.94 2.06-2.06.94zm-11 1L8.5 8.5l.94-2.06 2.06-.94-2.06-.94L8.5 2.5l-.94 2.06-2.06.94zm10 10l.94 2.06.94-2.06 2.06-.94-2.06-.94-.94-2.06-.94 2.06-2.06.94z\"/><path d=\"M17.41 7.96l-1.37-1.37c-.4-.4-.92-.59-1.43-.59-.52 0-1.04.2-1.43.59L10.3 9.45l-7.72 7.72c-.78.78-.78 2.05 0 2.83L4 21.41c.39.39.9.59 1.41.59.51 0 1.02-.2 1.41-.59l7.78-7.78 2.81-2.81c.8-.78.8-2.07 0-2.86zM5.41 20L4 18.59l7.72-7.72 1.47 1.35L5.41 20z\"/>\n",
              "  </svg>\n",
              "      </button>\n",
              "      \n",
              "  <style>\n",
              "    .colab-df-container {\n",
              "      display:flex;\n",
              "      flex-wrap:wrap;\n",
              "      gap: 12px;\n",
              "    }\n",
              "\n",
              "    .colab-df-convert {\n",
              "      background-color: #E8F0FE;\n",
              "      border: none;\n",
              "      border-radius: 50%;\n",
              "      cursor: pointer;\n",
              "      display: none;\n",
              "      fill: #1967D2;\n",
              "      height: 32px;\n",
              "      padding: 0 0 0 0;\n",
              "      width: 32px;\n",
              "    }\n",
              "\n",
              "    .colab-df-convert:hover {\n",
              "      background-color: #E2EBFA;\n",
              "      box-shadow: 0px 1px 2px rgba(60, 64, 67, 0.3), 0px 1px 3px 1px rgba(60, 64, 67, 0.15);\n",
              "      fill: #174EA6;\n",
              "    }\n",
              "\n",
              "    [theme=dark] .colab-df-convert {\n",
              "      background-color: #3B4455;\n",
              "      fill: #D2E3FC;\n",
              "    }\n",
              "\n",
              "    [theme=dark] .colab-df-convert:hover {\n",
              "      background-color: #434B5C;\n",
              "      box-shadow: 0px 1px 3px 1px rgba(0, 0, 0, 0.15);\n",
              "      filter: drop-shadow(0px 1px 2px rgba(0, 0, 0, 0.3));\n",
              "      fill: #FFFFFF;\n",
              "    }\n",
              "  </style>\n",
              "\n",
              "      <script>\n",
              "        const buttonEl =\n",
              "          document.querySelector('#df-b20f5165-c346-4f5f-b0cf-8371c7d00d7d button.colab-df-convert');\n",
              "        buttonEl.style.display =\n",
              "          google.colab.kernel.accessAllowed ? 'block' : 'none';\n",
              "\n",
              "        async function convertToInteractive(key) {\n",
              "          const element = document.querySelector('#df-b20f5165-c346-4f5f-b0cf-8371c7d00d7d');\n",
              "          const dataTable =\n",
              "            await google.colab.kernel.invokeFunction('convertToInteractive',\n",
              "                                                     [key], {});\n",
              "          if (!dataTable) return;\n",
              "\n",
              "          const docLinkHtml = 'Like what you see? Visit the ' +\n",
              "            '<a target=\"_blank\" href=https://colab.research.google.com/notebooks/data_table.ipynb>data table notebook</a>'\n",
              "            + ' to learn more about interactive tables.';\n",
              "          element.innerHTML = '';\n",
              "          dataTable['output_type'] = 'display_data';\n",
              "          await google.colab.output.renderOutput(dataTable, element);\n",
              "          const docLink = document.createElement('div');\n",
              "          docLink.innerHTML = docLinkHtml;\n",
              "          element.appendChild(docLink);\n",
              "        }\n",
              "      </script>\n",
              "    </div>\n",
              "  </div>\n",
              "  "
            ]
          },
          "metadata": {},
          "execution_count": 12
        }
      ]
    },
    {
      "cell_type": "markdown",
      "source": [
        "Da questo possiamo trarre parecchie deduzioni da analizzare:\n",
        "\n",
        "\n",
        "*   La posizione in classifica sembra non essere \"affetta\" da nessun altra caratteristica/attributo. Solo la liveness arriva ad influire ma veramente poco.\n",
        "*   Un dato curioso è tra i Beats per Minute e la Specchness : 0.557052, il quale è un valore abbastanza alto di correlazione tra i due attributi/carattersitiche.\n",
        "*   L'energia di una canzone è correlata abbastanza fortemente con la sua Loudness e un po' di meno con i bpm(in questa playlist).\n",
        "*   I mood positivo della canzone è parzialmente influenzato dal numero di bpm della canzone.\n",
        "\n",
        "In sostanza comunque i dati non sembrano essere molto correlati tra di loro, o per lo meno non sembrano esserci dati \"legati\" tra loro in modo rigoroso.\n",
        "\n"
      ],
      "metadata": {
        "id": "TKvYqh8rvFtT"
      }
    },
    {
      "cell_type": "markdown",
      "source": [
        "Vediamo ora come eseguire il t-test tra due generi per confrontare:\n",
        "\n",
        "\n",
        "1.   quale dei due ha più o meno bpm medio\n",
        "2.   quale dei due ha più o meno popolarità media\n",
        "3.   quale dei due ha più o meno il posizionamento medio alto\n",
        "4.   etc...\n"
      ],
      "metadata": {
        "id": "aEKIiEo2xxKJ"
      }
    }
  ]
}