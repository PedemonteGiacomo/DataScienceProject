{
  "nbformat": 4,
  "nbformat_minor": 0,
  "metadata": {
    "colab": {
      "name": "project.ipynb",
      "provenance": [],
      "collapsed_sections": [],
      "authorship_tag": "ABX9TyOEok2O8rVi3QB4j8rCuzr9",
      "include_colab_link": true
    },
    "kernelspec": {
      "name": "python3",
      "display_name": "Python 3"
    },
    "language_info": {
      "name": "python"
    }
  },
  "cells": [
    {
      "cell_type": "markdown",
      "metadata": {
        "id": "view-in-github",
        "colab_type": "text"
      },
      "source": [
        "<a href=\"https://colab.research.google.com/github/PedemonteGiacomo/DataScienceProject/blob/main/project.ipynb\" target=\"_parent\"><img src=\"https://colab.research.google.com/assets/colab-badge.svg\" alt=\"Open In Colab\"/></a>"
      ]
    },
    {
      "cell_type": "markdown",
      "source": [
        "# ***Progetto Introduzione alla Data Science***\n",
        "\n",
        "Pedemonte Giacomo S4861715\n",
        "\n",
        "***Importazione librerie per ambiente di lavoro:***"
      ],
      "metadata": {
        "id": "juqGtb2-W5q4"
      }
    },
    {
      "cell_type": "code",
      "execution_count": 1,
      "metadata": {
        "colab": {
          "base_uri": "https://localhost:8080/"
        },
        "id": "NjTQV6iUUPlk",
        "outputId": "cf101ea6-feee-4c36-aaae-483d7553b203"
      },
      "outputs": [
        {
          "output_type": "stream",
          "name": "stdout",
          "text": [
            "Requirement already satisfied: scipy==1.7.0 in /usr/local/lib/python3.7/dist-packages (1.7.0)\n",
            "Requirement already satisfied: numpy<1.23.0,>=1.16.5 in /usr/local/lib/python3.7/dist-packages (from scipy==1.7.0) (1.21.6)\n",
            "1.7.0\n"
          ]
        }
      ],
      "source": [
        "import seaborn as sb\n",
        "from sklearn import metrics\n",
        "from sklearn.model_selection import train_test_split\n",
        "import plotly.express as px\n",
        "import pandas as pd \n",
        "import matplotlib.pyplot as plt #libreria grafica da usare dopo il calcolo dell'istogramma, grazie anche a numpy(np) \n",
        "import numpy as np\n",
        "!pip install scipy==1.7.0\n",
        "import scipy.stats as stats\n",
        "import scipy\n",
        "print (scipy.__version__)"
      ]
    },
    {
      "cell_type": "markdown",
      "source": [
        "***Analisi ed estrazione dei Dati***"
      ],
      "metadata": {
        "id": "2Ku6StYFXnyx"
      }
    },
    {
      "cell_type": "markdown",
      "source": [
        "Importazione e visualizzazione della \"testa\" del database contenente la playlist spotify: top50 del 2019\n",
        "\n",
        "\n",
        "\n"
      ],
      "metadata": {
        "id": "B9uW-x6gUgVn"
      }
    },
    {
      "cell_type": "code",
      "source": [
        "top50 = pd.read_csv('top50.csv')\n",
        "top50.head()"
      ],
      "metadata": {
        "colab": {
          "base_uri": "https://localhost:8080/",
          "height": 409
        },
        "id": "dGTNkU33U67r",
        "outputId": "c9057451-2ea7-424f-8166-1052f2bd7820"
      },
      "execution_count": 2,
      "outputs": [
        {
          "output_type": "execute_result",
          "data": {
            "text/plain": [
              "   Position                       Track.Name    Artist.Name           Genre  \\\n",
              "0         1                         Senorita   Shawn Mendes    canadian pop   \n",
              "1         2                            China       Anuel AA  reggaeton flow   \n",
              "2         3    boyfriend (with Social House)  Ariana Grande       dance pop   \n",
              "3         4  Beautiful People (feat. Khalid)     Ed Sheeran             pop   \n",
              "4         5      Goodbyes (Feat. Young Thug)    Post Malone         dfw rap   \n",
              "\n",
              "   Beats.Per.Minute  Energy  Danceability  Loudness..dB..  Liveness  Valence.  \\\n",
              "0               117      55            76              -6         8        75   \n",
              "1               105      81            79              -4         8        61   \n",
              "2               190      80            40              -4        16        70   \n",
              "3                93      65            64              -8         8        55   \n",
              "4               150      65            58              -4        11        18   \n",
              "\n",
              "   Length.  Acousticness..  Speechiness.  Popularity  \n",
              "0      191               4             3          79  \n",
              "1      302               8             9          92  \n",
              "2      186              12            46          85  \n",
              "3      198              12            19          86  \n",
              "4      175              45             7          94  "
            ],
            "text/html": [
              "\n",
              "  <div id=\"df-7097f8ca-6bb7-4c7b-9413-cbcb740cde14\">\n",
              "    <div class=\"colab-df-container\">\n",
              "      <div>\n",
              "<style scoped>\n",
              "    .dataframe tbody tr th:only-of-type {\n",
              "        vertical-align: middle;\n",
              "    }\n",
              "\n",
              "    .dataframe tbody tr th {\n",
              "        vertical-align: top;\n",
              "    }\n",
              "\n",
              "    .dataframe thead th {\n",
              "        text-align: right;\n",
              "    }\n",
              "</style>\n",
              "<table border=\"1\" class=\"dataframe\">\n",
              "  <thead>\n",
              "    <tr style=\"text-align: right;\">\n",
              "      <th></th>\n",
              "      <th>Position</th>\n",
              "      <th>Track.Name</th>\n",
              "      <th>Artist.Name</th>\n",
              "      <th>Genre</th>\n",
              "      <th>Beats.Per.Minute</th>\n",
              "      <th>Energy</th>\n",
              "      <th>Danceability</th>\n",
              "      <th>Loudness..dB..</th>\n",
              "      <th>Liveness</th>\n",
              "      <th>Valence.</th>\n",
              "      <th>Length.</th>\n",
              "      <th>Acousticness..</th>\n",
              "      <th>Speechiness.</th>\n",
              "      <th>Popularity</th>\n",
              "    </tr>\n",
              "  </thead>\n",
              "  <tbody>\n",
              "    <tr>\n",
              "      <th>0</th>\n",
              "      <td>1</td>\n",
              "      <td>Senorita</td>\n",
              "      <td>Shawn Mendes</td>\n",
              "      <td>canadian pop</td>\n",
              "      <td>117</td>\n",
              "      <td>55</td>\n",
              "      <td>76</td>\n",
              "      <td>-6</td>\n",
              "      <td>8</td>\n",
              "      <td>75</td>\n",
              "      <td>191</td>\n",
              "      <td>4</td>\n",
              "      <td>3</td>\n",
              "      <td>79</td>\n",
              "    </tr>\n",
              "    <tr>\n",
              "      <th>1</th>\n",
              "      <td>2</td>\n",
              "      <td>China</td>\n",
              "      <td>Anuel AA</td>\n",
              "      <td>reggaeton flow</td>\n",
              "      <td>105</td>\n",
              "      <td>81</td>\n",
              "      <td>79</td>\n",
              "      <td>-4</td>\n",
              "      <td>8</td>\n",
              "      <td>61</td>\n",
              "      <td>302</td>\n",
              "      <td>8</td>\n",
              "      <td>9</td>\n",
              "      <td>92</td>\n",
              "    </tr>\n",
              "    <tr>\n",
              "      <th>2</th>\n",
              "      <td>3</td>\n",
              "      <td>boyfriend (with Social House)</td>\n",
              "      <td>Ariana Grande</td>\n",
              "      <td>dance pop</td>\n",
              "      <td>190</td>\n",
              "      <td>80</td>\n",
              "      <td>40</td>\n",
              "      <td>-4</td>\n",
              "      <td>16</td>\n",
              "      <td>70</td>\n",
              "      <td>186</td>\n",
              "      <td>12</td>\n",
              "      <td>46</td>\n",
              "      <td>85</td>\n",
              "    </tr>\n",
              "    <tr>\n",
              "      <th>3</th>\n",
              "      <td>4</td>\n",
              "      <td>Beautiful People (feat. Khalid)</td>\n",
              "      <td>Ed Sheeran</td>\n",
              "      <td>pop</td>\n",
              "      <td>93</td>\n",
              "      <td>65</td>\n",
              "      <td>64</td>\n",
              "      <td>-8</td>\n",
              "      <td>8</td>\n",
              "      <td>55</td>\n",
              "      <td>198</td>\n",
              "      <td>12</td>\n",
              "      <td>19</td>\n",
              "      <td>86</td>\n",
              "    </tr>\n",
              "    <tr>\n",
              "      <th>4</th>\n",
              "      <td>5</td>\n",
              "      <td>Goodbyes (Feat. Young Thug)</td>\n",
              "      <td>Post Malone</td>\n",
              "      <td>dfw rap</td>\n",
              "      <td>150</td>\n",
              "      <td>65</td>\n",
              "      <td>58</td>\n",
              "      <td>-4</td>\n",
              "      <td>11</td>\n",
              "      <td>18</td>\n",
              "      <td>175</td>\n",
              "      <td>45</td>\n",
              "      <td>7</td>\n",
              "      <td>94</td>\n",
              "    </tr>\n",
              "  </tbody>\n",
              "</table>\n",
              "</div>\n",
              "      <button class=\"colab-df-convert\" onclick=\"convertToInteractive('df-7097f8ca-6bb7-4c7b-9413-cbcb740cde14')\"\n",
              "              title=\"Convert this dataframe to an interactive table.\"\n",
              "              style=\"display:none;\">\n",
              "        \n",
              "  <svg xmlns=\"http://www.w3.org/2000/svg\" height=\"24px\"viewBox=\"0 0 24 24\"\n",
              "       width=\"24px\">\n",
              "    <path d=\"M0 0h24v24H0V0z\" fill=\"none\"/>\n",
              "    <path d=\"M18.56 5.44l.94 2.06.94-2.06 2.06-.94-2.06-.94-.94-2.06-.94 2.06-2.06.94zm-11 1L8.5 8.5l.94-2.06 2.06-.94-2.06-.94L8.5 2.5l-.94 2.06-2.06.94zm10 10l.94 2.06.94-2.06 2.06-.94-2.06-.94-.94-2.06-.94 2.06-2.06.94z\"/><path d=\"M17.41 7.96l-1.37-1.37c-.4-.4-.92-.59-1.43-.59-.52 0-1.04.2-1.43.59L10.3 9.45l-7.72 7.72c-.78.78-.78 2.05 0 2.83L4 21.41c.39.39.9.59 1.41.59.51 0 1.02-.2 1.41-.59l7.78-7.78 2.81-2.81c.8-.78.8-2.07 0-2.86zM5.41 20L4 18.59l7.72-7.72 1.47 1.35L5.41 20z\"/>\n",
              "  </svg>\n",
              "      </button>\n",
              "      \n",
              "  <style>\n",
              "    .colab-df-container {\n",
              "      display:flex;\n",
              "      flex-wrap:wrap;\n",
              "      gap: 12px;\n",
              "    }\n",
              "\n",
              "    .colab-df-convert {\n",
              "      background-color: #E8F0FE;\n",
              "      border: none;\n",
              "      border-radius: 50%;\n",
              "      cursor: pointer;\n",
              "      display: none;\n",
              "      fill: #1967D2;\n",
              "      height: 32px;\n",
              "      padding: 0 0 0 0;\n",
              "      width: 32px;\n",
              "    }\n",
              "\n",
              "    .colab-df-convert:hover {\n",
              "      background-color: #E2EBFA;\n",
              "      box-shadow: 0px 1px 2px rgba(60, 64, 67, 0.3), 0px 1px 3px 1px rgba(60, 64, 67, 0.15);\n",
              "      fill: #174EA6;\n",
              "    }\n",
              "\n",
              "    [theme=dark] .colab-df-convert {\n",
              "      background-color: #3B4455;\n",
              "      fill: #D2E3FC;\n",
              "    }\n",
              "\n",
              "    [theme=dark] .colab-df-convert:hover {\n",
              "      background-color: #434B5C;\n",
              "      box-shadow: 0px 1px 3px 1px rgba(0, 0, 0, 0.15);\n",
              "      filter: drop-shadow(0px 1px 2px rgba(0, 0, 0, 0.3));\n",
              "      fill: #FFFFFF;\n",
              "    }\n",
              "  </style>\n",
              "\n",
              "      <script>\n",
              "        const buttonEl =\n",
              "          document.querySelector('#df-7097f8ca-6bb7-4c7b-9413-cbcb740cde14 button.colab-df-convert');\n",
              "        buttonEl.style.display =\n",
              "          google.colab.kernel.accessAllowed ? 'block' : 'none';\n",
              "\n",
              "        async function convertToInteractive(key) {\n",
              "          const element = document.querySelector('#df-7097f8ca-6bb7-4c7b-9413-cbcb740cde14');\n",
              "          const dataTable =\n",
              "            await google.colab.kernel.invokeFunction('convertToInteractive',\n",
              "                                                     [key], {});\n",
              "          if (!dataTable) return;\n",
              "\n",
              "          const docLinkHtml = 'Like what you see? Visit the ' +\n",
              "            '<a target=\"_blank\" href=https://colab.research.google.com/notebooks/data_table.ipynb>data table notebook</a>'\n",
              "            + ' to learn more about interactive tables.';\n",
              "          element.innerHTML = '';\n",
              "          dataTable['output_type'] = 'display_data';\n",
              "          await google.colab.output.renderOutput(dataTable, element);\n",
              "          const docLink = document.createElement('div');\n",
              "          docLink.innerHTML = docLinkHtml;\n",
              "          element.appendChild(docLink);\n",
              "        }\n",
              "      </script>\n",
              "    </div>\n",
              "  </div>\n",
              "  "
            ]
          },
          "metadata": {},
          "execution_count": 2
        }
      ]
    },
    {
      "cell_type": "code",
      "source": [
        "top50.shape"
      ],
      "metadata": {
        "colab": {
          "base_uri": "https://localhost:8080/"
        },
        "id": "zjXjQdLgZOsl",
        "outputId": "3a5fc34f-28f0-489c-9d87-cf9f0b12f348"
      },
      "execution_count": 3,
      "outputs": [
        {
          "output_type": "execute_result",
          "data": {
            "text/plain": [
              "(50, 14)"
            ]
          },
          "metadata": {},
          "execution_count": 3
        }
      ]
    },
    {
      "cell_type": "code",
      "source": [
        "top50.describe()"
      ],
      "metadata": {
        "colab": {
          "base_uri": "https://localhost:8080/",
          "height": 300
        },
        "id": "XN0Yu60aZPo8",
        "outputId": "fd3f8b2e-243c-4905-af0c-014ae7fa2002"
      },
      "execution_count": 4,
      "outputs": [
        {
          "output_type": "execute_result",
          "data": {
            "text/plain": [
              "       Position  Beats.Per.Minute     Energy  Danceability  Loudness..dB..  \\\n",
              "count  50.00000         50.000000  50.000000      50.00000       50.000000   \n",
              "mean   25.50000        120.060000  64.060000      71.38000       -5.660000   \n",
              "std    14.57738         30.898392  14.231913      11.92988        2.056448   \n",
              "min     1.00000         85.000000  32.000000      29.00000      -11.000000   \n",
              "25%    13.25000         96.000000  55.250000      67.00000       -6.750000   \n",
              "50%    25.50000        104.500000  66.500000      73.50000       -6.000000   \n",
              "75%    37.75000        137.500000  74.750000      79.75000       -4.000000   \n",
              "max    50.00000        190.000000  88.000000      90.00000       -2.000000   \n",
              "\n",
              "        Liveness   Valence.     Length.  Acousticness..  Speechiness.  \\\n",
              "count  50.000000  50.000000   50.000000       50.000000     50.000000   \n",
              "mean   14.660000  54.600000  200.960000       22.160000     12.480000   \n",
              "std    11.118306  22.336024   39.143879       18.995553     11.161596   \n",
              "min     5.000000  10.000000  115.000000        1.000000      3.000000   \n",
              "25%     8.000000  38.250000  176.750000        8.250000      5.000000   \n",
              "50%    11.000000  55.500000  198.000000       15.000000      7.000000   \n",
              "75%    15.750000  69.500000  217.500000       33.750000     15.000000   \n",
              "max    58.000000  95.000000  309.000000       75.000000     46.000000   \n",
              "\n",
              "       Popularity  \n",
              "count   50.000000  \n",
              "mean    87.500000  \n",
              "std      4.491489  \n",
              "min     70.000000  \n",
              "25%     86.000000  \n",
              "50%     88.000000  \n",
              "75%     90.750000  \n",
              "max     95.000000  "
            ],
            "text/html": [
              "\n",
              "  <div id=\"df-d667c06a-23b8-44d5-a557-f4f5e28910d3\">\n",
              "    <div class=\"colab-df-container\">\n",
              "      <div>\n",
              "<style scoped>\n",
              "    .dataframe tbody tr th:only-of-type {\n",
              "        vertical-align: middle;\n",
              "    }\n",
              "\n",
              "    .dataframe tbody tr th {\n",
              "        vertical-align: top;\n",
              "    }\n",
              "\n",
              "    .dataframe thead th {\n",
              "        text-align: right;\n",
              "    }\n",
              "</style>\n",
              "<table border=\"1\" class=\"dataframe\">\n",
              "  <thead>\n",
              "    <tr style=\"text-align: right;\">\n",
              "      <th></th>\n",
              "      <th>Position</th>\n",
              "      <th>Beats.Per.Minute</th>\n",
              "      <th>Energy</th>\n",
              "      <th>Danceability</th>\n",
              "      <th>Loudness..dB..</th>\n",
              "      <th>Liveness</th>\n",
              "      <th>Valence.</th>\n",
              "      <th>Length.</th>\n",
              "      <th>Acousticness..</th>\n",
              "      <th>Speechiness.</th>\n",
              "      <th>Popularity</th>\n",
              "    </tr>\n",
              "  </thead>\n",
              "  <tbody>\n",
              "    <tr>\n",
              "      <th>count</th>\n",
              "      <td>50.00000</td>\n",
              "      <td>50.000000</td>\n",
              "      <td>50.000000</td>\n",
              "      <td>50.00000</td>\n",
              "      <td>50.000000</td>\n",
              "      <td>50.000000</td>\n",
              "      <td>50.000000</td>\n",
              "      <td>50.000000</td>\n",
              "      <td>50.000000</td>\n",
              "      <td>50.000000</td>\n",
              "      <td>50.000000</td>\n",
              "    </tr>\n",
              "    <tr>\n",
              "      <th>mean</th>\n",
              "      <td>25.50000</td>\n",
              "      <td>120.060000</td>\n",
              "      <td>64.060000</td>\n",
              "      <td>71.38000</td>\n",
              "      <td>-5.660000</td>\n",
              "      <td>14.660000</td>\n",
              "      <td>54.600000</td>\n",
              "      <td>200.960000</td>\n",
              "      <td>22.160000</td>\n",
              "      <td>12.480000</td>\n",
              "      <td>87.500000</td>\n",
              "    </tr>\n",
              "    <tr>\n",
              "      <th>std</th>\n",
              "      <td>14.57738</td>\n",
              "      <td>30.898392</td>\n",
              "      <td>14.231913</td>\n",
              "      <td>11.92988</td>\n",
              "      <td>2.056448</td>\n",
              "      <td>11.118306</td>\n",
              "      <td>22.336024</td>\n",
              "      <td>39.143879</td>\n",
              "      <td>18.995553</td>\n",
              "      <td>11.161596</td>\n",
              "      <td>4.491489</td>\n",
              "    </tr>\n",
              "    <tr>\n",
              "      <th>min</th>\n",
              "      <td>1.00000</td>\n",
              "      <td>85.000000</td>\n",
              "      <td>32.000000</td>\n",
              "      <td>29.00000</td>\n",
              "      <td>-11.000000</td>\n",
              "      <td>5.000000</td>\n",
              "      <td>10.000000</td>\n",
              "      <td>115.000000</td>\n",
              "      <td>1.000000</td>\n",
              "      <td>3.000000</td>\n",
              "      <td>70.000000</td>\n",
              "    </tr>\n",
              "    <tr>\n",
              "      <th>25%</th>\n",
              "      <td>13.25000</td>\n",
              "      <td>96.000000</td>\n",
              "      <td>55.250000</td>\n",
              "      <td>67.00000</td>\n",
              "      <td>-6.750000</td>\n",
              "      <td>8.000000</td>\n",
              "      <td>38.250000</td>\n",
              "      <td>176.750000</td>\n",
              "      <td>8.250000</td>\n",
              "      <td>5.000000</td>\n",
              "      <td>86.000000</td>\n",
              "    </tr>\n",
              "    <tr>\n",
              "      <th>50%</th>\n",
              "      <td>25.50000</td>\n",
              "      <td>104.500000</td>\n",
              "      <td>66.500000</td>\n",
              "      <td>73.50000</td>\n",
              "      <td>-6.000000</td>\n",
              "      <td>11.000000</td>\n",
              "      <td>55.500000</td>\n",
              "      <td>198.000000</td>\n",
              "      <td>15.000000</td>\n",
              "      <td>7.000000</td>\n",
              "      <td>88.000000</td>\n",
              "    </tr>\n",
              "    <tr>\n",
              "      <th>75%</th>\n",
              "      <td>37.75000</td>\n",
              "      <td>137.500000</td>\n",
              "      <td>74.750000</td>\n",
              "      <td>79.75000</td>\n",
              "      <td>-4.000000</td>\n",
              "      <td>15.750000</td>\n",
              "      <td>69.500000</td>\n",
              "      <td>217.500000</td>\n",
              "      <td>33.750000</td>\n",
              "      <td>15.000000</td>\n",
              "      <td>90.750000</td>\n",
              "    </tr>\n",
              "    <tr>\n",
              "      <th>max</th>\n",
              "      <td>50.00000</td>\n",
              "      <td>190.000000</td>\n",
              "      <td>88.000000</td>\n",
              "      <td>90.00000</td>\n",
              "      <td>-2.000000</td>\n",
              "      <td>58.000000</td>\n",
              "      <td>95.000000</td>\n",
              "      <td>309.000000</td>\n",
              "      <td>75.000000</td>\n",
              "      <td>46.000000</td>\n",
              "      <td>95.000000</td>\n",
              "    </tr>\n",
              "  </tbody>\n",
              "</table>\n",
              "</div>\n",
              "      <button class=\"colab-df-convert\" onclick=\"convertToInteractive('df-d667c06a-23b8-44d5-a557-f4f5e28910d3')\"\n",
              "              title=\"Convert this dataframe to an interactive table.\"\n",
              "              style=\"display:none;\">\n",
              "        \n",
              "  <svg xmlns=\"http://www.w3.org/2000/svg\" height=\"24px\"viewBox=\"0 0 24 24\"\n",
              "       width=\"24px\">\n",
              "    <path d=\"M0 0h24v24H0V0z\" fill=\"none\"/>\n",
              "    <path d=\"M18.56 5.44l.94 2.06.94-2.06 2.06-.94-2.06-.94-.94-2.06-.94 2.06-2.06.94zm-11 1L8.5 8.5l.94-2.06 2.06-.94-2.06-.94L8.5 2.5l-.94 2.06-2.06.94zm10 10l.94 2.06.94-2.06 2.06-.94-2.06-.94-.94-2.06-.94 2.06-2.06.94z\"/><path d=\"M17.41 7.96l-1.37-1.37c-.4-.4-.92-.59-1.43-.59-.52 0-1.04.2-1.43.59L10.3 9.45l-7.72 7.72c-.78.78-.78 2.05 0 2.83L4 21.41c.39.39.9.59 1.41.59.51 0 1.02-.2 1.41-.59l7.78-7.78 2.81-2.81c.8-.78.8-2.07 0-2.86zM5.41 20L4 18.59l7.72-7.72 1.47 1.35L5.41 20z\"/>\n",
              "  </svg>\n",
              "      </button>\n",
              "      \n",
              "  <style>\n",
              "    .colab-df-container {\n",
              "      display:flex;\n",
              "      flex-wrap:wrap;\n",
              "      gap: 12px;\n",
              "    }\n",
              "\n",
              "    .colab-df-convert {\n",
              "      background-color: #E8F0FE;\n",
              "      border: none;\n",
              "      border-radius: 50%;\n",
              "      cursor: pointer;\n",
              "      display: none;\n",
              "      fill: #1967D2;\n",
              "      height: 32px;\n",
              "      padding: 0 0 0 0;\n",
              "      width: 32px;\n",
              "    }\n",
              "\n",
              "    .colab-df-convert:hover {\n",
              "      background-color: #E2EBFA;\n",
              "      box-shadow: 0px 1px 2px rgba(60, 64, 67, 0.3), 0px 1px 3px 1px rgba(60, 64, 67, 0.15);\n",
              "      fill: #174EA6;\n",
              "    }\n",
              "\n",
              "    [theme=dark] .colab-df-convert {\n",
              "      background-color: #3B4455;\n",
              "      fill: #D2E3FC;\n",
              "    }\n",
              "\n",
              "    [theme=dark] .colab-df-convert:hover {\n",
              "      background-color: #434B5C;\n",
              "      box-shadow: 0px 1px 3px 1px rgba(0, 0, 0, 0.15);\n",
              "      filter: drop-shadow(0px 1px 2px rgba(0, 0, 0, 0.3));\n",
              "      fill: #FFFFFF;\n",
              "    }\n",
              "  </style>\n",
              "\n",
              "      <script>\n",
              "        const buttonEl =\n",
              "          document.querySelector('#df-d667c06a-23b8-44d5-a557-f4f5e28910d3 button.colab-df-convert');\n",
              "        buttonEl.style.display =\n",
              "          google.colab.kernel.accessAllowed ? 'block' : 'none';\n",
              "\n",
              "        async function convertToInteractive(key) {\n",
              "          const element = document.querySelector('#df-d667c06a-23b8-44d5-a557-f4f5e28910d3');\n",
              "          const dataTable =\n",
              "            await google.colab.kernel.invokeFunction('convertToInteractive',\n",
              "                                                     [key], {});\n",
              "          if (!dataTable) return;\n",
              "\n",
              "          const docLinkHtml = 'Like what you see? Visit the ' +\n",
              "            '<a target=\"_blank\" href=https://colab.research.google.com/notebooks/data_table.ipynb>data table notebook</a>'\n",
              "            + ' to learn more about interactive tables.';\n",
              "          element.innerHTML = '';\n",
              "          dataTable['output_type'] = 'display_data';\n",
              "          await google.colab.output.renderOutput(dataTable, element);\n",
              "          const docLink = document.createElement('div');\n",
              "          docLink.innerHTML = docLinkHtml;\n",
              "          element.appendChild(docLink);\n",
              "        }\n",
              "      </script>\n",
              "    </div>\n",
              "  </div>\n",
              "  "
            ]
          },
          "metadata": {},
          "execution_count": 4
        }
      ]
    },
    {
      "cell_type": "markdown",
      "source": [
        "Andiamo a vedere ora quante canzoni ci sono per genere in questa top50 andando a visualizzare il tutto con un istogramma:"
      ],
      "metadata": {
        "id": "uIbjGvevaa9b"
      }
    },
    {
      "cell_type": "code",
      "source": [
        "num_genre = top50['Genre'].value_counts()\n",
        "num_genre.plot(kind = 'bar',title = 'Numero Canzoni x Genere', fontsize = 10, figsize = (15,5))"
      ],
      "metadata": {
        "colab": {
          "base_uri": "https://localhost:8080/",
          "height": 430
        },
        "id": "NDYXpEmlah8l",
        "outputId": "cf49f1a6-9703-439f-9afa-f9212bda93d1"
      },
      "execution_count": 5,
      "outputs": [
        {
          "output_type": "execute_result",
          "data": {
            "text/plain": [
              "<matplotlib.axes._subplots.AxesSubplot at 0x7f5bf12559d0>"
            ]
          },
          "metadata": {},
          "execution_count": 5
        },
        {
          "output_type": "display_data",
          "data": {
            "text/plain": [
              "<Figure size 1080x360 with 1 Axes>"
            ],
            "image/png": "[encoded data removed]"
          },
          "metadata": {
            "needs_background": "light"
          }
        }
      ]
    },
    {
      "cell_type": "markdown",
      "source": [
        "Vediamo quante canzoni diverse ci sono per ogni artista presente nella playlist:"
      ],
      "metadata": {
        "id": "Ht4QPkIZab1-"
      }
    },
    {
      "cell_type": "code",
      "source": [
        "num_artist_name = top50['Artist.Name'].value_counts()\n",
        "num_artist_name.plot(kind = 'bar',title = 'Numero Canzoni x Artista', fontsize = 10, figsize = (15,5))"
      ],
      "metadata": {
        "colab": {
          "base_uri": "https://localhost:8080/",
          "height": 436
        },
        "id": "Go5AwNZ4abZI",
        "outputId": "3c195a16-8007-4c6b-c71d-2ad1c9fa16ba"
      },
      "execution_count": 6,
      "outputs": [
        {
          "output_type": "execute_result",
          "data": {
            "text/plain": [
              "<matplotlib.axes._subplots.AxesSubplot at 0x7f5bf0c65e90>"
            ]
          },
          "metadata": {},
          "execution_count": 6
        },
        {
          "output_type": "display_data",
          "data": {
            "text/plain": [
              "<Figure size 1080x360 with 1 Axes>"
            ],
            "image/png": "[encoded data removed]"
          },
          "metadata": {
            "needs_background": "light"
          }
        }
      ]
    },
    {
      "cell_type": "markdown",
      "source": [
        "Vediamo subito in questo modo che il genere più presente nella top50 del 2019 era il dance pop.\n",
        "Ci possiamo anche però porre se fosse il più popolare e quindi dobbiamo vedere un istrogramma della popolarità delle canzoni raggruppandole per genere:"
      ],
      "metadata": {
        "id": "_LSRPZU1bF6d"
      }
    },
    {
      "cell_type": "code",
      "source": [
        "top50.groupby('Genre')['Popularity'].mean().sort_values(ascending = False).plot(kind='bar',title = 'Popolarità Media x Genere', fontsize = 10, figsize = (15,5))"
      ],
      "metadata": {
        "colab": {
          "base_uri": "https://localhost:8080/",
          "height": 444
        },
        "id": "jZPujm0ibYnW",
        "outputId": "83e9daa4-75ec-4773-8dfc-434da23e3b85"
      },
      "execution_count": 7,
      "outputs": [
        {
          "output_type": "execute_result",
          "data": {
            "text/plain": [
              "<matplotlib.axes._subplots.AxesSubplot at 0x7f5bf0b93f90>"
            ]
          },
          "metadata": {},
          "execution_count": 7
        },
        {
          "output_type": "display_data",
          "data": {
            "text/plain": [
              "<Figure size 1080x360 with 1 Axes>"
            ],
            "image/png": "[encoded data removed]"
          },
          "metadata": {
            "needs_background": "light"
          }
        }
      ]
    },
    {
      "cell_type": "markdown",
      "source": [
        "Da questo grafico si evince che il dance pop, il genere che presenta più canzoni nella top50, non è quello che ha la media di popularità più alta."
      ],
      "metadata": {
        "id": "URajrPdadtiP"
      }
    },
    {
      "cell_type": "markdown",
      "source": [
        "Vediamo quindi quale genere ha la media più alta di posizionamento in questa top50:"
      ],
      "metadata": {
        "id": "Z0sqnFJqtsPQ"
      }
    },
    {
      "cell_type": "code",
      "source": [
        "top50.groupby('Genre')['Position'].mean().sort_values(ascending = False).plot(kind='bar',title = 'Media Posizionamento in Classifica x Genere', fontsize = 10, figsize = (15,5))"
      ],
      "metadata": {
        "colab": {
          "base_uri": "https://localhost:8080/",
          "height": 444
        },
        "id": "jf5Pe6STtbIB",
        "outputId": "e73e05a2-9d8a-48fd-d404-f77f8fda66aa"
      },
      "execution_count": 8,
      "outputs": [
        {
          "output_type": "execute_result",
          "data": {
            "text/plain": [
              "<matplotlib.axes._subplots.AxesSubplot at 0x7f5bf0a63690>"
            ]
          },
          "metadata": {},
          "execution_count": 8
        },
        {
          "output_type": "display_data",
          "data": {
            "text/plain": [
              "<Figure size 1080x360 with 1 Axes>"
            ],
            "image/png": "[encoded data removed]"
          },
          "metadata": {
            "needs_background": "light"
          }
        }
      ]
    },
    {
      "cell_type": "markdown",
      "source": [
        "In questo caso si vede come il genere \"messo meglio\" in classifica con una media del posizionamento è il genere: trap music"
      ],
      "metadata": {
        "id": "V9kWUs89t7Ae"
      }
    },
    {
      "cell_type": "markdown",
      "source": [
        "Ora andiamo a vedere le analogie tra genere e Beats Per Minuto:"
      ],
      "metadata": {
        "id": "ytJAVqp4uIbm"
      }
    },
    {
      "cell_type": "code",
      "source": [
        "top50.groupby('Genre')['Beats.Per.Minute'].mean().sort_values(ascending = False).plot(kind='bar',title = 'BPM x Genere', fontsize = 10, figsize = (15,5))"
      ],
      "metadata": {
        "colab": {
          "base_uri": "https://localhost:8080/",
          "height": 444
        },
        "id": "7wAVb4VSsPeQ",
        "outputId": "df281d46-c8dd-4e3f-bc0d-df8a7c24fd2a"
      },
      "execution_count": 9,
      "outputs": [
        {
          "output_type": "execute_result",
          "data": {
            "text/plain": [
              "<matplotlib.axes._subplots.AxesSubplot at 0x7f5bf09c4310>"
            ]
          },
          "metadata": {},
          "execution_count": 9
        },
        {
          "output_type": "display_data",
          "data": {
            "text/plain": [
              "<Figure size 1080x360 with 1 Axes>"
            ],
            "image/png": "[encoded data removed]"
          },
          "metadata": {
            "needs_background": "light"
          }
        }
      ]
    },
    {
      "cell_type": "markdown",
      "source": [
        "Si evince dal grafico soprastante che il genere con più battiti è la trap music.\n",
        "\n",
        "Andremo poi a studiare se e come infuisce il numero di battiti per minuto con la popolarità della canzone dato che il genere con il più alto numero di bpm è anche il genere piazzato meglio mediamente nella top50 analizzata."
      ],
      "metadata": {
        "id": "OBNsbsSdubjo"
      }
    },
    {
      "cell_type": "markdown",
      "source": [
        "Analizziamo ora qual'è il genere con il maggior numero di parole diverse utilizzate all'intero della canzone: "
      ],
      "metadata": {
        "id": "MjYFLa2ruQhz"
      }
    },
    {
      "cell_type": "code",
      "source": [
        "top50.groupby('Genre')['Speechiness.'].mean().sort_values(ascending = False).plot(kind='bar',title = 'Parole Diffrenti nella canzone x Genere', fontsize = 10, figsize = (15,5))"
      ],
      "metadata": {
        "colab": {
          "base_uri": "https://localhost:8080/",
          "height": 444
        },
        "id": "WBoYUZfFZnJD",
        "outputId": "b7c21b15-d16c-4a06-bda5-250389a35e51"
      },
      "execution_count": 10,
      "outputs": [
        {
          "output_type": "execute_result",
          "data": {
            "text/plain": [
              "<matplotlib.axes._subplots.AxesSubplot at 0x7f5bf0915810>"
            ]
          },
          "metadata": {},
          "execution_count": 10
        },
        {
          "output_type": "display_data",
          "data": {
            "text/plain": [
              "<Figure size 1080x360 with 1 Axes>"
            ],
            "image/png": "[encoded data removed]"
          },
          "metadata": {
            "needs_background": "light"
          }
        }
      ]
    },
    {
      "cell_type": "markdown",
      "source": [
        "Si vede bene come sia l'electropop il genere che presenta più parole differenti all'interno dei testi delle canzoni."
      ],
      "metadata": {
        "id": "ZZAvBT8GiFD-"
      }
    },
    {
      "cell_type": "markdown",
      "source": [
        "In questi grafici a dispersione cerchiamo di capire maggiormente se c'è un possibile legame tra gli attributi e la popolarità:"
      ],
      "metadata": {
        "id": "0wdN8fJfgg0I"
      }
    },
    {
      "cell_type": "markdown",
      "source": [
        "***BPM to Popularity***"
      ],
      "metadata": {
        "id": "SdDJWjRWg16I"
      }
    },
    {
      "cell_type": "code",
      "source": [
        "plt.scatter(top50['Beats.Per.Minute'],top50['Popularity'])"
      ],
      "metadata": {
        "colab": {
          "base_uri": "https://localhost:8080/",
          "height": 283
        },
        "id": "4yr8NcbhgYWm",
        "outputId": "41306d93-c29f-43c4-bb92-3acb3ed40a01"
      },
      "execution_count": 11,
      "outputs": [
        {
          "output_type": "execute_result",
          "data": {
            "text/plain": [
              "<matplotlib.collections.PathCollection at 0x7f5bf07a6210>"
            ]
          },
          "metadata": {},
          "execution_count": 11
        },
        {
          "output_type": "display_data",
          "data": {
            "text/plain": [
              "<Figure size 432x288 with 1 Axes>"
            ],
            "image/png": "[encoded data removed]"
          },
          "metadata": {
            "needs_background": "light"
          }
        }
      ]
    },
    {
      "cell_type": "markdown",
      "source": [
        "Si può dire che all'aumentare dei BPM non aumenta la pooplarità, però si riesce ad estrarre l'informazione che la maggior parte delle canzoni presenti nella playlist che hanno un numero di BPM tra 80 e 120 hano una popolarità abbastanza coesa, mentre più aumenta il valore di BPM e più questa coesione viene meno."
      ],
      "metadata": {
        "id": "sRNJWoxBjBb7"
      }
    },
    {
      "cell_type": "markdown",
      "source": [
        "***Position to Popularity***"
      ],
      "metadata": {
        "id": "hcuxCtgIhB4q"
      }
    },
    {
      "cell_type": "code",
      "source": [
        "plt.scatter(top50['Position'],top50['Popularity'])"
      ],
      "metadata": {
        "colab": {
          "base_uri": "https://localhost:8080/",
          "height": 283
        },
        "outputId": "786b6e6f-ea93-4453-c9d0-9af5f74c806b",
        "id": "cOn_-hPWhB4s"
      },
      "execution_count": 12,
      "outputs": [
        {
          "output_type": "execute_result",
          "data": {
            "text/plain": [
              "<matplotlib.collections.PathCollection at 0x7f5bf07958d0>"
            ]
          },
          "metadata": {},
          "execution_count": 12
        },
        {
          "output_type": "display_data",
          "data": {
            "text/plain": [
              "<Figure size 432x288 with 1 Axes>"
            ],
            "image/png": "[encoded data removed]"
          },
          "metadata": {
            "needs_background": "light"
          }
        }
      ]
    },
    {
      "cell_type": "markdown",
      "source": [
        "Si riesce ad estrapolare il dato che la canzone prima in classifica non è la più popolare! Quella più popolare si trova circa al decimo posto, un fatto curioso!"
      ],
      "metadata": {
        "id": "1v15oZ_wjgIY"
      }
    },
    {
      "cell_type": "markdown",
      "source": [
        "***Energy to Popularity***"
      ],
      "metadata": {
        "id": "S_mnIGgUhEmf"
      }
    },
    {
      "cell_type": "code",
      "source": [
        "plt.scatter(top50['Energy'],top50['Popularity'])"
      ],
      "metadata": {
        "colab": {
          "base_uri": "https://localhost:8080/",
          "height": 283
        },
        "outputId": "2a194c4e-16d1-4b34-d871-6420f4f6773f",
        "id": "6if-RKRRhEmh"
      },
      "execution_count": 13,
      "outputs": [
        {
          "output_type": "execute_result",
          "data": {
            "text/plain": [
              "<matplotlib.collections.PathCollection at 0x7f5bf0759fd0>"
            ]
          },
          "metadata": {},
          "execution_count": 13
        },
        {
          "output_type": "display_data",
          "data": {
            "text/plain": [
              "<Figure size 432x288 with 1 Axes>"
            ],
            "image/png": "[encoded data removed]"
          },
          "metadata": {
            "needs_background": "light"
          }
        }
      ]
    },
    {
      "cell_type": "markdown",
      "source": [
        "L'energia della popolarità non sembra essere molto legato alla popolarità, a praticamente qualsiasi livello di energia troviamo un valori di energia coesi."
      ],
      "metadata": {
        "id": "a2SbJBiKkOgf"
      }
    },
    {
      "cell_type": "markdown",
      "source": [
        "***Danceability to Popularity***"
      ],
      "metadata": {
        "id": "6MGo_hMxhGvM"
      }
    },
    {
      "cell_type": "code",
      "source": [
        "plt.scatter(top50['Danceability'],top50['Popularity'])"
      ],
      "metadata": {
        "colab": {
          "base_uri": "https://localhost:8080/",
          "height": 283
        },
        "outputId": "6e9bcb6d-7d0e-432a-972b-59ff06c23a39",
        "id": "jyAiryP5hGvN"
      },
      "execution_count": 14,
      "outputs": [
        {
          "output_type": "execute_result",
          "data": {
            "text/plain": [
              "<matplotlib.collections.PathCollection at 0x7f5bf0669f10>"
            ]
          },
          "metadata": {},
          "execution_count": 14
        },
        {
          "output_type": "display_data",
          "data": {
            "text/plain": [
              "<Figure size 432x288 with 1 Axes>"
            ],
            "image/png": "[encoded data removed]"
          },
          "metadata": {
            "needs_background": "light"
          }
        }
      ]
    },
    {
      "cell_type": "markdown",
      "source": [
        "Da questo grafico si può notare come nella playlist sia presente un numero predominante di canzoni con un livello di ballabilità alto, però anche la canzone con meno ballabilità ha un valore medio di popolarità, anche se la maggioranza delle canzoni con più ballabilità è più popolare come vediamo dalla densità \"di pallini\" in alto nel grafico. "
      ],
      "metadata": {
        "id": "ZYi1JytMkodD"
      }
    },
    {
      "cell_type": "markdown",
      "source": [
        "Possiamo anche vedere questo in un unico grafico e trarre le stesse conclusioni:"
      ],
      "metadata": {
        "id": "ZsXPXG11mP5E"
      }
    },
    {
      "cell_type": "code",
      "source": [
        "plt.scatter(top50['Danceability'],top50['Popularity'],color='b')\n",
        "plt.scatter(top50['Energy'],top50['Popularity'],color=\"y\")"
      ],
      "metadata": {
        "colab": {
          "base_uri": "https://localhost:8080/",
          "height": 283
        },
        "id": "ZVSMvDITmO8c",
        "outputId": "5baddb45-5bce-4421-ffd3-8d32e54ba05d"
      },
      "execution_count": 15,
      "outputs": [
        {
          "output_type": "execute_result",
          "data": {
            "text/plain": [
              "<matplotlib.collections.PathCollection at 0x7f5bf05dba50>"
            ]
          },
          "metadata": {},
          "execution_count": 15
        },
        {
          "output_type": "display_data",
          "data": {
            "text/plain": [
              "<Figure size 432x288 with 1 Axes>"
            ],
            "image/png": "[encoded data removed]"
          },
          "metadata": {
            "needs_background": "light"
          }
        }
      ]
    },
    {
      "cell_type": "markdown",
      "source": [
        "***Loudness..dB.. to Popularity***"
      ],
      "metadata": {
        "id": "wi7IdVdwhHGx"
      }
    },
    {
      "cell_type": "code",
      "source": [
        "plt.scatter(top50['Loudness..dB..'],top50['Popularity'])"
      ],
      "metadata": {
        "colab": {
          "base_uri": "https://localhost:8080/",
          "height": 283
        },
        "outputId": "ce127595-757c-4efd-b02e-d55ea6634913",
        "id": "S-Y4hAAihHGy"
      },
      "execution_count": 16,
      "outputs": [
        {
          "output_type": "execute_result",
          "data": {
            "text/plain": [
              "<matplotlib.collections.PathCollection at 0x7f5bf05ced10>"
            ]
          },
          "metadata": {},
          "execution_count": 16
        },
        {
          "output_type": "display_data",
          "data": {
            "text/plain": [
              "<Figure size 432x288 with 1 Axes>"
            ],
            "image/png": "[encoded data removed]"
          },
          "metadata": {
            "needs_background": "light"
          }
        }
      ]
    },
    {
      "cell_type": "markdown",
      "source": [
        "Definition of loudness\n",
        ": the attribute of a sound that determines the magnitude of the auditory sensation produced and that primarily depends on the amplitude of the sound wave involved.\n",
        "\n",
        "Detto questo, la canzone con il valore assoluto di loudness maggiore è anche la canzone più popolare, però generalmente non si può dire che all'aumentare di questo valore assoluto aumenti anche la popolarità.\n"
      ],
      "metadata": {
        "id": "lztm97MgnBPL"
      }
    },
    {
      "cell_type": "markdown",
      "source": [
        "***Liveness  to Popularity***"
      ],
      "metadata": {
        "id": "rJg_yPGshHmL"
      }
    },
    {
      "cell_type": "code",
      "source": [
        "plt.scatter(top50['Liveness'],top50['Popularity'])"
      ],
      "metadata": {
        "colab": {
          "base_uri": "https://localhost:8080/",
          "height": 283
        },
        "outputId": "bb12186b-eea2-4e1f-c385-ca0698cf2a8a",
        "id": "WB-pzTgJhHmN"
      },
      "execution_count": 17,
      "outputs": [
        {
          "output_type": "execute_result",
          "data": {
            "text/plain": [
              "<matplotlib.collections.PathCollection at 0x7f5bf0537550>"
            ]
          },
          "metadata": {},
          "execution_count": 17
        },
        {
          "output_type": "display_data",
          "data": {
            "text/plain": [
              "<Figure size 432x288 with 1 Axes>"
            ],
            "image/png": "[encoded data removed]"
          },
          "metadata": {
            "needs_background": "light"
          }
        }
      ]
    },
    {
      "cell_type": "markdown",
      "source": [
        "Si evince dal grafico che la maggior parte delle canzoni presenti all'interno della playlist hanno una liveness minore di 20, in questo gruppo c'è peraltro la canzone più popolare della playlist."
      ],
      "metadata": {
        "id": "Mm6dbdwknwjE"
      }
    },
    {
      "cell_type": "markdown",
      "source": [
        "***Valence to Popularity***"
      ],
      "metadata": {
        "id": "-vPLdlDihHzL"
      }
    },
    {
      "cell_type": "code",
      "source": [
        "plt.scatter(top50['Valence.'],top50['Popularity'])"
      ],
      "metadata": {
        "colab": {
          "base_uri": "https://localhost:8080/",
          "height": 283
        },
        "outputId": "120b28a9-a3c6-4e97-902a-8007288c6cea",
        "id": "m_c7oFcjhHzN"
      },
      "execution_count": 18,
      "outputs": [
        {
          "output_type": "execute_result",
          "data": {
            "text/plain": [
              "<matplotlib.collections.PathCollection at 0x7f5bf04a24d0>"
            ]
          },
          "metadata": {},
          "execution_count": 18
        },
        {
          "output_type": "display_data",
          "data": {
            "text/plain": [
              "<Figure size 432x288 with 1 Axes>"
            ],
            "image/png": "[encoded data removed]"
          },
          "metadata": {
            "needs_background": "light"
          }
        }
      ]
    },
    {
      "cell_type": "markdown",
      "source": [
        "La distribuzione dei dati nel grafico sovrastante non ci permette di arrivare a conclusioni che a priori sapevamo ovvero che la popolarità non è legata alla valenza della canzone (sotto si riporta nell'apposita sezione la tabella di correlazione dei dati)."
      ],
      "metadata": {
        "id": "dGFjX58jo5Uh"
      }
    },
    {
      "cell_type": "markdown",
      "source": [
        "***Length to Popularity***"
      ],
      "metadata": {
        "id": "cMHqYUYBhIYI"
      }
    },
    {
      "cell_type": "code",
      "source": [
        "plt.scatter(top50['Length.'],top50['Popularity'])"
      ],
      "metadata": {
        "colab": {
          "base_uri": "https://localhost:8080/",
          "height": 283
        },
        "outputId": "1f44c313-f9f0-4273-83d2-cd21aacbce11",
        "id": "d_WcPX-shIYJ"
      },
      "execution_count": 19,
      "outputs": [
        {
          "output_type": "execute_result",
          "data": {
            "text/plain": [
              "<matplotlib.collections.PathCollection at 0x7f5bf04b2b90>"
            ]
          },
          "metadata": {},
          "execution_count": 19
        },
        {
          "output_type": "display_data",
          "data": {
            "text/plain": [
              "<Figure size 432x288 with 1 Axes>"
            ],
            "image/png": "[encoded data removed]"
          },
          "metadata": {
            "needs_background": "light"
          }
        }
      ]
    },
    {
      "cell_type": "markdown",
      "source": [
        "La maggior parte delle canzoni che sono presenti nella playlist hanno una durata compresa tra i 159 e 225 secondi, tra di queste c'è anche la più popolare. Anche in questo caso comunque non si può nè arrivare alla conclusione che più aumenta la durata e più aumenta la lunghezza della canzone nè viceversa."
      ],
      "metadata": {
        "id": "X9gBwqyXpWOl"
      }
    },
    {
      "cell_type": "markdown",
      "source": [
        "***Acousticness to Popularity***"
      ],
      "metadata": {
        "id": "N1Ise_l8hIiX"
      }
    },
    {
      "cell_type": "code",
      "source": [
        "plt.scatter(top50['Acousticness..'],top50['Popularity'])"
      ],
      "metadata": {
        "colab": {
          "base_uri": "https://localhost:8080/",
          "height": 283
        },
        "outputId": "108a3004-8e8f-424f-a7b6-f453e97b0308",
        "id": "AfegAo0QhIiY"
      },
      "execution_count": 20,
      "outputs": [
        {
          "output_type": "execute_result",
          "data": {
            "text/plain": [
              "<matplotlib.collections.PathCollection at 0x7f5bf03f7350>"
            ]
          },
          "metadata": {},
          "execution_count": 20
        },
        {
          "output_type": "display_data",
          "data": {
            "text/plain": [
              "<Figure size 432x288 with 1 Axes>"
            ],
            "image/png": "[encoded data removed]"
          },
          "metadata": {
            "needs_background": "light"
          }
        }
      ]
    },
    {
      "cell_type": "markdown",
      "source": [
        "C'è più coesione nella distribuzione dei dati sulla popolarità delle canzoni con un livello di acousticness compreso tra 0 e 20 quindi la maggior parte delle canzoni nella playlist ha questi valori di acousticness, ma la più popolare si trova nel gruppo restante, dove la varianza della popolarità è notevolmente maggiore, così come il range di acousticness che anch'esso risulta essere più grande(20-80)."
      ],
      "metadata": {
        "id": "ioBvs5OvpxGE"
      }
    },
    {
      "cell_type": "markdown",
      "source": [
        "***Speechiness to Popularity***"
      ],
      "metadata": {
        "id": "3Gw4wHGXiV9T"
      }
    },
    {
      "cell_type": "code",
      "source": [
        "plt.scatter(top50['Speechiness.'],top50['Popularity'])"
      ],
      "metadata": {
        "colab": {
          "base_uri": "https://localhost:8080/",
          "height": 283
        },
        "id": "7uXfVEfOiTag",
        "outputId": "99c9e5d1-11ea-4b19-89ff-7b8d6ea1f1b2"
      },
      "execution_count": 21,
      "outputs": [
        {
          "output_type": "execute_result",
          "data": {
            "text/plain": [
              "<matplotlib.collections.PathCollection at 0x7f5bf0b799d0>"
            ]
          },
          "metadata": {},
          "execution_count": 21
        },
        {
          "output_type": "display_data",
          "data": {
            "text/plain": [
              "<Figure size 432x288 with 1 Axes>"
            ],
            "image/png": "[encoded data removed]"
          },
          "metadata": {
            "needs_background": "light"
          }
        }
      ]
    },
    {
      "cell_type": "markdown",
      "source": [
        "La maggior parte delle canzoni presenti nella playlist ha un valore di Speechness compreso tra 0 e 10, questo gruppo di canzoni però ha anche una notevole varianza di popolarità, mentre il gruppo restante, dove \"risiede\" anche la canzone più popolare della playlist ha una varianza di popolarità decisamente inferiore."
      ],
      "metadata": {
        "id": "J5jfgr-TqaTr"
      }
    },
    {
      "cell_type": "markdown",
      "source": [
        "***Varianza dei Dati***"
      ],
      "metadata": {
        "id": "DxRaN_8wgTsY"
      }
    },
    {
      "cell_type": "markdown",
      "source": [
        "Sotto riportiamo il box plot per apprezzare la varianza della mediana del posizionamento di ogni genere, da questo grafico inoltre si evince quali generi presentino la maggior quantità di canzoni e quanto siano distaccati i posizionamenti in classifica di queste:"
      ],
      "metadata": {
        "id": "oQFoUGH3zDXH"
      }
    },
    {
      "cell_type": "code",
      "source": [
        "top50.boxplot(column= 'Position', by='Genre', vert=False, fontsize = 10, figsize = (12,10))"
      ],
      "metadata": {
        "colab": {
          "base_uri": "https://localhost:8080/",
          "height": 733
        },
        "id": "7NyNrwwBsQxH",
        "outputId": "45366b62-40f2-43bc-a970-63597b5559b9"
      },
      "execution_count": 22,
      "outputs": [
        {
          "output_type": "stream",
          "name": "stderr",
          "text": [
            "/usr/local/lib/python3.7/dist-packages/matplotlib/cbook/__init__.py:1376: VisibleDeprecationWarning: Creating an ndarray from ragged nested sequences (which is a list-or-tuple of lists-or-tuples-or ndarrays with different lengths or shapes) is deprecated. If you meant to do this, you must specify 'dtype=object' when creating the ndarray.\n",
            "  X = np.atleast_1d(X.T if isinstance(X, np.ndarray) else np.asarray(X))\n"
          ]
        },
        {
          "output_type": "execute_result",
          "data": {
            "text/plain": [
              "<matplotlib.axes._subplots.AxesSubplot at 0x7f5bf09ae890>"
            ]
          },
          "metadata": {},
          "execution_count": 22
        },
        {
          "output_type": "display_data",
          "data": {
            "text/plain": [
              "<Figure size 864x720 with 1 Axes>"
            ],
            "image/png": "[encoded data removed]"
          },
          "metadata": {
            "needs_background": "light"
          }
        }
      ]
    },
    {
      "cell_type": "markdown",
      "source": [
        "Il genere che presenta più varianza nel posizionamento in classifica è il pop seguito non di molto dal dance pop. \n",
        "Il primo di questi due -a differenza del secondo- ha la mediana più alta e quindi si evince che ha posizionamenti più alti complessivamente."
      ],
      "metadata": {
        "id": "DLrThno9jOwU"
      }
    },
    {
      "cell_type": "markdown",
      "source": [
        "Invece per la popolarità media delle canzoni per genere:"
      ],
      "metadata": {
        "id": "eiT7oh-Kfvjv"
      }
    },
    {
      "cell_type": "code",
      "source": [
        "top50.boxplot(column= 'Popularity', by='Genre', vert=False, fontsize = 10, figsize = (12,10))"
      ],
      "metadata": {
        "colab": {
          "base_uri": "https://localhost:8080/",
          "height": 733
        },
        "id": "tv5DGvX8fypf",
        "outputId": "298c80d3-75ad-4c15-8ec8-5ea0eff61739"
      },
      "execution_count": 23,
      "outputs": [
        {
          "output_type": "stream",
          "name": "stderr",
          "text": [
            "/usr/local/lib/python3.7/dist-packages/matplotlib/cbook/__init__.py:1376: VisibleDeprecationWarning: Creating an ndarray from ragged nested sequences (which is a list-or-tuple of lists-or-tuples-or ndarrays with different lengths or shapes) is deprecated. If you meant to do this, you must specify 'dtype=object' when creating the ndarray.\n",
            "  X = np.atleast_1d(X.T if isinstance(X, np.ndarray) else np.asarray(X))\n"
          ]
        },
        {
          "output_type": "execute_result",
          "data": {
            "text/plain": [
              "<matplotlib.axes._subplots.AxesSubplot at 0x7f5bf0a0b1d0>"
            ]
          },
          "metadata": {},
          "execution_count": 23
        },
        {
          "output_type": "display_data",
          "data": {
            "text/plain": [
              "<Figure size 864x720 with 1 Axes>"
            ],
            "image/png": "[encoded data removed]"
          },
          "metadata": {
            "needs_background": "light"
          }
        }
      ]
    },
    {
      "cell_type": "markdown",
      "source": [
        "Il Dance pop è il genere la cui popolarità delle canzoni varia maggiormente, mentre si può notare che il candian pop è il genere dalla popolarità minore.\n",
        "\n"
      ],
      "metadata": {
        "id": "rTu644YNf-Wi"
      }
    },
    {
      "cell_type": "markdown",
      "source": [
        "\n",
        "\n",
        "---\n",
        "\n"
      ],
      "metadata": {
        "id": "JgoZp03iinrv"
      }
    },
    {
      "cell_type": "markdown",
      "source": [
        "***Correlazione tra i Dati:***"
      ],
      "metadata": {
        "id": "w6tcwq8nWtSK"
      }
    },
    {
      "cell_type": "markdown",
      "source": [
        "Vediamo innanzitutto l'indice di correlazione di Pearson dei dati presenti nel dataset che stiamo analizzando:"
      ],
      "metadata": {
        "id": "-lfNyq4yuwYP"
      }
    },
    {
      "cell_type": "code",
      "source": [
        "top50.corr()"
      ],
      "metadata": {
        "colab": {
          "base_uri": "https://localhost:8080/",
          "height": 394
        },
        "id": "CZnTHXQNuvsy",
        "outputId": "fe6d4122-8c7c-474c-a842-ba4553d38776"
      },
      "execution_count": 24,
      "outputs": [
        {
          "output_type": "execute_result",
          "data": {
            "text/plain": [
              "                  Position  Beats.Per.Minute    Energy  Danceability  \\\n",
              "Position          1.000000         -0.259193  0.102649      0.122691   \n",
              "Beats.Per.Minute -0.259193          1.000000  0.043756     -0.094183   \n",
              "Energy            0.102649          0.043756  1.000000      0.018254   \n",
              "Danceability      0.122691         -0.094183  0.018254      1.000000   \n",
              "Loudness..dB..    0.011914          0.017016  0.670794      0.016255   \n",
              "Liveness          0.270659         -0.167286  0.162768     -0.149636   \n",
              "Valence.          0.137329         -0.011586  0.438820      0.172829   \n",
              "Length.          -0.065844         -0.139288  0.224677     -0.000185   \n",
              "Acousticness..   -0.015993         -0.031450 -0.339892     -0.098165   \n",
              "Speechiness.     -0.257506          0.557052 -0.089860     -0.103472   \n",
              "Popularity       -0.160680          0.196097 -0.080295     -0.071413   \n",
              "\n",
              "                  Loudness..dB..  Liveness  Valence.   Length.  \\\n",
              "Position                0.011914  0.270659  0.137329 -0.065844   \n",
              "Beats.Per.Minute        0.017016 -0.167286 -0.011586 -0.139288   \n",
              "Energy                  0.670794  0.162768  0.438820  0.224677   \n",
              "Danceability            0.016255 -0.149636  0.172829 -0.000185   \n",
              "Loudness..dB..          1.000000  0.258652  0.237614  0.219219   \n",
              "Liveness                0.258652  1.000000  0.016123  0.131782   \n",
              "Valence.                0.237614  0.016123  1.000000 -0.017782   \n",
              "Length.                 0.219219  0.131782 -0.017782  1.000000   \n",
              "Acousticness..         -0.138300  0.021328 -0.052323 -0.076293   \n",
              "Speechiness.           -0.272213 -0.125286 -0.053242  0.046755   \n",
              "Popularity             -0.043085  0.092564 -0.317752 -0.087639   \n",
              "\n",
              "                  Acousticness..  Speechiness.  Popularity  \n",
              "Position               -0.015993     -0.257506   -0.160680  \n",
              "Beats.Per.Minute       -0.031450      0.557052    0.196097  \n",
              "Energy                 -0.339892     -0.089860   -0.080295  \n",
              "Danceability           -0.098165     -0.103472   -0.071413  \n",
              "Loudness..dB..         -0.138300     -0.272213   -0.043085  \n",
              "Liveness                0.021328     -0.125286    0.092564  \n",
              "Valence.               -0.052323     -0.053242   -0.317752  \n",
              "Length.                -0.076293      0.046755   -0.087639  \n",
              "Acousticness..          1.000000      0.008293   -0.034684  \n",
              "Speechiness.            0.008293      1.000000    0.238553  \n",
              "Popularity             -0.034684      0.238553    1.000000  "
            ],
            "text/html": [
              "\n",
              "  <div id=\"df-a8356145-a490-4f33-8045-910b0805af20\">\n",
              "    <div class=\"colab-df-container\">\n",
              "      <div>\n",
              "<style scoped>\n",
              "    .dataframe tbody tr th:only-of-type {\n",
              "        vertical-align: middle;\n",
              "    }\n",
              "\n",
              "    .dataframe tbody tr th {\n",
              "        vertical-align: top;\n",
              "    }\n",
              "\n",
              "    .dataframe thead th {\n",
              "        text-align: right;\n",
              "    }\n",
              "</style>\n",
              "<table border=\"1\" class=\"dataframe\">\n",
              "  <thead>\n",
              "    <tr style=\"text-align: right;\">\n",
              "      <th></th>\n",
              "      <th>Position</th>\n",
              "      <th>Beats.Per.Minute</th>\n",
              "      <th>Energy</th>\n",
              "      <th>Danceability</th>\n",
              "      <th>Loudness..dB..</th>\n",
              "      <th>Liveness</th>\n",
              "      <th>Valence.</th>\n",
              "      <th>Length.</th>\n",
              "      <th>Acousticness..</th>\n",
              "      <th>Speechiness.</th>\n",
              "      <th>Popularity</th>\n",
              "    </tr>\n",
              "  </thead>\n",
              "  <tbody>\n",
              "    <tr>\n",
              "      <th>Position</th>\n",
              "      <td>1.000000</td>\n",
              "      <td>-0.259193</td>\n",
              "      <td>0.102649</td>\n",
              "      <td>0.122691</td>\n",
              "      <td>0.011914</td>\n",
              "      <td>0.270659</td>\n",
              "      <td>0.137329</td>\n",
              "      <td>-0.065844</td>\n",
              "      <td>-0.015993</td>\n",
              "      <td>-0.257506</td>\n",
              "      <td>-0.160680</td>\n",
              "    </tr>\n",
              "    <tr>\n",
              "      <th>Beats.Per.Minute</th>\n",
              "      <td>-0.259193</td>\n",
              "      <td>1.000000</td>\n",
              "      <td>0.043756</td>\n",
              "      <td>-0.094183</td>\n",
              "      <td>0.017016</td>\n",
              "      <td>-0.167286</td>\n",
              "      <td>-0.011586</td>\n",
              "      <td>-0.139288</td>\n",
              "      <td>-0.031450</td>\n",
              "      <td>0.557052</td>\n",
              "      <td>0.196097</td>\n",
              "    </tr>\n",
              "    <tr>\n",
              "      <th>Energy</th>\n",
              "      <td>0.102649</td>\n",
              "      <td>0.043756</td>\n",
              "      <td>1.000000</td>\n",
              "      <td>0.018254</td>\n",
              "      <td>0.670794</td>\n",
              "      <td>0.162768</td>\n",
              "      <td>0.438820</td>\n",
              "      <td>0.224677</td>\n",
              "      <td>-0.339892</td>\n",
              "      <td>-0.089860</td>\n",
              "      <td>-0.080295</td>\n",
              "    </tr>\n",
              "    <tr>\n",
              "      <th>Danceability</th>\n",
              "      <td>0.122691</td>\n",
              "      <td>-0.094183</td>\n",
              "      <td>0.018254</td>\n",
              "      <td>1.000000</td>\n",
              "      <td>0.016255</td>\n",
              "      <td>-0.149636</td>\n",
              "      <td>0.172829</td>\n",
              "      <td>-0.000185</td>\n",
              "      <td>-0.098165</td>\n",
              "      <td>-0.103472</td>\n",
              "      <td>-0.071413</td>\n",
              "    </tr>\n",
              "    <tr>\n",
              "      <th>Loudness..dB..</th>\n",
              "      <td>0.011914</td>\n",
              "      <td>0.017016</td>\n",
              "      <td>0.670794</td>\n",
              "      <td>0.016255</td>\n",
              "      <td>1.000000</td>\n",
              "      <td>0.258652</td>\n",
              "      <td>0.237614</td>\n",
              "      <td>0.219219</td>\n",
              "      <td>-0.138300</td>\n",
              "      <td>-0.272213</td>\n",
              "      <td>-0.043085</td>\n",
              "    </tr>\n",
              "    <tr>\n",
              "      <th>Liveness</th>\n",
              "      <td>0.270659</td>\n",
              "      <td>-0.167286</td>\n",
              "      <td>0.162768</td>\n",
              "      <td>-0.149636</td>\n",
              "      <td>0.258652</td>\n",
              "      <td>1.000000</td>\n",
              "      <td>0.016123</td>\n",
              "      <td>0.131782</td>\n",
              "      <td>0.021328</td>\n",
              "      <td>-0.125286</td>\n",
              "      <td>0.092564</td>\n",
              "    </tr>\n",
              "    <tr>\n",
              "      <th>Valence.</th>\n",
              "      <td>0.137329</td>\n",
              "      <td>-0.011586</td>\n",
              "      <td>0.438820</td>\n",
              "      <td>0.172829</td>\n",
              "      <td>0.237614</td>\n",
              "      <td>0.016123</td>\n",
              "      <td>1.000000</td>\n",
              "      <td>-0.017782</td>\n",
              "      <td>-0.052323</td>\n",
              "      <td>-0.053242</td>\n",
              "      <td>-0.317752</td>\n",
              "    </tr>\n",
              "    <tr>\n",
              "      <th>Length.</th>\n",
              "      <td>-0.065844</td>\n",
              "      <td>-0.139288</td>\n",
              "      <td>0.224677</td>\n",
              "      <td>-0.000185</td>\n",
              "      <td>0.219219</td>\n",
              "      <td>0.131782</td>\n",
              "      <td>-0.017782</td>\n",
              "      <td>1.000000</td>\n",
              "      <td>-0.076293</td>\n",
              "      <td>0.046755</td>\n",
              "      <td>-0.087639</td>\n",
              "    </tr>\n",
              "    <tr>\n",
              "      <th>Acousticness..</th>\n",
              "      <td>-0.015993</td>\n",
              "      <td>-0.031450</td>\n",
              "      <td>-0.339892</td>\n",
              "      <td>-0.098165</td>\n",
              "      <td>-0.138300</td>\n",
              "      <td>0.021328</td>\n",
              "      <td>-0.052323</td>\n",
              "      <td>-0.076293</td>\n",
              "      <td>1.000000</td>\n",
              "      <td>0.008293</td>\n",
              "      <td>-0.034684</td>\n",
              "    </tr>\n",
              "    <tr>\n",
              "      <th>Speechiness.</th>\n",
              "      <td>-0.257506</td>\n",
              "      <td>0.557052</td>\n",
              "      <td>-0.089860</td>\n",
              "      <td>-0.103472</td>\n",
              "      <td>-0.272213</td>\n",
              "      <td>-0.125286</td>\n",
              "      <td>-0.053242</td>\n",
              "      <td>0.046755</td>\n",
              "      <td>0.008293</td>\n",
              "      <td>1.000000</td>\n",
              "      <td>0.238553</td>\n",
              "    </tr>\n",
              "    <tr>\n",
              "      <th>Popularity</th>\n",
              "      <td>-0.160680</td>\n",
              "      <td>0.196097</td>\n",
              "      <td>-0.080295</td>\n",
              "      <td>-0.071413</td>\n",
              "      <td>-0.043085</td>\n",
              "      <td>0.092564</td>\n",
              "      <td>-0.317752</td>\n",
              "      <td>-0.087639</td>\n",
              "      <td>-0.034684</td>\n",
              "      <td>0.238553</td>\n",
              "      <td>1.000000</td>\n",
              "    </tr>\n",
              "  </tbody>\n",
              "</table>\n",
              "</div>\n",
              "      <button class=\"colab-df-convert\" onclick=\"convertToInteractive('df-a8356145-a490-4f33-8045-910b0805af20')\"\n",
              "              title=\"Convert this dataframe to an interactive table.\"\n",
              "              style=\"display:none;\">\n",
              "        \n",
              "  <svg xmlns=\"http://www.w3.org/2000/svg\" height=\"24px\"viewBox=\"0 0 24 24\"\n",
              "       width=\"24px\">\n",
              "    <path d=\"M0 0h24v24H0V0z\" fill=\"none\"/>\n",
              "    <path d=\"M18.56 5.44l.94 2.06.94-2.06 2.06-.94-2.06-.94-.94-2.06-.94 2.06-2.06.94zm-11 1L8.5 8.5l.94-2.06 2.06-.94-2.06-.94L8.5 2.5l-.94 2.06-2.06.94zm10 10l.94 2.06.94-2.06 2.06-.94-2.06-.94-.94-2.06-.94 2.06-2.06.94z\"/><path d=\"M17.41 7.96l-1.37-1.37c-.4-.4-.92-.59-1.43-.59-.52 0-1.04.2-1.43.59L10.3 9.45l-7.72 7.72c-.78.78-.78 2.05 0 2.83L4 21.41c.39.39.9.59 1.41.59.51 0 1.02-.2 1.41-.59l7.78-7.78 2.81-2.81c.8-.78.8-2.07 0-2.86zM5.41 20L4 18.59l7.72-7.72 1.47 1.35L5.41 20z\"/>\n",
              "  </svg>\n",
              "      </button>\n",
              "      \n",
              "  <style>\n",
              "    .colab-df-container {\n",
              "      display:flex;\n",
              "      flex-wrap:wrap;\n",
              "      gap: 12px;\n",
              "    }\n",
              "\n",
              "    .colab-df-convert {\n",
              "      background-color: #E8F0FE;\n",
              "      border: none;\n",
              "      border-radius: 50%;\n",
              "      cursor: pointer;\n",
              "      display: none;\n",
              "      fill: #1967D2;\n",
              "      height: 32px;\n",
              "      padding: 0 0 0 0;\n",
              "      width: 32px;\n",
              "    }\n",
              "\n",
              "    .colab-df-convert:hover {\n",
              "      background-color: #E2EBFA;\n",
              "      box-shadow: 0px 1px 2px rgba(60, 64, 67, 0.3), 0px 1px 3px 1px rgba(60, 64, 67, 0.15);\n",
              "      fill: #174EA6;\n",
              "    }\n",
              "\n",
              "    [theme=dark] .colab-df-convert {\n",
              "      background-color: #3B4455;\n",
              "      fill: #D2E3FC;\n",
              "    }\n",
              "\n",
              "    [theme=dark] .colab-df-convert:hover {\n",
              "      background-color: #434B5C;\n",
              "      box-shadow: 0px 1px 3px 1px rgba(0, 0, 0, 0.15);\n",
              "      filter: drop-shadow(0px 1px 2px rgba(0, 0, 0, 0.3));\n",
              "      fill: #FFFFFF;\n",
              "    }\n",
              "  </style>\n",
              "\n",
              "      <script>\n",
              "        const buttonEl =\n",
              "          document.querySelector('#df-a8356145-a490-4f33-8045-910b0805af20 button.colab-df-convert');\n",
              "        buttonEl.style.display =\n",
              "          google.colab.kernel.accessAllowed ? 'block' : 'none';\n",
              "\n",
              "        async function convertToInteractive(key) {\n",
              "          const element = document.querySelector('#df-a8356145-a490-4f33-8045-910b0805af20');\n",
              "          const dataTable =\n",
              "            await google.colab.kernel.invokeFunction('convertToInteractive',\n",
              "                                                     [key], {});\n",
              "          if (!dataTable) return;\n",
              "\n",
              "          const docLinkHtml = 'Like what you see? Visit the ' +\n",
              "            '<a target=\"_blank\" href=https://colab.research.google.com/notebooks/data_table.ipynb>data table notebook</a>'\n",
              "            + ' to learn more about interactive tables.';\n",
              "          element.innerHTML = '';\n",
              "          dataTable['output_type'] = 'display_data';\n",
              "          await google.colab.output.renderOutput(dataTable, element);\n",
              "          const docLink = document.createElement('div');\n",
              "          docLink.innerHTML = docLinkHtml;\n",
              "          element.appendChild(docLink);\n",
              "        }\n",
              "      </script>\n",
              "    </div>\n",
              "  </div>\n",
              "  "
            ]
          },
          "metadata": {},
          "execution_count": 24
        }
      ]
    },
    {
      "cell_type": "markdown",
      "source": [
        "Features correlate tra loro(considero solo valori maggiori di 0.20):\n",
        "- Position -> Liveness\n",
        "- BPM -> Speechiness, Popularity\n",
        "- Energy -> Loudness, Valence, Length\n",
        "- Danceability -> non risulta essere correlato a niente con questi criteri\n",
        "- Loudness -> Energy, Liveness, Valence, Length\n",
        "- Liveness -> Position, Loudness, Acousticness\n",
        "- Valence -> Energy, Loudness, Popularity \n",
        "\n",
        "- (...ripetizione dato che sono correlate)\n",
        "\n",
        "\n",
        "Features scorrelate tra loro(considero solo valori inferiori di -0.20):\n",
        "- Position -> Speechiness\n",
        "- BPM -> Position, Acousticness\n",
        "- Energy -> Acousticness\n",
        "- Danceability -> non risulta essere scorrelato a niente con questi criteri\n",
        "- Loudness -> Speechiness\n",
        "- Liveness -> non risulta essere scorrelato a niente con questi criteri\n",
        "- Valence -> Popularity\n",
        "\n",
        "- (...ripetizione dato che sono correlate)"
      ],
      "metadata": {
        "id": "HEFO5LeqxIqJ"
      }
    },
    {
      "cell_type": "markdown",
      "source": [
        "Da questo possiamo trarre alcune deduzioni da analizzare:\n",
        "\n",
        "*   La posizione in classifica sembra non essere \"affetta\" da nessun altra caratteristica/attributo. Solo la liveness arriva ad influire ma veramente poco.\n",
        "*   Un dato curioso è tra i Beats per Minute e la Specchness : 0.557052, il quale è un valore abbastanza alto di correlazione tra i due attributi/carattersitiche.\n",
        "*   L'energia di una canzone è correlata abbastanza fortemente con la sua Loudness e un po' di meno con i bpm(in questa playlist).\n",
        "*   Il mood positivo della canzone è parzialmente influenzato dal numero di bpm della canzone.\n",
        "\n",
        "In sostanza comunque i dati non sembrano essere molto correlati tra di loro, o per lo meno non sembrano esserci dati \"legati\" tra loro in modo rigoroso.\n",
        "\n"
      ],
      "metadata": {
        "id": "TKvYqh8rvFtT"
      }
    },
    {
      "cell_type": "markdown",
      "source": [
        "**T-Test tra genere Pop e Dance Pop:**"
      ],
      "metadata": {
        "id": "OwiGNBPPY6Fg"
      }
    },
    {
      "cell_type": "markdown",
      "source": [
        "Vediamo ora come eseguire il t-test tra due generi pop(quelli più popolari e presenti in classifica) per confrontare:\n",
        "1.   quale dei due ha più o meno popolarità media\n",
        "2.   quale dei due ha più o meno il posizionamento \n",
        "medio alto\n",
        "3.   quale dei due ha più o meno bpm medio"
      ],
      "metadata": {
        "id": "IqDYygHnWgkN"
      }
    },
    {
      "cell_type": "markdown",
      "source": [
        "\n",
        "\n",
        "\n",
        "\n",
        "---\n",
        "\n",
        "\n",
        "\n",
        "**PRECISAZIONE T-TEST**\n",
        "\n",
        "Quando si calcola il p-value si deve confrontare con il valore di significativita' statistica. \n",
        "Quindi, se scegliete una confidenza di 0.95, dovete confrontare il p-value con 0.05. \n",
        "In modo analogo per altri valori. \n",
        "Questo vale sia per il t-test a una coda, che per il t-test a due code. \n",
        "Se il p-value e' maggiore della significativita', accetto l'ipotesi nulla.\n",
        "Se il p-value e' minore, rigetto l'ipotesi nulla.\n",
        "\n",
        "---\n",
        "\n",
        "\n"
      ],
      "metadata": {
        "id": "aEKIiEo2xxKJ"
      }
    },
    {
      "cell_type": "markdown",
      "source": [
        "Dobbiamo partire dal formulare un'ipotesi nulla: \n",
        "- la popolarità media in classifca del genere pop è maggiore rispetto al dance pop, quindi l'H alternativa è che il posizionamento medio in classifica del genere pop è minore rispetto al dance pop."
      ],
      "metadata": {
        "id": "9jW9AKraWcms"
      }
    },
    {
      "cell_type": "code",
      "source": [
        "t_statistic, p_value = stats.ttest_1samp(a= top50['Popularity'][top50['Genre']=='pop'], popmean= top50['Popularity'][top50['Genre']=='dance pop'].mean(), alternative=\"less\")\n",
        "print(t_statistic)\n",
        "print(p_value)"
      ],
      "metadata": {
        "colab": {
          "base_uri": "https://localhost:8080/"
        },
        "id": "3I_9C2zbuokh",
        "outputId": "391e9d5a-82ad-4f24-b067-1c156c5e1ebe"
      },
      "execution_count": 25,
      "outputs": [
        {
          "output_type": "stream",
          "name": "stdout",
          "text": [
            "0.10367452745642448\n",
            "0.5395969102146674\n"
          ]
        }
      ]
    },
    {
      "cell_type": "markdown",
      "source": [
        "Dato che abbiamo preso un livello di confidenza di 0.95 dobbiamo accettare l'ipotesi nulla dato che il valore del p-value è notevolmente maggiore di 0.05 che è il nostro livello di significatività.\n",
        "\n",
        "Ciò detto, comunque, possiamo vedere che dobbiamo accettare l'ipotesi nulla anche se fosse : \n",
        "- il posizionamento medio in classifica del genere pop è minore rispetto a quello del genere dance pop \n",
        "\n",
        "dato che otteniamo il corrispettivo valore probabilistico e quindi circa 0.46 (l'alternativa sarà dunque \"greater\")"
      ],
      "metadata": {
        "id": "EbiAyBeV3x2r"
      }
    },
    {
      "cell_type": "code",
      "source": [
        "t_statistic, p_value = stats.ttest_1samp(a= top50['Popularity'][top50['Genre']=='pop'], popmean= top50['Popularity'][top50['Genre']=='dance pop'].mean(), alternative=\"greater\")\n",
        "print(t_statistic)\n",
        "print(p_value)"
      ],
      "metadata": {
        "colab": {
          "base_uri": "https://localhost:8080/"
        },
        "id": "Ini-lyXW4n_d",
        "outputId": "5b489dd3-c712-44e1-b696-f4004226392a"
      },
      "execution_count": 26,
      "outputs": [
        {
          "output_type": "stream",
          "name": "stdout",
          "text": [
            "0.10367452745642448\n",
            "0.46040308978533256\n"
          ]
        }
      ]
    },
    {
      "cell_type": "markdown",
      "source": [
        "Il caso in cui il test viene fatto con ipotesi nulla:\n",
        "- il posizionamento medio in classifca del genere pop è uguale rispetto al dance pop\n",
        "\n",
        "non specificando l'alternative nella funzione del prenderà l'alternativa di default ovvero che siano diversi."
      ],
      "metadata": {
        "id": "kPrebeseDp2c"
      }
    },
    {
      "cell_type": "code",
      "source": [
        "t_statistic, p_value = stats.ttest_1samp(a= top50['Popularity'][top50['Genre']=='pop'], popmean= top50['Popularity'][top50['Genre']=='dance pop'].mean())\n",
        "print(t_statistic)\n",
        "print(p_value)"
      ],
      "metadata": {
        "colab": {
          "base_uri": "https://localhost:8080/"
        },
        "id": "h-yWPbaxE-MC",
        "outputId": "6bb158e4-9a2a-4f2e-c881-0422adc9f244"
      },
      "execution_count": 27,
      "outputs": [
        {
          "output_type": "stream",
          "name": "stdout",
          "text": [
            "0.10367452745642448\n",
            "0.9208061795706651\n"
          ]
        }
      ]
    },
    {
      "cell_type": "markdown",
      "source": [
        "Come ci aspettavamo viene un valore molto alto quindi accettiamo l'ipotesi nulla e quindi la popolarità del genere pop è molto uguale(simile) alla popolarità del dancepop."
      ],
      "metadata": {
        "id": "hSq6BoAZFD6A"
      }
    },
    {
      "cell_type": "markdown",
      "source": [
        "Possiamo però notare che questo non avviene nel caso del posizionamento:"
      ],
      "metadata": {
        "id": "LfU1zPz4G7Nw"
      }
    },
    {
      "cell_type": "code",
      "source": [
        "t_statistic, p_value = stats.ttest_1samp(a= top50['Position'][top50['Genre']=='pop'], popmean= top50['Position'][top50['Genre']=='dance pop'].mean())\n",
        "print(t_statistic)\n",
        "print(p_value)"
      ],
      "metadata": {
        "colab": {
          "base_uri": "https://localhost:8080/"
        },
        "id": "2cwTSZwUG5_8",
        "outputId": "1979bb62-be61-4985-e471-96bd6acc111a"
      },
      "execution_count": 28,
      "outputs": [
        {
          "output_type": "stream",
          "name": "stdout",
          "text": [
            "-0.6110094553802669\n",
            "0.5636087300465286\n"
          ]
        }
      ]
    },
    {
      "cell_type": "markdown",
      "source": [
        "In questo caso l'ipotesi nulla è: \n",
        "- il posizionamento medio del genere pop è uguale a quello del genere dance pop.\n",
        "\n",
        "Possiamo notare come questo valore sia notevolmente inferiore rispetto al t-test precedente sulla stessa condizione analizzando la Popolarità, però bisogna accettarla comunque dato che è superiore al livello di soglia 0.05.\n",
        "\n",
        "Andando a rifarlo con l'attributo alternative in entrambi i casi:"
      ],
      "metadata": {
        "id": "-jvFLbRLbVO-"
      }
    },
    {
      "cell_type": "code",
      "source": [
        "t_statistic, p_value = stats.ttest_1samp(a= top50['Position'][top50['Genre']=='pop'], popmean= top50['Position'][top50['Genre']=='dance pop'].mean(), alternative = \"greater\")\n",
        "print(t_statistic)\n",
        "print(p_value)"
      ],
      "metadata": {
        "colab": {
          "base_uri": "https://localhost:8080/"
        },
        "id": "C5LTFg9dcOQ-",
        "outputId": "44bbb132-4861-43fa-fbda-8b012f6532a2"
      },
      "execution_count": 29,
      "outputs": [
        {
          "output_type": "stream",
          "name": "stdout",
          "text": [
            "-0.6110094553802669\n",
            "0.7181956349767358\n"
          ]
        }
      ]
    },
    {
      "cell_type": "code",
      "source": [
        "t_statistic, p_value = stats.ttest_1samp(a= top50['Position'][top50['Genre']=='pop'], popmean= top50['Position'][top50['Genre']=='dance pop'].mean(), alternative = \"less\")\n",
        "print(t_statistic)\n",
        "print(p_value)"
      ],
      "metadata": {
        "colab": {
          "base_uri": "https://localhost:8080/"
        },
        "id": "TJFQfA1Wb75g",
        "outputId": "135b2e4a-4065-48a1-8e39-8d3c1376693a"
      },
      "execution_count": 30,
      "outputs": [
        {
          "output_type": "stream",
          "name": "stdout",
          "text": [
            "-0.6110094553802669\n",
            "0.2818043650232643\n"
          ]
        }
      ]
    },
    {
      "cell_type": "markdown",
      "source": [
        "Devo accettare le ipotesi nulle in tutti e due i casi analizzando i p-value ottenuti. \n",
        "\n",
        "Possiamo però notare come il posizionamento medio in classifica del genere pop sia maggiore rispetto a quello del genere dancepop confrontando proprio questi valori dei p-value ottenuti dai due t-test.\n"
      ],
      "metadata": {
        "id": "yyj4IOhocGPl"
      }
    },
    {
      "cell_type": "markdown",
      "source": [
        "**T-Test tra genere Pop e Canadian Pop**"
      ],
      "metadata": {
        "id": "2RW5_j18acaB"
      }
    },
    {
      "cell_type": "markdown",
      "source": [
        "Incuriosisce la differenza di varianza di popolarità e di posizionamento dei generi pop e canadian pop nonostante appunto risultino sotto la sovracategoria pop.. Analizziamo la correlazione tra i due generi e i valori dei loro attributi estraendo informazioni interessanti.\n"
      ],
      "metadata": {
        "id": "OS9_FAkL2-L6"
      }
    },
    {
      "cell_type": "markdown",
      "source": [
        "***- Loudness:***"
      ],
      "metadata": {
        "id": "5NDdispESfho"
      }
    },
    {
      "cell_type": "code",
      "source": [
        "t_statistic, p_value = stats.ttest_1samp(a= top50['Loudness..dB..'][top50['Genre']=='pop'], popmean= top50['Loudness..dB..'][top50['Genre']=='canadian pop'].mean(), alternative = 'greater')\n",
        "print(t_statistic)\n",
        "print(p_value)"
      ],
      "metadata": {
        "colab": {
          "base_uri": "https://localhost:8080/"
        },
        "id": "wEmqC09Y7RhT",
        "outputId": "7bb1c694-2577-4327-b7f1-18d292b9811b"
      },
      "execution_count": 31,
      "outputs": [
        {
          "output_type": "stream",
          "name": "stdout",
          "text": [
            "-2.1213203435596424\n",
            "0.9609296252943922\n"
          ]
        }
      ]
    },
    {
      "cell_type": "markdown",
      "source": [
        "Il t-test riporta un p-value notevolmente maggiore del livello di sigificatività 0.05 e quindi accettiamo l'ipotesi nulla:\n",
        "- La potenza delle canzoni del genere pop è minore rispetto a quella del genere canadian pop, dato che il valore ottenuto dal p-value è notevolmente maggiore di 0.05.\n",
        "\n",
        "Ciò si può apprezzare meglio dal controesempio utilizzando l'alternativa less:"
      ],
      "metadata": {
        "id": "SzxtGz3qM4HU"
      }
    },
    {
      "cell_type": "code",
      "source": [
        "t_statistic, p_value = stats.ttest_1samp(a= top50['Loudness..dB..'][top50['Genre']=='pop'], popmean= top50['Loudness..dB..'][top50['Genre']=='canadian pop'].mean(), alternative = 'less')\n",
        "print(t_statistic)\n",
        "print(p_value)"
      ],
      "metadata": {
        "colab": {
          "base_uri": "https://localhost:8080/"
        },
        "id": "hfFtI-lydLZ3",
        "outputId": "6a63eb14-6dbc-473e-ea59-85867d514d28"
      },
      "execution_count": 32,
      "outputs": [
        {
          "output_type": "stream",
          "name": "stdout",
          "text": [
            "-2.1213203435596424\n",
            "0.03907037470560787\n"
          ]
        }
      ]
    },
    {
      "cell_type": "markdown",
      "source": [
        "In questo caso, come ci aspettavamo, otteniamo un valore del p-value inferiore al livello di significatività e quindi scartiamo l'ipotesi nulla sopra riportata a favore dell'ipotesi alternativa:\n",
        "- La potenza delle canzoni del genere pop è maggiore rispetto a quella del genere canadian pop, dato che il valore ottenuto dal p-value è minore di 0.05."
      ],
      "metadata": {
        "id": "lAqv1hpLdPp4"
      }
    },
    {
      "cell_type": "markdown",
      "source": [
        "***- Liveness:***"
      ],
      "metadata": {
        "id": "ehmbmiMjSjr2"
      }
    },
    {
      "cell_type": "code",
      "source": [
        "t_statistic, p_value = stats.ttest_1samp(a= top50['Liveness'][top50['Genre']=='pop'], popmean= top50['Liveness'][top50['Genre']=='canadian pop'].mean(), alternative = 'greater')\n",
        "print(t_statistic)\n",
        "print(p_value)"
      ],
      "metadata": {
        "colab": {
          "base_uri": "https://localhost:8080/"
        },
        "id": "o3HMtUHr7eyn",
        "outputId": "282cd9d5-e829-402f-f927-c0fea956b419"
      },
      "execution_count": 33,
      "outputs": [
        {
          "output_type": "stream",
          "name": "stdout",
          "text": [
            "0.4086347063482532\n",
            "0.3484960847425449\n"
          ]
        }
      ]
    },
    {
      "cell_type": "markdown",
      "source": [
        "Confermiamo l'ipotesi nulla:\n",
        "- La liveness delle canzoni del genere pop è minore rispetto a quella del genere canadian pop, dato che il valore ottenuto dal p-value è notevolmente maggiore di 0.05.\n",
        "\n",
        "Anche se eseguendo il t-test complementare:"
      ],
      "metadata": {
        "id": "P__pQNKONPLZ"
      }
    },
    {
      "cell_type": "code",
      "source": [
        "t_statistic, p_value = stats.ttest_1samp(a= top50['Liveness'][top50['Genre']=='pop'], popmean= top50['Liveness'][top50['Genre']=='canadian pop'].mean(), alternative = 'less')\n",
        "print(t_statistic)\n",
        "print(p_value)"
      ],
      "metadata": {
        "colab": {
          "base_uri": "https://localhost:8080/"
        },
        "id": "-9RiomxnRHH3",
        "outputId": "71f789ff-58d5-4a1f-bf93-e894c9ea7755"
      },
      "execution_count": 34,
      "outputs": [
        {
          "output_type": "stream",
          "name": "stdout",
          "text": [
            "0.4086347063482532\n",
            "0.6515039152574551\n"
          ]
        }
      ]
    },
    {
      "cell_type": "markdown",
      "source": [
        "Si nota che si ottiene un valore del p-vlaue di 0.65 con l'alternativa greater e che quindi dobbiamo confermare l'ipotesi nulla:\n",
        "- La liveness delle canzoni del genere pop è maggiore rispetto a quella del genere canadian pop, dato che il valore ottenuto dal p-value è notevolmente maggiore di 0.05.\n",
        "\n",
        "Possiamo quindi concludere che questa affermazione è confermata maggiormente rispetto alla precedente proprio confrontando i valori dei p-value ottenuti con i t-test eseguiti.\n",
        "\n",
        "Quindi si può dire complessivamente che la Liveness delle canzoni del genere pop è maggiore rispetto a quella del genere canadian pop. \n",
        "\n",
        "Ragioneremo così di conseguenza per tutti gli altri t-test con valori simili."
      ],
      "metadata": {
        "id": "TnQSvquoRHws"
      }
    },
    {
      "cell_type": "markdown",
      "source": [
        "***- BPM:***"
      ],
      "metadata": {
        "id": "Z21y87RESIM8"
      }
    },
    {
      "cell_type": "code",
      "source": [
        "t_statistic, p_value = stats.ttest_1samp(a= top50['Beats.Per.Minute'][top50['Genre']=='pop'], popmean= top50['Beats.Per.Minute'][top50['Genre']=='canadian pop'].mean(), alternative = 'greater')\n",
        "print(t_statistic)\n",
        "print(p_value)"
      ],
      "metadata": {
        "colab": {
          "base_uri": "https://localhost:8080/"
        },
        "id": "VYEuDgzk5zSw",
        "outputId": "f80a4258-9e48-4843-98f1-2d4c3828856e"
      },
      "execution_count": 35,
      "outputs": [
        {
          "output_type": "stream",
          "name": "stdout",
          "text": [
            "-0.7651969130815115\n",
            "0.7634156949583331\n"
          ]
        }
      ]
    },
    {
      "cell_type": "markdown",
      "source": [
        "I BPM è sono notevolmente maggiori nel genere canadian pop rispetto al pop, siccome viene confermata l'ipotesi nulla:\n",
        "- i BPM del genere pop sono minori rispetto a quelli del genere canadian pop, dato che il valore ottenuto dal p-value è notevolmente maggiore di 0.05."
      ],
      "metadata": {
        "id": "cicJPhYIMnUV"
      }
    },
    {
      "cell_type": "markdown",
      "source": [
        "***- Energy:***"
      ],
      "metadata": {
        "id": "OYFezOqkRV3Q"
      }
    },
    {
      "cell_type": "code",
      "source": [
        "t_statistic, p_value = stats.ttest_1samp(a= top50['Energy'][top50['Genre']=='pop'], popmean= top50['Energy'][top50['Genre']=='canadian pop'].mean(), alternative = 'greater')\n",
        "print(t_statistic)\n",
        "print(p_value)"
      ],
      "metadata": {
        "colab": {
          "base_uri": "https://localhost:8080/"
        },
        "id": "BicUQj-e6Ur0",
        "outputId": "50d7173a-271c-46f7-b40f-7f14d5e75d16"
      },
      "execution_count": 36,
      "outputs": [
        {
          "output_type": "stream",
          "name": "stdout",
          "text": [
            "-0.8236109703919069\n",
            "0.779169615459225\n"
          ]
        }
      ]
    },
    {
      "cell_type": "markdown",
      "source": [
        "L'Energia è notevolmente maggiore nel genere canadian pop rispetto al pop, siccome viene confermata l'ipotesi nulla:\n",
        "- L' energia delle canzoni del genere pop è minore rispetto a quella del genere canadian pop, dato che il valore ottenuto dal p-value è notevolmente maggiore di 0.05."
      ],
      "metadata": {
        "id": "56lE5TA8MyL_"
      }
    },
    {
      "cell_type": "markdown",
      "source": [
        "***- Valence:***"
      ],
      "metadata": {
        "id": "mVanG4N2SpMI"
      }
    },
    {
      "cell_type": "code",
      "source": [
        "t_statistic, p_value = stats.ttest_1samp(a= top50['Valence.'][top50['Genre']=='pop'], popmean= top50['Valence.'][top50['Genre']=='canadian pop'].mean(), alternative = 'greater')\n",
        "print(t_statistic)\n",
        "print(p_value)"
      ],
      "metadata": {
        "colab": {
          "base_uri": "https://localhost:8080/"
        },
        "id": "6VdpUUaO8P7b",
        "outputId": "65582470-c009-45e5-9a2f-2a6780813d22"
      },
      "execution_count": 37,
      "outputs": [
        {
          "output_type": "stream",
          "name": "stdout",
          "text": [
            "-2.716872346805644\n",
            "0.9826065130631729\n"
          ]
        }
      ]
    },
    {
      "cell_type": "code",
      "source": [
        "t_statistic, p_value = stats.ttest_1samp(a= top50['Valence.'][top50['Genre']=='pop'], popmean= top50['Valence.'][top50['Genre']=='canadian pop'].mean(), alternative = 'less')\n",
        "print(t_statistic)\n",
        "print(p_value)"
      ],
      "metadata": {
        "colab": {
          "base_uri": "https://localhost:8080/"
        },
        "id": "7xvhRPGqNwtt",
        "outputId": "444c5672-a767-4026-db75-6cf194822171"
      },
      "execution_count": 38,
      "outputs": [
        {
          "output_type": "stream",
          "name": "stdout",
          "text": [
            "-2.716872346805644\n",
            "0.017393486936827105\n"
          ]
        }
      ]
    },
    {
      "cell_type": "markdown",
      "source": [
        "La \"valenza\" della canzone è notevolmente maggiore nel genere canadian pop rispetto al pop.\n",
        "\n",
        "In questo caso possiamo apprezzare maggiormente con le due alternative questa conclusione:\n",
        "- con l'alternativa greater accettiamo l'ipotesi nulla: \n",
        "    - la valenza del genere pop è minore di quella del genere canadian pop dato che il p-value ottenuto con il t-test è notevolmente maggiore di 0.05.\n",
        "- con l'alternativa less dobbiamo scartare l'ipotesi nulla: \n",
        "  - la valenza del genere pop è maggiore di quella del genere canadian pop, dato che il p-value ottenuto con il t-test è inferiore di 0.05."
      ],
      "metadata": {
        "id": "dAkkcXP9NoCy"
      }
    },
    {
      "cell_type": "markdown",
      "source": [
        "***- Lunghezza:***"
      ],
      "metadata": {
        "id": "gouo0cQVStbj"
      }
    },
    {
      "cell_type": "code",
      "source": [
        "t_statistic, p_value = stats.ttest_1samp(a= top50['Length.'][top50['Genre']=='pop'],popmean= top50['Length.'][top50['Genre']=='canadian pop'].mean(), alternative = 'less')\n",
        "print(t_statistic)\n",
        "print(p_value)"
      ],
      "metadata": {
        "colab": {
          "base_uri": "https://localhost:8080/"
        },
        "id": "AQSnBH0B85Kd",
        "outputId": "c30ab4e8-274f-4b70-f530-549ea05edd9a"
      },
      "execution_count": 39,
      "outputs": [
        {
          "output_type": "stream",
          "name": "stdout",
          "text": [
            "0.6308601579817562\n",
            "0.7243050674426822\n"
          ]
        }
      ]
    },
    {
      "cell_type": "markdown",
      "source": [
        "Risulta che le canzoni del genere pop siano più lunghe mediamente di quelle del genere canadian pop, siccome viene confermata l'ipotesi nulla:\n",
        "- La lunghezza media delle canzoni del genere pop è maggiore rispetto a quella del genere canadian pop, dato che il valore ottenuto dal p-value è notevolmente maggiore di 0.05."
      ],
      "metadata": {
        "id": "A2VkG4zAOtNp"
      }
    },
    {
      "cell_type": "markdown",
      "source": [
        "***- Acousticness:***"
      ],
      "metadata": {
        "id": "uszeYXWjSwnR"
      }
    },
    {
      "cell_type": "code",
      "source": [
        "t_statistic, p_value = stats.ttest_1samp(a= top50['Acousticness..'][top50['Genre']=='pop'], popmean= top50['Acousticness..'][top50['Genre']=='canadian pop'].mean(), alternative = 'greater')\n",
        "print(t_statistic)\n",
        "print(p_value)"
      ],
      "metadata": {
        "colab": {
          "base_uri": "https://localhost:8080/"
        },
        "id": "WMgKWH6y9CVG",
        "outputId": "3026a616-78d6-4085-b9a6-7f2b9d6f3c63"
      },
      "execution_count": 40,
      "outputs": [
        {
          "output_type": "stream",
          "name": "stdout",
          "text": [
            "-0.5558876090713705\n",
            "0.7008053704370074\n"
          ]
        }
      ]
    },
    {
      "cell_type": "markdown",
      "source": [
        "La \"acusticità\" della canzone è notevolmente maggiore nel genere canadian pop rispetto al pop, siccome viene confermata l'ipotesi nulla:\n",
        "- L'acusticità media delle canzoni del genere pop è minore rispetto a quella del genere canadian pop, dato che il valore ottenuto dal p-value è notevolmente maggiore di 0.05."
      ],
      "metadata": {
        "id": "xgbEhnXgPVAS"
      }
    },
    {
      "cell_type": "markdown",
      "source": [
        "***- Parole differenti usate all'interno della canzone(Speechness):***"
      ],
      "metadata": {
        "id": "5et6M_AYSy7N"
      }
    },
    {
      "cell_type": "code",
      "source": [
        "t_statistic, p_value = stats.ttest_1samp(a= top50['Speechiness.'][top50['Genre']=='pop'], popmean= top50['Speechiness.'][top50['Genre']=='canadian pop'].mean(), alternative = 'greater')\n",
        "print(t_statistic)\n",
        "print(p_value)"
      ],
      "metadata": {
        "colab": {
          "base_uri": "https://localhost:8080/"
        },
        "id": "b8Gal5rwLnus",
        "outputId": "e176520a-f287-4a5f-baf5-bd5d18d766f7"
      },
      "execution_count": 41,
      "outputs": [
        {
          "output_type": "stream",
          "name": "stdout",
          "text": [
            "2.1852990447290317\n",
            "0.03576840836614951\n"
          ]
        }
      ]
    },
    {
      "cell_type": "markdown",
      "source": [
        "La media delle parole differenti usate all'interno della canzone è notevolmente minore nel genere canadian pop rispetto al pop, siccome dobbiamo rigettare l'ipotesi nulla:\n",
        "- La media delle parole differenti usate all'interno delle canzoni del genere pop è minore rispetto a quella del genere canadian pop, dato che il valore ottenuto dal p-value è minore di 0.05.\n",
        "\n",
        "***Divagazione:*** \n",
        "\n",
        "Che sia proprio questa l'arma vincente del genere pop rispetto al canadian pop?\n",
        "\n",
        "Il \"saper usare\" più termini ma riuscire a fare comunque hit da posti più alti in classifica nella top50?"
      ],
      "metadata": {
        "id": "9-6kjoRiTvmR"
      }
    },
    {
      "cell_type": "code",
      "source": [
        "t_statistic, p_value = stats.ttest_1samp(a= top50['Speechiness.'][top50['Genre']=='pop'], popmean= top50['Speechiness.'][top50['Genre']=='canadian pop'].mean(), alternative = 'less')\n",
        "print(t_statistic)\n",
        "print(p_value)"
      ],
      "metadata": {
        "colab": {
          "base_uri": "https://localhost:8080/"
        },
        "id": "dt9PfCRvVARY",
        "outputId": "038a52d0-dedb-4f35-ef3d-2c2bfca234db"
      },
      "execution_count": 42,
      "outputs": [
        {
          "output_type": "stream",
          "name": "stdout",
          "text": [
            "2.1852990447290317\n",
            "0.9642315916338505\n"
          ]
        }
      ]
    },
    {
      "cell_type": "markdown",
      "source": [
        "\n",
        "Il contro-esempio sopra riportato(t-test con alternative='less') ci mostra ancora meglio quanto detto prima, confermiamo l'ipotesi nulla:\n",
        "- La media delle parole differenti usate all'interno delle canzoni del genere pop è maggiore rispetto a quella del genere canadian pop, dato che il valore ottenuto dal p-value è notevolmente maggiore di 0.05."
      ],
      "metadata": {
        "id": "PqlmiFcGVUrF"
      }
    },
    {
      "cell_type": "markdown",
      "source": [
        "***ANALISI MACRO GENERI***"
      ],
      "metadata": {
        "id": "1qSipiE_x8xc"
      }
    },
    {
      "cell_type": "markdown",
      "source": [
        "Raggruppo ora i generi in maxi_generi: es. canadian pop viene raggruppato nel pop e cosi via.."
      ],
      "metadata": {
        "id": "_raXJew1QYfF"
      }
    },
    {
      "cell_type": "code",
      "source": [
        "genere_pop = top50[top50['Genre']=='pop']\n",
        "genere_canadian_pop = top50[top50['Genre']=='canadian pop']\n",
        "genere_panamanian = top50[top50['Genre']=='panamanian pop']\n",
        "genere_australian_pop = top50[top50['Genre']=='australian pop']\n",
        "genere_boy_band = top50[top50['Genre']=='boy band']\n",
        "maxi_genere_pop = pd.concat([genere_pop,genere_canadian_pop,genere_panamanian,genere_australian_pop,genere_boy_band],axis=0,keys=['pop', 'pop', 'pop', 'pop','pop'], names=['Genere',None]) #, ignore_index=True\n",
        "#print(len(maxi_genere_pop))\n",
        "genere_pop_house = top50[top50['Genre']=='pop house']\n",
        "genere_electropop = top50[top50['Genre']=='electropop']\n",
        "genere_dance_pop = top50[top50['Genre']=='dance pop']\n",
        "genere_edm =  top50[top50['Genre']=='edm']\n",
        "genere_brostep =  top50[top50['Genre']=='brostep']\n",
        "maxi_genere_dance = pd.concat([genere_pop_house,genere_electropop,genere_dance_pop,genere_edm,genere_brostep],axis=0,keys=['dance', 'dance', 'dance', 'dance','dance'], names=['Genere',None])\n",
        "#print(len(maxi_genere_dance))\n",
        "genere_reggaeton = top50[top50['Genre']=='reggaeton']\n",
        "genere_latin = top50[top50['Genre']=='latin']\n",
        "genere_reggaeton_flow = top50[top50['Genre']=='reggaeton flow']\n",
        "genere_r_and_b = top50[top50['Genre']=='r&b en espanol']\n",
        "maxi_genere_reggaeton = pd.concat([genere_reggaeton,genere_reggaeton_flow,genere_latin,genere_r_and_b],axis=0,keys=['reggaeton', 'reggaeton', 'reggaeton', 'reggaeton'], names=['Genere',None])\n",
        "#print(len(maxi_genere_reggaeton))\n",
        "genere_trap = top50[top50['Genre']=='trap music']\n",
        "genere_country_rap = top50[top50['Genre']=='country rap']\n",
        "genere_dfw_rap = top50[top50['Genre']=='dfw rap']\n",
        "maxi_genere_rap = pd.concat([genere_trap,genere_country_rap,genere_dfw_rap],axis=0,keys=['rap', 'rap', 'rap'], names=['Genere',None])\n",
        "#print(len(maxi_genere_rap))\n",
        "genere_atl_hip_hop = top50[top50['Genre']=='atl hip hop']\n",
        "genere_canadian_hip_hop = top50[top50['Genre']=='canadian hip hop']\n",
        "maxi_genere_disco_hip_hop = pd.concat([genere_atl_hip_hop,genere_canadian_hip_hop],axis=0,keys=['hip hop', 'hip hop'], names=['Genere',None])\n",
        "#print(len(maxi_genere_disco_hip_hop))\n",
        "genere_big_room = top50[top50['Genre']=='big room']\n",
        "genere_escape_room = top50[top50['Genre']=='escape room']\n",
        "maxi_genere_room = pd.concat([genere_big_room,genere_escape_room],axis=0,keys=['room', 'room'], names=['Genere',None])\n",
        "#print(len(maxi_genere_room))\n",
        "maxi_all = pd.concat([maxi_genere_pop,maxi_genere_dance,maxi_genere_reggaeton,maxi_genere_rap,maxi_genere_disco_hip_hop,maxi_genere_room],axis=0)\n",
        "#print(len(maxi_all))\n"
      ],
      "metadata": {
        "id": "GcfxeGBUQ_80"
      },
      "execution_count": 43,
      "outputs": []
    },
    {
      "cell_type": "markdown",
      "source": [
        "ora ho tutti i generi raggruppati in macro generi, andiamo ad estrapolarne dei dati:"
      ],
      "metadata": {
        "id": "NZ8k6jQWx6O7"
      }
    },
    {
      "cell_type": "code",
      "source": [
        "#maxi_genere_pop.plot(kind = 'bar',title = 'Numero Canzoni x Genere', fontsize = 10, figsize = (15,5))\n",
        "#maxi_all.head(50)\n",
        "plt.scatter(maxi_genere_pop['Position'],maxi_genere_pop['Popularity'])\n",
        "plt.scatter(maxi_genere_dance['Position'],maxi_genere_dance['Popularity'])\n",
        "plt.scatter(maxi_genere_reggaeton['Position'],maxi_genere_reggaeton['Popularity'])\n",
        "plt.scatter(maxi_genere_rap['Position'],maxi_genere_rap['Popularity'])\n",
        "plt.scatter(maxi_genere_disco_hip_hop['Position'],maxi_genere_disco_hip_hop['Popularity'])\n",
        "plt.scatter(maxi_genere_room['Position'],maxi_genere_room['Popularity'])"
      ],
      "metadata": {
        "colab": {
          "base_uri": "https://localhost:8080/",
          "height": 283
        },
        "id": "pXECy8KsyKYs",
        "outputId": "b9fb1113-7877-44e8-b89e-c2cabcd9823e"
      },
      "execution_count": 44,
      "outputs": [
        {
          "output_type": "execute_result",
          "data": {
            "text/plain": [
              "<matplotlib.collections.PathCollection at 0x7f5befda9f90>"
            ]
          },
          "metadata": {},
          "execution_count": 44
        },
        {
          "output_type": "display_data",
          "data": {
            "text/plain": [
              "<Figure size 432x288 with 1 Axes>"
            ],
            "image/png": "[encoded data removed]"
          },
          "metadata": {
            "needs_background": "light"
          }
        }
      ]
    },
    {
      "cell_type": "markdown",
      "source": [
        "Da questi grafici a dispersione non si evincono informazioni che gia prima non sapveamo.\n",
        "Proviamo ora ad effettuare i t-test che prima abbiamo usato per confrontare due generi dello stesso macro-genere per confronatre appunto questi macro-generi ed estrapolarne informazioni interessanti."
      ],
      "metadata": {
        "id": "K31LIEcOI_XU"
      }
    },
    {
      "cell_type": "code",
      "source": [
        "maxi_all.boxplot(column= 'Popularity', by='Genere', vert=False, fontsize = 10, figsize = (12,10))"
      ],
      "metadata": {
        "colab": {
          "base_uri": "https://localhost:8080/",
          "height": 733
        },
        "id": "fqvsprLkcoVQ",
        "outputId": "2c2d7bea-0bff-496c-d49b-b6175da23448"
      },
      "execution_count": 45,
      "outputs": [
        {
          "output_type": "stream",
          "name": "stderr",
          "text": [
            "/usr/local/lib/python3.7/dist-packages/matplotlib/cbook/__init__.py:1376: VisibleDeprecationWarning: Creating an ndarray from ragged nested sequences (which is a list-or-tuple of lists-or-tuples-or ndarrays with different lengths or shapes) is deprecated. If you meant to do this, you must specify 'dtype=object' when creating the ndarray.\n",
            "  X = np.atleast_1d(X.T if isinstance(X, np.ndarray) else np.asarray(X))\n"
          ]
        },
        {
          "output_type": "execute_result",
          "data": {
            "text/plain": [
              "<matplotlib.axes._subplots.AxesSubplot at 0x7f5befe31890>"
            ]
          },
          "metadata": {},
          "execution_count": 45
        },
        {
          "output_type": "display_data",
          "data": {
            "text/plain": [
              "<Figure size 864x720 with 1 Axes>"
            ],
            "image/png": "[encoded data removed]"
          },
          "metadata": {
            "needs_background": "light"
          }
        }
      ]
    },
    {
      "cell_type": "code",
      "source": [
        "maxi_all.boxplot(column= 'Position', by='Genere', vert=False, fontsize = 10, figsize = (12,10))"
      ],
      "metadata": {
        "colab": {
          "base_uri": "https://localhost:8080/",
          "height": 733
        },
        "id": "nJtdRaQ6dOkT",
        "outputId": "96599e6c-7e0d-45ac-c7ed-b2a7a8c7e96c"
      },
      "execution_count": 46,
      "outputs": [
        {
          "output_type": "stream",
          "name": "stderr",
          "text": [
            "/usr/local/lib/python3.7/dist-packages/matplotlib/cbook/__init__.py:1376: VisibleDeprecationWarning: Creating an ndarray from ragged nested sequences (which is a list-or-tuple of lists-or-tuples-or ndarrays with different lengths or shapes) is deprecated. If you meant to do this, you must specify 'dtype=object' when creating the ndarray.\n",
            "  X = np.atleast_1d(X.T if isinstance(X, np.ndarray) else np.asarray(X))\n"
          ]
        },
        {
          "output_type": "execute_result",
          "data": {
            "text/plain": [
              "<matplotlib.axes._subplots.AxesSubplot at 0x7f5befccaf10>"
            ]
          },
          "metadata": {},
          "execution_count": 46
        },
        {
          "output_type": "display_data",
          "data": {
            "text/plain": [
              "<Figure size 864x720 with 1 Axes>"
            ],
            "image/png": "[encoded data removed]"
          },
          "metadata": {
            "needs_background": "light"
          }
        }
      ]
    },
    {
      "cell_type": "markdown",
      "source": [
        "Esaminando questi due box plot simili a quelli effettuati su tutto il dataset direttamente,  si evince che il macro genere pop, dance e reggaeton hanno varianza di posizionamento su tutta la classifica.\n",
        "\n",
        "Però è il genere rap a dominare la classifica sia dal punto di vista della popolarità mediana del macro genere rap rispetto a quella degli altri macrogeneri presenti in classifica dato che i posizionamenti sono più altri rispetto ad esempio ai macro generi sopra elencati.\n"
      ],
      "metadata": {
        "id": "6G99IwXtdk8h"
      }
    },
    {
      "cell_type": "markdown",
      "source": [
        "Partiamo analizzando i due macrogeneri piu presenti all'interno della top50 che stiamo analizzando:\n",
        "\n",
        "Verifichiamo ora se possiamo accettare la seguente ipotesi nulla:\n",
        "\n",
        "- La popolarità media del macro genere pop è maggiore a quella del macro genere dance"
      ],
      "metadata": {
        "id": "9ZbQOPUqK4Wh"
      }
    },
    {
      "cell_type": "code",
      "source": [
        "t_statistic, p_value = stats.ttest_1samp(a= maxi_genere_pop['Popularity'], popmean= maxi_genere_dance['Popularity'].mean(), alternative='less')\n",
        "print(t_statistic)\n",
        "print(p_value)"
      ],
      "metadata": {
        "id": "Ljb3jB2DI-mC",
        "outputId": "45430001-119a-47f5-ca1f-94b4a7f7f453",
        "colab": {
          "base_uri": "https://localhost:8080/"
        }
      },
      "execution_count": 47,
      "outputs": [
        {
          "output_type": "stream",
          "name": "stdout",
          "text": [
            "-2.2160901182261306\n",
            "0.023382981648638865\n"
          ]
        }
      ]
    },
    {
      "cell_type": "markdown",
      "source": [
        "Il t-test effettuato ha riportato un p-value minore del valore di significatività e quindi bisogna rigettare l'ipotesi nulla e quindi concludere che la popolarità media del macro genere dance è maggiore rispetto a quella del macro genere pop come si poteva notare direttamente nel box plot sopra riportato.\n",
        "\n"
      ],
      "metadata": {
        "id": "MVeV_2PbMn-d"
      }
    },
    {
      "cell_type": "code",
      "source": [
        "t_statistic, p_value = stats.ttest_1samp(a= maxi_genere_pop['Popularity'], popmean= maxi_genere_rap['Popularity'].mean(), alternative='less')\n",
        "print(t_statistic)\n",
        "print(p_value)"
      ],
      "metadata": {
        "id": "PFeALAyYgAtj",
        "outputId": "d9124429-b6b7-45e6-b98e-b258936b4d1b",
        "colab": {
          "base_uri": "https://localhost:8080/"
        }
      },
      "execution_count": 48,
      "outputs": [
        {
          "output_type": "stream",
          "name": "stdout",
          "text": [
            "-4.627070431246613\n",
            "0.0002915179096207425\n"
          ]
        }
      ]
    },
    {
      "cell_type": "markdown",
      "source": [
        "Con questo t-test sopra riportato invece dimostriamo come la popolarità del macro genere rap sia maggiore rispetto a quella del macro genere pop che presenta la canzone posizionata al 1°posto in classifica. Questo dato perchè ottengo un valore del p-value ulteriormente piccolo rispetto a quello del t-test precedente ed analogamente, possiamo dire, con maggiore \"forza\" rispetto a prima, che il macro genere rap presenta canzoni mediamente più popolari in classifica rispetto al macro genere pop."
      ],
      "metadata": {
        "id": "BZHFnrNvgB1V"
      }
    },
    {
      "cell_type": "markdown",
      "source": [
        "Andiamo ora a vedere il perchè di questa dominanza di questo macro genere rap rispetto a quello pop per capire in cosa riesce \"ad arrivare di più alla gente\" e ad ottenere sia un posizionamento medio più alto sia una popolarità maggiore: potremmo anche fare ciò visualizzando ulteriori box plot per confrontare direttamente il rap con tutti gli altri macrogenere, colonna per colonna e verificare con t-test le conclusioni che estrapoleramo:"
      ],
      "metadata": {
        "id": "aRqtjIY2qxWU"
      }
    },
    {
      "cell_type": "markdown",
      "source": [
        "***- BPM:***"
      ],
      "metadata": {
        "id": "s2TRQE9B0qR8"
      }
    },
    {
      "cell_type": "code",
      "source": [
        "maxi_all.boxplot(column= 'Beats.Per.Minute', by='Genere', vert=False, fontsize = 10, figsize = (12,10))"
      ],
      "metadata": {
        "colab": {
          "base_uri": "https://localhost:8080/",
          "height": 733
        },
        "id": "6s4OzQMwrS60",
        "outputId": "05bce7bd-e230-4665-92e6-916583abf4ea"
      },
      "execution_count": 49,
      "outputs": [
        {
          "output_type": "stream",
          "name": "stderr",
          "text": [
            "/usr/local/lib/python3.7/dist-packages/matplotlib/cbook/__init__.py:1376: VisibleDeprecationWarning: Creating an ndarray from ragged nested sequences (which is a list-or-tuple of lists-or-tuples-or ndarrays with different lengths or shapes) is deprecated. If you meant to do this, you must specify 'dtype=object' when creating the ndarray.\n",
            "  X = np.atleast_1d(X.T if isinstance(X, np.ndarray) else np.asarray(X))\n"
          ]
        },
        {
          "output_type": "execute_result",
          "data": {
            "text/plain": [
              "<matplotlib.axes._subplots.AxesSubplot at 0x7f5befba1990>"
            ]
          },
          "metadata": {},
          "execution_count": 49
        },
        {
          "output_type": "display_data",
          "data": {
            "text/plain": [
              "<Figure size 864x720 with 1 Axes>"
            ],
            "image/png": "[encoded data removed]"
          },
          "metadata": {
            "needs_background": "light"
          }
        }
      ]
    },
    {
      "cell_type": "markdown",
      "source": [
        "Si riesce a vedere come il macro genere rap abbia i bpm medi maggiori rispetto a tutti gli altri macro generi."
      ],
      "metadata": {
        "id": "kWLPjGCVz6sT"
      }
    },
    {
      "cell_type": "markdown",
      "source": [
        "***- Energy, Danceability e Valence:***"
      ],
      "metadata": {
        "id": "LF9J0ZRV0rqN"
      }
    },
    {
      "cell_type": "code",
      "source": [
        "maxi_all.boxplot(column= 'Energy', by='Genere', vert=False, fontsize = 10, figsize = (12,10))"
      ],
      "metadata": {
        "colab": {
          "base_uri": "https://localhost:8080/",
          "height": 733
        },
        "id": "abwTyGRaz5ny",
        "outputId": "2414a431-8319-4de6-a738-647d4f11b79d"
      },
      "execution_count": 50,
      "outputs": [
        {
          "output_type": "stream",
          "name": "stderr",
          "text": [
            "/usr/local/lib/python3.7/dist-packages/matplotlib/cbook/__init__.py:1376: VisibleDeprecationWarning: Creating an ndarray from ragged nested sequences (which is a list-or-tuple of lists-or-tuples-or ndarrays with different lengths or shapes) is deprecated. If you meant to do this, you must specify 'dtype=object' when creating the ndarray.\n",
            "  X = np.atleast_1d(X.T if isinstance(X, np.ndarray) else np.asarray(X))\n"
          ]
        },
        {
          "output_type": "execute_result",
          "data": {
            "text/plain": [
              "<matplotlib.axes._subplots.AxesSubplot at 0x7f5befab49d0>"
            ]
          },
          "metadata": {},
          "execution_count": 50
        },
        {
          "output_type": "display_data",
          "data": {
            "text/plain": [
              "<Figure size 864x720 with 1 Axes>"
            ],
            "image/png": "[encoded data removed]"
          },
          "metadata": {
            "needs_background": "light"
          }
        }
      ]
    },
    {
      "cell_type": "code",
      "source": [
        "maxi_all.boxplot(column= 'Danceability', by='Genere', vert=False, fontsize = 10, figsize = (12,10))"
      ],
      "metadata": {
        "colab": {
          "base_uri": "https://localhost:8080/",
          "height": 733
        },
        "id": "PlsLzMeF1YEN",
        "outputId": "8b985dea-641a-418d-c1e8-9c7db8650c00"
      },
      "execution_count": 51,
      "outputs": [
        {
          "output_type": "stream",
          "name": "stderr",
          "text": [
            "/usr/local/lib/python3.7/dist-packages/matplotlib/cbook/__init__.py:1376: VisibleDeprecationWarning: Creating an ndarray from ragged nested sequences (which is a list-or-tuple of lists-or-tuples-or ndarrays with different lengths or shapes) is deprecated. If you meant to do this, you must specify 'dtype=object' when creating the ndarray.\n",
            "  X = np.atleast_1d(X.T if isinstance(X, np.ndarray) else np.asarray(X))\n"
          ]
        },
        {
          "output_type": "execute_result",
          "data": {
            "text/plain": [
              "<matplotlib.axes._subplots.AxesSubplot at 0x7f5befb90490>"
            ]
          },
          "metadata": {},
          "execution_count": 51
        },
        {
          "output_type": "display_data",
          "data": {
            "text/plain": [
              "<Figure size 864x720 with 1 Axes>"
            ],
            "image/png": "[encoded data removed]"
          },
          "metadata": {
            "needs_background": "light"
          }
        }
      ]
    },
    {
      "cell_type": "code",
      "source": [
        "maxi_all.boxplot(column= 'Valence.', by='Genere', vert=False, fontsize = 10, figsize = (12,10))"
      ],
      "metadata": {
        "colab": {
          "base_uri": "https://localhost:8080/",
          "height": 733
        },
        "id": "i9BpDzJk2Lw0",
        "outputId": "3c073cd1-3e33-4269-d864-e405b2069061"
      },
      "execution_count": 52,
      "outputs": [
        {
          "output_type": "stream",
          "name": "stderr",
          "text": [
            "/usr/local/lib/python3.7/dist-packages/matplotlib/cbook/__init__.py:1376: VisibleDeprecationWarning: Creating an ndarray from ragged nested sequences (which is a list-or-tuple of lists-or-tuples-or ndarrays with different lengths or shapes) is deprecated. If you meant to do this, you must specify 'dtype=object' when creating the ndarray.\n",
            "  X = np.atleast_1d(X.T if isinstance(X, np.ndarray) else np.asarray(X))\n"
          ]
        },
        {
          "output_type": "execute_result",
          "data": {
            "text/plain": [
              "<matplotlib.axes._subplots.AxesSubplot at 0x7f5befe79090>"
            ]
          },
          "metadata": {},
          "execution_count": 52
        },
        {
          "output_type": "display_data",
          "data": {
            "text/plain": [
              "<Figure size 864x720 with 1 Axes>"
            ],
            "image/png": "[encoded data removed]"
          },
          "metadata": {
            "needs_background": "light"
          }
        }
      ]
    },
    {
      "cell_type": "markdown",
      "source": [
        "Come si evince da questi grafici il macro genere rap non si evidenzia dagli altri rispetto all'energia, alla \"danzabilità\" della canzone e alla \"valenza\" media delle canzoni.\n",
        "\n",
        "Si nota come il macro genere rap abbia una valenza mediana media rispetto ai valori di tutti i macro generi(si piazza nel mezzo)."
      ],
      "metadata": {
        "id": "jeeyZlHM1gp0"
      }
    },
    {
      "cell_type": "markdown",
      "source": [
        "***- Lenght:***"
      ],
      "metadata": {
        "id": "5z9-k46H1JbC"
      }
    },
    {
      "cell_type": "code",
      "source": [
        "maxi_all.boxplot(column= 'Length.', by='Genere', vert=False, fontsize = 10, figsize = (12,10))"
      ],
      "metadata": {
        "colab": {
          "base_uri": "https://localhost:8080/",
          "height": 733
        },
        "id": "xpthG49G1stR",
        "outputId": "89d47d4d-9120-4a5b-98d7-60a0edde0945"
      },
      "execution_count": 53,
      "outputs": [
        {
          "output_type": "stream",
          "name": "stderr",
          "text": [
            "/usr/local/lib/python3.7/dist-packages/matplotlib/cbook/__init__.py:1376: VisibleDeprecationWarning: Creating an ndarray from ragged nested sequences (which is a list-or-tuple of lists-or-tuples-or ndarrays with different lengths or shapes) is deprecated. If you meant to do this, you must specify 'dtype=object' when creating the ndarray.\n",
            "  X = np.atleast_1d(X.T if isinstance(X, np.ndarray) else np.asarray(X))\n"
          ]
        },
        {
          "output_type": "execute_result",
          "data": {
            "text/plain": [
              "<matplotlib.axes._subplots.AxesSubplot at 0x7f5bef7e4050>"
            ]
          },
          "metadata": {},
          "execution_count": 53
        },
        {
          "output_type": "display_data",
          "data": {
            "text/plain": [
              "<Figure size 864x720 with 1 Axes>"
            ],
            "image/png": "[encoded data removed]"
          },
          "metadata": {
            "needs_background": "light"
          }
        }
      ]
    },
    {
      "cell_type": "markdown",
      "source": [
        "Si riesce a notare chiaramente dal grafico sopra riportato come il rap sia il macro genere con la durate delle canzoni minori."
      ],
      "metadata": {
        "id": "sSnpeBZ52t5r"
      }
    },
    {
      "cell_type": "markdown",
      "source": [
        "Concludendo, il macro genere rap si distingue dagli altri per:\n",
        "\n",
        "- canzoni più brevi\n",
        "- bpm\n",
        "\n",
        "Saranno mica questi i fattori che rendono le canzoni appartenenti al macro genere esaminato più popolari rispetto agli altri generi?"
      ],
      "metadata": {
        "id": "6x3x77vv3U86"
      }
    },
    {
      "cell_type": "markdown",
      "source": [
        "***Prova del VIOLIN PLOT sul DATAFRAME***"
      ],
      "metadata": {
        "id": "dH3TIujXRIc8"
      }
    },
    {
      "cell_type": "code",
      "source": [
        "fig = px.violin(maxi_all, y=\"Popularity\")\n",
        "fig.show()"
      ],
      "metadata": {
        "id": "hemIs5i1NZg9",
        "outputId": "505d4ef8-1947-4571-d27b-ceddaad09a49",
        "colab": {
          "base_uri": "https://localhost:8080/",
          "height": 542
        }
      },
      "execution_count": 54,
      "outputs": [
        {
          "output_type": "display_data",
          "data": {
            "text/html": [
              "<html>\n",
              "<head><meta charset=\"utf-8\" /></head>\n",
              "<body>\n",
              "    <div>            <script src=\"https://cdnjs.cloudflare.com/ajax/libs/mathjax/2.7.5/MathJax.js?config=TeX-AMS-MML_SVG\"></script><script type=\"text/javascript\">if (window.MathJax) {MathJax.Hub.Config({SVG: {font: \"STIX-Web\"}});}</script>                <script type=\"text/javascript\">window.PlotlyConfig = {MathJaxConfig: 'local'};</script>\n",
              "        <script src=\"https://cdn.plot.ly/plotly-2.8.3.min.js\"></script>                <div id=\"46ae25b7-ef80-4a5e-a1e9-12b7e4e96940\" class=\"plotly-graph-div\" style=\"height:525px; width:100%;\"></div>            <script type=\"text/javascript\">                                    window.PLOTLYENV=window.PLOTLYENV || {};                                    if (document.getElementById(\"46ae25b7-ef80-4a5e-a1e9-12b7e4e96940\")) {                    Plotly.newPlot(                        \"46ae25b7-ef80-4a5e-a1e9-12b7e4e96940\",                        [{\"alignmentgroup\":\"True\",\"box\":{\"visible\":false},\"hovertemplate\":\"Popularity=%{y}<extra></extra>\",\"legendgroup\":\"\",\"marker\":{\"color\":\"#636efa\"},\"name\":\"\",\"offsetgroup\":\"\",\"orientation\":\"v\",\"scalegroup\":\"True\",\"showlegend\":false,\"x0\":\" \",\"xaxis\":\"x\",\"y\":[86,84,90,88,87,84,82,79,70,87,91,83,80,91,95,89,85,86,82,89,89,78,90,87,84,88,88,88,88,93,89,92,83,90,91,91,89,88,88,92,87,91,94,91,89,92,88,89,89,91],\"y0\":\" \",\"yaxis\":\"y\",\"type\":\"violin\"}],                        {\"template\":{\"data\":{\"bar\":[{\"error_x\":{\"color\":\"#2a3f5f\"},\"error_y\":{\"color\":\"#2a3f5f\"},\"marker\":{\"line\":{\"color\":\"#E5ECF6\",\"width\":0.5},\"pattern\":{\"fillmode\":\"overlay\",\"size\":10,\"solidity\":0.2}},\"type\":\"bar\"}],\"barpolar\":[{\"marker\":{\"line\":{\"color\":\"#E5ECF6\",\"width\":0.5},\"pattern\":{\"fillmode\":\"overlay\",\"size\":10,\"solidity\":0.2}},\"type\":\"barpolar\"}],\"carpet\":[{\"aaxis\":{\"endlinecolor\":\"#2a3f5f\",\"gridcolor\":\"white\",\"linecolor\":\"white\",\"minorgridcolor\":\"white\",\"startlinecolor\":\"#2a3f5f\"},\"baxis\":{\"endlinecolor\":\"#2a3f5f\",\"gridcolor\":\"white\",\"linecolor\":\"white\",\"minorgridcolor\":\"white\",\"startlinecolor\":\"#2a3f5f\"},\"type\":\"carpet\"}],\"choropleth\":[{\"colorbar\":{\"outlinewidth\":0,\"ticks\":\"\"},\"type\":\"choropleth\"}],\"contour\":[{\"colorbar\":{\"outlinewidth\":0,\"ticks\":\"\"},\"colorscale\":[[0.0,\"#0d0887\"],[0.1111111111111111,\"#46039f\"],[0.2222222222222222,\"#7201a8\"],[0.3333333333333333,\"#9c179e\"],[0.4444444444444444,\"#bd3786\"],[0.5555555555555556,\"#d8576b\"],[0.6666666666666666,\"#ed7953\"],[0.7777777777777778,\"#fb9f3a\"],[0.8888888888888888,\"#fdca26\"],[1.0,\"#f0f921\"]],\"type\":\"contour\"}],\"contourcarpet\":[{\"colorbar\":{\"outlinewidth\":0,\"ticks\":\"\"},\"type\":\"contourcarpet\"}],\"heatmap\":[{\"colorbar\":{\"outlinewidth\":0,\"ticks\":\"\"},\"colorscale\":[[0.0,\"#0d0887\"],[0.1111111111111111,\"#46039f\"],[0.2222222222222222,\"#7201a8\"],[0.3333333333333333,\"#9c179e\"],[0.4444444444444444,\"#bd3786\"],[0.5555555555555556,\"#d8576b\"],[0.6666666666666666,\"#ed7953\"],[0.7777777777777778,\"#fb9f3a\"],[0.8888888888888888,\"#fdca26\"],[1.0,\"#f0f921\"]],\"type\":\"heatmap\"}],\"heatmapgl\":[{\"colorbar\":{\"outlinewidth\":0,\"ticks\":\"\"},\"colorscale\":[[0.0,\"#0d0887\"],[0.1111111111111111,\"#46039f\"],[0.2222222222222222,\"#7201a8\"],[0.3333333333333333,\"#9c179e\"],[0.4444444444444444,\"#bd3786\"],[0.5555555555555556,\"#d8576b\"],[0.6666666666666666,\"#ed7953\"],[0.7777777777777778,\"#fb9f3a\"],[0.8888888888888888,\"#fdca26\"],[1.0,\"#f0f921\"]],\"type\":\"heatmapgl\"}],\"histogram\":[{\"marker\":{\"pattern\":{\"fillmode\":\"overlay\",\"size\":10,\"solidity\":0.2}},\"type\":\"histogram\"}],\"histogram2d\":[{\"colorbar\":{\"outlinewidth\":0,\"ticks\":\"\"},\"colorscale\":[[0.0,\"#0d0887\"],[0.1111111111111111,\"#46039f\"],[0.2222222222222222,\"#7201a8\"],[0.3333333333333333,\"#9c179e\"],[0.4444444444444444,\"#bd3786\"],[0.5555555555555556,\"#d8576b\"],[0.6666666666666666,\"#ed7953\"],[0.7777777777777778,\"#fb9f3a\"],[0.8888888888888888,\"#fdca26\"],[1.0,\"#f0f921\"]],\"type\":\"histogram2d\"}],\"histogram2dcontour\":[{\"colorbar\":{\"outlinewidth\":0,\"ticks\":\"\"},\"colorscale\":[[0.0,\"#0d0887\"],[0.1111111111111111,\"#46039f\"],[0.2222222222222222,\"#7201a8\"],[0.3333333333333333,\"#9c179e\"],[0.4444444444444444,\"#bd3786\"],[0.5555555555555556,\"#d8576b\"],[0.6666666666666666,\"#ed7953\"],[0.7777777777777778,\"#fb9f3a\"],[0.8888888888888888,\"#fdca26\"],[1.0,\"#f0f921\"]],\"type\":\"histogram2dcontour\"}],\"mesh3d\":[{\"colorbar\":{\"outlinewidth\":0,\"ticks\":\"\"},\"type\":\"mesh3d\"}],\"parcoords\":[{\"line\":{\"colorbar\":{\"outlinewidth\":0,\"ticks\":\"\"}},\"type\":\"parcoords\"}],\"pie\":[{\"automargin\":true,\"type\":\"pie\"}],\"scatter\":[{\"marker\":{\"colorbar\":{\"outlinewidth\":0,\"ticks\":\"\"}},\"type\":\"scatter\"}],\"scatter3d\":[{\"line\":{\"colorbar\":{\"outlinewidth\":0,\"ticks\":\"\"}},\"marker\":{\"colorbar\":{\"outlinewidth\":0,\"ticks\":\"\"}},\"type\":\"scatter3d\"}],\"scattercarpet\":[{\"marker\":{\"colorbar\":{\"outlinewidth\":0,\"ticks\":\"\"}},\"type\":\"scattercarpet\"}],\"scattergeo\":[{\"marker\":{\"colorbar\":{\"outlinewidth\":0,\"ticks\":\"\"}},\"type\":\"scattergeo\"}],\"scattergl\":[{\"marker\":{\"colorbar\":{\"outlinewidth\":0,\"ticks\":\"\"}},\"type\":\"scattergl\"}],\"scattermapbox\":[{\"marker\":{\"colorbar\":{\"outlinewidth\":0,\"ticks\":\"\"}},\"type\":\"scattermapbox\"}],\"scatterpolar\":[{\"marker\":{\"colorbar\":{\"outlinewidth\":0,\"ticks\":\"\"}},\"type\":\"scatterpolar\"}],\"scatterpolargl\":[{\"marker\":{\"colorbar\":{\"outlinewidth\":0,\"ticks\":\"\"}},\"type\":\"scatterpolargl\"}],\"scatterternary\":[{\"marker\":{\"colorbar\":{\"outlinewidth\":0,\"ticks\":\"\"}},\"type\":\"scatterternary\"}],\"surface\":[{\"colorbar\":{\"outlinewidth\":0,\"ticks\":\"\"},\"colorscale\":[[0.0,\"#0d0887\"],[0.1111111111111111,\"#46039f\"],[0.2222222222222222,\"#7201a8\"],[0.3333333333333333,\"#9c179e\"],[0.4444444444444444,\"#bd3786\"],[0.5555555555555556,\"#d8576b\"],[0.6666666666666666,\"#ed7953\"],[0.7777777777777778,\"#fb9f3a\"],[0.8888888888888888,\"#fdca26\"],[1.0,\"#f0f921\"]],\"type\":\"surface\"}],\"table\":[{\"cells\":{\"fill\":{\"color\":\"#EBF0F8\"},\"line\":{\"color\":\"white\"}},\"header\":{\"fill\":{\"color\":\"#C8D4E3\"},\"line\":{\"color\":\"white\"}},\"type\":\"table\"}]},\"layout\":{\"annotationdefaults\":{\"arrowcolor\":\"#2a3f5f\",\"arrowhead\":0,\"arrowwidth\":1},\"autotypenumbers\":\"strict\",\"coloraxis\":{\"colorbar\":{\"outlinewidth\":0,\"ticks\":\"\"}},\"colorscale\":{\"diverging\":[[0,\"#8e0152\"],[0.1,\"#c51b7d\"],[0.2,\"#de77ae\"],[0.3,\"#f1b6da\"],[0.4,\"#fde0ef\"],[0.5,\"#f7f7f7\"],[0.6,\"#e6f5d0\"],[0.7,\"#b8e186\"],[0.8,\"#7fbc41\"],[0.9,\"#4d9221\"],[1,\"#276419\"]],\"sequential\":[[0.0,\"#0d0887\"],[0.1111111111111111,\"#46039f\"],[0.2222222222222222,\"#7201a8\"],[0.3333333333333333,\"#9c179e\"],[0.4444444444444444,\"#bd3786\"],[0.5555555555555556,\"#d8576b\"],[0.6666666666666666,\"#ed7953\"],[0.7777777777777778,\"#fb9f3a\"],[0.8888888888888888,\"#fdca26\"],[1.0,\"#f0f921\"]],\"sequentialminus\":[[0.0,\"#0d0887\"],[0.1111111111111111,\"#46039f\"],[0.2222222222222222,\"#7201a8\"],[0.3333333333333333,\"#9c179e\"],[0.4444444444444444,\"#bd3786\"],[0.5555555555555556,\"#d8576b\"],[0.6666666666666666,\"#ed7953\"],[0.7777777777777778,\"#fb9f3a\"],[0.8888888888888888,\"#fdca26\"],[1.0,\"#f0f921\"]]},\"colorway\":[\"#636efa\",\"#EF553B\",\"#00cc96\",\"#ab63fa\",\"#FFA15A\",\"#19d3f3\",\"#FF6692\",\"#B6E880\",\"#FF97FF\",\"#FECB52\"],\"font\":{\"color\":\"#2a3f5f\"},\"geo\":{\"bgcolor\":\"white\",\"lakecolor\":\"white\",\"landcolor\":\"#E5ECF6\",\"showlakes\":true,\"showland\":true,\"subunitcolor\":\"white\"},\"hoverlabel\":{\"align\":\"left\"},\"hovermode\":\"closest\",\"mapbox\":{\"style\":\"light\"},\"paper_bgcolor\":\"white\",\"plot_bgcolor\":\"#E5ECF6\",\"polar\":{\"angularaxis\":{\"gridcolor\":\"white\",\"linecolor\":\"white\",\"ticks\":\"\"},\"bgcolor\":\"#E5ECF6\",\"radialaxis\":{\"gridcolor\":\"white\",\"linecolor\":\"white\",\"ticks\":\"\"}},\"scene\":{\"xaxis\":{\"backgroundcolor\":\"#E5ECF6\",\"gridcolor\":\"white\",\"gridwidth\":2,\"linecolor\":\"white\",\"showbackground\":true,\"ticks\":\"\",\"zerolinecolor\":\"white\"},\"yaxis\":{\"backgroundcolor\":\"#E5ECF6\",\"gridcolor\":\"white\",\"gridwidth\":2,\"linecolor\":\"white\",\"showbackground\":true,\"ticks\":\"\",\"zerolinecolor\":\"white\"},\"zaxis\":{\"backgroundcolor\":\"#E5ECF6\",\"gridcolor\":\"white\",\"gridwidth\":2,\"linecolor\":\"white\",\"showbackground\":true,\"ticks\":\"\",\"zerolinecolor\":\"white\"}},\"shapedefaults\":{\"line\":{\"color\":\"#2a3f5f\"}},\"ternary\":{\"aaxis\":{\"gridcolor\":\"white\",\"linecolor\":\"white\",\"ticks\":\"\"},\"baxis\":{\"gridcolor\":\"white\",\"linecolor\":\"white\",\"ticks\":\"\"},\"bgcolor\":\"#E5ECF6\",\"caxis\":{\"gridcolor\":\"white\",\"linecolor\":\"white\",\"ticks\":\"\"}},\"title\":{\"x\":0.05},\"xaxis\":{\"automargin\":true,\"gridcolor\":\"white\",\"linecolor\":\"white\",\"ticks\":\"\",\"title\":{\"standoff\":15},\"zerolinecolor\":\"white\",\"zerolinewidth\":2},\"yaxis\":{\"automargin\":true,\"gridcolor\":\"white\",\"linecolor\":\"white\",\"ticks\":\"\",\"title\":{\"standoff\":15},\"zerolinecolor\":\"white\",\"zerolinewidth\":2}}},\"xaxis\":{\"anchor\":\"y\",\"domain\":[0.0,1.0]},\"yaxis\":{\"anchor\":\"x\",\"domain\":[0.0,1.0],\"title\":{\"text\":\"Popularity\"}},\"legend\":{\"tracegroupgap\":0},\"margin\":{\"t\":60},\"violinmode\":\"group\"},                        {\"responsive\": true}                    ).then(function(){\n",
              "                            \n",
              "var gd = document.getElementById('46ae25b7-ef80-4a5e-a1e9-12b7e4e96940');\n",
              "var x = new MutationObserver(function (mutations, observer) {{\n",
              "        var display = window.getComputedStyle(gd).display;\n",
              "        if (!display || display === 'none') {{\n",
              "            console.log([gd, 'removed!']);\n",
              "            Plotly.purge(gd);\n",
              "            observer.disconnect();\n",
              "        }}\n",
              "}});\n",
              "\n",
              "// Listen for the removal of the full notebook cells\n",
              "var notebookContainer = gd.closest('#notebook-container');\n",
              "if (notebookContainer) {{\n",
              "    x.observe(notebookContainer, {childList: true});\n",
              "}}\n",
              "\n",
              "// Listen for the clearing of the current output cell\n",
              "var outputEl = gd.closest('.output');\n",
              "if (outputEl) {{\n",
              "    x.observe(outputEl, {childList: true});\n",
              "}}\n",
              "\n",
              "                        })                };                            </script>        </div>\n",
              "</body>\n",
              "</html>"
            ]
          },
          "metadata": {}
        }
      ]
    },
    {
      "cell_type": "code",
      "source": [
        "fig = px.violin(maxi_all, y=\"Popularity\", x=\"Genre\", box=True, points=\"all\", hover_data=maxi_all.columns)\n",
        "fig.show()"
      ],
      "metadata": {
        "id": "_veGREefQW0h",
        "outputId": "310e033c-9994-41ff-a514-adfa4c634ee3",
        "colab": {
          "base_uri": "https://localhost:8080/",
          "height": 542
        }
      },
      "execution_count": 55,
      "outputs": [
        {
          "output_type": "display_data",
          "data": {
            "text/html": [
              "<html>\n",
              "<head><meta charset=\"utf-8\" /></head>\n",
              "<body>\n",
              "    <div>            <script src=\"https://cdnjs.cloudflare.com/ajax/libs/mathjax/2.7.5/MathJax.js?config=TeX-AMS-MML_SVG\"></script><script type=\"text/javascript\">if (window.MathJax) {MathJax.Hub.Config({SVG: {font: \"STIX-Web\"}});}</script>                <script type=\"text/javascript\">window.PlotlyConfig = {MathJaxConfig: 'local'};</script>\n",
              "        <script src=\"https://cdn.plot.ly/plotly-2.8.3.min.js\"></script>                <div id=\"346a1651-481c-4264-be5e-95b23b8260c3\" class=\"plotly-graph-div\" style=\"height:525px; width:100%;\"></div>            <script type=\"text/javascript\">                                    window.PLOTLYENV=window.PLOTLYENV || {};                                    if (document.getElementById(\"346a1651-481c-4264-be5e-95b23b8260c3\")) {                    Plotly.newPlot(                        \"346a1651-481c-4264-be5e-95b23b8260c3\",                        [{\"alignmentgroup\":\"True\",\"box\":{\"visible\":true},\"customdata\":[[4,\"Beautiful People (feat. Khalid)\",\"Ed Sheeran\",93,65,64,-8,8,55,198,12,19],[6,\"I Don't Care (with Justin Bieber)\",\"Ed Sheeran\",102,68,80,-5,9,84,220,9,4],[8,\"How Do You Sleep?\",\"Sam Smith\",111,68,48,-5,8,35,202,15,9],[13,\"Someone You Loved\",\"Lewis Capaldi\",110,41,50,-6,11,45,182,75,3],[38,\"Antisocial (with Travis Scott)\",\"Ed Sheeran\",152,82,72,-5,36,91,162,13,5],[44,\"Talk\",\"Khalid\",136,40,90,-9,6,35,198,5,13],[50,\"Cross Me (feat. Chance the Rapper & PnB Rock)\",\"Ed Sheeran\",95,79,75,-6,7,61,206,21,12],[1,\"Senorita\",\"Shawn Mendes\",117,55,76,-6,8,75,191,4,3],[26,\"If I Can't Have You\",\"Shawn Mendes\",124,82,69,-4,13,87,191,49,6],[14,\"Otro Trago - Remix\",\"Sech\",176,79,73,-2,6,76,288,7,20],[37,\"Otro Trago\",\"Sech\",176,70,75,-5,11,62,226,14,34],[27,\"Dance Monkey\",\"Tones and I\",98,59,82,-6,18,54,210,69,10],[39,\"Sucker\",\"Jonas Brothers\",138,73,84,-5,11,95,181,4,6],[21,\"Piece Of Your Heart\",\"MEDUZA\",124,74,68,-7,7,63,153,4,3],[10,\"bad guy\",\"Billie Eilish\",135,43,70,-11,10,56,194,33,38],[25,\"bad guy (with Justin Bieber)\",\"Billie Eilish\",135,45,67,-11,12,68,195,25,30],[3,\"boyfriend (with Social House)\",\"Ariana Grande\",190,80,40,-4,16,70,186,12,46],[12,\"Loco Contigo (feat. J. Balvin & Tyga)\",\"DJ Snake\",96,71,82,-4,15,38,185,28,7],[16,\"No Guidance (feat. Drake)\",\"Chris Brown\",93,45,70,-7,16,14,261,12,15],[32,\"7 rings\",\"Ariana Grande\",140,32,78,-11,9,33,179,59,33],[35,\"Never Really Over\",\"Katy Perry\",100,88,77,-5,32,39,224,19,6],[40,\"fuck, i'm lonely (with Anne-Marie) - from 13 Reasons Why: Season 3\",\"Lauv\",95,56,81,-6,6,68,199,48,7],[42,\"You Need To Calm Down\",\"Taylor Swift\",85,68,77,-6,7,73,171,1,5],[43,\"Shallow\",\"Lady Gaga\",96,39,57,-6,23,32,216,37,3],[31,\"Takeaway\",\"The Chainsmokers\",85,51,29,-8,10,36,210,12,4],[41,\"Higher Love\",\"Kygo\",104,68,69,-7,10,40,228,2,3],[49,\"Call You Mine\",\"The Chainsmokers\",104,70,59,-6,41,50,218,23,3],[46,\"One Thing Right\",\"Marshmello\",88,62,66,-2,58,44,182,7,5],[48,\"Happier\",\"Marshmello\",100,79,69,-3,17,67,214,19,5],[11,\"Callaita\",\"Bad Bunny\",176,62,61,-5,24,24,251,60,31],[33,\"11 PM\",\"Maluma\",96,71,78,-5,9,68,176,22,28],[2,\"China\",\"Anuel AA\",105,81,79,-4,8,61,302,8,9],[23,\"No Me Conoce - Remix\",\"Jhay Cortez\",92,79,81,-4,9,58,309,14,7],[17,\"LA CANCION\",\"J Balvin\",176,65,75,-6,11,43,243,15,32],[24,\"Soltera - Remix\",\"Lunay\",92,78,80,-4,44,80,266,36,4],[29,\"Con Calma\",\"Daddy Yankee\",94,86,74,-3,6,66,193,11,6],[30,\"QUE PRETENDES\",\"J Balvin\",93,79,64,-4,36,94,222,3,25],[47,\"El perdon\",\"Nicky Jam\",176,75,67,-4,8,80,202,24,6],[45,\"Con Altura\",\"ROSALIA\",98,69,88,-4,5,75,162,39,12],[7,\"Ransom\",\"Lil Tecca\",180,64,75,-6,7,23,131,2,29],[9,\"Old Town Road - Remix\",\"Lil Nas X\",136,62,88,-6,11,64,157,5,10],[22,\"Panini\",\"Lil Nas X\",154,59,70,-6,12,48,115,34,8],[5,\"Goodbyes (Feat. Young Thug)\",\"Post Malone\",150,65,58,-4,11,18,175,45,7],[18,\"Sunflower - Spider-Man: Into the Spider-Verse\",\"Post Malone\",90,48,76,-6,7,91,158,56,5],[34,\"The London (feat. J. Cole & Travis Scott)\",\"Young Thug\",98,59,80,-7,13,18,200,2,15],[15,\"Money In The Grave (Drake ft. Rick Ross)\",\"Drake\",101,50,83,-4,12,10,205,10,5],[19,\"Lalala\",\"Y2K\",130,39,84,-8,14,50,161,18,8],[28,\"It's You\",\"Ali Gatie\",96,46,73,-7,19,40,213,37,3],[36,\"Summer Days (feat. Macklemore & Patrick Stump of Fall Out Boy)\",\"Martin Garrix\",114,72,66,-7,14,32,164,18,6],[20,\"Truth Hurts\",\"Lizzo\",158,62,72,-3,12,41,173,11,11]],\"hovertemplate\":\"Genre=%{x}<br>Popularity=%{y}<br>Position=%{customdata[0]}<br>Track.Name=%{customdata[1]}<br>Artist.Name=%{customdata[2]}<br>Beats.Per.Minute=%{customdata[3]}<br>Energy=%{customdata[4]}<br>Danceability=%{customdata[5]}<br>Loudness..dB..=%{customdata[6]}<br>Liveness=%{customdata[7]}<br>Valence.=%{customdata[8]}<br>Length.=%{customdata[9]}<br>Acousticness..=%{customdata[10]}<br>Speechiness.=%{customdata[11]}<extra></extra>\",\"legendgroup\":\"\",\"marker\":{\"color\":\"#636efa\"},\"name\":\"\",\"offsetgroup\":\"\",\"orientation\":\"v\",\"points\":\"all\",\"scalegroup\":\"True\",\"showlegend\":false,\"x\":[\"pop\",\"pop\",\"pop\",\"pop\",\"pop\",\"pop\",\"pop\",\"canadian pop\",\"canadian pop\",\"panamanian pop\",\"panamanian pop\",\"australian pop\",\"boy band\",\"pop house\",\"electropop\",\"electropop\",\"dance pop\",\"dance pop\",\"dance pop\",\"dance pop\",\"dance pop\",\"dance pop\",\"dance pop\",\"dance pop\",\"edm\",\"edm\",\"edm\",\"brostep\",\"brostep\",\"reggaeton\",\"reggaeton\",\"reggaeton flow\",\"reggaeton flow\",\"latin\",\"latin\",\"latin\",\"latin\",\"latin\",\"r&b en espanol\",\"trap music\",\"country rap\",\"country rap\",\"dfw rap\",\"dfw rap\",\"atl hip hop\",\"canadian hip hop\",\"canadian hip hop\",\"canadian hip hop\",\"big room\",\"escape room\"],\"x0\":\" \",\"xaxis\":\"x\",\"y\":[86,84,90,88,87,84,82,79,70,87,91,83,80,91,95,89,85,86,82,89,89,78,90,87,84,88,88,88,88,93,89,92,83,90,91,91,89,88,88,92,87,91,94,91,89,92,88,89,89,91],\"y0\":\" \",\"yaxis\":\"y\",\"type\":\"violin\"}],                        {\"template\":{\"data\":{\"bar\":[{\"error_x\":{\"color\":\"#2a3f5f\"},\"error_y\":{\"color\":\"#2a3f5f\"},\"marker\":{\"line\":{\"color\":\"#E5ECF6\",\"width\":0.5},\"pattern\":{\"fillmode\":\"overlay\",\"size\":10,\"solidity\":0.2}},\"type\":\"bar\"}],\"barpolar\":[{\"marker\":{\"line\":{\"color\":\"#E5ECF6\",\"width\":0.5},\"pattern\":{\"fillmode\":\"overlay\",\"size\":10,\"solidity\":0.2}},\"type\":\"barpolar\"}],\"carpet\":[{\"aaxis\":{\"endlinecolor\":\"#2a3f5f\",\"gridcolor\":\"white\",\"linecolor\":\"white\",\"minorgridcolor\":\"white\",\"startlinecolor\":\"#2a3f5f\"},\"baxis\":{\"endlinecolor\":\"#2a3f5f\",\"gridcolor\":\"white\",\"linecolor\":\"white\",\"minorgridcolor\":\"white\",\"startlinecolor\":\"#2a3f5f\"},\"type\":\"carpet\"}],\"choropleth\":[{\"colorbar\":{\"outlinewidth\":0,\"ticks\":\"\"},\"type\":\"choropleth\"}],\"contour\":[{\"colorbar\":{\"outlinewidth\":0,\"ticks\":\"\"},\"colorscale\":[[0.0,\"#0d0887\"],[0.1111111111111111,\"#46039f\"],[0.2222222222222222,\"#7201a8\"],[0.3333333333333333,\"#9c179e\"],[0.4444444444444444,\"#bd3786\"],[0.5555555555555556,\"#d8576b\"],[0.6666666666666666,\"#ed7953\"],[0.7777777777777778,\"#fb9f3a\"],[0.8888888888888888,\"#fdca26\"],[1.0,\"#f0f921\"]],\"type\":\"contour\"}],\"contourcarpet\":[{\"colorbar\":{\"outlinewidth\":0,\"ticks\":\"\"},\"type\":\"contourcarpet\"}],\"heatmap\":[{\"colorbar\":{\"outlinewidth\":0,\"ticks\":\"\"},\"colorscale\":[[0.0,\"#0d0887\"],[0.1111111111111111,\"#46039f\"],[0.2222222222222222,\"#7201a8\"],[0.3333333333333333,\"#9c179e\"],[0.4444444444444444,\"#bd3786\"],[0.5555555555555556,\"#d8576b\"],[0.6666666666666666,\"#ed7953\"],[0.7777777777777778,\"#fb9f3a\"],[0.8888888888888888,\"#fdca26\"],[1.0,\"#f0f921\"]],\"type\":\"heatmap\"}],\"heatmapgl\":[{\"colorbar\":{\"outlinewidth\":0,\"ticks\":\"\"},\"colorscale\":[[0.0,\"#0d0887\"],[0.1111111111111111,\"#46039f\"],[0.2222222222222222,\"#7201a8\"],[0.3333333333333333,\"#9c179e\"],[0.4444444444444444,\"#bd3786\"],[0.5555555555555556,\"#d8576b\"],[0.6666666666666666,\"#ed7953\"],[0.7777777777777778,\"#fb9f3a\"],[0.8888888888888888,\"#fdca26\"],[1.0,\"#f0f921\"]],\"type\":\"heatmapgl\"}],\"histogram\":[{\"marker\":{\"pattern\":{\"fillmode\":\"overlay\",\"size\":10,\"solidity\":0.2}},\"type\":\"histogram\"}],\"histogram2d\":[{\"colorbar\":{\"outlinewidth\":0,\"ticks\":\"\"},\"colorscale\":[[0.0,\"#0d0887\"],[0.1111111111111111,\"#46039f\"],[0.2222222222222222,\"#7201a8\"],[0.3333333333333333,\"#9c179e\"],[0.4444444444444444,\"#bd3786\"],[0.5555555555555556,\"#d8576b\"],[0.6666666666666666,\"#ed7953\"],[0.7777777777777778,\"#fb9f3a\"],[0.8888888888888888,\"#fdca26\"],[1.0,\"#f0f921\"]],\"type\":\"histogram2d\"}],\"histogram2dcontour\":[{\"colorbar\":{\"outlinewidth\":0,\"ticks\":\"\"},\"colorscale\":[[0.0,\"#0d0887\"],[0.1111111111111111,\"#46039f\"],[0.2222222222222222,\"#7201a8\"],[0.3333333333333333,\"#9c179e\"],[0.4444444444444444,\"#bd3786\"],[0.5555555555555556,\"#d8576b\"],[0.6666666666666666,\"#ed7953\"],[0.7777777777777778,\"#fb9f3a\"],[0.8888888888888888,\"#fdca26\"],[1.0,\"#f0f921\"]],\"type\":\"histogram2dcontour\"}],\"mesh3d\":[{\"colorbar\":{\"outlinewidth\":0,\"ticks\":\"\"},\"type\":\"mesh3d\"}],\"parcoords\":[{\"line\":{\"colorbar\":{\"outlinewidth\":0,\"ticks\":\"\"}},\"type\":\"parcoords\"}],\"pie\":[{\"automargin\":true,\"type\":\"pie\"}],\"scatter\":[{\"marker\":{\"colorbar\":{\"outlinewidth\":0,\"ticks\":\"\"}},\"type\":\"scatter\"}],\"scatter3d\":[{\"line\":{\"colorbar\":{\"outlinewidth\":0,\"ticks\":\"\"}},\"marker\":{\"colorbar\":{\"outlinewidth\":0,\"ticks\":\"\"}},\"type\":\"scatter3d\"}],\"scattercarpet\":[{\"marker\":{\"colorbar\":{\"outlinewidth\":0,\"ticks\":\"\"}},\"type\":\"scattercarpet\"}],\"scattergeo\":[{\"marker\":{\"colorbar\":{\"outlinewidth\":0,\"ticks\":\"\"}},\"type\":\"scattergeo\"}],\"scattergl\":[{\"marker\":{\"colorbar\":{\"outlinewidth\":0,\"ticks\":\"\"}},\"type\":\"scattergl\"}],\"scattermapbox\":[{\"marker\":{\"colorbar\":{\"outlinewidth\":0,\"ticks\":\"\"}},\"type\":\"scattermapbox\"}],\"scatterpolar\":[{\"marker\":{\"colorbar\":{\"outlinewidth\":0,\"ticks\":\"\"}},\"type\":\"scatterpolar\"}],\"scatterpolargl\":[{\"marker\":{\"colorbar\":{\"outlinewidth\":0,\"ticks\":\"\"}},\"type\":\"scatterpolargl\"}],\"scatterternary\":[{\"marker\":{\"colorbar\":{\"outlinewidth\":0,\"ticks\":\"\"}},\"type\":\"scatterternary\"}],\"surface\":[{\"colorbar\":{\"outlinewidth\":0,\"ticks\":\"\"},\"colorscale\":[[0.0,\"#0d0887\"],[0.1111111111111111,\"#46039f\"],[0.2222222222222222,\"#7201a8\"],[0.3333333333333333,\"#9c179e\"],[0.4444444444444444,\"#bd3786\"],[0.5555555555555556,\"#d8576b\"],[0.6666666666666666,\"#ed7953\"],[0.7777777777777778,\"#fb9f3a\"],[0.8888888888888888,\"#fdca26\"],[1.0,\"#f0f921\"]],\"type\":\"surface\"}],\"table\":[{\"cells\":{\"fill\":{\"color\":\"#EBF0F8\"},\"line\":{\"color\":\"white\"}},\"header\":{\"fill\":{\"color\":\"#C8D4E3\"},\"line\":{\"color\":\"white\"}},\"type\":\"table\"}]},\"layout\":{\"annotationdefaults\":{\"arrowcolor\":\"#2a3f5f\",\"arrowhead\":0,\"arrowwidth\":1},\"autotypenumbers\":\"strict\",\"coloraxis\":{\"colorbar\":{\"outlinewidth\":0,\"ticks\":\"\"}},\"colorscale\":{\"diverging\":[[0,\"#8e0152\"],[0.1,\"#c51b7d\"],[0.2,\"#de77ae\"],[0.3,\"#f1b6da\"],[0.4,\"#fde0ef\"],[0.5,\"#f7f7f7\"],[0.6,\"#e6f5d0\"],[0.7,\"#b8e186\"],[0.8,\"#7fbc41\"],[0.9,\"#4d9221\"],[1,\"#276419\"]],\"sequential\":[[0.0,\"#0d0887\"],[0.1111111111111111,\"#46039f\"],[0.2222222222222222,\"#7201a8\"],[0.3333333333333333,\"#9c179e\"],[0.4444444444444444,\"#bd3786\"],[0.5555555555555556,\"#d8576b\"],[0.6666666666666666,\"#ed7953\"],[0.7777777777777778,\"#fb9f3a\"],[0.8888888888888888,\"#fdca26\"],[1.0,\"#f0f921\"]],\"sequentialminus\":[[0.0,\"#0d0887\"],[0.1111111111111111,\"#46039f\"],[0.2222222222222222,\"#7201a8\"],[0.3333333333333333,\"#9c179e\"],[0.4444444444444444,\"#bd3786\"],[0.5555555555555556,\"#d8576b\"],[0.6666666666666666,\"#ed7953\"],[0.7777777777777778,\"#fb9f3a\"],[0.8888888888888888,\"#fdca26\"],[1.0,\"#f0f921\"]]},\"colorway\":[\"#636efa\",\"#EF553B\",\"#00cc96\",\"#ab63fa\",\"#FFA15A\",\"#19d3f3\",\"#FF6692\",\"#B6E880\",\"#FF97FF\",\"#FECB52\"],\"font\":{\"color\":\"#2a3f5f\"},\"geo\":{\"bgcolor\":\"white\",\"lakecolor\":\"white\",\"landcolor\":\"#E5ECF6\",\"showlakes\":true,\"showland\":true,\"subunitcolor\":\"white\"},\"hoverlabel\":{\"align\":\"left\"},\"hovermode\":\"closest\",\"mapbox\":{\"style\":\"light\"},\"paper_bgcolor\":\"white\",\"plot_bgcolor\":\"#E5ECF6\",\"polar\":{\"angularaxis\":{\"gridcolor\":\"white\",\"linecolor\":\"white\",\"ticks\":\"\"},\"bgcolor\":\"#E5ECF6\",\"radialaxis\":{\"gridcolor\":\"white\",\"linecolor\":\"white\",\"ticks\":\"\"}},\"scene\":{\"xaxis\":{\"backgroundcolor\":\"#E5ECF6\",\"gridcolor\":\"white\",\"gridwidth\":2,\"linecolor\":\"white\",\"showbackground\":true,\"ticks\":\"\",\"zerolinecolor\":\"white\"},\"yaxis\":{\"backgroundcolor\":\"#E5ECF6\",\"gridcolor\":\"white\",\"gridwidth\":2,\"linecolor\":\"white\",\"showbackground\":true,\"ticks\":\"\",\"zerolinecolor\":\"white\"},\"zaxis\":{\"backgroundcolor\":\"#E5ECF6\",\"gridcolor\":\"white\",\"gridwidth\":2,\"linecolor\":\"white\",\"showbackground\":true,\"ticks\":\"\",\"zerolinecolor\":\"white\"}},\"shapedefaults\":{\"line\":{\"color\":\"#2a3f5f\"}},\"ternary\":{\"aaxis\":{\"gridcolor\":\"white\",\"linecolor\":\"white\",\"ticks\":\"\"},\"baxis\":{\"gridcolor\":\"white\",\"linecolor\":\"white\",\"ticks\":\"\"},\"bgcolor\":\"#E5ECF6\",\"caxis\":{\"gridcolor\":\"white\",\"linecolor\":\"white\",\"ticks\":\"\"}},\"title\":{\"x\":0.05},\"xaxis\":{\"automargin\":true,\"gridcolor\":\"white\",\"linecolor\":\"white\",\"ticks\":\"\",\"title\":{\"standoff\":15},\"zerolinecolor\":\"white\",\"zerolinewidth\":2},\"yaxis\":{\"automargin\":true,\"gridcolor\":\"white\",\"linecolor\":\"white\",\"ticks\":\"\",\"title\":{\"standoff\":15},\"zerolinecolor\":\"white\",\"zerolinewidth\":2}}},\"xaxis\":{\"anchor\":\"y\",\"domain\":[0.0,1.0],\"title\":{\"text\":\"Genre\"}},\"yaxis\":{\"anchor\":\"x\",\"domain\":[0.0,1.0],\"title\":{\"text\":\"Popularity\"}},\"legend\":{\"tracegroupgap\":0},\"margin\":{\"t\":60},\"violinmode\":\"group\"},                        {\"responsive\": true}                    ).then(function(){\n",
              "                            \n",
              "var gd = document.getElementById('346a1651-481c-4264-be5e-95b23b8260c3');\n",
              "var x = new MutationObserver(function (mutations, observer) {{\n",
              "        var display = window.getComputedStyle(gd).display;\n",
              "        if (!display || display === 'none') {{\n",
              "            console.log([gd, 'removed!']);\n",
              "            Plotly.purge(gd);\n",
              "            observer.disconnect();\n",
              "        }}\n",
              "}});\n",
              "\n",
              "// Listen for the removal of the full notebook cells\n",
              "var notebookContainer = gd.closest('#notebook-container');\n",
              "if (notebookContainer) {{\n",
              "    x.observe(notebookContainer, {childList: true});\n",
              "}}\n",
              "\n",
              "// Listen for the clearing of the current output cell\n",
              "var outputEl = gd.closest('.output');\n",
              "if (outputEl) {{\n",
              "    x.observe(outputEl, {childList: true});\n",
              "}}\n",
              "\n",
              "                        })                };                            </script>        </div>\n",
              "</body>\n",
              "</html>"
            ]
          },
          "metadata": {}
        }
      ]
    },
    {
      "cell_type": "markdown",
      "source": [
        "***APPRENDIMENTO SUPERVISIONATO***"
      ],
      "metadata": {
        "id": "gLeI5baGUPKI"
      }
    },
    {
      "cell_type": "markdown",
      "metadata": {
        "id": "biPCqZkL9g1F"
      },
      "source": [
        "Quale modello di machine learning possiamo utilizzare per stimare una funzione che preveda la popolarità (quale caratteristica la indica?) in funzione di uno o piu' degli altri descrittori a disposizione?\n",
        "\n",
        "Dobbiamo determinare una relazione tra predittori e una variabile di risposta (che possiamo considerare continua). \n",
        "\n",
        "Proviamo ad utilizzare un modello di **Regressione lineare**. \n",
        "\n",
        "Cominciamo considerando soltanto la caratteristica *Beats.Per.Minute*. \n",
        "\n",
        "Esercizio:\n",
        "\n",
        " * Usiamo una tecnica di visualizzazione opportuna per verificare se esiste una qualche relazione tra Speechiness e Popolarità.\n",
        "\n"
      ]
    },
    {
      "cell_type": "code",
      "execution_count": 56,
      "metadata": {
        "id": "fJRRLaov-GaD",
        "colab": {
          "base_uri": "https://localhost:8080/",
          "height": 297
        },
        "outputId": "db2728b9-e0ff-4fe5-f82a-ea213c5729ac"
      },
      "outputs": [
        {
          "output_type": "execute_result",
          "data": {
            "text/plain": [
              "<matplotlib.axes._subplots.AxesSubplot at 0x7f5beea46b90>"
            ]
          },
          "metadata": {},
          "execution_count": 56
        },
        {
          "output_type": "display_data",
          "data": {
            "text/plain": [
              "<Figure size 432x288 with 1 Axes>"
            ],
            "image/png": "[encoded data removed]"
          },
          "metadata": {
            "needs_background": "light"
          }
        }
      ],
      "source": [
        "#codice qui \n",
        "maxi_all.plot(kind= 'scatter', x='Speechiness.', y='Popularity', alpha=0.2)"
      ]
    },
    {
      "cell_type": "code",
      "source": [
        "maxi_all[['Popularity', 'Speechiness.']].corr()"
      ],
      "metadata": {
        "id": "3rK3C4rYefdf",
        "outputId": "1585986b-c2d9-4af7-82b6-b15e1ff62115",
        "colab": {
          "base_uri": "https://localhost:8080/",
          "height": 112
        }
      },
      "execution_count": 57,
      "outputs": [
        {
          "output_type": "execute_result",
          "data": {
            "text/plain": [
              "              Popularity  Speechiness.\n",
              "Popularity      1.000000      0.238553\n",
              "Speechiness.    0.238553      1.000000"
            ],
            "text/html": [
              "\n",
              "  <div id=\"df-47eb0ade-75f4-4d82-b404-dce6f02f73b1\">\n",
              "    <div class=\"colab-df-container\">\n",
              "      <div>\n",
              "<style scoped>\n",
              "    .dataframe tbody tr th:only-of-type {\n",
              "        vertical-align: middle;\n",
              "    }\n",
              "\n",
              "    .dataframe tbody tr th {\n",
              "        vertical-align: top;\n",
              "    }\n",
              "\n",
              "    .dataframe thead th {\n",
              "        text-align: right;\n",
              "    }\n",
              "</style>\n",
              "<table border=\"1\" class=\"dataframe\">\n",
              "  <thead>\n",
              "    <tr style=\"text-align: right;\">\n",
              "      <th></th>\n",
              "      <th>Popularity</th>\n",
              "      <th>Speechiness.</th>\n",
              "    </tr>\n",
              "  </thead>\n",
              "  <tbody>\n",
              "    <tr>\n",
              "      <th>Popularity</th>\n",
              "      <td>1.000000</td>\n",
              "      <td>0.238553</td>\n",
              "    </tr>\n",
              "    <tr>\n",
              "      <th>Speechiness.</th>\n",
              "      <td>0.238553</td>\n",
              "      <td>1.000000</td>\n",
              "    </tr>\n",
              "  </tbody>\n",
              "</table>\n",
              "</div>\n",
              "      <button class=\"colab-df-convert\" onclick=\"convertToInteractive('df-47eb0ade-75f4-4d82-b404-dce6f02f73b1')\"\n",
              "              title=\"Convert this dataframe to an interactive table.\"\n",
              "              style=\"display:none;\">\n",
              "        \n",
              "  <svg xmlns=\"http://www.w3.org/2000/svg\" height=\"24px\"viewBox=\"0 0 24 24\"\n",
              "       width=\"24px\">\n",
              "    <path d=\"M0 0h24v24H0V0z\" fill=\"none\"/>\n",
              "    <path d=\"M18.56 5.44l.94 2.06.94-2.06 2.06-.94-2.06-.94-.94-2.06-.94 2.06-2.06.94zm-11 1L8.5 8.5l.94-2.06 2.06-.94-2.06-.94L8.5 2.5l-.94 2.06-2.06.94zm10 10l.94 2.06.94-2.06 2.06-.94-2.06-.94-.94-2.06-.94 2.06-2.06.94z\"/><path d=\"M17.41 7.96l-1.37-1.37c-.4-.4-.92-.59-1.43-.59-.52 0-1.04.2-1.43.59L10.3 9.45l-7.72 7.72c-.78.78-.78 2.05 0 2.83L4 21.41c.39.39.9.59 1.41.59.51 0 1.02-.2 1.41-.59l7.78-7.78 2.81-2.81c.8-.78.8-2.07 0-2.86zM5.41 20L4 18.59l7.72-7.72 1.47 1.35L5.41 20z\"/>\n",
              "  </svg>\n",
              "      </button>\n",
              "      \n",
              "  <style>\n",
              "    .colab-df-container {\n",
              "      display:flex;\n",
              "      flex-wrap:wrap;\n",
              "      gap: 12px;\n",
              "    }\n",
              "\n",
              "    .colab-df-convert {\n",
              "      background-color: #E8F0FE;\n",
              "      border: none;\n",
              "      border-radius: 50%;\n",
              "      cursor: pointer;\n",
              "      display: none;\n",
              "      fill: #1967D2;\n",
              "      height: 32px;\n",
              "      padding: 0 0 0 0;\n",
              "      width: 32px;\n",
              "    }\n",
              "\n",
              "    .colab-df-convert:hover {\n",
              "      background-color: #E2EBFA;\n",
              "      box-shadow: 0px 1px 2px rgba(60, 64, 67, 0.3), 0px 1px 3px 1px rgba(60, 64, 67, 0.15);\n",
              "      fill: #174EA6;\n",
              "    }\n",
              "\n",
              "    [theme=dark] .colab-df-convert {\n",
              "      background-color: #3B4455;\n",
              "      fill: #D2E3FC;\n",
              "    }\n",
              "\n",
              "    [theme=dark] .colab-df-convert:hover {\n",
              "      background-color: #434B5C;\n",
              "      box-shadow: 0px 1px 3px 1px rgba(0, 0, 0, 0.15);\n",
              "      filter: drop-shadow(0px 1px 2px rgba(0, 0, 0, 0.3));\n",
              "      fill: #FFFFFF;\n",
              "    }\n",
              "  </style>\n",
              "\n",
              "      <script>\n",
              "        const buttonEl =\n",
              "          document.querySelector('#df-47eb0ade-75f4-4d82-b404-dce6f02f73b1 button.colab-df-convert');\n",
              "        buttonEl.style.display =\n",
              "          google.colab.kernel.accessAllowed ? 'block' : 'none';\n",
              "\n",
              "        async function convertToInteractive(key) {\n",
              "          const element = document.querySelector('#df-47eb0ade-75f4-4d82-b404-dce6f02f73b1');\n",
              "          const dataTable =\n",
              "            await google.colab.kernel.invokeFunction('convertToInteractive',\n",
              "                                                     [key], {});\n",
              "          if (!dataTable) return;\n",
              "\n",
              "          const docLinkHtml = 'Like what you see? Visit the ' +\n",
              "            '<a target=\"_blank\" href=https://colab.research.google.com/notebooks/data_table.ipynb>data table notebook</a>'\n",
              "            + ' to learn more about interactive tables.';\n",
              "          element.innerHTML = '';\n",
              "          dataTable['output_type'] = 'display_data';\n",
              "          await google.colab.output.renderOutput(dataTable, element);\n",
              "          const docLink = document.createElement('div');\n",
              "          docLink.innerHTML = docLinkHtml;\n",
              "          element.appendChild(docLink);\n",
              "        }\n",
              "      </script>\n",
              "    </div>\n",
              "  </div>\n",
              "  "
            ]
          },
          "metadata": {},
          "execution_count": 57
        }
      ]
    },
    {
      "cell_type": "markdown",
      "source": [
        "I dati non sono correlati fortemente quindi il machine lerning risente di questo ed otterremo predizioni meno precise in questo caso."
      ],
      "metadata": {
        "id": "W007etebe0p1"
      }
    },
    {
      "cell_type": "markdown",
      "source": [
        "Proviamo comunque ed implementiamo e alleniamo un modello di regressione lineare. \n",
        "Ricordate che dobbiamo dividere il dataset a disposizione in due diversi gruppi:\n",
        "\n",
        "* Training Set -> porzione di dati che utilizziamo per il training del nostro modello di regressione lineare;\n",
        "\n",
        "* Validation Set -> porzione di dati che utilizziamo per valutare il nostro modello precedentemente allenato.\n",
        "\n",
        "Non esiste un unico modo per dividere il dataset in training e test, normalmente, si utilizza un random split con una certa percentuale (per esempio 70/30 per training/test).\n",
        "\n",
        "\n",
        "Usiamo la libreria scikit-learn, lo schema che dovrete usare e' il seguente:\n",
        "\n",
        "1. Definire le caratteristiche da usare;\n",
        "2. Definire X e y; \n",
        "3. Dividere il dataset in training e test; \n",
        "4. Istanziare un oggetto della classe LinearRegression;\n",
        "5. Allenare usando la funzione fit invocata sull'oggetto istanziato (passando il training set!);\n",
        "6. Visualizzare i coefficienti imparati: useremo gli attributi *intercept_=* e *coef_* sull'oggetto ottenuto come output della funzione fit.\n",
        "\n",
        "In scikit-learn esiste la funzione:\n",
        "\n",
        "    X_train, X_valid, y_train, y_valid = train_test_split(X, y)\n",
        "\n",
        "che effettua per noi lo splitting."
      ],
      "metadata": {
        "id": "7TRwc9k8addx"
      }
    },
    {
      "cell_type": "code",
      "source": [
        "#features = ['Beats.Per.Minute','Energy','Danceability','Loudness..dB..','Liveness','Valence.','Length.','Acousticness..','Speechiness.']\n",
        "#features_x = ['Beats.Per.Minute','Energy','Danceability','Loudness..dB..','Speechiness.']\n",
        "#features_y = ['Liveness','Valence.','Length.','Acousticness..','Popularity']\n",
        "features_x = ['Speechiness.']\n",
        "features_y = ['Popularity']\n",
        "#codice qui \n",
        "x = maxi_all[features_x]\n",
        "y = maxi_all[features_y]\n",
        "X_train, X_valid, y_train, y_valid = train_test_split(x, y, test_size = 0.3)\n",
        "\n",
        "from sklearn.linear_model import LinearRegression\n",
        "\n",
        "regressor = LinearRegression()\n",
        "lin_reg = regressor.fit(X_train, y_train)\n",
        "\n",
        "print('intercept:', lin_reg.intercept_)\n",
        "print('coefficient:', lin_reg.coef_)\n",
        "\n",
        "plt.scatter(X_train, y_train, alpha = 0.2)\n",
        "\n",
        "y_hat = X_train*lin_reg.coef_ + lin_reg.intercept_\n",
        "plt.plot(X_train, y_hat, color='r')"
      ],
      "metadata": {
        "id": "hkBRhfyibEo2",
        "outputId": "4e98a035-5e49-4ea7-d1da-15b62ce2f2a3",
        "colab": {
          "base_uri": "https://localhost:8080/",
          "height": 319
        }
      },
      "execution_count": 58,
      "outputs": [
        {
          "output_type": "stream",
          "name": "stdout",
          "text": [
            "intercept: [85.44778674]\n",
            "coefficient: [[0.17721146]]\n"
          ]
        },
        {
          "output_type": "execute_result",
          "data": {
            "text/plain": [
              "[<matplotlib.lines.Line2D at 0x7f5bee5f3d50>]"
            ]
          },
          "metadata": {},
          "execution_count": 58
        },
        {
          "output_type": "display_data",
          "data": {
            "text/plain": [
              "<Figure size 432x288 with 1 Axes>"
            ],
            "image/png": "[encoded data removed]"
          },
          "metadata": {
            "needs_background": "light"
          }
        }
      ]
    },
    {
      "cell_type": "code",
      "source": [
        "correlated_features_to_popularity = ['Beats.Per.Minute','Liveness','Speechiness.','Popularity']\n",
        "sb.heatmap(maxi_all[correlated_features_to_popularity].corr(), annot=True)"
      ],
      "metadata": {
        "id": "lXRvu4cIRp3N",
        "outputId": "57bae3d7-a4e1-4944-8e2e-4ebc7a3e9b7b",
        "colab": {
          "base_uri": "https://localhost:8080/",
          "height": 287
        }
      },
      "execution_count": 59,
      "outputs": [
        {
          "output_type": "execute_result",
          "data": {
            "text/plain": [
              "<matplotlib.axes._subplots.AxesSubplot at 0x7f5bee9a4a90>"
            ]
          },
          "metadata": {},
          "execution_count": 59
        },
        {
          "output_type": "display_data",
          "data": {
            "text/plain": [
              "<Figure size 432x288 with 2 Axes>"
            ],
            "image/png": "[encoded data removed]"
          },
          "metadata": {
            "needs_background": "light"
          }
        }
      ]
    },
    {
      "cell_type": "markdown",
      "source": [
        "Da questo grafico si evince come questo non sia un problema di REGRESSIONE LINEARE dato che si potrebbe pensare ad un problema di classificazione in due classi di appartenenza per i data:\n",
        "- Popolarità alta(sopra questa linea rossa del grafico sopra riportato)\n",
        "- Popolarità bassa(sotto...)"
      ],
      "metadata": {
        "id": "3Ltv00d2bEaN"
      }
    },
    {
      "cell_type": "markdown",
      "source": [
        "Cerchiamo quindi di risponderci alla domanda: si riesce a predire la popolarità di una canzone a seconda di attributi che arrivano come input?\n",
        "\n",
        "Prima di tutto prendiamoci solo le features più o meno correlate con la popolarità(escludendo quindi quelle negative)"
      ],
      "metadata": {
        "id": "knWmWX0rRg7h"
      }
    },
    {
      "cell_type": "markdown",
      "source": [
        "**VERSIONE UFFICIALE PROBLEMA DI CLASSIFICAZIONE**"
      ],
      "metadata": {
        "id": "IBG3t0-Luu71"
      }
    },
    {
      "cell_type": "code",
      "source": [
        "from sklearn.metrics import silhouette_samples, silhouette_score\n",
        "from sklearn.cluster import KMeans\n",
        "from sklearn import preprocessing\n",
        "import random\n",
        "\n",
        "def silhouette(x):\n",
        "    silhouette_avg = []\n",
        "    for i in range(2, 22):\n",
        "        kmeans = KMeans(n_clusters = i, max_iter = 20, random_state = 0)\n",
        "        cluster_labels = kmeans.fit_predict(x)\n",
        "        silhouette_avg.append(silhouette_score(x, cluster_labels))\n",
        "\n",
        "    # The silhouette_score gives the average value for all the samples.\n",
        "    # This gives a perspective into the density and separation of the formed\n",
        "    # clusters\n",
        "\n",
        "    plt.plot(range(2, 22), silhouette_avg,'-o')\n",
        "    plt.title('The silhouette method')\n",
        "    plt.xlabel('Number of clusters')\n",
        "    plt.ylabel('silhouette coefficient') #within cluster sum of squares\n",
        "    plt.show()"
      ],
      "metadata": {
        "id": "PRv4ho-zYuT9"
      },
      "execution_count": 60,
      "outputs": []
    },
    {
      "cell_type": "code",
      "source": [
        "def return_distances(x,centroids):\n",
        "  distances = np.zeros((x.shape[0],len(centroids)))\n",
        "  for i in range(0, x.shape[0]):\n",
        "    for j in range(0,len(centroids)):\n",
        "        distances[i,j] = np.linalg.norm(x[i]-centroids[j])\n",
        "\n",
        "  return distances"
      ],
      "metadata": {
        "id": "lQweuflQpPm9"
      },
      "execution_count": 61,
      "outputs": []
    },
    {
      "cell_type": "code",
      "source": [
        "def k_means(X,max_iter,num_clusters):\n",
        "    centroids = np.zeros((num_clusters,X.shape[1]),dtype='float')\n",
        "    for i in range(0,num_clusters):\n",
        "        for j in range(0,X.shape[1]):\n",
        "            centroids[i,j]=random.uniform(np.min(X[:,j]),np.max(X[:,j]))\n",
        "\n",
        "    #classico kmeans\n",
        "    for i in range(0,max_iter):\n",
        "        distances = return_distances(X,centroids)\n",
        "        y_pred = np.argmin(distances,axis=1)\n",
        "        for c in range(0,len(centroids)):\n",
        "                centroids[c] = np.mean(X[y_pred==c],axis=0)\n",
        "               \n",
        "    return y_pred,centroids "
      ],
      "metadata": {
        "id": "I8uu9bVMMPBU"
      },
      "execution_count": 62,
      "outputs": []
    },
    {
      "cell_type": "code",
      "source": [
        "genere=np.unique(maxi_all['Genre'])\n",
        "#print(len(genere))\n",
        "features = ['Beats.Per.Minute','Energy','Danceability','Loudness..dB..','Liveness','Valence.','Length.','Acousticness..','Speechiness.','Popularity']"
      ],
      "metadata": {
        "id": "E7gJynoixDxu"
      },
      "execution_count": 63,
      "outputs": []
    },
    {
      "cell_type": "markdown",
      "source": [
        "Tutti i generi differenti sono u"
      ],
      "metadata": {
        "id": "riZxBmvw0clK"
      }
    },
    {
      "cell_type": "code",
      "source": [
        "X=maxi_all[features]\n",
        "X = np.asarray(X)"
      ],
      "metadata": {
        "id": "WQGYSoo70BbV"
      },
      "execution_count": 64,
      "outputs": []
    },
    {
      "cell_type": "code",
      "source": [
        "scaler = preprocessing.StandardScaler().fit(X)\n",
        "X = scaler.transform(X)"
      ],
      "metadata": {
        "id": "QDeljADm0Knx"
      },
      "execution_count": 65,
      "outputs": []
    },
    {
      "cell_type": "code",
      "source": [
        "color = ['r','b','y','g','c','m','k','#877666']\n",
        "\n",
        "kmeans=KMeans(n_clusters=6, random_state=0).fit(X)\n",
        "y=kmeans.labels_\n",
        "for i in range(0,6):\n",
        "    plt.scatter(X[np.where(y==i),0],X[np.where(y==i),1], color = color[i])"
      ],
      "metadata": {
        "id": "lLZicE6x0OIk",
        "outputId": "50c551cb-f081-4e72-c6dd-a8dfce4109b6",
        "colab": {
          "base_uri": "https://localhost:8080/",
          "height": 265
        }
      },
      "execution_count": 66,
      "outputs": [
        {
          "output_type": "display_data",
          "data": {
            "text/plain": [
              "<Figure size 432x288 with 1 Axes>"
            ],
            "image/png": "[encoded data removed]"
          },
          "metadata": {
            "needs_background": "light"
          }
        }
      ]
    },
    {
      "cell_type": "markdown",
      "source": [
        "Provando ad effettuare il problema di classficazione utilizzando 6 cluster, tanti quanti i macro-generi, non viene il risultato sperato e/o comunque i cluster risultano organizzati in modo non correlato."
      ],
      "metadata": {
        "id": "drdtSOGW1gaf"
      }
    },
    {
      "cell_type": "code",
      "source": [
        " #i valori presenti dentro ad ognuno di questo y == i sono dei valori associati alle canzoni che sono state messi nei cluster da 0 a i. \n",
        "#Dopo la virgola invece c'è il valore di quelle caznoni nei cluster per l'8° features\n",
        "#BPM_CLUSTERS = np.concatenate((X[np.where(y == 1),0], X[np.where(y == 2),0],X[np.where(y == 3),0],X[np.where(y == 4),0],X[np.where(y == 5),0]), axis=0, out=None)"
      ],
      "metadata": {
        "id": "LC1B7I-o4XZh"
      },
      "execution_count": 67,
      "outputs": []
    },
    {
      "cell_type": "code",
      "source": [
        "silhouette(X)"
      ],
      "metadata": {
        "id": "pDAH25av1CJw",
        "outputId": "11936b69-da61-4494-84e4-90720926102b",
        "colab": {
          "base_uri": "https://localhost:8080/",
          "height": 295
        }
      },
      "execution_count": 68,
      "outputs": [
        {
          "output_type": "display_data",
          "data": {
            "text/plain": [
              "<Figure size 432x288 with 1 Axes>"
            ],
            "image/png": "[encoded data removed]"
          },
          "metadata": {
            "needs_background": "light"
          }
        }
      ]
    },
    {
      "cell_type": "markdown",
      "source": [
        "Con le features utilizzate, grazie alla silhouette possiamo esaminare come l'uso di 6 cluster(numero di macro_generi differenti) restituisca il risultato migliore però comunque il coefficente di silhouette restituito è notevolmente basso quindi non si può risolvere questo problema di classificazione: data una canzone con tot. caratteristiche assegnarle al cluster corrispondente al suo genere o al genere che più gli si addice(assegnare un genere ad una canzone che ancora non ce l'ha ma ha tutte le caratteristiche a disposizione).\n",
        "\n",
        "Proviamo a rieffettuarlo utilizzando features differenti, che escludano caratteristiche difficili da avere ad un lancio ipotetico della canzone(come ad esempio la popolarità)."
      ],
      "metadata": {
        "id": "YH9_CfDo2Nmy"
      }
    },
    {
      "cell_type": "code",
      "source": [
        "kmeans=KMeans(n_clusters=8, random_state=0).fit(X)\n",
        "y=kmeans.labels_\n",
        "for i in range(0,8):\n",
        "    plt.scatter(X[np.where(y==i),0],X[np.where(y==i),2], color = color[i])\n",
        "    #quindi qui sto visualizzando i grafici a dispersione di tutto i cluster però solo di due caratteristiche: BPM e Danceability"
      ],
      "metadata": {
        "id": "mPbeSQH_3FPD",
        "outputId": "592dc617-3afa-4d71-a9cc-3a2c1117c95b",
        "colab": {
          "base_uri": "https://localhost:8080/",
          "height": 265
        }
      },
      "execution_count": 69,
      "outputs": [
        {
          "output_type": "display_data",
          "data": {
            "text/plain": [
              "<Figure size 432x288 with 1 Axes>"
            ],
            "image/png": "[encoded data removed]"
          },
          "metadata": {
            "needs_background": "light"
          }
        }
      ]
    },
    {
      "cell_type": "markdown",
      "source": [
        "In questo caso non si riesce comunque a risolvere il problema di classificazione come si può notare da questo grafico a dispersione ottenuto tra queste due features a confronto e non sono riconoscibili cluster in modo semplice e immediato(sono tutti molto mischiati).\n",
        "\n",
        "Anche in questo caso proviamo a partire analizzando l'uso di 6 cluster e vediamo \"cosa ci dice\" invece la silhouette."
      ],
      "metadata": {
        "id": "23qy2XzY8unN"
      }
    },
    {
      "cell_type": "code",
      "source": [
        "features = ['Beats.Per.Minute','Energy','Danceability','Loudness..dB..','Liveness','Valence.','Length.','Acousticness..','Speechiness.']\n",
        "X=maxi_all[features]\n",
        "X = np.asarray(X)\n",
        "scaler = preprocessing.StandardScaler().fit(X)\n",
        "X = scaler.transform(X)"
      ],
      "metadata": {
        "id": "2YCRmpAO9inz"
      },
      "execution_count": 70,
      "outputs": []
    },
    {
      "cell_type": "code",
      "source": [
        "kmeans=KMeans(n_clusters=6, random_state=0).fit(X)\n",
        "y=kmeans.labels_\n",
        "for i in range(0,6):\n",
        "    plt.scatter(X[np.where(y==i),0],X[np.where(y==i),1], color = color[i])"
      ],
      "metadata": {
        "id": "c2f0O1UA9rnM",
        "outputId": "ab71e068-0182-4c86-cb71-fa1d84d508e7",
        "colab": {
          "base_uri": "https://localhost:8080/",
          "height": 265
        }
      },
      "execution_count": 71,
      "outputs": [
        {
          "output_type": "display_data",
          "data": {
            "text/plain": [
              "<Figure size 432x288 with 1 Axes>"
            ],
            "image/png": "[encoded data removed]"
          },
          "metadata": {
            "needs_background": "light"
          }
        }
      ]
    },
    {
      "cell_type": "code",
      "source": [
        "silhouette(X)"
      ],
      "metadata": {
        "id": "UygPhnNZ9v8c",
        "outputId": "5753dfcb-d13a-4ecd-b982-6b9a8f000338",
        "colab": {
          "base_uri": "https://localhost:8080/",
          "height": 295
        }
      },
      "execution_count": 72,
      "outputs": [
        {
          "output_type": "display_data",
          "data": {
            "text/plain": [
              "<Figure size 432x288 with 1 Axes>"
            ],
            "image/png": "[encoded data removed]"
          },
          "metadata": {
            "needs_background": "light"
          }
        }
      ]
    },
    {
      "cell_type": "markdown",
      "source": [
        "Analizzando la silhouette ottenuta capiamo come l'uso del problema di classificazione non possa essere ridotto al macro_genere ma direttamente al genere stesso dto che ci consiglia di usare 20 cluster e il n° di generi è 21."
      ],
      "metadata": {
        "id": "p0mRjbya-yha"
      }
    },
    {
      "cell_type": "code",
      "source": [
        "kmeans=KMeans(n_clusters=20, random_state=0).fit(X)\n",
        "y=kmeans.labels_\n",
        "for i in range(0,20):\n",
        "    plt.scatter(X[np.where(y==i),6],X[np.where(y==i),8])"
      ],
      "metadata": {
        "id": "zn6XhqKp-_Iy",
        "outputId": "2197136f-762a-48ab-896d-2d8612152e4c",
        "colab": {
          "base_uri": "https://localhost:8080/",
          "height": 265
        }
      },
      "execution_count": 73,
      "outputs": [
        {
          "output_type": "display_data",
          "data": {
            "text/plain": [
              "<Figure size 432x288 with 1 Axes>"
            ],
            "image/png": "[encoded data removed]"
          },
          "metadata": {
            "needs_background": "light"
          }
        }
      ]
    },
    {
      "cell_type": "markdown",
      "source": [
        "Anche se si effettua il confronto dei clusters per ogni features(modificando il numero dopo la virgola nella visualizzazione del grafico a dispersione) non si riesce a rendere efficente questo problema di classificazione.\n",
        "\n",
        "Questo comunque non ci stupisce proprio grazie all'analisi dei dati:\n",
        "- i dati non risultano essere correlati/scorrelati eccessivamente l'uno dall'altro, quindi la suddivisione in cluster non risulta efficente se effettuata su un gruppo di features cosi elevato.\n",
        "- il grafico della silhouette mostra subito come sia basso il coefficente di silhouette ottenuto nel tentare di risolvere questo problema utilizzando la maggior parte delle feature.\n",
        "\n",
        "Andiamo quindi a provare a dimiuire le features coinvolte cercando di prendere quelle che risultano essere più correlate tra loro, andando quindi ad utilizzare anche i dati che abbiamo ricavato dall'inizio di quest'analisi sul dataset contenente la top50 globale di spotify(proviamo sempre ad effettuare una prova, prima di visualizzare la silhouette, con 6 cluster(sempre il numero di macro_generi delle analisi precedenti))."
      ],
      "metadata": {
        "id": "cM11yHhq_E4X"
      }
    },
    {
      "cell_type": "code",
      "source": [
        "maxi_all.corr()"
      ],
      "metadata": {
        "id": "dWTwx4i8DW8-",
        "outputId": "711b46a8-56f6-4a88-8c62-d363db9d60e4",
        "colab": {
          "base_uri": "https://localhost:8080/",
          "height": 394
        }
      },
      "execution_count": 74,
      "outputs": [
        {
          "output_type": "execute_result",
          "data": {
            "text/plain": [
              "                  Position  Beats.Per.Minute    Energy  Danceability  \\\n",
              "Position          1.000000         -0.259193  0.102649      0.122691   \n",
              "Beats.Per.Minute -0.259193          1.000000  0.043756     -0.094183   \n",
              "Energy            0.102649          0.043756  1.000000      0.018254   \n",
              "Danceability      0.122691         -0.094183  0.018254      1.000000   \n",
              "Loudness..dB..    0.011914          0.017016  0.670794      0.016255   \n",
              "Liveness          0.270659         -0.167286  0.162768     -0.149636   \n",
              "Valence.          0.137329         -0.011586  0.438820      0.172829   \n",
              "Length.          -0.065844         -0.139288  0.224677     -0.000185   \n",
              "Acousticness..   -0.015993         -0.031450 -0.339892     -0.098165   \n",
              "Speechiness.     -0.257506          0.557052 -0.089860     -0.103472   \n",
              "Popularity       -0.160680          0.196097 -0.080295     -0.071413   \n",
              "\n",
              "                  Loudness..dB..  Liveness  Valence.   Length.  \\\n",
              "Position                0.011914  0.270659  0.137329 -0.065844   \n",
              "Beats.Per.Minute        0.017016 -0.167286 -0.011586 -0.139288   \n",
              "Energy                  0.670794  0.162768  0.438820  0.224677   \n",
              "Danceability            0.016255 -0.149636  0.172829 -0.000185   \n",
              "Loudness..dB..          1.000000  0.258652  0.237614  0.219219   \n",
              "Liveness                0.258652  1.000000  0.016123  0.131782   \n",
              "Valence.                0.237614  0.016123  1.000000 -0.017782   \n",
              "Length.                 0.219219  0.131782 -0.017782  1.000000   \n",
              "Acousticness..         -0.138300  0.021328 -0.052323 -0.076293   \n",
              "Speechiness.           -0.272213 -0.125286 -0.053242  0.046755   \n",
              "Popularity             -0.043085  0.092564 -0.317752 -0.087639   \n",
              "\n",
              "                  Acousticness..  Speechiness.  Popularity  \n",
              "Position               -0.015993     -0.257506   -0.160680  \n",
              "Beats.Per.Minute       -0.031450      0.557052    0.196097  \n",
              "Energy                 -0.339892     -0.089860   -0.080295  \n",
              "Danceability           -0.098165     -0.103472   -0.071413  \n",
              "Loudness..dB..         -0.138300     -0.272213   -0.043085  \n",
              "Liveness                0.021328     -0.125286    0.092564  \n",
              "Valence.               -0.052323     -0.053242   -0.317752  \n",
              "Length.                -0.076293      0.046755   -0.087639  \n",
              "Acousticness..          1.000000      0.008293   -0.034684  \n",
              "Speechiness.            0.008293      1.000000    0.238553  \n",
              "Popularity             -0.034684      0.238553    1.000000  "
            ],
            "text/html": [
              "\n",
              "  <div id=\"df-d3e3ddcd-8c22-4136-872b-8adbedf8745b\">\n",
              "    <div class=\"colab-df-container\">\n",
              "      <div>\n",
              "<style scoped>\n",
              "    .dataframe tbody tr th:only-of-type {\n",
              "        vertical-align: middle;\n",
              "    }\n",
              "\n",
              "    .dataframe tbody tr th {\n",
              "        vertical-align: top;\n",
              "    }\n",
              "\n",
              "    .dataframe thead th {\n",
              "        text-align: right;\n",
              "    }\n",
              "</style>\n",
              "<table border=\"1\" class=\"dataframe\">\n",
              "  <thead>\n",
              "    <tr style=\"text-align: right;\">\n",
              "      <th></th>\n",
              "      <th>Position</th>\n",
              "      <th>Beats.Per.Minute</th>\n",
              "      <th>Energy</th>\n",
              "      <th>Danceability</th>\n",
              "      <th>Loudness..dB..</th>\n",
              "      <th>Liveness</th>\n",
              "      <th>Valence.</th>\n",
              "      <th>Length.</th>\n",
              "      <th>Acousticness..</th>\n",
              "      <th>Speechiness.</th>\n",
              "      <th>Popularity</th>\n",
              "    </tr>\n",
              "  </thead>\n",
              "  <tbody>\n",
              "    <tr>\n",
              "      <th>Position</th>\n",
              "      <td>1.000000</td>\n",
              "      <td>-0.259193</td>\n",
              "      <td>0.102649</td>\n",
              "      <td>0.122691</td>\n",
              "      <td>0.011914</td>\n",
              "      <td>0.270659</td>\n",
              "      <td>0.137329</td>\n",
              "      <td>-0.065844</td>\n",
              "      <td>-0.015993</td>\n",
              "      <td>-0.257506</td>\n",
              "      <td>-0.160680</td>\n",
              "    </tr>\n",
              "    <tr>\n",
              "      <th>Beats.Per.Minute</th>\n",
              "      <td>-0.259193</td>\n",
              "      <td>1.000000</td>\n",
              "      <td>0.043756</td>\n",
              "      <td>-0.094183</td>\n",
              "      <td>0.017016</td>\n",
              "      <td>-0.167286</td>\n",
              "      <td>-0.011586</td>\n",
              "      <td>-0.139288</td>\n",
              "      <td>-0.031450</td>\n",
              "      <td>0.557052</td>\n",
              "      <td>0.196097</td>\n",
              "    </tr>\n",
              "    <tr>\n",
              "      <th>Energy</th>\n",
              "      <td>0.102649</td>\n",
              "      <td>0.043756</td>\n",
              "      <td>1.000000</td>\n",
              "      <td>0.018254</td>\n",
              "      <td>0.670794</td>\n",
              "      <td>0.162768</td>\n",
              "      <td>0.438820</td>\n",
              "      <td>0.224677</td>\n",
              "      <td>-0.339892</td>\n",
              "      <td>-0.089860</td>\n",
              "      <td>-0.080295</td>\n",
              "    </tr>\n",
              "    <tr>\n",
              "      <th>Danceability</th>\n",
              "      <td>0.122691</td>\n",
              "      <td>-0.094183</td>\n",
              "      <td>0.018254</td>\n",
              "      <td>1.000000</td>\n",
              "      <td>0.016255</td>\n",
              "      <td>-0.149636</td>\n",
              "      <td>0.172829</td>\n",
              "      <td>-0.000185</td>\n",
              "      <td>-0.098165</td>\n",
              "      <td>-0.103472</td>\n",
              "      <td>-0.071413</td>\n",
              "    </tr>\n",
              "    <tr>\n",
              "      <th>Loudness..dB..</th>\n",
              "      <td>0.011914</td>\n",
              "      <td>0.017016</td>\n",
              "      <td>0.670794</td>\n",
              "      <td>0.016255</td>\n",
              "      <td>1.000000</td>\n",
              "      <td>0.258652</td>\n",
              "      <td>0.237614</td>\n",
              "      <td>0.219219</td>\n",
              "      <td>-0.138300</td>\n",
              "      <td>-0.272213</td>\n",
              "      <td>-0.043085</td>\n",
              "    </tr>\n",
              "    <tr>\n",
              "      <th>Liveness</th>\n",
              "      <td>0.270659</td>\n",
              "      <td>-0.167286</td>\n",
              "      <td>0.162768</td>\n",
              "      <td>-0.149636</td>\n",
              "      <td>0.258652</td>\n",
              "      <td>1.000000</td>\n",
              "      <td>0.016123</td>\n",
              "      <td>0.131782</td>\n",
              "      <td>0.021328</td>\n",
              "      <td>-0.125286</td>\n",
              "      <td>0.092564</td>\n",
              "    </tr>\n",
              "    <tr>\n",
              "      <th>Valence.</th>\n",
              "      <td>0.137329</td>\n",
              "      <td>-0.011586</td>\n",
              "      <td>0.438820</td>\n",
              "      <td>0.172829</td>\n",
              "      <td>0.237614</td>\n",
              "      <td>0.016123</td>\n",
              "      <td>1.000000</td>\n",
              "      <td>-0.017782</td>\n",
              "      <td>-0.052323</td>\n",
              "      <td>-0.053242</td>\n",
              "      <td>-0.317752</td>\n",
              "    </tr>\n",
              "    <tr>\n",
              "      <th>Length.</th>\n",
              "      <td>-0.065844</td>\n",
              "      <td>-0.139288</td>\n",
              "      <td>0.224677</td>\n",
              "      <td>-0.000185</td>\n",
              "      <td>0.219219</td>\n",
              "      <td>0.131782</td>\n",
              "      <td>-0.017782</td>\n",
              "      <td>1.000000</td>\n",
              "      <td>-0.076293</td>\n",
              "      <td>0.046755</td>\n",
              "      <td>-0.087639</td>\n",
              "    </tr>\n",
              "    <tr>\n",
              "      <th>Acousticness..</th>\n",
              "      <td>-0.015993</td>\n",
              "      <td>-0.031450</td>\n",
              "      <td>-0.339892</td>\n",
              "      <td>-0.098165</td>\n",
              "      <td>-0.138300</td>\n",
              "      <td>0.021328</td>\n",
              "      <td>-0.052323</td>\n",
              "      <td>-0.076293</td>\n",
              "      <td>1.000000</td>\n",
              "      <td>0.008293</td>\n",
              "      <td>-0.034684</td>\n",
              "    </tr>\n",
              "    <tr>\n",
              "      <th>Speechiness.</th>\n",
              "      <td>-0.257506</td>\n",
              "      <td>0.557052</td>\n",
              "      <td>-0.089860</td>\n",
              "      <td>-0.103472</td>\n",
              "      <td>-0.272213</td>\n",
              "      <td>-0.125286</td>\n",
              "      <td>-0.053242</td>\n",
              "      <td>0.046755</td>\n",
              "      <td>0.008293</td>\n",
              "      <td>1.000000</td>\n",
              "      <td>0.238553</td>\n",
              "    </tr>\n",
              "    <tr>\n",
              "      <th>Popularity</th>\n",
              "      <td>-0.160680</td>\n",
              "      <td>0.196097</td>\n",
              "      <td>-0.080295</td>\n",
              "      <td>-0.071413</td>\n",
              "      <td>-0.043085</td>\n",
              "      <td>0.092564</td>\n",
              "      <td>-0.317752</td>\n",
              "      <td>-0.087639</td>\n",
              "      <td>-0.034684</td>\n",
              "      <td>0.238553</td>\n",
              "      <td>1.000000</td>\n",
              "    </tr>\n",
              "  </tbody>\n",
              "</table>\n",
              "</div>\n",
              "      <button class=\"colab-df-convert\" onclick=\"convertToInteractive('df-d3e3ddcd-8c22-4136-872b-8adbedf8745b')\"\n",
              "              title=\"Convert this dataframe to an interactive table.\"\n",
              "              style=\"display:none;\">\n",
              "        \n",
              "  <svg xmlns=\"http://www.w3.org/2000/svg\" height=\"24px\"viewBox=\"0 0 24 24\"\n",
              "       width=\"24px\">\n",
              "    <path d=\"M0 0h24v24H0V0z\" fill=\"none\"/>\n",
              "    <path d=\"M18.56 5.44l.94 2.06.94-2.06 2.06-.94-2.06-.94-.94-2.06-.94 2.06-2.06.94zm-11 1L8.5 8.5l.94-2.06 2.06-.94-2.06-.94L8.5 2.5l-.94 2.06-2.06.94zm10 10l.94 2.06.94-2.06 2.06-.94-2.06-.94-.94-2.06-.94 2.06-2.06.94z\"/><path d=\"M17.41 7.96l-1.37-1.37c-.4-.4-.92-.59-1.43-.59-.52 0-1.04.2-1.43.59L10.3 9.45l-7.72 7.72c-.78.78-.78 2.05 0 2.83L4 21.41c.39.39.9.59 1.41.59.51 0 1.02-.2 1.41-.59l7.78-7.78 2.81-2.81c.8-.78.8-2.07 0-2.86zM5.41 20L4 18.59l7.72-7.72 1.47 1.35L5.41 20z\"/>\n",
              "  </svg>\n",
              "      </button>\n",
              "      \n",
              "  <style>\n",
              "    .colab-df-container {\n",
              "      display:flex;\n",
              "      flex-wrap:wrap;\n",
              "      gap: 12px;\n",
              "    }\n",
              "\n",
              "    .colab-df-convert {\n",
              "      background-color: #E8F0FE;\n",
              "      border: none;\n",
              "      border-radius: 50%;\n",
              "      cursor: pointer;\n",
              "      display: none;\n",
              "      fill: #1967D2;\n",
              "      height: 32px;\n",
              "      padding: 0 0 0 0;\n",
              "      width: 32px;\n",
              "    }\n",
              "\n",
              "    .colab-df-convert:hover {\n",
              "      background-color: #E2EBFA;\n",
              "      box-shadow: 0px 1px 2px rgba(60, 64, 67, 0.3), 0px 1px 3px 1px rgba(60, 64, 67, 0.15);\n",
              "      fill: #174EA6;\n",
              "    }\n",
              "\n",
              "    [theme=dark] .colab-df-convert {\n",
              "      background-color: #3B4455;\n",
              "      fill: #D2E3FC;\n",
              "    }\n",
              "\n",
              "    [theme=dark] .colab-df-convert:hover {\n",
              "      background-color: #434B5C;\n",
              "      box-shadow: 0px 1px 3px 1px rgba(0, 0, 0, 0.15);\n",
              "      filter: drop-shadow(0px 1px 2px rgba(0, 0, 0, 0.3));\n",
              "      fill: #FFFFFF;\n",
              "    }\n",
              "  </style>\n",
              "\n",
              "      <script>\n",
              "        const buttonEl =\n",
              "          document.querySelector('#df-d3e3ddcd-8c22-4136-872b-8adbedf8745b button.colab-df-convert');\n",
              "        buttonEl.style.display =\n",
              "          google.colab.kernel.accessAllowed ? 'block' : 'none';\n",
              "\n",
              "        async function convertToInteractive(key) {\n",
              "          const element = document.querySelector('#df-d3e3ddcd-8c22-4136-872b-8adbedf8745b');\n",
              "          const dataTable =\n",
              "            await google.colab.kernel.invokeFunction('convertToInteractive',\n",
              "                                                     [key], {});\n",
              "          if (!dataTable) return;\n",
              "\n",
              "          const docLinkHtml = 'Like what you see? Visit the ' +\n",
              "            '<a target=\"_blank\" href=https://colab.research.google.com/notebooks/data_table.ipynb>data table notebook</a>'\n",
              "            + ' to learn more about interactive tables.';\n",
              "          element.innerHTML = '';\n",
              "          dataTable['output_type'] = 'display_data';\n",
              "          await google.colab.output.renderOutput(dataTable, element);\n",
              "          const docLink = document.createElement('div');\n",
              "          docLink.innerHTML = docLinkHtml;\n",
              "          element.appendChild(docLink);\n",
              "        }\n",
              "      </script>\n",
              "    </div>\n",
              "  </div>\n",
              "  "
            ]
          },
          "metadata": {},
          "execution_count": 74
        }
      ]
    },
    {
      "cell_type": "markdown",
      "source": [
        "\n",
        "Rianalizzando la correlazione dei dati presenti all'interno del dataset cerchiamo di estrapolare le features più correlate tra di loro.\n",
        "\n",
        "Features correlate tra loro(considero solo valori maggiori di 0.20):\n",
        "- Position -> Liveness\n",
        "- BPM -> Speechiness, Popularity\n",
        "- Energy -> Loudness, Valence, Length\n",
        "- Danceability -> non risulta essere correlato a niente con questi criteri\n",
        "- Loudness -> Energy, Liveness, Valence, Length\n",
        "- Liveness -> Position, Loudness, Acousticness\n",
        "- Valence -> Energy, Loudness, Popularity \n",
        "\n",
        "- (...ripetizione dato che sono correlate)\n",
        "\n",
        "\n",
        "Features scorrelate tra loro(considero solo valori inferiori di -0.20):\n",
        "- Position -> Speechiness\n",
        "- BPM -> Position, Acousticness\n",
        "- Energy -> Acousticness\n",
        "- Danceability -> non risulta essere scorrelato a niente con questi criteri\n",
        "- Loudness -> Speechiness\n",
        "- Liveness -> non risulta essere scorrelato a niente con questi criteri\n",
        "- Valence -> Popularity\n",
        "\n",
        "- (...ripetizione dato che sono correlate)"
      ],
      "metadata": {
        "id": "n8RNxKjY_jgl"
      }
    },
    {
      "cell_type": "code",
      "source": [
        "#per provare a fare un problema di classificazione per rispondere alla domanda: dati BPM LIVENESS SPEECHINESS si puo assegnare piu o meno una popolarità?\n",
        "correlated_features_to_popularity = ['Beats.Per.Minute','Liveness','Speechiness.','Valence.'] \n",
        "sb.heatmap(maxi_all[correlated_features_to_popularity].corr(), annot=True)"
      ],
      "metadata": {
        "outputId": "a1fc58c2-ad8b-4477-c43b-7f3bebaeb543",
        "colab": {
          "base_uri": "https://localhost:8080/",
          "height": 287
        },
        "id": "rdxbPK-pwjDC"
      },
      "execution_count": 75,
      "outputs": [
        {
          "output_type": "execute_result",
          "data": {
            "text/plain": [
              "<matplotlib.axes._subplots.AxesSubplot at 0x7f5beb4e6dd0>"
            ]
          },
          "metadata": {},
          "execution_count": 75
        },
        {
          "output_type": "display_data",
          "data": {
            "text/plain": [
              "<Figure size 432x288 with 2 Axes>"
            ],
            "image/png": "[encoded data removed]"
          },
          "metadata": {
            "needs_background": "light"
          }
        }
      ]
    },
    {
      "cell_type": "code",
      "source": [
        "X = maxi_all[correlated_features_to_popularity]\n",
        "X = np.asarray(X)\n",
        "scaler = preprocessing.StandardScaler().fit(X)\n",
        "X = scaler.transform(X)"
      ],
      "metadata": {
        "id": "lW11MlEfwDgc"
      },
      "execution_count": 76,
      "outputs": []
    },
    {
      "cell_type": "code",
      "source": [
        "kmeans=KMeans(n_clusters=6, random_state=0).fit(X)\n",
        "y=kmeans.labels_\n",
        "for i in range(0,6):\n",
        "    plt.scatter(X[np.where(y==i),0],X[np.where(y==i),1], color = color[i])"
      ],
      "metadata": {
        "colab": {
          "base_uri": "https://localhost:8080/",
          "height": 265
        },
        "id": "GncTEVSIwLAB",
        "outputId": "d491257e-2923-44e4-b2e4-97fa6d8ec9f6"
      },
      "execution_count": 77,
      "outputs": [
        {
          "output_type": "display_data",
          "data": {
            "text/plain": [
              "<Figure size 432x288 with 1 Axes>"
            ],
            "image/png": "[encoded data removed]"
          },
          "metadata": {
            "needs_background": "light"
          }
        }
      ]
    },
    {
      "cell_type": "markdown",
      "source": [
        "Ora verifichiamo se il numero di cluster utilizzato è stato sensato(sembrerebbe di no, analizzando il grafico sopra riportato potrebbe essere pià sensato l'utilizzo di 2/3/4 cluster) con l'utilizzo della silhouette."
      ],
      "metadata": {
        "id": "_5FnCVvhEhie"
      }
    },
    {
      "cell_type": "code",
      "source": [
        "silhouette(X)"
      ],
      "metadata": {
        "colab": {
          "base_uri": "https://localhost:8080/",
          "height": 295
        },
        "id": "JJtAuyZQEhCm",
        "outputId": "cefce20f-5083-48ce-f83a-5550bfbf71e0"
      },
      "execution_count": 78,
      "outputs": [
        {
          "output_type": "display_data",
          "data": {
            "text/plain": [
              "<Figure size 432x288 with 1 Axes>"
            ],
            "image/png": "[encoded data removed]"
          },
          "metadata": {
            "needs_background": "light"
          }
        }
      ]
    },
    {
      "cell_type": "markdown",
      "source": [
        "Grazie a questa visualizzazione della silhouette si evincono le seguenti informazioni: \n",
        "- l'utilizzo di 3 cluster restituisca un coefficente di silhouette maggiore e quindi sia migliore dei 6 precedentemente usati(non è ancora sufficentemente alto per garantire la corretta risoluzione del problema di classificazione).\n",
        "-l'utilizzo di 20 cluster in questo caso avrebbe restituito cluster completamente privi di informazioni e di utilità(simili a quelli venuti fuori precedentemente)."
      ],
      "metadata": {
        "id": "8wMlk7XiE9hJ"
      }
    },
    {
      "cell_type": "markdown",
      "source": [
        "Rieffettuando quindi il KMeans con n° di cluster = 3, otteniamo 3 gruppi ben distinti anche se alcuni punti ancora si intersecano. \n",
        "\n",
        "Riproviamo con 2 per verificare il perchè questo sia migliore anche secondo l'analisi della silhouette:"
      ],
      "metadata": {
        "id": "44xkEi5LHzGT"
      }
    },
    {
      "cell_type": "code",
      "source": [
        "kmeans=KMeans(n_clusters=2, random_state=0).fit(X)\n",
        "y=kmeans.labels_\n",
        "for i in range(0,2):\n",
        "    plt.scatter(X[np.where(y==i),0],X[np.where(y==i),1], color = color[i])"
      ],
      "metadata": {
        "id": "kVRfdwH9IPMi",
        "outputId": "aacd3a50-a9f2-4aa0-874d-c8e61b7bebea",
        "colab": {
          "base_uri": "https://localhost:8080/",
          "height": 265
        }
      },
      "execution_count": 79,
      "outputs": [
        {
          "output_type": "display_data",
          "data": {
            "text/plain": [
              "<Figure size 432x288 with 1 Axes>"
            ],
            "image/png": "[encoded data removed]"
          },
          "metadata": {
            "needs_background": "light"
          }
        }
      ]
    },
    {
      "cell_type": "code",
      "source": [
        "kmeans=KMeans(n_clusters=3, random_state=0).fit(X)\n",
        "y=kmeans.labels_\n",
        "for i in range(0,3):\n",
        "    plt.scatter(X[np.where(y==i),0],X[np.where(y==i),1], color = color[i])"
      ],
      "metadata": {
        "colab": {
          "base_uri": "https://localhost:8080/",
          "height": 265
        },
        "id": "EP-2AbPdGbrT",
        "outputId": "231f96e4-4bbd-4842-a7f3-9b138518e7db"
      },
      "execution_count": 80,
      "outputs": [
        {
          "output_type": "display_data",
          "data": {
            "text/plain": [
              "<Figure size 432x288 with 1 Axes>"
            ],
            "image/png": "[encoded data removed]"
          },
          "metadata": {
            "needs_background": "light"
          }
        }
      ]
    },
    {
      "cell_type": "markdown",
      "source": [
        "I punti risultano comunque intrecciarsi probabilmente dato dal fatto è una scelta casuale ma non troppo quella dei centroidi dei cluster e quindi la visualizzazione risulta comunque quella sopra riportata."
      ],
      "metadata": {
        "id": "uOixCyo9IZjR"
      }
    },
    {
      "cell_type": "markdown",
      "source": [
        "La variabile di output del nostro dataset è la popolarità di una canzone. Quindi, una buona idea per valutare il nostro clustering è di visualizzare con un opportuna modalità, la variabile di poplarità in base ai cluster trovati.\n",
        "\n",
        "1. Prima di tutto, creiamo una colonna cluster nel dataframe, riportando i cluster stimati dal kmeans;\n",
        "  - quindi dobbiamo predire X usando il kmeans \n",
        "2. Visualizziamo il median_house_value in base al cluster. \n"
      ],
      "metadata": {
        "id": "MJIcmX9EHfX6"
      }
    },
    {
      "cell_type": "code",
      "source": [
        "maxi_all[\"Clusters\"]=kmeans.predict(X)\n",
        "maxi_all.boxplot(column='Popularity',by='Clusters')"
      ],
      "metadata": {
        "colab": {
          "base_uri": "https://localhost:8080/",
          "height": 411
        },
        "id": "fRCd7G4KHkZA",
        "outputId": "470dd066-e6f4-48ae-e211-14326b4f444c"
      },
      "execution_count": 81,
      "outputs": [
        {
          "output_type": "stream",
          "name": "stderr",
          "text": [
            "/usr/local/lib/python3.7/dist-packages/matplotlib/cbook/__init__.py:1376: VisibleDeprecationWarning:\n",
            "\n",
            "Creating an ndarray from ragged nested sequences (which is a list-or-tuple of lists-or-tuples-or ndarrays with different lengths or shapes) is deprecated. If you meant to do this, you must specify 'dtype=object' when creating the ndarray.\n",
            "\n"
          ]
        },
        {
          "output_type": "execute_result",
          "data": {
            "text/plain": [
              "<matplotlib.axes._subplots.AxesSubplot at 0x7f5beb18f3d0>"
            ]
          },
          "metadata": {},
          "execution_count": 81
        },
        {
          "output_type": "display_data",
          "data": {
            "text/plain": [
              "<Figure size 432x288 with 1 Axes>"
            ],
            "image/png": "[encoded data removed]"
          },
          "metadata": {
            "needs_background": "light"
          }
        }
      ]
    },
    {
      "cell_type": "markdown",
      "source": [
        "Siamo riusciti così a separare i nostri dati rispetto a questa variabile di popolarità per poter essere restituita/assegnata a seconda del cluster al quale la canzone con quelle determinate features viene associata."
      ],
      "metadata": {
        "id": "rYiiVMWhJlSx"
      }
    },
    {
      "cell_type": "markdown",
      "source": [
        "**Studio della correlazione macro_genere per macro_genere**\n",
        "\n",
        "Andando ad analizzare i singoli macrogeneri e la correlazione dei dati al loro interno ci aspettiamo di ottenere correlazioni più accurate(valori più alti(negativi e/o positivi che siano)) e quindi così provare a riformulare nel modo analogo al precedente il problema di classificazione cercando di clusterizzare per riuscire a:\n",
        "- prevedere con maggior successo la popolarità di una canzone che vuole essere lanciata e che appartiene ad un certo macro_genere(prima veniva fatto senza questa limitazione). "
      ],
      "metadata": {
        "id": "A_vZMdWZCCNq"
      }
    },
    {
      "cell_type": "markdown",
      "source": [
        "Prendiamo in esame i tre macro_generi più presenti in classificca, con il miglior piazzamento medio e con la miglior popolarità media che, grazie agli studi precedentemente effettuati, sono risultati essere:\n",
        "- rap\n",
        "- dance\n",
        "- pop"
      ],
      "metadata": {
        "id": "zgPwN3c8C7Ok"
      }
    },
    {
      "cell_type": "code",
      "source": [
        "maxi_genere_rap.corr()"
      ],
      "metadata": {
        "id": "rlS7BZNH_dHl",
        "outputId": "16a5f11d-02ef-45a2-ed8e-a521aa24d914",
        "colab": {
          "base_uri": "https://localhost:8080/",
          "height": 394
        }
      },
      "execution_count": 82,
      "outputs": [
        {
          "output_type": "execute_result",
          "data": {
            "text/plain": [
              "                  Position  Beats.Per.Minute    Energy  Danceability  \\\n",
              "Position          1.000000         -0.428444 -0.700866      0.117101   \n",
              "Beats.Per.Minute -0.428444          1.000000  0.868827     -0.226612   \n",
              "Energy           -0.700866          0.868827  1.000000     -0.231762   \n",
              "Danceability      0.117101         -0.226612 -0.231762      1.000000   \n",
              "Loudness..dB..   -0.544207          0.134963  0.438923     -0.793182   \n",
              "Liveness          0.103864          0.213027  0.425642     -0.193199   \n",
              "Valence.          0.610904         -0.882463 -0.884150      0.587026   \n",
              "Length.          -0.566017         -0.441950 -0.005475     -0.167118   \n",
              "Acousticness..    0.432371         -0.658215 -0.614006     -0.562058   \n",
              "Speechiness.     -0.434681          0.720327  0.470422      0.165762   \n",
              "Popularity       -0.185617          0.254496  0.156836     -0.930568   \n",
              "\n",
              "                  Loudness..dB..  Liveness  Valence.   Length.  \\\n",
              "Position               -0.544207  0.103864  0.610904 -0.566017   \n",
              "Beats.Per.Minute        0.134963  0.213027 -0.882463 -0.441950   \n",
              "Energy                  0.438923  0.425642 -0.884150 -0.005475   \n",
              "Danceability           -0.793182 -0.193199  0.587026 -0.167118   \n",
              "Loudness..dB..          1.000000  0.324967 -0.571800  0.650243   \n",
              "Liveness                0.324967  1.000000 -0.228909 -0.046040   \n",
              "Valence.               -0.571800 -0.228909  1.000000  0.066768   \n",
              "Length.                 0.650243 -0.046040  0.066768  1.000000   \n",
              "Acousticness..          0.385884  0.003453  0.336410  0.338240   \n",
              "Speechiness.           -0.274290 -0.481755 -0.515328 -0.407180   \n",
              "Popularity              0.657794 -0.162866 -0.582914  0.114881   \n",
              "\n",
              "                  Acousticness..  Speechiness.  Popularity  \n",
              "Position                0.432371     -0.434681   -0.185617  \n",
              "Beats.Per.Minute       -0.658215      0.720327    0.254496  \n",
              "Energy                 -0.614006      0.470422    0.156836  \n",
              "Danceability           -0.562058      0.165762   -0.930568  \n",
              "Loudness..dB..          0.385884     -0.274290    0.657794  \n",
              "Liveness                0.003453     -0.481755   -0.162866  \n",
              "Valence.                0.336410     -0.515328   -0.582914  \n",
              "Length.                 0.338240     -0.407180    0.114881  \n",
              "Acousticness..          1.000000     -0.744522    0.477082  \n",
              "Speechiness.           -0.744522      1.000000    0.100237  \n",
              "Popularity              0.477082      0.100237    1.000000  "
            ],
            "text/html": [
              "\n",
              "  <div id=\"df-82b2ebc8-16dd-4a01-a684-36f3742f445e\">\n",
              "    <div class=\"colab-df-container\">\n",
              "      <div>\n",
              "<style scoped>\n",
              "    .dataframe tbody tr th:only-of-type {\n",
              "        vertical-align: middle;\n",
              "    }\n",
              "\n",
              "    .dataframe tbody tr th {\n",
              "        vertical-align: top;\n",
              "    }\n",
              "\n",
              "    .dataframe thead th {\n",
              "        text-align: right;\n",
              "    }\n",
              "</style>\n",
              "<table border=\"1\" class=\"dataframe\">\n",
              "  <thead>\n",
              "    <tr style=\"text-align: right;\">\n",
              "      <th></th>\n",
              "      <th>Position</th>\n",
              "      <th>Beats.Per.Minute</th>\n",
              "      <th>Energy</th>\n",
              "      <th>Danceability</th>\n",
              "      <th>Loudness..dB..</th>\n",
              "      <th>Liveness</th>\n",
              "      <th>Valence.</th>\n",
              "      <th>Length.</th>\n",
              "      <th>Acousticness..</th>\n",
              "      <th>Speechiness.</th>\n",
              "      <th>Popularity</th>\n",
              "    </tr>\n",
              "  </thead>\n",
              "  <tbody>\n",
              "    <tr>\n",
              "      <th>Position</th>\n",
              "      <td>1.000000</td>\n",
              "      <td>-0.428444</td>\n",
              "      <td>-0.700866</td>\n",
              "      <td>0.117101</td>\n",
              "      <td>-0.544207</td>\n",
              "      <td>0.103864</td>\n",
              "      <td>0.610904</td>\n",
              "      <td>-0.566017</td>\n",
              "      <td>0.432371</td>\n",
              "      <td>-0.434681</td>\n",
              "      <td>-0.185617</td>\n",
              "    </tr>\n",
              "    <tr>\n",
              "      <th>Beats.Per.Minute</th>\n",
              "      <td>-0.428444</td>\n",
              "      <td>1.000000</td>\n",
              "      <td>0.868827</td>\n",
              "      <td>-0.226612</td>\n",
              "      <td>0.134963</td>\n",
              "      <td>0.213027</td>\n",
              "      <td>-0.882463</td>\n",
              "      <td>-0.441950</td>\n",
              "      <td>-0.658215</td>\n",
              "      <td>0.720327</td>\n",
              "      <td>0.254496</td>\n",
              "    </tr>\n",
              "    <tr>\n",
              "      <th>Energy</th>\n",
              "      <td>-0.700866</td>\n",
              "      <td>0.868827</td>\n",
              "      <td>1.000000</td>\n",
              "      <td>-0.231762</td>\n",
              "      <td>0.438923</td>\n",
              "      <td>0.425642</td>\n",
              "      <td>-0.884150</td>\n",
              "      <td>-0.005475</td>\n",
              "      <td>-0.614006</td>\n",
              "      <td>0.470422</td>\n",
              "      <td>0.156836</td>\n",
              "    </tr>\n",
              "    <tr>\n",
              "      <th>Danceability</th>\n",
              "      <td>0.117101</td>\n",
              "      <td>-0.226612</td>\n",
              "      <td>-0.231762</td>\n",
              "      <td>1.000000</td>\n",
              "      <td>-0.793182</td>\n",
              "      <td>-0.193199</td>\n",
              "      <td>0.587026</td>\n",
              "      <td>-0.167118</td>\n",
              "      <td>-0.562058</td>\n",
              "      <td>0.165762</td>\n",
              "      <td>-0.930568</td>\n",
              "    </tr>\n",
              "    <tr>\n",
              "      <th>Loudness..dB..</th>\n",
              "      <td>-0.544207</td>\n",
              "      <td>0.134963</td>\n",
              "      <td>0.438923</td>\n",
              "      <td>-0.793182</td>\n",
              "      <td>1.000000</td>\n",
              "      <td>0.324967</td>\n",
              "      <td>-0.571800</td>\n",
              "      <td>0.650243</td>\n",
              "      <td>0.385884</td>\n",
              "      <td>-0.274290</td>\n",
              "      <td>0.657794</td>\n",
              "    </tr>\n",
              "    <tr>\n",
              "      <th>Liveness</th>\n",
              "      <td>0.103864</td>\n",
              "      <td>0.213027</td>\n",
              "      <td>0.425642</td>\n",
              "      <td>-0.193199</td>\n",
              "      <td>0.324967</td>\n",
              "      <td>1.000000</td>\n",
              "      <td>-0.228909</td>\n",
              "      <td>-0.046040</td>\n",
              "      <td>0.003453</td>\n",
              "      <td>-0.481755</td>\n",
              "      <td>-0.162866</td>\n",
              "    </tr>\n",
              "    <tr>\n",
              "      <th>Valence.</th>\n",
              "      <td>0.610904</td>\n",
              "      <td>-0.882463</td>\n",
              "      <td>-0.884150</td>\n",
              "      <td>0.587026</td>\n",
              "      <td>-0.571800</td>\n",
              "      <td>-0.228909</td>\n",
              "      <td>1.000000</td>\n",
              "      <td>0.066768</td>\n",
              "      <td>0.336410</td>\n",
              "      <td>-0.515328</td>\n",
              "      <td>-0.582914</td>\n",
              "    </tr>\n",
              "    <tr>\n",
              "      <th>Length.</th>\n",
              "      <td>-0.566017</td>\n",
              "      <td>-0.441950</td>\n",
              "      <td>-0.005475</td>\n",
              "      <td>-0.167118</td>\n",
              "      <td>0.650243</td>\n",
              "      <td>-0.046040</td>\n",
              "      <td>0.066768</td>\n",
              "      <td>1.000000</td>\n",
              "      <td>0.338240</td>\n",
              "      <td>-0.407180</td>\n",
              "      <td>0.114881</td>\n",
              "    </tr>\n",
              "    <tr>\n",
              "      <th>Acousticness..</th>\n",
              "      <td>0.432371</td>\n",
              "      <td>-0.658215</td>\n",
              "      <td>-0.614006</td>\n",
              "      <td>-0.562058</td>\n",
              "      <td>0.385884</td>\n",
              "      <td>0.003453</td>\n",
              "      <td>0.336410</td>\n",
              "      <td>0.338240</td>\n",
              "      <td>1.000000</td>\n",
              "      <td>-0.744522</td>\n",
              "      <td>0.477082</td>\n",
              "    </tr>\n",
              "    <tr>\n",
              "      <th>Speechiness.</th>\n",
              "      <td>-0.434681</td>\n",
              "      <td>0.720327</td>\n",
              "      <td>0.470422</td>\n",
              "      <td>0.165762</td>\n",
              "      <td>-0.274290</td>\n",
              "      <td>-0.481755</td>\n",
              "      <td>-0.515328</td>\n",
              "      <td>-0.407180</td>\n",
              "      <td>-0.744522</td>\n",
              "      <td>1.000000</td>\n",
              "      <td>0.100237</td>\n",
              "    </tr>\n",
              "    <tr>\n",
              "      <th>Popularity</th>\n",
              "      <td>-0.185617</td>\n",
              "      <td>0.254496</td>\n",
              "      <td>0.156836</td>\n",
              "      <td>-0.930568</td>\n",
              "      <td>0.657794</td>\n",
              "      <td>-0.162866</td>\n",
              "      <td>-0.582914</td>\n",
              "      <td>0.114881</td>\n",
              "      <td>0.477082</td>\n",
              "      <td>0.100237</td>\n",
              "      <td>1.000000</td>\n",
              "    </tr>\n",
              "  </tbody>\n",
              "</table>\n",
              "</div>\n",
              "      <button class=\"colab-df-convert\" onclick=\"convertToInteractive('df-82b2ebc8-16dd-4a01-a684-36f3742f445e')\"\n",
              "              title=\"Convert this dataframe to an interactive table.\"\n",
              "              style=\"display:none;\">\n",
              "        \n",
              "  <svg xmlns=\"http://www.w3.org/2000/svg\" height=\"24px\"viewBox=\"0 0 24 24\"\n",
              "       width=\"24px\">\n",
              "    <path d=\"M0 0h24v24H0V0z\" fill=\"none\"/>\n",
              "    <path d=\"M18.56 5.44l.94 2.06.94-2.06 2.06-.94-2.06-.94-.94-2.06-.94 2.06-2.06.94zm-11 1L8.5 8.5l.94-2.06 2.06-.94-2.06-.94L8.5 2.5l-.94 2.06-2.06.94zm10 10l.94 2.06.94-2.06 2.06-.94-2.06-.94-.94-2.06-.94 2.06-2.06.94z\"/><path d=\"M17.41 7.96l-1.37-1.37c-.4-.4-.92-.59-1.43-.59-.52 0-1.04.2-1.43.59L10.3 9.45l-7.72 7.72c-.78.78-.78 2.05 0 2.83L4 21.41c.39.39.9.59 1.41.59.51 0 1.02-.2 1.41-.59l7.78-7.78 2.81-2.81c.8-.78.8-2.07 0-2.86zM5.41 20L4 18.59l7.72-7.72 1.47 1.35L5.41 20z\"/>\n",
              "  </svg>\n",
              "      </button>\n",
              "      \n",
              "  <style>\n",
              "    .colab-df-container {\n",
              "      display:flex;\n",
              "      flex-wrap:wrap;\n",
              "      gap: 12px;\n",
              "    }\n",
              "\n",
              "    .colab-df-convert {\n",
              "      background-color: #E8F0FE;\n",
              "      border: none;\n",
              "      border-radius: 50%;\n",
              "      cursor: pointer;\n",
              "      display: none;\n",
              "      fill: #1967D2;\n",
              "      height: 32px;\n",
              "      padding: 0 0 0 0;\n",
              "      width: 32px;\n",
              "    }\n",
              "\n",
              "    .colab-df-convert:hover {\n",
              "      background-color: #E2EBFA;\n",
              "      box-shadow: 0px 1px 2px rgba(60, 64, 67, 0.3), 0px 1px 3px 1px rgba(60, 64, 67, 0.15);\n",
              "      fill: #174EA6;\n",
              "    }\n",
              "\n",
              "    [theme=dark] .colab-df-convert {\n",
              "      background-color: #3B4455;\n",
              "      fill: #D2E3FC;\n",
              "    }\n",
              "\n",
              "    [theme=dark] .colab-df-convert:hover {\n",
              "      background-color: #434B5C;\n",
              "      box-shadow: 0px 1px 3px 1px rgba(0, 0, 0, 0.15);\n",
              "      filter: drop-shadow(0px 1px 2px rgba(0, 0, 0, 0.3));\n",
              "      fill: #FFFFFF;\n",
              "    }\n",
              "  </style>\n",
              "\n",
              "      <script>\n",
              "        const buttonEl =\n",
              "          document.querySelector('#df-82b2ebc8-16dd-4a01-a684-36f3742f445e button.colab-df-convert');\n",
              "        buttonEl.style.display =\n",
              "          google.colab.kernel.accessAllowed ? 'block' : 'none';\n",
              "\n",
              "        async function convertToInteractive(key) {\n",
              "          const element = document.querySelector('#df-82b2ebc8-16dd-4a01-a684-36f3742f445e');\n",
              "          const dataTable =\n",
              "            await google.colab.kernel.invokeFunction('convertToInteractive',\n",
              "                                                     [key], {});\n",
              "          if (!dataTable) return;\n",
              "\n",
              "          const docLinkHtml = 'Like what you see? Visit the ' +\n",
              "            '<a target=\"_blank\" href=https://colab.research.google.com/notebooks/data_table.ipynb>data table notebook</a>'\n",
              "            + ' to learn more about interactive tables.';\n",
              "          element.innerHTML = '';\n",
              "          dataTable['output_type'] = 'display_data';\n",
              "          await google.colab.output.renderOutput(dataTable, element);\n",
              "          const docLink = document.createElement('div');\n",
              "          docLink.innerHTML = docLinkHtml;\n",
              "          element.appendChild(docLink);\n",
              "        }\n",
              "      </script>\n",
              "    </div>\n",
              "  </div>\n",
              "  "
            ]
          },
          "metadata": {},
          "execution_count": 82
        }
      ]
    },
    {
      "cell_type": "markdown",
      "source": [
        "Estrapoliamo subito le features che sono più correlate alla Popolarità e procediamo in maniera del tutto analoga alla precedente solo macro genere per macro genere:\n",
        "- BPM, Loudness, Acousticness \n",
        "\n",
        "Estrapoliamo subito le features che sono più scorrelate alla Popolarità e procediamo in maniera del tutto analoga alla precedente solo macro genere per macro genere e proviamo a vedere se ci si può basare su una scorrelazione forte per provare a prevedere comunque:\n",
        "- Danceability, Valence"
      ],
      "metadata": {
        "id": "TcXwv6y9KaN5"
      }
    },
    {
      "cell_type": "code",
      "source": [
        "#per provare a fare un problema di classificazione per rispondere alla domanda: dati BPM LIVENESS SPEECHINESS si puo assegnare piu o meno una popolarità?\n",
        "correlated_features_to_popularity_for_rap = ['Beats.Per.Minute','Loudness..dB..','Acousticness..'] \n",
        "scorrelated_features_to_popularity_for_rap = ['Danceability','Valence.'] \n",
        "#sb.heatmap(maxi_all[correlated_features_to_popularity].corr(), annot=True)"
      ],
      "metadata": {
        "id": "ECXs_N08UYxP"
      },
      "execution_count": 83,
      "outputs": []
    },
    {
      "cell_type": "code",
      "source": [
        "X = maxi_genere_rap[correlated_features_to_popularity_for_rap]\n",
        "X = np.asarray(X)\n",
        "scaler = preprocessing.StandardScaler().fit(X)\n",
        "X = scaler.transform(X)\n",
        "Z = maxi_genere_rap[scorrelated_features_to_popularity_for_rap]\n",
        "Z = np.asarray(Z)\n",
        "scaler = preprocessing.StandardScaler().fit(Z)\n",
        "Z = scaler.transform(Z)"
      ],
      "metadata": {
        "id": "NQI2_Uw1UYxT"
      },
      "execution_count": 84,
      "outputs": []
    },
    {
      "cell_type": "code",
      "source": [
        "kmeans=KMeans(n_clusters=2, random_state=0).fit(X)\n",
        "y=kmeans.labels_\n",
        "for i in range(0,2):\n",
        "    plt.scatter(X[np.where(y==i),0],X[np.where(y==i),1], color = color[i])"
      ],
      "metadata": {
        "colab": {
          "base_uri": "https://localhost:8080/",
          "height": 265
        },
        "outputId": "6ef6d435-a6a9-4635-b07a-4d4dcd749188",
        "id": "hT09GAieUYxU"
      },
      "execution_count": 85,
      "outputs": [
        {
          "output_type": "display_data",
          "data": {
            "text/plain": [
              "<Figure size 432x288 with 1 Axes>"
            ],
            "image/png": "[encoded data removed]"
          },
          "metadata": {
            "needs_background": "light"
          }
        }
      ]
    },
    {
      "cell_type": "code",
      "source": [
        "maxi_genere_rap[\"Clusters\"]=kmeans.predict(X)\n",
        "maxi_genere_rap.boxplot(column='Popularity',by='Clusters')"
      ],
      "metadata": {
        "outputId": "a4a479f2-b9c4-44d0-e779-e3da00a5a503",
        "colab": {
          "base_uri": "https://localhost:8080/",
          "height": 411
        },
        "id": "TH3XRl6GUYxY"
      },
      "execution_count": 86,
      "outputs": [
        {
          "output_type": "stream",
          "name": "stderr",
          "text": [
            "/usr/local/lib/python3.7/dist-packages/matplotlib/cbook/__init__.py:1376: VisibleDeprecationWarning:\n",
            "\n",
            "Creating an ndarray from ragged nested sequences (which is a list-or-tuple of lists-or-tuples-or ndarrays with different lengths or shapes) is deprecated. If you meant to do this, you must specify 'dtype=object' when creating the ndarray.\n",
            "\n"
          ]
        },
        {
          "output_type": "execute_result",
          "data": {
            "text/plain": [
              "<matplotlib.axes._subplots.AxesSubplot at 0x7f5bea8a53d0>"
            ]
          },
          "metadata": {},
          "execution_count": 86
        },
        {
          "output_type": "display_data",
          "data": {
            "text/plain": [
              "<Figure size 432x288 with 1 Axes>"
            ],
            "image/png": "[encoded data removed]"
          },
          "metadata": {
            "needs_background": "light"
          }
        }
      ]
    },
    {
      "cell_type": "markdown",
      "source": [
        "Con le features scorrelate."
      ],
      "metadata": {
        "id": "9DwZVu1FVVna"
      }
    },
    {
      "cell_type": "code",
      "source": [
        "kmeans=KMeans(n_clusters=2, random_state=0).fit(Z)\n",
        "y=kmeans.labels_\n",
        "for i in range(0,2):\n",
        "    plt.scatter(Z[np.where(y==i),0],Z[np.where(y==i),1], color = color[i])"
      ],
      "metadata": {
        "id": "g3CntW2dVN8e",
        "outputId": "1f621342-3667-4c0b-e008-982f429b74fe",
        "colab": {
          "base_uri": "https://localhost:8080/",
          "height": 265
        }
      },
      "execution_count": 87,
      "outputs": [
        {
          "output_type": "display_data",
          "data": {
            "text/plain": [
              "<Figure size 432x288 with 1 Axes>"
            ],
            "image/png": "[encoded data removed]"
          },
          "metadata": {
            "needs_background": "light"
          }
        }
      ]
    },
    {
      "cell_type": "code",
      "source": [
        "maxi_genere_rap[\"Clusters\"]=kmeans.predict(Z)\n",
        "maxi_genere_rap.boxplot(column='Popularity',by='Clusters')"
      ],
      "metadata": {
        "id": "TIZ2N6ZMaSS2",
        "outputId": "03be0084-e449-4b59-e8f9-af36b6a2e057",
        "colab": {
          "base_uri": "https://localhost:8080/",
          "height": 411
        }
      },
      "execution_count": 88,
      "outputs": [
        {
          "output_type": "stream",
          "name": "stderr",
          "text": [
            "/usr/local/lib/python3.7/dist-packages/matplotlib/cbook/__init__.py:1376: VisibleDeprecationWarning:\n",
            "\n",
            "Creating an ndarray from ragged nested sequences (which is a list-or-tuple of lists-or-tuples-or ndarrays with different lengths or shapes) is deprecated. If you meant to do this, you must specify 'dtype=object' when creating the ndarray.\n",
            "\n"
          ]
        },
        {
          "output_type": "execute_result",
          "data": {
            "text/plain": [
              "<matplotlib.axes._subplots.AxesSubplot at 0x7f5be87b0450>"
            ]
          },
          "metadata": {},
          "execution_count": 88
        },
        {
          "output_type": "display_data",
          "data": {
            "text/plain": [
              "<Figure size 432x288 with 1 Axes>"
            ],
            "image/png": "[encoded data removed]"
          },
          "metadata": {
            "needs_background": "light"
          }
        }
      ]
    },
    {
      "cell_type": "markdown",
      "source": [
        "Riusciamo quindi a dedurre dal confronto di questi due box plot che:\n",
        "- utilizzando le due features che risultano più scorrelate(che hanno anche valori maggiori di scorrelazione rispetto a quelle correlate) si arriva a distinguere in due cluster in modo migliore e quindi a predirre con più accuratezza un'ipotetica popolarità media di una nuova canzone rap."
      ],
      "metadata": {
        "id": "v7ZbQYCbabUR"
      }
    },
    {
      "cell_type": "markdown",
      "source": [
        "Provare a vedere quindi la stessa cosa con gli altri due macro generi menzionati e arrivare ad ulteriori conclusioni!"
      ],
      "metadata": {
        "id": "-5xUeeSabAz4"
      }
    }
  ]
}